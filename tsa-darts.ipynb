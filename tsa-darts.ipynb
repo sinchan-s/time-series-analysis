{
 "cells": [
  {
   "cell_type": "code",
   "execution_count": 1,
   "metadata": {
    "collapsed": true
   },
   "outputs": [
    {
     "name": "stdout",
     "output_type": "stream",
     "text": [
      "Collecting darts\n",
      "  Downloading darts-0.22.0-py3-none-any.whl (451 kB)\n",
      "     ------------------------------------ 451.9/451.9 kB 428.4 kB/s eta 0:00:00\n",
      "Collecting pytorch-lightning>=1.5.0\n",
      "  Downloading pytorch_lightning-1.8.3.post1-py3-none-any.whl (798 kB)\n",
      "     ------------------------------------ 798.9/798.9 kB 664.5 kB/s eta 0:00:00\n",
      "Collecting lightgbm>=2.2.3\n",
      "  Downloading lightgbm-3.3.3-py3-none-win_amd64.whl (1.0 MB)\n",
      "     ---------------------------------------- 1.0/1.0 MB 669.1 kB/s eta 0:00:00\n",
      "Requirement already satisfied: scipy>=1.3.2 in c:\\python310\\lib\\site-packages (from darts) (1.8.0)\n",
      "Requirement already satisfied: prophet>=1.1.1 in c:\\python310\\lib\\site-packages (from darts) (1.1.1)\n",
      "Collecting statsforecast>=1.0.0\n",
      "  Downloading statsforecast-1.4.0-py3-none-any.whl (91 kB)\n",
      "     ---------------------------------------- 92.0/92.0 kB 1.0 MB/s eta 0:00:00\n",
      "Requirement already satisfied: tqdm>=4.60.0 in c:\\python310\\lib\\site-packages (from darts) (4.63.1)\n",
      "Requirement already satisfied: numpy>=1.19.0 in c:\\python310\\lib\\site-packages (from darts) (1.21.4)\n",
      "Collecting nfoursid>=1.0.0\n",
      "  Downloading nfoursid-1.0.1-py3-none-any.whl (16 kB)Note: you may need to restart the kernel to use updated packages.\n"
     ]
    },
    {
     "name": "stderr",
     "output_type": "stream",
     "text": [
      "WARNING: Ignoring invalid distribution -treamlit (c:\\python310\\lib\\site-packages)\n",
      "WARNING: Ignoring invalid distribution -treamlit (c:\\python310\\lib\\site-packages)\n",
      "WARNING: Ignoring invalid distribution -treamlit (c:\\python310\\lib\\site-packages)\n",
      "    WARNING: Ignoring invalid distribution -treamlit (c:\\python310\\lib\\site-packages)\n",
      "    WARNING: Ignoring invalid distribution -treamlit (c:\\python310\\lib\\site-packages)\n",
      "WARNING: Ignoring invalid distribution -treamlit (c:\\python310\\lib\\site-packages)\n",
      "WARNING: Ignoring invalid distribution -treamlit (c:\\python310\\lib\\site-packages)\n",
      "WARNING: Ignoring invalid distribution -treamlit (c:\\python310\\lib\\site-packages)\n",
      "WARNING: Ignoring invalid distribution -treamlit (c:\\python310\\lib\\site-packages)\n",
      "WARNING: Ignoring invalid distribution -treamlit (c:\\python310\\lib\\site-packages)\n",
      "WARNING: Ignoring invalid distribution -treamlit (c:\\python310\\lib\\site-packages)\n",
      "WARNING: Ignoring invalid distribution -treamlit (c:\\python310\\lib\\site-packages)\n",
      "WARNING: Ignoring invalid distribution -treamlit (c:\\python310\\lib\\site-packages)\n",
      "WARNING: Ignoring invalid distribution -treamlit (c:\\python310\\lib\\site-packages)\n",
      "WARNING: Ignoring invalid distribution -treamlit (c:\\python310\\lib\\site-packages)\n",
      "WARNING: Ignoring invalid distribution -treamlit (c:\\python310\\lib\\site-packages)\n",
      "WARNING: Ignoring invalid distribution -treamlit (c:\\python310\\lib\\site-packages)\n",
      "WARNING: Ignoring invalid distribution -treamlit (c:\\python310\\lib\\site-packages)\n",
      "WARNING: Ignoring invalid distribution -treamlit (c:\\python310\\lib\\site-packages)\n",
      "WARNING: Ignoring invalid distribution -treamlit (c:\\python310\\lib\\site-packages)\n",
      "WARNING: Ignoring invalid distribution -treamlit (c:\\python310\\lib\\site-packages)\n",
      "WARNING: Ignoring invalid distribution -treamlit (c:\\python310\\lib\\site-packages)\n",
      "WARNING: Ignoring invalid distribution -treamlit (c:\\python310\\lib\\site-packages)\n",
      "WARNING: Ignoring invalid distribution -treamlit (c:\\python310\\lib\\site-packages)\n",
      "WARNING: Ignoring invalid distribution -treamlit (c:\\python310\\lib\\site-packages)\n",
      "WARNING: Ignoring invalid distribution -treamlit (c:\\python310\\lib\\site-packages)\n",
      "WARNING: Ignoring invalid distribution -treamlit (c:\\python310\\lib\\site-packages)\n",
      "WARNING: Ignoring invalid distribution -treamlit (c:\\python310\\lib\\site-packages)\n",
      "WARNING: Ignoring invalid distribution -treamlit (c:\\python310\\lib\\site-packages)\n",
      "WARNING: Ignoring invalid distribution -treamlit (c:\\python310\\lib\\site-packages)\n",
      "WARNING: Ignoring invalid distribution -treamlit (c:\\python310\\lib\\site-packages)\n",
      "WARNING: Ignoring invalid distribution -treamlit (c:\\python310\\lib\\site-packages)\n",
      "WARNING: Ignoring invalid distribution -treamlit (c:\\python310\\lib\\site-packages)\n",
      "WARNING: Ignoring invalid distribution -treamlit (c:\\python310\\lib\\site-packages)\n",
      "WARNING: Ignoring invalid distribution -treamlit (c:\\python310\\lib\\site-packages)\n",
      "WARNING: Ignoring invalid distribution -treamlit (c:\\python310\\lib\\site-packages)\n",
      "WARNING: Ignoring invalid distribution -treamlit (c:\\python310\\lib\\site-packages)\n",
      "WARNING: Ignoring invalid distribution -treamlit (c:\\python310\\lib\\site-packages)\n"
     ]
    },
    {
     "name": "stdout",
     "output_type": "stream",
     "text": [
      "\n",
      "Requirement already satisfied: ipython>=5.0.0 in c:\\python310\\lib\\site-packages (from darts) (8.0.1)\n",
      "Requirement already satisfied: joblib>=0.16.0 in c:\\python310\\lib\\site-packages (from darts) (1.0.1)\n",
      "Requirement already satisfied: pandas>=1.0.5 in c:\\python310\\lib\\site-packages (from darts) (1.3.4)\n",
      "Requirement already satisfied: statsmodels>=0.13.0 in c:\\python310\\lib\\site-packages (from darts) (0.13.2)\n",
      "Collecting xarray>=0.17.0\n",
      "  Downloading xarray-2022.12.0-py3-none-any.whl (969 kB)\n",
      "     ------------------------------------ 970.0/970.0 kB 749.2 kB/s eta 0:00:00\n",
      "Collecting shap>=0.40.0\n",
      "  Downloading shap-0.41.0-cp310-cp310-win_amd64.whl (435 kB)\n",
      "     -------------------------------------- 435.6/435.6 kB 1.0 MB/s eta 0:00:00\n",
      "Collecting catboost>=1.0.6\n",
      "  Downloading catboost-1.1.1-cp310-none-win_amd64.whl (73.9 MB)\n",
      "     ---------------------------------------- 73.9/73.9 MB 1.5 MB/s eta 0:00:00\n",
      "Collecting tbats>=1.1.0\n",
      "  Downloading tbats-1.1.1-py3-none-any.whl (43 kB)\n",
      "     ---------------------------------------- 43.8/43.8 kB 1.1 MB/s eta 0:00:00\n",
      "Requirement already satisfied: holidays>=0.11.1 in c:\\python310\\lib\\site-packages (from darts) (0.17)\n",
      "Requirement already satisfied: requests>=2.22.0 in c:\\python310\\lib\\site-packages (from darts) (2.26.0)\n",
      "Collecting torch>=1.8.0\n",
      "  Downloading torch-1.13.0-cp310-cp310-win_amd64.whl (167.3 MB)\n",
      "     -------------------------------------- 167.3/167.3 MB 1.7 MB/s eta 0:00:00\n",
      "Requirement already satisfied: matplotlib>=3.3.0 in c:\\python310\\lib\\site-packages (from darts) (3.5.0)\n",
      "Requirement already satisfied: scikit-learn>=1.0.1 in c:\\python310\\lib\\site-packages (from darts) (1.0.2)\n",
      "Collecting pmdarima>=1.8.0\n",
      "  Downloading pmdarima-2.0.2-cp310-cp310-win_amd64.whl (568 kB)\n",
      "     -------------------------------------- 568.9/568.9 kB 1.6 MB/s eta 0:00:00\n",
      "Requirement already satisfied: plotly in c:\\python310\\lib\\site-packages (from catboost>=1.0.6->darts) (5.9.0)\n",
      "Requirement already satisfied: graphviz in c:\\python310\\lib\\site-packages (from catboost>=1.0.6->darts) (0.20)\n",
      "Requirement already satisfied: six in c:\\python310\\lib\\site-packages (from catboost>=1.0.6->darts) (1.16.0)\n",
      "Requirement already satisfied: hijri-converter in c:\\python310\\lib\\site-packages (from holidays>=0.11.1->darts) (2.2.4)\n",
      "Requirement already satisfied: convertdate>=2.3.0 in c:\\python310\\lib\\site-packages (from holidays>=0.11.1->darts) (2.4.0)\n",
      "Requirement already satisfied: korean-lunar-calendar in c:\\python310\\lib\\site-packages (from holidays>=0.11.1->darts) (0.3.1)\n",
      "Requirement already satisfied: python-dateutil in c:\\python310\\lib\\site-packages (from holidays>=0.11.1->darts) (2.8.2)\n",
      "Requirement already satisfied: traitlets>=5 in c:\\python310\\lib\\site-packages (from ipython>=5.0.0->darts) (5.1.1)\n",
      "Requirement already satisfied: setuptools>=18.5 in c:\\python310\\lib\\site-packages (from ipython>=5.0.0->darts) (57.4.0)\n",
      "Requirement already satisfied: backcall in c:\\python310\\lib\\site-packages (from ipython>=5.0.0->darts) (0.2.0)\n",
      "Requirement already satisfied: prompt-toolkit!=3.0.0,!=3.0.1,<3.1.0,>=2.0.0 in c:\\python310\\lib\\site-packages (from ipython>=5.0.0->darts) (3.0.28)\n",
      "Requirement already satisfied: pickleshare in c:\\python310\\lib\\site-packages (from ipython>=5.0.0->darts) (0.7.5)\n",
      "Requirement already satisfied: stack-data in c:\\python310\\lib\\site-packages (from ipython>=5.0.0->darts) (0.2.0)\n",
      "Requirement already satisfied: black in c:\\python310\\lib\\site-packages (from ipython>=5.0.0->darts) (22.1.0)\n",
      "Requirement already satisfied: pygments in c:\\python310\\lib\\site-packages (from ipython>=5.0.0->darts) (2.11.2)\n",
      "Requirement already satisfied: decorator in c:\\python310\\lib\\site-packages (from ipython>=5.0.0->darts) (5.1.1)\n",
      "Requirement already satisfied: jedi>=0.16 in c:\\python310\\lib\\site-packages (from ipython>=5.0.0->darts) (0.18.1)\n",
      "Requirement already satisfied: colorama in c:\\python310\\lib\\site-packages (from ipython>=5.0.0->darts) (0.4.4)\n",
      "Requirement already satisfied: matplotlib-inline in c:\\python310\\lib\\site-packages (from ipython>=5.0.0->darts) (0.1.3)\n",
      "Requirement already satisfied: wheel in c:\\python310\\lib\\site-packages (from lightgbm>=2.2.3->darts) (0.38.4)\n",
      "Requirement already satisfied: packaging>=20.0 in c:\\python310\\lib\\site-packages (from matplotlib>=3.3.0->darts) (21.3)\n",
      "Requirement already satisfied: pyparsing>=2.2.1 in c:\\python310\\lib\\site-packages (from matplotlib>=3.3.0->darts) (3.0.4)\n",
      "Requirement already satisfied: pillow>=6.2.0 in c:\\python310\\lib\\site-packages (from matplotlib>=3.3.0->darts) (8.4.0)\n",
      "Requirement already satisfied: fonttools>=4.22.0 in c:\\python310\\lib\\site-packages (from matplotlib>=3.3.0->darts) (4.28.2)\n",
      "Requirement already satisfied: kiwisolver>=1.0.1 in c:\\python310\\lib\\site-packages (from matplotlib>=3.3.0->darts) (1.3.2)\n",
      "Requirement already satisfied: setuptools-scm>=4 in c:\\python310\\lib\\site-packages (from matplotlib>=3.3.0->darts) (6.3.2)\n",
      "Requirement already satisfied: cycler>=0.10 in c:\\python310\\lib\\site-packages (from matplotlib>=3.3.0->darts) (0.11.0)\n",
      "Requirement already satisfied: pytz>=2017.3 in c:\\python310\\lib\\site-packages (from pandas>=1.0.5->darts) (2021.3)\n",
      "Collecting Cython!=0.29.18,!=0.29.31,>=0.29\n",
      "  Using cached Cython-0.29.32-py2.py3-none-any.whl (986 kB)\n",
      "Requirement already satisfied: urllib3 in c:\\python310\\lib\\site-packages (from pmdarima>=1.8.0->darts) (1.26.7)\n",
      "Requirement already satisfied: LunarCalendar>=0.0.9 in c:\\python310\\lib\\site-packages (from prophet>=1.1.1->darts) (0.0.9)\n",
      "Requirement already satisfied: setuptools-git>=1.2 in c:\\python310\\lib\\site-packages (from prophet>=1.1.1->darts) (1.2)\n",
      "Requirement already satisfied: cmdstanpy>=1.0.4 in c:\\python310\\lib\\site-packages (from prophet>=1.1.1->darts) (1.0.8)\n",
      "Collecting tensorboardX>=2.2\n",
      "  Downloading tensorboardX-2.5.1-py2.py3-none-any.whl (125 kB)\n",
      "     -------------------------------------- 125.4/125.4 kB 1.9 MB/s eta 0:00:00\n",
      "Collecting lightning-utilities==0.3.*\n",
      "  Downloading lightning_utilities-0.3.0-py3-none-any.whl (15 kB)\n",
      "Collecting torchmetrics>=0.7.0\n",
      "  Downloading torchmetrics-0.11.0-py3-none-any.whl (512 kB)\n",
      "     -------------------------------------- 512.4/512.4 kB 1.8 MB/s eta 0:00:00\n",
      "Requirement already satisfied: typing-extensions>=4.0.0 in c:\\python310\\lib\\site-packages (from pytorch-lightning>=1.5.0->darts) (4.1.1)\n",
      "Requirement already satisfied: PyYAML>=5.4 in c:\\python310\\lib\\site-packages (from pytorch-lightning>=1.5.0->darts) (6.0)\n",
      "Collecting fsspec[http]>2021.06.0\n",
      "  Downloading fsspec-2022.11.0-py3-none-any.whl (139 kB)\n",
      "     -------------------------------------- 139.5/139.5 kB 1.2 MB/s eta 0:00:00\n",
      "Collecting fire\n",
      "  Downloading fire-0.4.0.tar.gz (87 kB)\n",
      "     ---------------------------------------- 87.7/87.7 kB 1.6 MB/s eta 0:00:00\n",
      "  Preparing metadata (setup.py): started\n",
      "  Preparing metadata (setup.py): finished with status 'done'\n",
      "Requirement already satisfied: certifi>=2017.4.17 in c:\\python310\\lib\\site-packages (from requests>=2.22.0->darts) (2021.10.8)\n",
      "Requirement already satisfied: charset-normalizer~=2.0.0 in c:\\python310\\lib\\site-packages (from requests>=2.22.0->darts) (2.0.7)\n",
      "Requirement already satisfied: idna<4,>=2.5 in c:\\python310\\lib\\site-packages (from requests>=2.22.0->darts) (3.3)\n",
      "Requirement already satisfied: threadpoolctl>=2.0.0 in c:\\python310\\lib\\site-packages (from scikit-learn>=1.0.1->darts) (3.1.0)\n",
      "Collecting numba\n",
      "  Downloading numba-0.56.4-cp310-cp310-win_amd64.whl (2.5 MB)\n",
      "     ---------------------------------------- 2.5/2.5 MB 933.5 kB/s eta 0:00:00\n",
      "Collecting cloudpickle\n",
      "  Downloading cloudpickle-2.2.0-py3-none-any.whl (25 kB)\n",
      "Collecting slicer==0.0.7\n",
      "  Downloading slicer-0.0.7-py3-none-any.whl (14 kB)\n",
      "Collecting numpy>=1.19.0\n",
      "  Downloading numpy-1.23.5-cp310-cp310-win_amd64.whl (14.6 MB)\n",
      "     -------------------------------------- 14.6/14.6 MB 985.4 kB/s eta 0:00:00\n",
      "Collecting pandas>=1.0.5\n",
      "  Downloading pandas-1.5.2-cp310-cp310-win_amd64.whl (10.4 MB)\n",
      "     ---------------------------------------- 10.4/10.4 MB 1.4 MB/s eta 0:00:00\n",
      "Requirement already satisfied: patsy>=0.5.2 in c:\\python310\\lib\\site-packages (from statsmodels>=0.13.0->darts) (0.5.2)\n",
      "Requirement already satisfied: pymeeus<=1,>=0.3.13 in c:\\python310\\lib\\site-packages (from convertdate>=2.3.0->holidays>=0.11.1->darts) (0.5.11)\n",
      "Collecting aiohttp!=4.0.0a0,!=4.0.0a1\n",
      "  Using cached aiohttp-3.8.3-cp310-cp310-win_amd64.whl (319 kB)\n",
      "Requirement already satisfied: parso<0.9.0,>=0.8.0 in c:\\python310\\lib\\site-packages (from jedi>=0.16->ipython>=5.0.0->darts) (0.8.3)\n",
      "Requirement already satisfied: ephem>=3.7.5.3 in c:\\python310\\lib\\site-packages (from LunarCalendar>=0.0.9->prophet>=1.1.1->darts) (4.1.3)\n",
      "Collecting llvmlite<0.40,>=0.39.0dev0\n",
      "  Downloading llvmlite-0.39.1-cp310-cp310-win_amd64.whl (23.2 MB)\n",
      "     -------------------------------------- 23.2/23.2 MB 620.4 kB/s eta 0:00:00\n",
      "Requirement already satisfied: wcwidth in c:\\python310\\lib\\site-packages (from prompt-toolkit!=3.0.0,!=3.0.1,<3.1.0,>=2.0.0->ipython>=5.0.0->darts) (0.2.5)\n",
      "Requirement already satisfied: tomli>=1.0.0 in c:\\python310\\lib\\site-packages (from setuptools-scm>=4->matplotlib>=3.3.0->darts) (1.2.2)\n",
      "Requirement already satisfied: protobuf<=3.20.1,>=3.8.0 in c:\\python310\\lib\\site-packages (from tensorboardX>=2.2->pytorch-lightning>=1.5.0->darts) (3.20.1)\n",
      "Requirement already satisfied: click>=8.0.0 in c:\\python310\\lib\\site-packages (from black->ipython>=5.0.0->darts) (8.0.4)\n",
      "Requirement already satisfied: pathspec>=0.9.0 in c:\\python310\\lib\\site-packages (from black->ipython>=5.0.0->darts) (0.9.0)\n",
      "Requirement already satisfied: platformdirs>=2 in c:\\python310\\lib\\site-packages (from black->ipython>=5.0.0->darts) (2.5.1)\n",
      "Requirement already satisfied: mypy-extensions>=0.4.3 in c:\\python310\\lib\\site-packages (from black->ipython>=5.0.0->darts) (0.4.3)\n",
      "Requirement already satisfied: tenacity>=6.2.0 in c:\\python310\\lib\\site-packages (from plotly->catboost>=1.0.6->darts) (8.0.1)\n",
      "Requirement already satisfied: asttokens in c:\\python310\\lib\\site-packages (from stack-data->ipython>=5.0.0->darts) (2.0.5)\n",
      "Requirement already satisfied: pure-eval in c:\\python310\\lib\\site-packages (from stack-data->ipython>=5.0.0->darts) (0.2.2)\n",
      "Requirement already satisfied: executing in c:\\python310\\lib\\site-packages (from stack-data->ipython>=5.0.0->darts) (0.8.2)\n",
      "Collecting yarl<2.0,>=1.0\n",
      "  Downloading yarl-1.8.2-cp310-cp310-win_amd64.whl (56 kB)\n",
      "     -------------------------------------- 56.1/56.1 kB 996.0 kB/s eta 0:00:00\n",
      "Requirement already satisfied: attrs>=17.3.0 in c:\\python310\\lib\\site-packages (from aiohttp!=4.0.0a0,!=4.0.0a1->fsspec[http]>2021.06.0->pytorch-lightning>=1.5.0->darts) (21.4.0)\n",
      "Collecting frozenlist>=1.1.1\n",
      "  Downloading frozenlist-1.3.3-cp310-cp310-win_amd64.whl (33 kB)\n",
      "Collecting aiosignal>=1.1.2\n",
      "  Downloading aiosignal-1.3.1-py3-none-any.whl (7.6 kB)\n",
      "Collecting async-timeout<5.0,>=4.0.0a3\n",
      "  Downloading async_timeout-4.0.2-py3-none-any.whl (5.8 kB)\n",
      "Collecting multidict<7.0,>=4.5\n",
      "  Downloading multidict-6.0.3-cp310-cp310-win_amd64.whl (28 kB)\n",
      "Collecting termcolor\n",
      "  Downloading termcolor-2.1.1-py3-none-any.whl (6.2 kB)\n",
      "Building wheels for collected packages: fire\n",
      "  Building wheel for fire (setup.py): started\n",
      "  Building wheel for fire (setup.py): finished with status 'done'\n",
      "  Created wheel for fire: filename=fire-0.4.0-py2.py3-none-any.whl size=115961 sha256=850e6c5e7b97d58668166a78a2432d70f906f54e5b160ab515579da62172ded1\n",
      "  Stored in directory: c:\\users\\sinch\\appdata\\local\\pip\\cache\\wheels\\a5\\e5\\b1\\36f99d92494185177f07f79579ae168cb034574e98e9b16ae5\n",
      "Successfully built fire\n",
      "Installing collected packages: torch, termcolor, slicer, numpy, multidict, llvmlite, fsspec, frozenlist, Cython, cloudpickle, async-timeout, yarl, torchmetrics, tensorboardX, pandas, numba, fire, aiosignal, xarray, lightning-utilities, aiohttp, statsforecast, shap, pmdarima, nfoursid, lightgbm, catboost, tbats, pytorch-lightning, darts\n",
      "  Attempting uninstall: numpy\n",
      "    Found existing installation: numpy 1.21.4\n",
      "    Uninstalling numpy-1.21.4:\n",
      "      Successfully uninstalled numpy-1.21.4\n",
      "  Attempting uninstall: pandas\n",
      "    Found existing installation: pandas 1.3.4\n",
      "    Uninstalling pandas-1.3.4:\n",
      "      Successfully uninstalled pandas-1.3.4\n",
      "Successfully installed Cython-0.29.32 aiohttp-3.8.3 aiosignal-1.3.1 async-timeout-4.0.2 catboost-1.1.1 cloudpickle-2.2.0 darts-0.22.0 fire-0.4.0 frozenlist-1.3.3 fsspec-2022.11.0 lightgbm-3.3.3 lightning-utilities-0.3.0 llvmlite-0.39.1 multidict-6.0.3 nfoursid-1.0.1 numba-0.56.4 numpy-1.23.5 pandas-1.5.2 pmdarima-2.0.2 pytorch-lightning-1.8.3.post1 shap-0.41.0 slicer-0.0.7 statsforecast-1.4.0 tbats-1.1.1 tensorboardX-2.5.1 termcolor-2.1.1 torch-1.13.0 torchmetrics-0.11.0 xarray-2022.12.0 yarl-1.8.2\n"
     ]
    }
   ],
   "source": [
    "%pip install darts"
   ]
  },
  {
   "cell_type": "markdown",
   "metadata": {},
   "source": [
    "## Libraries for TSA using Darts"
   ]
  },
  {
   "cell_type": "code",
   "execution_count": 5,
   "metadata": {},
   "outputs": [],
   "source": [
    "from darts.datasets import AirPassengersDataset, MonthlyMilkDataset"
   ]
  },
  {
   "cell_type": "code",
   "execution_count": 6,
   "metadata": {},
   "outputs": [
    {
     "ename": "DatasetLoadingException",
     "evalue": "Could not download the dataset. Reason:ConnectionError(MaxRetryError(\"HTTPSConnectionPool(host='raw.githubusercontent.com', port=443): Max retries exceeded with url: /unit8co/darts/master/datasets/AirPassengers.csv (Caused by NewConnectionError('<urllib3.connection.HTTPSConnection object at 0x000002709FBA26E0>: Failed to establish a new connection: [WinError 10061] No connection could be made because the target machine actively refused it'))\"))",
     "output_type": "error",
     "traceback": [
      "\u001b[1;31m---------------------------------------------------------------------------\u001b[0m",
      "\u001b[1;31mDatasetLoadingException\u001b[0m                   Traceback (most recent call last)",
      "Input \u001b[1;32mIn [6]\u001b[0m, in \u001b[0;36m<module>\u001b[1;34m\u001b[0m\n\u001b[1;32m----> 1\u001b[0m \u001b[43mAirPassengersDataset\u001b[49m\u001b[43m(\u001b[49m\u001b[43m)\u001b[49m\u001b[38;5;241;43m.\u001b[39;49m\u001b[43mload\u001b[49m\u001b[43m(\u001b[49m\u001b[43m)\u001b[49m\n",
      "File \u001b[1;32mC:\\Python310\\lib\\site-packages\\darts\\datasets\\dataset_loaders.py:78\u001b[0m, in \u001b[0;36mDatasetLoader.load\u001b[1;34m(self)\u001b[0m\n\u001b[0;32m     76\u001b[0m         \u001b[38;5;28mself\u001b[39m\u001b[38;5;241m.\u001b[39m_download_zip_dataset()\n\u001b[0;32m     77\u001b[0m     \u001b[38;5;28;01melse\u001b[39;00m:\n\u001b[1;32m---> 78\u001b[0m         \u001b[38;5;28;43mself\u001b[39;49m\u001b[38;5;241;43m.\u001b[39;49m\u001b[43m_download_dataset\u001b[49m\u001b[43m(\u001b[49m\u001b[43m)\u001b[49m\n\u001b[0;32m     79\u001b[0m \u001b[38;5;28mself\u001b[39m\u001b[38;5;241m.\u001b[39m_check_dataset_integrity_or_raise()\n\u001b[0;32m     81\u001b[0m \u001b[38;5;28;01mreturn\u001b[39;00m \u001b[38;5;28mself\u001b[39m\u001b[38;5;241m.\u001b[39m_load_from_disk(\u001b[38;5;28mself\u001b[39m\u001b[38;5;241m.\u001b[39m_get_path_dataset(), \u001b[38;5;28mself\u001b[39m\u001b[38;5;241m.\u001b[39m_metadata)\n",
      "File \u001b[1;32mC:\\Python310\\lib\\site-packages\\darts\\datasets\\dataset_loaders.py:130\u001b[0m, in \u001b[0;36mDatasetLoader._download_dataset\u001b[1;34m(self)\u001b[0m\n\u001b[0;32m    128\u001b[0m         f\u001b[38;5;241m.\u001b[39mwrite(request\u001b[38;5;241m.\u001b[39mcontent)\n\u001b[0;32m    129\u001b[0m \u001b[38;5;28;01mexcept\u001b[39;00m \u001b[38;5;167;01mException\u001b[39;00m \u001b[38;5;28;01mas\u001b[39;00m e:\n\u001b[1;32m--> 130\u001b[0m     \u001b[38;5;28;01mraise\u001b[39;00m DatasetLoadingException(\n\u001b[0;32m    131\u001b[0m         \u001b[38;5;124m\"\u001b[39m\u001b[38;5;124mCould not download the dataset. Reason:\u001b[39m\u001b[38;5;124m\"\u001b[39m \u001b[38;5;241m+\u001b[39m e\u001b[38;5;241m.\u001b[39m\u001b[38;5;21m__repr__\u001b[39m()\n\u001b[0;32m    132\u001b[0m     ) \u001b[38;5;28;01mfrom\u001b[39;00m \u001b[38;5;28mNone\u001b[39m\n",
      "\u001b[1;31mDatasetLoadingException\u001b[0m: Could not download the dataset. Reason:ConnectionError(MaxRetryError(\"HTTPSConnectionPool(host='raw.githubusercontent.com', port=443): Max retries exceeded with url: /unit8co/darts/master/datasets/AirPassengers.csv (Caused by NewConnectionError('<urllib3.connection.HTTPSConnection object at 0x000002709FBA26E0>: Failed to establish a new connection: [WinError 10061] No connection could be made because the target machine actively refused it'))\"))"
     ]
    }
   ],
   "source": [
    "AirPassengersDataset().load()"
   ]
  },
  {
   "cell_type": "code",
   "execution_count": 4,
   "metadata": {},
   "outputs": [
    {
     "ename": "DatasetLoadingException",
     "evalue": "Could not download the dataset. Reason:ConnectionError(MaxRetryError(\"HTTPSConnectionPool(host='raw.githubusercontent.com', port=443): Max retries exceeded with url: /unit8co/darts/master/datasets/AirPassengers.csv (Caused by NewConnectionError('<urllib3.connection.HTTPSConnection object at 0x000001AF5A358610>: Failed to establish a new connection: [WinError 10061] No connection could be made because the target machine actively refused it'))\"))",
     "output_type": "error",
     "traceback": [
      "\u001b[1;31m---------------------------------------------------------------------------\u001b[0m",
      "\u001b[1;31mDatasetLoadingException\u001b[0m                   Traceback (most recent call last)",
      "\u001b[1;32mc:\\Users\\sinch\\Desktop\\Path to Data Science\\Time-Series Analysis\\tsa-darts.ipynb Cell 4\u001b[0m in \u001b[0;36m<module>\u001b[1;34m\u001b[0m\n\u001b[0;32m      <a href='vscode-notebook-cell:/c%3A/Users/sinch/Desktop/Path%20to%20Data%20Science/Time-Series%20Analysis/tsa-darts.ipynb#W3sZmlsZQ%3D%3D?line=0'>1</a>\u001b[0m \u001b[39mimport\u001b[39;00m \u001b[39mmatplotlib\u001b[39;00m\u001b[39m.\u001b[39;00m\u001b[39mpyplot\u001b[39;00m \u001b[39mas\u001b[39;00m \u001b[39mplt\u001b[39;00m\n\u001b[1;32m----> <a href='vscode-notebook-cell:/c%3A/Users/sinch/Desktop/Path%20to%20Data%20Science/Time-Series%20Analysis/tsa-darts.ipynb#W3sZmlsZQ%3D%3D?line=1'>2</a>\u001b[0m data_air \u001b[39m=\u001b[39m AirPassengersDataset()\u001b[39m.\u001b[39;49mload()\n\u001b[0;32m      <a href='vscode-notebook-cell:/c%3A/Users/sinch/Desktop/Path%20to%20Data%20Science/Time-Series%20Analysis/tsa-darts.ipynb#W3sZmlsZQ%3D%3D?line=2'>3</a>\u001b[0m data_milk \u001b[39m=\u001b[39m MonthlyMilkDataset()\u001b[39m.\u001b[39mload()\n\u001b[0;32m      <a href='vscode-notebook-cell:/c%3A/Users/sinch/Desktop/Path%20to%20Data%20Science/Time-Series%20Analysis/tsa-darts.ipynb#W3sZmlsZQ%3D%3D?line=4'>5</a>\u001b[0m data_air\u001b[39m.\u001b[39mplot(label\u001b[39m=\u001b[39m\u001b[39m'\u001b[39m\u001b[39mNo. of air paassengers\u001b[39m\u001b[39m'\u001b[39m)\n",
      "File \u001b[1;32mc:\\Python310\\lib\\site-packages\\darts\\datasets\\dataset_loaders.py:78\u001b[0m, in \u001b[0;36mDatasetLoader.load\u001b[1;34m(self)\u001b[0m\n\u001b[0;32m     76\u001b[0m         \u001b[39mself\u001b[39m\u001b[39m.\u001b[39m_download_zip_dataset()\n\u001b[0;32m     77\u001b[0m     \u001b[39melse\u001b[39;00m:\n\u001b[1;32m---> 78\u001b[0m         \u001b[39mself\u001b[39;49m\u001b[39m.\u001b[39;49m_download_dataset()\n\u001b[0;32m     79\u001b[0m \u001b[39mself\u001b[39m\u001b[39m.\u001b[39m_check_dataset_integrity_or_raise()\n\u001b[0;32m     81\u001b[0m \u001b[39mreturn\u001b[39;00m \u001b[39mself\u001b[39m\u001b[39m.\u001b[39m_load_from_disk(\u001b[39mself\u001b[39m\u001b[39m.\u001b[39m_get_path_dataset(), \u001b[39mself\u001b[39m\u001b[39m.\u001b[39m_metadata)\n",
      "File \u001b[1;32mc:\\Python310\\lib\\site-packages\\darts\\datasets\\dataset_loaders.py:130\u001b[0m, in \u001b[0;36mDatasetLoader._download_dataset\u001b[1;34m(self)\u001b[0m\n\u001b[0;32m    128\u001b[0m         f\u001b[39m.\u001b[39mwrite(request\u001b[39m.\u001b[39mcontent)\n\u001b[0;32m    129\u001b[0m \u001b[39mexcept\u001b[39;00m \u001b[39mException\u001b[39;00m \u001b[39mas\u001b[39;00m e:\n\u001b[1;32m--> 130\u001b[0m     \u001b[39mraise\u001b[39;00m DatasetLoadingException(\n\u001b[0;32m    131\u001b[0m         \u001b[39m\"\u001b[39m\u001b[39mCould not download the dataset. Reason:\u001b[39m\u001b[39m\"\u001b[39m \u001b[39m+\u001b[39m e\u001b[39m.\u001b[39m\u001b[39m__repr__\u001b[39m()\n\u001b[0;32m    132\u001b[0m     ) \u001b[39mfrom\u001b[39;00m \u001b[39mNone\u001b[39m\n",
      "\u001b[1;31mDatasetLoadingException\u001b[0m: Could not download the dataset. Reason:ConnectionError(MaxRetryError(\"HTTPSConnectionPool(host='raw.githubusercontent.com', port=443): Max retries exceeded with url: /unit8co/darts/master/datasets/AirPassengers.csv (Caused by NewConnectionError('<urllib3.connection.HTTPSConnection object at 0x000001AF5A358610>: Failed to establish a new connection: [WinError 10061] No connection could be made because the target machine actively refused it'))\"))"
     ]
    }
   ],
   "source": [
    "import matplotlib.pyplot as plt\n",
    "data_air = AirPassengersDataset().load()\n",
    "data_milk = MonthlyMilkDataset().load()\n",
    "\n",
    "data_air.plot(label='No. of air paassengers')\n",
    "data_milk.plot(label='Pounds of milk produced per cow')\n",
    "plt.legend()"
   ]
  },
  {
   "cell_type": "code",
   "execution_count": null,
   "metadata": {},
   "outputs": [],
   "source": []
  }
 ],
 "metadata": {
  "kernelspec": {
   "display_name": "Python 3 (ipykernel)",
   "language": "python",
   "name": "python3"
  },
  "language_info": {
   "codemirror_mode": {
    "name": "ipython",
    "version": 3
   },
   "file_extension": ".py",
   "mimetype": "text/x-python",
   "name": "python",
   "nbconvert_exporter": "python",
   "pygments_lexer": "ipython3",
   "version": "3.10.0"
  },
  "vscode": {
   "interpreter": {
    "hash": "369f2c481f4da34e4445cda3fffd2e751bd1c4d706f27375911949ba6bb62e1c"
   }
  }
 },
 "nbformat": 4,
 "nbformat_minor": 2
}
