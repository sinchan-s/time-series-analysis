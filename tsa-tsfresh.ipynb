{
  "nbformat": 4,
  "nbformat_minor": 0,
  "metadata": {
    "colab": {
      "provenance": [],
      "authorship_tag": "ABX9TyPm4s3OteonmMelR0ZMIFd6",
      "include_colab_link": true
    },
    "kernelspec": {
      "name": "python3",
      "display_name": "Python 3"
    },
    "language_info": {
      "name": "python"
    }
  },
  "cells": [
    {
      "cell_type": "markdown",
      "metadata": {
        "id": "view-in-github",
        "colab_type": "text"
      },
      "source": [
        "<a href=\"https://colab.research.google.com/github/sinchan-s/time-series-analysis/blob/main/tsa-tsfresh.ipynb\" target=\"_parent\"><img src=\"https://colab.research.google.com/assets/colab-badge.svg\" alt=\"Open In Colab\"/></a>"
      ]
    },
    {
      "cell_type": "markdown",
      "source": [
        "## Libraries for TSA using Tsfresh"
      ],
      "metadata": {
        "id": "wJB7H4b3lKKG"
      }
    },
    {
      "cell_type": "code",
      "source": [
        "import matplotlib.pyplot as plt\n",
        "import pandas as pd\n",
        "import numpy as np\n",
        "import seaborn as sns\n",
        "import plotly\n",
        "%matplotlib inline"
      ],
      "metadata": {
        "id": "JfGi_kKePsL1"
      },
      "execution_count": null,
      "outputs": []
    },
    {
      "cell_type": "markdown",
      "source": [
        "## Passengers data for TSA"
      ],
      "metadata": {
        "id": "uwhNOBxnlQGr"
      }
    },
    {
      "cell_type": "code",
      "source": [
        "df = pd.read_csv(\"https://github.com/sinchan-s/time-series-analysis/raw/main/airline_passengers.csv\")\n",
        "df.dropna(axis=0, inplace=True)\n",
        "df['Month'] = pd.to_datetime(df['Month'])\n",
        "df.info()"
      ],
      "metadata": {
        "colab": {
          "base_uri": "https://localhost:8080/"
        },
        "id": "8XDotscgQBgk",
        "outputId": "953ce3a9-0717-4247-d537-c53cf567e744"
      },
      "execution_count": null,
      "outputs": [
        {
          "output_type": "stream",
          "name": "stdout",
          "text": [
            "<class 'pandas.core.frame.DataFrame'>\n",
            "Int64Index: 144 entries, 0 to 143\n",
            "Data columns (total 2 columns):\n",
            " #   Column                   Non-Null Count  Dtype         \n",
            "---  ------                   --------------  -----         \n",
            " 0   Month                    144 non-null    datetime64[ns]\n",
            " 1   Thousands of Passengers  144 non-null    float64       \n",
            "dtypes: datetime64[ns](1), float64(1)\n",
            "memory usage: 3.4 KB\n"
          ]
        }
      ]
    },
    {
      "cell_type": "markdown",
      "source": [
        "### Dataframe Columns formatting"
      ],
      "metadata": {
        "id": "pryx9YqClUKT"
      }
    },
    {
      "cell_type": "code",
      "source": [
        "df.columns = ['month','#Passengers']\n",
        "df['month'] = pd.to_datetime(df['month'],infer_datetime_format=True,format='%y%m')"
      ],
      "metadata": {
        "id": "c6DLze57QCY0"
      },
      "execution_count": null,
      "outputs": []
    },
    {
      "cell_type": "markdown",
      "source": [
        "## Tsfresh components importing"
      ],
      "metadata": {
        "id": "fsaSQo9DlWsK"
      }
    },
    {
      "cell_type": "code",
      "source": [
        "from tsfresh import extract_features, extract_relevant_features, select_features\n",
        "from tsfresh.utilities.dataframe_functions import impute, make_forecasting_frame\n",
        "from tsfresh.feature_extraction import ComprehensiveFCParameters, settings"
      ],
      "metadata": {
        "colab": {
          "base_uri": "https://localhost:8080/"
        },
        "id": "DVnpNbWyQHBM",
        "outputId": "c2641dcc-f39b-47fe-b9e5-209f97a1493f"
      },
      "execution_count": null,
      "outputs": [
        {
          "output_type": "stream",
          "name": "stderr",
          "text": [
            "ERROR:numba.cuda.cudadrv.driver:Call to cuInit results in CUDA_ERROR_NO_DEVICE\n"
          ]
        }
      ]
    },
    {
      "cell_type": "markdown",
      "source": [
        "## Model forecasting"
      ],
      "metadata": {
        "id": "dql7MGunlgSG"
      }
    },
    {
      "cell_type": "code",
      "source": [
        "df_pass, y_air = make_forecasting_frame(df[\"#Passengers\"], kind=\"#Passengers\", max_timeshift=12, rolling_direction=1)\n",
        "print(df_pass)"
      ],
      "metadata": {
        "colab": {
          "base_uri": "https://localhost:8080/"
        },
        "id": "tS_KpBWIQK4-",
        "outputId": "03e13333-bbbd-49b3-8f5d-2a9c18b7df92"
      },
      "execution_count": null,
      "outputs": [
        {
          "output_type": "stream",
          "name": "stderr",
          "text": [
            "Rolling: 100%|██████████| 144/144 [00:01<00:00, 75.56it/s] "
          ]
        },
        {
          "output_type": "stream",
          "name": "stdout",
          "text": [
            "             id  time  value         kind\n",
            "1       (id, 1)     0  112.0  #Passengers\n",
            "3       (id, 2)     0  112.0  #Passengers\n",
            "4       (id, 2)     1  118.0  #Passengers\n",
            "6       (id, 3)     0  112.0  #Passengers\n",
            "7       (id, 3)     1  118.0  #Passengers\n",
            "...         ...   ...    ...          ...\n",
            "1788  (id, 143)   138  622.0  #Passengers\n",
            "1789  (id, 143)   139  606.0  #Passengers\n",
            "1790  (id, 143)   140  508.0  #Passengers\n",
            "1791  (id, 143)   141  461.0  #Passengers\n",
            "1792  (id, 143)   142  390.0  #Passengers\n",
            "\n",
            "[1650 rows x 4 columns]\n"
          ]
        },
        {
          "output_type": "stream",
          "name": "stderr",
          "text": [
            "\n"
          ]
        }
      ]
    }
  ]
}