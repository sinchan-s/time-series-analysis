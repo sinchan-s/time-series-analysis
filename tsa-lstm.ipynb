{
 "cells": [
  {
   "cell_type": "code",
   "execution_count": 7,
   "metadata": {},
   "outputs": [],
   "source": [
    "import pandas_datareader as pdr\n",
    "import matplotlib.pyplot as plt"
   ]
  },
  {
   "cell_type": "code",
   "execution_count": 8,
   "metadata": {},
   "outputs": [
    {
     "name": "stderr",
     "output_type": "stream",
     "text": [
      "C:\\Users\\sinch\\AppData\\Local\\Temp\\ipykernel_13328\\918027198.py:1: FutureWarning: In a future version of pandas all arguments of concat except for the argument 'objs' will be keyword-only.\n",
      "  df = pdr.get_data_tiingo('AAPL', api_key='ab2882f6485e2828c46882b863cc7c8cdaaef007')\n"
     ]
    },
    {
     "data": {
      "text/html": [
       "<div>\n",
       "<style scoped>\n",
       "    .dataframe tbody tr th:only-of-type {\n",
       "        vertical-align: middle;\n",
       "    }\n",
       "\n",
       "    .dataframe tbody tr th {\n",
       "        vertical-align: top;\n",
       "    }\n",
       "\n",
       "    .dataframe thead th {\n",
       "        text-align: right;\n",
       "    }\n",
       "</style>\n",
       "<table border=\"1\" class=\"dataframe\">\n",
       "  <thead>\n",
       "    <tr style=\"text-align: right;\">\n",
       "      <th></th>\n",
       "      <th></th>\n",
       "      <th>close</th>\n",
       "      <th>high</th>\n",
       "      <th>low</th>\n",
       "      <th>open</th>\n",
       "      <th>volume</th>\n",
       "      <th>adjClose</th>\n",
       "      <th>adjHigh</th>\n",
       "      <th>adjLow</th>\n",
       "      <th>adjOpen</th>\n",
       "      <th>adjVolume</th>\n",
       "      <th>divCash</th>\n",
       "      <th>splitFactor</th>\n",
       "    </tr>\n",
       "    <tr>\n",
       "      <th>symbol</th>\n",
       "      <th>date</th>\n",
       "      <th></th>\n",
       "      <th></th>\n",
       "      <th></th>\n",
       "      <th></th>\n",
       "      <th></th>\n",
       "      <th></th>\n",
       "      <th></th>\n",
       "      <th></th>\n",
       "      <th></th>\n",
       "      <th></th>\n",
       "      <th></th>\n",
       "      <th></th>\n",
       "    </tr>\n",
       "  </thead>\n",
       "  <tbody>\n",
       "    <tr>\n",
       "      <th rowspan=\"5\" valign=\"top\">AAPL</th>\n",
       "      <th>2017-12-11 00:00:00+00:00</th>\n",
       "      <td>172.67</td>\n",
       "      <td>172.89</td>\n",
       "      <td>168.790</td>\n",
       "      <td>169.20</td>\n",
       "      <td>33092051</td>\n",
       "      <td>41.046071</td>\n",
       "      <td>41.098368</td>\n",
       "      <td>40.123740</td>\n",
       "      <td>40.221203</td>\n",
       "      <td>132368204</td>\n",
       "      <td>0.0</td>\n",
       "      <td>1.0</td>\n",
       "    </tr>\n",
       "    <tr>\n",
       "      <th>2017-12-12 00:00:00+00:00</th>\n",
       "      <td>171.70</td>\n",
       "      <td>172.39</td>\n",
       "      <td>171.461</td>\n",
       "      <td>172.15</td>\n",
       "      <td>18945457</td>\n",
       "      <td>40.815488</td>\n",
       "      <td>40.979511</td>\n",
       "      <td>40.758674</td>\n",
       "      <td>40.922459</td>\n",
       "      <td>75781828</td>\n",
       "      <td>0.0</td>\n",
       "      <td>1.0</td>\n",
       "    </tr>\n",
       "    <tr>\n",
       "      <th>2017-12-13 00:00:00+00:00</th>\n",
       "      <td>172.27</td>\n",
       "      <td>173.54</td>\n",
       "      <td>172.000</td>\n",
       "      <td>172.50</td>\n",
       "      <td>23142242</td>\n",
       "      <td>40.950985</td>\n",
       "      <td>41.252882</td>\n",
       "      <td>40.886802</td>\n",
       "      <td>41.005659</td>\n",
       "      <td>92568968</td>\n",
       "      <td>0.0</td>\n",
       "      <td>1.0</td>\n",
       "    </tr>\n",
       "    <tr>\n",
       "      <th>2017-12-14 00:00:00+00:00</th>\n",
       "      <td>172.22</td>\n",
       "      <td>173.13</td>\n",
       "      <td>171.650</td>\n",
       "      <td>172.40</td>\n",
       "      <td>20219307</td>\n",
       "      <td>40.939099</td>\n",
       "      <td>41.155419</td>\n",
       "      <td>40.803602</td>\n",
       "      <td>40.981888</td>\n",
       "      <td>80877228</td>\n",
       "      <td>0.0</td>\n",
       "      <td>1.0</td>\n",
       "    </tr>\n",
       "    <tr>\n",
       "      <th>2017-12-15 00:00:00+00:00</th>\n",
       "      <td>173.97</td>\n",
       "      <td>174.17</td>\n",
       "      <td>172.460</td>\n",
       "      <td>173.63</td>\n",
       "      <td>37054632</td>\n",
       "      <td>41.355099</td>\n",
       "      <td>41.402642</td>\n",
       "      <td>40.996151</td>\n",
       "      <td>41.274276</td>\n",
       "      <td>148218528</td>\n",
       "      <td>0.0</td>\n",
       "      <td>1.0</td>\n",
       "    </tr>\n",
       "  </tbody>\n",
       "</table>\n",
       "</div>"
      ],
      "text/plain": [
       "                                   close    high      low    open    volume  \\\n",
       "symbol date                                                                   \n",
       "AAPL   2017-12-11 00:00:00+00:00  172.67  172.89  168.790  169.20  33092051   \n",
       "       2017-12-12 00:00:00+00:00  171.70  172.39  171.461  172.15  18945457   \n",
       "       2017-12-13 00:00:00+00:00  172.27  173.54  172.000  172.50  23142242   \n",
       "       2017-12-14 00:00:00+00:00  172.22  173.13  171.650  172.40  20219307   \n",
       "       2017-12-15 00:00:00+00:00  173.97  174.17  172.460  173.63  37054632   \n",
       "\n",
       "                                   adjClose    adjHigh     adjLow    adjOpen  \\\n",
       "symbol date                                                                    \n",
       "AAPL   2017-12-11 00:00:00+00:00  41.046071  41.098368  40.123740  40.221203   \n",
       "       2017-12-12 00:00:00+00:00  40.815488  40.979511  40.758674  40.922459   \n",
       "       2017-12-13 00:00:00+00:00  40.950985  41.252882  40.886802  41.005659   \n",
       "       2017-12-14 00:00:00+00:00  40.939099  41.155419  40.803602  40.981888   \n",
       "       2017-12-15 00:00:00+00:00  41.355099  41.402642  40.996151  41.274276   \n",
       "\n",
       "                                  adjVolume  divCash  splitFactor  \n",
       "symbol date                                                        \n",
       "AAPL   2017-12-11 00:00:00+00:00  132368204      0.0          1.0  \n",
       "       2017-12-12 00:00:00+00:00   75781828      0.0          1.0  \n",
       "       2017-12-13 00:00:00+00:00   92568968      0.0          1.0  \n",
       "       2017-12-14 00:00:00+00:00   80877228      0.0          1.0  \n",
       "       2017-12-15 00:00:00+00:00  148218528      0.0          1.0  "
      ]
     },
     "execution_count": 8,
     "metadata": {},
     "output_type": "execute_result"
    }
   ],
   "source": [
    "df = pdr.get_data_tiingo('AAPL', api_key='ab2882f6485e2828c46882b863cc7c8cdaaef007')\n",
    "df.head()"
   ]
  },
  {
   "cell_type": "code",
   "execution_count": 9,
   "metadata": {},
   "outputs": [
    {
     "data": {
      "text/html": [
       "<div>\n",
       "<style scoped>\n",
       "    .dataframe tbody tr th:only-of-type {\n",
       "        vertical-align: middle;\n",
       "    }\n",
       "\n",
       "    .dataframe tbody tr th {\n",
       "        vertical-align: top;\n",
       "    }\n",
       "\n",
       "    .dataframe thead th {\n",
       "        text-align: right;\n",
       "    }\n",
       "</style>\n",
       "<table border=\"1\" class=\"dataframe\">\n",
       "  <thead>\n",
       "    <tr style=\"text-align: right;\">\n",
       "      <th></th>\n",
       "      <th></th>\n",
       "      <th>close</th>\n",
       "      <th>high</th>\n",
       "      <th>low</th>\n",
       "      <th>open</th>\n",
       "      <th>volume</th>\n",
       "      <th>adjClose</th>\n",
       "      <th>adjHigh</th>\n",
       "      <th>adjLow</th>\n",
       "      <th>adjOpen</th>\n",
       "      <th>adjVolume</th>\n",
       "      <th>divCash</th>\n",
       "      <th>splitFactor</th>\n",
       "    </tr>\n",
       "    <tr>\n",
       "      <th>symbol</th>\n",
       "      <th>date</th>\n",
       "      <th></th>\n",
       "      <th></th>\n",
       "      <th></th>\n",
       "      <th></th>\n",
       "      <th></th>\n",
       "      <th></th>\n",
       "      <th></th>\n",
       "      <th></th>\n",
       "      <th></th>\n",
       "      <th></th>\n",
       "      <th></th>\n",
       "      <th></th>\n",
       "    </tr>\n",
       "  </thead>\n",
       "  <tbody>\n",
       "    <tr>\n",
       "      <th rowspan=\"5\" valign=\"top\">AAPL</th>\n",
       "      <th>2022-12-01 00:00:00+00:00</th>\n",
       "      <td>148.31</td>\n",
       "      <td>149.1300</td>\n",
       "      <td>146.61</td>\n",
       "      <td>148.210</td>\n",
       "      <td>71250416</td>\n",
       "      <td>148.31</td>\n",
       "      <td>149.1300</td>\n",
       "      <td>146.61</td>\n",
       "      <td>148.210</td>\n",
       "      <td>71250416</td>\n",
       "      <td>0.0</td>\n",
       "      <td>1.0</td>\n",
       "    </tr>\n",
       "    <tr>\n",
       "      <th>2022-12-02 00:00:00+00:00</th>\n",
       "      <td>147.81</td>\n",
       "      <td>148.0000</td>\n",
       "      <td>145.65</td>\n",
       "      <td>145.960</td>\n",
       "      <td>65447446</td>\n",
       "      <td>147.81</td>\n",
       "      <td>148.0000</td>\n",
       "      <td>145.65</td>\n",
       "      <td>145.960</td>\n",
       "      <td>65447446</td>\n",
       "      <td>0.0</td>\n",
       "      <td>1.0</td>\n",
       "    </tr>\n",
       "    <tr>\n",
       "      <th>2022-12-05 00:00:00+00:00</th>\n",
       "      <td>146.63</td>\n",
       "      <td>150.9199</td>\n",
       "      <td>145.77</td>\n",
       "      <td>147.770</td>\n",
       "      <td>68826442</td>\n",
       "      <td>146.63</td>\n",
       "      <td>150.9199</td>\n",
       "      <td>145.77</td>\n",
       "      <td>147.770</td>\n",
       "      <td>68826442</td>\n",
       "      <td>0.0</td>\n",
       "      <td>1.0</td>\n",
       "    </tr>\n",
       "    <tr>\n",
       "      <th>2022-12-06 00:00:00+00:00</th>\n",
       "      <td>142.91</td>\n",
       "      <td>147.3000</td>\n",
       "      <td>141.92</td>\n",
       "      <td>147.075</td>\n",
       "      <td>64727186</td>\n",
       "      <td>142.91</td>\n",
       "      <td>147.3000</td>\n",
       "      <td>141.92</td>\n",
       "      <td>147.075</td>\n",
       "      <td>64727186</td>\n",
       "      <td>0.0</td>\n",
       "      <td>1.0</td>\n",
       "    </tr>\n",
       "    <tr>\n",
       "      <th>2022-12-07 00:00:00+00:00</th>\n",
       "      <td>140.94</td>\n",
       "      <td>143.3700</td>\n",
       "      <td>140.00</td>\n",
       "      <td>142.190</td>\n",
       "      <td>69721094</td>\n",
       "      <td>140.94</td>\n",
       "      <td>143.3700</td>\n",
       "      <td>140.00</td>\n",
       "      <td>142.190</td>\n",
       "      <td>69721094</td>\n",
       "      <td>0.0</td>\n",
       "      <td>1.0</td>\n",
       "    </tr>\n",
       "  </tbody>\n",
       "</table>\n",
       "</div>"
      ],
      "text/plain": [
       "                                   close      high     low     open    volume  \\\n",
       "symbol date                                                                     \n",
       "AAPL   2022-12-01 00:00:00+00:00  148.31  149.1300  146.61  148.210  71250416   \n",
       "       2022-12-02 00:00:00+00:00  147.81  148.0000  145.65  145.960  65447446   \n",
       "       2022-12-05 00:00:00+00:00  146.63  150.9199  145.77  147.770  68826442   \n",
       "       2022-12-06 00:00:00+00:00  142.91  147.3000  141.92  147.075  64727186   \n",
       "       2022-12-07 00:00:00+00:00  140.94  143.3700  140.00  142.190  69721094   \n",
       "\n",
       "                                  adjClose   adjHigh  adjLow  adjOpen  \\\n",
       "symbol date                                                             \n",
       "AAPL   2022-12-01 00:00:00+00:00    148.31  149.1300  146.61  148.210   \n",
       "       2022-12-02 00:00:00+00:00    147.81  148.0000  145.65  145.960   \n",
       "       2022-12-05 00:00:00+00:00    146.63  150.9199  145.77  147.770   \n",
       "       2022-12-06 00:00:00+00:00    142.91  147.3000  141.92  147.075   \n",
       "       2022-12-07 00:00:00+00:00    140.94  143.3700  140.00  142.190   \n",
       "\n",
       "                                  adjVolume  divCash  splitFactor  \n",
       "symbol date                                                        \n",
       "AAPL   2022-12-01 00:00:00+00:00   71250416      0.0          1.0  \n",
       "       2022-12-02 00:00:00+00:00   65447446      0.0          1.0  \n",
       "       2022-12-05 00:00:00+00:00   68826442      0.0          1.0  \n",
       "       2022-12-06 00:00:00+00:00   64727186      0.0          1.0  \n",
       "       2022-12-07 00:00:00+00:00   69721094      0.0          1.0  "
      ]
     },
     "execution_count": 9,
     "metadata": {},
     "output_type": "execute_result"
    }
   ],
   "source": [
    "df.tail()"
   ]
  },
  {
   "cell_type": "code",
   "execution_count": 10,
   "metadata": {},
   "outputs": [
    {
     "data": {
      "text/plain": [
       "0    172.67\n",
       "1    171.70\n",
       "2    172.27\n",
       "3    172.22\n",
       "4    173.97\n",
       "Name: close, dtype: float64"
      ]
     },
     "execution_count": 10,
     "metadata": {},
     "output_type": "execute_result"
    }
   ],
   "source": [
    "df1 = df.reset_index()['close']\n",
    "df1.head()"
   ]
  },
  {
   "cell_type": "code",
   "execution_count": 11,
   "metadata": {},
   "outputs": [
    {
     "data": {
      "text/plain": [
       "(1257,)"
      ]
     },
     "execution_count": 11,
     "metadata": {},
     "output_type": "execute_result"
    }
   ],
   "source": [
    "df1.shape"
   ]
  },
  {
   "cell_type": "code",
   "execution_count": 12,
   "metadata": {},
   "outputs": [
    {
     "data": {
      "text/plain": [
       "[<matplotlib.lines.Line2D at 0x1e801cf4250>]"
      ]
     },
     "execution_count": 12,
     "metadata": {},
     "output_type": "execute_result"
    },
    {
     "data": {
      "image/png": "[encoded data removed]",
      "text/plain": [
       "<Figure size 432x288 with 1 Axes>"
      ]
     },
     "metadata": {
      "needs_background": "light"
     },
     "output_type": "display_data"
    }
   ],
   "source": [
    "plt.plot(df1)"
   ]
  },
  {
   "cell_type": "code",
   "execution_count": 13,
   "metadata": {},
   "outputs": [],
   "source": [
    "import numpy as np \n",
    "from sklearn.preprocessing import MinMaxScaler"
   ]
  },
  {
   "cell_type": "code",
   "execution_count": 14,
   "metadata": {},
   "outputs": [
    {
     "data": {
      "text/plain": [
       "(1257, 1)"
      ]
     },
     "execution_count": 14,
     "metadata": {},
     "output_type": "execute_result"
    }
   ],
   "source": [
    "scaler = MinMaxScaler(feature_range=(0,1))\n",
    "df1 = scaler.fit_transform(np.array(df1).reshape(-1,1))\n",
    "df1.shape"
   ]
  },
  {
   "cell_type": "code",
   "execution_count": 15,
   "metadata": {},
   "outputs": [],
   "source": [
    "training_size = int(len(df1)*0.65)\n",
    "test_size = len(df1)-training_size\n",
    "train_data, test_data = df1[0:training_size,:], df1[training_size:len(df1),:1]"
   ]
  },
  {
   "cell_type": "code",
   "execution_count": 16,
   "metadata": {},
   "outputs": [],
   "source": [
    "def create_dataset(dataset, time_step=1):\n",
    "    dataX, dataY = [], []\n",
    "    for i in range(len(dataset)-time_step-1):\n",
    "        a = dataset[i:(i+time_step), 0]\n",
    "        dataX.append(a)\n",
    "        dataY.append(dataset[i + time_step, 0])\n",
    "    return np.array(dataX), np.array(dataY)"
   ]
  },
  {
   "cell_type": "code",
   "execution_count": 17,
   "metadata": {},
   "outputs": [
    {
     "data": {
      "text/plain": [
       "array([[0.16488416, 0.1624546 , 0.16388228, ..., 0.17465247, 0.17545398,\n",
       "        0.19283657],\n",
       "       [0.1624546 , 0.16388228, 0.16375704, ..., 0.17545398, 0.19283657,\n",
       "        0.19616781],\n",
       "       [0.16388228, 0.16375704, 0.16814026, ..., 0.19283657, 0.19616781,\n",
       "        0.19839699],\n",
       "       ...,\n",
       "       [0.04398247, 0.03571697, 0.03594239, ..., 0.03812148, 0.03328741,\n",
       "        0.03651847],\n",
       "       [0.03571697, 0.03594239, 0.03474014, ..., 0.03328741, 0.03651847,\n",
       "        0.02384471],\n",
       "       [0.03594239, 0.03474014, 0.0305072 , ..., 0.03651847, 0.02384471,\n",
       "        0.0356794 ]])"
      ]
     },
     "execution_count": 17,
     "metadata": {},
     "output_type": "execute_result"
    }
   ],
   "source": [
    "time_step = 100\n",
    "X_train, y_train = create_dataset(train_data, time_step)\n",
    "X_test, y_test = create_dataset(test_data, time_step)\n",
    "X_train"
   ]
  },
  {
   "cell_type": "code",
   "execution_count": 18,
   "metadata": {},
   "outputs": [],
   "source": [
    "X_train = X_train.reshape(X_train.shape[0], X_train.shape[1], 1)\n",
    "X_test = X_test.reshape(X_test.shape[0], X_test.shape[1], 1)"
   ]
  },
  {
   "cell_type": "code",
   "execution_count": 19,
   "metadata": {},
   "outputs": [],
   "source": [
    "from tensorflow.keras.models import Sequential\n",
    "from tensorflow.keras.layers import Dense\n",
    "from tensorflow.keras.layers import LSTM"
   ]
  },
  {
   "cell_type": "code",
   "execution_count": 20,
   "metadata": {},
   "outputs": [],
   "source": [
    "model = Sequential()\n",
    "model.add(LSTM(50, return_sequences = True, input_shape = (100,1)))\n",
    "model.add(LSTM(50, return_sequences = True))\n",
    "model.add(LSTM(50))\n",
    "model.add(Dense(1))\n",
    "model.compile(loss='mean_squared_error', optimizer='adam')"
   ]
  },
  {
   "cell_type": "code",
   "execution_count": 21,
   "metadata": {},
   "outputs": [
    {
     "name": "stdout",
     "output_type": "stream",
     "text": [
      "Model: \"sequential_2\"\n",
      "_________________________________________________________________\n",
      " Layer (type)                Output Shape              Param #   \n",
      "=================================================================\n",
      " lstm_7 (LSTM)               (None, 100, 50)           10400     \n",
      "                                                                 \n",
      " lstm_8 (LSTM)               (None, 100, 50)           20200     \n",
      "                                                                 \n",
      " lstm_9 (LSTM)               (None, 50)                20200     \n",
      "                                                                 \n",
      " dense_2 (Dense)             (None, 1)                 51        \n",
      "                                                                 \n",
      "=================================================================\n",
      "Total params: 50,851\n",
      "Trainable params: 50,851\n",
      "Non-trainable params: 0\n",
      "_________________________________________________________________\n"
     ]
    }
   ],
   "source": [
    "model.summary()"
   ]
  },
  {
   "cell_type": "code",
   "execution_count": 22,
   "metadata": {},
   "outputs": [
    {
     "name": "stdout",
     "output_type": "stream",
     "text": [
      "Epoch 1/100\n",
      "12/12 [==============================] - 19s 571ms/step - loss: 0.0436 - val_loss: 0.0024\n",
      "Epoch 2/100\n",
      "12/12 [==============================] - 4s 351ms/step - loss: 0.0145 - val_loss: 0.0023\n",
      "Epoch 3/100\n",
      "12/12 [==============================] - 4s 366ms/step - loss: 0.0114 - val_loss: 0.0023\n",
      "Epoch 4/100\n",
      "12/12 [==============================] - 4s 368ms/step - loss: 0.0094 - val_loss: 3.4239e-04\n",
      "Epoch 5/100\n",
      "12/12 [==============================] - 7s 568ms/step - loss: 0.0081 - val_loss: 6.3296e-04\n",
      "Epoch 6/100\n",
      "12/12 [==============================] - 6s 504ms/step - loss: 0.0073 - val_loss: 0.0020\n",
      "Epoch 7/100\n",
      "12/12 [==============================] - 6s 486ms/step - loss: 0.0084 - val_loss: 3.2227e-04\n",
      "Epoch 8/100\n",
      "12/12 [==============================] - 4s 361ms/step - loss: 0.0064 - val_loss: 0.0019\n",
      "Epoch 9/100\n",
      "12/12 [==============================] - 4s 357ms/step - loss: 0.0070 - val_loss: 6.6445e-04\n",
      "Epoch 10/100\n",
      "12/12 [==============================] - 4s 367ms/step - loss: 0.0058 - val_loss: 5.2717e-04\n",
      "Epoch 11/100\n",
      "12/12 [==============================] - 6s 542ms/step - loss: 0.0055 - val_loss: 8.2098e-04\n",
      "Epoch 12/100\n",
      "12/12 [==============================] - 6s 508ms/step - loss: 0.0046 - val_loss: 3.8756e-04\n",
      "Epoch 13/100\n",
      "12/12 [==============================] - 5s 430ms/step - loss: 0.0047 - val_loss: 4.1479e-04\n",
      "Epoch 14/100\n",
      "12/12 [==============================] - 6s 467ms/step - loss: 0.0038 - val_loss: 3.9524e-04\n",
      "Epoch 15/100\n",
      "12/12 [==============================] - 5s 401ms/step - loss: 0.0034 - val_loss: 3.4730e-04\n",
      "Epoch 16/100\n",
      "12/12 [==============================] - 5s 379ms/step - loss: 0.0029 - val_loss: 2.9955e-04\n",
      "Epoch 17/100\n",
      "12/12 [==============================] - 5s 391ms/step - loss: 0.0028 - val_loss: 4.3815e-04\n",
      "Epoch 18/100\n",
      "12/12 [==============================] - 5s 380ms/step - loss: 0.0029 - val_loss: 2.8423e-04\n",
      "Epoch 19/100\n",
      "12/12 [==============================] - 5s 377ms/step - loss: 0.0026 - val_loss: 3.6220e-04\n",
      "Epoch 20/100\n",
      "12/12 [==============================] - 5s 388ms/step - loss: 0.0024 - val_loss: 4.0945e-04\n",
      "Epoch 21/100\n",
      "12/12 [==============================] - 5s 386ms/step - loss: 0.0029 - val_loss: 3.1605e-04\n",
      "Epoch 22/100\n",
      "12/12 [==============================] - 5s 408ms/step - loss: 0.0030 - val_loss: 3.2145e-04\n",
      "Epoch 23/100\n",
      "12/12 [==============================] - 4s 371ms/step - loss: 0.0022 - val_loss: 2.7571e-04\n",
      "Epoch 24/100\n",
      "12/12 [==============================] - 4s 361ms/step - loss: 0.0019 - val_loss: 3.6647e-04\n",
      "Epoch 25/100\n",
      "12/12 [==============================] - 4s 366ms/step - loss: 0.0021 - val_loss: 2.6422e-04\n",
      "Epoch 26/100\n",
      "12/12 [==============================] - 4s 364ms/step - loss: 0.0019 - val_loss: 2.7627e-04\n",
      "Epoch 27/100\n",
      "12/12 [==============================] - 5s 403ms/step - loss: 0.0021 - val_loss: 2.8663e-04\n",
      "Epoch 28/100\n",
      "12/12 [==============================] - 5s 369ms/step - loss: 0.0021 - val_loss: 7.9422e-04\n",
      "Epoch 29/100\n",
      "12/12 [==============================] - 4s 360ms/step - loss: 0.0064 - val_loss: 0.0014\n",
      "Epoch 30/100\n",
      "12/12 [==============================] - 5s 394ms/step - loss: 0.0036 - val_loss: 4.3732e-04\n",
      "Epoch 31/100\n",
      "12/12 [==============================] - 5s 420ms/step - loss: 0.0034 - val_loss: 3.4066e-04\n",
      "Epoch 32/100\n",
      "12/12 [==============================] - 4s 371ms/step - loss: 0.0034 - val_loss: 3.2090e-04\n",
      "Epoch 33/100\n",
      "12/12 [==============================] - 4s 377ms/step - loss: 0.0023 - val_loss: 3.8678e-04\n",
      "Epoch 34/100\n",
      "12/12 [==============================] - 4s 363ms/step - loss: 0.0026 - val_loss: 2.4436e-04\n",
      "Epoch 35/100\n",
      "12/12 [==============================] - 4s 371ms/step - loss: 0.0031 - val_loss: 2.4113e-04\n",
      "Epoch 36/100\n",
      "12/12 [==============================] - 4s 361ms/step - loss: 0.0020 - val_loss: 2.7491e-04\n",
      "Epoch 37/100\n",
      "12/12 [==============================] - 4s 357ms/step - loss: 0.0021 - val_loss: 2.3878e-04\n",
      "Epoch 38/100\n",
      "12/12 [==============================] - 5s 380ms/step - loss: 0.0019 - val_loss: 2.8206e-04\n",
      "Epoch 39/100\n",
      "12/12 [==============================] - 4s 377ms/step - loss: 0.0020 - val_loss: 2.4325e-04\n",
      "Epoch 40/100\n",
      "12/12 [==============================] - 4s 367ms/step - loss: 0.0020 - val_loss: 2.7469e-04\n",
      "Epoch 41/100\n",
      "12/12 [==============================] - 4s 369ms/step - loss: 0.0018 - val_loss: 2.5712e-04\n",
      "Epoch 42/100\n",
      "12/12 [==============================] - 4s 367ms/step - loss: 0.0021 - val_loss: 3.2807e-04\n",
      "Epoch 43/100\n",
      "12/12 [==============================] - 5s 380ms/step - loss: 0.0018 - val_loss: 2.7443e-04\n",
      "Epoch 44/100\n",
      "12/12 [==============================] - 4s 371ms/step - loss: 0.0018 - val_loss: 2.5660e-04\n",
      "Epoch 45/100\n",
      "12/12 [==============================] - 4s 366ms/step - loss: 0.0017 - val_loss: 2.4175e-04\n",
      "Epoch 46/100\n",
      "12/12 [==============================] - 4s 369ms/step - loss: 0.0019 - val_loss: 3.4643e-04\n",
      "Epoch 47/100\n",
      "12/12 [==============================] - 4s 373ms/step - loss: 0.0017 - val_loss: 2.4989e-04\n",
      "Epoch 48/100\n",
      "12/12 [==============================] - 4s 376ms/step - loss: 0.0019 - val_loss: 3.5810e-04\n",
      "Epoch 49/100\n",
      "12/12 [==============================] - 5s 409ms/step - loss: 0.0016 - val_loss: 2.4966e-04\n",
      "Epoch 50/100\n",
      "12/12 [==============================] - 5s 408ms/step - loss: 0.0015 - val_loss: 2.8081e-04\n",
      "Epoch 51/100\n",
      "12/12 [==============================] - 5s 407ms/step - loss: 0.0020 - val_loss: 3.4817e-04\n",
      "Epoch 52/100\n",
      "12/12 [==============================] - 5s 416ms/step - loss: 0.0017 - val_loss: 2.8234e-04\n",
      "Epoch 53/100\n",
      "12/12 [==============================] - 5s 389ms/step - loss: 0.0018 - val_loss: 2.6039e-04\n",
      "Epoch 54/100\n",
      "12/12 [==============================] - 5s 398ms/step - loss: 0.0017 - val_loss: 3.7353e-04\n",
      "Epoch 55/100\n",
      "12/12 [==============================] - 4s 371ms/step - loss: 0.0049 - val_loss: 3.8277e-04\n",
      "Epoch 56/100\n",
      "12/12 [==============================] - 4s 362ms/step - loss: 0.0035 - val_loss: 7.4463e-04\n",
      "Epoch 57/100\n",
      "12/12 [==============================] - 4s 367ms/step - loss: 0.0028 - val_loss: 2.4941e-04\n",
      "Epoch 58/100\n",
      "12/12 [==============================] - 5s 380ms/step - loss: 0.0024 - val_loss: 2.7638e-04\n",
      "Epoch 59/100\n",
      "12/12 [==============================] - 4s 368ms/step - loss: 0.0024 - val_loss: 2.8918e-04\n",
      "Epoch 60/100\n",
      "12/12 [==============================] - 4s 363ms/step - loss: 0.0026 - val_loss: 4.9439e-04\n",
      "Epoch 61/100\n",
      "12/12 [==============================] - 4s 371ms/step - loss: 0.0021 - val_loss: 2.5320e-04\n",
      "Epoch 62/100\n",
      "12/12 [==============================] - 4s 363ms/step - loss: 0.0030 - val_loss: 2.9313e-04\n",
      "Epoch 63/100\n",
      "12/12 [==============================] - 4s 357ms/step - loss: 0.0026 - val_loss: 2.4154e-04\n",
      "Epoch 64/100\n",
      "12/12 [==============================] - 4s 367ms/step - loss: 0.0020 - val_loss: 4.9004e-04\n",
      "Epoch 65/100\n",
      "12/12 [==============================] - 5s 380ms/step - loss: 0.0029 - val_loss: 2.7528e-04\n",
      "Epoch 66/100\n",
      "12/12 [==============================] - 4s 373ms/step - loss: 0.0032 - val_loss: 2.4387e-04\n",
      "Epoch 67/100\n",
      "12/12 [==============================] - 4s 366ms/step - loss: 0.0022 - val_loss: 4.1092e-04\n",
      "Epoch 68/100\n",
      "12/12 [==============================] - 4s 373ms/step - loss: 0.0019 - val_loss: 2.4865e-04\n",
      "Epoch 69/100\n",
      "12/12 [==============================] - 4s 377ms/step - loss: 0.0019 - val_loss: 2.5023e-04\n",
      "Epoch 70/100\n",
      "12/12 [==============================] - 5s 380ms/step - loss: 0.0015 - val_loss: 2.5566e-04\n",
      "Epoch 71/100\n",
      "12/12 [==============================] - 5s 402ms/step - loss: 0.0015 - val_loss: 2.3584e-04\n",
      "Epoch 72/100\n",
      "12/12 [==============================] - 4s 371ms/step - loss: 0.0015 - val_loss: 2.4043e-04\n",
      "Epoch 73/100\n",
      "12/12 [==============================] - 4s 367ms/step - loss: 0.0012 - val_loss: 2.4322e-04\n",
      "Epoch 74/100\n",
      "12/12 [==============================] - 5s 377ms/step - loss: 0.0012 - val_loss: 2.3201e-04\n",
      "Epoch 75/100\n",
      "12/12 [==============================] - 5s 380ms/step - loss: 0.0013 - val_loss: 2.3333e-04\n",
      "Epoch 76/100\n",
      "12/12 [==============================] - 4s 370ms/step - loss: 0.0012 - val_loss: 2.5932e-04\n",
      "Epoch 77/100\n",
      "12/12 [==============================] - 5s 381ms/step - loss: 0.0012 - val_loss: 2.6260e-04\n",
      "Epoch 78/100\n",
      "12/12 [==============================] - 5s 379ms/step - loss: 0.0016 - val_loss: 2.3963e-04\n",
      "Epoch 79/100\n",
      "12/12 [==============================] - 4s 373ms/step - loss: 0.0014 - val_loss: 2.4335e-04\n",
      "Epoch 80/100\n",
      "12/12 [==============================] - 4s 371ms/step - loss: 0.0016 - val_loss: 2.5480e-04\n",
      "Epoch 81/100\n",
      "12/12 [==============================] - 5s 377ms/step - loss: 0.0012 - val_loss: 2.5624e-04\n",
      "Epoch 82/100\n",
      "12/12 [==============================] - 5s 403ms/step - loss: 0.0023 - val_loss: 2.9160e-04\n",
      "Epoch 83/100\n",
      "12/12 [==============================] - 5s 396ms/step - loss: 0.0022 - val_loss: 6.2965e-04\n",
      "Epoch 84/100\n",
      "12/12 [==============================] - 5s 396ms/step - loss: 0.0021 - val_loss: 2.2223e-04\n",
      "Epoch 85/100\n",
      "12/12 [==============================] - 5s 378ms/step - loss: 0.0018 - val_loss: 2.3360e-04\n",
      "Epoch 86/100\n",
      "12/12 [==============================] - 5s 389ms/step - loss: 0.0016 - val_loss: 4.3228e-04\n",
      "Epoch 87/100\n",
      "12/12 [==============================] - 4s 372ms/step - loss: 0.0022 - val_loss: 2.5784e-04\n",
      "Epoch 88/100\n",
      "12/12 [==============================] - 4s 378ms/step - loss: 0.0014 - val_loss: 2.5086e-04\n",
      "Epoch 89/100\n",
      "12/12 [==============================] - 4s 372ms/step - loss: 0.0016 - val_loss: 2.5111e-04\n",
      "Epoch 90/100\n",
      "12/12 [==============================] - 5s 383ms/step - loss: 0.0011 - val_loss: 2.3325e-04\n",
      "Epoch 91/100\n",
      "12/12 [==============================] - 5s 390ms/step - loss: 0.0012 - val_loss: 3.8557e-04\n",
      "Epoch 92/100\n",
      "12/12 [==============================] - 4s 374ms/step - loss: 0.0036 - val_loss: 2.3850e-04\n",
      "Epoch 93/100\n",
      "12/12 [==============================] - 5s 384ms/step - loss: 0.0022 - val_loss: 3.1601e-04\n",
      "Epoch 94/100\n",
      "12/12 [==============================] - 5s 381ms/step - loss: 0.0022 - val_loss: 2.2251e-04\n",
      "Epoch 95/100\n",
      "12/12 [==============================] - 4s 376ms/step - loss: 0.0022 - val_loss: 3.0074e-04\n",
      "Epoch 96/100\n",
      "12/12 [==============================] - 5s 386ms/step - loss: 0.0017 - val_loss: 2.3627e-04\n",
      "Epoch 97/100\n",
      "12/12 [==============================] - 5s 454ms/step - loss: 0.0014 - val_loss: 2.1945e-04\n",
      "Epoch 98/100\n",
      "12/12 [==============================] - 5s 379ms/step - loss: 0.0023 - val_loss: 2.2262e-04\n",
      "Epoch 99/100\n",
      "12/12 [==============================] - 4s 371ms/step - loss: 0.0047 - val_loss: 0.0022\n",
      "Epoch 100/100\n",
      "12/12 [==============================] - 4s 374ms/step - loss: 0.0081 - val_loss: 5.3837e-04\n"
     ]
    },
    {
     "data": {
      "text/plain": [
       "<keras.callbacks.History at 0x1e805af8490>"
      ]
     },
     "execution_count": 22,
     "metadata": {},
     "output_type": "execute_result"
    }
   ],
   "source": [
    "model.fit(X_train, y_train, validation_data = (X_test, y_test), epochs=100, batch_size=64, verbose=1)"
   ]
  },
  {
   "cell_type": "code",
   "execution_count": 25,
   "metadata": {},
   "outputs": [
    {
     "name": "stdout",
     "output_type": "stream",
     "text": [
      "23/23 [==============================] - 4s 75ms/step\n",
      "11/11 [==============================] - 1s 81ms/step\n"
     ]
    }
   ],
   "source": [
    "train_predict = model.predict(X_train)\n",
    "test_predict = model.predict(X_test)"
   ]
  },
  {
   "cell_type": "code",
   "execution_count": 26,
   "metadata": {},
   "outputs": [],
   "source": [
    "train_predict = scaler.inverse_transform(train_predict)\n",
    "test_predict = scaler.inverse_transform(test_predict)"
   ]
  },
  {
   "cell_type": "code",
   "execution_count": 27,
   "metadata": {},
   "outputs": [
    {
     "data": {
      "text/plain": [
       "227.06961193983787"
      ]
     },
     "execution_count": 27,
     "metadata": {},
     "output_type": "execute_result"
    }
   ],
   "source": [
    "import math\n",
    "from sklearn.metrics import mean_squared_error\n",
    "math.sqrt(mean_squared_error(y_train, train_predict))"
   ]
  },
  {
   "cell_type": "code",
   "execution_count": 28,
   "metadata": {},
   "outputs": [
    {
     "data": {
      "text/plain": [
       "152.87923370585884"
      ]
     },
     "execution_count": 28,
     "metadata": {},
     "output_type": "execute_result"
    }
   ],
   "source": [
    "math.sqrt(mean_squared_error(y_test, test_predict))"
   ]
  },
  {
   "cell_type": "code",
   "execution_count": 29,
   "metadata": {},
   "outputs": [
    {
     "data": {
      "text/plain": [
       "152.87923370585884"
      ]
     },
     "execution_count": 29,
     "metadata": {},
     "output_type": "execute_result"
    }
   ],
   "source": [
    "mse = mean_squared_error(y_test, test_predict)\n",
    "mse**0.5"
   ]
  },
  {
   "cell_type": "code",
   "execution_count": 33,
   "metadata": {},
   "outputs": [
    {
     "data": {
      "image/png": "[encoded data removed]",
      "text/plain": [
       "<Figure size 432x288 with 1 Axes>"
      ]
     },
     "metadata": {
      "needs_background": "light"
     },
     "output_type": "display_data"
    }
   ],
   "source": [
    "look_back = 100\n",
    "trainPredictPlot = np.empty_like(df1)\n",
    "trainPredictPlot[:, :] = np.nan\n",
    "trainPredictPlot[look_back:len(train_predict)+look_back, :] = train_predict\n",
    "\n",
    "testPredictPlot = np.empty_like(df1)\n",
    "testPredictPlot[:, :] = np.nan\n",
    "testPredictPlot[len(train_predict)+(look_back*2)+1:len(df1)-1, :] = test_predict\n",
    "\n",
    "plt.plot(scaler.inverse_transform(df1))\n",
    "plt.plot(trainPredictPlot)\n",
    "plt.plot(testPredictPlot)\n",
    "plt.show()"
   ]
  },
  {
   "cell_type": "code",
   "execution_count": null,
   "metadata": {},
   "outputs": [],
   "source": []
  }
 ],
 "metadata": {
  "kernelspec": {
   "display_name": "Python 3.10.0 64-bit",
   "language": "python",
   "name": "python3"
  },
  "language_info": {
   "codemirror_mode": {
    "name": "ipython",
    "version": 3
   },
   "file_extension": ".py",
   "mimetype": "text/x-python",
   "name": "python",
   "nbconvert_exporter": "python",
   "pygments_lexer": "ipython3",
   "version": "3.10.0"
  },
  "orig_nbformat": 4,
  "vscode": {
   "interpreter": {
    "hash": "369f2c481f4da34e4445cda3fffd2e751bd1c4d706f27375911949ba6bb62e1c"
   }
  }
 },
 "nbformat": 4,
 "nbformat_minor": 2
}
