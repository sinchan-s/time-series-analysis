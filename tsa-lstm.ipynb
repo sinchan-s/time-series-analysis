{
 "cells": [
  {
   "cell_type": "code",
   "execution_count": 10,
   "metadata": {},
   "outputs": [],
   "source": [
    "import pandas_datareader as pdr\n",
    "import matplotlib.pyplot as plt"
   ]
  },
  {
   "cell_type": "code",
   "execution_count": 3,
   "metadata": {},
   "outputs": [
    {
     "name": "stderr",
     "output_type": "stream",
     "text": [
      "C:\\Users\\sinch\\AppData\\Local\\Temp\\ipykernel_13280\\918027198.py:1: FutureWarning: In a future version of pandas all arguments of concat except for the argument 'objs' will be keyword-only.\n",
      "  df = pdr.get_data_tiingo('AAPL', api_key='ab2882f6485e2828c46882b863cc7c8cdaaef007')\n"
     ]
    },
    {
     "data": {
      "text/html": [
       "<div>\n",
       "<style scoped>\n",
       "    .dataframe tbody tr th:only-of-type {\n",
       "        vertical-align: middle;\n",
       "    }\n",
       "\n",
       "    .dataframe tbody tr th {\n",
       "        vertical-align: top;\n",
       "    }\n",
       "\n",
       "    .dataframe thead th {\n",
       "        text-align: right;\n",
       "    }\n",
       "</style>\n",
       "<table border=\"1\" class=\"dataframe\">\n",
       "  <thead>\n",
       "    <tr style=\"text-align: right;\">\n",
       "      <th></th>\n",
       "      <th></th>\n",
       "      <th>close</th>\n",
       "      <th>high</th>\n",
       "      <th>low</th>\n",
       "      <th>open</th>\n",
       "      <th>volume</th>\n",
       "      <th>adjClose</th>\n",
       "      <th>adjHigh</th>\n",
       "      <th>adjLow</th>\n",
       "      <th>adjOpen</th>\n",
       "      <th>adjVolume</th>\n",
       "      <th>divCash</th>\n",
       "      <th>splitFactor</th>\n",
       "    </tr>\n",
       "    <tr>\n",
       "      <th>symbol</th>\n",
       "      <th>date</th>\n",
       "      <th></th>\n",
       "      <th></th>\n",
       "      <th></th>\n",
       "      <th></th>\n",
       "      <th></th>\n",
       "      <th></th>\n",
       "      <th></th>\n",
       "      <th></th>\n",
       "      <th></th>\n",
       "      <th></th>\n",
       "      <th></th>\n",
       "      <th></th>\n",
       "    </tr>\n",
       "  </thead>\n",
       "  <tbody>\n",
       "    <tr>\n",
       "      <th rowspan=\"5\" valign=\"top\">AAPL</th>\n",
       "      <th>2017-12-07 00:00:00+00:00</th>\n",
       "      <td>169.32</td>\n",
       "      <td>170.44</td>\n",
       "      <td>168.910</td>\n",
       "      <td>169.03</td>\n",
       "      <td>24469613</td>\n",
       "      <td>40.249729</td>\n",
       "      <td>40.515968</td>\n",
       "      <td>40.152266</td>\n",
       "      <td>40.180792</td>\n",
       "      <td>97878452</td>\n",
       "      <td>0.0</td>\n",
       "      <td>1.0</td>\n",
       "    </tr>\n",
       "    <tr>\n",
       "      <th>2017-12-08 00:00:00+00:00</th>\n",
       "      <td>169.37</td>\n",
       "      <td>171.00</td>\n",
       "      <td>168.820</td>\n",
       "      <td>170.49</td>\n",
       "      <td>23096872</td>\n",
       "      <td>40.261615</td>\n",
       "      <td>40.649088</td>\n",
       "      <td>40.130872</td>\n",
       "      <td>40.527854</td>\n",
       "      <td>92387488</td>\n",
       "      <td>0.0</td>\n",
       "      <td>1.0</td>\n",
       "    </tr>\n",
       "    <tr>\n",
       "      <th>2017-12-11 00:00:00+00:00</th>\n",
       "      <td>172.67</td>\n",
       "      <td>172.89</td>\n",
       "      <td>168.790</td>\n",
       "      <td>169.20</td>\n",
       "      <td>33092051</td>\n",
       "      <td>41.046071</td>\n",
       "      <td>41.098368</td>\n",
       "      <td>40.123740</td>\n",
       "      <td>40.221203</td>\n",
       "      <td>132368204</td>\n",
       "      <td>0.0</td>\n",
       "      <td>1.0</td>\n",
       "    </tr>\n",
       "    <tr>\n",
       "      <th>2017-12-12 00:00:00+00:00</th>\n",
       "      <td>171.70</td>\n",
       "      <td>172.39</td>\n",
       "      <td>171.461</td>\n",
       "      <td>172.15</td>\n",
       "      <td>18945457</td>\n",
       "      <td>40.815488</td>\n",
       "      <td>40.979511</td>\n",
       "      <td>40.758674</td>\n",
       "      <td>40.922459</td>\n",
       "      <td>75781828</td>\n",
       "      <td>0.0</td>\n",
       "      <td>1.0</td>\n",
       "    </tr>\n",
       "    <tr>\n",
       "      <th>2017-12-13 00:00:00+00:00</th>\n",
       "      <td>172.27</td>\n",
       "      <td>173.54</td>\n",
       "      <td>172.000</td>\n",
       "      <td>172.50</td>\n",
       "      <td>23142242</td>\n",
       "      <td>40.950985</td>\n",
       "      <td>41.252882</td>\n",
       "      <td>40.886802</td>\n",
       "      <td>41.005659</td>\n",
       "      <td>92568968</td>\n",
       "      <td>0.0</td>\n",
       "      <td>1.0</td>\n",
       "    </tr>\n",
       "  </tbody>\n",
       "</table>\n",
       "</div>"
      ],
      "text/plain": [
       "                                   close    high      low    open    volume  \\\n",
       "symbol date                                                                   \n",
       "AAPL   2017-12-07 00:00:00+00:00  169.32  170.44  168.910  169.03  24469613   \n",
       "       2017-12-08 00:00:00+00:00  169.37  171.00  168.820  170.49  23096872   \n",
       "       2017-12-11 00:00:00+00:00  172.67  172.89  168.790  169.20  33092051   \n",
       "       2017-12-12 00:00:00+00:00  171.70  172.39  171.461  172.15  18945457   \n",
       "       2017-12-13 00:00:00+00:00  172.27  173.54  172.000  172.50  23142242   \n",
       "\n",
       "                                   adjClose    adjHigh     adjLow    adjOpen  \\\n",
       "symbol date                                                                    \n",
       "AAPL   2017-12-07 00:00:00+00:00  40.249729  40.515968  40.152266  40.180792   \n",
       "       2017-12-08 00:00:00+00:00  40.261615  40.649088  40.130872  40.527854   \n",
       "       2017-12-11 00:00:00+00:00  41.046071  41.098368  40.123740  40.221203   \n",
       "       2017-12-12 00:00:00+00:00  40.815488  40.979511  40.758674  40.922459   \n",
       "       2017-12-13 00:00:00+00:00  40.950985  41.252882  40.886802  41.005659   \n",
       "\n",
       "                                  adjVolume  divCash  splitFactor  \n",
       "symbol date                                                        \n",
       "AAPL   2017-12-07 00:00:00+00:00   97878452      0.0          1.0  \n",
       "       2017-12-08 00:00:00+00:00   92387488      0.0          1.0  \n",
       "       2017-12-11 00:00:00+00:00  132368204      0.0          1.0  \n",
       "       2017-12-12 00:00:00+00:00   75781828      0.0          1.0  \n",
       "       2017-12-13 00:00:00+00:00   92568968      0.0          1.0  "
      ]
     },
     "execution_count": 3,
     "metadata": {},
     "output_type": "execute_result"
    }
   ],
   "source": [
    "df = pdr.get_data_tiingo('AAPL', api_key='ab2882f6485e2828c46882b863cc7c8cdaaef007')\n",
    "df.head()"
   ]
  },
  {
   "cell_type": "code",
   "execution_count": 5,
   "metadata": {},
   "outputs": [
    {
     "data": {
      "text/html": [
       "<div>\n",
       "<style scoped>\n",
       "    .dataframe tbody tr th:only-of-type {\n",
       "        vertical-align: middle;\n",
       "    }\n",
       "\n",
       "    .dataframe tbody tr th {\n",
       "        vertical-align: top;\n",
       "    }\n",
       "\n",
       "    .dataframe thead th {\n",
       "        text-align: right;\n",
       "    }\n",
       "</style>\n",
       "<table border=\"1\" class=\"dataframe\">\n",
       "  <thead>\n",
       "    <tr style=\"text-align: right;\">\n",
       "      <th></th>\n",
       "      <th></th>\n",
       "      <th>close</th>\n",
       "      <th>high</th>\n",
       "      <th>low</th>\n",
       "      <th>open</th>\n",
       "      <th>volume</th>\n",
       "      <th>adjClose</th>\n",
       "      <th>adjHigh</th>\n",
       "      <th>adjLow</th>\n",
       "      <th>adjOpen</th>\n",
       "      <th>adjVolume</th>\n",
       "      <th>divCash</th>\n",
       "      <th>splitFactor</th>\n",
       "    </tr>\n",
       "    <tr>\n",
       "      <th>symbol</th>\n",
       "      <th>date</th>\n",
       "      <th></th>\n",
       "      <th></th>\n",
       "      <th></th>\n",
       "      <th></th>\n",
       "      <th></th>\n",
       "      <th></th>\n",
       "      <th></th>\n",
       "      <th></th>\n",
       "      <th></th>\n",
       "      <th></th>\n",
       "      <th></th>\n",
       "      <th></th>\n",
       "    </tr>\n",
       "  </thead>\n",
       "  <tbody>\n",
       "    <tr>\n",
       "      <th rowspan=\"5\" valign=\"top\">AAPL</th>\n",
       "      <th>2022-11-29 00:00:00+00:00</th>\n",
       "      <td>141.17</td>\n",
       "      <td>144.8100</td>\n",
       "      <td>140.355</td>\n",
       "      <td>144.290</td>\n",
       "      <td>83763803</td>\n",
       "      <td>141.17</td>\n",
       "      <td>144.8100</td>\n",
       "      <td>140.355</td>\n",
       "      <td>144.290</td>\n",
       "      <td>83763803</td>\n",
       "      <td>0.0</td>\n",
       "      <td>1.0</td>\n",
       "    </tr>\n",
       "    <tr>\n",
       "      <th>2022-11-30 00:00:00+00:00</th>\n",
       "      <td>148.03</td>\n",
       "      <td>148.7200</td>\n",
       "      <td>140.550</td>\n",
       "      <td>141.395</td>\n",
       "      <td>111380880</td>\n",
       "      <td>148.03</td>\n",
       "      <td>148.7200</td>\n",
       "      <td>140.550</td>\n",
       "      <td>141.395</td>\n",
       "      <td>111380880</td>\n",
       "      <td>0.0</td>\n",
       "      <td>1.0</td>\n",
       "    </tr>\n",
       "    <tr>\n",
       "      <th>2022-12-01 00:00:00+00:00</th>\n",
       "      <td>148.31</td>\n",
       "      <td>149.1300</td>\n",
       "      <td>146.610</td>\n",
       "      <td>148.210</td>\n",
       "      <td>71250416</td>\n",
       "      <td>148.31</td>\n",
       "      <td>149.1300</td>\n",
       "      <td>146.610</td>\n",
       "      <td>148.210</td>\n",
       "      <td>71250416</td>\n",
       "      <td>0.0</td>\n",
       "      <td>1.0</td>\n",
       "    </tr>\n",
       "    <tr>\n",
       "      <th>2022-12-02 00:00:00+00:00</th>\n",
       "      <td>147.81</td>\n",
       "      <td>148.0000</td>\n",
       "      <td>145.650</td>\n",
       "      <td>145.960</td>\n",
       "      <td>65447446</td>\n",
       "      <td>147.81</td>\n",
       "      <td>148.0000</td>\n",
       "      <td>145.650</td>\n",
       "      <td>145.960</td>\n",
       "      <td>65447446</td>\n",
       "      <td>0.0</td>\n",
       "      <td>1.0</td>\n",
       "    </tr>\n",
       "    <tr>\n",
       "      <th>2022-12-05 00:00:00+00:00</th>\n",
       "      <td>146.63</td>\n",
       "      <td>150.9199</td>\n",
       "      <td>145.770</td>\n",
       "      <td>147.770</td>\n",
       "      <td>68826442</td>\n",
       "      <td>146.63</td>\n",
       "      <td>150.9199</td>\n",
       "      <td>145.770</td>\n",
       "      <td>147.770</td>\n",
       "      <td>68826442</td>\n",
       "      <td>0.0</td>\n",
       "      <td>1.0</td>\n",
       "    </tr>\n",
       "  </tbody>\n",
       "</table>\n",
       "</div>"
      ],
      "text/plain": [
       "                                   close      high      low     open  \\\n",
       "symbol date                                                            \n",
       "AAPL   2022-11-29 00:00:00+00:00  141.17  144.8100  140.355  144.290   \n",
       "       2022-11-30 00:00:00+00:00  148.03  148.7200  140.550  141.395   \n",
       "       2022-12-01 00:00:00+00:00  148.31  149.1300  146.610  148.210   \n",
       "       2022-12-02 00:00:00+00:00  147.81  148.0000  145.650  145.960   \n",
       "       2022-12-05 00:00:00+00:00  146.63  150.9199  145.770  147.770   \n",
       "\n",
       "                                     volume  adjClose   adjHigh   adjLow  \\\n",
       "symbol date                                                                \n",
       "AAPL   2022-11-29 00:00:00+00:00   83763803    141.17  144.8100  140.355   \n",
       "       2022-11-30 00:00:00+00:00  111380880    148.03  148.7200  140.550   \n",
       "       2022-12-01 00:00:00+00:00   71250416    148.31  149.1300  146.610   \n",
       "       2022-12-02 00:00:00+00:00   65447446    147.81  148.0000  145.650   \n",
       "       2022-12-05 00:00:00+00:00   68826442    146.63  150.9199  145.770   \n",
       "\n",
       "                                  adjOpen  adjVolume  divCash  splitFactor  \n",
       "symbol date                                                                 \n",
       "AAPL   2022-11-29 00:00:00+00:00  144.290   83763803      0.0          1.0  \n",
       "       2022-11-30 00:00:00+00:00  141.395  111380880      0.0          1.0  \n",
       "       2022-12-01 00:00:00+00:00  148.210   71250416      0.0          1.0  \n",
       "       2022-12-02 00:00:00+00:00  145.960   65447446      0.0          1.0  \n",
       "       2022-12-05 00:00:00+00:00  147.770   68826442      0.0          1.0  "
      ]
     },
     "execution_count": 5,
     "metadata": {},
     "output_type": "execute_result"
    }
   ],
   "source": [
    "df.tail()"
   ]
  },
  {
   "cell_type": "code",
   "execution_count": 7,
   "metadata": {},
   "outputs": [
    {
     "data": {
      "text/plain": [
       "0    169.32\n",
       "1    169.37\n",
       "2    172.67\n",
       "3    171.70\n",
       "4    172.27\n",
       "Name: close, dtype: float64"
      ]
     },
     "execution_count": 7,
     "metadata": {},
     "output_type": "execute_result"
    }
   ],
   "source": [
    "df1 = df.reset_index()['close']\n",
    "df1.head()"
   ]
  },
  {
   "cell_type": "code",
   "execution_count": 12,
   "metadata": {},
   "outputs": [
    {
     "data": {
      "text/plain": [
       "(1257,)"
      ]
     },
     "execution_count": 12,
     "metadata": {},
     "output_type": "execute_result"
    }
   ],
   "source": [
    "df1.shape"
   ]
  },
  {
   "cell_type": "code",
   "execution_count": 11,
   "metadata": {},
   "outputs": [
    {
     "data": {
      "text/plain": [
       "[<matplotlib.lines.Line2D at 0x2cb444973a0>]"
      ]
     },
     "execution_count": 11,
     "metadata": {},
     "output_type": "execute_result"
    },
    {
     "data": {
      "image/png": "[encoded data removed]",
      "text/plain": [
       "<Figure size 432x288 with 1 Axes>"
      ]
     },
     "metadata": {
      "needs_background": "light"
     },
     "output_type": "display_data"
    }
   ],
   "source": [
    "plt.plot(df1)"
   ]
  },
  {
   "cell_type": "code",
   "execution_count": 13,
   "metadata": {},
   "outputs": [],
   "source": [
    "import numpy as np \n",
    "from sklearn.preprocessing import MinMaxScaler"
   ]
  },
  {
   "cell_type": "code",
   "execution_count": 14,
   "metadata": {},
   "outputs": [
    {
     "data": {
      "text/plain": [
       "(1257, 1)"
      ]
     },
     "execution_count": 14,
     "metadata": {},
     "output_type": "execute_result"
    }
   ],
   "source": [
    "scaler = MinMaxScaler(feature_range=(0,1))\n",
    "df1 = scaler.fit_transform(np.array(df1).reshape(-1,1))\n",
    "df1.shape"
   ]
  },
  {
   "cell_type": "code",
   "execution_count": 15,
   "metadata": {},
   "outputs": [],
   "source": [
    "training_size = int(len(df1)*0.65)\n",
    "test_size = len(df1)-training_size\n",
    "train_data, test_data = df1[0:training_size,:], df1[training_size:len(df1),:1]"
   ]
  },
  {
   "cell_type": "code",
   "execution_count": 16,
   "metadata": {},
   "outputs": [],
   "source": [
    "def create_dataset(dataset, time_step=1):\n",
    "    dataX, dataY = [], []\n",
    "    for i in range(len(dataset)-time_step-1):\n",
    "        a = dataset[i:(i+time_step), 0]\n",
    "        dataX.append(a)\n",
    "        dataY.append(dataset[i + time_step, 0])\n",
    "    return np.array(dataX), np.array(dataY)"
   ]
  },
  {
   "cell_type": "code",
   "execution_count": 17,
   "metadata": {},
   "outputs": [
    {
     "data": {
      "text/plain": [
       "array([[0.15649343, 0.15661866, 0.16488416, ..., 0.14632436, 0.15594239,\n",
       "        0.17465247],\n",
       "       [0.15661866, 0.16488416, 0.1624546 , ..., 0.15594239, 0.17465247,\n",
       "        0.17545398],\n",
       "       [0.16488416, 0.1624546 , 0.16388228, ..., 0.17465247, 0.17545398,\n",
       "        0.19283657],\n",
       "       ...,\n",
       "       [0.02036318, 0.02537257, 0.04398247, ..., 0.05247339, 0.04578585,\n",
       "        0.03812148],\n",
       "       [0.02537257, 0.04398247, 0.03571697, ..., 0.04578585, 0.03812148,\n",
       "        0.03328741],\n",
       "       [0.04398247, 0.03571697, 0.03594239, ..., 0.03812148, 0.03328741,\n",
       "        0.03651847]])"
      ]
     },
     "execution_count": 17,
     "metadata": {},
     "output_type": "execute_result"
    }
   ],
   "source": [
    "time_step = 100\n",
    "X_train, y_train = create_dataset(train_data, time_step)\n",
    "X_test, y_test = create_dataset(test_data, time_step)\n",
    "X_train"
   ]
  },
  {
   "cell_type": "code",
   "execution_count": 18,
   "metadata": {},
   "outputs": [],
   "source": [
    "X_train = X_train.reshape(X_train.shape[0], X_train.shape[1], 1)\n",
    "X_test = X_test.reshape(X_test.shape[0], X_test.shape[1], 1)"
   ]
  },
  {
   "cell_type": "code",
   "execution_count": null,
   "metadata": {},
   "outputs": [],
   "source": []
  }
 ],
 "metadata": {
  "kernelspec": {
   "display_name": "Python 3.10.0 64-bit",
   "language": "python",
   "name": "python3"
  },
  "language_info": {
   "codemirror_mode": {
    "name": "ipython",
    "version": 3
   },
   "file_extension": ".py",
   "mimetype": "text/x-python",
   "name": "python",
   "nbconvert_exporter": "python",
   "pygments_lexer": "ipython3",
   "version": "3.10.0"
  },
  "orig_nbformat": 4,
  "vscode": {
   "interpreter": {
    "hash": "369f2c481f4da34e4445cda3fffd2e751bd1c4d706f27375911949ba6bb62e1c"
   }
  }
 },
 "nbformat": 4,
 "nbformat_minor": 2
}
