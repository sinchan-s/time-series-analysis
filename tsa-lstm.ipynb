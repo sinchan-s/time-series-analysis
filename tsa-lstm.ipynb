{
 "cells": [
  {
   "cell_type": "code",
   "execution_count": 1,
   "metadata": {},
   "outputs": [],
   "source": [
    "import pandas_datareader as pdr"
   ]
  },
  {
   "cell_type": "code",
   "execution_count": 3,
   "metadata": {},
   "outputs": [
    {
     "name": "stderr",
     "output_type": "stream",
     "text": [
      "C:\\Users\\sinch\\AppData\\Local\\Temp\\ipykernel_13280\\918027198.py:1: FutureWarning: In a future version of pandas all arguments of concat except for the argument 'objs' will be keyword-only.\n",
      "  df = pdr.get_data_tiingo('AAPL', api_key='ab2882f6485e2828c46882b863cc7c8cdaaef007')\n"
     ]
    },
    {
     "data": {
      "text/html": [
       "<div>\n",
       "<style scoped>\n",
       "    .dataframe tbody tr th:only-of-type {\n",
       "        vertical-align: middle;\n",
       "    }\n",
       "\n",
       "    .dataframe tbody tr th {\n",
       "        vertical-align: top;\n",
       "    }\n",
       "\n",
       "    .dataframe thead th {\n",
       "        text-align: right;\n",
       "    }\n",
       "</style>\n",
       "<table border=\"1\" class=\"dataframe\">\n",
       "  <thead>\n",
       "    <tr style=\"text-align: right;\">\n",
       "      <th></th>\n",
       "      <th></th>\n",
       "      <th>close</th>\n",
       "      <th>high</th>\n",
       "      <th>low</th>\n",
       "      <th>open</th>\n",
       "      <th>volume</th>\n",
       "      <th>adjClose</th>\n",
       "      <th>adjHigh</th>\n",
       "      <th>adjLow</th>\n",
       "      <th>adjOpen</th>\n",
       "      <th>adjVolume</th>\n",
       "      <th>divCash</th>\n",
       "      <th>splitFactor</th>\n",
       "    </tr>\n",
       "    <tr>\n",
       "      <th>symbol</th>\n",
       "      <th>date</th>\n",
       "      <th></th>\n",
       "      <th></th>\n",
       "      <th></th>\n",
       "      <th></th>\n",
       "      <th></th>\n",
       "      <th></th>\n",
       "      <th></th>\n",
       "      <th></th>\n",
       "      <th></th>\n",
       "      <th></th>\n",
       "      <th></th>\n",
       "      <th></th>\n",
       "    </tr>\n",
       "  </thead>\n",
       "  <tbody>\n",
       "    <tr>\n",
       "      <th rowspan=\"5\" valign=\"top\">AAPL</th>\n",
       "      <th>2017-12-07 00:00:00+00:00</th>\n",
       "      <td>169.32</td>\n",
       "      <td>170.44</td>\n",
       "      <td>168.910</td>\n",
       "      <td>169.03</td>\n",
       "      <td>24469613</td>\n",
       "      <td>40.249729</td>\n",
       "      <td>40.515968</td>\n",
       "      <td>40.152266</td>\n",
       "      <td>40.180792</td>\n",
       "      <td>97878452</td>\n",
       "      <td>0.0</td>\n",
       "      <td>1.0</td>\n",
       "    </tr>\n",
       "    <tr>\n",
       "      <th>2017-12-08 00:00:00+00:00</th>\n",
       "      <td>169.37</td>\n",
       "      <td>171.00</td>\n",
       "      <td>168.820</td>\n",
       "      <td>170.49</td>\n",
       "      <td>23096872</td>\n",
       "      <td>40.261615</td>\n",
       "      <td>40.649088</td>\n",
       "      <td>40.130872</td>\n",
       "      <td>40.527854</td>\n",
       "      <td>92387488</td>\n",
       "      <td>0.0</td>\n",
       "      <td>1.0</td>\n",
       "    </tr>\n",
       "    <tr>\n",
       "      <th>2017-12-11 00:00:00+00:00</th>\n",
       "      <td>172.67</td>\n",
       "      <td>172.89</td>\n",
       "      <td>168.790</td>\n",
       "      <td>169.20</td>\n",
       "      <td>33092051</td>\n",
       "      <td>41.046071</td>\n",
       "      <td>41.098368</td>\n",
       "      <td>40.123740</td>\n",
       "      <td>40.221203</td>\n",
       "      <td>132368204</td>\n",
       "      <td>0.0</td>\n",
       "      <td>1.0</td>\n",
       "    </tr>\n",
       "    <tr>\n",
       "      <th>2017-12-12 00:00:00+00:00</th>\n",
       "      <td>171.70</td>\n",
       "      <td>172.39</td>\n",
       "      <td>171.461</td>\n",
       "      <td>172.15</td>\n",
       "      <td>18945457</td>\n",
       "      <td>40.815488</td>\n",
       "      <td>40.979511</td>\n",
       "      <td>40.758674</td>\n",
       "      <td>40.922459</td>\n",
       "      <td>75781828</td>\n",
       "      <td>0.0</td>\n",
       "      <td>1.0</td>\n",
       "    </tr>\n",
       "    <tr>\n",
       "      <th>2017-12-13 00:00:00+00:00</th>\n",
       "      <td>172.27</td>\n",
       "      <td>173.54</td>\n",
       "      <td>172.000</td>\n",
       "      <td>172.50</td>\n",
       "      <td>23142242</td>\n",
       "      <td>40.950985</td>\n",
       "      <td>41.252882</td>\n",
       "      <td>40.886802</td>\n",
       "      <td>41.005659</td>\n",
       "      <td>92568968</td>\n",
       "      <td>0.0</td>\n",
       "      <td>1.0</td>\n",
       "    </tr>\n",
       "  </tbody>\n",
       "</table>\n",
       "</div>"
      ],
      "text/plain": [
       "                                   close    high      low    open    volume  \\\n",
       "symbol date                                                                   \n",
       "AAPL   2017-12-07 00:00:00+00:00  169.32  170.44  168.910  169.03  24469613   \n",
       "       2017-12-08 00:00:00+00:00  169.37  171.00  168.820  170.49  23096872   \n",
       "       2017-12-11 00:00:00+00:00  172.67  172.89  168.790  169.20  33092051   \n",
       "       2017-12-12 00:00:00+00:00  171.70  172.39  171.461  172.15  18945457   \n",
       "       2017-12-13 00:00:00+00:00  172.27  173.54  172.000  172.50  23142242   \n",
       "\n",
       "                                   adjClose    adjHigh     adjLow    adjOpen  \\\n",
       "symbol date                                                                    \n",
       "AAPL   2017-12-07 00:00:00+00:00  40.249729  40.515968  40.152266  40.180792   \n",
       "       2017-12-08 00:00:00+00:00  40.261615  40.649088  40.130872  40.527854   \n",
       "       2017-12-11 00:00:00+00:00  41.046071  41.098368  40.123740  40.221203   \n",
       "       2017-12-12 00:00:00+00:00  40.815488  40.979511  40.758674  40.922459   \n",
       "       2017-12-13 00:00:00+00:00  40.950985  41.252882  40.886802  41.005659   \n",
       "\n",
       "                                  adjVolume  divCash  splitFactor  \n",
       "symbol date                                                        \n",
       "AAPL   2017-12-07 00:00:00+00:00   97878452      0.0          1.0  \n",
       "       2017-12-08 00:00:00+00:00   92387488      0.0          1.0  \n",
       "       2017-12-11 00:00:00+00:00  132368204      0.0          1.0  \n",
       "       2017-12-12 00:00:00+00:00   75781828      0.0          1.0  \n",
       "       2017-12-13 00:00:00+00:00   92568968      0.0          1.0  "
      ]
     },
     "execution_count": 3,
     "metadata": {},
     "output_type": "execute_result"
    }
   ],
   "source": [
    "df = pdr.get_data_tiingo('AAPL', api_key='ab2882f6485e2828c46882b863cc7c8cdaaef007')\n",
    "df.head()"
   ]
  },
  {
   "cell_type": "code",
   "execution_count": 4,
   "metadata": {},
   "outputs": [
    {
     "data": {
      "text/plain": [
       "0    169.32\n",
       "1    169.37\n",
       "2    172.67\n",
       "3    171.70\n",
       "4    172.27\n",
       "Name: close, dtype: float64"
      ]
     },
     "execution_count": 4,
     "metadata": {},
     "output_type": "execute_result"
    }
   ],
   "source": [
    "df2 = df.reset_index()['close']\n",
    "df2.head()"
   ]
  },
  {
   "cell_type": "code",
   "execution_count": null,
   "metadata": {},
   "outputs": [],
   "source": []
  }
 ],
 "metadata": {
  "kernelspec": {
   "display_name": "Python 3.10.0 64-bit",
   "language": "python",
   "name": "python3"
  },
  "language_info": {
   "codemirror_mode": {
    "name": "ipython",
    "version": 3
   },
   "file_extension": ".py",
   "mimetype": "text/x-python",
   "name": "python",
   "nbconvert_exporter": "python",
   "pygments_lexer": "ipython3",
   "version": "3.10.0"
  },
  "orig_nbformat": 4,
  "vscode": {
   "interpreter": {
    "hash": "369f2c481f4da34e4445cda3fffd2e751bd1c4d706f27375911949ba6bb62e1c"
   }
  }
 },
 "nbformat": 4,
 "nbformat_minor": 2
}
