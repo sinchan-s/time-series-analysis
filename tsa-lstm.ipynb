{
 "cells": [
  {
   "attachments": {},
   "cell_type": "markdown",
   "metadata": {},
   "source": [
    "## Libraries for TSA using LSTM"
   ]
  },
  {
   "cell_type": "code",
   "execution_count": 1,
   "metadata": {},
   "outputs": [],
   "source": [
    "import pandas_datareader as pdr\n",
    "import matplotlib.pyplot as plt"
   ]
  },
  {
   "attachments": {},
   "cell_type": "markdown",
   "metadata": {},
   "source": [
    "## Apple Stock data for TSA"
   ]
  },
  {
   "cell_type": "code",
   "execution_count": 2,
   "metadata": {},
   "outputs": [
    {
     "name": "stderr",
     "output_type": "stream",
     "text": [
      "C:\\Users\\sinch\\AppData\\Local\\Temp\\ipykernel_14348\\918027198.py:1: FutureWarning: In a future version of pandas all arguments of concat except for the argument 'objs' will be keyword-only.\n",
      "  df = pdr.get_data_tiingo('AAPL', api_key='ab2882f6485e2828c46882b863cc7c8cdaaef007')\n"
     ]
    },
    {
     "data": {
      "text/html": [
       "<div>\n",
       "<style scoped>\n",
       "    .dataframe tbody tr th:only-of-type {\n",
       "        vertical-align: middle;\n",
       "    }\n",
       "\n",
       "    .dataframe tbody tr th {\n",
       "        vertical-align: top;\n",
       "    }\n",
       "\n",
       "    .dataframe thead th {\n",
       "        text-align: right;\n",
       "    }\n",
       "</style>\n",
       "<table border=\"1\" class=\"dataframe\">\n",
       "  <thead>\n",
       "    <tr style=\"text-align: right;\">\n",
       "      <th></th>\n",
       "      <th></th>\n",
       "      <th>close</th>\n",
       "      <th>high</th>\n",
       "      <th>low</th>\n",
       "      <th>open</th>\n",
       "      <th>volume</th>\n",
       "      <th>adjClose</th>\n",
       "      <th>adjHigh</th>\n",
       "      <th>adjLow</th>\n",
       "      <th>adjOpen</th>\n",
       "      <th>adjVolume</th>\n",
       "      <th>divCash</th>\n",
       "      <th>splitFactor</th>\n",
       "    </tr>\n",
       "    <tr>\n",
       "      <th>symbol</th>\n",
       "      <th>date</th>\n",
       "      <th></th>\n",
       "      <th></th>\n",
       "      <th></th>\n",
       "      <th></th>\n",
       "      <th></th>\n",
       "      <th></th>\n",
       "      <th></th>\n",
       "      <th></th>\n",
       "      <th></th>\n",
       "      <th></th>\n",
       "      <th></th>\n",
       "      <th></th>\n",
       "    </tr>\n",
       "  </thead>\n",
       "  <tbody>\n",
       "    <tr>\n",
       "      <th rowspan=\"5\" valign=\"top\">AAPL</th>\n",
       "      <th>2017-12-11 00:00:00+00:00</th>\n",
       "      <td>172.67</td>\n",
       "      <td>172.89</td>\n",
       "      <td>168.790</td>\n",
       "      <td>169.20</td>\n",
       "      <td>33092051</td>\n",
       "      <td>41.046071</td>\n",
       "      <td>41.098368</td>\n",
       "      <td>40.123740</td>\n",
       "      <td>40.221203</td>\n",
       "      <td>132368204</td>\n",
       "      <td>0.0</td>\n",
       "      <td>1.0</td>\n",
       "    </tr>\n",
       "    <tr>\n",
       "      <th>2017-12-12 00:00:00+00:00</th>\n",
       "      <td>171.70</td>\n",
       "      <td>172.39</td>\n",
       "      <td>171.461</td>\n",
       "      <td>172.15</td>\n",
       "      <td>18945457</td>\n",
       "      <td>40.815488</td>\n",
       "      <td>40.979511</td>\n",
       "      <td>40.758674</td>\n",
       "      <td>40.922459</td>\n",
       "      <td>75781828</td>\n",
       "      <td>0.0</td>\n",
       "      <td>1.0</td>\n",
       "    </tr>\n",
       "    <tr>\n",
       "      <th>2017-12-13 00:00:00+00:00</th>\n",
       "      <td>172.27</td>\n",
       "      <td>173.54</td>\n",
       "      <td>172.000</td>\n",
       "      <td>172.50</td>\n",
       "      <td>23142242</td>\n",
       "      <td>40.950985</td>\n",
       "      <td>41.252882</td>\n",
       "      <td>40.886802</td>\n",
       "      <td>41.005659</td>\n",
       "      <td>92568968</td>\n",
       "      <td>0.0</td>\n",
       "      <td>1.0</td>\n",
       "    </tr>\n",
       "    <tr>\n",
       "      <th>2017-12-14 00:00:00+00:00</th>\n",
       "      <td>172.22</td>\n",
       "      <td>173.13</td>\n",
       "      <td>171.650</td>\n",
       "      <td>172.40</td>\n",
       "      <td>20219307</td>\n",
       "      <td>40.939099</td>\n",
       "      <td>41.155419</td>\n",
       "      <td>40.803602</td>\n",
       "      <td>40.981888</td>\n",
       "      <td>80877228</td>\n",
       "      <td>0.0</td>\n",
       "      <td>1.0</td>\n",
       "    </tr>\n",
       "    <tr>\n",
       "      <th>2017-12-15 00:00:00+00:00</th>\n",
       "      <td>173.97</td>\n",
       "      <td>174.17</td>\n",
       "      <td>172.460</td>\n",
       "      <td>173.63</td>\n",
       "      <td>37054632</td>\n",
       "      <td>41.355099</td>\n",
       "      <td>41.402642</td>\n",
       "      <td>40.996151</td>\n",
       "      <td>41.274276</td>\n",
       "      <td>148218528</td>\n",
       "      <td>0.0</td>\n",
       "      <td>1.0</td>\n",
       "    </tr>\n",
       "  </tbody>\n",
       "</table>\n",
       "</div>"
      ],
      "text/plain": [
       "                                   close    high      low    open    volume  \\\n",
       "symbol date                                                                   \n",
       "AAPL   2017-12-11 00:00:00+00:00  172.67  172.89  168.790  169.20  33092051   \n",
       "       2017-12-12 00:00:00+00:00  171.70  172.39  171.461  172.15  18945457   \n",
       "       2017-12-13 00:00:00+00:00  172.27  173.54  172.000  172.50  23142242   \n",
       "       2017-12-14 00:00:00+00:00  172.22  173.13  171.650  172.40  20219307   \n",
       "       2017-12-15 00:00:00+00:00  173.97  174.17  172.460  173.63  37054632   \n",
       "\n",
       "                                   adjClose    adjHigh     adjLow    adjOpen  \\\n",
       "symbol date                                                                    \n",
       "AAPL   2017-12-11 00:00:00+00:00  41.046071  41.098368  40.123740  40.221203   \n",
       "       2017-12-12 00:00:00+00:00  40.815488  40.979511  40.758674  40.922459   \n",
       "       2017-12-13 00:00:00+00:00  40.950985  41.252882  40.886802  41.005659   \n",
       "       2017-12-14 00:00:00+00:00  40.939099  41.155419  40.803602  40.981888   \n",
       "       2017-12-15 00:00:00+00:00  41.355099  41.402642  40.996151  41.274276   \n",
       "\n",
       "                                  adjVolume  divCash  splitFactor  \n",
       "symbol date                                                        \n",
       "AAPL   2017-12-11 00:00:00+00:00  132368204      0.0          1.0  \n",
       "       2017-12-12 00:00:00+00:00   75781828      0.0          1.0  \n",
       "       2017-12-13 00:00:00+00:00   92568968      0.0          1.0  \n",
       "       2017-12-14 00:00:00+00:00   80877228      0.0          1.0  \n",
       "       2017-12-15 00:00:00+00:00  148218528      0.0          1.0  "
      ]
     },
     "execution_count": 2,
     "metadata": {},
     "output_type": "execute_result"
    }
   ],
   "source": [
    "df = pdr.get_data_tiingo('AAPL', api_key='ab2882f6485e2828c46882b863cc7c8cdaaef007')\n",
    "df.head()"
   ]
  },
  {
   "cell_type": "code",
   "execution_count": 3,
   "metadata": {},
   "outputs": [
    {
     "data": {
      "text/html": [
       "<div>\n",
       "<style scoped>\n",
       "    .dataframe tbody tr th:only-of-type {\n",
       "        vertical-align: middle;\n",
       "    }\n",
       "\n",
       "    .dataframe tbody tr th {\n",
       "        vertical-align: top;\n",
       "    }\n",
       "\n",
       "    .dataframe thead th {\n",
       "        text-align: right;\n",
       "    }\n",
       "</style>\n",
       "<table border=\"1\" class=\"dataframe\">\n",
       "  <thead>\n",
       "    <tr style=\"text-align: right;\">\n",
       "      <th></th>\n",
       "      <th></th>\n",
       "      <th>close</th>\n",
       "      <th>high</th>\n",
       "      <th>low</th>\n",
       "      <th>open</th>\n",
       "      <th>volume</th>\n",
       "      <th>adjClose</th>\n",
       "      <th>adjHigh</th>\n",
       "      <th>adjLow</th>\n",
       "      <th>adjOpen</th>\n",
       "      <th>adjVolume</th>\n",
       "      <th>divCash</th>\n",
       "      <th>splitFactor</th>\n",
       "    </tr>\n",
       "    <tr>\n",
       "      <th>symbol</th>\n",
       "      <th>date</th>\n",
       "      <th></th>\n",
       "      <th></th>\n",
       "      <th></th>\n",
       "      <th></th>\n",
       "      <th></th>\n",
       "      <th></th>\n",
       "      <th></th>\n",
       "      <th></th>\n",
       "      <th></th>\n",
       "      <th></th>\n",
       "      <th></th>\n",
       "      <th></th>\n",
       "    </tr>\n",
       "  </thead>\n",
       "  <tbody>\n",
       "    <tr>\n",
       "      <th rowspan=\"5\" valign=\"top\">AAPL</th>\n",
       "      <th>2022-12-05 00:00:00+00:00</th>\n",
       "      <td>146.63</td>\n",
       "      <td>150.9199</td>\n",
       "      <td>145.77</td>\n",
       "      <td>147.770</td>\n",
       "      <td>68826442</td>\n",
       "      <td>146.63</td>\n",
       "      <td>150.9199</td>\n",
       "      <td>145.77</td>\n",
       "      <td>147.770</td>\n",
       "      <td>68826442</td>\n",
       "      <td>0.0</td>\n",
       "      <td>1.0</td>\n",
       "    </tr>\n",
       "    <tr>\n",
       "      <th>2022-12-06 00:00:00+00:00</th>\n",
       "      <td>142.91</td>\n",
       "      <td>147.3000</td>\n",
       "      <td>141.92</td>\n",
       "      <td>147.075</td>\n",
       "      <td>64727186</td>\n",
       "      <td>142.91</td>\n",
       "      <td>147.3000</td>\n",
       "      <td>141.92</td>\n",
       "      <td>147.075</td>\n",
       "      <td>64727186</td>\n",
       "      <td>0.0</td>\n",
       "      <td>1.0</td>\n",
       "    </tr>\n",
       "    <tr>\n",
       "      <th>2022-12-07 00:00:00+00:00</th>\n",
       "      <td>140.94</td>\n",
       "      <td>143.3700</td>\n",
       "      <td>140.00</td>\n",
       "      <td>142.190</td>\n",
       "      <td>69721094</td>\n",
       "      <td>140.94</td>\n",
       "      <td>143.3700</td>\n",
       "      <td>140.00</td>\n",
       "      <td>142.190</td>\n",
       "      <td>69721094</td>\n",
       "      <td>0.0</td>\n",
       "      <td>1.0</td>\n",
       "    </tr>\n",
       "    <tr>\n",
       "      <th>2022-12-08 00:00:00+00:00</th>\n",
       "      <td>142.65</td>\n",
       "      <td>143.5200</td>\n",
       "      <td>141.10</td>\n",
       "      <td>142.360</td>\n",
       "      <td>62128338</td>\n",
       "      <td>142.65</td>\n",
       "      <td>143.5200</td>\n",
       "      <td>141.10</td>\n",
       "      <td>142.360</td>\n",
       "      <td>62128338</td>\n",
       "      <td>0.0</td>\n",
       "      <td>1.0</td>\n",
       "    </tr>\n",
       "    <tr>\n",
       "      <th>2022-12-09 00:00:00+00:00</th>\n",
       "      <td>142.16</td>\n",
       "      <td>145.5700</td>\n",
       "      <td>140.90</td>\n",
       "      <td>142.340</td>\n",
       "      <td>76097011</td>\n",
       "      <td>142.16</td>\n",
       "      <td>145.5700</td>\n",
       "      <td>140.90</td>\n",
       "      <td>142.340</td>\n",
       "      <td>76097011</td>\n",
       "      <td>0.0</td>\n",
       "      <td>1.0</td>\n",
       "    </tr>\n",
       "  </tbody>\n",
       "</table>\n",
       "</div>"
      ],
      "text/plain": [
       "                                   close      high     low     open    volume  \\\n",
       "symbol date                                                                     \n",
       "AAPL   2022-12-05 00:00:00+00:00  146.63  150.9199  145.77  147.770  68826442   \n",
       "       2022-12-06 00:00:00+00:00  142.91  147.3000  141.92  147.075  64727186   \n",
       "       2022-12-07 00:00:00+00:00  140.94  143.3700  140.00  142.190  69721094   \n",
       "       2022-12-08 00:00:00+00:00  142.65  143.5200  141.10  142.360  62128338   \n",
       "       2022-12-09 00:00:00+00:00  142.16  145.5700  140.90  142.340  76097011   \n",
       "\n",
       "                                  adjClose   adjHigh  adjLow  adjOpen  \\\n",
       "symbol date                                                             \n",
       "AAPL   2022-12-05 00:00:00+00:00    146.63  150.9199  145.77  147.770   \n",
       "       2022-12-06 00:00:00+00:00    142.91  147.3000  141.92  147.075   \n",
       "       2022-12-07 00:00:00+00:00    140.94  143.3700  140.00  142.190   \n",
       "       2022-12-08 00:00:00+00:00    142.65  143.5200  141.10  142.360   \n",
       "       2022-12-09 00:00:00+00:00    142.16  145.5700  140.90  142.340   \n",
       "\n",
       "                                  adjVolume  divCash  splitFactor  \n",
       "symbol date                                                        \n",
       "AAPL   2022-12-05 00:00:00+00:00   68826442      0.0          1.0  \n",
       "       2022-12-06 00:00:00+00:00   64727186      0.0          1.0  \n",
       "       2022-12-07 00:00:00+00:00   69721094      0.0          1.0  \n",
       "       2022-12-08 00:00:00+00:00   62128338      0.0          1.0  \n",
       "       2022-12-09 00:00:00+00:00   76097011      0.0          1.0  "
      ]
     },
     "execution_count": 3,
     "metadata": {},
     "output_type": "execute_result"
    }
   ],
   "source": [
    "df.tail()"
   ]
  },
  {
   "attachments": {},
   "cell_type": "markdown",
   "metadata": {},
   "source": [
    "### Dataframing: Closing Price data for forecasting"
   ]
  },
  {
   "cell_type": "code",
   "execution_count": 4,
   "metadata": {},
   "outputs": [
    {
     "data": {
      "text/plain": [
       "0    172.67\n",
       "1    171.70\n",
       "2    172.27\n",
       "3    172.22\n",
       "4    173.97\n",
       "Name: close, dtype: float64"
      ]
     },
     "execution_count": 4,
     "metadata": {},
     "output_type": "execute_result"
    }
   ],
   "source": [
    "df1 = df.reset_index()['close']\n",
    "df1.head()"
   ]
  },
  {
   "attachments": {},
   "cell_type": "markdown",
   "metadata": {},
   "source": [
    "### Shape of the dataframe"
   ]
  },
  {
   "cell_type": "code",
   "execution_count": 5,
   "metadata": {},
   "outputs": [
    {
     "data": {
      "text/plain": [
       "(1259,)"
      ]
     },
     "execution_count": 5,
     "metadata": {},
     "output_type": "execute_result"
    }
   ],
   "source": [
    "df1.shape"
   ]
  },
  {
   "cell_type": "markdown",
   "metadata": {},
   "source": [
    "## Trend check of the data"
   ]
  },
  {
   "cell_type": "code",
   "execution_count": null,
   "metadata": {},
   "outputs": [
    {
     "data": {
      "text/plain": [
       "[<matplotlib.lines.Line2D at 0x29f14986710>]"
      ]
     },
     "execution_count": 6,
     "metadata": {},
     "output_type": "execute_result"
    },
    {
     "data": {
      "image/png": "[encoded data removed]",
      "text/plain": [
       "<Figure size 432x288 with 1 Axes>"
      ]
     },
     "metadata": {
      "needs_background": "light"
     },
     "output_type": "display_data"
    }
   ],
   "source": [
    "plt.plot(df1)"
   ]
  },
  {
   "attachments": {},
   "cell_type": "markdown",
   "metadata": {},
   "source": [
    "## Scaling the data in range: 0 to 1"
   ]
  },
  {
   "cell_type": "code",
   "execution_count": 7,
   "metadata": {},
   "outputs": [],
   "source": [
    "import numpy as np \n",
    "from sklearn.preprocessing import MinMaxScaler"
   ]
  },
  {
   "cell_type": "code",
   "execution_count": 8,
   "metadata": {},
   "outputs": [
    {
     "data": {
      "text/plain": [
       "(1259, 1)"
      ]
     },
     "execution_count": 8,
     "metadata": {},
     "output_type": "execute_result"
    }
   ],
   "source": [
    "scaler = MinMaxScaler(feature_range=(0,1))\n",
    "df1 = scaler.fit_transform(np.array(df1).reshape(-1,1))\n",
    "df1.shape"
   ]
  },
  {
   "attachments": {},
   "cell_type": "markdown",
   "metadata": {},
   "source": [
    "## Train-Test data split"
   ]
  },
  {
   "cell_type": "code",
   "execution_count": 9,
   "metadata": {},
   "outputs": [],
   "source": [
    "training_size = int(len(df1)*0.65)\n",
    "test_size = len(df1)-training_size\n",
    "train_data, test_data = df1[0:training_size,:], df1[training_size:len(df1),:1]"
   ]
  },
  {
   "attachments": {},
   "cell_type": "markdown",
   "metadata": {},
   "source": [
    "## Data creation for prediction"
   ]
  },
  {
   "cell_type": "code",
   "execution_count": 10,
   "metadata": {},
   "outputs": [],
   "source": [
    "def create_dataset(dataset, time_step=1):\n",
    "    dataX, dataY = [], []\n",
    "    for i in range(len(dataset)-time_step-1):\n",
    "        a = dataset[i:(i+time_step), 0]\n",
    "        dataX.append(a)\n",
    "        dataY.append(dataset[i + time_step, 0])\n",
    "    return np.array(dataX), np.array(dataY)"
   ]
  },
  {
   "attachments": {},
   "cell_type": "markdown",
   "metadata": {},
   "source": [
    "### Data creation: Train & Test"
   ]
  },
  {
   "cell_type": "code",
   "execution_count": 11,
   "metadata": {},
   "outputs": [
    {
     "data": {
      "text/plain": [
       "array([[0.16488416, 0.1624546 , 0.16388228, ..., 0.17465247, 0.17545398,\n",
       "        0.19283657],\n",
       "       [0.1624546 , 0.16388228, 0.16375704, ..., 0.17545398, 0.19283657,\n",
       "        0.19616781],\n",
       "       [0.16388228, 0.16375704, 0.16814026, ..., 0.19283657, 0.19616781,\n",
       "        0.19839699],\n",
       "       ...,\n",
       "       [0.03571697, 0.03594239, 0.03474014, ..., 0.03328741, 0.03651847,\n",
       "        0.02384471],\n",
       "       [0.03594239, 0.03474014, 0.0305072 , ..., 0.03651847, 0.02384471,\n",
       "        0.0356794 ],\n",
       "       [0.03474014, 0.0305072 , 0.02289292, ..., 0.02384471, 0.0356794 ,\n",
       "        0.03291171]])"
      ]
     },
     "execution_count": 11,
     "metadata": {},
     "output_type": "execute_result"
    }
   ],
   "source": [
    "time_step = 100\n",
    "X_train, y_train = create_dataset(train_data, time_step)\n",
    "X_test, y_test = create_dataset(test_data, time_step)\n",
    "X_train"
   ]
  },
  {
   "attachments": {},
   "cell_type": "markdown",
   "metadata": {},
   "source": [
    "## Dataset reshaping for model input"
   ]
  },
  {
   "cell_type": "code",
   "execution_count": 12,
   "metadata": {},
   "outputs": [],
   "source": [
    "X_train = X_train.reshape(X_train.shape[0], X_train.shape[1], 1)\n",
    "X_test = X_test.reshape(X_test.shape[0], X_test.shape[1], 1)"
   ]
  },
  {
   "attachments": {},
   "cell_type": "markdown",
   "metadata": {},
   "source": [
    "## Tensorflow Imports"
   ]
  },
  {
   "cell_type": "code",
   "execution_count": 13,
   "metadata": {},
   "outputs": [],
   "source": [
    "from tensorflow.keras.models import Sequential\n",
    "from tensorflow.keras.layers import Dense\n",
    "from tensorflow.keras.layers import LSTM"
   ]
  },
  {
   "attachments": {},
   "cell_type": "markdown",
   "metadata": {},
   "source": [
    "## LSTM Model initiation"
   ]
  },
  {
   "cell_type": "code",
   "execution_count": 14,
   "metadata": {},
   "outputs": [],
   "source": [
    "model = Sequential()\n",
    "model.add(LSTM(50, return_sequences = True, input_shape = (100,1)))\n",
    "model.add(LSTM(50, return_sequences = True))\n",
    "model.add(LSTM(50))\n",
    "model.add(Dense(1))\n",
    "model.compile(loss='mean_squared_error', optimizer='adam')"
   ]
  },
  {
   "attachments": {},
   "cell_type": "markdown",
   "metadata": {},
   "source": [
    "### Model summary"
   ]
  },
  {
   "cell_type": "code",
   "execution_count": 15,
   "metadata": {},
   "outputs": [
    {
     "name": "stdout",
     "output_type": "stream",
     "text": [
      "Model: \"sequential\"\n",
      "_________________________________________________________________\n",
      " Layer (type)                Output Shape              Param #   \n",
      "=================================================================\n",
      " lstm (LSTM)                 (None, 100, 50)           10400     \n",
      "                                                                 \n",
      " lstm_1 (LSTM)               (None, 100, 50)           20200     \n",
      "                                                                 \n",
      " lstm_2 (LSTM)               (None, 50)                20200     \n",
      "                                                                 \n",
      " dense (Dense)               (None, 1)                 51        \n",
      "                                                                 \n",
      "=================================================================\n",
      "Total params: 50,851\n",
      "Trainable params: 50,851\n",
      "Non-trainable params: 0\n",
      "_________________________________________________________________\n"
     ]
    }
   ],
   "source": [
    "model.summary()"
   ]
  },
  {
   "attachments": {},
   "cell_type": "markdown",
   "metadata": {},
   "source": [
    "### Model fitting"
   ]
  },
  {
   "cell_type": "code",
   "execution_count": 16,
   "metadata": {},
   "outputs": [
    {
     "name": "stdout",
     "output_type": "stream",
     "text": [
      "Epoch 1/100\n",
      "12/12 [==============================] - 20s 525ms/step - loss: 0.0543 - val_loss: 0.0063\n",
      "Epoch 2/100\n",
      "12/12 [==============================] - 4s 312ms/step - loss: 0.0141 - val_loss: 0.0027\n",
      "Epoch 3/100\n",
      "12/12 [==============================] - 4s 347ms/step - loss: 0.0108 - val_loss: 6.1350e-04\n",
      "Epoch 4/100\n",
      "12/12 [==============================] - 5s 406ms/step - loss: 0.0097 - val_loss: 3.5517e-04\n",
      "Epoch 5/100\n",
      "12/12 [==============================] - 4s 377ms/step - loss: 0.0084 - val_loss: 4.4705e-04\n",
      "Epoch 6/100\n",
      "12/12 [==============================] - 5s 385ms/step - loss: 0.0077 - val_loss: 4.2682e-04\n",
      "Epoch 7/100\n",
      "12/12 [==============================] - 5s 416ms/step - loss: 0.0073 - val_loss: 3.9199e-04\n",
      "Epoch 8/100\n",
      "12/12 [==============================] - 5s 412ms/step - loss: 0.0068 - val_loss: 4.8539e-04\n",
      "Epoch 9/100\n",
      "12/12 [==============================] - 5s 407ms/step - loss: 0.0059 - val_loss: 4.7809e-04\n",
      "Epoch 10/100\n",
      "12/12 [==============================] - 5s 406ms/step - loss: 0.0057 - val_loss: 7.7021e-04\n",
      "Epoch 11/100\n",
      "12/12 [==============================] - 5s 442ms/step - loss: 0.0053 - val_loss: 3.3678e-04\n",
      "Epoch 12/100\n",
      "12/12 [==============================] - 6s 491ms/step - loss: 0.0047 - val_loss: 3.1044e-04\n",
      "Epoch 13/100\n",
      "12/12 [==============================] - 7s 604ms/step - loss: 0.0041 - val_loss: 5.2261e-04\n",
      "Epoch 14/100\n",
      "12/12 [==============================] - 6s 474ms/step - loss: 0.0038 - val_loss: 2.9104e-04\n",
      "Epoch 15/100\n",
      "12/12 [==============================] - 5s 434ms/step - loss: 0.0037 - val_loss: 3.5503e-04\n",
      "Epoch 16/100\n",
      "12/12 [==============================] - 5s 410ms/step - loss: 0.0034 - val_loss: 2.9398e-04\n",
      "Epoch 17/100\n",
      "12/12 [==============================] - 5s 432ms/step - loss: 0.0029 - val_loss: 3.2391e-04\n",
      "Epoch 18/100\n",
      "12/12 [==============================] - 6s 484ms/step - loss: 0.0034 - val_loss: 2.8827e-04\n",
      "Epoch 19/100\n",
      "12/12 [==============================] - 5s 423ms/step - loss: 0.0046 - val_loss: 2.4050e-04\n",
      "Epoch 20/100\n",
      "12/12 [==============================] - 5s 418ms/step - loss: 0.0040 - val_loss: 2.8324e-04\n",
      "Epoch 21/100\n",
      "12/12 [==============================] - 5s 380ms/step - loss: 0.0035 - val_loss: 0.0016\n",
      "Epoch 22/100\n",
      "12/12 [==============================] - 5s 420ms/step - loss: 0.0038 - val_loss: 2.6186e-04\n",
      "Epoch 23/100\n",
      "12/12 [==============================] - 5s 434ms/step - loss: 0.0029 - val_loss: 2.5777e-04\n",
      "Epoch 24/100\n",
      "12/12 [==============================] - 5s 419ms/step - loss: 0.0022 - val_loss: 2.6730e-04\n",
      "Epoch 25/100\n",
      "12/12 [==============================] - 4s 354ms/step - loss: 0.0022 - val_loss: 2.6093e-04\n",
      "Epoch 26/100\n",
      "12/12 [==============================] - 4s 353ms/step - loss: 0.0025 - val_loss: 3.1603e-04\n",
      "Epoch 27/100\n",
      "12/12 [==============================] - 4s 319ms/step - loss: 0.0022 - val_loss: 2.5942e-04\n",
      "Epoch 28/100\n",
      "12/12 [==============================] - 4s 343ms/step - loss: 0.0022 - val_loss: 2.4742e-04\n",
      "Epoch 29/100\n",
      "12/12 [==============================] - 5s 428ms/step - loss: 0.0042 - val_loss: 8.2332e-04\n",
      "Epoch 30/100\n",
      "12/12 [==============================] - 4s 336ms/step - loss: 0.0028 - val_loss: 3.8199e-04\n",
      "Epoch 31/100\n",
      "12/12 [==============================] - 4s 378ms/step - loss: 0.0025 - val_loss: 2.4768e-04\n",
      "Epoch 32/100\n",
      "12/12 [==============================] - 5s 383ms/step - loss: 0.0019 - val_loss: 2.4634e-04\n",
      "Epoch 33/100\n",
      "12/12 [==============================] - 4s 375ms/step - loss: 0.0019 - val_loss: 2.5238e-04\n",
      "Epoch 34/100\n",
      "12/12 [==============================] - 5s 397ms/step - loss: 0.0016 - val_loss: 2.4382e-04\n",
      "Epoch 35/100\n",
      "12/12 [==============================] - 4s 359ms/step - loss: 0.0018 - val_loss: 2.5508e-04\n",
      "Epoch 36/100\n",
      "12/12 [==============================] - 4s 318ms/step - loss: 0.0017 - val_loss: 2.5401e-04\n",
      "Epoch 37/100\n",
      "12/12 [==============================] - 4s 302ms/step - loss: 0.0016 - val_loss: 3.0390e-04\n",
      "Epoch 38/100\n",
      "12/12 [==============================] - 4s 303ms/step - loss: 0.0029 - val_loss: 8.1016e-04\n",
      "Epoch 39/100\n",
      "12/12 [==============================] - 3s 294ms/step - loss: 0.0067 - val_loss: 6.1106e-04\n",
      "Epoch 40/100\n",
      "12/12 [==============================] - 4s 295ms/step - loss: 0.0035 - val_loss: 3.5766e-04\n",
      "Epoch 41/100\n",
      "12/12 [==============================] - 4s 300ms/step - loss: 0.0025 - val_loss: 7.2258e-04\n",
      "Epoch 42/100\n",
      "12/12 [==============================] - 4s 315ms/step - loss: 0.0023 - val_loss: 5.1717e-04\n",
      "Epoch 43/100\n",
      "12/12 [==============================] - 4s 350ms/step - loss: 0.0019 - val_loss: 2.6831e-04\n",
      "Epoch 44/100\n",
      "12/12 [==============================] - 4s 346ms/step - loss: 0.0031 - val_loss: 3.1822e-04\n",
      "Epoch 45/100\n",
      "12/12 [==============================] - 4s 321ms/step - loss: 0.0018 - val_loss: 2.8331e-04\n",
      "Epoch 46/100\n",
      "12/12 [==============================] - 4s 304ms/step - loss: 0.0018 - val_loss: 2.4529e-04\n",
      "Epoch 47/100\n",
      "12/12 [==============================] - 4s 313ms/step - loss: 0.0018 - val_loss: 2.4577e-04\n",
      "Epoch 48/100\n",
      "12/12 [==============================] - 4s 312ms/step - loss: 0.0018 - val_loss: 2.4410e-04\n",
      "Epoch 49/100\n",
      "12/12 [==============================] - 4s 310ms/step - loss: 0.0020 - val_loss: 3.1908e-04\n",
      "Epoch 50/100\n",
      "12/12 [==============================] - 3s 295ms/step - loss: 0.0022 - val_loss: 2.4368e-04\n",
      "Epoch 51/100\n",
      "12/12 [==============================] - 4s 296ms/step - loss: 0.0018 - val_loss: 2.5624e-04\n",
      "Epoch 52/100\n",
      "12/12 [==============================] - 4s 338ms/step - loss: 0.0018 - val_loss: 2.7197e-04\n",
      "Epoch 53/100\n",
      "12/12 [==============================] - 4s 322ms/step - loss: 0.0025 - val_loss: 2.6766e-04\n",
      "Epoch 54/100\n",
      "12/12 [==============================] - 4s 334ms/step - loss: 0.0017 - val_loss: 2.5460e-04\n",
      "Epoch 55/100\n",
      "12/12 [==============================] - 4s 329ms/step - loss: 0.0020 - val_loss: 3.3756e-04\n",
      "Epoch 56/100\n",
      "12/12 [==============================] - 4s 347ms/step - loss: 0.0016 - val_loss: 3.5361e-04\n",
      "Epoch 57/100\n",
      "12/12 [==============================] - 4s 343ms/step - loss: 0.0021 - val_loss: 4.4216e-04\n",
      "Epoch 58/100\n",
      "12/12 [==============================] - 4s 296ms/step - loss: 0.0019 - val_loss: 2.6629e-04\n",
      "Epoch 59/100\n",
      "12/12 [==============================] - 4s 307ms/step - loss: 0.0020 - val_loss: 2.9393e-04\n",
      "Epoch 60/100\n",
      "12/12 [==============================] - 4s 327ms/step - loss: 0.0019 - val_loss: 4.7751e-04\n",
      "Epoch 61/100\n",
      "12/12 [==============================] - 4s 309ms/step - loss: 0.0020 - val_loss: 2.4353e-04\n",
      "Epoch 62/100\n",
      "12/12 [==============================] - 4s 309ms/step - loss: 0.0020 - val_loss: 3.0217e-04\n",
      "Epoch 63/100\n",
      "12/12 [==============================] - 4s 305ms/step - loss: 0.0017 - val_loss: 2.5354e-04\n",
      "Epoch 64/100\n",
      "12/12 [==============================] - 4s 306ms/step - loss: 0.0015 - val_loss: 3.5746e-04\n",
      "Epoch 65/100\n",
      "12/12 [==============================] - 4s 312ms/step - loss: 0.0017 - val_loss: 2.7730e-04\n",
      "Epoch 66/100\n",
      "12/12 [==============================] - 4s 328ms/step - loss: 0.0016 - val_loss: 3.0424e-04\n",
      "Epoch 67/100\n",
      "12/12 [==============================] - 4s 344ms/step - loss: 0.0014 - val_loss: 2.9976e-04\n",
      "Epoch 68/100\n",
      "12/12 [==============================] - 4s 327ms/step - loss: 0.0013 - val_loss: 2.4135e-04\n",
      "Epoch 69/100\n",
      "12/12 [==============================] - 4s 314ms/step - loss: 0.0014 - val_loss: 3.1715e-04\n",
      "Epoch 70/100\n",
      "12/12 [==============================] - 4s 347ms/step - loss: 0.0017 - val_loss: 2.6353e-04\n",
      "Epoch 71/100\n",
      "12/12 [==============================] - 4s 342ms/step - loss: 0.0020 - val_loss: 2.5063e-04\n",
      "Epoch 72/100\n",
      "12/12 [==============================] - 4s 305ms/step - loss: 0.0015 - val_loss: 2.7238e-04\n",
      "Epoch 73/100\n",
      "12/12 [==============================] - 4s 312ms/step - loss: 0.0014 - val_loss: 2.5630e-04\n",
      "Epoch 74/100\n",
      "12/12 [==============================] - 4s 311ms/step - loss: 0.0017 - val_loss: 2.3512e-04\n",
      "Epoch 75/100\n",
      "12/12 [==============================] - 4s 314ms/step - loss: 0.0030 - val_loss: 2.7494e-04\n",
      "Epoch 76/100\n",
      "12/12 [==============================] - 4s 333ms/step - loss: 0.0018 - val_loss: 2.4138e-04\n",
      "Epoch 77/100\n",
      "12/12 [==============================] - 4s 331ms/step - loss: 0.0021 - val_loss: 2.5715e-04\n",
      "Epoch 78/100\n",
      "12/12 [==============================] - 4s 335ms/step - loss: 0.0018 - val_loss: 2.8866e-04\n",
      "Epoch 79/100\n",
      "12/12 [==============================] - 4s 337ms/step - loss: 0.0014 - val_loss: 3.2857e-04\n",
      "Epoch 80/100\n",
      "12/12 [==============================] - 4s 334ms/step - loss: 0.0015 - val_loss: 2.4630e-04\n",
      "Epoch 81/100\n",
      "12/12 [==============================] - 4s 324ms/step - loss: 0.0012 - val_loss: 2.3781e-04\n",
      "Epoch 82/100\n",
      "12/12 [==============================] - 4s 329ms/step - loss: 0.0011 - val_loss: 3.9434e-04\n",
      "Epoch 83/100\n",
      " 6/12 [==============>...............] - ETA: 1s - loss: 0.0039"
     ]
    },
    {
     "ename": "KeyboardInterrupt",
     "evalue": "",
     "output_type": "error",
     "traceback": [
      "\u001b[1;31m---------------------------------------------------------------------------\u001b[0m",
      "\u001b[1;31mKeyboardInterrupt\u001b[0m                         Traceback (most recent call last)",
      "\u001b[1;32mc:\\Users\\sinch\\Desktop\\Path to Data Science\\Time-Series Analysis\\tsa-lstm.ipynb Cell 20\u001b[0m in \u001b[0;36m<module>\u001b[1;34m\u001b[0m\n\u001b[1;32m----> <a href='vscode-notebook-cell:/c%3A/Users/sinch/Desktop/Path%20to%20Data%20Science/Time-Series%20Analysis/tsa-lstm.ipynb#X21sZmlsZQ%3D%3D?line=0'>1</a>\u001b[0m model\u001b[39m.\u001b[39;49mfit(X_train, y_train, validation_data \u001b[39m=\u001b[39;49m (X_test, y_test), epochs\u001b[39m=\u001b[39;49m\u001b[39m100\u001b[39;49m, batch_size\u001b[39m=\u001b[39;49m\u001b[39m64\u001b[39;49m, verbose\u001b[39m=\u001b[39;49m\u001b[39m1\u001b[39;49m)\n",
      "File \u001b[1;32mc:\\Python310\\lib\\site-packages\\keras\\utils\\traceback_utils.py:65\u001b[0m, in \u001b[0;36mfilter_traceback.<locals>.error_handler\u001b[1;34m(*args, **kwargs)\u001b[0m\n\u001b[0;32m     63\u001b[0m filtered_tb \u001b[39m=\u001b[39m \u001b[39mNone\u001b[39;00m\n\u001b[0;32m     64\u001b[0m \u001b[39mtry\u001b[39;00m:\n\u001b[1;32m---> 65\u001b[0m     \u001b[39mreturn\u001b[39;00m fn(\u001b[39m*\u001b[39margs, \u001b[39m*\u001b[39m\u001b[39m*\u001b[39mkwargs)\n\u001b[0;32m     66\u001b[0m \u001b[39mexcept\u001b[39;00m \u001b[39mException\u001b[39;00m \u001b[39mas\u001b[39;00m e:\n\u001b[0;32m     67\u001b[0m     filtered_tb \u001b[39m=\u001b[39m _process_traceback_frames(e\u001b[39m.\u001b[39m__traceback__)\n",
      "File \u001b[1;32mc:\\Python310\\lib\\site-packages\\keras\\engine\\training.py:1650\u001b[0m, in \u001b[0;36mModel.fit\u001b[1;34m(self, x, y, batch_size, epochs, verbose, callbacks, validation_split, validation_data, shuffle, class_weight, sample_weight, initial_epoch, steps_per_epoch, validation_steps, validation_batch_size, validation_freq, max_queue_size, workers, use_multiprocessing)\u001b[0m\n\u001b[0;32m   1642\u001b[0m \u001b[39mwith\u001b[39;00m tf\u001b[39m.\u001b[39mprofiler\u001b[39m.\u001b[39mexperimental\u001b[39m.\u001b[39mTrace(\n\u001b[0;32m   1643\u001b[0m     \u001b[39m\"\u001b[39m\u001b[39mtrain\u001b[39m\u001b[39m\"\u001b[39m,\n\u001b[0;32m   1644\u001b[0m     epoch_num\u001b[39m=\u001b[39mepoch,\n\u001b[1;32m   (...)\u001b[0m\n\u001b[0;32m   1647\u001b[0m     _r\u001b[39m=\u001b[39m\u001b[39m1\u001b[39m,\n\u001b[0;32m   1648\u001b[0m ):\n\u001b[0;32m   1649\u001b[0m     callbacks\u001b[39m.\u001b[39mon_train_batch_begin(step)\n\u001b[1;32m-> 1650\u001b[0m     tmp_logs \u001b[39m=\u001b[39m \u001b[39mself\u001b[39;49m\u001b[39m.\u001b[39;49mtrain_function(iterator)\n\u001b[0;32m   1651\u001b[0m     \u001b[39mif\u001b[39;00m data_handler\u001b[39m.\u001b[39mshould_sync:\n\u001b[0;32m   1652\u001b[0m         context\u001b[39m.\u001b[39masync_wait()\n",
      "File \u001b[1;32mc:\\Python310\\lib\\site-packages\\tensorflow\\python\\util\\traceback_utils.py:150\u001b[0m, in \u001b[0;36mfilter_traceback.<locals>.error_handler\u001b[1;34m(*args, **kwargs)\u001b[0m\n\u001b[0;32m    148\u001b[0m filtered_tb \u001b[39m=\u001b[39m \u001b[39mNone\u001b[39;00m\n\u001b[0;32m    149\u001b[0m \u001b[39mtry\u001b[39;00m:\n\u001b[1;32m--> 150\u001b[0m   \u001b[39mreturn\u001b[39;00m fn(\u001b[39m*\u001b[39margs, \u001b[39m*\u001b[39m\u001b[39m*\u001b[39mkwargs)\n\u001b[0;32m    151\u001b[0m \u001b[39mexcept\u001b[39;00m \u001b[39mException\u001b[39;00m \u001b[39mas\u001b[39;00m e:\n\u001b[0;32m    152\u001b[0m   filtered_tb \u001b[39m=\u001b[39m _process_traceback_frames(e\u001b[39m.\u001b[39m__traceback__)\n",
      "File \u001b[1;32mc:\\Python310\\lib\\site-packages\\tensorflow\\python\\eager\\polymorphic_function\\polymorphic_function.py:880\u001b[0m, in \u001b[0;36mFunction.__call__\u001b[1;34m(self, *args, **kwds)\u001b[0m\n\u001b[0;32m    877\u001b[0m compiler \u001b[39m=\u001b[39m \u001b[39m\"\u001b[39m\u001b[39mxla\u001b[39m\u001b[39m\"\u001b[39m \u001b[39mif\u001b[39;00m \u001b[39mself\u001b[39m\u001b[39m.\u001b[39m_jit_compile \u001b[39melse\u001b[39;00m \u001b[39m\"\u001b[39m\u001b[39mnonXla\u001b[39m\u001b[39m\"\u001b[39m\n\u001b[0;32m    879\u001b[0m \u001b[39mwith\u001b[39;00m OptionalXlaContext(\u001b[39mself\u001b[39m\u001b[39m.\u001b[39m_jit_compile):\n\u001b[1;32m--> 880\u001b[0m   result \u001b[39m=\u001b[39m \u001b[39mself\u001b[39m\u001b[39m.\u001b[39m_call(\u001b[39m*\u001b[39margs, \u001b[39m*\u001b[39m\u001b[39m*\u001b[39mkwds)\n\u001b[0;32m    882\u001b[0m new_tracing_count \u001b[39m=\u001b[39m \u001b[39mself\u001b[39m\u001b[39m.\u001b[39mexperimental_get_tracing_count()\n\u001b[0;32m    883\u001b[0m without_tracing \u001b[39m=\u001b[39m (tracing_count \u001b[39m==\u001b[39m new_tracing_count)\n",
      "File \u001b[1;32mc:\\Python310\\lib\\site-packages\\tensorflow\\python\\eager\\polymorphic_function\\polymorphic_function.py:912\u001b[0m, in \u001b[0;36mFunction._call\u001b[1;34m(self, *args, **kwds)\u001b[0m\n\u001b[0;32m    909\u001b[0m   \u001b[39mself\u001b[39m\u001b[39m.\u001b[39m_lock\u001b[39m.\u001b[39mrelease()\n\u001b[0;32m    910\u001b[0m   \u001b[39m# In this case we have created variables on the first call, so we run the\u001b[39;00m\n\u001b[0;32m    911\u001b[0m   \u001b[39m# defunned version which is guaranteed to never create variables.\u001b[39;00m\n\u001b[1;32m--> 912\u001b[0m   \u001b[39mreturn\u001b[39;00m \u001b[39mself\u001b[39m\u001b[39m.\u001b[39m_no_variable_creation_fn(\u001b[39m*\u001b[39margs, \u001b[39m*\u001b[39m\u001b[39m*\u001b[39mkwds)  \u001b[39m# pylint: disable=not-callable\u001b[39;00m\n\u001b[0;32m    913\u001b[0m \u001b[39melif\u001b[39;00m \u001b[39mself\u001b[39m\u001b[39m.\u001b[39m_variable_creation_fn \u001b[39mis\u001b[39;00m \u001b[39mnot\u001b[39;00m \u001b[39mNone\u001b[39;00m:\n\u001b[0;32m    914\u001b[0m   \u001b[39m# Release the lock early so that multiple threads can perform the call\u001b[39;00m\n\u001b[0;32m    915\u001b[0m   \u001b[39m# in parallel.\u001b[39;00m\n\u001b[0;32m    916\u001b[0m   \u001b[39mself\u001b[39m\u001b[39m.\u001b[39m_lock\u001b[39m.\u001b[39mrelease()\n",
      "File \u001b[1;32mc:\\Python310\\lib\\site-packages\\tensorflow\\python\\eager\\polymorphic_function\\tracing_compiler.py:134\u001b[0m, in \u001b[0;36mTracingCompiler.__call__\u001b[1;34m(self, *args, **kwargs)\u001b[0m\n\u001b[0;32m    131\u001b[0m \u001b[39mwith\u001b[39;00m \u001b[39mself\u001b[39m\u001b[39m.\u001b[39m_lock:\n\u001b[0;32m    132\u001b[0m   (concrete_function,\n\u001b[0;32m    133\u001b[0m    filtered_flat_args) \u001b[39m=\u001b[39m \u001b[39mself\u001b[39m\u001b[39m.\u001b[39m_maybe_define_function(args, kwargs)\n\u001b[1;32m--> 134\u001b[0m \u001b[39mreturn\u001b[39;00m concrete_function\u001b[39m.\u001b[39;49m_call_flat(\n\u001b[0;32m    135\u001b[0m     filtered_flat_args, captured_inputs\u001b[39m=\u001b[39;49mconcrete_function\u001b[39m.\u001b[39;49mcaptured_inputs)\n",
      "File \u001b[1;32mc:\\Python310\\lib\\site-packages\\tensorflow\\python\\eager\\polymorphic_function\\monomorphic_function.py:1745\u001b[0m, in \u001b[0;36mConcreteFunction._call_flat\u001b[1;34m(self, args, captured_inputs, cancellation_manager)\u001b[0m\n\u001b[0;32m   1741\u001b[0m possible_gradient_type \u001b[39m=\u001b[39m gradients_util\u001b[39m.\u001b[39mPossibleTapeGradientTypes(args)\n\u001b[0;32m   1742\u001b[0m \u001b[39mif\u001b[39;00m (possible_gradient_type \u001b[39m==\u001b[39m gradients_util\u001b[39m.\u001b[39mPOSSIBLE_GRADIENT_TYPES_NONE\n\u001b[0;32m   1743\u001b[0m     \u001b[39mand\u001b[39;00m executing_eagerly):\n\u001b[0;32m   1744\u001b[0m   \u001b[39m# No tape is watching; skip to running the function.\u001b[39;00m\n\u001b[1;32m-> 1745\u001b[0m   \u001b[39mreturn\u001b[39;00m \u001b[39mself\u001b[39m\u001b[39m.\u001b[39m_build_call_outputs(\u001b[39mself\u001b[39;49m\u001b[39m.\u001b[39;49m_inference_function\u001b[39m.\u001b[39;49mcall(\n\u001b[0;32m   1746\u001b[0m       ctx, args, cancellation_manager\u001b[39m=\u001b[39;49mcancellation_manager))\n\u001b[0;32m   1747\u001b[0m forward_backward \u001b[39m=\u001b[39m \u001b[39mself\u001b[39m\u001b[39m.\u001b[39m_select_forward_and_backward_functions(\n\u001b[0;32m   1748\u001b[0m     args,\n\u001b[0;32m   1749\u001b[0m     possible_gradient_type,\n\u001b[0;32m   1750\u001b[0m     executing_eagerly)\n\u001b[0;32m   1751\u001b[0m forward_function, args_with_tangents \u001b[39m=\u001b[39m forward_backward\u001b[39m.\u001b[39mforward()\n",
      "File \u001b[1;32mc:\\Python310\\lib\\site-packages\\tensorflow\\python\\eager\\polymorphic_function\\monomorphic_function.py:378\u001b[0m, in \u001b[0;36m_EagerDefinedFunction.call\u001b[1;34m(self, ctx, args, cancellation_manager)\u001b[0m\n\u001b[0;32m    376\u001b[0m \u001b[39mwith\u001b[39;00m _InterpolateFunctionError(\u001b[39mself\u001b[39m):\n\u001b[0;32m    377\u001b[0m   \u001b[39mif\u001b[39;00m cancellation_manager \u001b[39mis\u001b[39;00m \u001b[39mNone\u001b[39;00m:\n\u001b[1;32m--> 378\u001b[0m     outputs \u001b[39m=\u001b[39m execute\u001b[39m.\u001b[39;49mexecute(\n\u001b[0;32m    379\u001b[0m         \u001b[39mstr\u001b[39;49m(\u001b[39mself\u001b[39;49m\u001b[39m.\u001b[39;49msignature\u001b[39m.\u001b[39;49mname),\n\u001b[0;32m    380\u001b[0m         num_outputs\u001b[39m=\u001b[39;49m\u001b[39mself\u001b[39;49m\u001b[39m.\u001b[39;49m_num_outputs,\n\u001b[0;32m    381\u001b[0m         inputs\u001b[39m=\u001b[39;49margs,\n\u001b[0;32m    382\u001b[0m         attrs\u001b[39m=\u001b[39;49mattrs,\n\u001b[0;32m    383\u001b[0m         ctx\u001b[39m=\u001b[39;49mctx)\n\u001b[0;32m    384\u001b[0m   \u001b[39melse\u001b[39;00m:\n\u001b[0;32m    385\u001b[0m     outputs \u001b[39m=\u001b[39m execute\u001b[39m.\u001b[39mexecute_with_cancellation(\n\u001b[0;32m    386\u001b[0m         \u001b[39mstr\u001b[39m(\u001b[39mself\u001b[39m\u001b[39m.\u001b[39msignature\u001b[39m.\u001b[39mname),\n\u001b[0;32m    387\u001b[0m         num_outputs\u001b[39m=\u001b[39m\u001b[39mself\u001b[39m\u001b[39m.\u001b[39m_num_outputs,\n\u001b[1;32m   (...)\u001b[0m\n\u001b[0;32m    390\u001b[0m         ctx\u001b[39m=\u001b[39mctx,\n\u001b[0;32m    391\u001b[0m         cancellation_manager\u001b[39m=\u001b[39mcancellation_manager)\n",
      "File \u001b[1;32mc:\\Python310\\lib\\site-packages\\tensorflow\\python\\eager\\execute.py:52\u001b[0m, in \u001b[0;36mquick_execute\u001b[1;34m(op_name, num_outputs, inputs, attrs, ctx, name)\u001b[0m\n\u001b[0;32m     50\u001b[0m \u001b[39mtry\u001b[39;00m:\n\u001b[0;32m     51\u001b[0m   ctx\u001b[39m.\u001b[39mensure_initialized()\n\u001b[1;32m---> 52\u001b[0m   tensors \u001b[39m=\u001b[39m pywrap_tfe\u001b[39m.\u001b[39;49mTFE_Py_Execute(ctx\u001b[39m.\u001b[39;49m_handle, device_name, op_name,\n\u001b[0;32m     53\u001b[0m                                       inputs, attrs, num_outputs)\n\u001b[0;32m     54\u001b[0m \u001b[39mexcept\u001b[39;00m core\u001b[39m.\u001b[39m_NotOkStatusException \u001b[39mas\u001b[39;00m e:\n\u001b[0;32m     55\u001b[0m   \u001b[39mif\u001b[39;00m name \u001b[39mis\u001b[39;00m \u001b[39mnot\u001b[39;00m \u001b[39mNone\u001b[39;00m:\n",
      "\u001b[1;31mKeyboardInterrupt\u001b[0m: "
     ]
    }
   ],
   "source": [
    "model.fit(X_train, y_train, validation_data = (X_test, y_test), epochs=100, batch_size=64, verbose=1)"
   ]
  },
  {
   "attachments": {},
   "cell_type": "markdown",
   "metadata": {},
   "source": [
    "## Prediction of train & test data"
   ]
  },
  {
   "cell_type": "code",
   "execution_count": null,
   "metadata": {},
   "outputs": [
    {
     "name": "stdout",
     "output_type": "stream",
     "text": [
      "23/23 [==============================] - 4s 70ms/step\n",
      "11/11 [==============================] - 1s 69ms/step\n"
     ]
    }
   ],
   "source": [
    "train_predict = model.predict(X_train)\n",
    "test_predict = model.predict(X_test)"
   ]
  },
  {
   "attachments": {},
   "cell_type": "markdown",
   "metadata": {},
   "source": [
    "### Inverse transformation of predicted data"
   ]
  },
  {
   "cell_type": "code",
   "execution_count": null,
   "metadata": {},
   "outputs": [],
   "source": [
    "train_predict = scaler.inverse_transform(train_predict)\n",
    "test_predict = scaler.inverse_transform(test_predict)"
   ]
  },
  {
   "attachments": {},
   "cell_type": "markdown",
   "metadata": {},
   "source": [
    "## Error calculation"
   ]
  },
  {
   "cell_type": "code",
   "execution_count": null,
   "metadata": {},
   "outputs": [
    {
     "data": {
      "text/plain": [
       "231.75945361570487"
      ]
     },
     "execution_count": 19,
     "metadata": {},
     "output_type": "execute_result"
    }
   ],
   "source": [
    "import math\n",
    "from sklearn.metrics import mean_squared_error\n",
    "math.sqrt(mean_squared_error(y_train, train_predict))"
   ]
  },
  {
   "cell_type": "code",
   "execution_count": null,
   "metadata": {},
   "outputs": [
    {
     "data": {
      "text/plain": [
       "156.3093352986375"
      ]
     },
     "execution_count": 20,
     "metadata": {},
     "output_type": "execute_result"
    }
   ],
   "source": [
    "math.sqrt(mean_squared_error(y_test, test_predict))"
   ]
  },
  {
   "cell_type": "code",
   "execution_count": null,
   "metadata": {},
   "outputs": [
    {
     "data": {
      "text/plain": [
       "156.3093352986375"
      ]
     },
     "execution_count": 21,
     "metadata": {},
     "output_type": "execute_result"
    }
   ],
   "source": [
    "mse = mean_squared_error(y_test, test_predict)\n",
    "mse**0.5"
   ]
  },
  {
   "attachments": {},
   "cell_type": "markdown",
   "metadata": {},
   "source": [
    "## Train-Test prediction plot"
   ]
  },
  {
   "cell_type": "code",
   "execution_count": null,
   "metadata": {},
   "outputs": [
    {
     "data": {
      "image/png": "[encoded data removed]",
      "text/plain": [
       "<Figure size 432x288 with 1 Axes>"
      ]
     },
     "metadata": {
      "needs_background": "light"
     },
     "output_type": "display_data"
    }
   ],
   "source": [
    "look_back = 100\n",
    "trainPredictPlot = np.empty_like(df1)\n",
    "trainPredictPlot[:, :] = np.nan\n",
    "trainPredictPlot[look_back:len(train_predict)+look_back, :] = train_predict\n",
    "\n",
    "testPredictPlot = np.empty_like(df1)\n",
    "testPredictPlot[:, :] = np.nan\n",
    "testPredictPlot[len(train_predict)+(look_back*2)+1:len(df1)-1, :] = test_predict\n",
    "\n",
    "plt.plot(scaler.inverse_transform(df1))\n",
    "plt.plot(trainPredictPlot)\n",
    "plt.plot(testPredictPlot)\n",
    "plt.show()"
   ]
  },
  {
   "cell_type": "code",
   "execution_count": null,
   "metadata": {},
   "outputs": [
    {
     "data": {
      "text/plain": [
       "441"
      ]
     },
     "execution_count": 23,
     "metadata": {},
     "output_type": "execute_result"
    }
   ],
   "source": [
    "len(test_data)"
   ]
  },
  {
   "cell_type": "code",
   "execution_count": null,
   "metadata": {},
   "outputs": [
    {
     "data": {
      "text/plain": [
       "(1, 100)"
      ]
     },
     "execution_count": 24,
     "metadata": {},
     "output_type": "execute_result"
    }
   ],
   "source": [
    "x_input = test_data[341:].reshape(1, -1)\n",
    "x_input.shape"
   ]
  },
  {
   "cell_type": "code",
   "execution_count": null,
   "metadata": {},
   "outputs": [],
   "source": [
    "temp_input = list(x_input)\n",
    "temp_input = temp_input[0].tolist()"
   ]
  },
  {
   "attachments": {},
   "cell_type": "markdown",
   "metadata": {},
   "source": [
    "## Dataset to array conversion formula"
   ]
  },
  {
   "cell_type": "code",
   "execution_count": null,
   "metadata": {},
   "outputs": [
    {
     "name": "stdout",
     "output_type": "stream",
     "text": [
      "[0.09941763]\n",
      "101\n",
      "1 day input [0.12150282 0.1183469  0.11549155 0.11211021 0.12510958 0.12651221\n",
      " 0.13943644 0.13693175 0.1331747  0.14850344 0.14770194 0.14654978\n",
      " 0.14534753 0.14547276 0.15629305 0.15441453 0.16345648 0.1661866\n",
      " 0.16578585 0.16959299 0.16859111 0.16200376 0.15211021 0.15125861\n",
      " 0.15201002 0.15827176 0.14221666 0.13660614 0.13041954 0.1261866\n",
      " 0.12804008 0.12265498 0.11944897 0.12303068 0.11927364 0.1265623\n",
      " 0.14174076 0.11772073 0.12140263 0.11403882 0.10985598 0.11932373\n",
      " 0.1253851  0.11742016 0.11496556 0.10917971 0.11003131 0.11251096\n",
      " 0.10770194 0.08926738 0.07854728 0.08919224 0.09833438 0.09908579\n",
      " 0.09665623 0.08328115 0.0841077  0.08050094 0.07889793 0.09054477\n",
      " 0.07899812 0.08909205 0.09244834 0.09272386 0.09154665 0.10126487\n",
      " 0.10672511 0.11396368 0.10647464 0.09507827 0.12247965 0.11646838\n",
      " 0.10973075 0.09565435 0.08025047 0.07899812 0.08035066 0.08180338\n",
      " 0.07020664 0.10026299 0.10735128 0.10379461 0.10820288 0.10507201\n",
      " 0.10990607 0.11133375 0.10311835 0.10855354 0.11078272 0.10336882\n",
      " 0.09362555 0.08598622 0.10316844 0.10386976 0.10261741 0.09966187\n",
      " 0.0903444  0.08541014 0.08969317 0.09941763]\n",
      "1 day output [[0.09837484]]\n",
      "2 day input [0.1183469  0.11549155 0.11211021 0.12510958 0.12651221 0.13943644\n",
      " 0.13693175 0.1331747  0.14850344 0.14770194 0.14654978 0.14534753\n",
      " 0.14547276 0.15629305 0.15441453 0.16345648 0.1661866  0.16578585\n",
      " 0.16959299 0.16859111 0.16200376 0.15211021 0.15125861 0.15201002\n",
      " 0.15827176 0.14221666 0.13660614 0.13041954 0.1261866  0.12804008\n",
      " 0.12265498 0.11944897 0.12303068 0.11927364 0.1265623  0.14174076\n",
      " 0.11772073 0.12140263 0.11403882 0.10985598 0.11932373 0.1253851\n",
      " 0.11742016 0.11496556 0.10917971 0.11003131 0.11251096 0.10770194\n",
      " 0.08926738 0.07854728 0.08919224 0.09833438 0.09908579 0.09665623\n",
      " 0.08328115 0.0841077  0.08050094 0.07889793 0.09054477 0.07899812\n",
      " 0.08909205 0.09244834 0.09272386 0.09154665 0.10126487 0.10672511\n",
      " 0.11396368 0.10647464 0.09507827 0.12247965 0.11646838 0.10973075\n",
      " 0.09565435 0.08025047 0.07899812 0.08035066 0.08180338 0.07020664\n",
      " 0.10026299 0.10735128 0.10379461 0.10820288 0.10507201 0.10990607\n",
      " 0.11133375 0.10311835 0.10855354 0.11078272 0.10336882 0.09362555\n",
      " 0.08598622 0.10316844 0.10386976 0.10261741 0.09966187 0.0903444\n",
      " 0.08541014 0.08969317 0.09941763 0.09837484]\n",
      "2 day output [[0.0979726]]\n",
      "3 day input [0.11549155 0.11211021 0.12510958 0.12651221 0.13943644 0.13693175\n",
      " 0.1331747  0.14850344 0.14770194 0.14654978 0.14534753 0.14547276\n",
      " 0.15629305 0.15441453 0.16345648 0.1661866  0.16578585 0.16959299\n",
      " 0.16859111 0.16200376 0.15211021 0.15125861 0.15201002 0.15827176\n",
      " 0.14221666 0.13660614 0.13041954 0.1261866  0.12804008 0.12265498\n",
      " 0.11944897 0.12303068 0.11927364 0.1265623  0.14174076 0.11772073\n",
      " 0.12140263 0.11403882 0.10985598 0.11932373 0.1253851  0.11742016\n",
      " 0.11496556 0.10917971 0.11003131 0.11251096 0.10770194 0.08926738\n",
      " 0.07854728 0.08919224 0.09833438 0.09908579 0.09665623 0.08328115\n",
      " 0.0841077  0.08050094 0.07889793 0.09054477 0.07899812 0.08909205\n",
      " 0.09244834 0.09272386 0.09154665 0.10126487 0.10672511 0.11396368\n",
      " 0.10647464 0.09507827 0.12247965 0.11646838 0.10973075 0.09565435\n",
      " 0.08025047 0.07899812 0.08035066 0.08180338 0.07020664 0.10026299\n",
      " 0.10735128 0.10379461 0.10820288 0.10507201 0.10990607 0.11133375\n",
      " 0.10311835 0.10855354 0.11078272 0.10336882 0.09362555 0.08598622\n",
      " 0.10316844 0.10386976 0.10261741 0.09966187 0.0903444  0.08541014\n",
      " 0.08969317 0.09941763 0.09837484 0.0979726 ]\n",
      "3 day output [[0.09801789]]\n",
      "4 day input [0.11211021 0.12510958 0.12651221 0.13943644 0.13693175 0.1331747\n",
      " 0.14850344 0.14770194 0.14654978 0.14534753 0.14547276 0.15629305\n",
      " 0.15441453 0.16345648 0.1661866  0.16578585 0.16959299 0.16859111\n",
      " 0.16200376 0.15211021 0.15125861 0.15201002 0.15827176 0.14221666\n",
      " 0.13660614 0.13041954 0.1261866  0.12804008 0.12265498 0.11944897\n",
      " 0.12303068 0.11927364 0.1265623  0.14174076 0.11772073 0.12140263\n",
      " 0.11403882 0.10985598 0.11932373 0.1253851  0.11742016 0.11496556\n",
      " 0.10917971 0.11003131 0.11251096 0.10770194 0.08926738 0.07854728\n",
      " 0.08919224 0.09833438 0.09908579 0.09665623 0.08328115 0.0841077\n",
      " 0.08050094 0.07889793 0.09054477 0.07899812 0.08909205 0.09244834\n",
      " 0.09272386 0.09154665 0.10126487 0.10672511 0.11396368 0.10647464\n",
      " 0.09507827 0.12247965 0.11646838 0.10973075 0.09565435 0.08025047\n",
      " 0.07899812 0.08035066 0.08180338 0.07020664 0.10026299 0.10735128\n",
      " 0.10379461 0.10820288 0.10507201 0.10990607 0.11133375 0.10311835\n",
      " 0.10855354 0.11078272 0.10336882 0.09362555 0.08598622 0.10316844\n",
      " 0.10386976 0.10261741 0.09966187 0.0903444  0.08541014 0.08969317\n",
      " 0.09941763 0.09837484 0.0979726  0.09801789]\n",
      "4 day output [[0.09832276]]\n",
      "5 day input [0.12510958 0.12651221 0.13943644 0.13693175 0.1331747  0.14850344\n",
      " 0.14770194 0.14654978 0.14534753 0.14547276 0.15629305 0.15441453\n",
      " 0.16345648 0.1661866  0.16578585 0.16959299 0.16859111 0.16200376\n",
      " 0.15211021 0.15125861 0.15201002 0.15827176 0.14221666 0.13660614\n",
      " 0.13041954 0.1261866  0.12804008 0.12265498 0.11944897 0.12303068\n",
      " 0.11927364 0.1265623  0.14174076 0.11772073 0.12140263 0.11403882\n",
      " 0.10985598 0.11932373 0.1253851  0.11742016 0.11496556 0.10917971\n",
      " 0.11003131 0.11251096 0.10770194 0.08926738 0.07854728 0.08919224\n",
      " 0.09833438 0.09908579 0.09665623 0.08328115 0.0841077  0.08050094\n",
      " 0.07889793 0.09054477 0.07899812 0.08909205 0.09244834 0.09272386\n",
      " 0.09154665 0.10126487 0.10672511 0.11396368 0.10647464 0.09507827\n",
      " 0.12247965 0.11646838 0.10973075 0.09565435 0.08025047 0.07899812\n",
      " 0.08035066 0.08180338 0.07020664 0.10026299 0.10735128 0.10379461\n",
      " 0.10820288 0.10507201 0.10990607 0.11133375 0.10311835 0.10855354\n",
      " 0.11078272 0.10336882 0.09362555 0.08598622 0.10316844 0.10386976\n",
      " 0.10261741 0.09966187 0.0903444  0.08541014 0.08969317 0.09941763\n",
      " 0.09837484 0.0979726  0.09801789 0.09832276]\n",
      "5 day output [[0.09875855]]\n",
      "6 day input [0.12651221 0.13943644 0.13693175 0.1331747  0.14850344 0.14770194\n",
      " 0.14654978 0.14534753 0.14547276 0.15629305 0.15441453 0.16345648\n",
      " 0.1661866  0.16578585 0.16959299 0.16859111 0.16200376 0.15211021\n",
      " 0.15125861 0.15201002 0.15827176 0.14221666 0.13660614 0.13041954\n",
      " 0.1261866  0.12804008 0.12265498 0.11944897 0.12303068 0.11927364\n",
      " 0.1265623  0.14174076 0.11772073 0.12140263 0.11403882 0.10985598\n",
      " 0.11932373 0.1253851  0.11742016 0.11496556 0.10917971 0.11003131\n",
      " 0.11251096 0.10770194 0.08926738 0.07854728 0.08919224 0.09833438\n",
      " 0.09908579 0.09665623 0.08328115 0.0841077  0.08050094 0.07889793\n",
      " 0.09054477 0.07899812 0.08909205 0.09244834 0.09272386 0.09154665\n",
      " 0.10126487 0.10672511 0.11396368 0.10647464 0.09507827 0.12247965\n",
      " 0.11646838 0.10973075 0.09565435 0.08025047 0.07899812 0.08035066\n",
      " 0.08180338 0.07020664 0.10026299 0.10735128 0.10379461 0.10820288\n",
      " 0.10507201 0.10990607 0.11133375 0.10311835 0.10855354 0.11078272\n",
      " 0.10336882 0.09362555 0.08598622 0.10316844 0.10386976 0.10261741\n",
      " 0.09966187 0.0903444  0.08541014 0.08969317 0.09941763 0.09837484\n",
      " 0.0979726  0.09801789 0.09832276 0.09875855]\n",
      "6 day output [[0.0992512]]\n",
      "7 day input [0.13943644 0.13693175 0.1331747  0.14850344 0.14770194 0.14654978\n",
      " 0.14534753 0.14547276 0.15629305 0.15441453 0.16345648 0.1661866\n",
      " 0.16578585 0.16959299 0.16859111 0.16200376 0.15211021 0.15125861\n",
      " 0.15201002 0.15827176 0.14221666 0.13660614 0.13041954 0.1261866\n",
      " 0.12804008 0.12265498 0.11944897 0.12303068 0.11927364 0.1265623\n",
      " 0.14174076 0.11772073 0.12140263 0.11403882 0.10985598 0.11932373\n",
      " 0.1253851  0.11742016 0.11496556 0.10917971 0.11003131 0.11251096\n",
      " 0.10770194 0.08926738 0.07854728 0.08919224 0.09833438 0.09908579\n",
      " 0.09665623 0.08328115 0.0841077  0.08050094 0.07889793 0.09054477\n",
      " 0.07899812 0.08909205 0.09244834 0.09272386 0.09154665 0.10126487\n",
      " 0.10672511 0.11396368 0.10647464 0.09507827 0.12247965 0.11646838\n",
      " 0.10973075 0.09565435 0.08025047 0.07899812 0.08035066 0.08180338\n",
      " 0.07020664 0.10026299 0.10735128 0.10379461 0.10820288 0.10507201\n",
      " 0.10990607 0.11133375 0.10311835 0.10855354 0.11078272 0.10336882\n",
      " 0.09362555 0.08598622 0.10316844 0.10386976 0.10261741 0.09966187\n",
      " 0.0903444  0.08541014 0.08969317 0.09941763 0.09837484 0.0979726\n",
      " 0.09801789 0.09832276 0.09875855 0.0992512 ]\n",
      "7 day output [[0.09976304]]\n",
      "8 day input [0.13693175 0.1331747  0.14850344 0.14770194 0.14654978 0.14534753\n",
      " 0.14547276 0.15629305 0.15441453 0.16345648 0.1661866  0.16578585\n",
      " 0.16959299 0.16859111 0.16200376 0.15211021 0.15125861 0.15201002\n",
      " 0.15827176 0.14221666 0.13660614 0.13041954 0.1261866  0.12804008\n",
      " 0.12265498 0.11944897 0.12303068 0.11927364 0.1265623  0.14174076\n",
      " 0.11772073 0.12140263 0.11403882 0.10985598 0.11932373 0.1253851\n",
      " 0.11742016 0.11496556 0.10917971 0.11003131 0.11251096 0.10770194\n",
      " 0.08926738 0.07854728 0.08919224 0.09833438 0.09908579 0.09665623\n",
      " 0.08328115 0.0841077  0.08050094 0.07889793 0.09054477 0.07899812\n",
      " 0.08909205 0.09244834 0.09272386 0.09154665 0.10126487 0.10672511\n",
      " 0.11396368 0.10647464 0.09507827 0.12247965 0.11646838 0.10973075\n",
      " 0.09565435 0.08025047 0.07899812 0.08035066 0.08180338 0.07020664\n",
      " 0.10026299 0.10735128 0.10379461 0.10820288 0.10507201 0.10990607\n",
      " 0.11133375 0.10311835 0.10855354 0.11078272 0.10336882 0.09362555\n",
      " 0.08598622 0.10316844 0.10386976 0.10261741 0.09966187 0.0903444\n",
      " 0.08541014 0.08969317 0.09941763 0.09837484 0.0979726  0.09801789\n",
      " 0.09832276 0.09875855 0.0992512  0.09976304]\n",
      "8 day output [[0.10027702]]\n",
      "9 day input [0.1331747  0.14850344 0.14770194 0.14654978 0.14534753 0.14547276\n",
      " 0.15629305 0.15441453 0.16345648 0.1661866  0.16578585 0.16959299\n",
      " 0.16859111 0.16200376 0.15211021 0.15125861 0.15201002 0.15827176\n",
      " 0.14221666 0.13660614 0.13041954 0.1261866  0.12804008 0.12265498\n",
      " 0.11944897 0.12303068 0.11927364 0.1265623  0.14174076 0.11772073\n",
      " 0.12140263 0.11403882 0.10985598 0.11932373 0.1253851  0.11742016\n",
      " 0.11496556 0.10917971 0.11003131 0.11251096 0.10770194 0.08926738\n",
      " 0.07854728 0.08919224 0.09833438 0.09908579 0.09665623 0.08328115\n",
      " 0.0841077  0.08050094 0.07889793 0.09054477 0.07899812 0.08909205\n",
      " 0.09244834 0.09272386 0.09154665 0.10126487 0.10672511 0.11396368\n",
      " 0.10647464 0.09507827 0.12247965 0.11646838 0.10973075 0.09565435\n",
      " 0.08025047 0.07899812 0.08035066 0.08180338 0.07020664 0.10026299\n",
      " 0.10735128 0.10379461 0.10820288 0.10507201 0.10990607 0.11133375\n",
      " 0.10311835 0.10855354 0.11078272 0.10336882 0.09362555 0.08598622\n",
      " 0.10316844 0.10386976 0.10261741 0.09966187 0.0903444  0.08541014\n",
      " 0.08969317 0.09941763 0.09837484 0.0979726  0.09801789 0.09832276\n",
      " 0.09875855 0.0992512  0.09976304 0.10027702]\n",
      "9 day output [[0.10078635]]\n",
      "10 day input [0.14850344 0.14770194 0.14654978 0.14534753 0.14547276 0.15629305\n",
      " 0.15441453 0.16345648 0.1661866  0.16578585 0.16959299 0.16859111\n",
      " 0.16200376 0.15211021 0.15125861 0.15201002 0.15827176 0.14221666\n",
      " 0.13660614 0.13041954 0.1261866  0.12804008 0.12265498 0.11944897\n",
      " 0.12303068 0.11927364 0.1265623  0.14174076 0.11772073 0.12140263\n",
      " 0.11403882 0.10985598 0.11932373 0.1253851  0.11742016 0.11496556\n",
      " 0.10917971 0.11003131 0.11251096 0.10770194 0.08926738 0.07854728\n",
      " 0.08919224 0.09833438 0.09908579 0.09665623 0.08328115 0.0841077\n",
      " 0.08050094 0.07889793 0.09054477 0.07899812 0.08909205 0.09244834\n",
      " 0.09272386 0.09154665 0.10126487 0.10672511 0.11396368 0.10647464\n",
      " 0.09507827 0.12247965 0.11646838 0.10973075 0.09565435 0.08025047\n",
      " 0.07899812 0.08035066 0.08180338 0.07020664 0.10026299 0.10735128\n",
      " 0.10379461 0.10820288 0.10507201 0.10990607 0.11133375 0.10311835\n",
      " 0.10855354 0.11078272 0.10336882 0.09362555 0.08598622 0.10316844\n",
      " 0.10386976 0.10261741 0.09966187 0.0903444  0.08541014 0.08969317\n",
      " 0.09941763 0.09837484 0.0979726  0.09801789 0.09832276 0.09875855\n",
      " 0.0992512  0.09976304 0.10027702 0.10078635]\n",
      "10 day output [[0.10128881]]\n",
      "11 day input [0.14770194 0.14654978 0.14534753 0.14547276 0.15629305 0.15441453\n",
      " 0.16345648 0.1661866  0.16578585 0.16959299 0.16859111 0.16200376\n",
      " 0.15211021 0.15125861 0.15201002 0.15827176 0.14221666 0.13660614\n",
      " 0.13041954 0.1261866  0.12804008 0.12265498 0.11944897 0.12303068\n",
      " 0.11927364 0.1265623  0.14174076 0.11772073 0.12140263 0.11403882\n",
      " 0.10985598 0.11932373 0.1253851  0.11742016 0.11496556 0.10917971\n",
      " 0.11003131 0.11251096 0.10770194 0.08926738 0.07854728 0.08919224\n",
      " 0.09833438 0.09908579 0.09665623 0.08328115 0.0841077  0.08050094\n",
      " 0.07889793 0.09054477 0.07899812 0.08909205 0.09244834 0.09272386\n",
      " 0.09154665 0.10126487 0.10672511 0.11396368 0.10647464 0.09507827\n",
      " 0.12247965 0.11646838 0.10973075 0.09565435 0.08025047 0.07899812\n",
      " 0.08035066 0.08180338 0.07020664 0.10026299 0.10735128 0.10379461\n",
      " 0.10820288 0.10507201 0.10990607 0.11133375 0.10311835 0.10855354\n",
      " 0.11078272 0.10336882 0.09362555 0.08598622 0.10316844 0.10386976\n",
      " 0.10261741 0.09966187 0.0903444  0.08541014 0.08969317 0.09941763\n",
      " 0.09837484 0.0979726  0.09801789 0.09832276 0.09875855 0.0992512\n",
      " 0.09976304 0.10027702 0.10078635 0.10128881]\n",
      "11 day output [[0.10178389]]\n",
      "12 day input [0.14654978 0.14534753 0.14547276 0.15629305 0.15441453 0.16345648\n",
      " 0.1661866  0.16578585 0.16959299 0.16859111 0.16200376 0.15211021\n",
      " 0.15125861 0.15201002 0.15827176 0.14221666 0.13660614 0.13041954\n",
      " 0.1261866  0.12804008 0.12265498 0.11944897 0.12303068 0.11927364\n",
      " 0.1265623  0.14174076 0.11772073 0.12140263 0.11403882 0.10985598\n",
      " 0.11932373 0.1253851  0.11742016 0.11496556 0.10917971 0.11003131\n",
      " 0.11251096 0.10770194 0.08926738 0.07854728 0.08919224 0.09833438\n",
      " 0.09908579 0.09665623 0.08328115 0.0841077  0.08050094 0.07889793\n",
      " 0.09054477 0.07899812 0.08909205 0.09244834 0.09272386 0.09154665\n",
      " 0.10126487 0.10672511 0.11396368 0.10647464 0.09507827 0.12247965\n",
      " 0.11646838 0.10973075 0.09565435 0.08025047 0.07899812 0.08035066\n",
      " 0.08180338 0.07020664 0.10026299 0.10735128 0.10379461 0.10820288\n",
      " 0.10507201 0.10990607 0.11133375 0.10311835 0.10855354 0.11078272\n",
      " 0.10336882 0.09362555 0.08598622 0.10316844 0.10386976 0.10261741\n",
      " 0.09966187 0.0903444  0.08541014 0.08969317 0.09941763 0.09837484\n",
      " 0.0979726  0.09801789 0.09832276 0.09875855 0.0992512  0.09976304\n",
      " 0.10027702 0.10078635 0.10128881 0.10178389]\n",
      "12 day output [[0.10227165]]\n",
      "13 day input [0.14534753 0.14547276 0.15629305 0.15441453 0.16345648 0.1661866\n",
      " 0.16578585 0.16959299 0.16859111 0.16200376 0.15211021 0.15125861\n",
      " 0.15201002 0.15827176 0.14221666 0.13660614 0.13041954 0.1261866\n",
      " 0.12804008 0.12265498 0.11944897 0.12303068 0.11927364 0.1265623\n",
      " 0.14174076 0.11772073 0.12140263 0.11403882 0.10985598 0.11932373\n",
      " 0.1253851  0.11742016 0.11496556 0.10917971 0.11003131 0.11251096\n",
      " 0.10770194 0.08926738 0.07854728 0.08919224 0.09833438 0.09908579\n",
      " 0.09665623 0.08328115 0.0841077  0.08050094 0.07889793 0.09054477\n",
      " 0.07899812 0.08909205 0.09244834 0.09272386 0.09154665 0.10126487\n",
      " 0.10672511 0.11396368 0.10647464 0.09507827 0.12247965 0.11646838\n",
      " 0.10973075 0.09565435 0.08025047 0.07899812 0.08035066 0.08180338\n",
      " 0.07020664 0.10026299 0.10735128 0.10379461 0.10820288 0.10507201\n",
      " 0.10990607 0.11133375 0.10311835 0.10855354 0.11078272 0.10336882\n",
      " 0.09362555 0.08598622 0.10316844 0.10386976 0.10261741 0.09966187\n",
      " 0.0903444  0.08541014 0.08969317 0.09941763 0.09837484 0.0979726\n",
      " 0.09801789 0.09832276 0.09875855 0.0992512  0.09976304 0.10027702\n",
      " 0.10078635 0.10128881 0.10178389 0.10227165]\n",
      "13 day output [[0.10275216]]\n",
      "14 day input [0.14547276 0.15629305 0.15441453 0.16345648 0.1661866  0.16578585\n",
      " 0.16959299 0.16859111 0.16200376 0.15211021 0.15125861 0.15201002\n",
      " 0.15827176 0.14221666 0.13660614 0.13041954 0.1261866  0.12804008\n",
      " 0.12265498 0.11944897 0.12303068 0.11927364 0.1265623  0.14174076\n",
      " 0.11772073 0.12140263 0.11403882 0.10985598 0.11932373 0.1253851\n",
      " 0.11742016 0.11496556 0.10917971 0.11003131 0.11251096 0.10770194\n",
      " 0.08926738 0.07854728 0.08919224 0.09833438 0.09908579 0.09665623\n",
      " 0.08328115 0.0841077  0.08050094 0.07889793 0.09054477 0.07899812\n",
      " 0.08909205 0.09244834 0.09272386 0.09154665 0.10126487 0.10672511\n",
      " 0.11396368 0.10647464 0.09507827 0.12247965 0.11646838 0.10973075\n",
      " 0.09565435 0.08025047 0.07899812 0.08035066 0.08180338 0.07020664\n",
      " 0.10026299 0.10735128 0.10379461 0.10820288 0.10507201 0.10990607\n",
      " 0.11133375 0.10311835 0.10855354 0.11078272 0.10336882 0.09362555\n",
      " 0.08598622 0.10316844 0.10386976 0.10261741 0.09966187 0.0903444\n",
      " 0.08541014 0.08969317 0.09941763 0.09837484 0.0979726  0.09801789\n",
      " 0.09832276 0.09875855 0.0992512  0.09976304 0.10027702 0.10078635\n",
      " 0.10128881 0.10178389 0.10227165 0.10275216]\n",
      "14 day output [[0.10322558]]\n",
      "15 day input [0.15629305 0.15441453 0.16345648 0.1661866  0.16578585 0.16959299\n",
      " 0.16859111 0.16200376 0.15211021 0.15125861 0.15201002 0.15827176\n",
      " 0.14221666 0.13660614 0.13041954 0.1261866  0.12804008 0.12265498\n",
      " 0.11944897 0.12303068 0.11927364 0.1265623  0.14174076 0.11772073\n",
      " 0.12140263 0.11403882 0.10985598 0.11932373 0.1253851  0.11742016\n",
      " 0.11496556 0.10917971 0.11003131 0.11251096 0.10770194 0.08926738\n",
      " 0.07854728 0.08919224 0.09833438 0.09908579 0.09665623 0.08328115\n",
      " 0.0841077  0.08050094 0.07889793 0.09054477 0.07899812 0.08909205\n",
      " 0.09244834 0.09272386 0.09154665 0.10126487 0.10672511 0.11396368\n",
      " 0.10647464 0.09507827 0.12247965 0.11646838 0.10973075 0.09565435\n",
      " 0.08025047 0.07899812 0.08035066 0.08180338 0.07020664 0.10026299\n",
      " 0.10735128 0.10379461 0.10820288 0.10507201 0.10990607 0.11133375\n",
      " 0.10311835 0.10855354 0.11078272 0.10336882 0.09362555 0.08598622\n",
      " 0.10316844 0.10386976 0.10261741 0.09966187 0.0903444  0.08541014\n",
      " 0.08969317 0.09941763 0.09837484 0.0979726  0.09801789 0.09832276\n",
      " 0.09875855 0.0992512  0.09976304 0.10027702 0.10078635 0.10128881\n",
      " 0.10178389 0.10227165 0.10275216 0.10322558]\n",
      "15 day output [[0.10369197]]\n",
      "16 day input [0.15441453 0.16345648 0.1661866  0.16578585 0.16959299 0.16859111\n",
      " 0.16200376 0.15211021 0.15125861 0.15201002 0.15827176 0.14221666\n",
      " 0.13660614 0.13041954 0.1261866  0.12804008 0.12265498 0.11944897\n",
      " 0.12303068 0.11927364 0.1265623  0.14174076 0.11772073 0.12140263\n",
      " 0.11403882 0.10985598 0.11932373 0.1253851  0.11742016 0.11496556\n",
      " 0.10917971 0.11003131 0.11251096 0.10770194 0.08926738 0.07854728\n",
      " 0.08919224 0.09833438 0.09908579 0.09665623 0.08328115 0.0841077\n",
      " 0.08050094 0.07889793 0.09054477 0.07899812 0.08909205 0.09244834\n",
      " 0.09272386 0.09154665 0.10126487 0.10672511 0.11396368 0.10647464\n",
      " 0.09507827 0.12247965 0.11646838 0.10973075 0.09565435 0.08025047\n",
      " 0.07899812 0.08035066 0.08180338 0.07020664 0.10026299 0.10735128\n",
      " 0.10379461 0.10820288 0.10507201 0.10990607 0.11133375 0.10311835\n",
      " 0.10855354 0.11078272 0.10336882 0.09362555 0.08598622 0.10316844\n",
      " 0.10386976 0.10261741 0.09966187 0.0903444  0.08541014 0.08969317\n",
      " 0.09941763 0.09837484 0.0979726  0.09801789 0.09832276 0.09875855\n",
      " 0.0992512  0.09976304 0.10027702 0.10078635 0.10128881 0.10178389\n",
      " 0.10227165 0.10275216 0.10322558 0.10369197]\n",
      "16 day output [[0.10415133]]\n",
      "17 day input [0.16345648 0.1661866  0.16578585 0.16959299 0.16859111 0.16200376\n",
      " 0.15211021 0.15125861 0.15201002 0.15827176 0.14221666 0.13660614\n",
      " 0.13041954 0.1261866  0.12804008 0.12265498 0.11944897 0.12303068\n",
      " 0.11927364 0.1265623  0.14174076 0.11772073 0.12140263 0.11403882\n",
      " 0.10985598 0.11932373 0.1253851  0.11742016 0.11496556 0.10917971\n",
      " 0.11003131 0.11251096 0.10770194 0.08926738 0.07854728 0.08919224\n",
      " 0.09833438 0.09908579 0.09665623 0.08328115 0.0841077  0.08050094\n",
      " 0.07889793 0.09054477 0.07899812 0.08909205 0.09244834 0.09272386\n",
      " 0.09154665 0.10126487 0.10672511 0.11396368 0.10647464 0.09507827\n",
      " 0.12247965 0.11646838 0.10973075 0.09565435 0.08025047 0.07899812\n",
      " 0.08035066 0.08180338 0.07020664 0.10026299 0.10735128 0.10379461\n",
      " 0.10820288 0.10507201 0.10990607 0.11133375 0.10311835 0.10855354\n",
      " 0.11078272 0.10336882 0.09362555 0.08598622 0.10316844 0.10386976\n",
      " 0.10261741 0.09966187 0.0903444  0.08541014 0.08969317 0.09941763\n",
      " 0.09837484 0.0979726  0.09801789 0.09832276 0.09875855 0.0992512\n",
      " 0.09976304 0.10027702 0.10078635 0.10128881 0.10178389 0.10227165\n",
      " 0.10275216 0.10322558 0.10369197 0.10415133]\n",
      "17 day output [[0.10460368]]\n",
      "18 day input [0.1661866  0.16578585 0.16959299 0.16859111 0.16200376 0.15211021\n",
      " 0.15125861 0.15201002 0.15827176 0.14221666 0.13660614 0.13041954\n",
      " 0.1261866  0.12804008 0.12265498 0.11944897 0.12303068 0.11927364\n",
      " 0.1265623  0.14174076 0.11772073 0.12140263 0.11403882 0.10985598\n",
      " 0.11932373 0.1253851  0.11742016 0.11496556 0.10917971 0.11003131\n",
      " 0.11251096 0.10770194 0.08926738 0.07854728 0.08919224 0.09833438\n",
      " 0.09908579 0.09665623 0.08328115 0.0841077  0.08050094 0.07889793\n",
      " 0.09054477 0.07899812 0.08909205 0.09244834 0.09272386 0.09154665\n",
      " 0.10126487 0.10672511 0.11396368 0.10647464 0.09507827 0.12247965\n",
      " 0.11646838 0.10973075 0.09565435 0.08025047 0.07899812 0.08035066\n",
      " 0.08180338 0.07020664 0.10026299 0.10735128 0.10379461 0.10820288\n",
      " 0.10507201 0.10990607 0.11133375 0.10311835 0.10855354 0.11078272\n",
      " 0.10336882 0.09362555 0.08598622 0.10316844 0.10386976 0.10261741\n",
      " 0.09966187 0.0903444  0.08541014 0.08969317 0.09941763 0.09837484\n",
      " 0.0979726  0.09801789 0.09832276 0.09875855 0.0992512  0.09976304\n",
      " 0.10027702 0.10078635 0.10128881 0.10178389 0.10227165 0.10275216\n",
      " 0.10322558 0.10369197 0.10415133 0.10460368]\n",
      "18 day output [[0.105049]]\n",
      "19 day input [0.16578585 0.16959299 0.16859111 0.16200376 0.15211021 0.15125861\n",
      " 0.15201002 0.15827176 0.14221666 0.13660614 0.13041954 0.1261866\n",
      " 0.12804008 0.12265498 0.11944897 0.12303068 0.11927364 0.1265623\n",
      " 0.14174076 0.11772073 0.12140263 0.11403882 0.10985598 0.11932373\n",
      " 0.1253851  0.11742016 0.11496556 0.10917971 0.11003131 0.11251096\n",
      " 0.10770194 0.08926738 0.07854728 0.08919224 0.09833438 0.09908579\n",
      " 0.09665623 0.08328115 0.0841077  0.08050094 0.07889793 0.09054477\n",
      " 0.07899812 0.08909205 0.09244834 0.09272386 0.09154665 0.10126487\n",
      " 0.10672511 0.11396368 0.10647464 0.09507827 0.12247965 0.11646838\n",
      " 0.10973075 0.09565435 0.08025047 0.07899812 0.08035066 0.08180338\n",
      " 0.07020664 0.10026299 0.10735128 0.10379461 0.10820288 0.10507201\n",
      " 0.10990607 0.11133375 0.10311835 0.10855354 0.11078272 0.10336882\n",
      " 0.09362555 0.08598622 0.10316844 0.10386976 0.10261741 0.09966187\n",
      " 0.0903444  0.08541014 0.08969317 0.09941763 0.09837484 0.0979726\n",
      " 0.09801789 0.09832276 0.09875855 0.0992512  0.09976304 0.10027702\n",
      " 0.10078635 0.10128881 0.10178389 0.10227165 0.10275216 0.10322558\n",
      " 0.10369197 0.10415133 0.10460368 0.105049  ]\n",
      "19 day output [[0.10548727]]\n",
      "20 day input [0.16959299 0.16859111 0.16200376 0.15211021 0.15125861 0.15201002\n",
      " 0.15827176 0.14221666 0.13660614 0.13041954 0.1261866  0.12804008\n",
      " 0.12265498 0.11944897 0.12303068 0.11927364 0.1265623  0.14174076\n",
      " 0.11772073 0.12140263 0.11403882 0.10985598 0.11932373 0.1253851\n",
      " 0.11742016 0.11496556 0.10917971 0.11003131 0.11251096 0.10770194\n",
      " 0.08926738 0.07854728 0.08919224 0.09833438 0.09908579 0.09665623\n",
      " 0.08328115 0.0841077  0.08050094 0.07889793 0.09054477 0.07899812\n",
      " 0.08909205 0.09244834 0.09272386 0.09154665 0.10126487 0.10672511\n",
      " 0.11396368 0.10647464 0.09507827 0.12247965 0.11646838 0.10973075\n",
      " 0.09565435 0.08025047 0.07899812 0.08035066 0.08180338 0.07020664\n",
      " 0.10026299 0.10735128 0.10379461 0.10820288 0.10507201 0.10990607\n",
      " 0.11133375 0.10311835 0.10855354 0.11078272 0.10336882 0.09362555\n",
      " 0.08598622 0.10316844 0.10386976 0.10261741 0.09966187 0.0903444\n",
      " 0.08541014 0.08969317 0.09941763 0.09837484 0.0979726  0.09801789\n",
      " 0.09832276 0.09875855 0.0992512  0.09976304 0.10027702 0.10078635\n",
      " 0.10128881 0.10178389 0.10227165 0.10275216 0.10322558 0.10369197\n",
      " 0.10415133 0.10460368 0.105049   0.10548727]\n",
      "20 day output [[0.10591849]]\n",
      "21 day input [0.16859111 0.16200376 0.15211021 0.15125861 0.15201002 0.15827176\n",
      " 0.14221666 0.13660614 0.13041954 0.1261866  0.12804008 0.12265498\n",
      " 0.11944897 0.12303068 0.11927364 0.1265623  0.14174076 0.11772073\n",
      " 0.12140263 0.11403882 0.10985598 0.11932373 0.1253851  0.11742016\n",
      " 0.11496556 0.10917971 0.11003131 0.11251096 0.10770194 0.08926738\n",
      " 0.07854728 0.08919224 0.09833438 0.09908579 0.09665623 0.08328115\n",
      " 0.0841077  0.08050094 0.07889793 0.09054477 0.07899812 0.08909205\n",
      " 0.09244834 0.09272386 0.09154665 0.10126487 0.10672511 0.11396368\n",
      " 0.10647464 0.09507827 0.12247965 0.11646838 0.10973075 0.09565435\n",
      " 0.08025047 0.07899812 0.08035066 0.08180338 0.07020664 0.10026299\n",
      " 0.10735128 0.10379461 0.10820288 0.10507201 0.10990607 0.11133375\n",
      " 0.10311835 0.10855354 0.11078272 0.10336882 0.09362555 0.08598622\n",
      " 0.10316844 0.10386976 0.10261741 0.09966187 0.0903444  0.08541014\n",
      " 0.08969317 0.09941763 0.09837484 0.0979726  0.09801789 0.09832276\n",
      " 0.09875855 0.0992512  0.09976304 0.10027702 0.10078635 0.10128881\n",
      " 0.10178389 0.10227165 0.10275216 0.10322558 0.10369197 0.10415133\n",
      " 0.10460368 0.105049   0.10548727 0.10591849]\n",
      "21 day output [[0.1063426]]\n",
      "22 day input [0.16200376 0.15211021 0.15125861 0.15201002 0.15827176 0.14221666\n",
      " 0.13660614 0.13041954 0.1261866  0.12804008 0.12265498 0.11944897\n",
      " 0.12303068 0.11927364 0.1265623  0.14174076 0.11772073 0.12140263\n",
      " 0.11403882 0.10985598 0.11932373 0.1253851  0.11742016 0.11496556\n",
      " 0.10917971 0.11003131 0.11251096 0.10770194 0.08926738 0.07854728\n",
      " 0.08919224 0.09833438 0.09908579 0.09665623 0.08328115 0.0841077\n",
      " 0.08050094 0.07889793 0.09054477 0.07899812 0.08909205 0.09244834\n",
      " 0.09272386 0.09154665 0.10126487 0.10672511 0.11396368 0.10647464\n",
      " 0.09507827 0.12247965 0.11646838 0.10973075 0.09565435 0.08025047\n",
      " 0.07899812 0.08035066 0.08180338 0.07020664 0.10026299 0.10735128\n",
      " 0.10379461 0.10820288 0.10507201 0.10990607 0.11133375 0.10311835\n",
      " 0.10855354 0.11078272 0.10336882 0.09362555 0.08598622 0.10316844\n",
      " 0.10386976 0.10261741 0.09966187 0.0903444  0.08541014 0.08969317\n",
      " 0.09941763 0.09837484 0.0979726  0.09801789 0.09832276 0.09875855\n",
      " 0.0992512  0.09976304 0.10027702 0.10078635 0.10128881 0.10178389\n",
      " 0.10227165 0.10275216 0.10322558 0.10369197 0.10415133 0.10460368\n",
      " 0.105049   0.10548727 0.10591849 0.1063426 ]\n",
      "22 day output [[0.10675961]]\n",
      "23 day input [0.15211021 0.15125861 0.15201002 0.15827176 0.14221666 0.13660614\n",
      " 0.13041954 0.1261866  0.12804008 0.12265498 0.11944897 0.12303068\n",
      " 0.11927364 0.1265623  0.14174076 0.11772073 0.12140263 0.11403882\n",
      " 0.10985598 0.11932373 0.1253851  0.11742016 0.11496556 0.10917971\n",
      " 0.11003131 0.11251096 0.10770194 0.08926738 0.07854728 0.08919224\n",
      " 0.09833438 0.09908579 0.09665623 0.08328115 0.0841077  0.08050094\n",
      " 0.07889793 0.09054477 0.07899812 0.08909205 0.09244834 0.09272386\n",
      " 0.09154665 0.10126487 0.10672511 0.11396368 0.10647464 0.09507827\n",
      " 0.12247965 0.11646838 0.10973075 0.09565435 0.08025047 0.07899812\n",
      " 0.08035066 0.08180338 0.07020664 0.10026299 0.10735128 0.10379461\n",
      " 0.10820288 0.10507201 0.10990607 0.11133375 0.10311835 0.10855354\n",
      " 0.11078272 0.10336882 0.09362555 0.08598622 0.10316844 0.10386976\n",
      " 0.10261741 0.09966187 0.0903444  0.08541014 0.08969317 0.09941763\n",
      " 0.09837484 0.0979726  0.09801789 0.09832276 0.09875855 0.0992512\n",
      " 0.09976304 0.10027702 0.10078635 0.10128881 0.10178389 0.10227165\n",
      " 0.10275216 0.10322558 0.10369197 0.10415133 0.10460368 0.105049\n",
      " 0.10548727 0.10591849 0.1063426  0.10675961]\n",
      "23 day output [[0.10716946]]\n",
      "24 day input [0.15125861 0.15201002 0.15827176 0.14221666 0.13660614 0.13041954\n",
      " 0.1261866  0.12804008 0.12265498 0.11944897 0.12303068 0.11927364\n",
      " 0.1265623  0.14174076 0.11772073 0.12140263 0.11403882 0.10985598\n",
      " 0.11932373 0.1253851  0.11742016 0.11496556 0.10917971 0.11003131\n",
      " 0.11251096 0.10770194 0.08926738 0.07854728 0.08919224 0.09833438\n",
      " 0.09908579 0.09665623 0.08328115 0.0841077  0.08050094 0.07889793\n",
      " 0.09054477 0.07899812 0.08909205 0.09244834 0.09272386 0.09154665\n",
      " 0.10126487 0.10672511 0.11396368 0.10647464 0.09507827 0.12247965\n",
      " 0.11646838 0.10973075 0.09565435 0.08025047 0.07899812 0.08035066\n",
      " 0.08180338 0.07020664 0.10026299 0.10735128 0.10379461 0.10820288\n",
      " 0.10507201 0.10990607 0.11133375 0.10311835 0.10855354 0.11078272\n",
      " 0.10336882 0.09362555 0.08598622 0.10316844 0.10386976 0.10261741\n",
      " 0.09966187 0.0903444  0.08541014 0.08969317 0.09941763 0.09837484\n",
      " 0.0979726  0.09801789 0.09832276 0.09875855 0.0992512  0.09976304\n",
      " 0.10027702 0.10078635 0.10128881 0.10178389 0.10227165 0.10275216\n",
      " 0.10322558 0.10369197 0.10415133 0.10460368 0.105049   0.10548727\n",
      " 0.10591849 0.1063426  0.10675961 0.10716946]\n",
      "24 day output [[0.10757224]]\n",
      "25 day input [0.15201002 0.15827176 0.14221666 0.13660614 0.13041954 0.1261866\n",
      " 0.12804008 0.12265498 0.11944897 0.12303068 0.11927364 0.1265623\n",
      " 0.14174076 0.11772073 0.12140263 0.11403882 0.10985598 0.11932373\n",
      " 0.1253851  0.11742016 0.11496556 0.10917971 0.11003131 0.11251096\n",
      " 0.10770194 0.08926738 0.07854728 0.08919224 0.09833438 0.09908579\n",
      " 0.09665623 0.08328115 0.0841077  0.08050094 0.07889793 0.09054477\n",
      " 0.07899812 0.08909205 0.09244834 0.09272386 0.09154665 0.10126487\n",
      " 0.10672511 0.11396368 0.10647464 0.09507827 0.12247965 0.11646838\n",
      " 0.10973075 0.09565435 0.08025047 0.07899812 0.08035066 0.08180338\n",
      " 0.07020664 0.10026299 0.10735128 0.10379461 0.10820288 0.10507201\n",
      " 0.10990607 0.11133375 0.10311835 0.10855354 0.11078272 0.10336882\n",
      " 0.09362555 0.08598622 0.10316844 0.10386976 0.10261741 0.09966187\n",
      " 0.0903444  0.08541014 0.08969317 0.09941763 0.09837484 0.0979726\n",
      " 0.09801789 0.09832276 0.09875855 0.0992512  0.09976304 0.10027702\n",
      " 0.10078635 0.10128881 0.10178389 0.10227165 0.10275216 0.10322558\n",
      " 0.10369197 0.10415133 0.10460368 0.105049   0.10548727 0.10591849\n",
      " 0.1063426  0.10675961 0.10716946 0.10757224]\n",
      "25 day output [[0.10796795]]\n",
      "26 day input [0.15827176 0.14221666 0.13660614 0.13041954 0.1261866  0.12804008\n",
      " 0.12265498 0.11944897 0.12303068 0.11927364 0.1265623  0.14174076\n",
      " 0.11772073 0.12140263 0.11403882 0.10985598 0.11932373 0.1253851\n",
      " 0.11742016 0.11496556 0.10917971 0.11003131 0.11251096 0.10770194\n",
      " 0.08926738 0.07854728 0.08919224 0.09833438 0.09908579 0.09665623\n",
      " 0.08328115 0.0841077  0.08050094 0.07889793 0.09054477 0.07899812\n",
      " 0.08909205 0.09244834 0.09272386 0.09154665 0.10126487 0.10672511\n",
      " 0.11396368 0.10647464 0.09507827 0.12247965 0.11646838 0.10973075\n",
      " 0.09565435 0.08025047 0.07899812 0.08035066 0.08180338 0.07020664\n",
      " 0.10026299 0.10735128 0.10379461 0.10820288 0.10507201 0.10990607\n",
      " 0.11133375 0.10311835 0.10855354 0.11078272 0.10336882 0.09362555\n",
      " 0.08598622 0.10316844 0.10386976 0.10261741 0.09966187 0.0903444\n",
      " 0.08541014 0.08969317 0.09941763 0.09837484 0.0979726  0.09801789\n",
      " 0.09832276 0.09875855 0.0992512  0.09976304 0.10027702 0.10078635\n",
      " 0.10128881 0.10178389 0.10227165 0.10275216 0.10322558 0.10369197\n",
      " 0.10415133 0.10460368 0.105049   0.10548727 0.10591849 0.1063426\n",
      " 0.10675961 0.10716946 0.10757224 0.10796795]\n",
      "26 day output [[0.10835663]]\n",
      "27 day input [0.14221666 0.13660614 0.13041954 0.1261866  0.12804008 0.12265498\n",
      " 0.11944897 0.12303068 0.11927364 0.1265623  0.14174076 0.11772073\n",
      " 0.12140263 0.11403882 0.10985598 0.11932373 0.1253851  0.11742016\n",
      " 0.11496556 0.10917971 0.11003131 0.11251096 0.10770194 0.08926738\n",
      " 0.07854728 0.08919224 0.09833438 0.09908579 0.09665623 0.08328115\n",
      " 0.0841077  0.08050094 0.07889793 0.09054477 0.07899812 0.08909205\n",
      " 0.09244834 0.09272386 0.09154665 0.10126487 0.10672511 0.11396368\n",
      " 0.10647464 0.09507827 0.12247965 0.11646838 0.10973075 0.09565435\n",
      " 0.08025047 0.07899812 0.08035066 0.08180338 0.07020664 0.10026299\n",
      " 0.10735128 0.10379461 0.10820288 0.10507201 0.10990607 0.11133375\n",
      " 0.10311835 0.10855354 0.11078272 0.10336882 0.09362555 0.08598622\n",
      " 0.10316844 0.10386976 0.10261741 0.09966187 0.0903444  0.08541014\n",
      " 0.08969317 0.09941763 0.09837484 0.0979726  0.09801789 0.09832276\n",
      " 0.09875855 0.0992512  0.09976304 0.10027702 0.10078635 0.10128881\n",
      " 0.10178389 0.10227165 0.10275216 0.10322558 0.10369197 0.10415133\n",
      " 0.10460368 0.105049   0.10548727 0.10591849 0.1063426  0.10675961\n",
      " 0.10716946 0.10757224 0.10796795 0.10835663]\n",
      "27 day output [[0.10873837]]\n",
      "28 day input [0.13660614 0.13041954 0.1261866  0.12804008 0.12265498 0.11944897\n",
      " 0.12303068 0.11927364 0.1265623  0.14174076 0.11772073 0.12140263\n",
      " 0.11403882 0.10985598 0.11932373 0.1253851  0.11742016 0.11496556\n",
      " 0.10917971 0.11003131 0.11251096 0.10770194 0.08926738 0.07854728\n",
      " 0.08919224 0.09833438 0.09908579 0.09665623 0.08328115 0.0841077\n",
      " 0.08050094 0.07889793 0.09054477 0.07899812 0.08909205 0.09244834\n",
      " 0.09272386 0.09154665 0.10126487 0.10672511 0.11396368 0.10647464\n",
      " 0.09507827 0.12247965 0.11646838 0.10973075 0.09565435 0.08025047\n",
      " 0.07899812 0.08035066 0.08180338 0.07020664 0.10026299 0.10735128\n",
      " 0.10379461 0.10820288 0.10507201 0.10990607 0.11133375 0.10311835\n",
      " 0.10855354 0.11078272 0.10336882 0.09362555 0.08598622 0.10316844\n",
      " 0.10386976 0.10261741 0.09966187 0.0903444  0.08541014 0.08969317\n",
      " 0.09941763 0.09837484 0.0979726  0.09801789 0.09832276 0.09875855\n",
      " 0.0992512  0.09976304 0.10027702 0.10078635 0.10128881 0.10178389\n",
      " 0.10227165 0.10275216 0.10322558 0.10369197 0.10415133 0.10460368\n",
      " 0.105049   0.10548727 0.10591849 0.1063426  0.10675961 0.10716946\n",
      " 0.10757224 0.10796795 0.10835663 0.10873837]\n",
      "28 day output [[0.10911334]]\n",
      "29 day input [0.13041954 0.1261866  0.12804008 0.12265498 0.11944897 0.12303068\n",
      " 0.11927364 0.1265623  0.14174076 0.11772073 0.12140263 0.11403882\n",
      " 0.10985598 0.11932373 0.1253851  0.11742016 0.11496556 0.10917971\n",
      " 0.11003131 0.11251096 0.10770194 0.08926738 0.07854728 0.08919224\n",
      " 0.09833438 0.09908579 0.09665623 0.08328115 0.0841077  0.08050094\n",
      " 0.07889793 0.09054477 0.07899812 0.08909205 0.09244834 0.09272386\n",
      " 0.09154665 0.10126487 0.10672511 0.11396368 0.10647464 0.09507827\n",
      " 0.12247965 0.11646838 0.10973075 0.09565435 0.08025047 0.07899812\n",
      " 0.08035066 0.08180338 0.07020664 0.10026299 0.10735128 0.10379461\n",
      " 0.10820288 0.10507201 0.10990607 0.11133375 0.10311835 0.10855354\n",
      " 0.11078272 0.10336882 0.09362555 0.08598622 0.10316844 0.10386976\n",
      " 0.10261741 0.09966187 0.0903444  0.08541014 0.08969317 0.09941763\n",
      " 0.09837484 0.0979726  0.09801789 0.09832276 0.09875855 0.0992512\n",
      " 0.09976304 0.10027702 0.10078635 0.10128881 0.10178389 0.10227165\n",
      " 0.10275216 0.10322558 0.10369197 0.10415133 0.10460368 0.105049\n",
      " 0.10548727 0.10591849 0.1063426  0.10675961 0.10716946 0.10757224\n",
      " 0.10796795 0.10835663 0.10873837 0.10911334]\n",
      "29 day output [[0.10948164]]\n",
      "[[0.09941763430833817], [0.09837483614683151], [0.09797260165214539], [0.09801788628101349], [0.09832275658845901], [0.09875854849815369], [0.09925120323896408], [0.09976303577423096], [0.10027702152729034], [0.10078635066747665], [0.1012888103723526], [0.10178389400243759], [0.10227164626121521], [0.10275215655565262], [0.10322558134794235], [0.103691965341568], [0.10415133088827133], [0.10460367798805237], [0.1050489991903305], [0.10548727214336395], [0.10591848939657211], [0.10634259879589081], [0.10675960779190063], [0.10716946423053741], [0.10757224261760712], [0.10796795040369034], [0.10835663229227066], [0.10873837023973465], [0.10911333560943604], [0.10948164016008377]]\n"
     ]
    }
   ],
   "source": [
    "from numpy import array\n",
    "\n",
    "lst_output = []\n",
    "n_steps = 100\n",
    "i = 0\n",
    "while i < 30:\n",
    "    if len(temp_input)>100:\n",
    "        x_input = array(temp_input[1:])\n",
    "        print(f'{i} day input {x_input}')\n",
    "        x_input = x_input.reshape(1, n_steps, 1)\n",
    "        yhat = model.predict(x_input, verbose=0)\n",
    "        print(f'{i} day output {yhat}')\n",
    "        temp_input.extend(yhat[0].tolist())\n",
    "        temp_input = temp_input[1:]\n",
    "        lst_output.extend(yhat.tolist())\n",
    "        i = i + 1\n",
    "    else:\n",
    "        x_input = x_input.reshape(1, n_steps, 1)\n",
    "        yhat = model.predict(x_input, verbose=0)\n",
    "        print(yhat[0])\n",
    "        temp_input.extend(yhat[0].tolist())\n",
    "        print(len(temp_input))\n",
    "        lst_output.extend(yhat.tolist())\n",
    "        i = i + 1\n",
    "\n",
    "print(lst_output)"
   ]
  },
  {
   "attachments": {},
   "cell_type": "markdown",
   "metadata": {},
   "source": [
    "## Days determination for plotting"
   ]
  },
  {
   "cell_type": "code",
   "execution_count": null,
   "metadata": {},
   "outputs": [],
   "source": [
    "day_new = np.arange(1, 101)\n",
    "day_pred = np.arange(101, 131)"
   ]
  },
  {
   "cell_type": "code",
   "execution_count": null,
   "metadata": {},
   "outputs": [],
   "source": [
    "df2 = df1.tolist()\n",
    "df2.extend(lst_output)"
   ]
  },
  {
   "attachments": {},
   "cell_type": "markdown",
   "metadata": {},
   "source": [
    "## Prediction plot"
   ]
  },
  {
   "cell_type": "code",
   "execution_count": null,
   "metadata": {},
   "outputs": [
    {
     "data": {
      "text/plain": [
       "[<matplotlib.lines.Line2D at 0x18e7f751ae0>]"
      ]
     },
     "execution_count": 29,
     "metadata": {},
     "output_type": "execute_result"
    },
    {
     "data": {
      "image/png": "[encoded data removed]",
      "text/plain": [
       "<Figure size 432x288 with 1 Axes>"
      ]
     },
     "metadata": {
      "needs_background": "light"
     },
     "output_type": "display_data"
    }
   ],
   "source": [
    "plt.plot(day_new, scaler.inverse_transform(df1[1158:]))\n",
    "plt.plot(day_pred, scaler.inverse_transform(lst_output))"
   ]
  },
  {
   "cell_type": "code",
   "execution_count": null,
   "metadata": {},
   "outputs": [
    {
     "data": {
      "text/plain": [
       "[<matplotlib.lines.Line2D at 0x18e7f703490>]"
      ]
     },
     "execution_count": 30,
     "metadata": {},
     "output_type": "execute_result"
    },
    {
     "data": {
      "image/png": "[encoded data removed]",
      "text/plain": [
       "<Figure size 432x288 with 1 Axes>"
      ]
     },
     "metadata": {
      "needs_background": "light"
     },
     "output_type": "display_data"
    }
   ],
   "source": [
    "plt.plot(df2[1000:])"
   ]
  },
  {
   "cell_type": "code",
   "execution_count": null,
   "metadata": {},
   "outputs": [
    {
     "data": {
      "text/plain": [
       "[<matplotlib.lines.Line2D at 0x18e7f765f60>]"
      ]
     },
     "execution_count": 31,
     "metadata": {},
     "output_type": "execute_result"
    },
    {
     "data": {
      "image/png": "[encoded data removed]",
      "text/plain": [
       "<Figure size 432x288 with 1 Axes>"
      ]
     },
     "metadata": {
      "needs_background": "light"
     },
     "output_type": "display_data"
    }
   ],
   "source": [
    "plt.plot(df2[1200:])"
   ]
  },
  {
   "cell_type": "code",
   "execution_count": null,
   "metadata": {},
   "outputs": [],
   "source": []
  }
 ],
 "metadata": {
  "kernelspec": {
   "display_name": "Python 3.10.0 64-bit",
   "language": "python",
   "name": "python3"
  },
  "language_info": {
   "codemirror_mode": {
    "name": "ipython",
    "version": 3
   },
   "file_extension": ".py",
   "mimetype": "text/x-python",
   "name": "python",
   "nbconvert_exporter": "python",
   "pygments_lexer": "ipython3",
   "version": "3.10.0"
  },
  "orig_nbformat": 4,
  "vscode": {
   "interpreter": {
    "hash": "369f2c481f4da34e4445cda3fffd2e751bd1c4d706f27375911949ba6bb62e1c"
   }
  }
 },
 "nbformat": 4,
 "nbformat_minor": 2
}
