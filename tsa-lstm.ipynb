{
 "cells": [
  {
   "attachments": {},
   "cell_type": "markdown",
   "metadata": {},
   "source": [
    "## Libraries for TSA using LSTM"
   ]
  },
  {
   "cell_type": "code",
   "execution_count": 1,
   "metadata": {},
   "outputs": [],
   "source": [
    "import pandas_datareader as pdr\n",
    "import matplotlib.pyplot as plt"
   ]
  },
  {
   "attachments": {},
   "cell_type": "markdown",
   "metadata": {},
   "source": [
    "## Apple Stock data for TSA"
   ]
  },
  {
   "cell_type": "code",
   "execution_count": 2,
   "metadata": {},
   "outputs": [
    {
     "name": "stderr",
     "output_type": "stream",
     "text": [
      "C:\\Users\\sinch\\AppData\\Local\\Temp\\ipykernel_4516\\918027198.py:1: FutureWarning: In a future version of pandas all arguments of concat except for the argument 'objs' will be keyword-only.\n",
      "  df = pdr.get_data_tiingo('AAPL', api_key='ab2882f6485e2828c46882b863cc7c8cdaaef007')\n"
     ]
    },
    {
     "data": {
      "text/html": [
       "<div>\n",
       "<style scoped>\n",
       "    .dataframe tbody tr th:only-of-type {\n",
       "        vertical-align: middle;\n",
       "    }\n",
       "\n",
       "    .dataframe tbody tr th {\n",
       "        vertical-align: top;\n",
       "    }\n",
       "\n",
       "    .dataframe thead th {\n",
       "        text-align: right;\n",
       "    }\n",
       "</style>\n",
       "<table border=\"1\" class=\"dataframe\">\n",
       "  <thead>\n",
       "    <tr style=\"text-align: right;\">\n",
       "      <th></th>\n",
       "      <th></th>\n",
       "      <th>close</th>\n",
       "      <th>high</th>\n",
       "      <th>low</th>\n",
       "      <th>open</th>\n",
       "      <th>volume</th>\n",
       "      <th>adjClose</th>\n",
       "      <th>adjHigh</th>\n",
       "      <th>adjLow</th>\n",
       "      <th>adjOpen</th>\n",
       "      <th>adjVolume</th>\n",
       "      <th>divCash</th>\n",
       "      <th>splitFactor</th>\n",
       "    </tr>\n",
       "    <tr>\n",
       "      <th>symbol</th>\n",
       "      <th>date</th>\n",
       "      <th></th>\n",
       "      <th></th>\n",
       "      <th></th>\n",
       "      <th></th>\n",
       "      <th></th>\n",
       "      <th></th>\n",
       "      <th></th>\n",
       "      <th></th>\n",
       "      <th></th>\n",
       "      <th></th>\n",
       "      <th></th>\n",
       "      <th></th>\n",
       "    </tr>\n",
       "  </thead>\n",
       "  <tbody>\n",
       "    <tr>\n",
       "      <th rowspan=\"5\" valign=\"top\">AAPL</th>\n",
       "      <th>2017-12-12 00:00:00+00:00</th>\n",
       "      <td>171.70</td>\n",
       "      <td>172.39</td>\n",
       "      <td>171.461</td>\n",
       "      <td>172.15</td>\n",
       "      <td>18945457</td>\n",
       "      <td>40.815488</td>\n",
       "      <td>40.979511</td>\n",
       "      <td>40.758674</td>\n",
       "      <td>40.922459</td>\n",
       "      <td>75781828</td>\n",
       "      <td>0.0</td>\n",
       "      <td>1.0</td>\n",
       "    </tr>\n",
       "    <tr>\n",
       "      <th>2017-12-13 00:00:00+00:00</th>\n",
       "      <td>172.27</td>\n",
       "      <td>173.54</td>\n",
       "      <td>172.000</td>\n",
       "      <td>172.50</td>\n",
       "      <td>23142242</td>\n",
       "      <td>40.950985</td>\n",
       "      <td>41.252882</td>\n",
       "      <td>40.886802</td>\n",
       "      <td>41.005659</td>\n",
       "      <td>92568968</td>\n",
       "      <td>0.0</td>\n",
       "      <td>1.0</td>\n",
       "    </tr>\n",
       "    <tr>\n",
       "      <th>2017-12-14 00:00:00+00:00</th>\n",
       "      <td>172.22</td>\n",
       "      <td>173.13</td>\n",
       "      <td>171.650</td>\n",
       "      <td>172.40</td>\n",
       "      <td>20219307</td>\n",
       "      <td>40.939099</td>\n",
       "      <td>41.155419</td>\n",
       "      <td>40.803602</td>\n",
       "      <td>40.981888</td>\n",
       "      <td>80877228</td>\n",
       "      <td>0.0</td>\n",
       "      <td>1.0</td>\n",
       "    </tr>\n",
       "    <tr>\n",
       "      <th>2017-12-15 00:00:00+00:00</th>\n",
       "      <td>173.97</td>\n",
       "      <td>174.17</td>\n",
       "      <td>172.460</td>\n",
       "      <td>173.63</td>\n",
       "      <td>37054632</td>\n",
       "      <td>41.355099</td>\n",
       "      <td>41.402642</td>\n",
       "      <td>40.996151</td>\n",
       "      <td>41.274276</td>\n",
       "      <td>148218528</td>\n",
       "      <td>0.0</td>\n",
       "      <td>1.0</td>\n",
       "    </tr>\n",
       "    <tr>\n",
       "      <th>2017-12-18 00:00:00+00:00</th>\n",
       "      <td>176.42</td>\n",
       "      <td>177.20</td>\n",
       "      <td>174.860</td>\n",
       "      <td>174.88</td>\n",
       "      <td>28831533</td>\n",
       "      <td>41.937498</td>\n",
       "      <td>42.122915</td>\n",
       "      <td>41.566664</td>\n",
       "      <td>41.571419</td>\n",
       "      <td>115326132</td>\n",
       "      <td>0.0</td>\n",
       "      <td>1.0</td>\n",
       "    </tr>\n",
       "  </tbody>\n",
       "</table>\n",
       "</div>"
      ],
      "text/plain": [
       "                                   close    high      low    open    volume  \\\n",
       "symbol date                                                                   \n",
       "AAPL   2017-12-12 00:00:00+00:00  171.70  172.39  171.461  172.15  18945457   \n",
       "       2017-12-13 00:00:00+00:00  172.27  173.54  172.000  172.50  23142242   \n",
       "       2017-12-14 00:00:00+00:00  172.22  173.13  171.650  172.40  20219307   \n",
       "       2017-12-15 00:00:00+00:00  173.97  174.17  172.460  173.63  37054632   \n",
       "       2017-12-18 00:00:00+00:00  176.42  177.20  174.860  174.88  28831533   \n",
       "\n",
       "                                   adjClose    adjHigh     adjLow    adjOpen  \\\n",
       "symbol date                                                                    \n",
       "AAPL   2017-12-12 00:00:00+00:00  40.815488  40.979511  40.758674  40.922459   \n",
       "       2017-12-13 00:00:00+00:00  40.950985  41.252882  40.886802  41.005659   \n",
       "       2017-12-14 00:00:00+00:00  40.939099  41.155419  40.803602  40.981888   \n",
       "       2017-12-15 00:00:00+00:00  41.355099  41.402642  40.996151  41.274276   \n",
       "       2017-12-18 00:00:00+00:00  41.937498  42.122915  41.566664  41.571419   \n",
       "\n",
       "                                  adjVolume  divCash  splitFactor  \n",
       "symbol date                                                        \n",
       "AAPL   2017-12-12 00:00:00+00:00   75781828      0.0          1.0  \n",
       "       2017-12-13 00:00:00+00:00   92568968      0.0          1.0  \n",
       "       2017-12-14 00:00:00+00:00   80877228      0.0          1.0  \n",
       "       2017-12-15 00:00:00+00:00  148218528      0.0          1.0  \n",
       "       2017-12-18 00:00:00+00:00  115326132      0.0          1.0  "
      ]
     },
     "execution_count": 2,
     "metadata": {},
     "output_type": "execute_result"
    }
   ],
   "source": [
    "df = pdr.get_data_tiingo('AAPL', api_key='ab2882f6485e2828c46882b863cc7c8cdaaef007')\n",
    "df.head()"
   ]
  },
  {
   "cell_type": "code",
   "execution_count": 3,
   "metadata": {},
   "outputs": [
    {
     "data": {
      "text/html": [
       "<div>\n",
       "<style scoped>\n",
       "    .dataframe tbody tr th:only-of-type {\n",
       "        vertical-align: middle;\n",
       "    }\n",
       "\n",
       "    .dataframe tbody tr th {\n",
       "        vertical-align: top;\n",
       "    }\n",
       "\n",
       "    .dataframe thead th {\n",
       "        text-align: right;\n",
       "    }\n",
       "</style>\n",
       "<table border=\"1\" class=\"dataframe\">\n",
       "  <thead>\n",
       "    <tr style=\"text-align: right;\">\n",
       "      <th></th>\n",
       "      <th></th>\n",
       "      <th>close</th>\n",
       "      <th>high</th>\n",
       "      <th>low</th>\n",
       "      <th>open</th>\n",
       "      <th>volume</th>\n",
       "      <th>adjClose</th>\n",
       "      <th>adjHigh</th>\n",
       "      <th>adjLow</th>\n",
       "      <th>adjOpen</th>\n",
       "      <th>adjVolume</th>\n",
       "      <th>divCash</th>\n",
       "      <th>splitFactor</th>\n",
       "    </tr>\n",
       "    <tr>\n",
       "      <th>symbol</th>\n",
       "      <th>date</th>\n",
       "      <th></th>\n",
       "      <th></th>\n",
       "      <th></th>\n",
       "      <th></th>\n",
       "      <th></th>\n",
       "      <th></th>\n",
       "      <th></th>\n",
       "      <th></th>\n",
       "      <th></th>\n",
       "      <th></th>\n",
       "      <th></th>\n",
       "      <th></th>\n",
       "    </tr>\n",
       "  </thead>\n",
       "  <tbody>\n",
       "    <tr>\n",
       "      <th rowspan=\"5\" valign=\"top\">AAPL</th>\n",
       "      <th>2022-12-05 00:00:00+00:00</th>\n",
       "      <td>146.63</td>\n",
       "      <td>150.9199</td>\n",
       "      <td>145.77</td>\n",
       "      <td>147.770</td>\n",
       "      <td>68826442</td>\n",
       "      <td>146.63</td>\n",
       "      <td>150.9199</td>\n",
       "      <td>145.77</td>\n",
       "      <td>147.770</td>\n",
       "      <td>68826442</td>\n",
       "      <td>0.0</td>\n",
       "      <td>1.0</td>\n",
       "    </tr>\n",
       "    <tr>\n",
       "      <th>2022-12-06 00:00:00+00:00</th>\n",
       "      <td>142.91</td>\n",
       "      <td>147.3000</td>\n",
       "      <td>141.92</td>\n",
       "      <td>147.075</td>\n",
       "      <td>64727186</td>\n",
       "      <td>142.91</td>\n",
       "      <td>147.3000</td>\n",
       "      <td>141.92</td>\n",
       "      <td>147.075</td>\n",
       "      <td>64727186</td>\n",
       "      <td>0.0</td>\n",
       "      <td>1.0</td>\n",
       "    </tr>\n",
       "    <tr>\n",
       "      <th>2022-12-07 00:00:00+00:00</th>\n",
       "      <td>140.94</td>\n",
       "      <td>143.3700</td>\n",
       "      <td>140.00</td>\n",
       "      <td>142.190</td>\n",
       "      <td>69721094</td>\n",
       "      <td>140.94</td>\n",
       "      <td>143.3700</td>\n",
       "      <td>140.00</td>\n",
       "      <td>142.190</td>\n",
       "      <td>69721094</td>\n",
       "      <td>0.0</td>\n",
       "      <td>1.0</td>\n",
       "    </tr>\n",
       "    <tr>\n",
       "      <th>2022-12-08 00:00:00+00:00</th>\n",
       "      <td>142.65</td>\n",
       "      <td>143.5200</td>\n",
       "      <td>141.10</td>\n",
       "      <td>142.360</td>\n",
       "      <td>62128338</td>\n",
       "      <td>142.65</td>\n",
       "      <td>143.5200</td>\n",
       "      <td>141.10</td>\n",
       "      <td>142.360</td>\n",
       "      <td>62128338</td>\n",
       "      <td>0.0</td>\n",
       "      <td>1.0</td>\n",
       "    </tr>\n",
       "    <tr>\n",
       "      <th>2022-12-09 00:00:00+00:00</th>\n",
       "      <td>142.16</td>\n",
       "      <td>145.5700</td>\n",
       "      <td>140.90</td>\n",
       "      <td>142.340</td>\n",
       "      <td>76097011</td>\n",
       "      <td>142.16</td>\n",
       "      <td>145.5700</td>\n",
       "      <td>140.90</td>\n",
       "      <td>142.340</td>\n",
       "      <td>76097011</td>\n",
       "      <td>0.0</td>\n",
       "      <td>1.0</td>\n",
       "    </tr>\n",
       "  </tbody>\n",
       "</table>\n",
       "</div>"
      ],
      "text/plain": [
       "                                   close      high     low     open    volume  \\\n",
       "symbol date                                                                     \n",
       "AAPL   2022-12-05 00:00:00+00:00  146.63  150.9199  145.77  147.770  68826442   \n",
       "       2022-12-06 00:00:00+00:00  142.91  147.3000  141.92  147.075  64727186   \n",
       "       2022-12-07 00:00:00+00:00  140.94  143.3700  140.00  142.190  69721094   \n",
       "       2022-12-08 00:00:00+00:00  142.65  143.5200  141.10  142.360  62128338   \n",
       "       2022-12-09 00:00:00+00:00  142.16  145.5700  140.90  142.340  76097011   \n",
       "\n",
       "                                  adjClose   adjHigh  adjLow  adjOpen  \\\n",
       "symbol date                                                             \n",
       "AAPL   2022-12-05 00:00:00+00:00    146.63  150.9199  145.77  147.770   \n",
       "       2022-12-06 00:00:00+00:00    142.91  147.3000  141.92  147.075   \n",
       "       2022-12-07 00:00:00+00:00    140.94  143.3700  140.00  142.190   \n",
       "       2022-12-08 00:00:00+00:00    142.65  143.5200  141.10  142.360   \n",
       "       2022-12-09 00:00:00+00:00    142.16  145.5700  140.90  142.340   \n",
       "\n",
       "                                  adjVolume  divCash  splitFactor  \n",
       "symbol date                                                        \n",
       "AAPL   2022-12-05 00:00:00+00:00   68826442      0.0          1.0  \n",
       "       2022-12-06 00:00:00+00:00   64727186      0.0          1.0  \n",
       "       2022-12-07 00:00:00+00:00   69721094      0.0          1.0  \n",
       "       2022-12-08 00:00:00+00:00   62128338      0.0          1.0  \n",
       "       2022-12-09 00:00:00+00:00   76097011      0.0          1.0  "
      ]
     },
     "execution_count": 3,
     "metadata": {},
     "output_type": "execute_result"
    }
   ],
   "source": [
    "df.tail()"
   ]
  },
  {
   "attachments": {},
   "cell_type": "markdown",
   "metadata": {},
   "source": [
    "### Dataframing: Closing Price data for forecasting"
   ]
  },
  {
   "cell_type": "code",
   "execution_count": 4,
   "metadata": {},
   "outputs": [
    {
     "data": {
      "text/plain": [
       "0    171.70\n",
       "1    172.27\n",
       "2    172.22\n",
       "3    173.97\n",
       "4    176.42\n",
       "Name: close, dtype: float64"
      ]
     },
     "execution_count": 4,
     "metadata": {},
     "output_type": "execute_result"
    }
   ],
   "source": [
    "df1 = df.reset_index()['close']\n",
    "df1.head()"
   ]
  },
  {
   "attachments": {},
   "cell_type": "markdown",
   "metadata": {},
   "source": [
    "### Shape of the dataframe"
   ]
  },
  {
   "cell_type": "code",
   "execution_count": 5,
   "metadata": {},
   "outputs": [
    {
     "data": {
      "text/plain": [
       "(1258,)"
      ]
     },
     "execution_count": 5,
     "metadata": {},
     "output_type": "execute_result"
    }
   ],
   "source": [
    "df1.shape"
   ]
  },
  {
   "cell_type": "markdown",
   "metadata": {},
   "source": [
    "## Trend check of the data"
   ]
  },
  {
   "cell_type": "code",
   "execution_count": 6,
   "metadata": {},
   "outputs": [
    {
     "data": {
      "text/plain": [
       "[<matplotlib.lines.Line2D at 0x1582e0f3880>]"
      ]
     },
     "execution_count": 6,
     "metadata": {},
     "output_type": "execute_result"
    },
    {
     "data": {
      "image/png": "[encoded data removed]",
      "text/plain": [
       "<Figure size 432x288 with 1 Axes>"
      ]
     },
     "metadata": {
      "needs_background": "light"
     },
     "output_type": "display_data"
    }
   ],
   "source": [
    "plt.plot(df1)"
   ]
  },
  {
   "attachments": {},
   "cell_type": "markdown",
   "metadata": {},
   "source": [
    "## Scaling the data in range: 0 to 1"
   ]
  },
  {
   "cell_type": "code",
   "execution_count": 7,
   "metadata": {},
   "outputs": [],
   "source": [
    "import numpy as np \n",
    "from sklearn.preprocessing import MinMaxScaler"
   ]
  },
  {
   "cell_type": "code",
   "execution_count": 8,
   "metadata": {},
   "outputs": [
    {
     "data": {
      "text/plain": [
       "(1258, 1)"
      ]
     },
     "execution_count": 8,
     "metadata": {},
     "output_type": "execute_result"
    }
   ],
   "source": [
    "scaler = MinMaxScaler(feature_range=(0,1))\n",
    "df1 = scaler.fit_transform(np.array(df1).reshape(-1,1))\n",
    "df1.shape"
   ]
  },
  {
   "attachments": {},
   "cell_type": "markdown",
   "metadata": {},
   "source": [
    "## Train-Test data split"
   ]
  },
  {
   "cell_type": "code",
   "execution_count": 9,
   "metadata": {},
   "outputs": [],
   "source": [
    "training_size = int(len(df1)*0.65)\n",
    "test_size = len(df1)-training_size\n",
    "train_data, test_data = df1[0:training_size,:], df1[training_size:len(df1),:1]"
   ]
  },
  {
   "attachments": {},
   "cell_type": "markdown",
   "metadata": {},
   "source": [
    "## Data creation for prediction"
   ]
  },
  {
   "cell_type": "code",
   "execution_count": 10,
   "metadata": {},
   "outputs": [],
   "source": [
    "def create_dataset(dataset, time_step=1):\n",
    "    dataX, dataY = [], []\n",
    "    for i in range(len(dataset)-time_step-1):\n",
    "        a = dataset[i:(i+time_step), 0]\n",
    "        dataX.append(a)\n",
    "        dataY.append(dataset[i + time_step, 0])\n",
    "    return np.array(dataX), np.array(dataY)"
   ]
  },
  {
   "attachments": {},
   "cell_type": "markdown",
   "metadata": {},
   "source": [
    "### Data creation: Train & Test"
   ]
  },
  {
   "cell_type": "code",
   "execution_count": 11,
   "metadata": {},
   "outputs": [
    {
     "data": {
      "text/plain": [
       "array([[0.1624546 , 0.16388228, 0.16375704, ..., 0.17545398, 0.19283657,\n",
       "        0.19616781],\n",
       "       [0.16388228, 0.16375704, 0.16814026, ..., 0.19283657, 0.19616781,\n",
       "        0.19839699],\n",
       "       [0.16375704, 0.16814026, 0.17427677, ..., 0.19616781, 0.19839699,\n",
       "        0.20167815],\n",
       "       ...,\n",
       "       [0.03571697, 0.03594239, 0.03474014, ..., 0.03328741, 0.03651847,\n",
       "        0.02384471],\n",
       "       [0.03594239, 0.03474014, 0.0305072 , ..., 0.03651847, 0.02384471,\n",
       "        0.0356794 ],\n",
       "       [0.03474014, 0.0305072 , 0.02289292, ..., 0.02384471, 0.0356794 ,\n",
       "        0.03291171]])"
      ]
     },
     "execution_count": 11,
     "metadata": {},
     "output_type": "execute_result"
    }
   ],
   "source": [
    "time_step = 100\n",
    "X_train, y_train = create_dataset(train_data, time_step)\n",
    "X_test, y_test = create_dataset(test_data, time_step)\n",
    "X_train"
   ]
  },
  {
   "attachments": {},
   "cell_type": "markdown",
   "metadata": {},
   "source": [
    "## Dataset reshaping for model input"
   ]
  },
  {
   "cell_type": "code",
   "execution_count": 12,
   "metadata": {},
   "outputs": [],
   "source": [
    "X_train = X_train.reshape(X_train.shape[0], X_train.shape[1], 1)\n",
    "X_test = X_test.reshape(X_test.shape[0], X_test.shape[1], 1)"
   ]
  },
  {
   "attachments": {},
   "cell_type": "markdown",
   "metadata": {},
   "source": [
    "## Tensorflow Imports"
   ]
  },
  {
   "cell_type": "code",
   "execution_count": 13,
   "metadata": {},
   "outputs": [],
   "source": [
    "from tensorflow.keras.models import Sequential\n",
    "from tensorflow.keras.layers import Dense\n",
    "from tensorflow.keras.layers import LSTM"
   ]
  },
  {
   "attachments": {},
   "cell_type": "markdown",
   "metadata": {},
   "source": [
    "## LSTM Model initiation"
   ]
  },
  {
   "cell_type": "code",
   "execution_count": 14,
   "metadata": {},
   "outputs": [],
   "source": [
    "model = Sequential()\n",
    "model.add(LSTM(50, return_sequences = True, input_shape = (100,1)))\n",
    "model.add(LSTM(50, return_sequences = True))\n",
    "model.add(LSTM(50))\n",
    "model.add(Dense(1))\n",
    "model.compile(loss='mean_squared_error', optimizer='adam')"
   ]
  },
  {
   "attachments": {},
   "cell_type": "markdown",
   "metadata": {},
   "source": [
    "### Model summary"
   ]
  },
  {
   "cell_type": "code",
   "execution_count": 15,
   "metadata": {},
   "outputs": [
    {
     "name": "stdout",
     "output_type": "stream",
     "text": [
      "Model: \"sequential\"\n",
      "_________________________________________________________________\n",
      " Layer (type)                Output Shape              Param #   \n",
      "=================================================================\n",
      " lstm (LSTM)                 (None, 100, 50)           10400     \n",
      "                                                                 \n",
      " lstm_1 (LSTM)               (None, 100, 50)           20200     \n",
      "                                                                 \n",
      " lstm_2 (LSTM)               (None, 50)                20200     \n",
      "                                                                 \n",
      " dense (Dense)               (None, 1)                 51        \n",
      "                                                                 \n",
      "=================================================================\n",
      "Total params: 50,851\n",
      "Trainable params: 50,851\n",
      "Non-trainable params: 0\n",
      "_________________________________________________________________\n"
     ]
    }
   ],
   "source": [
    "model.summary()"
   ]
  },
  {
   "attachments": {},
   "cell_type": "markdown",
   "metadata": {},
   "source": [
    "### Model fitting"
   ]
  },
  {
   "cell_type": "code",
   "execution_count": 16,
   "metadata": {},
   "outputs": [
    {
     "name": "stdout",
     "output_type": "stream",
     "text": [
      "Epoch 1/100\n",
      "12/12 [==============================] - 16s 525ms/step - loss: 0.0552 - val_loss: 0.0131\n",
      "Epoch 2/100\n",
      "12/12 [==============================] - 4s 323ms/step - loss: 0.0144 - val_loss: 0.0043\n",
      "Epoch 3/100\n",
      "12/12 [==============================] - 4s 317ms/step - loss: 0.0117 - val_loss: 7.5533e-04\n",
      "Epoch 4/100\n",
      "12/12 [==============================] - 4s 299ms/step - loss: 0.0086 - val_loss: 4.4925e-04\n",
      "Epoch 5/100\n",
      "12/12 [==============================] - 4s 315ms/step - loss: 0.0078 - val_loss: 6.1317e-04\n",
      "Epoch 6/100\n",
      "12/12 [==============================] - 4s 303ms/step - loss: 0.0072 - val_loss: 4.5344e-04\n",
      "Epoch 7/100\n",
      "12/12 [==============================] - 4s 304ms/step - loss: 0.0066 - val_loss: 7.8403e-04\n",
      "Epoch 8/100\n",
      "12/12 [==============================] - 4s 306ms/step - loss: 0.0061 - val_loss: 8.4777e-04\n",
      "Epoch 9/100\n",
      "12/12 [==============================] - 4s 304ms/step - loss: 0.0055 - val_loss: 7.7592e-04\n",
      "Epoch 10/100\n",
      "12/12 [==============================] - 4s 305ms/step - loss: 0.0064 - val_loss: 0.0016\n",
      "Epoch 11/100\n",
      "12/12 [==============================] - 4s 324ms/step - loss: 0.0059 - val_loss: 7.1933e-04\n",
      "Epoch 12/100\n",
      "12/12 [==============================] - 4s 320ms/step - loss: 0.0057 - val_loss: 0.0013\n",
      "Epoch 13/100\n",
      "12/12 [==============================] - 4s 308ms/step - loss: 0.0051 - val_loss: 3.6979e-04\n",
      "Epoch 14/100\n",
      "12/12 [==============================] - 4s 312ms/step - loss: 0.0041 - val_loss: 2.6692e-04\n",
      "Epoch 15/100\n",
      "12/12 [==============================] - 4s 302ms/step - loss: 0.0035 - val_loss: 3.8889e-04\n",
      "Epoch 16/100\n",
      "12/12 [==============================] - 4s 341ms/step - loss: 0.0034 - val_loss: 2.8432e-04\n",
      "Epoch 17/100\n",
      "12/12 [==============================] - 4s 302ms/step - loss: 0.0036 - val_loss: 5.4240e-04\n",
      "Epoch 18/100\n",
      "12/12 [==============================] - 4s 305ms/step - loss: 0.0033 - val_loss: 2.5403e-04\n",
      "Epoch 19/100\n",
      "12/12 [==============================] - 4s 302ms/step - loss: 0.0028 - val_loss: 3.6407e-04\n",
      "Epoch 20/100\n",
      "12/12 [==============================] - 4s 301ms/step - loss: 0.0045 - val_loss: 5.6865e-04\n",
      "Epoch 21/100\n",
      "12/12 [==============================] - 4s 310ms/step - loss: 0.0031 - val_loss: 2.4614e-04\n",
      "Epoch 22/100\n",
      "12/12 [==============================] - 4s 307ms/step - loss: 0.0022 - val_loss: 2.9582e-04\n",
      "Epoch 23/100\n",
      "12/12 [==============================] - 4s 301ms/step - loss: 0.0018 - val_loss: 2.5650e-04\n",
      "Epoch 24/100\n",
      "12/12 [==============================] - 4s 304ms/step - loss: 0.0022 - val_loss: 2.9154e-04\n",
      "Epoch 25/100\n",
      "12/12 [==============================] - 4s 306ms/step - loss: 0.0026 - val_loss: 2.3401e-04\n",
      "Epoch 26/100\n",
      "12/12 [==============================] - 4s 374ms/step - loss: 0.0030 - val_loss: 5.8669e-04\n",
      "Epoch 27/100\n",
      "12/12 [==============================] - 5s 386ms/step - loss: 0.0068 - val_loss: 2.4570e-04\n",
      "Epoch 28/100\n",
      "12/12 [==============================] - 4s 374ms/step - loss: 0.0044 - val_loss: 2.8524e-04\n",
      "Epoch 29/100\n",
      "12/12 [==============================] - 4s 385ms/step - loss: 0.0040 - val_loss: 3.9418e-04\n",
      "Epoch 30/100\n",
      "12/12 [==============================] - 5s 387ms/step - loss: 0.0039 - val_loss: 5.4498e-04\n",
      "Epoch 31/100\n",
      "12/12 [==============================] - 4s 352ms/step - loss: 0.0034 - val_loss: 4.3656e-04\n",
      "Epoch 32/100\n",
      "12/12 [==============================] - 4s 304ms/step - loss: 0.0040 - val_loss: 2.2310e-04\n",
      "Epoch 33/100\n",
      "12/12 [==============================] - 4s 335ms/step - loss: 0.0030 - val_loss: 4.0982e-04\n",
      "Epoch 34/100\n",
      "12/12 [==============================] - 4s 375ms/step - loss: 0.0029 - val_loss: 3.2858e-04\n",
      "Epoch 35/100\n",
      "12/12 [==============================] - 5s 385ms/step - loss: 0.0025 - val_loss: 2.2644e-04\n",
      "Epoch 36/100\n",
      "12/12 [==============================] - 4s 338ms/step - loss: 0.0027 - val_loss: 2.6289e-04\n",
      "Epoch 37/100\n",
      "12/12 [==============================] - 4s 374ms/step - loss: 0.0028 - val_loss: 4.4765e-04\n",
      "Epoch 38/100\n",
      "12/12 [==============================] - 4s 326ms/step - loss: 0.0034 - val_loss: 2.4424e-04\n",
      "Epoch 39/100\n",
      "12/12 [==============================] - 4s 329ms/step - loss: 0.0022 - val_loss: 5.6809e-04\n",
      "Epoch 40/100\n",
      "12/12 [==============================] - 4s 327ms/step - loss: 0.0025 - val_loss: 3.3706e-04\n",
      "Epoch 41/100\n",
      "12/12 [==============================] - 4s 324ms/step - loss: 0.0021 - val_loss: 2.3457e-04\n",
      "Epoch 42/100\n",
      "12/12 [==============================] - 4s 326ms/step - loss: 0.0020 - val_loss: 2.3748e-04\n",
      "Epoch 43/100\n",
      "12/12 [==============================] - 4s 325ms/step - loss: 0.0018 - val_loss: 2.5243e-04\n",
      "Epoch 44/100\n",
      "12/12 [==============================] - 4s 341ms/step - loss: 0.0020 - val_loss: 3.2105e-04\n",
      "Epoch 45/100\n",
      "12/12 [==============================] - 4s 329ms/step - loss: 0.0017 - val_loss: 3.2568e-04\n",
      "Epoch 46/100\n",
      "12/12 [==============================] - 4s 331ms/step - loss: 0.0037 - val_loss: 9.9113e-04\n",
      "Epoch 47/100\n",
      "12/12 [==============================] - 4s 340ms/step - loss: 0.0034 - val_loss: 2.2108e-04\n",
      "Epoch 48/100\n",
      "12/12 [==============================] - 4s 361ms/step - loss: 0.0028 - val_loss: 3.5263e-04\n",
      "Epoch 49/100\n",
      "12/12 [==============================] - 4s 331ms/step - loss: 0.0033 - val_loss: 3.1985e-04\n",
      "Epoch 50/100\n",
      "12/12 [==============================] - 4s 336ms/step - loss: 0.0030 - val_loss: 3.0959e-04\n",
      "Epoch 51/100\n",
      "12/12 [==============================] - 4s 346ms/step - loss: 0.0022 - val_loss: 4.5409e-04\n",
      "Epoch 52/100\n",
      "12/12 [==============================] - 4s 331ms/step - loss: 0.0020 - val_loss: 2.4966e-04\n",
      "Epoch 53/100\n",
      "12/12 [==============================] - 4s 334ms/step - loss: 0.0019 - val_loss: 3.0000e-04\n",
      "Epoch 54/100\n",
      "12/12 [==============================] - 4s 341ms/step - loss: 0.0017 - val_loss: 2.2741e-04\n",
      "Epoch 55/100\n",
      "12/12 [==============================] - 4s 334ms/step - loss: 0.0018 - val_loss: 2.3421e-04\n",
      "Epoch 56/100\n",
      "12/12 [==============================] - 4s 334ms/step - loss: 0.0019 - val_loss: 2.8029e-04\n",
      "Epoch 57/100\n",
      "12/12 [==============================] - 6s 482ms/step - loss: 0.0017 - val_loss: 2.4712e-04\n",
      "Epoch 58/100\n",
      "12/12 [==============================] - 5s 454ms/step - loss: 0.0021 - val_loss: 2.8490e-04\n",
      "Epoch 59/100\n",
      "12/12 [==============================] - 4s 371ms/step - loss: 0.0017 - val_loss: 2.5815e-04\n",
      "Epoch 60/100\n",
      "12/12 [==============================] - 4s 342ms/step - loss: 0.0016 - val_loss: 2.4721e-04\n",
      "Epoch 61/100\n",
      "12/12 [==============================] - 4s 344ms/step - loss: 0.0015 - val_loss: 2.4523e-04\n",
      "Epoch 62/100\n",
      "12/12 [==============================] - 4s 349ms/step - loss: 0.0016 - val_loss: 2.4993e-04\n",
      "Epoch 63/100\n",
      "12/12 [==============================] - 4s 343ms/step - loss: 0.0015 - val_loss: 2.3430e-04\n",
      "Epoch 64/100\n",
      "12/12 [==============================] - 4s 342ms/step - loss: 0.0015 - val_loss: 2.8316e-04\n",
      "Epoch 65/100\n",
      "12/12 [==============================] - 4s 356ms/step - loss: 0.0013 - val_loss: 2.2884e-04\n",
      "Epoch 66/100\n",
      "12/12 [==============================] - 4s 363ms/step - loss: 0.0015 - val_loss: 2.2643e-04\n",
      "Epoch 67/100\n",
      "12/12 [==============================] - 4s 348ms/step - loss: 0.0014 - val_loss: 2.2537e-04\n",
      "Epoch 68/100\n",
      "12/12 [==============================] - 4s 353ms/step - loss: 0.0015 - val_loss: 2.3171e-04\n",
      "Epoch 69/100\n",
      "12/12 [==============================] - 4s 357ms/step - loss: 0.0024 - val_loss: 4.6253e-04\n",
      "Epoch 70/100\n",
      "12/12 [==============================] - 4s 347ms/step - loss: 0.0017 - val_loss: 2.4073e-04\n",
      "Epoch 71/100\n",
      "12/12 [==============================] - 4s 353ms/step - loss: 0.0017 - val_loss: 2.2472e-04\n",
      "Epoch 72/100\n",
      "12/12 [==============================] - 4s 354ms/step - loss: 0.0015 - val_loss: 2.6640e-04\n",
      "Epoch 73/100\n",
      "12/12 [==============================] - 4s 347ms/step - loss: 0.0016 - val_loss: 2.2631e-04\n",
      "Epoch 74/100\n",
      "12/12 [==============================] - 4s 349ms/step - loss: 0.0014 - val_loss: 2.2060e-04\n",
      "Epoch 75/100\n",
      "12/12 [==============================] - 4s 345ms/step - loss: 0.0015 - val_loss: 2.2285e-04\n",
      "Epoch 76/100\n",
      "12/12 [==============================] - 4s 351ms/step - loss: 0.0014 - val_loss: 2.2717e-04\n",
      "Epoch 77/100\n",
      "12/12 [==============================] - 4s 352ms/step - loss: 0.0016 - val_loss: 2.3791e-04\n",
      "Epoch 78/100\n",
      "12/12 [==============================] - 4s 344ms/step - loss: 0.0020 - val_loss: 2.8311e-04\n",
      "Epoch 79/100\n",
      "12/12 [==============================] - 4s 378ms/step - loss: 0.0020 - val_loss: 2.8904e-04\n",
      "Epoch 80/100\n",
      "12/12 [==============================] - 4s 347ms/step - loss: 0.0026 - val_loss: 2.2886e-04\n",
      "Epoch 81/100\n",
      "12/12 [==============================] - 4s 345ms/step - loss: 0.0017 - val_loss: 2.8429e-04\n",
      "Epoch 82/100\n",
      "12/12 [==============================] - 4s 347ms/step - loss: 0.0019 - val_loss: 3.3083e-04\n",
      "Epoch 83/100\n",
      "12/12 [==============================] - 4s 345ms/step - loss: 0.0026 - val_loss: 4.3662e-04\n",
      "Epoch 84/100\n",
      "12/12 [==============================] - 4s 344ms/step - loss: 0.0014 - val_loss: 2.4926e-04\n",
      "Epoch 85/100\n",
      "12/12 [==============================] - 5s 383ms/step - loss: 0.0025 - val_loss: 2.2113e-04\n",
      "Epoch 86/100\n",
      "12/12 [==============================] - 4s 375ms/step - loss: 0.0015 - val_loss: 3.0967e-04\n",
      "Epoch 87/100\n",
      "12/12 [==============================] - 4s 359ms/step - loss: 0.0013 - val_loss: 3.0682e-04\n",
      "Epoch 88/100\n",
      "12/12 [==============================] - 4s 350ms/step - loss: 0.0014 - val_loss: 2.2932e-04\n",
      "Epoch 89/100\n",
      "12/12 [==============================] - 4s 352ms/step - loss: 0.0013 - val_loss: 2.6346e-04\n",
      "Epoch 90/100\n",
      "12/12 [==============================] - 4s 350ms/step - loss: 0.0017 - val_loss: 2.2321e-04\n",
      "Epoch 91/100\n",
      "12/12 [==============================] - 4s 348ms/step - loss: 0.0011 - val_loss: 2.7448e-04\n",
      "Epoch 92/100\n",
      "12/12 [==============================] - 4s 350ms/step - loss: 9.9526e-04 - val_loss: 2.4317e-04\n",
      "Epoch 93/100\n",
      "12/12 [==============================] - 4s 353ms/step - loss: 0.0013 - val_loss: 2.9644e-04\n",
      "Epoch 94/100\n",
      "12/12 [==============================] - 4s 356ms/step - loss: 0.0022 - val_loss: 2.3049e-04\n",
      "Epoch 95/100\n",
      "12/12 [==============================] - 5s 381ms/step - loss: 0.0016 - val_loss: 2.2268e-04\n",
      "Epoch 96/100\n",
      "12/12 [==============================] - 4s 363ms/step - loss: 0.0016 - val_loss: 2.2051e-04\n",
      "Epoch 97/100\n",
      "12/12 [==============================] - 4s 350ms/step - loss: 0.0011 - val_loss: 2.1554e-04\n",
      "Epoch 98/100\n",
      "12/12 [==============================] - 4s 352ms/step - loss: 0.0010 - val_loss: 2.2499e-04\n",
      "Epoch 99/100\n",
      "12/12 [==============================] - 4s 364ms/step - loss: 0.0023 - val_loss: 2.5723e-04\n",
      "Epoch 100/100\n",
      "12/12 [==============================] - 4s 353ms/step - loss: 0.0017 - val_loss: 2.4274e-04\n"
     ]
    },
    {
     "data": {
      "text/plain": [
       "<keras.callbacks.History at 0x1584051c730>"
      ]
     },
     "execution_count": 16,
     "metadata": {},
     "output_type": "execute_result"
    }
   ],
   "source": [
    "model.fit(X_train, y_train, validation_data = (X_test, y_test), epochs=100, batch_size=64, verbose=1)"
   ]
  },
  {
   "attachments": {},
   "cell_type": "markdown",
   "metadata": {},
   "source": [
    "## Prediction of train & test data"
   ]
  },
  {
   "cell_type": "code",
   "execution_count": 17,
   "metadata": {},
   "outputs": [
    {
     "name": "stdout",
     "output_type": "stream",
     "text": [
      "23/23 [==============================] - 4s 73ms/step\n",
      "11/11 [==============================] - 1s 72ms/step\n"
     ]
    }
   ],
   "source": [
    "train_predict = model.predict(X_train)\n",
    "test_predict = model.predict(X_test)"
   ]
  },
  {
   "attachments": {},
   "cell_type": "markdown",
   "metadata": {},
   "source": [
    "### Inverse transformation of predicted data"
   ]
  },
  {
   "cell_type": "code",
   "execution_count": 18,
   "metadata": {},
   "outputs": [],
   "source": [
    "train_predict = scaler.inverse_transform(train_predict)\n",
    "test_predict = scaler.inverse_transform(test_predict)"
   ]
  },
  {
   "attachments": {},
   "cell_type": "markdown",
   "metadata": {},
   "source": [
    "## Error calculation"
   ]
  },
  {
   "cell_type": "code",
   "execution_count": 19,
   "metadata": {},
   "outputs": [
    {
     "data": {
      "text/plain": [
       "233.597083459411"
      ]
     },
     "execution_count": 19,
     "metadata": {},
     "output_type": "execute_result"
    }
   ],
   "source": [
    "import math\n",
    "from sklearn.metrics import mean_squared_error\n",
    "math.sqrt(mean_squared_error(y_train, train_predict))"
   ]
  },
  {
   "cell_type": "code",
   "execution_count": 20,
   "metadata": {},
   "outputs": [
    {
     "data": {
      "text/plain": [
       "154.32496557004512"
      ]
     },
     "execution_count": 20,
     "metadata": {},
     "output_type": "execute_result"
    }
   ],
   "source": [
    "math.sqrt(mean_squared_error(y_test, test_predict))"
   ]
  },
  {
   "cell_type": "code",
   "execution_count": 21,
   "metadata": {},
   "outputs": [
    {
     "data": {
      "text/plain": [
       "154.32496557004512"
      ]
     },
     "execution_count": 21,
     "metadata": {},
     "output_type": "execute_result"
    }
   ],
   "source": [
    "mse = mean_squared_error(y_test, test_predict)\n",
    "mse**0.5"
   ]
  },
  {
   "attachments": {},
   "cell_type": "markdown",
   "metadata": {},
   "source": [
    "## Train-Test prediction plot"
   ]
  },
  {
   "cell_type": "code",
   "execution_count": 22,
   "metadata": {},
   "outputs": [
    {
     "data": {
      "image/png": "[encoded data removed]",
      "text/plain": [
       "<Figure size 432x288 with 1 Axes>"
      ]
     },
     "metadata": {
      "needs_background": "light"
     },
     "output_type": "display_data"
    }
   ],
   "source": [
    "look_back = 100\n",
    "trainPredictPlot = np.empty_like(df1)\n",
    "trainPredictPlot[:, :] = np.nan\n",
    "trainPredictPlot[look_back:len(train_predict)+look_back, :] = train_predict\n",
    "\n",
    "testPredictPlot = np.empty_like(df1)\n",
    "testPredictPlot[:, :] = np.nan\n",
    "testPredictPlot[len(train_predict)+(look_back*2)+1:len(df1)-1, :] = test_predict\n",
    "\n",
    "plt.plot(scaler.inverse_transform(df1))\n",
    "plt.plot(trainPredictPlot)\n",
    "plt.plot(testPredictPlot)\n",
    "plt.show()"
   ]
  },
  {
   "cell_type": "code",
   "execution_count": 23,
   "metadata": {},
   "outputs": [
    {
     "data": {
      "text/plain": [
       "441"
      ]
     },
     "execution_count": 23,
     "metadata": {},
     "output_type": "execute_result"
    }
   ],
   "source": [
    "len(test_data)"
   ]
  },
  {
   "cell_type": "code",
   "execution_count": 24,
   "metadata": {},
   "outputs": [
    {
     "data": {
      "text/plain": [
       "(1, 100)"
      ]
     },
     "execution_count": 24,
     "metadata": {},
     "output_type": "execute_result"
    }
   ],
   "source": [
    "x_input = test_data[341:].reshape(1, -1)\n",
    "x_input.shape"
   ]
  },
  {
   "cell_type": "code",
   "execution_count": 25,
   "metadata": {},
   "outputs": [],
   "source": [
    "temp_input = list(x_input)\n",
    "temp_input = temp_input[0].tolist()"
   ]
  },
  {
   "attachments": {},
   "cell_type": "markdown",
   "metadata": {},
   "source": [
    "## Dataset to array conversion formula"
   ]
  },
  {
   "cell_type": "code",
   "execution_count": 26,
   "metadata": {},
   "outputs": [
    {
     "name": "stdout",
     "output_type": "stream",
     "text": [
      "[0.09051039]\n",
      "101\n",
      "1 day input [0.1183469  0.11549155 0.11211021 0.12510958 0.12651221 0.13943644\n",
      " 0.13693175 0.1331747  0.14850344 0.14770194 0.14654978 0.14534753\n",
      " 0.14547276 0.15629305 0.15441453 0.16345648 0.1661866  0.16578585\n",
      " 0.16959299 0.16859111 0.16200376 0.15211021 0.15125861 0.15201002\n",
      " 0.15827176 0.14221666 0.13660614 0.13041954 0.1261866  0.12804008\n",
      " 0.12265498 0.11944897 0.12303068 0.11927364 0.1265623  0.14174076\n",
      " 0.11772073 0.12140263 0.11403882 0.10985598 0.11932373 0.1253851\n",
      " 0.11742016 0.11496556 0.10917971 0.11003131 0.11251096 0.10770194\n",
      " 0.08926738 0.07854728 0.08919224 0.09833438 0.09908579 0.09665623\n",
      " 0.08328115 0.0841077  0.08050094 0.07889793 0.09054477 0.07899812\n",
      " 0.08909205 0.09244834 0.09272386 0.09154665 0.10126487 0.10672511\n",
      " 0.11396368 0.10647464 0.09507827 0.12247965 0.11646838 0.10973075\n",
      " 0.09565435 0.08025047 0.07899812 0.08035066 0.08180338 0.07020664\n",
      " 0.10026299 0.10735128 0.10379461 0.10820288 0.10507201 0.10990607\n",
      " 0.11133375 0.10311835 0.10855354 0.11078272 0.10336882 0.09362555\n",
      " 0.08598622 0.10316844 0.10386976 0.10261741 0.09966187 0.0903444\n",
      " 0.08541014 0.08969317 0.08846587 0.09051039]\n",
      "1 day output [[0.0887676]]\n",
      "2 day input [0.11549155 0.11211021 0.12510958 0.12651221 0.13943644 0.13693175\n",
      " 0.1331747  0.14850344 0.14770194 0.14654978 0.14534753 0.14547276\n",
      " 0.15629305 0.15441453 0.16345648 0.1661866  0.16578585 0.16959299\n",
      " 0.16859111 0.16200376 0.15211021 0.15125861 0.15201002 0.15827176\n",
      " 0.14221666 0.13660614 0.13041954 0.1261866  0.12804008 0.12265498\n",
      " 0.11944897 0.12303068 0.11927364 0.1265623  0.14174076 0.11772073\n",
      " 0.12140263 0.11403882 0.10985598 0.11932373 0.1253851  0.11742016\n",
      " 0.11496556 0.10917971 0.11003131 0.11251096 0.10770194 0.08926738\n",
      " 0.07854728 0.08919224 0.09833438 0.09908579 0.09665623 0.08328115\n",
      " 0.0841077  0.08050094 0.07889793 0.09054477 0.07899812 0.08909205\n",
      " 0.09244834 0.09272386 0.09154665 0.10126487 0.10672511 0.11396368\n",
      " 0.10647464 0.09507827 0.12247965 0.11646838 0.10973075 0.09565435\n",
      " 0.08025047 0.07899812 0.08035066 0.08180338 0.07020664 0.10026299\n",
      " 0.10735128 0.10379461 0.10820288 0.10507201 0.10990607 0.11133375\n",
      " 0.10311835 0.10855354 0.11078272 0.10336882 0.09362555 0.08598622\n",
      " 0.10316844 0.10386976 0.10261741 0.09966187 0.0903444  0.08541014\n",
      " 0.08969317 0.08846587 0.09051039 0.0887676 ]\n",
      "2 day output [[0.08721481]]\n",
      "3 day input [0.11211021 0.12510958 0.12651221 0.13943644 0.13693175 0.1331747\n",
      " 0.14850344 0.14770194 0.14654978 0.14534753 0.14547276 0.15629305\n",
      " 0.15441453 0.16345648 0.1661866  0.16578585 0.16959299 0.16859111\n",
      " 0.16200376 0.15211021 0.15125861 0.15201002 0.15827176 0.14221666\n",
      " 0.13660614 0.13041954 0.1261866  0.12804008 0.12265498 0.11944897\n",
      " 0.12303068 0.11927364 0.1265623  0.14174076 0.11772073 0.12140263\n",
      " 0.11403882 0.10985598 0.11932373 0.1253851  0.11742016 0.11496556\n",
      " 0.10917971 0.11003131 0.11251096 0.10770194 0.08926738 0.07854728\n",
      " 0.08919224 0.09833438 0.09908579 0.09665623 0.08328115 0.0841077\n",
      " 0.08050094 0.07889793 0.09054477 0.07899812 0.08909205 0.09244834\n",
      " 0.09272386 0.09154665 0.10126487 0.10672511 0.11396368 0.10647464\n",
      " 0.09507827 0.12247965 0.11646838 0.10973075 0.09565435 0.08025047\n",
      " 0.07899812 0.08035066 0.08180338 0.07020664 0.10026299 0.10735128\n",
      " 0.10379461 0.10820288 0.10507201 0.10990607 0.11133375 0.10311835\n",
      " 0.10855354 0.11078272 0.10336882 0.09362555 0.08598622 0.10316844\n",
      " 0.10386976 0.10261741 0.09966187 0.0903444  0.08541014 0.08969317\n",
      " 0.08846587 0.09051039 0.0887676  0.08721481]\n",
      "3 day output [[0.08581477]]\n",
      "4 day input [0.12510958 0.12651221 0.13943644 0.13693175 0.1331747  0.14850344\n",
      " 0.14770194 0.14654978 0.14534753 0.14547276 0.15629305 0.15441453\n",
      " 0.16345648 0.1661866  0.16578585 0.16959299 0.16859111 0.16200376\n",
      " 0.15211021 0.15125861 0.15201002 0.15827176 0.14221666 0.13660614\n",
      " 0.13041954 0.1261866  0.12804008 0.12265498 0.11944897 0.12303068\n",
      " 0.11927364 0.1265623  0.14174076 0.11772073 0.12140263 0.11403882\n",
      " 0.10985598 0.11932373 0.1253851  0.11742016 0.11496556 0.10917971\n",
      " 0.11003131 0.11251096 0.10770194 0.08926738 0.07854728 0.08919224\n",
      " 0.09833438 0.09908579 0.09665623 0.08328115 0.0841077  0.08050094\n",
      " 0.07889793 0.09054477 0.07899812 0.08909205 0.09244834 0.09272386\n",
      " 0.09154665 0.10126487 0.10672511 0.11396368 0.10647464 0.09507827\n",
      " 0.12247965 0.11646838 0.10973075 0.09565435 0.08025047 0.07899812\n",
      " 0.08035066 0.08180338 0.07020664 0.10026299 0.10735128 0.10379461\n",
      " 0.10820288 0.10507201 0.10990607 0.11133375 0.10311835 0.10855354\n",
      " 0.11078272 0.10336882 0.09362555 0.08598622 0.10316844 0.10386976\n",
      " 0.10261741 0.09966187 0.0903444  0.08541014 0.08969317 0.08846587\n",
      " 0.09051039 0.0887676  0.08721481 0.08581477]\n",
      "4 day output [[0.08451812]]\n",
      "5 day input [0.12651221 0.13943644 0.13693175 0.1331747  0.14850344 0.14770194\n",
      " 0.14654978 0.14534753 0.14547276 0.15629305 0.15441453 0.16345648\n",
      " 0.1661866  0.16578585 0.16959299 0.16859111 0.16200376 0.15211021\n",
      " 0.15125861 0.15201002 0.15827176 0.14221666 0.13660614 0.13041954\n",
      " 0.1261866  0.12804008 0.12265498 0.11944897 0.12303068 0.11927364\n",
      " 0.1265623  0.14174076 0.11772073 0.12140263 0.11403882 0.10985598\n",
      " 0.11932373 0.1253851  0.11742016 0.11496556 0.10917971 0.11003131\n",
      " 0.11251096 0.10770194 0.08926738 0.07854728 0.08919224 0.09833438\n",
      " 0.09908579 0.09665623 0.08328115 0.0841077  0.08050094 0.07889793\n",
      " 0.09054477 0.07899812 0.08909205 0.09244834 0.09272386 0.09154665\n",
      " 0.10126487 0.10672511 0.11396368 0.10647464 0.09507827 0.12247965\n",
      " 0.11646838 0.10973075 0.09565435 0.08025047 0.07899812 0.08035066\n",
      " 0.08180338 0.07020664 0.10026299 0.10735128 0.10379461 0.10820288\n",
      " 0.10507201 0.10990607 0.11133375 0.10311835 0.10855354 0.11078272\n",
      " 0.10336882 0.09362555 0.08598622 0.10316844 0.10386976 0.10261741\n",
      " 0.09966187 0.0903444  0.08541014 0.08969317 0.08846587 0.09051039\n",
      " 0.0887676  0.08721481 0.08581477 0.08451812]\n",
      "5 day output [[0.08328495]]\n",
      "6 day input [0.13943644 0.13693175 0.1331747  0.14850344 0.14770194 0.14654978\n",
      " 0.14534753 0.14547276 0.15629305 0.15441453 0.16345648 0.1661866\n",
      " 0.16578585 0.16959299 0.16859111 0.16200376 0.15211021 0.15125861\n",
      " 0.15201002 0.15827176 0.14221666 0.13660614 0.13041954 0.1261866\n",
      " 0.12804008 0.12265498 0.11944897 0.12303068 0.11927364 0.1265623\n",
      " 0.14174076 0.11772073 0.12140263 0.11403882 0.10985598 0.11932373\n",
      " 0.1253851  0.11742016 0.11496556 0.10917971 0.11003131 0.11251096\n",
      " 0.10770194 0.08926738 0.07854728 0.08919224 0.09833438 0.09908579\n",
      " 0.09665623 0.08328115 0.0841077  0.08050094 0.07889793 0.09054477\n",
      " 0.07899812 0.08909205 0.09244834 0.09272386 0.09154665 0.10126487\n",
      " 0.10672511 0.11396368 0.10647464 0.09507827 0.12247965 0.11646838\n",
      " 0.10973075 0.09565435 0.08025047 0.07899812 0.08035066 0.08180338\n",
      " 0.07020664 0.10026299 0.10735128 0.10379461 0.10820288 0.10507201\n",
      " 0.10990607 0.11133375 0.10311835 0.10855354 0.11078272 0.10336882\n",
      " 0.09362555 0.08598622 0.10316844 0.10386976 0.10261741 0.09966187\n",
      " 0.0903444  0.08541014 0.08969317 0.08846587 0.09051039 0.0887676\n",
      " 0.08721481 0.08581477 0.08451812 0.08328495]\n",
      "6 day output [[0.08208832]]\n",
      "7 day input [0.13693175 0.1331747  0.14850344 0.14770194 0.14654978 0.14534753\n",
      " 0.14547276 0.15629305 0.15441453 0.16345648 0.1661866  0.16578585\n",
      " 0.16959299 0.16859111 0.16200376 0.15211021 0.15125861 0.15201002\n",
      " 0.15827176 0.14221666 0.13660614 0.13041954 0.1261866  0.12804008\n",
      " 0.12265498 0.11944897 0.12303068 0.11927364 0.1265623  0.14174076\n",
      " 0.11772073 0.12140263 0.11403882 0.10985598 0.11932373 0.1253851\n",
      " 0.11742016 0.11496556 0.10917971 0.11003131 0.11251096 0.10770194\n",
      " 0.08926738 0.07854728 0.08919224 0.09833438 0.09908579 0.09665623\n",
      " 0.08328115 0.0841077  0.08050094 0.07889793 0.09054477 0.07899812\n",
      " 0.08909205 0.09244834 0.09272386 0.09154665 0.10126487 0.10672511\n",
      " 0.11396368 0.10647464 0.09507827 0.12247965 0.11646838 0.10973075\n",
      " 0.09565435 0.08025047 0.07899812 0.08035066 0.08180338 0.07020664\n",
      " 0.10026299 0.10735128 0.10379461 0.10820288 0.10507201 0.10990607\n",
      " 0.11133375 0.10311835 0.10855354 0.11078272 0.10336882 0.09362555\n",
      " 0.08598622 0.10316844 0.10386976 0.10261741 0.09966187 0.0903444\n",
      " 0.08541014 0.08969317 0.08846587 0.09051039 0.0887676  0.08721481\n",
      " 0.08581477 0.08451812 0.08328495 0.08208832]\n",
      "7 day output [[0.08091185]]\n",
      "8 day input [0.1331747  0.14850344 0.14770194 0.14654978 0.14534753 0.14547276\n",
      " 0.15629305 0.15441453 0.16345648 0.1661866  0.16578585 0.16959299\n",
      " 0.16859111 0.16200376 0.15211021 0.15125861 0.15201002 0.15827176\n",
      " 0.14221666 0.13660614 0.13041954 0.1261866  0.12804008 0.12265498\n",
      " 0.11944897 0.12303068 0.11927364 0.1265623  0.14174076 0.11772073\n",
      " 0.12140263 0.11403882 0.10985598 0.11932373 0.1253851  0.11742016\n",
      " 0.11496556 0.10917971 0.11003131 0.11251096 0.10770194 0.08926738\n",
      " 0.07854728 0.08919224 0.09833438 0.09908579 0.09665623 0.08328115\n",
      " 0.0841077  0.08050094 0.07889793 0.09054477 0.07899812 0.08909205\n",
      " 0.09244834 0.09272386 0.09154665 0.10126487 0.10672511 0.11396368\n",
      " 0.10647464 0.09507827 0.12247965 0.11646838 0.10973075 0.09565435\n",
      " 0.08025047 0.07899812 0.08035066 0.08180338 0.07020664 0.10026299\n",
      " 0.10735128 0.10379461 0.10820288 0.10507201 0.10990607 0.11133375\n",
      " 0.10311835 0.10855354 0.11078272 0.10336882 0.09362555 0.08598622\n",
      " 0.10316844 0.10386976 0.10261741 0.09966187 0.0903444  0.08541014\n",
      " 0.08969317 0.08846587 0.09051039 0.0887676  0.08721481 0.08581477\n",
      " 0.08451812 0.08328495 0.08208832 0.08091185]\n",
      "8 day output [[0.07974614]]\n",
      "9 day input [0.14850344 0.14770194 0.14654978 0.14534753 0.14547276 0.15629305\n",
      " 0.15441453 0.16345648 0.1661866  0.16578585 0.16959299 0.16859111\n",
      " 0.16200376 0.15211021 0.15125861 0.15201002 0.15827176 0.14221666\n",
      " 0.13660614 0.13041954 0.1261866  0.12804008 0.12265498 0.11944897\n",
      " 0.12303068 0.11927364 0.1265623  0.14174076 0.11772073 0.12140263\n",
      " 0.11403882 0.10985598 0.11932373 0.1253851  0.11742016 0.11496556\n",
      " 0.10917971 0.11003131 0.11251096 0.10770194 0.08926738 0.07854728\n",
      " 0.08919224 0.09833438 0.09908579 0.09665623 0.08328115 0.0841077\n",
      " 0.08050094 0.07889793 0.09054477 0.07899812 0.08909205 0.09244834\n",
      " 0.09272386 0.09154665 0.10126487 0.10672511 0.11396368 0.10647464\n",
      " 0.09507827 0.12247965 0.11646838 0.10973075 0.09565435 0.08025047\n",
      " 0.07899812 0.08035066 0.08180338 0.07020664 0.10026299 0.10735128\n",
      " 0.10379461 0.10820288 0.10507201 0.10990607 0.11133375 0.10311835\n",
      " 0.10855354 0.11078272 0.10336882 0.09362555 0.08598622 0.10316844\n",
      " 0.10386976 0.10261741 0.09966187 0.0903444  0.08541014 0.08969317\n",
      " 0.08846587 0.09051039 0.0887676  0.08721481 0.08581477 0.08451812\n",
      " 0.08328495 0.08208832 0.08091185 0.07974614]\n",
      "9 day output [[0.07858581]]\n",
      "10 day input [0.14770194 0.14654978 0.14534753 0.14547276 0.15629305 0.15441453\n",
      " 0.16345648 0.1661866  0.16578585 0.16959299 0.16859111 0.16200376\n",
      " 0.15211021 0.15125861 0.15201002 0.15827176 0.14221666 0.13660614\n",
      " 0.13041954 0.1261866  0.12804008 0.12265498 0.11944897 0.12303068\n",
      " 0.11927364 0.1265623  0.14174076 0.11772073 0.12140263 0.11403882\n",
      " 0.10985598 0.11932373 0.1253851  0.11742016 0.11496556 0.10917971\n",
      " 0.11003131 0.11251096 0.10770194 0.08926738 0.07854728 0.08919224\n",
      " 0.09833438 0.09908579 0.09665623 0.08328115 0.0841077  0.08050094\n",
      " 0.07889793 0.09054477 0.07899812 0.08909205 0.09244834 0.09272386\n",
      " 0.09154665 0.10126487 0.10672511 0.11396368 0.10647464 0.09507827\n",
      " 0.12247965 0.11646838 0.10973075 0.09565435 0.08025047 0.07899812\n",
      " 0.08035066 0.08180338 0.07020664 0.10026299 0.10735128 0.10379461\n",
      " 0.10820288 0.10507201 0.10990607 0.11133375 0.10311835 0.10855354\n",
      " 0.11078272 0.10336882 0.09362555 0.08598622 0.10316844 0.10386976\n",
      " 0.10261741 0.09966187 0.0903444  0.08541014 0.08969317 0.08846587\n",
      " 0.09051039 0.0887676  0.08721481 0.08581477 0.08451812 0.08328495\n",
      " 0.08208832 0.08091185 0.07974614 0.07858581]\n",
      "10 day output [[0.07742751]]\n",
      "11 day input [0.14654978 0.14534753 0.14547276 0.15629305 0.15441453 0.16345648\n",
      " 0.1661866  0.16578585 0.16959299 0.16859111 0.16200376 0.15211021\n",
      " 0.15125861 0.15201002 0.15827176 0.14221666 0.13660614 0.13041954\n",
      " 0.1261866  0.12804008 0.12265498 0.11944897 0.12303068 0.11927364\n",
      " 0.1265623  0.14174076 0.11772073 0.12140263 0.11403882 0.10985598\n",
      " 0.11932373 0.1253851  0.11742016 0.11496556 0.10917971 0.11003131\n",
      " 0.11251096 0.10770194 0.08926738 0.07854728 0.08919224 0.09833438\n",
      " 0.09908579 0.09665623 0.08328115 0.0841077  0.08050094 0.07889793\n",
      " 0.09054477 0.07899812 0.08909205 0.09244834 0.09272386 0.09154665\n",
      " 0.10126487 0.10672511 0.11396368 0.10647464 0.09507827 0.12247965\n",
      " 0.11646838 0.10973075 0.09565435 0.08025047 0.07899812 0.08035066\n",
      " 0.08180338 0.07020664 0.10026299 0.10735128 0.10379461 0.10820288\n",
      " 0.10507201 0.10990607 0.11133375 0.10311835 0.10855354 0.11078272\n",
      " 0.10336882 0.09362555 0.08598622 0.10316844 0.10386976 0.10261741\n",
      " 0.09966187 0.0903444  0.08541014 0.08969317 0.08846587 0.09051039\n",
      " 0.0887676  0.08721481 0.08581477 0.08451812 0.08328495 0.08208832\n",
      " 0.08091185 0.07974614 0.07858581 0.07742751]\n",
      "11 day output [[0.07626893]]\n",
      "12 day input [0.14534753 0.14547276 0.15629305 0.15441453 0.16345648 0.1661866\n",
      " 0.16578585 0.16959299 0.16859111 0.16200376 0.15211021 0.15125861\n",
      " 0.15201002 0.15827176 0.14221666 0.13660614 0.13041954 0.1261866\n",
      " 0.12804008 0.12265498 0.11944897 0.12303068 0.11927364 0.1265623\n",
      " 0.14174076 0.11772073 0.12140263 0.11403882 0.10985598 0.11932373\n",
      " 0.1253851  0.11742016 0.11496556 0.10917971 0.11003131 0.11251096\n",
      " 0.10770194 0.08926738 0.07854728 0.08919224 0.09833438 0.09908579\n",
      " 0.09665623 0.08328115 0.0841077  0.08050094 0.07889793 0.09054477\n",
      " 0.07899812 0.08909205 0.09244834 0.09272386 0.09154665 0.10126487\n",
      " 0.10672511 0.11396368 0.10647464 0.09507827 0.12247965 0.11646838\n",
      " 0.10973075 0.09565435 0.08025047 0.07899812 0.08035066 0.08180338\n",
      " 0.07020664 0.10026299 0.10735128 0.10379461 0.10820288 0.10507201\n",
      " 0.10990607 0.11133375 0.10311835 0.10855354 0.11078272 0.10336882\n",
      " 0.09362555 0.08598622 0.10316844 0.10386976 0.10261741 0.09966187\n",
      " 0.0903444  0.08541014 0.08969317 0.08846587 0.09051039 0.0887676\n",
      " 0.08721481 0.08581477 0.08451812 0.08328495 0.08208832 0.08091185\n",
      " 0.07974614 0.07858581 0.07742751 0.07626893]\n",
      "12 day output [[0.07510816]]\n",
      "13 day input [0.14547276 0.15629305 0.15441453 0.16345648 0.1661866  0.16578585\n",
      " 0.16959299 0.16859111 0.16200376 0.15211021 0.15125861 0.15201002\n",
      " 0.15827176 0.14221666 0.13660614 0.13041954 0.1261866  0.12804008\n",
      " 0.12265498 0.11944897 0.12303068 0.11927364 0.1265623  0.14174076\n",
      " 0.11772073 0.12140263 0.11403882 0.10985598 0.11932373 0.1253851\n",
      " 0.11742016 0.11496556 0.10917971 0.11003131 0.11251096 0.10770194\n",
      " 0.08926738 0.07854728 0.08919224 0.09833438 0.09908579 0.09665623\n",
      " 0.08328115 0.0841077  0.08050094 0.07889793 0.09054477 0.07899812\n",
      " 0.08909205 0.09244834 0.09272386 0.09154665 0.10126487 0.10672511\n",
      " 0.11396368 0.10647464 0.09507827 0.12247965 0.11646838 0.10973075\n",
      " 0.09565435 0.08025047 0.07899812 0.08035066 0.08180338 0.07020664\n",
      " 0.10026299 0.10735128 0.10379461 0.10820288 0.10507201 0.10990607\n",
      " 0.11133375 0.10311835 0.10855354 0.11078272 0.10336882 0.09362555\n",
      " 0.08598622 0.10316844 0.10386976 0.10261741 0.09966187 0.0903444\n",
      " 0.08541014 0.08969317 0.08846587 0.09051039 0.0887676  0.08721481\n",
      " 0.08581477 0.08451812 0.08328495 0.08208832 0.08091185 0.07974614\n",
      " 0.07858581 0.07742751 0.07626893 0.07510816]\n",
      "13 day output [[0.07394355]]\n",
      "14 day input [0.15629305 0.15441453 0.16345648 0.1661866  0.16578585 0.16959299\n",
      " 0.16859111 0.16200376 0.15211021 0.15125861 0.15201002 0.15827176\n",
      " 0.14221666 0.13660614 0.13041954 0.1261866  0.12804008 0.12265498\n",
      " 0.11944897 0.12303068 0.11927364 0.1265623  0.14174076 0.11772073\n",
      " 0.12140263 0.11403882 0.10985598 0.11932373 0.1253851  0.11742016\n",
      " 0.11496556 0.10917971 0.11003131 0.11251096 0.10770194 0.08926738\n",
      " 0.07854728 0.08919224 0.09833438 0.09908579 0.09665623 0.08328115\n",
      " 0.0841077  0.08050094 0.07889793 0.09054477 0.07899812 0.08909205\n",
      " 0.09244834 0.09272386 0.09154665 0.10126487 0.10672511 0.11396368\n",
      " 0.10647464 0.09507827 0.12247965 0.11646838 0.10973075 0.09565435\n",
      " 0.08025047 0.07899812 0.08035066 0.08180338 0.07020664 0.10026299\n",
      " 0.10735128 0.10379461 0.10820288 0.10507201 0.10990607 0.11133375\n",
      " 0.10311835 0.10855354 0.11078272 0.10336882 0.09362555 0.08598622\n",
      " 0.10316844 0.10386976 0.10261741 0.09966187 0.0903444  0.08541014\n",
      " 0.08969317 0.08846587 0.09051039 0.0887676  0.08721481 0.08581477\n",
      " 0.08451812 0.08328495 0.08208832 0.08091185 0.07974614 0.07858581\n",
      " 0.07742751 0.07626893 0.07510816 0.07394355]\n",
      "14 day output [[0.07277369]]\n",
      "15 day input [0.15441453 0.16345648 0.1661866  0.16578585 0.16959299 0.16859111\n",
      " 0.16200376 0.15211021 0.15125861 0.15201002 0.15827176 0.14221666\n",
      " 0.13660614 0.13041954 0.1261866  0.12804008 0.12265498 0.11944897\n",
      " 0.12303068 0.11927364 0.1265623  0.14174076 0.11772073 0.12140263\n",
      " 0.11403882 0.10985598 0.11932373 0.1253851  0.11742016 0.11496556\n",
      " 0.10917971 0.11003131 0.11251096 0.10770194 0.08926738 0.07854728\n",
      " 0.08919224 0.09833438 0.09908579 0.09665623 0.08328115 0.0841077\n",
      " 0.08050094 0.07889793 0.09054477 0.07899812 0.08909205 0.09244834\n",
      " 0.09272386 0.09154665 0.10126487 0.10672511 0.11396368 0.10647464\n",
      " 0.09507827 0.12247965 0.11646838 0.10973075 0.09565435 0.08025047\n",
      " 0.07899812 0.08035066 0.08180338 0.07020664 0.10026299 0.10735128\n",
      " 0.10379461 0.10820288 0.10507201 0.10990607 0.11133375 0.10311835\n",
      " 0.10855354 0.11078272 0.10336882 0.09362555 0.08598622 0.10316844\n",
      " 0.10386976 0.10261741 0.09966187 0.0903444  0.08541014 0.08969317\n",
      " 0.08846587 0.09051039 0.0887676  0.08721481 0.08581477 0.08451812\n",
      " 0.08328495 0.08208832 0.08091185 0.07974614 0.07858581 0.07742751\n",
      " 0.07626893 0.07510816 0.07394355 0.07277369]\n",
      "15 day output [[0.07159742]]\n",
      "16 day input [0.16345648 0.1661866  0.16578585 0.16959299 0.16859111 0.16200376\n",
      " 0.15211021 0.15125861 0.15201002 0.15827176 0.14221666 0.13660614\n",
      " 0.13041954 0.1261866  0.12804008 0.12265498 0.11944897 0.12303068\n",
      " 0.11927364 0.1265623  0.14174076 0.11772073 0.12140263 0.11403882\n",
      " 0.10985598 0.11932373 0.1253851  0.11742016 0.11496556 0.10917971\n",
      " 0.11003131 0.11251096 0.10770194 0.08926738 0.07854728 0.08919224\n",
      " 0.09833438 0.09908579 0.09665623 0.08328115 0.0841077  0.08050094\n",
      " 0.07889793 0.09054477 0.07899812 0.08909205 0.09244834 0.09272386\n",
      " 0.09154665 0.10126487 0.10672511 0.11396368 0.10647464 0.09507827\n",
      " 0.12247965 0.11646838 0.10973075 0.09565435 0.08025047 0.07899812\n",
      " 0.08035066 0.08180338 0.07020664 0.10026299 0.10735128 0.10379461\n",
      " 0.10820288 0.10507201 0.10990607 0.11133375 0.10311835 0.10855354\n",
      " 0.11078272 0.10336882 0.09362555 0.08598622 0.10316844 0.10386976\n",
      " 0.10261741 0.09966187 0.0903444  0.08541014 0.08969317 0.08846587\n",
      " 0.09051039 0.0887676  0.08721481 0.08581477 0.08451812 0.08328495\n",
      " 0.08208832 0.08091185 0.07974614 0.07858581 0.07742751 0.07626893\n",
      " 0.07510816 0.07394355 0.07277369 0.07159742]\n",
      "16 day output [[0.07041371]]\n",
      "17 day input [0.1661866  0.16578585 0.16959299 0.16859111 0.16200376 0.15211021\n",
      " 0.15125861 0.15201002 0.15827176 0.14221666 0.13660614 0.13041954\n",
      " 0.1261866  0.12804008 0.12265498 0.11944897 0.12303068 0.11927364\n",
      " 0.1265623  0.14174076 0.11772073 0.12140263 0.11403882 0.10985598\n",
      " 0.11932373 0.1253851  0.11742016 0.11496556 0.10917971 0.11003131\n",
      " 0.11251096 0.10770194 0.08926738 0.07854728 0.08919224 0.09833438\n",
      " 0.09908579 0.09665623 0.08328115 0.0841077  0.08050094 0.07889793\n",
      " 0.09054477 0.07899812 0.08909205 0.09244834 0.09272386 0.09154665\n",
      " 0.10126487 0.10672511 0.11396368 0.10647464 0.09507827 0.12247965\n",
      " 0.11646838 0.10973075 0.09565435 0.08025047 0.07899812 0.08035066\n",
      " 0.08180338 0.07020664 0.10026299 0.10735128 0.10379461 0.10820288\n",
      " 0.10507201 0.10990607 0.11133375 0.10311835 0.10855354 0.11078272\n",
      " 0.10336882 0.09362555 0.08598622 0.10316844 0.10386976 0.10261741\n",
      " 0.09966187 0.0903444  0.08541014 0.08969317 0.08846587 0.09051039\n",
      " 0.0887676  0.08721481 0.08581477 0.08451812 0.08328495 0.08208832\n",
      " 0.08091185 0.07974614 0.07858581 0.07742751 0.07626893 0.07510816\n",
      " 0.07394355 0.07277369 0.07159742 0.07041371]\n",
      "17 day output [[0.06922185]]\n",
      "18 day input [0.16578585 0.16959299 0.16859111 0.16200376 0.15211021 0.15125861\n",
      " 0.15201002 0.15827176 0.14221666 0.13660614 0.13041954 0.1261866\n",
      " 0.12804008 0.12265498 0.11944897 0.12303068 0.11927364 0.1265623\n",
      " 0.14174076 0.11772073 0.12140263 0.11403882 0.10985598 0.11932373\n",
      " 0.1253851  0.11742016 0.11496556 0.10917971 0.11003131 0.11251096\n",
      " 0.10770194 0.08926738 0.07854728 0.08919224 0.09833438 0.09908579\n",
      " 0.09665623 0.08328115 0.0841077  0.08050094 0.07889793 0.09054477\n",
      " 0.07899812 0.08909205 0.09244834 0.09272386 0.09154665 0.10126487\n",
      " 0.10672511 0.11396368 0.10647464 0.09507827 0.12247965 0.11646838\n",
      " 0.10973075 0.09565435 0.08025047 0.07899812 0.08035066 0.08180338\n",
      " 0.07020664 0.10026299 0.10735128 0.10379461 0.10820288 0.10507201\n",
      " 0.10990607 0.11133375 0.10311835 0.10855354 0.11078272 0.10336882\n",
      " 0.09362555 0.08598622 0.10316844 0.10386976 0.10261741 0.09966187\n",
      " 0.0903444  0.08541014 0.08969317 0.08846587 0.09051039 0.0887676\n",
      " 0.08721481 0.08581477 0.08451812 0.08328495 0.08208832 0.08091185\n",
      " 0.07974614 0.07858581 0.07742751 0.07626893 0.07510816 0.07394355\n",
      " 0.07277369 0.07159742 0.07041371 0.06922185]\n",
      "18 day output [[0.06802136]]\n",
      "19 day input [0.16959299 0.16859111 0.16200376 0.15211021 0.15125861 0.15201002\n",
      " 0.15827176 0.14221666 0.13660614 0.13041954 0.1261866  0.12804008\n",
      " 0.12265498 0.11944897 0.12303068 0.11927364 0.1265623  0.14174076\n",
      " 0.11772073 0.12140263 0.11403882 0.10985598 0.11932373 0.1253851\n",
      " 0.11742016 0.11496556 0.10917971 0.11003131 0.11251096 0.10770194\n",
      " 0.08926738 0.07854728 0.08919224 0.09833438 0.09908579 0.09665623\n",
      " 0.08328115 0.0841077  0.08050094 0.07889793 0.09054477 0.07899812\n",
      " 0.08909205 0.09244834 0.09272386 0.09154665 0.10126487 0.10672511\n",
      " 0.11396368 0.10647464 0.09507827 0.12247965 0.11646838 0.10973075\n",
      " 0.09565435 0.08025047 0.07899812 0.08035066 0.08180338 0.07020664\n",
      " 0.10026299 0.10735128 0.10379461 0.10820288 0.10507201 0.10990607\n",
      " 0.11133375 0.10311835 0.10855354 0.11078272 0.10336882 0.09362555\n",
      " 0.08598622 0.10316844 0.10386976 0.10261741 0.09966187 0.0903444\n",
      " 0.08541014 0.08969317 0.08846587 0.09051039 0.0887676  0.08721481\n",
      " 0.08581477 0.08451812 0.08328495 0.08208832 0.08091185 0.07974614\n",
      " 0.07858581 0.07742751 0.07626893 0.07510816 0.07394355 0.07277369\n",
      " 0.07159742 0.07041371 0.06922185 0.06802136]\n",
      "19 day output [[0.06681187]]\n",
      "20 day input [0.16859111 0.16200376 0.15211021 0.15125861 0.15201002 0.15827176\n",
      " 0.14221666 0.13660614 0.13041954 0.1261866  0.12804008 0.12265498\n",
      " 0.11944897 0.12303068 0.11927364 0.1265623  0.14174076 0.11772073\n",
      " 0.12140263 0.11403882 0.10985598 0.11932373 0.1253851  0.11742016\n",
      " 0.11496556 0.10917971 0.11003131 0.11251096 0.10770194 0.08926738\n",
      " 0.07854728 0.08919224 0.09833438 0.09908579 0.09665623 0.08328115\n",
      " 0.0841077  0.08050094 0.07889793 0.09054477 0.07899812 0.08909205\n",
      " 0.09244834 0.09272386 0.09154665 0.10126487 0.10672511 0.11396368\n",
      " 0.10647464 0.09507827 0.12247965 0.11646838 0.10973075 0.09565435\n",
      " 0.08025047 0.07899812 0.08035066 0.08180338 0.07020664 0.10026299\n",
      " 0.10735128 0.10379461 0.10820288 0.10507201 0.10990607 0.11133375\n",
      " 0.10311835 0.10855354 0.11078272 0.10336882 0.09362555 0.08598622\n",
      " 0.10316844 0.10386976 0.10261741 0.09966187 0.0903444  0.08541014\n",
      " 0.08969317 0.08846587 0.09051039 0.0887676  0.08721481 0.08581477\n",
      " 0.08451812 0.08328495 0.08208832 0.08091185 0.07974614 0.07858581\n",
      " 0.07742751 0.07626893 0.07510816 0.07394355 0.07277369 0.07159742\n",
      " 0.07041371 0.06922185 0.06802136 0.06681187]\n",
      "20 day output [[0.06559333]]\n",
      "21 day input [0.16200376 0.15211021 0.15125861 0.15201002 0.15827176 0.14221666\n",
      " 0.13660614 0.13041954 0.1261866  0.12804008 0.12265498 0.11944897\n",
      " 0.12303068 0.11927364 0.1265623  0.14174076 0.11772073 0.12140263\n",
      " 0.11403882 0.10985598 0.11932373 0.1253851  0.11742016 0.11496556\n",
      " 0.10917971 0.11003131 0.11251096 0.10770194 0.08926738 0.07854728\n",
      " 0.08919224 0.09833438 0.09908579 0.09665623 0.08328115 0.0841077\n",
      " 0.08050094 0.07889793 0.09054477 0.07899812 0.08909205 0.09244834\n",
      " 0.09272386 0.09154665 0.10126487 0.10672511 0.11396368 0.10647464\n",
      " 0.09507827 0.12247965 0.11646838 0.10973075 0.09565435 0.08025047\n",
      " 0.07899812 0.08035066 0.08180338 0.07020664 0.10026299 0.10735128\n",
      " 0.10379461 0.10820288 0.10507201 0.10990607 0.11133375 0.10311835\n",
      " 0.10855354 0.11078272 0.10336882 0.09362555 0.08598622 0.10316844\n",
      " 0.10386976 0.10261741 0.09966187 0.0903444  0.08541014 0.08969317\n",
      " 0.08846587 0.09051039 0.0887676  0.08721481 0.08581477 0.08451812\n",
      " 0.08328495 0.08208832 0.08091185 0.07974614 0.07858581 0.07742751\n",
      " 0.07626893 0.07510816 0.07394355 0.07277369 0.07159742 0.07041371\n",
      " 0.06922185 0.06802136 0.06681187 0.06559333]\n",
      "21 day output [[0.0643657]]\n",
      "22 day input [0.15211021 0.15125861 0.15201002 0.15827176 0.14221666 0.13660614\n",
      " 0.13041954 0.1261866  0.12804008 0.12265498 0.11944897 0.12303068\n",
      " 0.11927364 0.1265623  0.14174076 0.11772073 0.12140263 0.11403882\n",
      " 0.10985598 0.11932373 0.1253851  0.11742016 0.11496556 0.10917971\n",
      " 0.11003131 0.11251096 0.10770194 0.08926738 0.07854728 0.08919224\n",
      " 0.09833438 0.09908579 0.09665623 0.08328115 0.0841077  0.08050094\n",
      " 0.07889793 0.09054477 0.07899812 0.08909205 0.09244834 0.09272386\n",
      " 0.09154665 0.10126487 0.10672511 0.11396368 0.10647464 0.09507827\n",
      " 0.12247965 0.11646838 0.10973075 0.09565435 0.08025047 0.07899812\n",
      " 0.08035066 0.08180338 0.07020664 0.10026299 0.10735128 0.10379461\n",
      " 0.10820288 0.10507201 0.10990607 0.11133375 0.10311835 0.10855354\n",
      " 0.11078272 0.10336882 0.09362555 0.08598622 0.10316844 0.10386976\n",
      " 0.10261741 0.09966187 0.0903444  0.08541014 0.08969317 0.08846587\n",
      " 0.09051039 0.0887676  0.08721481 0.08581477 0.08451812 0.08328495\n",
      " 0.08208832 0.08091185 0.07974614 0.07858581 0.07742751 0.07626893\n",
      " 0.07510816 0.07394355 0.07277369 0.07159742 0.07041371 0.06922185\n",
      " 0.06802136 0.06681187 0.06559333 0.0643657 ]\n",
      "22 day output [[0.06312916]]\n",
      "23 day input [0.15125861 0.15201002 0.15827176 0.14221666 0.13660614 0.13041954\n",
      " 0.1261866  0.12804008 0.12265498 0.11944897 0.12303068 0.11927364\n",
      " 0.1265623  0.14174076 0.11772073 0.12140263 0.11403882 0.10985598\n",
      " 0.11932373 0.1253851  0.11742016 0.11496556 0.10917971 0.11003131\n",
      " 0.11251096 0.10770194 0.08926738 0.07854728 0.08919224 0.09833438\n",
      " 0.09908579 0.09665623 0.08328115 0.0841077  0.08050094 0.07889793\n",
      " 0.09054477 0.07899812 0.08909205 0.09244834 0.09272386 0.09154665\n",
      " 0.10126487 0.10672511 0.11396368 0.10647464 0.09507827 0.12247965\n",
      " 0.11646838 0.10973075 0.09565435 0.08025047 0.07899812 0.08035066\n",
      " 0.08180338 0.07020664 0.10026299 0.10735128 0.10379461 0.10820288\n",
      " 0.10507201 0.10990607 0.11133375 0.10311835 0.10855354 0.11078272\n",
      " 0.10336882 0.09362555 0.08598622 0.10316844 0.10386976 0.10261741\n",
      " 0.09966187 0.0903444  0.08541014 0.08969317 0.08846587 0.09051039\n",
      " 0.0887676  0.08721481 0.08581477 0.08451812 0.08328495 0.08208832\n",
      " 0.08091185 0.07974614 0.07858581 0.07742751 0.07626893 0.07510816\n",
      " 0.07394355 0.07277369 0.07159742 0.07041371 0.06922185 0.06802136\n",
      " 0.06681187 0.06559333 0.0643657  0.06312916]\n",
      "23 day output [[0.06188382]]\n",
      "24 day input [0.15201002 0.15827176 0.14221666 0.13660614 0.13041954 0.1261866\n",
      " 0.12804008 0.12265498 0.11944897 0.12303068 0.11927364 0.1265623\n",
      " 0.14174076 0.11772073 0.12140263 0.11403882 0.10985598 0.11932373\n",
      " 0.1253851  0.11742016 0.11496556 0.10917971 0.11003131 0.11251096\n",
      " 0.10770194 0.08926738 0.07854728 0.08919224 0.09833438 0.09908579\n",
      " 0.09665623 0.08328115 0.0841077  0.08050094 0.07889793 0.09054477\n",
      " 0.07899812 0.08909205 0.09244834 0.09272386 0.09154665 0.10126487\n",
      " 0.10672511 0.11396368 0.10647464 0.09507827 0.12247965 0.11646838\n",
      " 0.10973075 0.09565435 0.08025047 0.07899812 0.08035066 0.08180338\n",
      " 0.07020664 0.10026299 0.10735128 0.10379461 0.10820288 0.10507201\n",
      " 0.10990607 0.11133375 0.10311835 0.10855354 0.11078272 0.10336882\n",
      " 0.09362555 0.08598622 0.10316844 0.10386976 0.10261741 0.09966187\n",
      " 0.0903444  0.08541014 0.08969317 0.08846587 0.09051039 0.0887676\n",
      " 0.08721481 0.08581477 0.08451812 0.08328495 0.08208832 0.08091185\n",
      " 0.07974614 0.07858581 0.07742751 0.07626893 0.07510816 0.07394355\n",
      " 0.07277369 0.07159742 0.07041371 0.06922185 0.06802136 0.06681187\n",
      " 0.06559333 0.0643657  0.06312916 0.06188382]\n",
      "24 day output [[0.06063005]]\n",
      "25 day input [0.15827176 0.14221666 0.13660614 0.13041954 0.1261866  0.12804008\n",
      " 0.12265498 0.11944897 0.12303068 0.11927364 0.1265623  0.14174076\n",
      " 0.11772073 0.12140263 0.11403882 0.10985598 0.11932373 0.1253851\n",
      " 0.11742016 0.11496556 0.10917971 0.11003131 0.11251096 0.10770194\n",
      " 0.08926738 0.07854728 0.08919224 0.09833438 0.09908579 0.09665623\n",
      " 0.08328115 0.0841077  0.08050094 0.07889793 0.09054477 0.07899812\n",
      " 0.08909205 0.09244834 0.09272386 0.09154665 0.10126487 0.10672511\n",
      " 0.11396368 0.10647464 0.09507827 0.12247965 0.11646838 0.10973075\n",
      " 0.09565435 0.08025047 0.07899812 0.08035066 0.08180338 0.07020664\n",
      " 0.10026299 0.10735128 0.10379461 0.10820288 0.10507201 0.10990607\n",
      " 0.11133375 0.10311835 0.10855354 0.11078272 0.10336882 0.09362555\n",
      " 0.08598622 0.10316844 0.10386976 0.10261741 0.09966187 0.0903444\n",
      " 0.08541014 0.08969317 0.08846587 0.09051039 0.0887676  0.08721481\n",
      " 0.08581477 0.08451812 0.08328495 0.08208832 0.08091185 0.07974614\n",
      " 0.07858581 0.07742751 0.07626893 0.07510816 0.07394355 0.07277369\n",
      " 0.07159742 0.07041371 0.06922185 0.06802136 0.06681187 0.06559333\n",
      " 0.0643657  0.06312916 0.06188382 0.06063005]\n",
      "25 day output [[0.05936805]]\n",
      "26 day input [0.14221666 0.13660614 0.13041954 0.1261866  0.12804008 0.12265498\n",
      " 0.11944897 0.12303068 0.11927364 0.1265623  0.14174076 0.11772073\n",
      " 0.12140263 0.11403882 0.10985598 0.11932373 0.1253851  0.11742016\n",
      " 0.11496556 0.10917971 0.11003131 0.11251096 0.10770194 0.08926738\n",
      " 0.07854728 0.08919224 0.09833438 0.09908579 0.09665623 0.08328115\n",
      " 0.0841077  0.08050094 0.07889793 0.09054477 0.07899812 0.08909205\n",
      " 0.09244834 0.09272386 0.09154665 0.10126487 0.10672511 0.11396368\n",
      " 0.10647464 0.09507827 0.12247965 0.11646838 0.10973075 0.09565435\n",
      " 0.08025047 0.07899812 0.08035066 0.08180338 0.07020664 0.10026299\n",
      " 0.10735128 0.10379461 0.10820288 0.10507201 0.10990607 0.11133375\n",
      " 0.10311835 0.10855354 0.11078272 0.10336882 0.09362555 0.08598622\n",
      " 0.10316844 0.10386976 0.10261741 0.09966187 0.0903444  0.08541014\n",
      " 0.08969317 0.08846587 0.09051039 0.0887676  0.08721481 0.08581477\n",
      " 0.08451812 0.08328495 0.08208832 0.08091185 0.07974614 0.07858581\n",
      " 0.07742751 0.07626893 0.07510816 0.07394355 0.07277369 0.07159742\n",
      " 0.07041371 0.06922185 0.06802136 0.06681187 0.06559333 0.0643657\n",
      " 0.06312916 0.06188382 0.06063005 0.05936805]\n",
      "26 day output [[0.05809814]]\n",
      "27 day input [0.13660614 0.13041954 0.1261866  0.12804008 0.12265498 0.11944897\n",
      " 0.12303068 0.11927364 0.1265623  0.14174076 0.11772073 0.12140263\n",
      " 0.11403882 0.10985598 0.11932373 0.1253851  0.11742016 0.11496556\n",
      " 0.10917971 0.11003131 0.11251096 0.10770194 0.08926738 0.07854728\n",
      " 0.08919224 0.09833438 0.09908579 0.09665623 0.08328115 0.0841077\n",
      " 0.08050094 0.07889793 0.09054477 0.07899812 0.08909205 0.09244834\n",
      " 0.09272386 0.09154665 0.10126487 0.10672511 0.11396368 0.10647464\n",
      " 0.09507827 0.12247965 0.11646838 0.10973075 0.09565435 0.08025047\n",
      " 0.07899812 0.08035066 0.08180338 0.07020664 0.10026299 0.10735128\n",
      " 0.10379461 0.10820288 0.10507201 0.10990607 0.11133375 0.10311835\n",
      " 0.10855354 0.11078272 0.10336882 0.09362555 0.08598622 0.10316844\n",
      " 0.10386976 0.10261741 0.09966187 0.0903444  0.08541014 0.08969317\n",
      " 0.08846587 0.09051039 0.0887676  0.08721481 0.08581477 0.08451812\n",
      " 0.08328495 0.08208832 0.08091185 0.07974614 0.07858581 0.07742751\n",
      " 0.07626893 0.07510816 0.07394355 0.07277369 0.07159742 0.07041371\n",
      " 0.06922185 0.06802136 0.06681187 0.06559333 0.0643657  0.06312916\n",
      " 0.06188382 0.06063005 0.05936805 0.05809814]\n",
      "27 day output [[0.0568206]]\n",
      "28 day input [0.13041954 0.1261866  0.12804008 0.12265498 0.11944897 0.12303068\n",
      " 0.11927364 0.1265623  0.14174076 0.11772073 0.12140263 0.11403882\n",
      " 0.10985598 0.11932373 0.1253851  0.11742016 0.11496556 0.10917971\n",
      " 0.11003131 0.11251096 0.10770194 0.08926738 0.07854728 0.08919224\n",
      " 0.09833438 0.09908579 0.09665623 0.08328115 0.0841077  0.08050094\n",
      " 0.07889793 0.09054477 0.07899812 0.08909205 0.09244834 0.09272386\n",
      " 0.09154665 0.10126487 0.10672511 0.11396368 0.10647464 0.09507827\n",
      " 0.12247965 0.11646838 0.10973075 0.09565435 0.08025047 0.07899812\n",
      " 0.08035066 0.08180338 0.07020664 0.10026299 0.10735128 0.10379461\n",
      " 0.10820288 0.10507201 0.10990607 0.11133375 0.10311835 0.10855354\n",
      " 0.11078272 0.10336882 0.09362555 0.08598622 0.10316844 0.10386976\n",
      " 0.10261741 0.09966187 0.0903444  0.08541014 0.08969317 0.08846587\n",
      " 0.09051039 0.0887676  0.08721481 0.08581477 0.08451812 0.08328495\n",
      " 0.08208832 0.08091185 0.07974614 0.07858581 0.07742751 0.07626893\n",
      " 0.07510816 0.07394355 0.07277369 0.07159742 0.07041371 0.06922185\n",
      " 0.06802136 0.06681187 0.06559333 0.0643657  0.06312916 0.06188382\n",
      " 0.06063005 0.05936805 0.05809814 0.0568206 ]\n",
      "28 day output [[0.05553572]]\n",
      "29 day input [0.1261866  0.12804008 0.12265498 0.11944897 0.12303068 0.11927364\n",
      " 0.1265623  0.14174076 0.11772073 0.12140263 0.11403882 0.10985598\n",
      " 0.11932373 0.1253851  0.11742016 0.11496556 0.10917971 0.11003131\n",
      " 0.11251096 0.10770194 0.08926738 0.07854728 0.08919224 0.09833438\n",
      " 0.09908579 0.09665623 0.08328115 0.0841077  0.08050094 0.07889793\n",
      " 0.09054477 0.07899812 0.08909205 0.09244834 0.09272386 0.09154665\n",
      " 0.10126487 0.10672511 0.11396368 0.10647464 0.09507827 0.12247965\n",
      " 0.11646838 0.10973075 0.09565435 0.08025047 0.07899812 0.08035066\n",
      " 0.08180338 0.07020664 0.10026299 0.10735128 0.10379461 0.10820288\n",
      " 0.10507201 0.10990607 0.11133375 0.10311835 0.10855354 0.11078272\n",
      " 0.10336882 0.09362555 0.08598622 0.10316844 0.10386976 0.10261741\n",
      " 0.09966187 0.0903444  0.08541014 0.08969317 0.08846587 0.09051039\n",
      " 0.0887676  0.08721481 0.08581477 0.08451812 0.08328495 0.08208832\n",
      " 0.08091185 0.07974614 0.07858581 0.07742751 0.07626893 0.07510816\n",
      " 0.07394355 0.07277369 0.07159742 0.07041371 0.06922185 0.06802136\n",
      " 0.06681187 0.06559333 0.0643657  0.06312916 0.06188382 0.06063005\n",
      " 0.05936805 0.05809814 0.0568206  0.05553572]\n",
      "29 day output [[0.05424373]]\n",
      "[[0.09051039069890976], [0.08876759558916092], [0.08721480518579483], [0.08581476658582687], [0.08451811969280243], [0.08328495174646378], [0.08208832144737244], [0.08091185241937637], [0.07974614202976227], [0.07858581095933914], [0.07742751389741898], [0.07626892626285553], [0.07510816305875778], [0.07394354790449142], [0.07277369499206543], [0.07159741967916489], [0.07041370868682861], [0.0692218467593193], [0.06802135705947876], [0.06681187450885773], [0.06559333205223083], [0.0643656998872757], [0.06312916427850723], [0.061883822083473206], [0.06063005328178406], [0.05936805158853531], [0.05809813737869263], [0.05682060122489929], [0.05553571879863739], [0.05424372851848602]]\n"
     ]
    }
   ],
   "source": [
    "from numpy import array\n",
    "\n",
    "lst_output = []\n",
    "n_steps = 100\n",
    "i = 0\n",
    "while i < 30:\n",
    "    if len(temp_input)>100:\n",
    "        x_input = array(temp_input[1:])\n",
    "        print(f'{i} day input {x_input}')\n",
    "        x_input = x_input.reshape(1, n_steps, 1)\n",
    "        yhat = model.predict(x_input, verbose=0)\n",
    "        print(f'{i} day output {yhat}')\n",
    "        temp_input.extend(yhat[0].tolist())\n",
    "        temp_input = temp_input[1:]\n",
    "        lst_output.extend(yhat.tolist())\n",
    "        i = i + 1\n",
    "    else:\n",
    "        x_input = x_input.reshape(1, n_steps, 1)\n",
    "        yhat = model.predict(x_input, verbose=0)\n",
    "        print(yhat[0])\n",
    "        temp_input.extend(yhat[0].tolist())\n",
    "        print(len(temp_input))\n",
    "        lst_output.extend(yhat.tolist())\n",
    "        i = i + 1\n",
    "\n",
    "print(lst_output)"
   ]
  },
  {
   "attachments": {},
   "cell_type": "markdown",
   "metadata": {},
   "source": [
    "## Days determination for plotting"
   ]
  },
  {
   "cell_type": "code",
   "execution_count": 27,
   "metadata": {},
   "outputs": [],
   "source": [
    "day_new = np.arange(1, 101)\n",
    "day_pred = np.arange(101, 131)"
   ]
  },
  {
   "cell_type": "code",
   "execution_count": 28,
   "metadata": {},
   "outputs": [],
   "source": [
    "df2 = df1.tolist()\n",
    "df2.extend(lst_output)"
   ]
  },
  {
   "attachments": {},
   "cell_type": "markdown",
   "metadata": {},
   "source": [
    "## Prediction plot"
   ]
  },
  {
   "cell_type": "code",
   "execution_count": 29,
   "metadata": {},
   "outputs": [
    {
     "data": {
      "text/plain": [
       "[<matplotlib.lines.Line2D at 0x158493dcf70>]"
      ]
     },
     "execution_count": 29,
     "metadata": {},
     "output_type": "execute_result"
    },
    {
     "data": {
      "image/png": "[encoded data removed]",
      "text/plain": [
       "<Figure size 432x288 with 1 Axes>"
      ]
     },
     "metadata": {
      "needs_background": "light"
     },
     "output_type": "display_data"
    }
   ],
   "source": [
    "plt.plot(day_new, scaler.inverse_transform(df1[1158:]))\n",
    "plt.plot(day_pred, scaler.inverse_transform(lst_output))"
   ]
  },
  {
   "cell_type": "code",
   "execution_count": 30,
   "metadata": {},
   "outputs": [
    {
     "data": {
      "text/plain": [
       "[<matplotlib.lines.Line2D at 0x15849423fd0>]"
      ]
     },
     "execution_count": 30,
     "metadata": {},
     "output_type": "execute_result"
    },
    {
     "data": {
      "image/png": "[encoded data removed]",
      "text/plain": [
       "<Figure size 432x288 with 1 Axes>"
      ]
     },
     "metadata": {
      "needs_background": "light"
     },
     "output_type": "display_data"
    }
   ],
   "source": [
    "plt.plot(df2[1000:])"
   ]
  },
  {
   "cell_type": "code",
   "execution_count": 31,
   "metadata": {},
   "outputs": [
    {
     "data": {
      "text/plain": [
       "[<matplotlib.lines.Line2D at 0x15849429ae0>]"
      ]
     },
     "execution_count": 31,
     "metadata": {},
     "output_type": "execute_result"
    },
    {
     "data": {
      "image/png": "[encoded data removed]",
      "text/plain": [
       "<Figure size 432x288 with 1 Axes>"
      ]
     },
     "metadata": {
      "needs_background": "light"
     },
     "output_type": "display_data"
    }
   ],
   "source": [
    "plt.plot(df2[1200:])"
   ]
  }
 ],
 "metadata": {
  "kernelspec": {
   "display_name": "Python 3.10.0 64-bit",
   "language": "python",
   "name": "python3"
  },
  "language_info": {
   "codemirror_mode": {
    "name": "ipython",
    "version": 3
   },
   "file_extension": ".py",
   "mimetype": "text/x-python",
   "name": "python",
   "nbconvert_exporter": "python",
   "pygments_lexer": "ipython3",
   "version": "3.10.0"
  },
  "orig_nbformat": 4,
  "vscode": {
   "interpreter": {
    "hash": "369f2c481f4da34e4445cda3fffd2e751bd1c4d706f27375911949ba6bb62e1c"
   }
  }
 },
 "nbformat": 4,
 "nbformat_minor": 2
}
