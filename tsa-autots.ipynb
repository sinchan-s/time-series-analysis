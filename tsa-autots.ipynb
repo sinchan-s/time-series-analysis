{
 "cells": [
  {
   "cell_type": "code",
   "execution_count": 1,
   "metadata": {},
   "outputs": [
    {
     "name": "stdout",
     "output_type": "stream",
     "text": [
      "Collecting autots\n",
      "  Downloading AutoTS-0.5.2-py3-none-any.whl (674 kB)\n",
      "     ------------------------------------ 674.0/674.0 kB 208.2 kB/s eta 0:00:00\n",
      "Requirement already satisfied: statsmodels>=0.10.* in c:\\python310\\lib\\site-packages (from autots) (0.13.2)\n",
      "Requirement already satisfied: pandas>=0.25.* in c:\\python310\\lib\\site-packages (from autots) (1.5.2)\n",
      "Requirement already satisfied: numpy>=1.14.6 in c:\\python310\\lib\\site-packages (from autots) (1.23.5)\n",
      "Requirement already satisfied: scikit-learn>=0.20.* in c:\\python310\\lib\\site-packages (from autots) (1.0.2)\n",
      "Requirement already satisfied: pytz>=2020.1 in c:\\python310\\lib\\site-packages (from pandas>=0.25.*->autots) (2021.3)\n",
      "Requirement already satisfied: python-dateutil>=2.8.1 in c:\\python310\\lib\\site-packages (from pandas>=0.25.*->autots) (2.8.2)\n",
      "Requirement already satisfied: joblib>=0.11 in c:\\python310\\lib\\site-packages (from scikit-learn>=0.20.*->autots) (1.0.1)\n",
      "Requirement already satisfied: scipy>=1.1.0 in c:\\python310\\lib\\site-packages (from scikit-learn>=0.20.*->autots) (1.8.0)\n",
      "Requirement already satisfied: threadpoolctl>=2.0.0 in c:\\python310\\lib\\site-packages (from scikit-learn>=0.20.*->autots) (3.1.0)\n",
      "Requirement already satisfied: patsy>=0.5.2 in c:\\python310\\lib\\site-packages (from statsmodels>=0.10.*->autots) (0.5.2)\n",
      "Requirement already satisfied: packaging>=21.3 in c:\\python310\\lib\\site-packages (from statsmodels>=0.10.*->autots) (21.3)Note: you may need to restart the kernel to use updated packages.\n",
      "\n"
     ]
    },
    {
     "name": "stderr",
     "output_type": "stream",
     "text": [
      "WARNING: Ignoring invalid distribution -treamlit (c:\\python310\\lib\\site-packages)\n",
      "WARNING: Ignoring invalid distribution -rotobuf (c:\\python310\\lib\\site-packages)\n",
      "WARNING: Ignoring invalid distribution -treamlit (c:\\python310\\lib\\site-packages)\n",
      "WARNING: Ignoring invalid distribution -rotobuf (c:\\python310\\lib\\site-packages)\n",
      "WARNING: Ignoring invalid distribution -treamlit (c:\\python310\\lib\\site-packages)\n",
      "WARNING: Ignoring invalid distribution -rotobuf (c:\\python310\\lib\\site-packages)\n",
      "WARNING: Ignoring invalid distribution -treamlit (c:\\python310\\lib\\site-packages)\n",
      "WARNING: Ignoring invalid distribution -rotobuf (c:\\python310\\lib\\site-packages)\n",
      "WARNING: Ignoring invalid distribution -treamlit (c:\\python310\\lib\\site-packages)\n",
      "WARNING: Ignoring invalid distribution -rotobuf (c:\\python310\\lib\\site-packages)\n",
      "WARNING: Ignoring invalid distribution -treamlit (c:\\python310\\lib\\site-packages)\n",
      "WARNING: Ignoring invalid distribution -rotobuf (c:\\python310\\lib\\site-packages)\n",
      "WARNING: Ignoring invalid distribution -treamlit (c:\\python310\\lib\\site-packages)\n",
      "WARNING: Ignoring invalid distribution -rotobuf (c:\\python310\\lib\\site-packages)\n"
     ]
    },
    {
     "name": "stdout",
     "output_type": "stream",
     "text": [
      "Requirement already satisfied: pyparsing!=3.0.5,>=2.0.2 in c:\\python310\\lib\\site-packages (from packaging>=21.3->statsmodels>=0.10.*->autots) (3.0.4)\n",
      "Requirement already satisfied: six in c:\\python310\\lib\\site-packages (from patsy>=0.5.2->statsmodels>=0.10.*->autots) (1.16.0)\n",
      "Installing collected packages: autots\n",
      "Successfully installed autots-0.5.2\n"
     ]
    }
   ],
   "source": [
    "%pip install autots"
   ]
  },
  {
   "cell_type": "code",
   "execution_count": 4,
   "metadata": {},
   "outputs": [],
   "source": [
    "import pandas as pd\n",
    "from autots import AutoTS\n",
    "import matplotlib.pyplot as plt\n",
    "%matplotlib inline"
   ]
  },
  {
   "cell_type": "code",
   "execution_count": 5,
   "metadata": {},
   "outputs": [
    {
     "data": {
      "text/html": [
       "<div>\n",
       "<style scoped>\n",
       "    .dataframe tbody tr th:only-of-type {\n",
       "        vertical-align: middle;\n",
       "    }\n",
       "\n",
       "    .dataframe tbody tr th {\n",
       "        vertical-align: top;\n",
       "    }\n",
       "\n",
       "    .dataframe thead th {\n",
       "        text-align: right;\n",
       "    }\n",
       "</style>\n",
       "<table border=\"1\" class=\"dataframe\">\n",
       "  <thead>\n",
       "    <tr style=\"text-align: right;\">\n",
       "      <th></th>\n",
       "      <th>Month</th>\n",
       "      <th>Thousands of Passengers</th>\n",
       "    </tr>\n",
       "  </thead>\n",
       "  <tbody>\n",
       "    <tr>\n",
       "      <th>0</th>\n",
       "      <td>1949-01</td>\n",
       "      <td>112.0</td>\n",
       "    </tr>\n",
       "    <tr>\n",
       "      <th>1</th>\n",
       "      <td>1949-02</td>\n",
       "      <td>118.0</td>\n",
       "    </tr>\n",
       "    <tr>\n",
       "      <th>2</th>\n",
       "      <td>1949-03</td>\n",
       "      <td>132.0</td>\n",
       "    </tr>\n",
       "    <tr>\n",
       "      <th>3</th>\n",
       "      <td>1949-04</td>\n",
       "      <td>129.0</td>\n",
       "    </tr>\n",
       "    <tr>\n",
       "      <th>4</th>\n",
       "      <td>1949-05</td>\n",
       "      <td>121.0</td>\n",
       "    </tr>\n",
       "    <tr>\n",
       "      <th>...</th>\n",
       "      <td>...</td>\n",
       "      <td>...</td>\n",
       "    </tr>\n",
       "    <tr>\n",
       "      <th>141</th>\n",
       "      <td>1960-10</td>\n",
       "      <td>461.0</td>\n",
       "    </tr>\n",
       "    <tr>\n",
       "      <th>142</th>\n",
       "      <td>1960-11</td>\n",
       "      <td>390.0</td>\n",
       "    </tr>\n",
       "    <tr>\n",
       "      <th>143</th>\n",
       "      <td>1960-12</td>\n",
       "      <td>432.0</td>\n",
       "    </tr>\n",
       "    <tr>\n",
       "      <th>144</th>\n",
       "      <td>NaN</td>\n",
       "      <td>NaN</td>\n",
       "    </tr>\n",
       "    <tr>\n",
       "      <th>145</th>\n",
       "      <td>International airline passengers: monthly tota...</td>\n",
       "      <td>NaN</td>\n",
       "    </tr>\n",
       "  </tbody>\n",
       "</table>\n",
       "<p>146 rows × 2 columns</p>\n",
       "</div>"
      ],
      "text/plain": [
       "                                                 Month  \\\n",
       "0                                              1949-01   \n",
       "1                                              1949-02   \n",
       "2                                              1949-03   \n",
       "3                                              1949-04   \n",
       "4                                              1949-05   \n",
       "..                                                 ...   \n",
       "141                                            1960-10   \n",
       "142                                            1960-11   \n",
       "143                                            1960-12   \n",
       "144                                                NaN   \n",
       "145  International airline passengers: monthly tota...   \n",
       "\n",
       "     Thousands of Passengers  \n",
       "0                      112.0  \n",
       "1                      118.0  \n",
       "2                      132.0  \n",
       "3                      129.0  \n",
       "4                      121.0  \n",
       "..                       ...  \n",
       "141                    461.0  \n",
       "142                    390.0  \n",
       "143                    432.0  \n",
       "144                      NaN  \n",
       "145                      NaN  \n",
       "\n",
       "[146 rows x 2 columns]"
      ]
     },
     "execution_count": 5,
     "metadata": {},
     "output_type": "execute_result"
    }
   ],
   "source": [
    "df = pd.read_csv('airline_passengers.csv')\n",
    "df"
   ]
  },
  {
   "cell_type": "code",
   "execution_count": 6,
   "metadata": {},
   "outputs": [
    {
     "data": {
      "text/html": [
       "<div>\n",
       "<style scoped>\n",
       "    .dataframe tbody tr th:only-of-type {\n",
       "        vertical-align: middle;\n",
       "    }\n",
       "\n",
       "    .dataframe tbody tr th {\n",
       "        vertical-align: top;\n",
       "    }\n",
       "\n",
       "    .dataframe thead th {\n",
       "        text-align: right;\n",
       "    }\n",
       "</style>\n",
       "<table border=\"1\" class=\"dataframe\">\n",
       "  <thead>\n",
       "    <tr style=\"text-align: right;\">\n",
       "      <th></th>\n",
       "      <th>Month</th>\n",
       "      <th>Thousands of Passengers</th>\n",
       "    </tr>\n",
       "  </thead>\n",
       "  <tbody>\n",
       "    <tr>\n",
       "      <th>139</th>\n",
       "      <td>1960-08</td>\n",
       "      <td>606.0</td>\n",
       "    </tr>\n",
       "    <tr>\n",
       "      <th>140</th>\n",
       "      <td>1960-09</td>\n",
       "      <td>508.0</td>\n",
       "    </tr>\n",
       "    <tr>\n",
       "      <th>141</th>\n",
       "      <td>1960-10</td>\n",
       "      <td>461.0</td>\n",
       "    </tr>\n",
       "    <tr>\n",
       "      <th>142</th>\n",
       "      <td>1960-11</td>\n",
       "      <td>390.0</td>\n",
       "    </tr>\n",
       "    <tr>\n",
       "      <th>143</th>\n",
       "      <td>1960-12</td>\n",
       "      <td>432.0</td>\n",
       "    </tr>\n",
       "  </tbody>\n",
       "</table>\n",
       "</div>"
      ],
      "text/plain": [
       "       Month  Thousands of Passengers\n",
       "139  1960-08                    606.0\n",
       "140  1960-09                    508.0\n",
       "141  1960-10                    461.0\n",
       "142  1960-11                    390.0\n",
       "143  1960-12                    432.0"
      ]
     },
     "execution_count": 6,
     "metadata": {},
     "output_type": "execute_result"
    }
   ],
   "source": [
    "df.dropna(axis=0, inplace=True)\n",
    "df.tail()"
   ]
  },
  {
   "cell_type": "code",
   "execution_count": 7,
   "metadata": {},
   "outputs": [
    {
     "name": "stdout",
     "output_type": "stream",
     "text": [
      "<class 'pandas.core.frame.DataFrame'>\n",
      "Int64Index: 144 entries, 0 to 143\n",
      "Data columns (total 2 columns):\n",
      " #   Column                   Non-Null Count  Dtype         \n",
      "---  ------                   --------------  -----         \n",
      " 0   Month                    144 non-null    datetime64[ns]\n",
      " 1   Thousands of Passengers  144 non-null    float64       \n",
      "dtypes: datetime64[ns](1), float64(1)\n",
      "memory usage: 3.4 KB\n"
     ]
    }
   ],
   "source": [
    "df['Month'] = pd.to_datetime(df['Month'])\n",
    "df.info()"
   ]
  },
  {
   "cell_type": "code",
   "execution_count": 10,
   "metadata": {},
   "outputs": [
    {
     "name": "stdout",
     "output_type": "stream",
     "text": [
      "Inferred frequency is: MS\n",
      "Model Number: 1 with model ARIMA in generation 0 of 10\n"
     ]
    },
    {
     "name": "stderr",
     "output_type": "stream",
     "text": [
      "c:\\Python310\\lib\\site-packages\\autots\\evaluator\\auto_model.py:939: FutureWarning: iteritems is deprecated and will be removed in a future version. Use .items instead.\n",
      "  for index, value in models_to_iterate.iteritems():\n"
     ]
    },
    {
     "name": "stdout",
     "output_type": "stream",
     "text": [
      "Model Number: 2 with model ARIMA in generation 0 of 10\n",
      "Model Number: 3 with model ARIMA in generation 0 of 10\n",
      "Model Number: 4 with model AverageValueNaive in generation 0 of 10\n",
      "Model Number: 5 with model AverageValueNaive in generation 0 of 10\n",
      "Model Number: 6 with model AverageValueNaive in generation 0 of 10\n",
      "Model Number: 7 with model DatepartRegression in generation 0 of 10\n",
      "Model Number: 8 with model DatepartRegression in generation 0 of 10\n",
      "Model Number: 9 with model DatepartRegression in generation 0 of 10\n"
     ]
    },
    {
     "name": "stderr",
     "output_type": "stream",
     "text": [
      "c:\\Python310\\lib\\site-packages\\sklearn\\svm\\_base.py:1206: ConvergenceWarning: Liblinear failed to converge, increase the number of iterations.\n",
      "  warnings.warn(\n",
      "c:\\Python310\\lib\\site-packages\\sklearn\\neural_network\\_multilayer_perceptron.py:549: ConvergenceWarning: lbfgs failed to converge (status=1):\n",
      "STOP: TOTAL NO. of ITERATIONS REACHED LIMIT.\n",
      "\n",
      "Increase the number of iterations (max_iter) or scale the data as shown in:\n",
      "    https://scikit-learn.org/stable/modules/preprocessing.html\n",
      "  self.n_iter_ = _check_optimize_result(\"lbfgs\", opt_res, self.max_iter)\n"
     ]
    },
    {
     "name": "stdout",
     "output_type": "stream",
     "text": [
      "Model Number: 10 with model DatepartRegression in generation 0 of 10\n",
      "Template Eval Error: ImportError('Tensorflow not available, install with pip install tensorflow.') in model 10: DatepartRegression\n",
      "Model Number: 11 with model ETS in generation 0 of 10\n",
      "Model Number: 12 with model ETS in generation 0 of 10\n",
      "Model Number: 13 with model GLM in generation 0 of 10\n",
      "Model Number: 14 with model GLM in generation 0 of 10\n",
      "Model Number: 15 with model GLS in generation 0 of 10\n",
      "Model Number: 16 with model GLS in generation 0 of 10\n",
      "Model Number: 17 with model GluonTS in generation 0 of 10\n",
      "Template Eval Error: ImportError('GluonTS installation not found or installed version is incompatible with AutoTS.') in model 17: GluonTS\n",
      "Model Number: 18 with model GluonTS in generation 0 of 10\n",
      "Template Eval Error: ImportError('GluonTS installation not found or installed version is incompatible with AutoTS.') in model 18: GluonTS\n",
      "Model Number: 19 with model GluonTS in generation 0 of 10\n",
      "Template Eval Error: ImportError('GluonTS installation not found or installed version is incompatible with AutoTS.') in model 19: GluonTS\n",
      "Model Number: 20 with model GluonTS in generation 0 of 10\n",
      "Template Eval Error: ImportError('GluonTS installation not found or installed version is incompatible with AutoTS.') in model 20: GluonTS\n",
      "Model Number: 21 with model GluonTS in generation 0 of 10\n",
      "Template Eval Error: ImportError('GluonTS installation not found or installed version is incompatible with AutoTS.') in model 21: GluonTS\n",
      "Model Number: 22 with model LastValueNaive in generation 0 of 10\n",
      "Model Number: 23 with model LastValueNaive in generation 0 of 10\n",
      "Model Number: 24 with model LastValueNaive in generation 0 of 10\n",
      "Model Number: 25 with model LastValueNaive in generation 0 of 10\n",
      "Model Number: 26 with model SeasonalNaive in generation 0 of 10\n",
      "Model Number: 27 with model SeasonalNaive in generation 0 of 10\n",
      "Model Number: 28 with model SeasonalNaive in generation 0 of 10\n",
      "Model Number: 29 with model UnobservedComponents in generation 0 of 10\n",
      "Model Number: 30 with model UnobservedComponents in generation 0 of 10\n",
      "Model Number: 31 with model UnobservedComponents in generation 0 of 10\n",
      "Model Number: 32 with model VAR in generation 0 of 10\n",
      "Template Eval Error: ValueError('Only gave one variable to VAR') in model 32: VAR\n",
      "Model Number: 33 with model VAR in generation 0 of 10\n",
      "Template Eval Error: ValueError('Only gave one variable to VAR') in model 33: VAR\n",
      "Model Number: 34 with model VECM in generation 0 of 10\n",
      "Template Eval Error: ValueError('Only gave one variable to VECM') in model 34: VECM\n",
      "Model Number: 35 with model VECM in generation 0 of 10\n",
      "Template Eval Error: ValueError('Only gave one variable to VECM') in model 35: VECM\n",
      "Model Number: 36 with model WindowRegression in generation 0 of 10\n",
      "Model Number: 37 with model ConstantNaive in generation 0 of 10\n"
     ]
    },
    {
     "name": "stderr",
     "output_type": "stream",
     "text": [
      "c:\\Python310\\lib\\site-packages\\sklearn\\neural_network\\_multilayer_perceptron.py:549: ConvergenceWarning: lbfgs failed to converge (status=1):\n",
      "STOP: TOTAL NO. of ITERATIONS REACHED LIMIT.\n",
      "\n",
      "Increase the number of iterations (max_iter) or scale the data as shown in:\n",
      "    https://scikit-learn.org/stable/modules/preprocessing.html\n",
      "  self.n_iter_ = _check_optimize_result(\"lbfgs\", opt_res, self.max_iter)\n"
     ]
    },
    {
     "name": "stdout",
     "output_type": "stream",
     "text": [
      "Model Number: 38 with model FBProphet in generation 0 of 10\n"
     ]
    },
    {
     "name": "stderr",
     "output_type": "stream",
     "text": [
      "22:46:18 - cmdstanpy - INFO - Chain [1] start processing\n",
      "22:46:18 - cmdstanpy - INFO - Chain [1] done processing\n"
     ]
    },
    {
     "name": "stdout",
     "output_type": "stream",
     "text": [
      "Model Number: 39 with model GluonTS in generation 0 of 10\n",
      "Template Eval Error: ImportError('GluonTS installation not found or installed version is incompatible with AutoTS.') in model 39: GluonTS\n",
      "Model Number: 40 with model MultivariateRegression in generation 0 of 10\n"
     ]
    },
    {
     "name": "stderr",
     "output_type": "stream",
     "text": [
      "[Parallel(n_jobs=-2)]: Using backend ThreadingBackend with 3 concurrent workers.\n",
      "[Parallel(n_jobs=-2)]: Done  44 tasks      | elapsed:    0.0s\n",
      "[Parallel(n_jobs=-2)]: Done 194 tasks      | elapsed:    0.3s\n",
      "[Parallel(n_jobs=-2)]: Done 200 out of 200 | elapsed:    0.3s finished\n",
      "[Parallel(n_jobs=3)]: Using backend ThreadingBackend with 3 concurrent workers.\n",
      "[Parallel(n_jobs=3)]: Done  44 tasks      | elapsed:    0.0s\n",
      "[Parallel(n_jobs=3)]: Done 194 tasks      | elapsed:    0.0s\n",
      "[Parallel(n_jobs=3)]: Done 200 out of 200 | elapsed:    0.0s finished\n",
      "[Parallel(n_jobs=3)]: Using backend ThreadingBackend with 3 concurrent workers.\n",
      "[Parallel(n_jobs=3)]: Done  44 tasks      | elapsed:    0.0s\n",
      "[Parallel(n_jobs=3)]: Done 194 tasks      | elapsed:    0.0s\n",
      "[Parallel(n_jobs=3)]: Done 200 out of 200 | elapsed:    0.0s finished\n",
      "[Parallel(n_jobs=3)]: Using backend ThreadingBackend with 3 concurrent workers.\n",
      "[Parallel(n_jobs=3)]: Done  44 tasks      | elapsed:    0.0s\n",
      "[Parallel(n_jobs=3)]: Done 194 tasks      | elapsed:    0.0s\n",
      "[Parallel(n_jobs=3)]: Done 200 out of 200 | elapsed:    0.0s finished\n",
      "[Parallel(n_jobs=3)]: Using backend ThreadingBackend with 3 concurrent workers.\n",
      "[Parallel(n_jobs=3)]: Done  44 tasks      | elapsed:    0.0s\n",
      "[Parallel(n_jobs=3)]: Done 194 tasks      | elapsed:    0.0s\n",
      "[Parallel(n_jobs=3)]: Done 200 out of 200 | elapsed:    0.0s finished\n",
      "[Parallel(n_jobs=3)]: Using backend ThreadingBackend with 3 concurrent workers.\n",
      "[Parallel(n_jobs=3)]: Done  44 tasks      | elapsed:    0.0s\n",
      "[Parallel(n_jobs=3)]: Done 194 tasks      | elapsed:    0.0s\n",
      "[Parallel(n_jobs=3)]: Done 200 out of 200 | elapsed:    0.0s finished\n",
      "[Parallel(n_jobs=3)]: Using backend ThreadingBackend with 3 concurrent workers.\n",
      "[Parallel(n_jobs=3)]: Done  44 tasks      | elapsed:    0.0s\n",
      "[Parallel(n_jobs=3)]: Done 194 tasks      | elapsed:    0.0s\n",
      "[Parallel(n_jobs=3)]: Done 200 out of 200 | elapsed:    0.0s finished\n",
      "[Parallel(n_jobs=3)]: Using backend ThreadingBackend with 3 concurrent workers.\n",
      "[Parallel(n_jobs=3)]: Done  44 tasks      | elapsed:    0.0s\n",
      "[Parallel(n_jobs=3)]: Done 194 tasks      | elapsed:    0.0s\n",
      "[Parallel(n_jobs=3)]: Done 200 out of 200 | elapsed:    0.0s finished\n",
      "[Parallel(n_jobs=3)]: Using backend ThreadingBackend with 3 concurrent workers.\n",
      "[Parallel(n_jobs=3)]: Done  44 tasks      | elapsed:    0.0s\n",
      "[Parallel(n_jobs=3)]: Done 194 tasks      | elapsed:    0.0s\n",
      "[Parallel(n_jobs=3)]: Done 200 out of 200 | elapsed:    0.0s finished\n",
      "[Parallel(n_jobs=3)]: Using backend ThreadingBackend with 3 concurrent workers.\n",
      "[Parallel(n_jobs=3)]: Done  44 tasks      | elapsed:    0.0s\n",
      "[Parallel(n_jobs=3)]: Done 194 tasks      | elapsed:    0.0s\n",
      "[Parallel(n_jobs=3)]: Done 200 out of 200 | elapsed:    0.0s finished\n",
      "[Parallel(n_jobs=3)]: Using backend ThreadingBackend with 3 concurrent workers.\n",
      "[Parallel(n_jobs=3)]: Done  44 tasks      | elapsed:    0.0s\n",
      "[Parallel(n_jobs=3)]: Done 194 tasks      | elapsed:    0.0s\n",
      "[Parallel(n_jobs=3)]: Done 200 out of 200 | elapsed:    0.0s finished\n",
      "[Parallel(n_jobs=3)]: Using backend ThreadingBackend with 3 concurrent workers.\n",
      "[Parallel(n_jobs=3)]: Done  44 tasks      | elapsed:    0.0s\n",
      "[Parallel(n_jobs=3)]: Done 194 tasks      | elapsed:    0.0s\n",
      "[Parallel(n_jobs=3)]: Done 200 out of 200 | elapsed:    0.0s finished\n",
      "[Parallel(n_jobs=3)]: Using backend ThreadingBackend with 3 concurrent workers.\n",
      "[Parallel(n_jobs=3)]: Done  44 tasks      | elapsed:    0.0s\n",
      "[Parallel(n_jobs=3)]: Done 194 tasks      | elapsed:    0.0s\n",
      "[Parallel(n_jobs=3)]: Done 200 out of 200 | elapsed:    0.0s finished\n"
     ]
    },
    {
     "name": "stdout",
     "output_type": "stream",
     "text": [
      "Model Number: 41 with model MultivariateRegression in generation 0 of 10\n",
      "Template Eval Error: ValueError(\"regression_type='User' but not future_regressor supplied.\") in model 41: MultivariateRegression\n",
      "Model Number: 42 with model DatepartRegression in generation 0 of 10\n",
      "Template Eval Error: ValueError(\"regression_type='User' but no future_regressor passed\") in model 42: DatepartRegression\n",
      "Model Number: 43 with model SeasonalNaive in generation 0 of 10\n",
      "Model Number: 44 with model DatepartRegression in generation 0 of 10\n",
      "Model Number: 45 with model UnobservedComponents in generation 0 of 10\n",
      "Model Number: 46 with model UnobservedComponents in generation 0 of 10\n",
      "Model Number: 47 with model ETS in generation 0 of 10\n",
      "Model Number: 48 with model VECM in generation 0 of 10\n",
      "Template Eval Error: ValueError('Only gave one variable to VECM') in model 48: VECM\n",
      "Model Number: 49 with model ARDL in generation 0 of 10\n",
      "Model Number: 50 with model MultivariateMotif in generation 0 of 10\n",
      "Model Number: 51 with model MultivariateMotif in generation 0 of 10\n",
      "Model Number: 52 with model UnivariateMotif in generation 0 of 10\n",
      "Model Number: 53 with model UnivariateMotif in generation 0 of 10\n",
      "Model Number: 54 with model SectionalMotif in generation 0 of 10\n",
      "Model Number: 55 with model SectionalMotif in generation 0 of 10\n",
      "Model Number: 56 with model MultivariateRegression in generation 0 of 10\n",
      "Model Number: 57 with model FBProphet in generation 0 of 10\n"
     ]
    },
    {
     "name": "stderr",
     "output_type": "stream",
     "text": [
      "22:46:23 - cmdstanpy - INFO - Chain [1] start processing\n",
      "22:46:24 - cmdstanpy - INFO - Chain [1] done processing\n"
     ]
    },
    {
     "name": "stdout",
     "output_type": "stream",
     "text": [
      "Model Number: 58 with model SeasonalNaive in generation 0 of 10\n",
      "Model Number: 59 with model DatepartRegression in generation 0 of 10\n"
     ]
    },
    {
     "name": "stderr",
     "output_type": "stream",
     "text": [
      "[Parallel(n_jobs=-2)]: Using backend ThreadingBackend with 3 concurrent workers.\n",
      "[Parallel(n_jobs=-2)]: Done  44 tasks      | elapsed:    0.0s\n",
      "[Parallel(n_jobs=-2)]: Done 100 out of 100 | elapsed:    0.1s finished\n",
      "[Parallel(n_jobs=3)]: Using backend ThreadingBackend with 3 concurrent workers.\n"
     ]
    },
    {
     "name": "stdout",
     "output_type": "stream",
     "text": [
      "Model Number: 60 with model NVAR in generation 0 of 10\n"
     ]
    },
    {
     "name": "stderr",
     "output_type": "stream",
     "text": [
      "[Parallel(n_jobs=3)]: Done  44 tasks      | elapsed:    0.0s\n",
      "[Parallel(n_jobs=3)]: Done 100 out of 100 | elapsed:    0.0s finished\n"
     ]
    },
    {
     "name": "stdout",
     "output_type": "stream",
     "text": [
      "Model Number: 61 with model Theta in generation 0 of 10\n",
      "Model Number: 62 with model UnivariateRegression in generation 0 of 10\n",
      "Template Eval Error: ValueError(\"Input contains NaN, infinity or a value too large for dtype('float32').\") in model 62: UnivariateRegression\n",
      "Model Number: 63 with model ARCH in generation 0 of 10\n",
      "Template Eval Error: ImportError('`arch` package must be installed from pip') in model 63: ARCH\n",
      "Model Number: 64 with model ConstantNaive in generation 0 of 10\n",
      "Model Number: 65 with model LastValueNaive in generation 0 of 10\n",
      "Model Number: 66 with model AverageValueNaive in generation 0 of 10\n",
      "Model Number: 67 with model GLS in generation 0 of 10\n",
      "Model Number: 68 with model SeasonalNaive in generation 0 of 10\n",
      "Model Number: 69 with model GLM in generation 0 of 10\n",
      "Template Eval Error: ValueError('regression_type=user and no future_regressor passed') in model 69: GLM\n",
      "Model Number: 70 with model ETS in generation 0 of 10\n",
      "ETS error ValueError('endog must be strictly positive when usingmultiplicative trend or seasonal components.')\n",
      "ETS failed on Thousands of Passengers with ValueError('endog must be strictly positive when usingmultiplicative trend or seasonal components.')\n",
      "Model Number: 71 with model FBProphet in generation 0 of 10\n"
     ]
    },
    {
     "name": "stderr",
     "output_type": "stream",
     "text": [
      "22:46:27 - cmdstanpy - INFO - Chain [1] start processing\n",
      "22:46:27 - cmdstanpy - INFO - Chain [1] done processing\n"
     ]
    },
    {
     "name": "stdout",
     "output_type": "stream",
     "text": [
      "Model Number: 72 with model GluonTS in generation 0 of 10\n",
      "Template Eval Error: ImportError('GluonTS installation not found or installed version is incompatible with AutoTS.') in model 72: GluonTS\n",
      "Model Number: 73 with model UnobservedComponents in generation 0 of 10\n",
      "Model Number: 74 with model VAR in generation 0 of 10\n",
      "No anomalies detected.\n",
      "Template Eval Error: ValueError('Only gave one variable to VAR') in model 74: VAR\n",
      "Model Number: 75 with model VECM in generation 0 of 10\n",
      "Template Eval Error: ValueError(\"regression_type='User' but no future_regressor supplied\") in model 75: VECM\n",
      "Model Number: 76 with model ARIMA in generation 0 of 10\n",
      "Model Number: 77 with model WindowRegression in generation 0 of 10\n",
      "Model Number: 78 with model DatepartRegression in generation 0 of 10\n",
      "Template Eval Error: ValueError(\"regression_type='User' but no future_regressor passed\") in model 78: DatepartRegression\n",
      "Model Number: 79 with model UnivariateRegression in generation 0 of 10\n",
      "Template Eval Error: ValueError(\"Input contains NaN, infinity or a value too large for dtype('float32').\") in model 79: UnivariateRegression\n",
      "Model Number: 80 with model MultivariateRegression in generation 0 of 10\n",
      "Model Number: 81 with model UnivariateMotif in generation 0 of 10\n",
      "No anomalies detected.\n",
      "Model Number: 82 with model MultivariateMotif in generation 0 of 10\n",
      "Model Number: 83 with model SectionalMotif in generation 0 of 10\n",
      "Model Number: 84 with model NVAR in generation 0 of 10\n",
      "Model Number: 85 with model Theta in generation 0 of 10\n",
      "Model Number: 86 with model ARDL in generation 0 of 10\n",
      "Model Number: 87 with model ARCH in generation 0 of 10\n",
      "Template Eval Error: ImportError('`arch` package must be installed from pip') in model 87: ARCH\n",
      "Model Number: 88 with model MetricMotif in generation 0 of 10\n",
      "Model Number: 89 with model MultivariateMotif in generation 0 of 10\n",
      "Model Number: 90 with model VAR in generation 0 of 10\n",
      "Template Eval Error: ValueError('Only gave one variable to VAR') in model 90: VAR\n",
      "Model Number: 91 with model DatepartRegression in generation 0 of 10\n",
      "Template Eval Error: ValueError('Model DatepartRegression returned NaN for one or more series. fail_on_forecast_nan=True') in model 91: DatepartRegression\n",
      "Model Number: 92 with model VAR in generation 0 of 10\n",
      "Template Eval Error: ValueError('Only gave one variable to VAR') in model 92: VAR\n",
      "Model Number: 93 with model UnivariateMotif in generation 0 of 10\n",
      "Model Number: 94 with model UnivariateRegression in generation 0 of 10\n"
     ]
    },
    {
     "name": "stderr",
     "output_type": "stream",
     "text": [
      "c:\\Python310\\lib\\site-packages\\sklearn\\neighbors\\_regression.py:470: UserWarning: One or more samples have no neighbors within specified radius; predicting NaN.\n",
      "  warnings.warn(empty_warning_msg)\n"
     ]
    },
    {
     "name": "stdout",
     "output_type": "stream",
     "text": [
      "Model Number: 95 with model AverageValueNaive in generation 0 of 10\n",
      "Model Number: 96 with model VAR in generation 0 of 10\n",
      "Template Eval Error: ValueError('Only gave one variable to VAR') in model 96: VAR\n",
      "Model Number: 97 with model DatepartRegression in generation 0 of 10\n",
      "Template Eval Error: ValueError(\"regression_type='User' but no future_regressor passed\") in model 97: DatepartRegression\n",
      "Model Number: 98 with model MetricMotif in generation 0 of 10\n",
      "Model Number: 99 with model VAR in generation 0 of 10\n",
      "Template Eval Error: ValueError('Only gave one variable to VAR') in model 99: VAR\n",
      "Model Number: 100 with model GLM in generation 0 of 10\n",
      "Model Number: 101 with model ARCH in generation 0 of 10\n",
      "Template Eval Error: ImportError('`arch` package must be installed from pip') in model 101: ARCH\n",
      "Model Number: 102 with model VAR in generation 0 of 10\n",
      "Template Eval Error: ValueError('Only gave one variable to VAR') in model 102: VAR\n",
      "Model Number: 103 with model SeasonalNaive in generation 0 of 10\n",
      "Model Number: 104 with model UnobservedComponents in generation 0 of 10\n",
      "Template Eval Error: ValueError(\"regression_type='User' but no future_regressor supplied\") in model 104: UnobservedComponents\n",
      "Model Number: 105 with model ConstantNaive in generation 0 of 10\n",
      "Model Number: 106 with model ETS in generation 0 of 10\n",
      "ETS error ValueError('endog must be strictly positive when usingmultiplicative trend or seasonal components.')\n",
      "ETS failed on Thousands of Passengers with ValueError('endog must be strictly positive when usingmultiplicative trend or seasonal components.')\n",
      "Model Number: 107 with model ConstantNaive in generation 0 of 10\n",
      "Model Number: 108 with model VAR in generation 0 of 10\n",
      "Template Eval Error: ValueError('Only gave one variable to VAR') in model 108: VAR\n",
      "Model Number: 109 with model ARDL in generation 0 of 10\n",
      "Model Number: 110 with model AverageValueNaive in generation 0 of 10\n",
      "Model Number: 111 with model NVAR in generation 0 of 10\n",
      "Model Number: 112 with model FBProphet in generation 0 of 10\n"
     ]
    },
    {
     "name": "stderr",
     "output_type": "stream",
     "text": [
      "22:46:47 - cmdstanpy - INFO - Chain [1] start processing\n",
      "22:46:47 - cmdstanpy - INFO - Chain [1] done processing\n"
     ]
    },
    {
     "name": "stdout",
     "output_type": "stream",
     "text": [
      "Model Number: 113 with model SeasonalNaive in generation 0 of 10\n",
      "Model Number: 114 with model ETS in generation 0 of 10\n",
      "Model Number: 115 with model VAR in generation 0 of 10\n",
      "Template Eval Error: ValueError('Only gave one variable to VAR') in model 115: VAR\n",
      "Model Number: 116 with model MultivariateMotif in generation 0 of 10\n",
      "Model Number: 117 with model GLM in generation 0 of 10\n",
      "Template Eval Error: ValueError('The first guess on the deviance function returned a nan.  This could be a boundary  problem and should be reported.') in model 117: GLM\n",
      "Model Number: 118 with model VECM in generation 0 of 10\n",
      "Template Eval Error: ValueError('Only gave one variable to VECM') in model 118: VECM\n",
      "Model Number: 119 with model LastValueNaive in generation 0 of 10\n",
      "Model Number: 120 with model ARCH in generation 0 of 10\n",
      "Template Eval Error: ImportError('`arch` package must be installed from pip') in model 120: ARCH\n",
      "Model Number: 121 with model MultivariateMotif in generation 0 of 10\n"
     ]
    },
    {
     "name": "stderr",
     "output_type": "stream",
     "text": [
      "c:\\Python310\\lib\\site-packages\\statsmodels\\genmod\\families\\family.py:1346: RuntimeWarning: invalid value encountered in log\n",
      "  resid_dev -= endog_alpha * np.log(endog_alpha / mu_alpha)\n"
     ]
    },
    {
     "name": "stdout",
     "output_type": "stream",
     "text": [
      "Model Number: 122 with model ETS in generation 0 of 10\n",
      "Model Number: 123 with model Theta in generation 0 of 10\n",
      "Model Number: 124 with model MultivariateMotif in generation 0 of 10\n",
      "Model Number: 125 with model UnivariateMotif in generation 0 of 10\n",
      "Model Number: 126 with model GLM in generation 0 of 10\n",
      "Model Number: 127 with model ARIMA in generation 0 of 10\n",
      "Template Eval Error: ValueError(\"regression_type='User' but future_regressor not supplied\") in model 127: ARIMA\n",
      "Model Number: 128 with model VAR in generation 0 of 10\n",
      "Template Eval Error: ValueError('Only gave one variable to VAR') in model 128: VAR\n",
      "Model Number: 129 with model Theta in generation 0 of 10\n",
      "Model Number: 130 with model SeasonalNaive in generation 0 of 10\n",
      "Model Number: 131 with model SeasonalNaive in generation 0 of 10\n",
      "Model Number: 132 with model ARCH in generation 0 of 10\n",
      "Template Eval Error: ImportError('`arch` package must be installed from pip') in model 132: ARCH\n",
      "Model Number: 133 with model VECM in generation 0 of 10\n",
      "Template Eval Error: ValueError('Only gave one variable to VECM') in model 133: VECM\n",
      "Model Number: 134 with model VAR in generation 0 of 10\n",
      "Template Eval Error: ValueError('Only gave one variable to VAR') in model 134: VAR\n",
      "Model Number: 135 with model MetricMotif in generation 0 of 10\n",
      "Model Number: 136 with model VECM in generation 0 of 10\n",
      "Template Eval Error: ValueError('Only gave one variable to VECM') in model 136: VECM\n",
      "Model Number: 137 with model ETS in generation 0 of 10\n",
      "ETS error ValueError('endog must be strictly positive when usingmultiplicative trend or seasonal components.')\n",
      "ETS failed on Thousands of Passengers with ValueError('endog must be strictly positive when usingmultiplicative trend or seasonal components.')\n",
      "Model Number: 138 with model SeasonalNaive in generation 0 of 10\n",
      "Model Number: 139 with model NVAR in generation 0 of 10\n",
      "Model Number: 140 with model SeasonalNaive in generation 0 of 10\n",
      "Model Number: 141 with model UnobservedComponents in generation 0 of 10\n",
      "Model Number: 142 with model LastValueNaive in generation 0 of 10\n",
      "Model Number: 143 with model VAR in generation 0 of 10\n",
      "Template Eval Error: ValueError('Only gave one variable to VAR') in model 143: VAR\n",
      "Model Number: 144 with model UnivariateMotif in generation 0 of 10\n",
      "Model Number: 145 with model NVAR in generation 0 of 10\n",
      "Model Number: 146 with model VAR in generation 0 of 10\n",
      "Template Eval Error: ValueError('Only gave one variable to VAR') in model 146: VAR\n",
      "Model Number: 147 with model GLS in generation 0 of 10\n",
      "Model Number: 148 with model Theta in generation 0 of 10\n",
      "Model Number: 149 with model UnivariateMotif in generation 0 of 10\n",
      "Model Number: 150 with model UnivariateMotif in generation 0 of 10\n",
      "Model Number: 151 with model MetricMotif in generation 0 of 10\n",
      "Model Number: 152 with model SectionalMotif in generation 0 of 10\n",
      "Template Eval Error: ValueError(\"regression_type=='User' but no future_regressor supplied\") in model 152: SectionalMotif\n",
      "Model Number: 153 with model ARCH in generation 0 of 10\n",
      "Template Eval Error: ImportError('`arch` package must be installed from pip') in model 153: ARCH\n",
      "Model Number: 154 with model ARDL in generation 0 of 10\n",
      "Template Eval Error: ValueError(\"regression_type='User' but future_regressor not supplied\") in model 154: ARDL\n",
      "Model Number: 155 with model SeasonalNaive in generation 0 of 10\n",
      "Model Number: 156 with model MultivariateMotif in generation 0 of 10\n",
      "Model Number: 157 with model ARCH in generation 0 of 10\n",
      "Template Eval Error: ImportError('`arch` package must be installed from pip') in model 157: ARCH\n",
      "Model Number: 158 with model MetricMotif in generation 0 of 10\n",
      "Model Number: 159 with model UnivariateMotif in generation 0 of 10\n",
      "Model Number: 160 with model MultivariateMotif in generation 0 of 10\n",
      "Model Number: 161 with model UnivariateMotif in generation 0 of 10\n",
      "Model Number: 162 with model VECM in generation 0 of 10\n",
      "Template Eval Error: ValueError('Only gave one variable to VECM') in model 162: VECM\n",
      "Model Number: 163 with model MultivariateMotif in generation 0 of 10\n",
      "Model Number: 164 with model UnivariateMotif in generation 0 of 10\n",
      "Model Number: 165 with model ARIMA in generation 0 of 10\n",
      "Template Eval Error: ValueError(\"regression_type='User' but future_regressor not supplied\") in model 165: ARIMA\n",
      "Model Number: 166 with model AverageValueNaive in generation 0 of 10\n",
      "Model Number: 167 with model MultivariateMotif in generation 0 of 10\n",
      "Model Number: 168 with model Theta in generation 0 of 10\n",
      "Model Number: 169 with model GLM in generation 0 of 10\n",
      "Model Number: 170 with model UnivariateMotif in generation 0 of 10\n",
      "Model Number: 171 with model ARDL in generation 0 of 10\n",
      "Template Eval Error: ValueError(\"regression_type='User' but future_regressor not supplied\") in model 171: ARDL\n",
      "Model Number: 172 with model ARCH in generation 0 of 10\n",
      "Template Eval Error: ImportError('`arch` package must be installed from pip') in model 172: ARCH\n",
      "Model Number: 173 with model GLM in generation 0 of 10\n",
      "No anomalies detected.\n",
      "Model Number: 174 with model ARDL in generation 0 of 10\n",
      "Template Eval Error: ValueError(\"regression_type='User' but future_regressor not supplied\") in model 174: ARDL\n",
      "Model Number: 175 with model GluonTS in generation 0 of 10\n",
      "Template Eval Error: ImportError('GluonTS installation not found or installed version is incompatible with AutoTS.') in model 175: GluonTS\n",
      "Model Number: 176 with model ARIMA in generation 0 of 10\n",
      "Model Number: 177 with model ARIMA in generation 0 of 10\n",
      "Model Number: 178 with model ConstantNaive in generation 0 of 10\n",
      "Model Number: 179 with model GLM in generation 0 of 10\n"
     ]
    },
    {
     "name": "stderr",
     "output_type": "stream",
     "text": [
      "c:\\Python310\\lib\\site-packages\\statsmodels\\genmod\\families\\links.py:187: RuntimeWarning: overflow encountered in exp\n",
      "  t = np.exp(-z)\n"
     ]
    },
    {
     "name": "stdout",
     "output_type": "stream",
     "text": [
      "Model Number: 180 with model UnobservedComponents in generation 0 of 10\n",
      "Model Number: 181 with model SeasonalNaive in generation 0 of 10\n",
      "Model Number: 182 with model LastValueNaive in generation 0 of 10\n",
      "Model Number: 183 with model DatepartRegression in generation 0 of 10\n",
      "Model Number: 184 with model ARIMA in generation 0 of 10\n",
      "Template Eval Error: ValueError(\"regression_type='User' but future_regressor not supplied\") in model 184: ARIMA\n",
      "Model Number: 185 with model MultivariateRegression in generation 0 of 10\n",
      "Model Number: 186 with model AverageValueNaive in generation 0 of 10\n",
      "Model Number: 187 with model ETS in generation 0 of 10\n",
      "Model Number: 188 with model ETS in generation 0 of 10\n",
      "ETS error ValueError('Cannot compute initial seasonals using heuristic method with less than two full seasonal cycles in the data.')\n",
      "ETS failed on Thousands of Passengers with ValueError('Cannot compute initial seasonals using heuristic method with less than two full seasonal cycles in the data.')\n",
      "New Generation: 1 of 10\n",
      "Model Number: 189 with model MetricMotif in generation 1 of 10\n",
      "Model Number: 190 with model MetricMotif in generation 1 of 10\n",
      "Model Number: 191 with model MultivariateMotif in generation 1 of 10\n",
      "Model Number: 192 with model GLM in generation 1 of 10\n",
      "Model Number: 193 with model UnivariateRegression in generation 1 of 10\n"
     ]
    },
    {
     "name": "stderr",
     "output_type": "stream",
     "text": [
      "c:\\Python310\\lib\\site-packages\\statsmodels\\genmod\\families\\links.py:187: RuntimeWarning: overflow encountered in exp\n",
      "  t = np.exp(-z)\n"
     ]
    },
    {
     "name": "stdout",
     "output_type": "stream",
     "text": [
      "Model Number: 194 with model MetricMotif in generation 1 of 10\n",
      "Model Number: 195 with model GLM in generation 1 of 10\n",
      "No anomalies detected.\n",
      "Model Number: 196 with model MultivariateMotif in generation 1 of 10\n",
      "Template Eval Error: Exception('Transformer Cointegration failed on fit') in model 196: MultivariateMotif\n",
      "Model Number: 197 with model SeasonalNaive in generation 1 of 10\n",
      "Model Number: 198 with model UnivariateMotif in generation 1 of 10\n",
      "Model Number: 199 with model MultivariateRegression in generation 1 of 10\n"
     ]
    },
    {
     "name": "stderr",
     "output_type": "stream",
     "text": [
      "c:\\Python310\\lib\\site-packages\\numpy\\lib\\function_base.py:2845: RuntimeWarning: Degrees of freedom <= 0 for slice\n",
      "  c = cov(x, y, rowvar, dtype=dtype)\n"
     ]
    },
    {
     "name": "stdout",
     "output_type": "stream",
     "text": [
      "Template Eval Error: ValueError('array must not contain infs or NaNs') in model 199: MultivariateRegression\n",
      "Model Number: 200 with model ARIMA in generation 1 of 10\n",
      "Model Number: 201 with model ETS in generation 1 of 10\n",
      "ETS error ValueError('endog must be strictly positive when usingmultiplicative trend or seasonal components.')\n",
      "ETS failed on Thousands of Passengers with ValueError('endog must be strictly positive when usingmultiplicative trend or seasonal components.')\n",
      "Model Number: 202 with model GLM in generation 1 of 10\n",
      "Template Eval Error: Exception('Transformer MinMaxScaler failed on inverse') in model 202: GLM\n",
      "Model Number: 203 with model MultivariateRegression in generation 1 of 10\n"
     ]
    },
    {
     "name": "stderr",
     "output_type": "stream",
     "text": [
      "c:\\Python310\\lib\\site-packages\\statsmodels\\genmod\\families\\family.py:1342: RuntimeWarning: divide by zero encountered in divide\n",
      "  endog_mu = self._clean(endog / mu)\n",
      "c:\\Python310\\lib\\site-packages\\statsmodels\\genmod\\families\\links.py:516: RuntimeWarning: overflow encountered in exp\n",
      "  return np.exp(z)\n",
      "c:\\Python310\\lib\\site-packages\\statsmodels\\genmod\\families\\family.py:1346: RuntimeWarning: divide by zero encountered in log\n",
      "  resid_dev -= endog_alpha * np.log(endog_alpha / mu_alpha)\n"
     ]
    },
    {
     "name": "stdout",
     "output_type": "stream",
     "text": [
      "Model Number: 204 with model WindowRegression in generation 1 of 10\n",
      "Model Number: 205 with model GLM in generation 1 of 10\n",
      "Template Eval Error: ValueError('The first guess on the deviance function returned a nan.  This could be a boundary  problem and should be reported.') in model 205: GLM\n",
      "Model Number: 206 with model NVAR in generation 1 of 10\n",
      "Model Number: 207 with model Theta in generation 1 of 10\n"
     ]
    },
    {
     "name": "stderr",
     "output_type": "stream",
     "text": [
      "c:\\Python310\\lib\\site-packages\\statsmodels\\genmod\\families\\family.py:1346: RuntimeWarning: invalid value encountered in log\n",
      "  resid_dev -= endog_alpha * np.log(endog_alpha / mu_alpha)\n"
     ]
    },
    {
     "name": "stdout",
     "output_type": "stream",
     "text": [
      "Model Number: 208 with model UnivariateMotif in generation 1 of 10\n",
      "Model Number: 209 with model LastValueNaive in generation 1 of 10\n",
      "Model Number: 210 with model WindowRegression in generation 1 of 10\n",
      "Model Number: 211 with model MultivariateMotif in generation 1 of 10\n",
      "Model Number: 212 with model ETS in generation 1 of 10\n",
      "Model Number: 213 with model NVAR in generation 1 of 10\n",
      "Model Number: 214 with model UnivariateRegression in generation 1 of 10\n",
      "Template Eval Error: ValueError(\"regression_type='User' but not future_regressor supplied.\") in model 214: UnivariateRegression\n",
      "Model Number: 215 with model MultivariateMotif in generation 1 of 10\n",
      "Model Number: 216 with model LastValueNaive in generation 1 of 10\n",
      "Model Number: 217 with model MetricMotif in generation 1 of 10\n",
      "Model Number: 218 with model AverageValueNaive in generation 1 of 10\n",
      "Model Number: 219 with model UnivariateMotif in generation 1 of 10\n",
      "Model Number: 220 with model NVAR in generation 1 of 10\n",
      "Model Number: 221 with model AverageValueNaive in generation 1 of 10\n",
      "Model Number: 222 with model ETS in generation 1 of 10\n",
      "ETS error ValueError('endog must be strictly positive when usingmultiplicative trend or seasonal components.')\n",
      "ETS failed on Thousands of Passengers with ValueError('endog must be strictly positive when usingmultiplicative trend or seasonal components.')\n",
      "Model Number: 223 with model ARIMA in generation 1 of 10\n",
      "No anomalies detected.\n"
     ]
    },
    {
     "name": "stderr",
     "output_type": "stream",
     "text": [
      "c:\\Python310\\lib\\site-packages\\sklearn\\linear_model\\_ridge.py:157: LinAlgWarning: Ill-conditioned matrix (rcond=8.24807e-25): result may not be accurate.\n",
      "  return linalg.solve(A, Xy, sym_pos=True, overwrite_a=True).T\n"
     ]
    },
    {
     "name": "stdout",
     "output_type": "stream",
     "text": [
      "Template Eval Error: ValueError(\"regression_type='User' but future_regressor not supplied\") in model 223: ARIMA\n",
      "Model Number: 224 with model NVAR in generation 1 of 10\n",
      "Model Number: 225 with model ETS in generation 1 of 10\n",
      "Model Number: 226 with model ETS in generation 1 of 10\n",
      "ETS error ValueError('endog must be strictly positive when usingmultiplicative trend or seasonal components.')\n",
      "ETS failed on Thousands of Passengers with ValueError('endog must be strictly positive when usingmultiplicative trend or seasonal components.')\n",
      "Model Number: 227 with model DatepartRegression in generation 1 of 10\n",
      "Template Eval Error: ValueError(\"regression_type='User' but no future_regressor passed\") in model 227: DatepartRegression\n",
      "Model Number: 228 with model MultivariateMotif in generation 1 of 10\n",
      "Template Eval Error: ValueError('Model MultivariateMotif returned NaN for one or more series. fail_on_forecast_nan=True') in model 228: MultivariateMotif\n",
      "Model Number: 229 with model SeasonalNaive in generation 1 of 10\n",
      "Model Number: 230 with model MetricMotif in generation 1 of 10\n"
     ]
    },
    {
     "name": "stderr",
     "output_type": "stream",
     "text": [
      "c:\\Python310\\lib\\site-packages\\numpy\\core\\_methods.py:48: RuntimeWarning: invalid value encountered in reduce\n",
      "  return umr_sum(a, axis, dtype, out, keepdims, initial, where)\n"
     ]
    },
    {
     "name": "stdout",
     "output_type": "stream",
     "text": [
      "Model Number: 231 with model SeasonalNaive in generation 1 of 10\n",
      "Model Number: 232 with model ARDL in generation 1 of 10\n",
      "Model Number: 233 with model ARIMA in generation 1 of 10\n",
      "Model Number: 234 with model Theta in generation 1 of 10\n",
      "Model Number: 235 with model DatepartRegression in generation 1 of 10\n",
      "Model Number: 236 with model Theta in generation 1 of 10\n",
      "Model Number: 237 with model ARIMA in generation 1 of 10\n",
      "Model Number: 238 with model SeasonalNaive in generation 1 of 10\n",
      "Model Number: 239 with model GLM in generation 1 of 10\n"
     ]
    },
    {
     "name": "stderr",
     "output_type": "stream",
     "text": [
      "c:\\Python310\\lib\\site-packages\\statsmodels\\genmod\\families\\links.py:187: RuntimeWarning: overflow encountered in exp\n",
      "  t = np.exp(-z)\n"
     ]
    },
    {
     "name": "stdout",
     "output_type": "stream",
     "text": [
      "Model Number: 240 with model GLM in generation 1 of 10\n",
      "Model Number: 241 with model WindowRegression in generation 1 of 10\n",
      "Model Number: 242 with model DatepartRegression in generation 1 of 10\n"
     ]
    },
    {
     "name": "stderr",
     "output_type": "stream",
     "text": [
      "[Parallel(n_jobs=-2)]: Using backend ThreadingBackend with 3 concurrent workers.\n",
      "[Parallel(n_jobs=-2)]: Done  44 tasks      | elapsed:    0.0s\n",
      "[Parallel(n_jobs=-2)]: Done 194 tasks      | elapsed:    0.2s\n",
      "[Parallel(n_jobs=-2)]: Done 300 out of 300 | elapsed:    0.4s finished\n",
      "[Parallel(n_jobs=3)]: Using backend ThreadingBackend with 3 concurrent workers.\n",
      "[Parallel(n_jobs=3)]: Done  44 tasks      | elapsed:    0.0s\n",
      "[Parallel(n_jobs=3)]: Done 194 tasks      | elapsed:    0.0s\n",
      "[Parallel(n_jobs=3)]: Done 300 out of 300 | elapsed:    0.0s finished\n"
     ]
    },
    {
     "name": "stdout",
     "output_type": "stream",
     "text": [
      "Model Number: 243 with model Theta in generation 1 of 10\n",
      "Model Number: 244 with model LastValueNaive in generation 1 of 10\n",
      "Model Number: 245 with model ConstantNaive in generation 1 of 10\n",
      "Model Number: 246 with model LastValueNaive in generation 1 of 10\n",
      "Model Number: 247 with model DatepartRegression in generation 1 of 10\n",
      "Model Number: 248 with model SectionalMotif in generation 1 of 10\n",
      "Model Number: 249 with model DatepartRegression in generation 1 of 10\n",
      "Model Number: 250 with model ETS in generation 1 of 10\n"
     ]
    },
    {
     "name": "stderr",
     "output_type": "stream",
     "text": [
      "c:\\Python310\\lib\\site-packages\\sklearn\\linear_model\\_ridge.py:157: LinAlgWarning: Ill-conditioned matrix (rcond=8.24807e-25): result may not be accurate.\n",
      "  return linalg.solve(A, Xy, sym_pos=True, overwrite_a=True).T\n"
     ]
    },
    {
     "name": "stdout",
     "output_type": "stream",
     "text": [
      "Model Number: 251 with model LastValueNaive in generation 1 of 10\n",
      "Model Number: 252 with model MetricMotif in generation 1 of 10\n",
      "Model Number: 253 with model SeasonalNaive in generation 1 of 10\n",
      "Model Number: 254 with model MultivariateRegression in generation 1 of 10\n",
      "Model Number: 255 with model MultivariateMotif in generation 1 of 10\n",
      "Model Number: 256 with model ETS in generation 1 of 10\n",
      "Model Number: 257 with model MetricMotif in generation 1 of 10\n",
      "Model Number: 258 with model UnobservedComponents in generation 1 of 10\n",
      "Model Number: 259 with model UnobservedComponents in generation 1 of 10\n",
      "Model Number: 260 with model MultivariateRegression in generation 1 of 10\n"
     ]
    },
    {
     "name": "stderr",
     "output_type": "stream",
     "text": [
      "c:\\Python310\\lib\\site-packages\\numpy\\lib\\function_base.py:2845: RuntimeWarning: Degrees of freedom <= 0 for slice\n",
      "  c = cov(x, y, rowvar, dtype=dtype)\n",
      "[Parallel(n_jobs=-2)]: Using backend ThreadingBackend with 3 concurrent workers.\n",
      "[Parallel(n_jobs=-2)]: Done  44 tasks      | elapsed:    0.0s\n",
      "[Parallel(n_jobs=-2)]: Done 194 tasks      | elapsed:    0.2s\n",
      "[Parallel(n_jobs=-2)]: Done 200 out of 200 | elapsed:    0.2s finished\n",
      "c:\\Python310\\lib\\site-packages\\numpy\\lib\\function_base.py:2845: RuntimeWarning: Degrees of freedom <= 0 for slice\n",
      "  c = cov(x, y, rowvar, dtype=dtype)\n"
     ]
    },
    {
     "name": "stdout",
     "output_type": "stream",
     "text": [
      "Template Eval Error: ValueError(\"Input contains NaN, infinity or a value too large for dtype('float32').\") in model 260: MultivariateRegression\n",
      "Model Number: 261 with model MultivariateRegression in generation 1 of 10\n",
      "Template Eval Error: ValueError(\"regression_type='User' but not future_regressor supplied.\") in model 261: MultivariateRegression\n",
      "Model Number: 262 with model UnivariateMotif in generation 1 of 10\n",
      "Template Eval Error: Exception('Transformer BTCD failed on fit') in model 262: UnivariateMotif\n",
      "Model Number: 263 with model Theta in generation 1 of 10\n",
      "Model Number: 264 with model LastValueNaive in generation 1 of 10\n",
      "Model Number: 265 with model MultivariateMotif in generation 1 of 10\n",
      "Model Number: 266 with model UnivariateMotif in generation 1 of 10\n",
      "Model Number: 267 with model ARIMA in generation 1 of 10\n",
      "Model Number: 268 with model Theta in generation 1 of 10\n",
      "Model Number: 269 with model ARIMA in generation 1 of 10\n",
      "Model Number: 270 with model MultivariateRegression in generation 1 of 10\n",
      "Model Number: 271 with model GLM in generation 1 of 10\n",
      "Model Number: 272 with model UnobservedComponents in generation 1 of 10\n",
      "Model Number: 273 with model ARIMA in generation 1 of 10\n",
      "Model Number: 274 with model UnivariateMotif in generation 1 of 10\n",
      "No anomalies detected.\n",
      "Model Number: 275 with model Theta in generation 1 of 10\n",
      "Model Number: 276 with model ETS in generation 1 of 10\n",
      "Model Number: 277 with model ETS in generation 1 of 10\n",
      "ETS error ValueError('endog must be strictly positive when usingmultiplicative trend or seasonal components.')\n",
      "ETS failed on Thousands of Passengers with ValueError('endog must be strictly positive when usingmultiplicative trend or seasonal components.')\n",
      "Model Number: 278 with model DatepartRegression in generation 1 of 10\n",
      "Model Number: 279 with model MetricMotif in generation 1 of 10\n",
      "Model Number: 280 with model FBProphet in generation 1 of 10\n"
     ]
    },
    {
     "name": "stderr",
     "output_type": "stream",
     "text": [
      "22:48:52 - cmdstanpy - INFO - Chain [1] start processing\n",
      "22:48:52 - cmdstanpy - INFO - Chain [1] done processing\n"
     ]
    },
    {
     "name": "stdout",
     "output_type": "stream",
     "text": [
      "Model Number: 281 with model AverageValueNaive in generation 1 of 10\n",
      "Model Number: 282 with model MultivariateMotif in generation 1 of 10\n",
      "Model Number: 283 with model ARIMA in generation 1 of 10\n",
      "Model Number: 284 with model FBProphet in generation 1 of 10\n"
     ]
    },
    {
     "name": "stderr",
     "output_type": "stream",
     "text": [
      "22:48:59 - cmdstanpy - INFO - Chain [1] start processing\n",
      "22:48:59 - cmdstanpy - INFO - Chain [1] done processing\n"
     ]
    },
    {
     "name": "stdout",
     "output_type": "stream",
     "text": [
      "Model Number: 285 with model WindowRegression in generation 1 of 10\n",
      "Model Number: 286 with model ARDL in generation 1 of 10\n",
      "Model Number: 287 with model ETS in generation 1 of 10\n",
      "Model Number: 288 with model WindowRegression in generation 1 of 10\n",
      "Model Number: 289 with model ARIMA in generation 1 of 10\n",
      "Model Number: 290 with model UnobservedComponents in generation 1 of 10\n",
      "Model Number: 291 with model FBProphet in generation 1 of 10\n"
     ]
    },
    {
     "name": "stderr",
     "output_type": "stream",
     "text": [
      "22:49:35 - cmdstanpy - INFO - Chain [1] start processing\n",
      "22:49:36 - cmdstanpy - INFO - Chain [1] done processing\n"
     ]
    },
    {
     "name": "stdout",
     "output_type": "stream",
     "text": [
      "Model Number: 292 with model Theta in generation 1 of 10\n",
      "Model Number: 293 with model DatepartRegression in generation 1 of 10\n",
      "Model Number: 294 with model ARDL in generation 1 of 10\n",
      "Model Number: 295 with model UnivariateMotif in generation 1 of 10\n",
      "Model Number: 296 with model Theta in generation 1 of 10\n",
      "Model Number: 297 with model MetricMotif in generation 1 of 10\n",
      "Model Number: 298 with model SectionalMotif in generation 1 of 10\n",
      "Model Number: 299 with model AverageValueNaive in generation 1 of 10\n",
      "Model Number: 300 with model MultivariateMotif in generation 1 of 10\n",
      "Model Number: 301 with model MultivariateMotif in generation 1 of 10\n",
      "Model Number: 302 with model ETS in generation 1 of 10\n",
      "ETS error ValueError('endog must be strictly positive when usingmultiplicative trend or seasonal components.')\n",
      "ETS failed on Thousands of Passengers with ValueError('endog must be strictly positive when usingmultiplicative trend or seasonal components.')\n",
      "Model Number: 303 with model ARIMA in generation 1 of 10\n",
      "Model Number: 304 with model UnivariateRegression in generation 1 of 10\n",
      "Model Number: 305 with model ETS in generation 1 of 10\n",
      "Model Number: 306 with model Theta in generation 1 of 10\n",
      "Model Number: 307 with model ARIMA in generation 1 of 10\n",
      "Model Number: 308 with model UnivariateMotif in generation 1 of 10\n",
      "Model Number: 309 with model ETS in generation 1 of 10\n",
      "ETS error ValueError('endog must be strictly positive when usingmultiplicative trend or seasonal components.')\n",
      "ETS failed on Thousands of Passengers with ValueError('endog must be strictly positive when usingmultiplicative trend or seasonal components.')\n",
      "Model Number: 310 with model AverageValueNaive in generation 1 of 10\n",
      "Model Number: 311 with model GLS in generation 1 of 10\n",
      "Model Number: 312 with model LastValueNaive in generation 1 of 10\n",
      "Model Number: 313 with model AverageValueNaive in generation 1 of 10\n",
      "New Generation: 2 of 10\n",
      "Model Number: 314 with model WindowRegression in generation 2 of 10\n",
      "Template Eval Error: ValueError(\"regression_type='User' but no future_regressor passed\") in model 314: WindowRegression\n",
      "Model Number: 315 with model MetricMotif in generation 2 of 10\n",
      "Model Number: 316 with model DatepartRegression in generation 2 of 10\n",
      "Model Number: 317 with model GLM in generation 2 of 10\n",
      "Template Eval Error: ValueError('The first guess on the deviance function returned a nan.  This could be a boundary  problem and should be reported.') in model 317: GLM\n",
      "Model Number: 318 with model MultivariateMotif in generation 2 of 10"
     ]
    },
    {
     "name": "stderr",
     "output_type": "stream",
     "text": [
      "c:\\Python310\\lib\\site-packages\\autots\\tools\\probabilistic.py:67: RuntimeWarning: invalid value encountered in divide\n",
      "  (prior_mu / prior_sigma**2) + ((n * data_mu) / prior_sigma**2)\n",
      "c:\\Python310\\lib\\site-packages\\autots\\tools\\probabilistic.py:68: RuntimeWarning: divide by zero encountered in divide\n",
      "  ) / ((1 / prior_sigma**2) + (n / prior_sigma**2))\n",
      "c:\\Python310\\lib\\site-packages\\statsmodels\\genmod\\families\\family.py:1346: RuntimeWarning: divide by zero encountered in log\n",
      "  resid_dev -= endog_alpha * np.log(endog_alpha / mu_alpha)\n",
      "c:\\Python310\\lib\\site-packages\\statsmodels\\genmod\\families\\family.py:1346: RuntimeWarning: invalid value encountered in log\n",
      "  resid_dev -= endog_alpha * np.log(endog_alpha / mu_alpha)\n",
      "c:\\Python310\\lib\\site-packages\\statsmodels\\genmod\\families\\family.py:1346: RuntimeWarning: invalid value encountered in multiply\n",
      "  resid_dev -= endog_alpha * np.log(endog_alpha / mu_alpha)\n"
     ]
    },
    {
     "name": "stdout",
     "output_type": "stream",
     "text": [
      "\n",
      "Model Number: 319 with model MetricMotif in generation 2 of 10\n",
      "Model Number: 320 with model UnobservedComponents in generation 2 of 10\n",
      "Model Number: 321 with model UnivariateRegression in generation 2 of 10\n",
      "Model Number: 322 with model Theta in generation 2 of 10\n",
      "Model Number: 323 with model UnivariateMotif in generation 2 of 10\n",
      "No anomalies detected.\n",
      "Model Number: 324 with model UnivariateRegression in generation 2 of 10\n",
      "Model Number: 325 with model Theta in generation 2 of 10\n",
      "Model Number: 326 with model WindowRegression in generation 2 of 10\n",
      "Model Number: 327 with model UnobservedComponents in generation 2 of 10\n",
      "Model Number: 328 with model MetricMotif in generation 2 of 10\n",
      "Model Number: 329 with model SectionalMotif in generation 2 of 10\n",
      "Model Number: 330 with model NVAR in generation 2 of 10\n",
      "Model Number: 331 with model AverageValueNaive in generation 2 of 10\n",
      "Model Number: 332 with model ETS in generation 2 of 10\n",
      "Model Number: 333 with model LastValueNaive in generation 2 of 10\n",
      "Model Number: 334 with model UnivariateRegression in generation 2 of 10\n",
      "Model Number: 335 with model FBProphet in generation 2 of 10\n"
     ]
    },
    {
     "name": "stderr",
     "output_type": "stream",
     "text": [
      "22:49:51 - cmdstanpy - INFO - Chain [1] start processing\n",
      "22:49:53 - cmdstanpy - INFO - Chain [1] done processing\n"
     ]
    },
    {
     "name": "stdout",
     "output_type": "stream",
     "text": [
      "Model Number: 336 with model MetricMotif in generation 2 of 10\n",
      "Model Number: 337 with model ETS in generation 2 of 10\n",
      "ETS error ValueError('endog must be strictly positive when usingmultiplicative trend or seasonal components.')\n",
      "ETS failed on 0 with ValueError('endog must be strictly positive when usingmultiplicative trend or seasonal components.')\n",
      "Model Number: 338 with model UnobservedComponents in generation 2 of 10\n",
      "Model Number: 339 with model UnivariateMotif in generation 2 of 10\n",
      "No anomalies detected.\n",
      "Model Number: 340 with model MetricMotif in generation 2 of 10\n",
      "Model Number: 341 with model MultivariateMotif in generation 2 of 10\n",
      "Model Number: 342 with model WindowRegression in generation 2 of 10\n",
      "Model Number: 343 with model Theta in generation 2 of 10\n",
      "Model Number: 344 with model UnivariateRegression in generation 2 of 10\n",
      "Model Number: 345 with model MultivariateRegression in generation 2 of 10\n",
      "Model Number: 346 with model SectionalMotif in generation 2 of 10\n",
      "Model Number: 347 with model Theta in generation 2 of 10\n",
      "Model Number: 348 with model MultivariateMotif in generation 2 of 10\n",
      "Model Number: 349 with model ETS in generation 2 of 10\n",
      "Model Number: 350 with model SectionalMotif in generation 2 of 10\n",
      "Model Number: 351 with model UnivariateMotif in generation 2 of 10\n",
      "No anomalies detected.\n",
      "Model Number: 352 with model MetricMotif in generation 2 of 10\n",
      "Model Number: 353 with model WindowRegression in generation 2 of 10\n",
      "Model Number: 354 with model DatepartRegression in generation 2 of 10\n",
      "Model Number: 355 with model GLM in generation 2 of 10\n",
      "Model Number: 356 with model MultivariateMotif in generation 2 of 10\n",
      "Model Number: 357 with model UnivariateRegression in generation 2 of 10\n",
      "Template Eval Error: ValueError(\"Input contains NaN, infinity or a value too large for dtype('float64').\") in model 357: UnivariateRegression\n",
      "Model Number: 358 with model ARIMA in generation 2 of 10\n",
      "Model Number: 359 with model ARIMA in generation 2 of 10\n",
      "Model Number: 360 with model MetricMotif in generation 2 of 10\n",
      "Model Number: 361 with model DatepartRegression in generation 2 of 10\n",
      "Model Number: 362 with model ARIMA in generation 2 of 10\n",
      "Model Number: 363 with model AverageValueNaive in generation 2 of 10\n",
      "Model Number: 364 with model Theta in generation 2 of 10\n",
      "Model Number: 365 with model Theta in generation 2 of 10\n",
      "No anomalies detected.\n",
      "Template Eval Error: Exception('Transformer HolidayTransformer failed on fit') in model 365: Theta\n",
      "Model Number: 366 with model MultivariateMotif in generation 2 of 10\n",
      "Model Number: 367 with model GLS in generation 2 of 10\n",
      "Model Number: 368 with model LastValueNaive in generation 2 of 10\n",
      "Model Number: 369 with model UnivariateMotif in generation 2 of 10\n",
      "Model Number: 370 with model Theta in generation 2 of 10\n",
      "Model Number: 371 with model SeasonalNaive in generation 2 of 10\n",
      "Model Number: 372 with model UnivariateMotif in generation 2 of 10\n",
      "Model Number: 373 with model AverageValueNaive in generation 2 of 10\n",
      "Model Number: 374 with model ARIMA in generation 2 of 10\n",
      "Model Number: 375 with model UnivariateMotif in generation 2 of 10\n",
      "No anomalies detected.\n",
      "Model Number: 376 with model MultivariateMotif in generation 2 of 10\n",
      "Model Number: 377 with model MultivariateRegression in generation 2 of 10\n",
      "[LightGBM] [Warning] Accuracy may be bad since you didn't explicitly set num_leaves OR 2^max_depth > num_leaves. (num_leaves=31).\n",
      "[LightGBM] [Warning] Accuracy may be bad since you didn't explicitly set num_leaves OR 2^max_depth > num_leaves. (num_leaves=31).\n",
      "[LightGBM] [Warning] Auto-choosing row-wise multi-threading, the overhead of testing was 0.000105 seconds.\n",
      "You can set `force_row_wise=true` to remove the overhead.\n",
      "And if memory is not enough, you can set `force_col_wise=true`.\n",
      "[LightGBM] [Warning] No further splits with positive gain, best gain: -inf\n",
      "[LightGBM] [Warning] No further splits with positive gain, best gain: -inf\n",
      "[LightGBM] [Warning] No further splits with positive gain, best gain: -inf\n",
      "[LightGBM] [Warning] No further splits with positive gain, best gain: -inf\n",
      "[LightGBM] [Warning] No further splits with positive gain, best gain: -inf\n",
      "[LightGBM] [Warning] No further splits with positive gain, best gain: -inf\n",
      "[LightGBM] [Warning] No further splits with positive gain, best gain: -inf\n",
      "[LightGBM] [Warning] No further splits with positive gain, best gain: -inf\n",
      "[LightGBM] [Warning] No further splits with positive gain, best gain: -inf\n",
      "[LightGBM] [Warning] No further splits with positive gain, best gain: -inf\n",
      "[LightGBM] [Warning] No further splits with positive gain, best gain: -inf\n",
      "[LightGBM] [Warning] No further splits with positive gain, best gain: -inf\n",
      "[LightGBM] [Warning] No further splits with positive gain, best gain: -inf\n",
      "[LightGBM] [Warning] No further splits with positive gain, best gain: -inf\n",
      "[LightGBM] [Warning] No further splits with positive gain, best gain: -inf\n",
      "[LightGBM] [Warning] No further splits with positive gain, best gain: -inf\n",
      "[LightGBM] [Warning] No further splits with positive gain, best gain: -inf\n",
      "[LightGBM] [Warning] No further splits with positive gain, best gain: -inf\n",
      "[LightGBM] [Warning] No further splits with positive gain, best gain: -inf\n",
      "[LightGBM] [Warning] No further splits with positive gain, best gain: -inf\n",
      "[LightGBM] [Warning] No further splits with positive gain, best gain: -inf\n",
      "[LightGBM] [Warning] No further splits with positive gain, best gain: -inf\n",
      "[LightGBM] [Warning] No further splits with positive gain, best gain: -inf\n",
      "[LightGBM] [Warning] No further splits with positive gain, best gain: -inf\n",
      "[LightGBM] [Warning] No further splits with positive gain, best gain: -inf\n",
      "[LightGBM] [Warning] No further splits with positive gain, best gain: -inf\n",
      "[LightGBM] [Warning] No further splits with positive gain, best gain: -inf\n",
      "[LightGBM] [Warning] No further splits with positive gain, best gain: -inf\n",
      "[LightGBM] [Warning] No further splits with positive gain, best gain: -inf\n",
      "[LightGBM] [Warning] No further splits with positive gain, best gain: -inf\n",
      "[LightGBM] [Warning] No further splits with positive gain, best gain: -inf\n",
      "[LightGBM] [Warning] No further splits with positive gain, best gain: -inf\n",
      "[LightGBM] [Warning] No further splits with positive gain, best gain: -inf\n",
      "[LightGBM] [Warning] No further splits with positive gain, best gain: -inf\n",
      "[LightGBM] [Warning] No further splits with positive gain, best gain: -inf\n",
      "[LightGBM] [Warning] No further splits with positive gain, best gain: -inf\n",
      "[LightGBM] [Warning] No further splits with positive gain, best gain: -inf\n",
      "[LightGBM] [Warning] No further splits with positive gain, best gain: -inf\n",
      "[LightGBM] [Warning] No further splits with positive gain, best gain: -inf\n",
      "[LightGBM] [Warning] No further splits with positive gain, best gain: -inf\n",
      "[LightGBM] [Warning] No further splits with positive gain, best gain: -inf\n",
      "[LightGBM] [Warning] No further splits with positive gain, best gain: -inf\n",
      "[LightGBM] [Warning] No further splits with positive gain, best gain: -inf\n",
      "[LightGBM] [Warning] No further splits with positive gain, best gain: -inf\n",
      "[LightGBM] [Warning] No further splits with positive gain, best gain: -inf\n",
      "[LightGBM] [Warning] No further splits with positive gain, best gain: -inf\n",
      "[LightGBM] [Warning] No further splits with positive gain, best gain: -inf\n",
      "[LightGBM] [Warning] No further splits with positive gain, best gain: -inf\n",
      "[LightGBM] [Warning] No further splits with positive gain, best gain: -inf\n",
      "[LightGBM] [Warning] No further splits with positive gain, best gain: -inf\n",
      "[LightGBM] [Warning] No further splits with positive gain, best gain: -inf\n",
      "[LightGBM] [Warning] No further splits with positive gain, best gain: -inf\n",
      "[LightGBM] [Warning] No further splits with positive gain, best gain: -inf\n",
      "[LightGBM] [Warning] No further splits with positive gain, best gain: -inf\n",
      "[LightGBM] [Warning] No further splits with positive gain, best gain: -inf\n",
      "[LightGBM] [Warning] No further splits with positive gain, best gain: -inf\n",
      "[LightGBM] [Warning] No further splits with positive gain, best gain: -inf\n",
      "[LightGBM] [Warning] No further splits with positive gain, best gain: -inf\n",
      "[LightGBM] [Warning] No further splits with positive gain, best gain: -inf\n",
      "[LightGBM] [Warning] No further splits with positive gain, best gain: -inf\n",
      "[LightGBM] [Warning] No further splits with positive gain, best gain: -inf\n",
      "[LightGBM] [Warning] No further splits with positive gain, best gain: -inf\n",
      "[LightGBM] [Warning] No further splits with positive gain, best gain: -inf\n",
      "[LightGBM] [Warning] No further splits with positive gain, best gain: -inf\n",
      "[LightGBM] [Warning] No further splits with positive gain, best gain: -inf\n",
      "[LightGBM] [Warning] No further splits with positive gain, best gain: -inf\n",
      "[LightGBM] [Warning] No further splits with positive gain, best gain: -inf\n",
      "[LightGBM] [Warning] No further splits with positive gain, best gain: -inf\n",
      "[LightGBM] [Warning] No further splits with positive gain, best gain: -inf\n",
      "[LightGBM] [Warning] No further splits with positive gain, best gain: -inf\n",
      "[LightGBM] [Warning] No further splits with positive gain, best gain: -inf\n",
      "[LightGBM] [Warning] No further splits with positive gain, best gain: -inf\n",
      "[LightGBM] [Warning] No further splits with positive gain, best gain: -inf\n",
      "[LightGBM] [Warning] No further splits with positive gain, best gain: -inf\n",
      "[LightGBM] [Warning] No further splits with positive gain, best gain: -inf\n",
      "[LightGBM] [Warning] No further splits with positive gain, best gain: -inf\n",
      "[LightGBM] [Warning] No further splits with positive gain, best gain: -inf\n",
      "[LightGBM] [Warning] No further splits with positive gain, best gain: -inf\n",
      "[LightGBM] [Warning] No further splits with positive gain, best gain: -inf\n",
      "[LightGBM] [Warning] No further splits with positive gain, best gain: -inf\n",
      "[LightGBM] [Warning] No further splits with positive gain, best gain: -inf\n",
      "[LightGBM] [Warning] No further splits with positive gain, best gain: -inf\n",
      "[LightGBM] [Warning] No further splits with positive gain, best gain: -inf\n",
      "[LightGBM] [Warning] No further splits with positive gain, best gain: -inf\n",
      "[LightGBM] [Warning] No further splits with positive gain, best gain: -inf\n",
      "[LightGBM] [Warning] No further splits with positive gain, best gain: -inf\n",
      "[LightGBM] [Warning] No further splits with positive gain, best gain: -inf\n",
      "[LightGBM] [Warning] No further splits with positive gain, best gain: -inf\n",
      "[LightGBM] [Warning] No further splits with positive gain, best gain: -inf\n",
      "[LightGBM] [Warning] No further splits with positive gain, best gain: -inf\n",
      "[LightGBM] [Warning] No further splits with positive gain, best gain: -inf\n",
      "[LightGBM] [Warning] No further splits with positive gain, best gain: -inf\n",
      "[LightGBM] [Warning] No further splits with positive gain, best gain: -inf\n",
      "[LightGBM] [Warning] No further splits with positive gain, best gain: -inf\n",
      "[LightGBM] [Warning] No further splits with positive gain, best gain: -inf\n",
      "[LightGBM] [Warning] No further splits with positive gain, best gain: -inf\n",
      "[LightGBM] [Warning] No further splits with positive gain, best gain: -inf\n",
      "[LightGBM] [Warning] No further splits with positive gain, best gain: -inf\n",
      "[LightGBM] [Warning] No further splits with positive gain, best gain: -inf\n",
      "[LightGBM] [Warning] No further splits with positive gain, best gain: -inf\n",
      "Model Number: 378 with model LastValueNaive in generation 2 of 10\n",
      "Model Number: 379 with model NVAR in generation 2 of 10\n",
      "Model Number: 380 with model Theta in generation 2 of 10\n",
      "Model Number: 381 with model SeasonalNaive in generation 2 of 10\n",
      "Model Number: 382 with model SeasonalNaive in generation 2 of 10\n",
      "Model Number: 383 with model GLS in generation 2 of 10\n",
      "Model Number: 384 with model Theta in generation 2 of 10\n",
      "Model Number: 385 with model ARDL in generation 2 of 10\n",
      "Model Number: 386 with model WindowRegression in generation 2 of 10\n",
      "Model Number: 387 with model AverageValueNaive in generation 2 of 10\n",
      "Model Number: 388 with model LastValueNaive in generation 2 of 10\n"
     ]
    },
    {
     "name": "stderr",
     "output_type": "stream",
     "text": [
      "c:\\Python310\\lib\\site-packages\\sklearn\\neural_network\\_multilayer_perceptron.py:549: ConvergenceWarning: lbfgs failed to converge (status=1):\n",
      "STOP: TOTAL NO. of ITERATIONS REACHED LIMIT.\n",
      "\n",
      "Increase the number of iterations (max_iter) or scale the data as shown in:\n",
      "    https://scikit-learn.org/stable/modules/preprocessing.html\n",
      "  self.n_iter_ = _check_optimize_result(\"lbfgs\", opt_res, self.max_iter)\n"
     ]
    },
    {
     "name": "stdout",
     "output_type": "stream",
     "text": [
      "Model Number: 389 with model WindowRegression in generation 2 of 10\n",
      "Model Number: 390 with model UnobservedComponents in generation 2 of 10\n",
      "Template Eval Error: ValueError(\"regression_type='User' but no future_regressor supplied\") in model 390: UnobservedComponents\n",
      "Model Number: 391 with model MultivariateRegression in generation 2 of 10\n"
     ]
    },
    {
     "name": "stderr",
     "output_type": "stream",
     "text": [
      "[Parallel(n_jobs=-2)]: Using backend ThreadingBackend with 3 concurrent workers.\n",
      "[Parallel(n_jobs=-2)]: Done  44 tasks      | elapsed:    0.0s\n",
      "[Parallel(n_jobs=-2)]: Done 194 tasks      | elapsed:    0.4s\n",
      "[Parallel(n_jobs=-2)]: Done 200 out of 200 | elapsed:    0.4s finished\n",
      "[Parallel(n_jobs=3)]: Using backend ThreadingBackend with 3 concurrent workers.\n",
      "[Parallel(n_jobs=3)]: Done  44 tasks      | elapsed:    0.0s\n",
      "[Parallel(n_jobs=3)]: Done 194 tasks      | elapsed:    0.0s\n",
      "[Parallel(n_jobs=3)]: Done 200 out of 200 | elapsed:    0.0s finished\n",
      "[Parallel(n_jobs=3)]: Using backend ThreadingBackend with 3 concurrent workers.\n",
      "[Parallel(n_jobs=3)]: Done  44 tasks      | elapsed:    0.0s\n",
      "[Parallel(n_jobs=3)]: Done 194 tasks      | elapsed:    0.0s\n",
      "[Parallel(n_jobs=3)]: Done 200 out of 200 | elapsed:    0.0s finished\n",
      "[Parallel(n_jobs=3)]: Using backend ThreadingBackend with 3 concurrent workers.\n",
      "[Parallel(n_jobs=3)]: Done  44 tasks      | elapsed:    0.0s\n",
      "[Parallel(n_jobs=3)]: Done 194 tasks      | elapsed:    0.0s\n",
      "[Parallel(n_jobs=3)]: Done 200 out of 200 | elapsed:    0.0s finished\n",
      "[Parallel(n_jobs=3)]: Using backend ThreadingBackend with 3 concurrent workers.\n",
      "[Parallel(n_jobs=3)]: Done  44 tasks      | elapsed:    0.0s\n",
      "[Parallel(n_jobs=3)]: Done 194 tasks      | elapsed:    0.0s\n",
      "[Parallel(n_jobs=3)]: Done 200 out of 200 | elapsed:    0.0s finished\n",
      "[Parallel(n_jobs=3)]: Using backend ThreadingBackend with 3 concurrent workers.\n",
      "[Parallel(n_jobs=3)]: Done  44 tasks      | elapsed:    0.0s\n",
      "[Parallel(n_jobs=3)]: Done 194 tasks      | elapsed:    0.0s\n",
      "[Parallel(n_jobs=3)]: Done 200 out of 200 | elapsed:    0.0s finished\n",
      "[Parallel(n_jobs=3)]: Using backend ThreadingBackend with 3 concurrent workers.\n",
      "[Parallel(n_jobs=3)]: Done  44 tasks      | elapsed:    0.0s\n",
      "[Parallel(n_jobs=3)]: Done 194 tasks      | elapsed:    0.0s\n",
      "[Parallel(n_jobs=3)]: Done 200 out of 200 | elapsed:    0.0s finished\n",
      "[Parallel(n_jobs=3)]: Using backend ThreadingBackend with 3 concurrent workers.\n",
      "[Parallel(n_jobs=3)]: Done  44 tasks      | elapsed:    0.0s\n",
      "[Parallel(n_jobs=3)]: Done 194 tasks      | elapsed:    0.0s\n",
      "[Parallel(n_jobs=3)]: Done 200 out of 200 | elapsed:    0.0s finished\n",
      "[Parallel(n_jobs=3)]: Using backend ThreadingBackend with 3 concurrent workers.\n",
      "[Parallel(n_jobs=3)]: Done  44 tasks      | elapsed:    0.0s\n",
      "[Parallel(n_jobs=3)]: Done 194 tasks      | elapsed:    0.0s\n",
      "[Parallel(n_jobs=3)]: Done 200 out of 200 | elapsed:    0.0s finished\n",
      "[Parallel(n_jobs=3)]: Using backend ThreadingBackend with 3 concurrent workers.\n",
      "[Parallel(n_jobs=3)]: Done  44 tasks      | elapsed:    0.0s\n",
      "[Parallel(n_jobs=3)]: Done 194 tasks      | elapsed:    0.0s\n",
      "[Parallel(n_jobs=3)]: Done 200 out of 200 | elapsed:    0.0s finished\n",
      "[Parallel(n_jobs=3)]: Using backend ThreadingBackend with 3 concurrent workers.\n",
      "[Parallel(n_jobs=3)]: Done  44 tasks      | elapsed:    0.0s\n",
      "[Parallel(n_jobs=3)]: Done 194 tasks      | elapsed:    0.0s\n",
      "[Parallel(n_jobs=3)]: Done 200 out of 200 | elapsed:    0.0s finished\n",
      "[Parallel(n_jobs=3)]: Using backend ThreadingBackend with 3 concurrent workers.\n",
      "[Parallel(n_jobs=3)]: Done  44 tasks      | elapsed:    0.0s\n",
      "[Parallel(n_jobs=3)]: Done 194 tasks      | elapsed:    0.0s\n",
      "[Parallel(n_jobs=3)]: Done 200 out of 200 | elapsed:    0.0s finished\n",
      "[Parallel(n_jobs=3)]: Using backend ThreadingBackend with 3 concurrent workers.\n",
      "[Parallel(n_jobs=3)]: Done  44 tasks      | elapsed:    0.0s\n",
      "[Parallel(n_jobs=3)]: Done 194 tasks      | elapsed:    0.0s\n",
      "[Parallel(n_jobs=3)]: Done 200 out of 200 | elapsed:    0.0s finished\n"
     ]
    },
    {
     "name": "stdout",
     "output_type": "stream",
     "text": [
      "Model Number: 392 with model FBProphet in generation 2 of 10\n",
      "No anomalies detected.\n"
     ]
    },
    {
     "name": "stderr",
     "output_type": "stream",
     "text": [
      "22:51:29 - cmdstanpy - INFO - Chain [1] start processing\n",
      "22:51:29 - cmdstanpy - INFO - Chain [1] done processing\n",
      "22:51:29 - cmdstanpy - ERROR - Chain [1] error: error during processing Unknown error\n",
      "Optimization terminated abnormally. Falling back to Newton.\n",
      "22:51:29 - cmdstanpy - INFO - Chain [1] start processing\n",
      "22:51:31 - cmdstanpy - INFO - Chain [1] done processing\n"
     ]
    },
    {
     "name": "stdout",
     "output_type": "stream",
     "text": [
      "Model Number: 393 with model UnivariateMotif in generation 2 of 10\n",
      "Model Number: 394 with model GLM in generation 2 of 10\n",
      "Template Eval Error: PerfectSeparationError('Perfect separation detected, results not available') in model 394: GLM\n",
      "Model Number: 395 with model UnivariateMotif in generation 2 of 10\n",
      "Model Number: 396 with model ARIMA in generation 2 of 10\n",
      "Model Number: 397 with model ARDL in generation 2 of 10\n",
      "Model Number: 398 with model UnivariateMotif in generation 2 of 10\n",
      "Model Number: 399 with model UnivariateRegression in generation 2 of 10\n",
      "Template Eval Error: ValueError(\"Input contains NaN, infinity or a value too large for dtype('float64').\") in model 399: UnivariateRegression\n",
      "Model Number: 400 with model MetricMotif in generation 2 of 10\n",
      "Model Number: 401 with model ARDL in generation 2 of 10\n",
      "Model Number: 402 with model UnivariateRegression in generation 2 of 10\n",
      "Model Number: 403 with model NVAR in generation 2 of 10\n",
      "Model Number: 404 with model MultivariateRegression in generation 2 of 10\n",
      "Model Number: 405 with model MetricMotif in generation 2 of 10\n",
      "Model Number: 406 with model AverageValueNaive in generation 2 of 10\n",
      "Model Number: 407 with model AverageValueNaive in generation 2 of 10\n",
      "Model Number: 408 with model WindowRegression in generation 2 of 10\n",
      "[LightGBM] [Warning] Accuracy may be bad since you didn't explicitly set num_leaves OR 2^max_depth > num_leaves. (num_leaves=31).\n",
      "[LightGBM] [Warning] Accuracy may be bad since you didn't explicitly set num_leaves OR 2^max_depth > num_leaves. (num_leaves=31).\n",
      "[LightGBM] [Warning] Auto-choosing col-wise multi-threading, the overhead of testing was 0.000163 seconds.\n",
      "You can set `force_col_wise=true` to remove the overhead.\n",
      "[LightGBM] [Warning] No further splits with positive gain, best gain: -inf\n",
      "[LightGBM] [Warning] No further splits with positive gain, best gain: -inf\n",
      "[LightGBM] [Warning] No further splits with positive gain, best gain: -inf\n",
      "[LightGBM] [Warning] No further splits with positive gain, best gain: -inf\n",
      "[LightGBM] [Warning] No further splits with positive gain, best gain: -inf\n",
      "[LightGBM] [Warning] No further splits with positive gain, best gain: -inf\n",
      "[LightGBM] [Warning] No further splits with positive gain, best gain: -inf\n",
      "[LightGBM] [Warning] No further splits with positive gain, best gain: -inf\n",
      "[LightGBM] [Warning] No further splits with positive gain, best gain: -inf\n",
      "[LightGBM] [Warning] No further splits with positive gain, best gain: -inf\n",
      "[LightGBM] [Warning] No further splits with positive gain, best gain: -inf\n",
      "[LightGBM] [Warning] No further splits with positive gain, best gain: -inf\n",
      "[LightGBM] [Warning] No further splits with positive gain, best gain: -inf\n",
      "[LightGBM] [Warning] No further splits with positive gain, best gain: -inf\n",
      "[LightGBM] [Warning] No further splits with positive gain, best gain: -inf\n",
      "[LightGBM] [Warning] No further splits with positive gain, best gain: -inf\n",
      "[LightGBM] [Warning] No further splits with positive gain, best gain: -inf\n",
      "[LightGBM] [Warning] No further splits with positive gain, best gain: -inf\n",
      "[LightGBM] [Warning] No further splits with positive gain, best gain: -inf\n",
      "[LightGBM] [Warning] No further splits with positive gain, best gain: -inf\n",
      "[LightGBM] [Warning] No further splits with positive gain, best gain: -inf\n",
      "[LightGBM] [Warning] No further splits with positive gain, best gain: -inf\n",
      "[LightGBM] [Warning] No further splits with positive gain, best gain: -inf\n",
      "[LightGBM] [Warning] No further splits with positive gain, best gain: -inf\n",
      "[LightGBM] [Warning] No further splits with positive gain, best gain: -inf\n",
      "[LightGBM] [Warning] No further splits with positive gain, best gain: -inf\n",
      "[LightGBM] [Warning] No further splits with positive gain, best gain: -inf\n",
      "[LightGBM] [Warning] No further splits with positive gain, best gain: -inf\n",
      "[LightGBM] [Warning] No further splits with positive gain, best gain: -inf\n",
      "[LightGBM] [Warning] No further splits with positive gain, best gain: -inf\n",
      "[LightGBM] [Warning] No further splits with positive gain, best gain: -inf\n",
      "[LightGBM] [Warning] No further splits with positive gain, best gain: -inf\n",
      "[LightGBM] [Warning] No further splits with positive gain, best gain: -inf\n",
      "[LightGBM] [Warning] No further splits with positive gain, best gain: -inf\n",
      "[LightGBM] [Warning] No further splits with positive gain, best gain: -inf\n",
      "[LightGBM] [Warning] No further splits with positive gain, best gain: -inf\n",
      "[LightGBM] [Warning] No further splits with positive gain, best gain: -inf\n",
      "[LightGBM] [Warning] No further splits with positive gain, best gain: -inf\n",
      "[LightGBM] [Warning] No further splits with positive gain, best gain: -inf\n",
      "[LightGBM] [Warning] No further splits with positive gain, best gain: -inf\n",
      "[LightGBM] [Warning] No further splits with positive gain, best gain: -inf\n",
      "[LightGBM] [Warning] No further splits with positive gain, best gain: -inf\n",
      "[LightGBM] [Warning] No further splits with positive gain, best gain: -inf\n",
      "[LightGBM] [Warning] No further splits with positive gain, best gain: -inf\n",
      "[LightGBM] [Warning] No further splits with positive gain, best gain: -inf\n",
      "[LightGBM] [Warning] No further splits with positive gain, best gain: -inf\n",
      "[LightGBM] [Warning] No further splits with positive gain, best gain: -inf\n",
      "[LightGBM] [Warning] No further splits with positive gain, best gain: -inf\n",
      "[LightGBM] [Warning] No further splits with positive gain, best gain: -inf\n",
      "[LightGBM] [Warning] No further splits with positive gain, best gain: -inf\n",
      "[LightGBM] [Warning] No further splits with positive gain, best gain: -inf\n",
      "[LightGBM] [Warning] No further splits with positive gain, best gain: -inf\n",
      "[LightGBM] [Warning] No further splits with positive gain, best gain: -inf\n",
      "[LightGBM] [Warning] No further splits with positive gain, best gain: -inf\n",
      "[LightGBM] [Warning] No further splits with positive gain, best gain: -inf\n",
      "[LightGBM] [Warning] No further splits with positive gain, best gain: -inf\n",
      "[LightGBM] [Warning] No further splits with positive gain, best gain: -inf\n",
      "[LightGBM] [Warning] No further splits with positive gain, best gain: -inf\n",
      "[LightGBM] [Warning] No further splits with positive gain, best gain: -inf\n",
      "[LightGBM] [Warning] No further splits with positive gain, best gain: -inf\n",
      "[LightGBM] [Warning] No further splits with positive gain, best gain: -inf\n",
      "[LightGBM] [Warning] No further splits with positive gain, best gain: -inf\n",
      "[LightGBM] [Warning] No further splits with positive gain, best gain: -inf\n",
      "[LightGBM] [Warning] No further splits with positive gain, best gain: -inf\n",
      "[LightGBM] [Warning] No further splits with positive gain, best gain: -inf\n",
      "[LightGBM] [Warning] No further splits with positive gain, best gain: -inf\n",
      "[LightGBM] [Warning] No further splits with positive gain, best gain: -inf\n",
      "[LightGBM] [Warning] No further splits with positive gain, best gain: -inf\n",
      "[LightGBM] [Warning] No further splits with positive gain, best gain: -inf\n",
      "[LightGBM] [Warning] No further splits with positive gain, best gain: -inf\n",
      "[LightGBM] [Warning] No further splits with positive gain, best gain: -inf\n",
      "[LightGBM] [Warning] No further splits with positive gain, best gain: -inf\n",
      "[LightGBM] [Warning] No further splits with positive gain, best gain: -inf\n",
      "[LightGBM] [Warning] No further splits with positive gain, best gain: -inf\n",
      "[LightGBM] [Warning] No further splits with positive gain, best gain: -inf\n",
      "[LightGBM] [Warning] No further splits with positive gain, best gain: -inf\n",
      "[LightGBM] [Warning] No further splits with positive gain, best gain: -inf\n",
      "[LightGBM] [Warning] No further splits with positive gain, best gain: -inf\n",
      "[LightGBM] [Warning] No further splits with positive gain, best gain: -inf\n",
      "[LightGBM] [Warning] No further splits with positive gain, best gain: -inf\n",
      "[LightGBM] [Warning] No further splits with positive gain, best gain: -inf\n",
      "[LightGBM] [Warning] No further splits with positive gain, best gain: -inf\n",
      "[LightGBM] [Warning] No further splits with positive gain, best gain: -inf\n",
      "[LightGBM] [Warning] No further splits with positive gain, best gain: -inf\n",
      "[LightGBM] [Warning] No further splits with positive gain, best gain: -inf\n",
      "[LightGBM] [Warning] No further splits with positive gain, best gain: -inf\n",
      "[LightGBM] [Warning] No further splits with positive gain, best gain: -inf\n",
      "[LightGBM] [Warning] No further splits with positive gain, best gain: -inf\n",
      "[LightGBM] [Warning] No further splits with positive gain, best gain: -inf\n",
      "[LightGBM] [Warning] No further splits with positive gain, best gain: -inf\n",
      "[LightGBM] [Warning] No further splits with positive gain, best gain: -inf\n",
      "[LightGBM] [Warning] No further splits with positive gain, best gain: -inf\n",
      "[LightGBM] [Warning] No further splits with positive gain, best gain: -inf\n",
      "[LightGBM] [Warning] No further splits with positive gain, best gain: -inf\n",
      "[LightGBM] [Warning] No further splits with positive gain, best gain: -inf\n",
      "[LightGBM] [Warning] No further splits with positive gain, best gain: -inf\n",
      "[LightGBM] [Warning] No further splits with positive gain, best gain: -inf\n",
      "[LightGBM] [Warning] No further splits with positive gain, best gain: -inf\n",
      "[LightGBM] [Warning] No further splits with positive gain, best gain: -inf\n",
      "[LightGBM] [Warning] No further splits with positive gain, best gain: -inf\n",
      "[LightGBM] [Warning] No further splits with positive gain, best gain: -inf\n",
      "[LightGBM] [Warning] No further splits with positive gain, best gain: -inf\n",
      "[LightGBM] [Warning] No further splits with positive gain, best gain: -inf\n",
      "[LightGBM] [Warning] No further splits with positive gain, best gain: -inf\n",
      "[LightGBM] [Warning] No further splits with positive gain, best gain: -inf\n",
      "[LightGBM] [Warning] No further splits with positive gain, best gain: -inf\n",
      "[LightGBM] [Warning] No further splits with positive gain, best gain: -inf\n",
      "[LightGBM] [Warning] No further splits with positive gain, best gain: -inf\n",
      "[LightGBM] [Warning] No further splits with positive gain, best gain: -inf\n",
      "[LightGBM] [Warning] No further splits with positive gain, best gain: -inf\n",
      "[LightGBM] [Warning] No further splits with positive gain, best gain: -inf\n",
      "[LightGBM] [Warning] No further splits with positive gain, best gain: -inf\n",
      "[LightGBM] [Warning] No further splits with positive gain, best gain: -inf\n",
      "[LightGBM] [Warning] No further splits with positive gain, best gain: -inf\n",
      "[LightGBM] [Warning] No further splits with positive gain, best gain: -inf\n",
      "[LightGBM] [Warning] No further splits with positive gain, best gain: -inf\n",
      "[LightGBM] [Warning] No further splits with positive gain, best gain: -inf\n",
      "[LightGBM] [Warning] No further splits with positive gain, best gain: -inf\n",
      "[LightGBM] [Warning] No further splits with positive gain, best gain: -inf\n",
      "[LightGBM] [Warning] No further splits with positive gain, best gain: -inf\n",
      "[LightGBM] [Warning] No further splits with positive gain, best gain: -inf\n",
      "[LightGBM] [Warning] No further splits with positive gain, best gain: -inf\n",
      "[LightGBM] [Warning] No further splits with positive gain, best gain: -inf\n",
      "[LightGBM] [Warning] No further splits with positive gain, best gain: -inf\n",
      "[LightGBM] [Warning] No further splits with positive gain, best gain: -inf\n",
      "[LightGBM] [Warning] No further splits with positive gain, best gain: -inf\n",
      "[LightGBM] [Warning] No further splits with positive gain, best gain: -inf\n",
      "[LightGBM] [Warning] No further splits with positive gain, best gain: -inf\n",
      "[LightGBM] [Warning] No further splits with positive gain, best gain: -inf\n",
      "[LightGBM] [Warning] No further splits with positive gain, best gain: -inf\n",
      "[LightGBM] [Warning] No further splits with positive gain, best gain: -inf\n",
      "[LightGBM] [Warning] No further splits with positive gain, best gain: -inf\n",
      "[LightGBM] [Warning] No further splits with positive gain, best gain: -inf\n",
      "[LightGBM] [Warning] No further splits with positive gain, best gain: -inf\n",
      "[LightGBM] [Warning] No further splits with positive gain, best gain: -inf\n",
      "[LightGBM] [Warning] No further splits with positive gain, best gain: -inf\n",
      "[LightGBM] [Warning] No further splits with positive gain, best gain: -inf\n",
      "[LightGBM] [Warning] No further splits with positive gain, best gain: -inf\n",
      "[LightGBM] [Warning] No further splits with positive gain, best gain: -inf\n",
      "[LightGBM] [Warning] No further splits with positive gain, best gain: -inf\n",
      "[LightGBM] [Warning] No further splits with positive gain, best gain: -inf\n",
      "[LightGBM] [Warning] No further splits with positive gain, best gain: -inf\n",
      "[LightGBM] [Warning] No further splits with positive gain, best gain: -inf\n",
      "[LightGBM] [Warning] No further splits with positive gain, best gain: -inf\n",
      "[LightGBM] [Warning] No further splits with positive gain, best gain: -inf\n",
      "[LightGBM] [Warning] No further splits with positive gain, best gain: -inf\n",
      "[LightGBM] [Warning] No further splits with positive gain, best gain: -inf\n",
      "[LightGBM] [Warning] No further splits with positive gain, best gain: -inf\n",
      "[LightGBM] [Warning] No further splits with positive gain, best gain: -inf\n",
      "[LightGBM] [Warning] No further splits with positive gain, best gain: -inf\n",
      "[LightGBM] [Warning] No further splits with positive gain, best gain: -inf\n",
      "[LightGBM] [Warning] No further splits with positive gain, best gain: -inf\n",
      "[LightGBM] [Warning] No further splits with positive gain, best gain: -inf\n",
      "[LightGBM] [Warning] No further splits with positive gain, best gain: -inf\n",
      "[LightGBM] [Warning] No further splits with positive gain, best gain: -inf\n",
      "[LightGBM] [Warning] No further splits with positive gain, best gain: -inf\n",
      "[LightGBM] [Warning] No further splits with positive gain, best gain: -inf\n",
      "[LightGBM] [Warning] No further splits with positive gain, best gain: -inf\n",
      "[LightGBM] [Warning] No further splits with positive gain, best gain: -inf\n",
      "[LightGBM] [Warning] No further splits with positive gain, best gain: -inf\n",
      "[LightGBM] [Warning] No further splits with positive gain, best gain: -inf\n",
      "[LightGBM] [Warning] No further splits with positive gain, best gain: -inf\n",
      "[LightGBM] [Warning] No further splits with positive gain, best gain: -inf\n",
      "[LightGBM] [Warning] No further splits with positive gain, best gain: -inf\n",
      "[LightGBM] [Warning] No further splits with positive gain, best gain: -inf\n",
      "[LightGBM] [Warning] No further splits with positive gain, best gain: -inf\n",
      "[LightGBM] [Warning] No further splits with positive gain, best gain: -inf\n",
      "[LightGBM] [Warning] No further splits with positive gain, best gain: -inf\n",
      "[LightGBM] [Warning] No further splits with positive gain, best gain: -inf\n",
      "[LightGBM] [Warning] No further splits with positive gain, best gain: -inf\n",
      "[LightGBM] [Warning] No further splits with positive gain, best gain: -inf\n",
      "[LightGBM] [Warning] No further splits with positive gain, best gain: -inf\n",
      "[LightGBM] [Warning] No further splits with positive gain, best gain: -inf\n",
      "[LightGBM] [Warning] No further splits with positive gain, best gain: -inf\n",
      "[LightGBM] [Warning] No further splits with positive gain, best gain: -inf\n",
      "[LightGBM] [Warning] No further splits with positive gain, best gain: -inf\n",
      "[LightGBM] [Warning] No further splits with positive gain, best gain: -inf\n",
      "[LightGBM] [Warning] No further splits with positive gain, best gain: -inf\n",
      "[LightGBM] [Warning] No further splits with positive gain, best gain: -inf\n",
      "[LightGBM] [Warning] No further splits with positive gain, best gain: -inf\n",
      "[LightGBM] [Warning] No further splits with positive gain, best gain: -inf\n",
      "[LightGBM] [Warning] No further splits with positive gain, best gain: -inf\n",
      "[LightGBM] [Warning] No further splits with positive gain, best gain: -inf\n",
      "[LightGBM] [Warning] No further splits with positive gain, best gain: -inf\n",
      "[LightGBM] [Warning] No further splits with positive gain, best gain: -inf\n",
      "[LightGBM] [Warning] No further splits with positive gain, best gain: -inf\n",
      "[LightGBM] [Warning] No further splits with positive gain, best gain: -inf\n",
      "[LightGBM] [Warning] No further splits with positive gain, best gain: -inf\n",
      "[LightGBM] [Warning] No further splits with positive gain, best gain: -inf\n",
      "[LightGBM] [Warning] No further splits with positive gain, best gain: -inf\n",
      "[LightGBM] [Warning] No further splits with positive gain, best gain: -inf\n",
      "[LightGBM] [Warning] No further splits with positive gain, best gain: -inf\n",
      "[LightGBM] [Warning] No further splits with positive gain, best gain: -inf\n",
      "[LightGBM] [Warning] No further splits with positive gain, best gain: -inf\n",
      "[LightGBM] [Warning] No further splits with positive gain, best gain: -inf\n",
      "[LightGBM] [Warning] No further splits with positive gain, best gain: -inf\n",
      "[LightGBM] [Warning] No further splits with positive gain, best gain: -inf\n",
      "[LightGBM] [Warning] No further splits with positive gain, best gain: -inf\n",
      "[LightGBM] [Warning] No further splits with positive gain, best gain: -inf\n",
      "[LightGBM] [Warning] No further splits with positive gain, best gain: -inf\n",
      "[LightGBM] [Warning] No further splits with positive gain, best gain: -inf\n",
      "[LightGBM] [Warning] No further splits with positive gain, best gain: -inf\n",
      "[LightGBM] [Warning] No further splits with positive gain, best gain: -inf\n",
      "[LightGBM] [Warning] No further splits with positive gain, best gain: -inf\n",
      "[LightGBM] [Warning] No further splits with positive gain, best gain: -inf\n",
      "[LightGBM] [Warning] No further splits with positive gain, best gain: -inf\n",
      "[LightGBM] [Warning] No further splits with positive gain, best gain: -inf\n",
      "[LightGBM] [Warning] No further splits with positive gain, best gain: -inf\n",
      "[LightGBM] [Warning] No further splits with positive gain, best gain: -inf\n",
      "[LightGBM] [Warning] No further splits with positive gain, best gain: -inf\n",
      "[LightGBM] [Warning] No further splits with positive gain, best gain: -inf\n",
      "[LightGBM] [Warning] No further splits with positive gain, best gain: -inf\n",
      "[LightGBM] [Warning] No further splits with positive gain, best gain: -inf\n",
      "[LightGBM] [Warning] No further splits with positive gain, best gain: -inf\n",
      "[LightGBM] [Warning] No further splits with positive gain, best gain: -inf\n",
      "[LightGBM] [Warning] No further splits with positive gain, best gain: -inf\n",
      "[LightGBM] [Warning] No further splits with positive gain, best gain: -inf\n",
      "[LightGBM] [Warning] No further splits with positive gain, best gain: -inf\n",
      "[LightGBM] [Warning] No further splits with positive gain, best gain: -inf\n",
      "[LightGBM] [Warning] No further splits with positive gain, best gain: -inf\n",
      "[LightGBM] [Warning] No further splits with positive gain, best gain: -inf\n",
      "[LightGBM] [Warning] No further splits with positive gain, best gain: -inf\n",
      "[LightGBM] [Warning] No further splits with positive gain, best gain: -inf\n",
      "[LightGBM] [Warning] No further splits with positive gain, best gain: -inf\n",
      "[LightGBM] [Warning] No further splits with positive gain, best gain: -inf\n",
      "[LightGBM] [Warning] No further splits with positive gain, best gain: -inf\n",
      "[LightGBM] [Warning] No further splits with positive gain, best gain: -inf\n",
      "[LightGBM] [Warning] No further splits with positive gain, best gain: -inf\n",
      "[LightGBM] [Warning] No further splits with positive gain, best gain: -inf\n",
      "[LightGBM] [Warning] No further splits with positive gain, best gain: -inf\n",
      "[LightGBM] [Warning] No further splits with positive gain, best gain: -inf\n",
      "[LightGBM] [Warning] No further splits with positive gain, best gain: -inf\n",
      "[LightGBM] [Warning] No further splits with positive gain, best gain: -inf\n",
      "[LightGBM] [Warning] No further splits with positive gain, best gain: -inf\n",
      "[LightGBM] [Warning] No further splits with positive gain, best gain: -inf\n",
      "[LightGBM] [Warning] No further splits with positive gain, best gain: -inf\n",
      "[LightGBM] [Warning] No further splits with positive gain, best gain: -inf\n",
      "[LightGBM] [Warning] No further splits with positive gain, best gain: -inf\n",
      "[LightGBM] [Warning] No further splits with positive gain, best gain: -inf\n",
      "[LightGBM] [Warning] No further splits with positive gain, best gain: -inf\n",
      "[LightGBM] [Warning] No further splits with positive gain, best gain: -inf\n",
      "[LightGBM] [Warning] No further splits with positive gain, best gain: -inf\n",
      "[LightGBM] [Warning] No further splits with positive gain, best gain: -inf\n",
      "[LightGBM] [Warning] No further splits with positive gain, best gain: -inf\n",
      "[LightGBM] [Warning] No further splits with positive gain, best gain: -inf\n",
      "[LightGBM] [Warning] No further splits with positive gain, best gain: -inf\n",
      "[LightGBM] [Warning] No further splits with positive gain, best gain: -inf\n",
      "[LightGBM] [Warning] No further splits with positive gain, best gain: -inf\n",
      "[LightGBM] [Warning] No further splits with positive gain, best gain: -inf\n",
      "[LightGBM] [Warning] No further splits with positive gain, best gain: -inf\n",
      "Model Number: 409 with model Theta in generation 2 of 10\n",
      "Model Number: 410 with model ETS in generation 2 of 10\n",
      "ETS error ValueError('endog must be strictly positive when usingmultiplicative trend or seasonal components.')\n",
      "ETS failed on Thousands of Passengers with ValueError('endog must be strictly positive when usingmultiplicative trend or seasonal components.')\n",
      "Model Number: 411 with model AverageValueNaive in generation 2 of 10\n",
      "Model Number: 412 with model MetricMotif in generation 2 of 10\n",
      "Model Number: 413 with model MultivariateMotif in generation 2 of 10\n",
      "Model Number: 414 with model GLM in generation 2 of 10\n"
     ]
    },
    {
     "name": "stderr",
     "output_type": "stream",
     "text": [
      "c:\\Python310\\lib\\site-packages\\statsmodels\\genmod\\families\\links.py:187: RuntimeWarning: overflow encountered in exp\n",
      "  t = np.exp(-z)\n"
     ]
    },
    {
     "name": "stdout",
     "output_type": "stream",
     "text": [
      "Model Number: 415 with model GLM in generation 2 of 10\n",
      "No anomalies detected.\n",
      "Model Number: 416 with model ETS in generation 2 of 10\n",
      "Model Number: 417 with model FBProphet in generation 2 of 10\n"
     ]
    },
    {
     "name": "stderr",
     "output_type": "stream",
     "text": [
      "22:52:13 - cmdstanpy - INFO - Chain [1] start processing\n",
      "22:52:13 - cmdstanpy - INFO - Chain [1] done processing\n"
     ]
    },
    {
     "name": "stdout",
     "output_type": "stream",
     "text": [
      "Model Number: 418 with model SeasonalNaive in generation 2 of 10\n",
      "Model Number: 419 with model MetricMotif in generation 2 of 10\n",
      "Model Number: 420 with model WindowRegression in generation 2 of 10\n",
      "Model Number: 421 with model ETS in generation 2 of 10\n",
      "Model Number: 422 with model UnobservedComponents in generation 2 of 10\n",
      "Model Number: 423 with model SectionalMotif in generation 2 of 10\n",
      "Model Number: 424 with model ARIMA in generation 2 of 10\n",
      "Model Number: 425 with model DatepartRegression in generation 2 of 10\n",
      "Model Number: 426 with model FBProphet in generation 2 of 10\n"
     ]
    },
    {
     "name": "stderr",
     "output_type": "stream",
     "text": [
      "c:\\Python310\\lib\\site-packages\\sklearn\\svm\\_base.py:1206: ConvergenceWarning: Liblinear failed to converge, increase the number of iterations.\n",
      "  warnings.warn(\n",
      "22:52:37 - cmdstanpy - INFO - Chain [1] start processing\n",
      "22:52:37 - cmdstanpy - INFO - Chain [1] done processing\n"
     ]
    },
    {
     "name": "stdout",
     "output_type": "stream",
     "text": [
      "Model Number: 427 with model MultivariateMotif in generation 2 of 10\n",
      "Model Number: 428 with model SectionalMotif in generation 2 of 10\n",
      "Template Eval Error: LinAlgError('Singular matrix') in model 428: SectionalMotif\n",
      "Model Number: 429 with model GLM in generation 2 of 10\n",
      "Model Number: 430 with model MetricMotif in generation 2 of 10\n",
      "Model Number: 431 with model MultivariateMotif in generation 2 of 10\n",
      "Model Number: 432 with model Theta in generation 2 of 10\n",
      "Model Number: 433 with model FBProphet in generation 2 of 10\n"
     ]
    },
    {
     "name": "stderr",
     "output_type": "stream",
     "text": [
      "22:52:39 - cmdstanpy - INFO - Chain [1] start processing\n",
      "22:52:39 - cmdstanpy - INFO - Chain [1] done processing\n"
     ]
    },
    {
     "name": "stdout",
     "output_type": "stream",
     "text": [
      "Model Number: 434 with model ETS in generation 2 of 10\n",
      "Model Number: 435 with model SeasonalNaive in generation 2 of 10\n",
      "Model Number: 436 with model DatepartRegression in generation 2 of 10\n",
      "Model Number: 437 with model MultivariateRegression in generation 2 of 10\n",
      "Model Number: 438 with model LastValueNaive in generation 2 of 10\n",
      "New Generation: 3 of 10\n",
      "Model Number: 439 with model GLS in generation 3 of 10\n",
      "Model Number: 440 with model LastValueNaive in generation 3 of 10\n",
      "Model Number: 441 with model ARIMA in generation 3 of 10\n",
      "Template Eval Error: Exception('Transformer Detrend failed on fit') in model 441: ARIMA\n",
      "Model Number: 442 with model MultivariateMotif in generation 3 of 10\n",
      "Model Number: 443 with model UnivariateRegression in generation 3 of 10\n",
      "Model Number: 444 with model GLM in generation 3 of 10\n",
      "Model Number: 445 with model MultivariateMotif in generation 3 of 10\n",
      "Model Number: 446 with model WindowRegression in generation 3 of 10\n",
      "Model Number: 447 with model GLS in generation 3 of 10\n",
      "Model Number: 448 with model SeasonalNaive in generation 3 of 10\n",
      "Model Number: 449 with model ARDL in generation 3 of 10\n",
      "Model Number: 450 with model ARIMA in generation 3 of 10\n",
      "Model Number: 451 with model WindowRegression in generation 3 of 10\n",
      "Model Number: 452 with model MultivariateRegression in generation 3 of 10\n",
      "Template Eval Error: LightGBMError('[gamma]: at least one target label is negative') in model 452: MultivariateRegression\n",
      "Model Number: 453 with model UnivariateMotif in generation 3 of 10\n"
     ]
    },
    {
     "name": "stderr",
     "output_type": "stream",
     "text": [
      "c:\\Python310\\lib\\site-packages\\sklearn\\neural_network\\_multilayer_perceptron.py:549: ConvergenceWarning: lbfgs failed to converge (status=1):\n",
      "STOP: TOTAL NO. of ITERATIONS REACHED LIMIT.\n",
      "\n",
      "Increase the number of iterations (max_iter) or scale the data as shown in:\n",
      "    https://scikit-learn.org/stable/modules/preprocessing.html\n",
      "  self.n_iter_ = _check_optimize_result(\"lbfgs\", opt_res, self.max_iter)\n"
     ]
    },
    {
     "name": "stdout",
     "output_type": "stream",
     "text": [
      "Model Number: 454 with model ARIMA in generation 3 of 10\n",
      "Model Number: 455 with model UnivariateMotif in generation 3 of 10\n",
      "Model Number: 456 with model MultivariateMotif in generation 3 of 10\n",
      "Model Number: 457 with model GLM in generation 3 of 10\n",
      "Model Number: 458 with model MetricMotif in generation 3 of 10\n"
     ]
    },
    {
     "name": "stderr",
     "output_type": "stream",
     "text": [
      "c:\\Python310\\lib\\site-packages\\statsmodels\\genmod\\families\\links.py:187: RuntimeWarning: overflow encountered in exp\n",
      "  t = np.exp(-z)\n"
     ]
    },
    {
     "name": "stdout",
     "output_type": "stream",
     "text": [
      "Model Number: 459 with model SeasonalNaive in generation 3 of 10\n",
      "Model Number: 460 with model SectionalMotif in generation 3 of 10\n",
      "Model Number: 461 with model UnivariateRegression in generation 3 of 10\n",
      "Model Number: 462 with model UnivariateMotif in generation 3 of 10\n",
      "Model Number: 463 with model NVAR in generation 3 of 10\n",
      "Model Number: 464 with model Theta in generation 3 of 10\n",
      "Model Number: 465 with model ARIMA in generation 3 of 10\n",
      "Model Number: 466 with model UnivariateRegression in generation 3 of 10\n",
      "Model Number: 467 with model SeasonalNaive in generation 3 of 10\n",
      "Model Number: 468 with model Theta in generation 3 of 10\n",
      "Model Number: 469 with model MetricMotif in generation 3 of 10\n",
      "Model Number: 470 with model Theta in generation 3 of 10\n",
      "Model Number: 471 with model ETS in generation 3 of 10\n",
      "Model Number: 472 with model MultivariateMotif in generation 3 of 10\n",
      "Model Number: 473 with model MultivariateRegression in generation 3 of 10\n"
     ]
    },
    {
     "name": "stderr",
     "output_type": "stream",
     "text": [
      "[Parallel(n_jobs=-2)]: Using backend ThreadingBackend with 3 concurrent workers.\n",
      "[Parallel(n_jobs=-2)]: Done  44 tasks      | elapsed:    0.0s\n",
      "[Parallel(n_jobs=-2)]: Done 194 tasks      | elapsed:    0.2s\n",
      "[Parallel(n_jobs=-2)]: Done 200 out of 200 | elapsed:    0.3s finished\n",
      "[Parallel(n_jobs=3)]: Using backend ThreadingBackend with 3 concurrent workers.\n",
      "[Parallel(n_jobs=3)]: Done  44 tasks      | elapsed:    0.0s\n",
      "[Parallel(n_jobs=3)]: Done 194 tasks      | elapsed:    0.0s\n",
      "[Parallel(n_jobs=3)]: Done 200 out of 200 | elapsed:    0.0s finished\n",
      "[Parallel(n_jobs=3)]: Using backend ThreadingBackend with 3 concurrent workers.\n",
      "[Parallel(n_jobs=3)]: Done  44 tasks      | elapsed:    0.0s\n",
      "[Parallel(n_jobs=3)]: Done 194 tasks      | elapsed:    0.0s\n",
      "[Parallel(n_jobs=3)]: Done 200 out of 200 | elapsed:    0.0s finished\n",
      "[Parallel(n_jobs=3)]: Using backend ThreadingBackend with 3 concurrent workers.\n",
      "[Parallel(n_jobs=3)]: Done  44 tasks      | elapsed:    0.0s\n",
      "[Parallel(n_jobs=3)]: Done 194 tasks      | elapsed:    0.0s\n",
      "[Parallel(n_jobs=3)]: Done 200 out of 200 | elapsed:    0.0s finished\n",
      "[Parallel(n_jobs=3)]: Using backend ThreadingBackend with 3 concurrent workers.\n",
      "[Parallel(n_jobs=3)]: Done  44 tasks      | elapsed:    0.0s\n",
      "[Parallel(n_jobs=3)]: Done 194 tasks      | elapsed:    0.0s\n",
      "[Parallel(n_jobs=3)]: Done 200 out of 200 | elapsed:    0.0s finished\n",
      "[Parallel(n_jobs=3)]: Using backend ThreadingBackend with 3 concurrent workers.\n",
      "[Parallel(n_jobs=3)]: Done  44 tasks      | elapsed:    0.0s\n",
      "[Parallel(n_jobs=3)]: Done 194 tasks      | elapsed:    0.0s\n",
      "[Parallel(n_jobs=3)]: Done 200 out of 200 | elapsed:    0.0s finished\n",
      "[Parallel(n_jobs=3)]: Using backend ThreadingBackend with 3 concurrent workers.\n",
      "[Parallel(n_jobs=3)]: Done  44 tasks      | elapsed:    0.0s\n",
      "[Parallel(n_jobs=3)]: Done 194 tasks      | elapsed:    0.0s\n",
      "[Parallel(n_jobs=3)]: Done 200 out of 200 | elapsed:    0.0s finished\n",
      "[Parallel(n_jobs=3)]: Using backend ThreadingBackend with 3 concurrent workers.\n",
      "[Parallel(n_jobs=3)]: Done  44 tasks      | elapsed:    0.0s\n",
      "[Parallel(n_jobs=3)]: Done 194 tasks      | elapsed:    0.0s\n",
      "[Parallel(n_jobs=3)]: Done 200 out of 200 | elapsed:    0.0s finished\n",
      "[Parallel(n_jobs=3)]: Using backend ThreadingBackend with 3 concurrent workers.\n",
      "[Parallel(n_jobs=3)]: Done  44 tasks      | elapsed:    0.0s\n",
      "[Parallel(n_jobs=3)]: Done 194 tasks      | elapsed:    0.0s\n",
      "[Parallel(n_jobs=3)]: Done 200 out of 200 | elapsed:    0.0s finished\n",
      "[Parallel(n_jobs=3)]: Using backend ThreadingBackend with 3 concurrent workers.\n",
      "[Parallel(n_jobs=3)]: Done  44 tasks      | elapsed:    0.0s\n",
      "[Parallel(n_jobs=3)]: Done 194 tasks      | elapsed:    0.0s\n",
      "[Parallel(n_jobs=3)]: Done 200 out of 200 | elapsed:    0.0s finished\n",
      "[Parallel(n_jobs=3)]: Using backend ThreadingBackend with 3 concurrent workers.\n",
      "[Parallel(n_jobs=3)]: Done  44 tasks      | elapsed:    0.0s\n",
      "[Parallel(n_jobs=3)]: Done 194 tasks      | elapsed:    0.0s\n",
      "[Parallel(n_jobs=3)]: Done 200 out of 200 | elapsed:    0.0s finished\n",
      "[Parallel(n_jobs=3)]: Using backend ThreadingBackend with 3 concurrent workers.\n",
      "[Parallel(n_jobs=3)]: Done  44 tasks      | elapsed:    0.0s\n",
      "[Parallel(n_jobs=3)]: Done 194 tasks      | elapsed:    0.0s\n",
      "[Parallel(n_jobs=3)]: Done 200 out of 200 | elapsed:    0.0s finished\n",
      "[Parallel(n_jobs=3)]: Using backend ThreadingBackend with 3 concurrent workers.\n",
      "[Parallel(n_jobs=3)]: Done  44 tasks      | elapsed:    0.0s\n",
      "[Parallel(n_jobs=3)]: Done 194 tasks      | elapsed:    0.0s\n"
     ]
    },
    {
     "name": "stdout",
     "output_type": "stream",
     "text": [
      "Model Number: 474 with model UnivariateRegression in generation 3 of 10\n"
     ]
    },
    {
     "name": "stderr",
     "output_type": "stream",
     "text": [
      "[Parallel(n_jobs=3)]: Done 200 out of 200 | elapsed:    0.0s finished\n"
     ]
    },
    {
     "name": "stdout",
     "output_type": "stream",
     "text": [
      "Model Number: 475 with model UnivariateMotif in generation 3 of 10\n",
      "No anomalies detected.\n",
      "Model Number: 476 with model Theta in generation 3 of 10\n",
      "Model Number: 477 with model GLS in generation 3 of 10\n"
     ]
    },
    {
     "name": "stderr",
     "output_type": "stream",
     "text": [
      "c:\\Python310\\lib\\site-packages\\sklearn\\neural_network\\_multilayer_perceptron.py:692: ConvergenceWarning: Stochastic Optimizer: Maximum iterations (1000) reached and the optimization hasn't converged yet.\n",
      "  warnings.warn(\n"
     ]
    },
    {
     "name": "stdout",
     "output_type": "stream",
     "text": [
      "Model Number: 478 with model MultivariateRegression in generation 3 of 10\n"
     ]
    },
    {
     "name": "stderr",
     "output_type": "stream",
     "text": [
      "[Parallel(n_jobs=-2)]: Using backend ThreadingBackend with 3 concurrent workers.\n",
      "[Parallel(n_jobs=-2)]: Done  44 tasks      | elapsed:    0.0s\n",
      "[Parallel(n_jobs=-2)]: Done 194 tasks      | elapsed:    0.3s\n",
      "[Parallel(n_jobs=-2)]: Done 200 out of 200 | elapsed:    0.3s finished\n",
      "[Parallel(n_jobs=3)]: Using backend ThreadingBackend with 3 concurrent workers.\n",
      "[Parallel(n_jobs=3)]: Done  44 tasks      | elapsed:    0.0s\n",
      "[Parallel(n_jobs=3)]: Done 194 tasks      | elapsed:    0.0s\n",
      "[Parallel(n_jobs=3)]: Done 200 out of 200 | elapsed:    0.0s finished\n",
      "[Parallel(n_jobs=3)]: Using backend ThreadingBackend with 3 concurrent workers.\n",
      "[Parallel(n_jobs=3)]: Done  44 tasks      | elapsed:    0.0s\n",
      "[Parallel(n_jobs=3)]: Done 194 tasks      | elapsed:    0.0s\n",
      "[Parallel(n_jobs=3)]: Done 200 out of 200 | elapsed:    0.0s finished\n",
      "[Parallel(n_jobs=3)]: Using backend ThreadingBackend with 3 concurrent workers.\n",
      "[Parallel(n_jobs=3)]: Done  44 tasks      | elapsed:    0.0s\n",
      "[Parallel(n_jobs=3)]: Done 194 tasks      | elapsed:    0.0s\n",
      "[Parallel(n_jobs=3)]: Done 200 out of 200 | elapsed:    0.0s finished\n",
      "[Parallel(n_jobs=3)]: Using backend ThreadingBackend with 3 concurrent workers.\n",
      "[Parallel(n_jobs=3)]: Done  44 tasks      | elapsed:    0.0s\n",
      "[Parallel(n_jobs=3)]: Done 194 tasks      | elapsed:    0.0s\n",
      "[Parallel(n_jobs=3)]: Done 200 out of 200 | elapsed:    0.0s finished\n",
      "[Parallel(n_jobs=3)]: Using backend ThreadingBackend with 3 concurrent workers.\n",
      "[Parallel(n_jobs=3)]: Done  44 tasks      | elapsed:    0.0s\n",
      "[Parallel(n_jobs=3)]: Done 194 tasks      | elapsed:    0.0s\n",
      "[Parallel(n_jobs=3)]: Done 200 out of 200 | elapsed:    0.0s finished\n",
      "[Parallel(n_jobs=3)]: Using backend ThreadingBackend with 3 concurrent workers.\n",
      "[Parallel(n_jobs=3)]: Done  44 tasks      | elapsed:    0.1s\n",
      "[Parallel(n_jobs=3)]: Done 194 tasks      | elapsed:    0.1s\n",
      "[Parallel(n_jobs=3)]: Done 200 out of 200 | elapsed:    0.1s finished\n",
      "[Parallel(n_jobs=3)]: Using backend ThreadingBackend with 3 concurrent workers.\n",
      "[Parallel(n_jobs=3)]: Done  44 tasks      | elapsed:    0.0s\n",
      "[Parallel(n_jobs=3)]: Done 194 tasks      | elapsed:    0.0s\n",
      "[Parallel(n_jobs=3)]: Done 200 out of 200 | elapsed:    0.0s finished\n",
      "[Parallel(n_jobs=3)]: Using backend ThreadingBackend with 3 concurrent workers.\n",
      "[Parallel(n_jobs=3)]: Done  44 tasks      | elapsed:    0.0s\n",
      "[Parallel(n_jobs=3)]: Done 194 tasks      | elapsed:    0.0s\n",
      "[Parallel(n_jobs=3)]: Done 200 out of 200 | elapsed:    0.0s finished\n",
      "[Parallel(n_jobs=3)]: Using backend ThreadingBackend with 3 concurrent workers.\n",
      "[Parallel(n_jobs=3)]: Done  44 tasks      | elapsed:    0.0s\n",
      "[Parallel(n_jobs=3)]: Done 194 tasks      | elapsed:    0.0s\n",
      "[Parallel(n_jobs=3)]: Done 200 out of 200 | elapsed:    0.0s finished\n",
      "[Parallel(n_jobs=3)]: Using backend ThreadingBackend with 3 concurrent workers.\n",
      "[Parallel(n_jobs=3)]: Done  44 tasks      | elapsed:    0.0s\n",
      "[Parallel(n_jobs=3)]: Done 194 tasks      | elapsed:    0.0s\n",
      "[Parallel(n_jobs=3)]: Done 200 out of 200 | elapsed:    0.0s finished\n",
      "[Parallel(n_jobs=3)]: Using backend ThreadingBackend with 3 concurrent workers.\n",
      "[Parallel(n_jobs=3)]: Done  44 tasks      | elapsed:    0.0s\n",
      "[Parallel(n_jobs=3)]: Done 194 tasks      | elapsed:    0.0s\n",
      "[Parallel(n_jobs=3)]: Done 200 out of 200 | elapsed:    0.0s finished\n",
      "[Parallel(n_jobs=3)]: Using backend ThreadingBackend with 3 concurrent workers.\n",
      "[Parallel(n_jobs=3)]: Done  44 tasks      | elapsed:    0.0s\n",
      "[Parallel(n_jobs=3)]: Done 194 tasks      | elapsed:    0.0s\n",
      "[Parallel(n_jobs=3)]: Done 200 out of 200 | elapsed:    0.0s finished\n"
     ]
    },
    {
     "name": "stdout",
     "output_type": "stream",
     "text": [
      "Model Number: 479 with model UnobservedComponents in generation 3 of 10\n",
      "Model Number: 480 with model ConstantNaive in generation 3 of 10\n",
      "Model Number: 481 with model MultivariateMotif in generation 3 of 10\n",
      "Model Number: 482 with model GLM in generation 3 of 10\n",
      "Model Number: 483 with model GLM in generation 3 of 10\n"
     ]
    },
    {
     "name": "stderr",
     "output_type": "stream",
     "text": [
      "c:\\Python310\\lib\\site-packages\\statsmodels\\genmod\\generalized_linear_model.py:298: DomainWarning: The inverse_power link function does not respect the domain of the Gamma family.\n",
      "  warnings.warn((f\"The {type(family.link).__name__} link function \"\n"
     ]
    },
    {
     "name": "stdout",
     "output_type": "stream",
     "text": [
      "Model Number: 484 with model ARIMA in generation 3 of 10\n",
      "Model Number: 485 with model MultivariateRegression in generation 3 of 10\n",
      "Template Eval Error: ValueError(\"regression_type='User' but not future_regressor supplied.\") in model 485: MultivariateRegression\n",
      "Model Number: 486 with model SeasonalNaive in generation 3 of 10\n",
      "Model Number: 487 with model SectionalMotif in generation 3 of 10\n",
      "Model Number: 488 with model UnivariateMotif in generation 3 of 10\n",
      "Model Number: 489 with model MetricMotif in generation 3 of 10\n",
      "Model Number: 490 with model UnivariateRegression in generation 3 of 10\n",
      "Model Number: 491 with model MetricMotif in generation 3 of 10\n"
     ]
    },
    {
     "name": "stderr",
     "output_type": "stream",
     "text": [
      "c:\\Python310\\lib\\site-packages\\sklearn\\linear_model\\_ridge.py:157: LinAlgWarning: Ill-conditioned matrix (rcond=1.06989e-24): result may not be accurate.\n",
      "  return linalg.solve(A, Xy, sym_pos=True, overwrite_a=True).T\n"
     ]
    },
    {
     "name": "stdout",
     "output_type": "stream",
     "text": [
      "Model Number: 492 with model MultivariateMotif in generation 3 of 10\n",
      "Model Number: 493 with model MetricMotif in generation 3 of 10\n",
      "Model Number: 494 with model UnivariateRegression in generation 3 of 10\n",
      "Model Number: 495 with model MetricMotif in generation 3 of 10\n",
      "Model Number: 496 with model Theta in generation 3 of 10\n",
      "Model Number: 497 with model DatepartRegression in generation 3 of 10\n",
      "Template Eval Error: ValueError('Model DatepartRegression returned NaN for one or more series. fail_on_forecast_nan=True') in model 497: DatepartRegression\n",
      "Model Number: 498 with model LastValueNaive in generation 3 of 10\n",
      "Model Number: 499 with model GLS in generation 3 of 10\n"
     ]
    },
    {
     "name": "stderr",
     "output_type": "stream",
     "text": [
      "c:\\Python310\\lib\\site-packages\\sklearn\\neighbors\\_regression.py:470: UserWarning: One or more samples have no neighbors within specified radius; predicting NaN.\n",
      "  warnings.warn(empty_warning_msg)\n"
     ]
    },
    {
     "name": "stdout",
     "output_type": "stream",
     "text": [
      "Model Number: 500 with model UnobservedComponents in generation 3 of 10\n",
      "Template Eval Error: ValueError(\"regression_type='User' but no future_regressor supplied\") in model 500: UnobservedComponents\n",
      "Model Number: 501 with model UnivariateMotif in generation 3 of 10\n",
      "Model Number: 502 with model ETS in generation 3 of 10\n",
      "Model Number: 503 with model Theta in generation 3 of 10\n",
      "Model Number: 504 with model UnivariateRegression in generation 3 of 10\n",
      "Template Eval Error: ValueError(\"regression_type='User' but not future_regressor supplied.\") in model 504: UnivariateRegression\n",
      "Model Number: 505 with model DatepartRegression in generation 3 of 10\n",
      "Template Eval Error: ValueError(\"regression_type='User' but no future_regressor passed\") in model 505: DatepartRegression\n",
      "Model Number: 506 with model MultivariateMotif in generation 3 of 10\n",
      "Model Number: 507 with model GLM in generation 3 of 10\n",
      "No anomalies detected.\n",
      "Model Number: 508 with model GLM in generation 3 of 10\n",
      "No anomalies detected.\n",
      "Template Eval Error: ValueError('The first guess on the deviance function returned a nan.  This could be a boundary  problem and should be reported.') in model 508: GLM\n",
      "Model Number: 509 with model ARIMA in generation 3 of 10\n",
      "No anomalies detected.\n"
     ]
    },
    {
     "name": "stderr",
     "output_type": "stream",
     "text": [
      "c:\\Python310\\lib\\site-packages\\statsmodels\\genmod\\families\\family.py:1346: RuntimeWarning: invalid value encountered in log\n",
      "  resid_dev -= endog_alpha * np.log(endog_alpha / mu_alpha)\n"
     ]
    },
    {
     "name": "stdout",
     "output_type": "stream",
     "text": [
      "Model Number: 510 with model UnivariateRegression in generation 3 of 10\n",
      "Model Number: 511 with model ARIMA in generation 3 of 10\n",
      "Model Number: 512 with model NVAR in generation 3 of 10\n",
      "Model Number: 513 with model MetricMotif in generation 3 of 10\n",
      "Model Number: 514 with model LastValueNaive in generation 3 of 10\n",
      "Model Number: 515 with model UnobservedComponents in generation 3 of 10\n",
      "Model Number: 516 with model ETS in generation 3 of 10\n",
      "Model Number: 517 with model ETS in generation 3 of 10\n",
      "Model Number: 518 with model MetricMotif in generation 3 of 10\n",
      "Model Number: 519 with model GLS in generation 3 of 10\n",
      "Model Number: 520 with model ARDL in generation 3 of 10\n",
      "Model Number: 521 with model ETS in generation 3 of 10\n",
      "Model Number: 522 with model MultivariateMotif in generation 3 of 10\n",
      "Model Number: 523 with model ARIMA in generation 3 of 10\n",
      "Model Number: 524 with model GLM in generation 3 of 10\n",
      "Model Number: 525 with model MultivariateMotif in generation 3 of 10\n",
      "Model Number: 526 with model AverageValueNaive in generation 3 of 10\n",
      "Model Number: 527 with model LastValueNaive in generation 3 of 10\n",
      "Model Number: 528 with model FBProphet in generation 3 of 10\n"
     ]
    },
    {
     "name": "stderr",
     "output_type": "stream",
     "text": [
      "22:54:32 - cmdstanpy - INFO - Chain [1] start processing\n",
      "22:54:32 - cmdstanpy - INFO - Chain [1] done processing\n"
     ]
    },
    {
     "name": "stdout",
     "output_type": "stream",
     "text": [
      "Model Number: 529 with model Theta in generation 3 of 10\n",
      "Model Number: 530 with model SeasonalNaive in generation 3 of 10\n",
      "Model Number: 531 with model ETS in generation 3 of 10\n",
      "Model Number: 532 with model UnivariateRegression in generation 3 of 10\n",
      "Model Number: 533 with model ARIMA in generation 3 of 10\n",
      "No anomalies detected.\n",
      "Model Number: 534 with model UnivariateMotif in generation 3 of 10\n",
      "Model Number: 535 with model UnivariateRegression in generation 3 of 10\n",
      "Model Number: 536 with model MultivariateRegression in generation 3 of 10\n",
      "Model Number: 537 with model ARIMA in generation 3 of 10\n",
      "Model Number: 538 with model SeasonalNaive in generation 3 of 10\n",
      "Model Number: 539 with model MultivariateRegression in generation 3 of 10\n"
     ]
    },
    {
     "name": "stderr",
     "output_type": "stream",
     "text": [
      "[Parallel(n_jobs=-2)]: Using backend ThreadingBackend with 3 concurrent workers.\n",
      "[Parallel(n_jobs=-2)]: Done  44 tasks      | elapsed:    0.0s\n",
      "[Parallel(n_jobs=-2)]: Done 194 tasks      | elapsed:    0.3s\n",
      "[Parallel(n_jobs=-2)]: Done 200 out of 200 | elapsed:    0.3s finished\n",
      "[Parallel(n_jobs=3)]: Using backend ThreadingBackend with 3 concurrent workers.\n",
      "[Parallel(n_jobs=3)]: Done  44 tasks      | elapsed:    0.0s\n",
      "[Parallel(n_jobs=3)]: Done 194 tasks      | elapsed:    0.0s\n",
      "[Parallel(n_jobs=3)]: Done 200 out of 200 | elapsed:    0.0s finished\n",
      "[Parallel(n_jobs=3)]: Using backend ThreadingBackend with 3 concurrent workers.\n",
      "[Parallel(n_jobs=3)]: Done  44 tasks      | elapsed:    0.0s\n",
      "[Parallel(n_jobs=3)]: Done 194 tasks      | elapsed:    0.0s\n",
      "[Parallel(n_jobs=3)]: Done 200 out of 200 | elapsed:    0.0s finished\n",
      "[Parallel(n_jobs=3)]: Using backend ThreadingBackend with 3 concurrent workers.\n",
      "[Parallel(n_jobs=3)]: Done  44 tasks      | elapsed:    0.0s\n",
      "[Parallel(n_jobs=3)]: Done 194 tasks      | elapsed:    0.0s\n",
      "[Parallel(n_jobs=3)]: Done 200 out of 200 | elapsed:    0.0s finished\n",
      "[Parallel(n_jobs=3)]: Using backend ThreadingBackend with 3 concurrent workers.\n",
      "[Parallel(n_jobs=3)]: Done  44 tasks      | elapsed:    0.0s\n",
      "[Parallel(n_jobs=3)]: Done 194 tasks      | elapsed:    0.0s\n",
      "[Parallel(n_jobs=3)]: Done 200 out of 200 | elapsed:    0.0s finished\n",
      "[Parallel(n_jobs=3)]: Using backend ThreadingBackend with 3 concurrent workers.\n",
      "[Parallel(n_jobs=3)]: Done  44 tasks      | elapsed:    0.0s\n",
      "[Parallel(n_jobs=3)]: Done 194 tasks      | elapsed:    0.0s\n",
      "[Parallel(n_jobs=3)]: Done 200 out of 200 | elapsed:    0.0s finished\n",
      "[Parallel(n_jobs=3)]: Using backend ThreadingBackend with 3 concurrent workers.\n",
      "[Parallel(n_jobs=3)]: Done  44 tasks      | elapsed:    0.0s\n",
      "[Parallel(n_jobs=3)]: Done 194 tasks      | elapsed:    0.0s\n",
      "[Parallel(n_jobs=3)]: Done 200 out of 200 | elapsed:    0.0s finished\n",
      "[Parallel(n_jobs=3)]: Using backend ThreadingBackend with 3 concurrent workers.\n",
      "[Parallel(n_jobs=3)]: Done  44 tasks      | elapsed:    0.0s\n",
      "[Parallel(n_jobs=3)]: Done 194 tasks      | elapsed:    0.0s\n",
      "[Parallel(n_jobs=3)]: Done 200 out of 200 | elapsed:    0.0s finished\n",
      "[Parallel(n_jobs=3)]: Using backend ThreadingBackend with 3 concurrent workers.\n",
      "[Parallel(n_jobs=3)]: Done  44 tasks      | elapsed:    0.0s\n",
      "[Parallel(n_jobs=3)]: Done 194 tasks      | elapsed:    0.0s\n",
      "[Parallel(n_jobs=3)]: Done 200 out of 200 | elapsed:    0.0s finished\n",
      "[Parallel(n_jobs=3)]: Using backend ThreadingBackend with 3 concurrent workers.\n",
      "[Parallel(n_jobs=3)]: Done  44 tasks      | elapsed:    0.0s\n",
      "[Parallel(n_jobs=3)]: Done 194 tasks      | elapsed:    0.0s\n",
      "[Parallel(n_jobs=3)]: Done 200 out of 200 | elapsed:    0.0s finished\n",
      "[Parallel(n_jobs=3)]: Using backend ThreadingBackend with 3 concurrent workers.\n",
      "[Parallel(n_jobs=3)]: Done  44 tasks      | elapsed:    0.0s\n",
      "[Parallel(n_jobs=3)]: Done 194 tasks      | elapsed:    0.0s\n",
      "[Parallel(n_jobs=3)]: Done 200 out of 200 | elapsed:    0.0s finished\n",
      "[Parallel(n_jobs=3)]: Using backend ThreadingBackend with 3 concurrent workers.\n",
      "[Parallel(n_jobs=3)]: Done  44 tasks      | elapsed:    0.0s\n",
      "[Parallel(n_jobs=3)]: Done 194 tasks      | elapsed:    0.0s\n",
      "[Parallel(n_jobs=3)]: Done 200 out of 200 | elapsed:    0.0s finished\n",
      "[Parallel(n_jobs=3)]: Using backend ThreadingBackend with 3 concurrent workers.\n",
      "[Parallel(n_jobs=3)]: Done  44 tasks      | elapsed:    0.0s\n",
      "[Parallel(n_jobs=3)]: Done 194 tasks      | elapsed:    0.0s\n",
      "[Parallel(n_jobs=3)]: Done 200 out of 200 | elapsed:    0.0s finished\n"
     ]
    },
    {
     "name": "stdout",
     "output_type": "stream",
     "text": [
      "Model Number: 540 with model FBProphet in generation 3 of 10\n"
     ]
    },
    {
     "name": "stderr",
     "output_type": "stream",
     "text": [
      "22:54:41 - cmdstanpy - INFO - Chain [1] start processing\n",
      "22:54:41 - cmdstanpy - INFO - Chain [1] done processing\n"
     ]
    },
    {
     "name": "stdout",
     "output_type": "stream",
     "text": [
      "Model Number: 541 with model WindowRegression in generation 3 of 10\n",
      "Model Number: 542 with model DatepartRegression in generation 3 of 10\n",
      "Model Number: 543 with model WindowRegression in generation 3 of 10\n",
      "[LightGBM] [Warning] Accuracy may be bad since you didn't explicitly set num_leaves OR 2^max_depth > num_leaves. (num_leaves=31).\n",
      "[LightGBM] [Warning] Accuracy may be bad since you didn't explicitly set num_leaves OR 2^max_depth > num_leaves. (num_leaves=31).\n",
      "[LightGBM] [Warning] Auto-choosing col-wise multi-threading, the overhead of testing was 0.000203 seconds.\n",
      "You can set `force_col_wise=true` to remove the overhead.\n",
      "[LightGBM] [Warning] No further splits with positive gain, best gain: -inf\n",
      "[LightGBM] [Warning] No further splits with positive gain, best gain: -inf\n",
      "[LightGBM] [Warning] No further splits with positive gain, best gain: -inf\n",
      "[LightGBM] [Warning] No further splits with positive gain, best gain: -inf\n",
      "[LightGBM] [Warning] No further splits with positive gain, best gain: -inf\n",
      "[LightGBM] [Warning] No further splits with positive gain, best gain: -inf\n",
      "[LightGBM] [Warning] No further splits with positive gain, best gain: -inf\n",
      "[LightGBM] [Warning] No further splits with positive gain, best gain: -inf\n",
      "[LightGBM] [Warning] No further splits with positive gain, best gain: -inf\n",
      "[LightGBM] [Warning] No further splits with positive gain, best gain: -inf\n",
      "[LightGBM] [Warning] No further splits with positive gain, best gain: -inf\n",
      "[LightGBM] [Warning] No further splits with positive gain, best gain: -inf\n",
      "[LightGBM] [Warning] No further splits with positive gain, best gain: -inf\n",
      "[LightGBM] [Warning] No further splits with positive gain, best gain: -inf\n",
      "[LightGBM] [Warning] No further splits with positive gain, best gain: -inf\n",
      "[LightGBM] [Warning] No further splits with positive gain, best gain: -inf\n",
      "[LightGBM] [Warning] No further splits with positive gain, best gain: -inf\n",
      "[LightGBM] [Warning] No further splits with positive gain, best gain: -inf\n",
      "[LightGBM] [Warning] No further splits with positive gain, best gain: -inf\n",
      "[LightGBM] [Warning] No further splits with positive gain, best gain: -inf\n",
      "[LightGBM] [Warning] No further splits with positive gain, best gain: -inf\n",
      "[LightGBM] [Warning] No further splits with positive gain, best gain: -inf\n",
      "[LightGBM] [Warning] No further splits with positive gain, best gain: -inf\n",
      "[LightGBM] [Warning] No further splits with positive gain, best gain: -inf\n",
      "[LightGBM] [Warning] No further splits with positive gain, best gain: -inf\n",
      "[LightGBM] [Warning] No further splits with positive gain, best gain: -inf\n",
      "[LightGBM] [Warning] No further splits with positive gain, best gain: -inf\n",
      "[LightGBM] [Warning] No further splits with positive gain, best gain: -inf\n",
      "[LightGBM] [Warning] No further splits with positive gain, best gain: -inf\n",
      "[LightGBM] [Warning] No further splits with positive gain, best gain: -inf\n",
      "[LightGBM] [Warning] No further splits with positive gain, best gain: -inf\n",
      "[LightGBM] [Warning] No further splits with positive gain, best gain: -inf\n",
      "[LightGBM] [Warning] No further splits with positive gain, best gain: -inf\n",
      "[LightGBM] [Warning] No further splits with positive gain, best gain: -inf\n",
      "[LightGBM] [Warning] No further splits with positive gain, best gain: -inf\n",
      "[LightGBM] [Warning] No further splits with positive gain, best gain: -inf\n",
      "[LightGBM] [Warning] No further splits with positive gain, best gain: -inf\n",
      "[LightGBM] [Warning] No further splits with positive gain, best gain: -inf\n",
      "[LightGBM] [Warning] No further splits with positive gain, best gain: -inf\n",
      "[LightGBM] [Warning] No further splits with positive gain, best gain: -inf\n",
      "[LightGBM] [Warning] No further splits with positive gain, best gain: -inf\n",
      "[LightGBM] [Warning] No further splits with positive gain, best gain: -inf\n",
      "[LightGBM] [Warning] No further splits with positive gain, best gain: -inf\n",
      "[LightGBM] [Warning] No further splits with positive gain, best gain: -inf\n",
      "[LightGBM] [Warning] No further splits with positive gain, best gain: -inf\n",
      "[LightGBM] [Warning] No further splits with positive gain, best gain: -inf\n",
      "[LightGBM] [Warning] No further splits with positive gain, best gain: -inf\n",
      "[LightGBM] [Warning] No further splits with positive gain, best gain: -inf\n",
      "[LightGBM] [Warning] No further splits with positive gain, best gain: -inf\n",
      "[LightGBM] [Warning] No further splits with positive gain, best gain: -inf\n",
      "[LightGBM] [Warning] No further splits with positive gain, best gain: -inf\n",
      "[LightGBM] [Warning] No further splits with positive gain, best gain: -inf\n",
      "[LightGBM] [Warning] No further splits with positive gain, best gain: -inf\n",
      "[LightGBM] [Warning] No further splits with positive gain, best gain: -inf\n",
      "[LightGBM] [Warning] No further splits with positive gain, best gain: -inf\n",
      "[LightGBM] [Warning] No further splits with positive gain, best gain: -inf\n",
      "[LightGBM] [Warning] No further splits with positive gain, best gain: -inf\n",
      "[LightGBM] [Warning] No further splits with positive gain, best gain: -inf\n",
      "[LightGBM] [Warning] No further splits with positive gain, best gain: -inf\n",
      "[LightGBM] [Warning] No further splits with positive gain, best gain: -inf\n",
      "[LightGBM] [Warning] No further splits with positive gain, best gain: -inf\n",
      "[LightGBM] [Warning] No further splits with positive gain, best gain: -inf\n",
      "[LightGBM] [Warning] No further splits with positive gain, best gain: -inf\n",
      "[LightGBM] [Warning] No further splits with positive gain, best gain: -inf\n",
      "[LightGBM] [Warning] No further splits with positive gain, best gain: -inf\n",
      "[LightGBM] [Warning] No further splits with positive gain, best gain: -inf\n",
      "[LightGBM] [Warning] No further splits with positive gain, best gain: -inf\n",
      "[LightGBM] [Warning] No further splits with positive gain, best gain: -inf\n",
      "[LightGBM] [Warning] No further splits with positive gain, best gain: -inf\n",
      "[LightGBM] [Warning] No further splits with positive gain, best gain: -inf\n",
      "[LightGBM] [Warning] No further splits with positive gain, best gain: -inf\n",
      "[LightGBM] [Warning] No further splits with positive gain, best gain: -inf\n",
      "[LightGBM] [Warning] No further splits with positive gain, best gain: -inf\n",
      "[LightGBM] [Warning] No further splits with positive gain, best gain: -inf\n",
      "[LightGBM] [Warning] No further splits with positive gain, best gain: -inf\n",
      "[LightGBM] [Warning] No further splits with positive gain, best gain: -inf\n",
      "[LightGBM] [Warning] No further splits with positive gain, best gain: -inf\n",
      "[LightGBM] [Warning] No further splits with positive gain, best gain: -inf\n",
      "[LightGBM] [Warning] No further splits with positive gain, best gain: -inf\n",
      "[LightGBM] [Warning] No further splits with positive gain, best gain: -inf\n",
      "[LightGBM] [Warning] No further splits with positive gain, best gain: -inf\n",
      "[LightGBM] [Warning] No further splits with positive gain, best gain: -inf\n",
      "[LightGBM] [Warning] No further splits with positive gain, best gain: -inf\n",
      "[LightGBM] [Warning] No further splits with positive gain, best gain: -inf\n",
      "[LightGBM] [Warning] No further splits with positive gain, best gain: -inf\n",
      "[LightGBM] [Warning] No further splits with positive gain, best gain: -inf\n",
      "[LightGBM] [Warning] No further splits with positive gain, best gain: -inf\n",
      "[LightGBM] [Warning] No further splits with positive gain, best gain: -inf\n",
      "[LightGBM] [Warning] No further splits with positive gain, best gain: -inf\n",
      "[LightGBM] [Warning] No further splits with positive gain, best gain: -inf\n",
      "[LightGBM] [Warning] No further splits with positive gain, best gain: -inf\n",
      "[LightGBM] [Warning] No further splits with positive gain, best gain: -inf\n",
      "[LightGBM] [Warning] No further splits with positive gain, best gain: -inf\n",
      "[LightGBM] [Warning] No further splits with positive gain, best gain: -inf\n",
      "[LightGBM] [Warning] No further splits with positive gain, best gain: -inf\n",
      "[LightGBM] [Warning] No further splits with positive gain, best gain: -inf\n",
      "[LightGBM] [Warning] No further splits with positive gain, best gain: -inf\n",
      "[LightGBM] [Warning] No further splits with positive gain, best gain: -inf\n",
      "[LightGBM] [Warning] No further splits with positive gain, best gain: -inf\n",
      "[LightGBM] [Warning] No further splits with positive gain, best gain: -inf\n",
      "[LightGBM] [Warning] No further splits with positive gain, best gain: -inf\n",
      "[LightGBM] [Warning] No further splits with positive gain, best gain: -inf\n",
      "[LightGBM] [Warning] No further splits with positive gain, best gain: -inf\n",
      "[LightGBM] [Warning] No further splits with positive gain, best gain: -inf\n",
      "[LightGBM] [Warning] No further splits with positive gain, best gain: -inf\n",
      "[LightGBM] [Warning] No further splits with positive gain, best gain: -inf\n",
      "[LightGBM] [Warning] No further splits with positive gain, best gain: -inf\n",
      "[LightGBM] [Warning] No further splits with positive gain, best gain: -inf\n",
      "[LightGBM] [Warning] No further splits with positive gain, best gain: -inf\n",
      "[LightGBM] [Warning] No further splits with positive gain, best gain: -inf\n",
      "[LightGBM] [Warning] No further splits with positive gain, best gain: -inf\n",
      "[LightGBM] [Warning] No further splits with positive gain, best gain: -inf\n",
      "[LightGBM] [Warning] No further splits with positive gain, best gain: -inf\n",
      "[LightGBM] [Warning] No further splits with positive gain, best gain: -inf\n",
      "[LightGBM] [Warning] No further splits with positive gain, best gain: -inf\n",
      "[LightGBM] [Warning] No further splits with positive gain, best gain: -inf\n",
      "[LightGBM] [Warning] No further splits with positive gain, best gain: -inf\n",
      "[LightGBM] [Warning] No further splits with positive gain, best gain: -inf\n",
      "[LightGBM] [Warning] No further splits with positive gain, best gain: -inf\n",
      "[LightGBM] [Warning] No further splits with positive gain, best gain: -inf\n",
      "[LightGBM] [Warning] No further splits with positive gain, best gain: -inf\n",
      "[LightGBM] [Warning] No further splits with positive gain, best gain: -inf\n",
      "[LightGBM] [Warning] No further splits with positive gain, best gain: -inf\n",
      "[LightGBM] [Warning] No further splits with positive gain, best gain: -inf\n",
      "[LightGBM] [Warning] No further splits with positive gain, best gain: -inf\n",
      "[LightGBM] [Warning] No further splits with positive gain, best gain: -inf\n",
      "[LightGBM] [Warning] No further splits with positive gain, best gain: -inf\n",
      "[LightGBM] [Warning] No further splits with positive gain, best gain: -inf\n",
      "[LightGBM] [Warning] No further splits with positive gain, best gain: -inf\n",
      "[LightGBM] [Warning] No further splits with positive gain, best gain: -inf\n",
      "[LightGBM] [Warning] No further splits with positive gain, best gain: -inf\n",
      "[LightGBM] [Warning] No further splits with positive gain, best gain: -inf\n",
      "[LightGBM] [Warning] No further splits with positive gain, best gain: -inf\n",
      "[LightGBM] [Warning] No further splits with positive gain, best gain: -inf\n",
      "[LightGBM] [Warning] No further splits with positive gain, best gain: -inf\n",
      "[LightGBM] [Warning] No further splits with positive gain, best gain: -inf\n",
      "[LightGBM] [Warning] No further splits with positive gain, best gain: -inf\n",
      "[LightGBM] [Warning] No further splits with positive gain, best gain: -inf\n",
      "[LightGBM] [Warning] No further splits with positive gain, best gain: -inf\n",
      "[LightGBM] [Warning] No further splits with positive gain, best gain: -inf\n",
      "[LightGBM] [Warning] No further splits with positive gain, best gain: -inf\n",
      "[LightGBM] [Warning] No further splits with positive gain, best gain: -inf\n",
      "[LightGBM] [Warning] No further splits with positive gain, best gain: -inf\n",
      "[LightGBM] [Warning] No further splits with positive gain, best gain: -inf\n",
      "[LightGBM] [Warning] No further splits with positive gain, best gain: -inf\n",
      "[LightGBM] [Warning] No further splits with positive gain, best gain: -inf\n",
      "[LightGBM] [Warning] No further splits with positive gain, best gain: -inf\n",
      "[LightGBM] [Warning] No further splits with positive gain, best gain: -inf\n",
      "[LightGBM] [Warning] No further splits with positive gain, best gain: -inf\n",
      "[LightGBM] [Warning] No further splits with positive gain, best gain: -inf\n",
      "[LightGBM] [Warning] No further splits with positive gain, best gain: -inf\n",
      "[LightGBM] [Warning] No further splits with positive gain, best gain: -inf\n",
      "[LightGBM] [Warning] No further splits with positive gain, best gain: -inf\n",
      "[LightGBM] [Warning] No further splits with positive gain, best gain: -inf\n",
      "[LightGBM] [Warning] No further splits with positive gain, best gain: -inf\n",
      "[LightGBM] [Warning] No further splits with positive gain, best gain: -inf\n",
      "[LightGBM] [Warning] No further splits with positive gain, best gain: -inf\n",
      "[LightGBM] [Warning] No further splits with positive gain, best gain: -inf\n",
      "[LightGBM] [Warning] No further splits with positive gain, best gain: -inf\n",
      "[LightGBM] [Warning] No further splits with positive gain, best gain: -inf\n",
      "[LightGBM] [Warning] No further splits with positive gain, best gain: -inf\n",
      "[LightGBM] [Warning] No further splits with positive gain, best gain: -inf\n",
      "[LightGBM] [Warning] No further splits with positive gain, best gain: -inf\n",
      "[LightGBM] [Warning] No further splits with positive gain, best gain: -inf\n",
      "[LightGBM] [Warning] No further splits with positive gain, best gain: -inf\n",
      "[LightGBM] [Warning] No further splits with positive gain, best gain: -inf\n",
      "[LightGBM] [Warning] No further splits with positive gain, best gain: -inf\n",
      "[LightGBM] [Warning] No further splits with positive gain, best gain: -inf\n",
      "[LightGBM] [Warning] No further splits with positive gain, best gain: -inf\n",
      "[LightGBM] [Warning] No further splits with positive gain, best gain: -inf\n",
      "[LightGBM] [Warning] No further splits with positive gain, best gain: -inf\n",
      "[LightGBM] [Warning] No further splits with positive gain, best gain: -inf\n",
      "[LightGBM] [Warning] No further splits with positive gain, best gain: -inf\n",
      "[LightGBM] [Warning] No further splits with positive gain, best gain: -inf\n",
      "[LightGBM] [Warning] No further splits with positive gain, best gain: -inf\n",
      "[LightGBM] [Warning] No further splits with positive gain, best gain: -inf\n",
      "[LightGBM] [Warning] No further splits with positive gain, best gain: -inf\n",
      "[LightGBM] [Warning] No further splits with positive gain, best gain: -inf\n",
      "[LightGBM] [Warning] No further splits with positive gain, best gain: -inf\n",
      "[LightGBM] [Warning] No further splits with positive gain, best gain: -inf\n",
      "[LightGBM] [Warning] No further splits with positive gain, best gain: -inf\n",
      "[LightGBM] [Warning] No further splits with positive gain, best gain: -inf\n",
      "[LightGBM] [Warning] No further splits with positive gain, best gain: -inf\n",
      "[LightGBM] [Warning] No further splits with positive gain, best gain: -inf\n",
      "[LightGBM] [Warning] No further splits with positive gain, best gain: -inf\n",
      "[LightGBM] [Warning] No further splits with positive gain, best gain: -inf\n",
      "[LightGBM] [Warning] No further splits with positive gain, best gain: -inf\n",
      "[LightGBM] [Warning] No further splits with positive gain, best gain: -inf\n",
      "[LightGBM] [Warning] No further splits with positive gain, best gain: -inf\n",
      "[LightGBM] [Warning] No further splits with positive gain, best gain: -inf\n",
      "[LightGBM] [Warning] No further splits with positive gain, best gain: -inf\n",
      "[LightGBM] [Warning] No further splits with positive gain, best gain: -inf\n",
      "[LightGBM] [Warning] No further splits with positive gain, best gain: -inf\n",
      "[LightGBM] [Warning] No further splits with positive gain, best gain: -inf\n",
      "[LightGBM] [Warning] No further splits with positive gain, best gain: -inf\n",
      "[LightGBM] [Warning] No further splits with positive gain, best gain: -inf\n",
      "[LightGBM] [Warning] No further splits with positive gain, best gain: -inf\n",
      "[LightGBM] [Warning] No further splits with positive gain, best gain: -inf\n",
      "[LightGBM] [Warning] No further splits with positive gain, best gain: -inf\n",
      "[LightGBM] [Warning] No further splits with positive gain, best gain: -inf\n",
      "[LightGBM] [Warning] No further splits with positive gain, best gain: -inf\n",
      "[LightGBM] [Warning] No further splits with positive gain, best gain: -inf\n",
      "[LightGBM] [Warning] No further splits with positive gain, best gain: -inf\n",
      "[LightGBM] [Warning] No further splits with positive gain, best gain: -inf\n",
      "[LightGBM] [Warning] No further splits with positive gain, best gain: -inf\n",
      "[LightGBM] [Warning] No further splits with positive gain, best gain: -inf\n",
      "[LightGBM] [Warning] No further splits with positive gain, best gain: -inf\n",
      "[LightGBM] [Warning] No further splits with positive gain, best gain: -inf\n",
      "[LightGBM] [Warning] No further splits with positive gain, best gain: -inf\n",
      "[LightGBM] [Warning] No further splits with positive gain, best gain: -inf\n",
      "[LightGBM] [Warning] No further splits with positive gain, best gain: -inf\n",
      "[LightGBM] [Warning] No further splits with positive gain, best gain: -inf\n",
      "[LightGBM] [Warning] No further splits with positive gain, best gain: -inf\n",
      "[LightGBM] [Warning] No further splits with positive gain, best gain: -inf\n",
      "[LightGBM] [Warning] No further splits with positive gain, best gain: -inf\n",
      "[LightGBM] [Warning] No further splits with positive gain, best gain: -inf\n",
      "[LightGBM] [Warning] No further splits with positive gain, best gain: -inf\n",
      "[LightGBM] [Warning] No further splits with positive gain, best gain: -inf\n",
      "[LightGBM] [Warning] No further splits with positive gain, best gain: -inf\n",
      "[LightGBM] [Warning] No further splits with positive gain, best gain: -inf\n",
      "[LightGBM] [Warning] No further splits with positive gain, best gain: -inf\n",
      "[LightGBM] [Warning] No further splits with positive gain, best gain: -inf\n",
      "[LightGBM] [Warning] No further splits with positive gain, best gain: -inf\n",
      "[LightGBM] [Warning] No further splits with positive gain, best gain: -inf\n",
      "[LightGBM] [Warning] No further splits with positive gain, best gain: -inf\n",
      "[LightGBM] [Warning] No further splits with positive gain, best gain: -inf\n",
      "[LightGBM] [Warning] No further splits with positive gain, best gain: -inf\n",
      "[LightGBM] [Warning] No further splits with positive gain, best gain: -inf\n",
      "[LightGBM] [Warning] No further splits with positive gain, best gain: -inf\n",
      "[LightGBM] [Warning] No further splits with positive gain, best gain: -inf\n",
      "[LightGBM] [Warning] No further splits with positive gain, best gain: -inf\n",
      "[LightGBM] [Warning] No further splits with positive gain, best gain: -inf\n",
      "[LightGBM] [Warning] No further splits with positive gain, best gain: -inf\n",
      "[LightGBM] [Warning] No further splits with positive gain, best gain: -inf\n",
      "[LightGBM] [Warning] No further splits with positive gain, best gain: -inf\n",
      "[LightGBM] [Warning] No further splits with positive gain, best gain: -inf\n",
      "[LightGBM] [Warning] No further splits with positive gain, best gain: -inf\n",
      "[LightGBM] [Warning] No further splits with positive gain, best gain: -inf\n",
      "[LightGBM] [Warning] No further splits with positive gain, best gain: -inf\n",
      "[LightGBM] [Warning] No further splits with positive gain, best gain: -inf\n",
      "[LightGBM] [Warning] No further splits with positive gain, best gain: -inf\n",
      "[LightGBM] [Warning] No further splits with positive gain, best gain: -inf\n",
      "[LightGBM] [Warning] No further splits with positive gain, best gain: -inf\n",
      "[LightGBM] [Warning] No further splits with positive gain, best gain: -inf\n",
      "[LightGBM] [Warning] No further splits with positive gain, best gain: -inf\n",
      "[LightGBM] [Warning] No further splits with positive gain, best gain: -inf\n",
      "[LightGBM] [Warning] No further splits with positive gain, best gain: -inf\n",
      "[LightGBM] [Warning] No further splits with positive gain, best gain: -inf\n",
      "[LightGBM] [Warning] No further splits with positive gain, best gain: -inf\n",
      "[LightGBM] [Warning] No further splits with positive gain, best gain: -inf\n",
      "Model Number: 544 with model MetricMotif in generation 3 of 10\n",
      "Template Eval Error: Exception('Transformer Cointegration failed on fit') in model 544: MetricMotif\n",
      "Model Number: 545 with model MultivariateMotif in generation 3 of 10\n",
      "Model Number: 546 with model MultivariateMotif in generation 3 of 10\n",
      "Model Number: 547 with model NVAR in generation 3 of 10\n",
      "Model Number: 548 with model GLM in generation 3 of 10\n",
      "Model Number: 549 with model MultivariateMotif in generation 3 of 10\n",
      "Model Number: 550 with model AverageValueNaive in generation 3 of 10\n",
      "Model Number: 551 with model UnivariateMotif in generation 3 of 10\n",
      "Model Number: 552 with model AverageValueNaive in generation 3 of 10\n",
      "Model Number: 553 with model SectionalMotif in generation 3 of 10\n",
      "Model Number: 554 with model UnivariateRegression in generation 3 of 10\n",
      "Template Eval Error: ValueError(\"regression_type='User' but not future_regressor supplied.\") in model 554: UnivariateRegression\n",
      "Model Number: 555 with model Theta in generation 3 of 10\n",
      "Model Number: 556 with model ARDL in generation 3 of 10\n",
      "Model Number: 557 with model UnivariateMotif in generation 3 of 10\n",
      "Model Number: 558 with model SectionalMotif in generation 3 of 10\n",
      "Model Number: 559 with model ETS in generation 3 of 10\n",
      "Model Number: 560 with model DatepartRegression in generation 3 of 10\n",
      "Template Eval Error: ValueError('Model DatepartRegression returned NaN for one or more series. fail_on_forecast_nan=True') in model 560: DatepartRegression\n",
      "Model Number: 561 with model UnivariateRegression in generation 3 of 10\n",
      "Model Number: 562 with model NVAR in generation 3 of 10\n"
     ]
    },
    {
     "name": "stderr",
     "output_type": "stream",
     "text": [
      "c:\\Python310\\lib\\site-packages\\sklearn\\neighbors\\_regression.py:470: UserWarning: One or more samples have no neighbors within specified radius; predicting NaN.\n",
      "  warnings.warn(empty_warning_msg)\n"
     ]
    },
    {
     "name": "stdout",
     "output_type": "stream",
     "text": [
      "Model Number: 563 with model WindowRegression in generation 3 of 10\n",
      "New Generation: 4 of 10\n",
      "Model Number: 564 with model UnivariateRegression in generation 4 of 10\n",
      "Model Number: 565 with model ETS in generation 4 of 10\n",
      "Template Eval Error: Exception('Transformer Cointegration failed on fit') in model 565: ETS\n",
      "Model Number: 566 with model ConstantNaive in generation 4 of 10\n",
      "Model Number: 567 with model ARIMA in generation 4 of 10\n",
      "Model Number: 568 with model AverageValueNaive in generation 4 of 10\n",
      "Model Number: 569 with model Theta in generation 4 of 10\n",
      "Model Number: 570 with model GLM in generation 4 of 10\n",
      "No anomalies detected.\n",
      "Model Number: 571 with model ARIMA in generation 4 of 10\n",
      "Model Number: 572 with model UnobservedComponents in generation 4 of 10\n",
      "Template Eval Error: ValueError(\"regression_type='User' but no future_regressor supplied\") in model 572: UnobservedComponents\n",
      "Model Number: 573 with model DatepartRegression in generation 4 of 10\n",
      "Template Eval Error: ImportError('Tensorflow not available, install with pip install tensorflow.') in model 573: DatepartRegression\n",
      "Model Number: 574 with model ARIMA in generation 4 of 10\n",
      "Model Number: 575 with model UnivariateMotif in generation 4 of 10\n",
      "Model Number: 576 with model DatepartRegression in generation 4 of 10\n",
      "Model Number: 577 with model MetricMotif in generation 4 of 10\n",
      "Model Number: 578 with model GLM in generation 4 of 10"
     ]
    },
    {
     "name": "stderr",
     "output_type": "stream",
     "text": [
      "c:\\Python310\\lib\\site-packages\\autots\\tools\\probabilistic.py:67: RuntimeWarning: invalid value encountered in divide\n",
      "  (prior_mu / prior_sigma**2) + ((n * data_mu) / prior_sigma**2)\n",
      "c:\\Python310\\lib\\site-packages\\autots\\tools\\probabilistic.py:68: RuntimeWarning: divide by zero encountered in divide\n",
      "  ) / ((1 / prior_sigma**2) + (n / prior_sigma**2))\n"
     ]
    },
    {
     "name": "stdout",
     "output_type": "stream",
     "text": [
      "\n",
      "Model Number: 579 with model ARDL in generation 4 of 10\n",
      "Template Eval Error: ValueError(\"regression_type='User' but future_regressor not supplied\") in model 579: ARDL\n",
      "Model Number: 580 with model MetricMotif in generation 4 of 10\n",
      "Model Number: 581 with model MetricMotif in generation 4 of 10\n",
      "Model Number: 582 with model GLS in generation 4 of 10\n",
      "Model Number: 583 with model GLM in generation 4 of 10\n",
      "No anomalies detected.\n",
      "Model Number: 584 with model ConstantNaive in generation 4 of 10\n",
      "Model Number: 585 with model Theta in generation 4 of 10\n",
      "Model Number: 586 with model MetricMotif in generation 4 of 10\n",
      "Model Number: 587 with model UnivariateRegression in generation 4 of 10\n",
      "Template Eval Error: Exception('Transformer BTCD failed on fit') in model 587: UnivariateRegression\n",
      "Model Number: 588 with model ARIMA in generation 4 of 10\n",
      "Model Number: 589 with model Theta in generation 4 of 10\n",
      "Model Number: 590 with model GLS in generation 4 of 10\n",
      "Model Number: 591 with model FBProphet in generation 4 of 10\n"
     ]
    },
    {
     "name": "stderr",
     "output_type": "stream",
     "text": [
      "22:55:37 - cmdstanpy - INFO - Chain [1] start processing\n",
      "22:55:37 - cmdstanpy - INFO - Chain [1] done processing\n"
     ]
    },
    {
     "name": "stdout",
     "output_type": "stream",
     "text": [
      "Model Number: 592 with model SectionalMotif in generation 4 of 10\n",
      "Model Number: 593 with model MultivariateRegression in generation 4 of 10\n",
      "Model Number: 594 with model DatepartRegression in generation 4 of 10\n",
      "Template Eval Error: ValueError(\"regression_type='User' but no future_regressor passed\") in model 594: DatepartRegression\n",
      "Model Number: 595 with model UnivariateRegression in generation 4 of 10\n",
      "Template Eval Error: ValueError(\"regression_type='User' but not future_regressor supplied.\") in model 595: UnivariateRegression\n",
      "Model Number: 596 with model NVAR in generation 4 of 10\n",
      "Model Number: 597 with model WindowRegression in generation 4 of 10\n",
      "Model Number: 598 with model LastValueNaive in generation 4 of 10\n",
      "Model Number: 599 with model DatepartRegression in generation 4 of 10\n"
     ]
    },
    {
     "name": "stderr",
     "output_type": "stream",
     "text": [
      "[Parallel(n_jobs=-2)]: Using backend ThreadingBackend with 3 concurrent workers.\n",
      "[Parallel(n_jobs=-2)]: Done  44 tasks      | elapsed:    0.0s\n",
      "[Parallel(n_jobs=-2)]: Done 100 out of 100 | elapsed:    0.1s finished\n",
      "[Parallel(n_jobs=3)]: Using backend ThreadingBackend with 3 concurrent workers.\n"
     ]
    },
    {
     "name": "stdout",
     "output_type": "stream",
     "text": [
      "Model Number: 600 with model MultivariateMotif in generation 4 of 10\n",
      "Model Number: 601 with model NVAR in generation 4 of 10\n"
     ]
    },
    {
     "name": "stderr",
     "output_type": "stream",
     "text": [
      "[Parallel(n_jobs=3)]: Done  44 tasks      | elapsed:    0.0s\n",
      "[Parallel(n_jobs=3)]: Done 100 out of 100 | elapsed:    0.0s finished\n"
     ]
    },
    {
     "name": "stdout",
     "output_type": "stream",
     "text": [
      "Model Number: 602 with model GLM in generation 4 of 10\n",
      "Model Number: 603 with model ARIMA in generation 4 of 10\n",
      "Template Eval Error: ValueError(\"regression_type='User' but future_regressor not supplied\") in model 603: ARIMA\n",
      "Model Number: 604 with model UnivariateMotif in generation 4 of 10\n",
      "Model Number: 605 with model GLM in generation 4 of 10\n",
      "Template Eval Error: ValueError('The first guess on the deviance function returned a nan.  This could be a boundary  problem and should be reported.') in model 605: GLM\n",
      "Model Number: 606 with model MultivariateRegression in generation 4 of 10\n"
     ]
    },
    {
     "name": "stderr",
     "output_type": "stream",
     "text": [
      "c:\\Python310\\lib\\site-packages\\statsmodels\\genmod\\families\\family.py:1346: RuntimeWarning: divide by zero encountered in log\n",
      "  resid_dev -= endog_alpha * np.log(endog_alpha / mu_alpha)\n",
      "c:\\Python310\\lib\\site-packages\\statsmodels\\genmod\\families\\family.py:1346: RuntimeWarning: invalid value encountered in log\n",
      "  resid_dev -= endog_alpha * np.log(endog_alpha / mu_alpha)\n",
      "c:\\Python310\\lib\\site-packages\\statsmodels\\genmod\\families\\family.py:1346: RuntimeWarning: invalid value encountered in multiply\n",
      "  resid_dev -= endog_alpha * np.log(endog_alpha / mu_alpha)\n"
     ]
    },
    {
     "name": "stdout",
     "output_type": "stream",
     "text": [
      "Model Number: 607 with model UnivariateMotif in generation 4 of 10\n",
      "Model Number: 608 with model SectionalMotif in generation 4 of 10\n",
      "Model Number: 609 with model MetricMotif in generation 4 of 10\n",
      "Model Number: 610 with model AverageValueNaive in generation 4 of 10\n",
      "Model Number: 611 with model WindowRegression in generation 4 of 10\n",
      "Model Number: 612 with model FBProphet in generation 4 of 10\n"
     ]
    },
    {
     "name": "stderr",
     "output_type": "stream",
     "text": [
      "22:55:57 - cmdstanpy - INFO - Chain [1] start processing\n",
      "22:55:57 - cmdstanpy - INFO - Chain [1] done processing\n"
     ]
    },
    {
     "name": "stdout",
     "output_type": "stream",
     "text": [
      "Model Number: 613 with model SeasonalNaive in generation 4 of 10\n",
      "Model Number: 614 with model UnivariateRegression in generation 4 of 10\n",
      "Model Number: 615 with model WindowRegression in generation 4 of 10\n",
      "Model Number: 616 with model ARIMA in generation 4 of 10\n",
      "Model Number: 617 with model UnobservedComponents in generation 4 of 10\n",
      "Model Number: 618 with model ETS in generation 4 of 10\n",
      "ETS error ValueError('endog must be strictly positive when usingmultiplicative trend or seasonal components.')\n",
      "ETS failed on Thousands of Passengers with ValueError('endog must be strictly positive when usingmultiplicative trend or seasonal components.')\n",
      "Model Number: 619 with model ARIMA in generation 4 of 10\n",
      "Model Number: 620 with model MetricMotif in generation 4 of 10\n",
      "Model Number: 621 with model ARIMA in generation 4 of 10\n",
      "Model Number: 622 with model UnobservedComponents in generation 4 of 10\n",
      "Model Number: 623 with model UnivariateMotif in generation 4 of 10\n",
      "Model Number: 624 with model SeasonalNaive in generation 4 of 10\n",
      "Template Eval Error: Exception('Transformer HolidayTransformer failed on fit') in model 624: SeasonalNaive\n",
      "Model Number: 625 with model WindowRegression in generation 4 of 10\n",
      "Template Eval Error: Exception('Transformer Cointegration failed on fit') in model 625: WindowRegression\n",
      "Model Number: 626 with model AverageValueNaive in generation 4 of 10\n",
      "Model Number: 627 with model GLM in generation 4 of 10\n",
      "Model Number: 628 with model MultivariateMotif in generation 4 of 10\n",
      "Model Number: 629 with model LastValueNaive in generation 4 of 10\n",
      "Model Number: 630 with model SectionalMotif in generation 4 of 10\n",
      "Model Number: 631 with model MetricMotif in generation 4 of 10\n",
      "Model Number: 632 with model ARDL in generation 4 of 10\n",
      "Model Number: 633 with model ETS in generation 4 of 10\n",
      "Model Number: 634 with model MetricMotif in generation 4 of 10\n",
      "Model Number: 635 with model UnivariateRegression in generation 4 of 10\n",
      "Model Number: 636 with model MultivariateMotif in generation 4 of 10\n"
     ]
    },
    {
     "name": "stderr",
     "output_type": "stream",
     "text": [
      "c:\\Python310\\lib\\site-packages\\sklearn\\linear_model\\_ridge.py:157: LinAlgWarning: Ill-conditioned matrix (rcond=1.0706e-24): result may not be accurate.\n",
      "  return linalg.solve(A, Xy, sym_pos=True, overwrite_a=True).T\n"
     ]
    },
    {
     "name": "stdout",
     "output_type": "stream",
     "text": [
      "Model Number: 637 with model UnivariateMotif in generation 4 of 10\n",
      "Model Number: 638 with model SeasonalNaive in generation 4 of 10\n",
      "Model Number: 639 with model WindowRegression in generation 4 of 10\n",
      "Model Number: 640 with model AverageValueNaive in generation 4 of 10\n",
      "Model Number: 641 with model WindowRegression in generation 4 of 10\n",
      "Model Number: 642 with model UnivariateRegression in generation 4 of 10\n",
      "Model Number: 643 with model ConstantNaive in generation 4 of 10\n"
     ]
    },
    {
     "name": "stderr",
     "output_type": "stream",
     "text": [
      "c:\\Python310\\lib\\site-packages\\sklearn\\neural_network\\_multilayer_perceptron.py:549: ConvergenceWarning: lbfgs failed to converge (status=1):\n",
      "STOP: TOTAL NO. of ITERATIONS REACHED LIMIT.\n",
      "\n",
      "Increase the number of iterations (max_iter) or scale the data as shown in:\n",
      "    https://scikit-learn.org/stable/modules/preprocessing.html\n",
      "  self.n_iter_ = _check_optimize_result(\"lbfgs\", opt_res, self.max_iter)\n"
     ]
    },
    {
     "name": "stdout",
     "output_type": "stream",
     "text": [
      "Model Number: 644 with model MultivariateRegression in generation 4 of 10\n"
     ]
    },
    {
     "name": "stderr",
     "output_type": "stream",
     "text": [
      "[Parallel(n_jobs=-2)]: Using backend ThreadingBackend with 3 concurrent workers.\n",
      "[Parallel(n_jobs=-2)]: Done  44 tasks      | elapsed:    0.0s\n",
      "[Parallel(n_jobs=-2)]: Done 194 tasks      | elapsed:    0.3s\n",
      "[Parallel(n_jobs=-2)]: Done 200 out of 200 | elapsed:    0.3s finished\n",
      "[Parallel(n_jobs=3)]: Using backend ThreadingBackend with 3 concurrent workers.\n",
      "[Parallel(n_jobs=3)]: Done  44 tasks      | elapsed:    0.0s\n",
      "[Parallel(n_jobs=3)]: Done 194 tasks      | elapsed:    0.0s\n",
      "[Parallel(n_jobs=3)]: Done 200 out of 200 | elapsed:    0.0s finished\n",
      "[Parallel(n_jobs=3)]: Using backend ThreadingBackend with 3 concurrent workers.\n",
      "[Parallel(n_jobs=3)]: Done  44 tasks      | elapsed:    0.0s\n",
      "[Parallel(n_jobs=3)]: Done 194 tasks      | elapsed:    0.0s\n",
      "[Parallel(n_jobs=3)]: Done 200 out of 200 | elapsed:    0.0s finished\n",
      "[Parallel(n_jobs=3)]: Using backend ThreadingBackend with 3 concurrent workers.\n",
      "[Parallel(n_jobs=3)]: Done  44 tasks      | elapsed:    0.0s\n",
      "[Parallel(n_jobs=3)]: Done 194 tasks      | elapsed:    0.0s\n",
      "[Parallel(n_jobs=3)]: Done 200 out of 200 | elapsed:    0.0s finished\n",
      "[Parallel(n_jobs=3)]: Using backend ThreadingBackend with 3 concurrent workers.\n",
      "[Parallel(n_jobs=3)]: Done  44 tasks      | elapsed:    0.0s\n",
      "[Parallel(n_jobs=3)]: Done 194 tasks      | elapsed:    0.0s\n",
      "[Parallel(n_jobs=3)]: Done 200 out of 200 | elapsed:    0.0s finished\n",
      "[Parallel(n_jobs=3)]: Using backend ThreadingBackend with 3 concurrent workers.\n",
      "[Parallel(n_jobs=3)]: Done  44 tasks      | elapsed:    0.0s\n",
      "[Parallel(n_jobs=3)]: Done 194 tasks      | elapsed:    0.1s\n",
      "[Parallel(n_jobs=3)]: Done 200 out of 200 | elapsed:    0.1s finished\n",
      "[Parallel(n_jobs=3)]: Using backend ThreadingBackend with 3 concurrent workers.\n",
      "[Parallel(n_jobs=3)]: Done  44 tasks      | elapsed:    0.0s\n",
      "[Parallel(n_jobs=3)]: Done 194 tasks      | elapsed:    0.0s\n",
      "[Parallel(n_jobs=3)]: Done 200 out of 200 | elapsed:    0.0s finished\n",
      "[Parallel(n_jobs=3)]: Using backend ThreadingBackend with 3 concurrent workers.\n",
      "[Parallel(n_jobs=3)]: Done  44 tasks      | elapsed:    0.0s\n",
      "[Parallel(n_jobs=3)]: Done 194 tasks      | elapsed:    0.0s\n",
      "[Parallel(n_jobs=3)]: Done 200 out of 200 | elapsed:    0.0s finished\n",
      "[Parallel(n_jobs=3)]: Using backend ThreadingBackend with 3 concurrent workers.\n",
      "[Parallel(n_jobs=3)]: Done  44 tasks      | elapsed:    0.0s\n",
      "[Parallel(n_jobs=3)]: Done 194 tasks      | elapsed:    0.0s\n",
      "[Parallel(n_jobs=3)]: Done 200 out of 200 | elapsed:    0.0s finished\n",
      "[Parallel(n_jobs=3)]: Using backend ThreadingBackend with 3 concurrent workers.\n",
      "[Parallel(n_jobs=3)]: Done  44 tasks      | elapsed:    0.0s\n",
      "[Parallel(n_jobs=3)]: Done 194 tasks      | elapsed:    0.0s\n",
      "[Parallel(n_jobs=3)]: Done 200 out of 200 | elapsed:    0.0s finished\n",
      "[Parallel(n_jobs=3)]: Using backend ThreadingBackend with 3 concurrent workers.\n",
      "[Parallel(n_jobs=3)]: Done  44 tasks      | elapsed:    0.0s\n",
      "[Parallel(n_jobs=3)]: Done 194 tasks      | elapsed:    0.0s\n",
      "[Parallel(n_jobs=3)]: Done 200 out of 200 | elapsed:    0.0s finished\n",
      "[Parallel(n_jobs=3)]: Using backend ThreadingBackend with 3 concurrent workers.\n",
      "[Parallel(n_jobs=3)]: Done  44 tasks      | elapsed:    0.0s\n"
     ]
    },
    {
     "name": "stdout",
     "output_type": "stream",
     "text": [
      "Model Number: 645 with model UnivariateMotif in generation 4 of 10\n"
     ]
    },
    {
     "name": "stderr",
     "output_type": "stream",
     "text": [
      "[Parallel(n_jobs=3)]: Done 194 tasks      | elapsed:    0.0s\n",
      "[Parallel(n_jobs=3)]: Done 200 out of 200 | elapsed:    0.0s finished\n",
      "[Parallel(n_jobs=3)]: Using backend ThreadingBackend with 3 concurrent workers.\n",
      "[Parallel(n_jobs=3)]: Done  44 tasks      | elapsed:    0.0s\n",
      "[Parallel(n_jobs=3)]: Done 194 tasks      | elapsed:    0.0s\n",
      "[Parallel(n_jobs=3)]: Done 200 out of 200 | elapsed:    0.0s finished\n"
     ]
    },
    {
     "name": "stdout",
     "output_type": "stream",
     "text": [
      "Model Number: 646 with model WindowRegression in generation 4 of 10\n",
      "Model Number: 647 with model Theta in generation 4 of 10\n",
      "Model Number: 648 with model UnivariateMotif in generation 4 of 10\n",
      "Model Number: 649 with model SeasonalNaive in generation 4 of 10\n",
      "Model Number: 650 with model GLS in generation 4 of 10\n",
      "Model Number: 651 with model MultivariateMotif in generation 4 of 10\n",
      "Model Number: 652 with model UnivariateMotif in generation 4 of 10\n",
      "Model Number: 653 with model ConstantNaive in generation 4 of 10\n",
      "Model Number: 654 with model GLM in generation 4 of 10\n",
      "Model Number: 655 with model AverageValueNaive in generation 4 of 10\n",
      "Model Number: 656 with model MetricMotif in generation 4 of 10\n",
      "Model Number: 657 with model DatepartRegression in generation 4 of 10\n"
     ]
    },
    {
     "name": "stderr",
     "output_type": "stream",
     "text": [
      "[Parallel(n_jobs=-2)]: Using backend ThreadingBackend with 3 concurrent workers.\n",
      "[Parallel(n_jobs=-2)]: Done  44 tasks      | elapsed:    0.0s\n",
      "[Parallel(n_jobs=-2)]: Done 100 out of 100 | elapsed:    0.1s finished\n",
      "[Parallel(n_jobs=3)]: Using backend ThreadingBackend with 3 concurrent workers.\n",
      "[Parallel(n_jobs=3)]: Done  44 tasks      | elapsed:    0.0s\n",
      "[Parallel(n_jobs=3)]: Done 100 out of 100 | elapsed:    0.0s finished\n"
     ]
    },
    {
     "name": "stdout",
     "output_type": "stream",
     "text": [
      "Model Number: 658 with model ETS in generation 4 of 10\n",
      "Model Number: 659 with model NVAR in generation 4 of 10\n",
      "Model Number: 660 with model Theta in generation 4 of 10\n",
      "Model Number: 661 with model Theta in generation 4 of 10\n",
      "Model Number: 662 with model LastValueNaive in generation 4 of 10\n",
      "Model Number: 663 with model UnobservedComponents in generation 4 of 10\n",
      "Model Number: 664 with model Theta in generation 4 of 10\n",
      "Model Number: 665 with model SectionalMotif in generation 4 of 10\n",
      "Model Number: 666 with model ARIMA in generation 4 of 10\n",
      "Model Number: 667 with model GLM in generation 4 of 10\n",
      "Model Number: 668 with model WindowRegression in generation 4 of 10\n",
      "Model Number: 669 with model GLM in generation 4 of 10\n",
      "Model Number: 670 with model SeasonalNaive in generation 4 of 10\n",
      "Model Number: 671 with model ARDL in generation 4 of 10\n",
      "Template Eval Error: ValueError(\"regression_type='User' but future_regressor not supplied\") in model 671: ARDL\n",
      "Model Number: 672 with model SeasonalNaive in generation 4 of 10\n",
      "Model Number: 673 with model ConstantNaive in generation 4 of 10\n",
      "Model Number: 674 with model UnobservedComponents in generation 4 of 10\n",
      "Model Number: 675 with model NVAR in generation 4 of 10\n",
      "Template Eval Error: Exception('Transformer Cointegration failed on fit') in model 675: NVAR\n",
      "Model Number: 676 with model MultivariateMotif in generation 4 of 10\n",
      "Model Number: 677 with model UnivariateMotif in generation 4 of 10\n",
      "Model Number: 678 with model MultivariateRegression in generation 4 of 10\n",
      "Model Number: 679 with model MultivariateMotif in generation 4 of 10\n",
      "Model Number: 680 with model UnivariateRegression in generation 4 of 10\n",
      "Model Number: 681 with model MultivariateMotif in generation 4 of 10\n",
      "Model Number: 682 with model ARIMA in generation 4 of 10\n",
      "Model Number: 683 with model AverageValueNaive in generation 4 of 10\n",
      "Model Number: 684 with model MetricMotif in generation 4 of 10\n",
      "Model Number: 685 with model Theta in generation 4 of 10\n",
      "Model Number: 686 with model UnivariateMotif in generation 4 of 10\n",
      "Model Number: 687 with model FBProphet in generation 4 of 10\n"
     ]
    },
    {
     "name": "stderr",
     "output_type": "stream",
     "text": [
      "22:58:00 - cmdstanpy - INFO - Chain [1] start processing\n",
      "22:58:00 - cmdstanpy - INFO - Chain [1] done processing\n"
     ]
    },
    {
     "name": "stdout",
     "output_type": "stream",
     "text": [
      "Model Number: 688 with model ARDL in generation 4 of 10\n",
      "New Generation: 5 of 10\n",
      "Model Number: 689 with model GLM in generation 5 of 10\n",
      "Model Number: 690 with model Theta in generation 5 of 10\n",
      "Model Number: 691 with model WindowRegression in generation 5 of 10\n",
      "Model Number: 692 with model MultivariateMotif in generation 5 of 10\n",
      "Model Number: 693 with model GLM in generation 5 of 10\n",
      "Template Eval Error: ValueError('The first guess on the deviance function returned a nan.  This could be a boundary  problem and should be reported.') in model 693: GLM\n",
      "Model Number: 694 with model GLM in generation 5 of 10\n",
      "No anomalies detected.\n"
     ]
    },
    {
     "name": "stderr",
     "output_type": "stream",
     "text": [
      "c:\\Python310\\lib\\site-packages\\statsmodels\\genmod\\families\\family.py:1346: RuntimeWarning: invalid value encountered in log\n",
      "  resid_dev -= endog_alpha * np.log(endog_alpha / mu_alpha)\n"
     ]
    },
    {
     "name": "stdout",
     "output_type": "stream",
     "text": [
      "Model Number: 695 with model MetricMotif in generation 5 of 10\n",
      "Model Number: 696 with model MetricMotif in generation 5 of 10\n",
      "Model Number: 697 with model WindowRegression in generation 5 of 10\n",
      "Model Number: 698 with model MetricMotif in generation 5 of 10\n",
      "Model Number: 699 with model UnivariateMotif in generation 5 of 10\n",
      "Model Number: 700 with model ETS in generation 5 of 10\n",
      "Model Number: 701 with model SeasonalNaive in generation 5 of 10\n",
      "Model Number: 702 with model NVAR in generation 5 of 10\n",
      "Model Number: 703 with model UnivariateMotif in generation 5 of 10\n",
      "Model Number: 704 with model UnivariateMotif in generation 5 of 10\n",
      "Model Number: 705 with model UnivariateRegression in generation 5 of 10\n",
      "Model Number: 706 with model WindowRegression in generation 5 of 10\n",
      "Template Eval Error: ValueError(\"regression_type='User' but no future_regressor passed\") in model 706: WindowRegression\n",
      "Model Number: 707 with model MetricMotif in generation 5 of 10\n",
      "Model Number: 708 with model MultivariateRegression in generation 5 of 10\n",
      "Model Number: 709 with model UnivariateMotif in generation 5 of 10\n",
      "Model Number: 710 with model ConstantNaive in generation 5 of 10\n",
      "Model Number: 711 with model MetricMotif in generation 5 of 10\n",
      "Model Number: 712 with model Theta in generation 5 of 10\n",
      "Model Number: 713 with model AverageValueNaive in generation 5 of 10\n",
      "Model Number: 714 with model SectionalMotif in generation 5 of 10\n",
      "Model Number: 715 with model SeasonalNaive in generation 5 of 10\n",
      "Model Number: 716 with model NVAR in generation 5 of 10\n",
      "Model Number: 717 with model UnivariateMotif in generation 5 of 10\n",
      "Model Number: 718 with model UnobservedComponents in generation 5 of 10\n",
      "Model Number: 719 with model FBProphet in generation 5 of 10\n",
      "No anomalies detected.\n"
     ]
    },
    {
     "name": "stderr",
     "output_type": "stream",
     "text": [
      "22:58:13 - cmdstanpy - INFO - Chain [1] start processing\n",
      "22:58:14 - cmdstanpy - INFO - Chain [1] done processing\n"
     ]
    },
    {
     "name": "stdout",
     "output_type": "stream",
     "text": [
      "Model Number: 720 with model MultivariateMotif in generation 5 of 10\n",
      "Model Number: 721 with model UnivariateRegression in generation 5 of 10\n",
      "Model Number: 722 with model MetricMotif in generation 5 of 10\n",
      "Model Number: 723 with model LastValueNaive in generation 5 of 10\n",
      "Model Number: 724 with model GLM in generation 5 of 10\n",
      "Template Eval Error: ValueError('NaN, inf or invalid value detected in weights, estimation infeasible.') in model 724: GLM\n",
      "Model Number: 725 with model Theta in generation 5 of 10\n"
     ]
    },
    {
     "name": "stderr",
     "output_type": "stream",
     "text": [
      "c:\\Python310\\lib\\site-packages\\statsmodels\\genmod\\families\\links.py:516: RuntimeWarning: overflow encountered in exp\n",
      "  return np.exp(z)\n",
      "c:\\Python310\\lib\\site-packages\\statsmodels\\genmod\\families\\family.py:1342: RuntimeWarning: divide by zero encountered in divide\n",
      "  endog_mu = self._clean(endog / mu)\n",
      "c:\\Python310\\lib\\site-packages\\statsmodels\\genmod\\families\\family.py:1346: RuntimeWarning: divide by zero encountered in log\n",
      "  resid_dev -= endog_alpha * np.log(endog_alpha / mu_alpha)\n",
      "c:\\Python310\\lib\\site-packages\\statsmodels\\genmod\\families\\family.py:132: RuntimeWarning: invalid value encountered in multiply\n",
      "  return 1. / (self.link.deriv(mu)**2 * self.variance(mu))\n",
      "c:\\Python310\\lib\\site-packages\\statsmodels\\genmod\\generalized_linear_model.py:1211: RuntimeWarning: invalid value encountered in multiply\n",
      "  wlsendog = (lin_pred + self.family.link.deriv(mu) * (self.endog-mu)\n"
     ]
    },
    {
     "name": "stdout",
     "output_type": "stream",
     "text": [
      "Model Number: 726 with model MultivariateRegression in generation 5 of 10\n"
     ]
    },
    {
     "name": "stderr",
     "output_type": "stream",
     "text": [
      "[Parallel(n_jobs=-2)]: Using backend ThreadingBackend with 3 concurrent workers.\n",
      "[Parallel(n_jobs=-2)]: Done  44 tasks      | elapsed:    0.0s\n",
      "[Parallel(n_jobs=-2)]: Done 194 tasks      | elapsed:    0.3s\n",
      "[Parallel(n_jobs=-2)]: Done 200 out of 200 | elapsed:    0.3s finished\n",
      "[Parallel(n_jobs=3)]: Using backend ThreadingBackend with 3 concurrent workers.\n",
      "[Parallel(n_jobs=3)]: Done  44 tasks      | elapsed:    0.0s\n",
      "[Parallel(n_jobs=3)]: Done 194 tasks      | elapsed:    0.0s\n",
      "[Parallel(n_jobs=3)]: Done 200 out of 200 | elapsed:    0.0s finished\n",
      "[Parallel(n_jobs=3)]: Using backend ThreadingBackend with 3 concurrent workers.\n",
      "[Parallel(n_jobs=3)]: Done  44 tasks      | elapsed:    0.0s\n",
      "[Parallel(n_jobs=3)]: Done 194 tasks      | elapsed:    0.0s\n",
      "[Parallel(n_jobs=3)]: Done 200 out of 200 | elapsed:    0.0s finished\n",
      "[Parallel(n_jobs=3)]: Using backend ThreadingBackend with 3 concurrent workers.\n",
      "[Parallel(n_jobs=3)]: Done  44 tasks      | elapsed:    0.0s\n",
      "[Parallel(n_jobs=3)]: Done 194 tasks      | elapsed:    0.0s\n",
      "[Parallel(n_jobs=3)]: Done 200 out of 200 | elapsed:    0.0s finished\n",
      "[Parallel(n_jobs=3)]: Using backend ThreadingBackend with 3 concurrent workers.\n",
      "[Parallel(n_jobs=3)]: Done  44 tasks      | elapsed:    0.0s\n",
      "[Parallel(n_jobs=3)]: Done 194 tasks      | elapsed:    0.0s\n",
      "[Parallel(n_jobs=3)]: Done 200 out of 200 | elapsed:    0.0s finished\n",
      "[Parallel(n_jobs=3)]: Using backend ThreadingBackend with 3 concurrent workers.\n",
      "[Parallel(n_jobs=3)]: Done  44 tasks      | elapsed:    0.0s\n",
      "[Parallel(n_jobs=3)]: Done 194 tasks      | elapsed:    0.0s\n",
      "[Parallel(n_jobs=3)]: Done 200 out of 200 | elapsed:    0.0s finished\n",
      "[Parallel(n_jobs=3)]: Using backend ThreadingBackend with 3 concurrent workers.\n",
      "[Parallel(n_jobs=3)]: Done  44 tasks      | elapsed:    0.0s\n",
      "[Parallel(n_jobs=3)]: Done 194 tasks      | elapsed:    0.0s\n",
      "[Parallel(n_jobs=3)]: Done 200 out of 200 | elapsed:    0.0s finished\n",
      "[Parallel(n_jobs=3)]: Using backend ThreadingBackend with 3 concurrent workers.\n",
      "[Parallel(n_jobs=3)]: Done  44 tasks      | elapsed:    0.0s\n",
      "[Parallel(n_jobs=3)]: Done 194 tasks      | elapsed:    0.0s\n",
      "[Parallel(n_jobs=3)]: Done 200 out of 200 | elapsed:    0.0s finished\n",
      "[Parallel(n_jobs=3)]: Using backend ThreadingBackend with 3 concurrent workers.\n",
      "[Parallel(n_jobs=3)]: Done  44 tasks      | elapsed:    0.0s\n",
      "[Parallel(n_jobs=3)]: Done 194 tasks      | elapsed:    0.0s\n",
      "[Parallel(n_jobs=3)]: Done 200 out of 200 | elapsed:    0.0s finished\n",
      "[Parallel(n_jobs=3)]: Using backend ThreadingBackend with 3 concurrent workers.\n",
      "[Parallel(n_jobs=3)]: Done  44 tasks      | elapsed:    0.0s\n",
      "[Parallel(n_jobs=3)]: Done 194 tasks      | elapsed:    0.0s\n",
      "[Parallel(n_jobs=3)]: Done 200 out of 200 | elapsed:    0.0s finished\n",
      "[Parallel(n_jobs=3)]: Using backend ThreadingBackend with 3 concurrent workers.\n",
      "[Parallel(n_jobs=3)]: Done  44 tasks      | elapsed:    0.0s\n",
      "[Parallel(n_jobs=3)]: Done 194 tasks      | elapsed:    0.0s\n",
      "[Parallel(n_jobs=3)]: Done 200 out of 200 | elapsed:    0.0s finished\n",
      "[Parallel(n_jobs=3)]: Using backend ThreadingBackend with 3 concurrent workers.\n",
      "[Parallel(n_jobs=3)]: Done  44 tasks      | elapsed:    0.0s\n",
      "[Parallel(n_jobs=3)]: Done 194 tasks      | elapsed:    0.0s\n"
     ]
    },
    {
     "name": "stdout",
     "output_type": "stream",
     "text": [
      "Model Number: 727 with model MultivariateMotif in generation 5 of 10\n"
     ]
    },
    {
     "name": "stderr",
     "output_type": "stream",
     "text": [
      "[Parallel(n_jobs=3)]: Done 200 out of 200 | elapsed:    0.0s finished\n",
      "[Parallel(n_jobs=3)]: Using backend ThreadingBackend with 3 concurrent workers.\n",
      "[Parallel(n_jobs=3)]: Done  44 tasks      | elapsed:    0.0s\n",
      "[Parallel(n_jobs=3)]: Done 194 tasks      | elapsed:    0.0s\n",
      "[Parallel(n_jobs=3)]: Done 200 out of 200 | elapsed:    0.0s finished\n"
     ]
    },
    {
     "name": "stdout",
     "output_type": "stream",
     "text": [
      "Model Number: 728 with model UnivariateRegression in generation 5 of 10\n",
      "Template Eval Error: ValueError(\"Input contains NaN, infinity or a value too large for dtype('float32').\") in model 728: UnivariateRegression\n",
      "Model Number: 729 with model DatepartRegression in generation 5 of 10\n",
      "Model Number: 730 with model UnivariateMotif in generation 5 of 10\n",
      "Model Number: 731 with model WindowRegression in generation 5 of 10\n",
      "Template Eval Error: ImportError('Tensorflow not available, install with pip install tensorflow.') in model 731: WindowRegression\n",
      "Model Number: 732 with model MultivariateMotif in generation 5 of 10\n",
      "Model Number: 733 with model MultivariateMotif in generation 5 of 10\n",
      "Model Number: 734 with model ETS in generation 5 of 10\n",
      "ETS error ValueError('endog must be strictly positive when usingmultiplicative trend or seasonal components.')\n",
      "ETS failed on Thousands of Passengers with ValueError('endog must be strictly positive when usingmultiplicative trend or seasonal components.')\n",
      "Model Number: 735 with model ETS in generation 5 of 10\n",
      "Model Number: 736 with model ARIMA in generation 5 of 10\n",
      "Model Number: 737 with model ARDL in generation 5 of 10\n",
      "Model Number: 738 with model WindowRegression in generation 5 of 10\n",
      "Model Number: 739 with model MultivariateMotif in generation 5 of 10\n",
      "Model Number: 740 with model Theta in generation 5 of 10\n",
      "Model Number: 741 with model MetricMotif in generation 5 of 10\n",
      "Model Number: 742 with model ARIMA in generation 5 of 10\n",
      "Model Number: 743 with model MultivariateMotif in generation 5 of 10\n",
      "Model Number: 744 with model ARIMA in generation 5 of 10\n",
      "Template Eval Error: ValueError(\"regression_type='User' but future_regressor not supplied\") in model 744: ARIMA\n",
      "Model Number: 745 with model DatepartRegression in generation 5 of 10\n",
      "Model Number: 746 with model UnivariateRegression in generation 5 of 10\n",
      "Template Eval Error: ValueError(\"Input contains NaN, infinity or a value too large for dtype('float32').\") in model 746: UnivariateRegression\n",
      "Model Number: 747 with model WindowRegression in generation 5 of 10\n",
      "Model Number: 748 with model UnivariateRegression in generation 5 of 10\n",
      "Model Number: 749 with model NVAR in generation 5 of 10\n",
      "Model Number: 750 with model Theta in generation 5 of 10\n",
      "Model Number: 751 with model UnivariateMotif in generation 5 of 10\n",
      "Model Number: 752 with model SectionalMotif in generation 5 of 10\n",
      "Template Eval Error: Exception('Transformer BTCD failed on fit') in model 752: SectionalMotif\n",
      "Model Number: 753 with model ARIMA in generation 5 of 10\n",
      "Model Number: 754 with model ARIMA in generation 5 of 10\n",
      "Model Number: 755 with model MetricMotif in generation 5 of 10\n",
      "Model Number: 756 with model SectionalMotif in generation 5 of 10\n",
      "Model Number: 757 with model ARDL in generation 5 of 10\n",
      "Model Number: 758 with model WindowRegression in generation 5 of 10\n",
      "Model Number: 759 with model MultivariateRegression in generation 5 of 10\n",
      "Model Number: 760 with model ARIMA in generation 5 of 10\n",
      "Template Eval Error: ValueError(\"regression_type='User' but future_regressor not supplied\") in model 760: ARIMA\n",
      "Model Number: 761 with model ARIMA in generation 5 of 10\n",
      "Model Number: 762 with model ARIMA in generation 5 of 10\n",
      "Model Number: 763 with model WindowRegression in generation 5 of 10\n",
      "Model Number: 764 with model Theta in generation 5 of 10\n",
      "Model Number: 765 with model DatepartRegression in generation 5 of 10\n"
     ]
    },
    {
     "name": "stderr",
     "output_type": "stream",
     "text": [
      "[Parallel(n_jobs=-2)]: Using backend ThreadingBackend with 3 concurrent workers.\n",
      "[Parallel(n_jobs=-2)]: Done  44 tasks      | elapsed:    0.0s\n",
      "[Parallel(n_jobs=-2)]: Done 194 tasks      | elapsed:    0.4s\n",
      "[Parallel(n_jobs=-2)]: Done 444 tasks      | elapsed:    0.7s\n",
      "[Parallel(n_jobs=-2)]: Done 794 tasks      | elapsed:    1.3s\n",
      "[Parallel(n_jobs=-2)]: Done 1000 out of 1000 | elapsed:    1.7s finished\n",
      "[Parallel(n_jobs=3)]: Using backend ThreadingBackend with 3 concurrent workers.\n",
      "[Parallel(n_jobs=3)]: Done  44 tasks      | elapsed:    0.0s\n",
      "[Parallel(n_jobs=3)]: Done 194 tasks      | elapsed:    0.0s\n",
      "[Parallel(n_jobs=3)]: Done 444 tasks      | elapsed:    0.0s\n",
      "[Parallel(n_jobs=3)]: Done 794 tasks      | elapsed:    0.1s\n"
     ]
    },
    {
     "name": "stdout",
     "output_type": "stream",
     "text": [
      "Model Number: 766 with model ARDL in generation 5 of 10\n"
     ]
    },
    {
     "name": "stderr",
     "output_type": "stream",
     "text": [
      "[Parallel(n_jobs=3)]: Done 1000 out of 1000 | elapsed:    0.1s finished\n"
     ]
    },
    {
     "name": "stdout",
     "output_type": "stream",
     "text": [
      "Model Number: 767 with model UnobservedComponents in generation 5 of 10\n",
      "Model Number: 768 with model Theta in generation 5 of 10\n",
      "Model Number: 769 with model MultivariateRegression in generation 5 of 10\n",
      "Model Number: 770 with model ETS in generation 5 of 10\n",
      "Model Number: 771 with model AverageValueNaive in generation 5 of 10\n",
      "Model Number: 772 with model Theta in generation 5 of 10\n",
      "Model Number: 773 with model SectionalMotif in generation 5 of 10\n",
      "Model Number: 774 with model AverageValueNaive in generation 5 of 10\n",
      "Model Number: 775 with model Theta in generation 5 of 10\n",
      "Model Number: 776 with model NVAR in generation 5 of 10\n",
      "Template Eval Error: Exception('Transformer Detrend failed on fit') in model 776: NVAR\n",
      "Model Number: 777 with model SeasonalNaive in generation 5 of 10\n",
      "Model Number: 778 with model ARIMA in generation 5 of 10\n",
      "Model Number: 779 with model UnivariateRegression in generation 5 of 10\n",
      "Template Eval Error: Exception('Transformer DatepartRegression failed on fit') in model 779: UnivariateRegression\n",
      "Model Number: 780 with model ConstantNaive in generation 5 of 10\n",
      "Model Number: 781 with model SectionalMotif in generation 5 of 10\n",
      "Model Number: 782 with model ARIMA in generation 5 of 10\n",
      "Model Number: 783 with model DatepartRegression in generation 5 of 10\n",
      "Template Eval Error: ValueError(\"regression_type='User' but no future_regressor passed\") in model 783: DatepartRegression\n",
      "Model Number: 784 with model MetricMotif in generation 5 of 10\n",
      "Model Number: 785 with model FBProphet in generation 5 of 10\n"
     ]
    },
    {
     "name": "stderr",
     "output_type": "stream",
     "text": [
      "23:00:09 - cmdstanpy - INFO - Chain [1] start processing\n",
      "23:00:09 - cmdstanpy - INFO - Chain [1] done processing\n"
     ]
    },
    {
     "name": "stdout",
     "output_type": "stream",
     "text": [
      "Model Number: 786 with model MultivariateRegression in generation 5 of 10\n"
     ]
    },
    {
     "name": "stderr",
     "output_type": "stream",
     "text": [
      "[Parallel(n_jobs=-2)]: Using backend ThreadingBackend with 3 concurrent workers.\n",
      "[Parallel(n_jobs=-2)]: Done  44 tasks      | elapsed:    0.1s\n",
      "[Parallel(n_jobs=-2)]: Done 194 tasks      | elapsed:    0.5s\n",
      "[Parallel(n_jobs=-2)]: Done 200 out of 200 | elapsed:    0.5s finished\n",
      "[Parallel(n_jobs=3)]: Using backend ThreadingBackend with 3 concurrent workers.\n",
      "[Parallel(n_jobs=3)]: Done  44 tasks      | elapsed:    0.0s\n",
      "[Parallel(n_jobs=3)]: Done 194 tasks      | elapsed:    0.0s\n",
      "[Parallel(n_jobs=3)]: Done 200 out of 200 | elapsed:    0.0s finished\n",
      "[Parallel(n_jobs=3)]: Using backend ThreadingBackend with 3 concurrent workers.\n",
      "[Parallel(n_jobs=3)]: Done  44 tasks      | elapsed:    0.0s\n",
      "[Parallel(n_jobs=3)]: Done 194 tasks      | elapsed:    0.0s\n",
      "[Parallel(n_jobs=3)]: Done 200 out of 200 | elapsed:    0.0s finished\n",
      "[Parallel(n_jobs=3)]: Using backend ThreadingBackend with 3 concurrent workers.\n",
      "[Parallel(n_jobs=3)]: Done  44 tasks      | elapsed:    0.0s\n",
      "[Parallel(n_jobs=3)]: Done 194 tasks      | elapsed:    0.0s\n",
      "[Parallel(n_jobs=3)]: Done 200 out of 200 | elapsed:    0.0s finished\n",
      "[Parallel(n_jobs=3)]: Using backend ThreadingBackend with 3 concurrent workers.\n",
      "[Parallel(n_jobs=3)]: Done  44 tasks      | elapsed:    0.0s\n",
      "[Parallel(n_jobs=3)]: Done 194 tasks      | elapsed:    0.0s\n",
      "[Parallel(n_jobs=3)]: Done 200 out of 200 | elapsed:    0.0s finished\n",
      "[Parallel(n_jobs=3)]: Using backend ThreadingBackend with 3 concurrent workers.\n",
      "[Parallel(n_jobs=3)]: Done  44 tasks      | elapsed:    0.0s\n",
      "[Parallel(n_jobs=3)]: Done 194 tasks      | elapsed:    0.0s\n",
      "[Parallel(n_jobs=3)]: Done 200 out of 200 | elapsed:    0.0s finished\n",
      "[Parallel(n_jobs=3)]: Using backend ThreadingBackend with 3 concurrent workers.\n",
      "[Parallel(n_jobs=3)]: Done  44 tasks      | elapsed:    0.0s\n",
      "[Parallel(n_jobs=3)]: Done 194 tasks      | elapsed:    0.0s\n",
      "[Parallel(n_jobs=3)]: Done 200 out of 200 | elapsed:    0.0s finished\n",
      "[Parallel(n_jobs=3)]: Using backend ThreadingBackend with 3 concurrent workers.\n",
      "[Parallel(n_jobs=3)]: Done  44 tasks      | elapsed:    0.0s\n",
      "[Parallel(n_jobs=3)]: Done 194 tasks      | elapsed:    0.0s\n",
      "[Parallel(n_jobs=3)]: Done 200 out of 200 | elapsed:    0.0s finished\n",
      "[Parallel(n_jobs=3)]: Using backend ThreadingBackend with 3 concurrent workers.\n",
      "[Parallel(n_jobs=3)]: Done  44 tasks      | elapsed:    0.0s\n",
      "[Parallel(n_jobs=3)]: Done 194 tasks      | elapsed:    0.0s\n",
      "[Parallel(n_jobs=3)]: Done 200 out of 200 | elapsed:    0.0s finished\n",
      "[Parallel(n_jobs=3)]: Using backend ThreadingBackend with 3 concurrent workers.\n",
      "[Parallel(n_jobs=3)]: Done  44 tasks      | elapsed:    0.0s\n",
      "[Parallel(n_jobs=3)]: Done 194 tasks      | elapsed:    0.0s\n",
      "[Parallel(n_jobs=3)]: Done 200 out of 200 | elapsed:    0.0s finished\n",
      "[Parallel(n_jobs=3)]: Using backend ThreadingBackend with 3 concurrent workers.\n",
      "[Parallel(n_jobs=3)]: Done  44 tasks      | elapsed:    0.0s\n",
      "[Parallel(n_jobs=3)]: Done 194 tasks      | elapsed:    0.0s\n",
      "[Parallel(n_jobs=3)]: Done 200 out of 200 | elapsed:    0.0s finished\n",
      "[Parallel(n_jobs=3)]: Using backend ThreadingBackend with 3 concurrent workers.\n",
      "[Parallel(n_jobs=3)]: Done  44 tasks      | elapsed:    0.0s\n",
      "[Parallel(n_jobs=3)]: Done 194 tasks      | elapsed:    0.0s\n",
      "[Parallel(n_jobs=3)]: Done 200 out of 200 | elapsed:    0.0s finished\n",
      "[Parallel(n_jobs=3)]: Using backend ThreadingBackend with 3 concurrent workers.\n",
      "[Parallel(n_jobs=3)]: Done  44 tasks      | elapsed:    0.0s\n",
      "[Parallel(n_jobs=3)]: Done 194 tasks      | elapsed:    0.0s\n",
      "[Parallel(n_jobs=3)]: Done 200 out of 200 | elapsed:    0.0s finished\n"
     ]
    },
    {
     "name": "stdout",
     "output_type": "stream",
     "text": [
      "Model Number: 787 with model AverageValueNaive in generation 5 of 10\n",
      "Model Number: 788 with model MultivariateRegression in generation 5 of 10\n"
     ]
    },
    {
     "name": "stderr",
     "output_type": "stream",
     "text": [
      "[Parallel(n_jobs=-2)]: Using backend ThreadingBackend with 3 concurrent workers.\n",
      "[Parallel(n_jobs=-2)]: Done  44 tasks      | elapsed:    0.0s\n",
      "[Parallel(n_jobs=-2)]: Done 194 tasks      | elapsed:    0.2s\n",
      "[Parallel(n_jobs=-2)]: Done 200 out of 200 | elapsed:    0.2s finished\n",
      "[Parallel(n_jobs=3)]: Using backend ThreadingBackend with 3 concurrent workers.\n",
      "[Parallel(n_jobs=3)]: Done  44 tasks      | elapsed:    0.0s\n",
      "[Parallel(n_jobs=3)]: Done 194 tasks      | elapsed:    0.0s\n",
      "[Parallel(n_jobs=3)]: Done 200 out of 200 | elapsed:    0.0s finished\n",
      "[Parallel(n_jobs=3)]: Using backend ThreadingBackend with 3 concurrent workers.\n",
      "[Parallel(n_jobs=3)]: Done  44 tasks      | elapsed:    0.0s\n",
      "[Parallel(n_jobs=3)]: Done 194 tasks      | elapsed:    0.0s\n",
      "[Parallel(n_jobs=3)]: Done 200 out of 200 | elapsed:    0.0s finished\n",
      "[Parallel(n_jobs=3)]: Using backend ThreadingBackend with 3 concurrent workers.\n",
      "[Parallel(n_jobs=3)]: Done  44 tasks      | elapsed:    0.0s\n",
      "[Parallel(n_jobs=3)]: Done 194 tasks      | elapsed:    0.0s\n",
      "[Parallel(n_jobs=3)]: Done 200 out of 200 | elapsed:    0.0s finished\n",
      "[Parallel(n_jobs=3)]: Using backend ThreadingBackend with 3 concurrent workers.\n",
      "[Parallel(n_jobs=3)]: Done  44 tasks      | elapsed:    0.0s\n",
      "[Parallel(n_jobs=3)]: Done 194 tasks      | elapsed:    0.0s\n",
      "[Parallel(n_jobs=3)]: Done 200 out of 200 | elapsed:    0.0s finished\n",
      "[Parallel(n_jobs=3)]: Using backend ThreadingBackend with 3 concurrent workers.\n",
      "[Parallel(n_jobs=3)]: Done  44 tasks      | elapsed:    0.0s\n",
      "[Parallel(n_jobs=3)]: Done 194 tasks      | elapsed:    0.0s\n",
      "[Parallel(n_jobs=3)]: Done 200 out of 200 | elapsed:    0.0s finished\n",
      "[Parallel(n_jobs=3)]: Using backend ThreadingBackend with 3 concurrent workers.\n",
      "[Parallel(n_jobs=3)]: Done  44 tasks      | elapsed:    0.0s\n",
      "[Parallel(n_jobs=3)]: Done 194 tasks      | elapsed:    0.0s\n",
      "[Parallel(n_jobs=3)]: Done 200 out of 200 | elapsed:    0.0s finished\n",
      "[Parallel(n_jobs=3)]: Using backend ThreadingBackend with 3 concurrent workers.\n",
      "[Parallel(n_jobs=3)]: Done  44 tasks      | elapsed:    0.0s\n",
      "[Parallel(n_jobs=3)]: Done 194 tasks      | elapsed:    0.0s\n",
      "[Parallel(n_jobs=3)]: Done 200 out of 200 | elapsed:    0.0s finished\n",
      "[Parallel(n_jobs=3)]: Using backend ThreadingBackend with 3 concurrent workers.\n",
      "[Parallel(n_jobs=3)]: Done  44 tasks      | elapsed:    0.0s\n",
      "[Parallel(n_jobs=3)]: Done 194 tasks      | elapsed:    0.0s\n",
      "[Parallel(n_jobs=3)]: Done 200 out of 200 | elapsed:    0.0s finished\n",
      "[Parallel(n_jobs=3)]: Using backend ThreadingBackend with 3 concurrent workers.\n",
      "[Parallel(n_jobs=3)]: Done  44 tasks      | elapsed:    0.0s\n",
      "[Parallel(n_jobs=3)]: Done 194 tasks      | elapsed:    0.0s\n",
      "[Parallel(n_jobs=3)]: Done 200 out of 200 | elapsed:    0.0s finished\n",
      "[Parallel(n_jobs=3)]: Using backend ThreadingBackend with 3 concurrent workers.\n",
      "[Parallel(n_jobs=3)]: Done  44 tasks      | elapsed:    0.0s\n",
      "[Parallel(n_jobs=3)]: Done 194 tasks      | elapsed:    0.0s\n",
      "[Parallel(n_jobs=3)]: Done 200 out of 200 | elapsed:    0.0s finished\n",
      "[Parallel(n_jobs=3)]: Using backend ThreadingBackend with 3 concurrent workers.\n",
      "[Parallel(n_jobs=3)]: Done  44 tasks      | elapsed:    0.0s\n",
      "[Parallel(n_jobs=3)]: Done 194 tasks      | elapsed:    0.0s\n",
      "[Parallel(n_jobs=3)]: Done 200 out of 200 | elapsed:    0.0s finished\n",
      "[Parallel(n_jobs=3)]: Using backend ThreadingBackend with 3 concurrent workers.\n",
      "[Parallel(n_jobs=3)]: Done  44 tasks      | elapsed:    0.0s\n",
      "[Parallel(n_jobs=3)]: Done 194 tasks      | elapsed:    0.0s\n",
      "[Parallel(n_jobs=3)]: Done 200 out of 200 | elapsed:    0.0s finished\n"
     ]
    },
    {
     "name": "stdout",
     "output_type": "stream",
     "text": [
      "New Generation: 6 of 10\n",
      "Model Number: 789 with model ETS in generation 6 of 10\n",
      "Model Number: 790 with model UnivariateMotif in generation 6 of 10\n",
      "Model Number: 791 with model Theta in generation 6 of 10\n",
      "Model Number: 792 with model WindowRegression in generation 6 of 10\n",
      "Model Number: 793 with model Theta in generation 6 of 10\n",
      "Model Number: 794 with model NVAR in generation 6 of 10\n",
      "Model Number: 795 with model MultivariateRegression in generation 6 of 10\n",
      "Model Number: 796 with model WindowRegression in generation 6 of 10\n",
      "Model Number: 797 with model MultivariateMotif in generation 6 of 10\n",
      "Model Number: 798 with model MetricMotif in generation 6 of 10\n",
      "Model Number: 799 with model SeasonalNaive in generation 6 of 10\n",
      "Model Number: 800 with model Theta in generation 6 of 10\n",
      "Model Number: 801 with model ARDL in generation 6 of 10\n",
      "Model Number: 802 with model UnivariateMotif in generation 6 of 10\n",
      "Model Number: 803 with model UnivariateMotif in generation 6 of 10\n",
      "Model Number: 804 with model NVAR in generation 6 of 10\n",
      "Model Number: 805 with model MetricMotif in generation 6 of 10\n",
      "Model Number: 806 with model Theta in generation 6 of 10\n",
      "Model Number: 807 with model UnivariateMotif in generation 6 of 10\n",
      "Model Number: 808 with model WindowRegression in generation 6 of 10\n",
      "Model Number: 809 with model MetricMotif in generation 6 of 10\n",
      "Model Number: 810 with model MultivariateMotif in generation 6 of 10\n",
      "Model Number: 811 with model ARIMA in generation 6 of 10\n",
      "Model Number: 812 with model UnivariateRegression in generation 6 of 10\n",
      "Model Number: 813 with model ARIMA in generation 6 of 10\n"
     ]
    },
    {
     "name": "stderr",
     "output_type": "stream",
     "text": [
      "c:\\Python310\\lib\\site-packages\\sklearn\\linear_model\\_ridge.py:157: LinAlgWarning: Ill-conditioned matrix (rcond=1.06954e-24): result may not be accurate.\n",
      "  return linalg.solve(A, Xy, sym_pos=True, overwrite_a=True).T\n"
     ]
    },
    {
     "name": "stdout",
     "output_type": "stream",
     "text": [
      "Model Number: 814 with model MetricMotif in generation 6 of 10\n",
      "Model Number: 815 with model ETS in generation 6 of 10\n",
      "ETS error ValueError('endog must be strictly positive when usingmultiplicative trend or seasonal components.')\n",
      "ETS failed on Thousands of Passengers with ValueError('endog must be strictly positive when usingmultiplicative trend or seasonal components.')\n",
      "Model Number: 816 with model WindowRegression in generation 6 of 10\n",
      "Model Number: 817 with model UnivariateMotif in generation 6 of 10\n",
      "Model Number: 818 with model UnivariateRegression in generation 6 of 10\n",
      "Template Eval Error: Exception('Transformer Detrend failed on fit') in model 818: UnivariateRegression\n",
      "Model Number: 819 with model WindowRegression in generation 6 of 10\n",
      "Model Number: 820 with model MultivariateMotif in generation 6 of 10\n",
      "Model Number: 821 with model ETS in generation 6 of 10\n",
      "Model Number: 822 with model Theta in generation 6 of 10\n",
      "Model Number: 823 with model SeasonalNaive in generation 6 of 10\n",
      "Model Number: 824 with model UnivariateRegression in generation 6 of 10\n",
      "Model Number: 825 with model LastValueNaive in generation 6 of 10\n",
      "Model Number: 826 with model ARDL in generation 6 of 10\n",
      "Model Number: 827 with model SeasonalNaive in generation 6 of 10\n",
      "Model Number: 828 with model SectionalMotif in generation 6 of 10\n",
      "Model Number: 829 with model WindowRegression in generation 6 of 10\n",
      "Model Number: 830 with model DatepartRegression in generation 6 of 10\n",
      "Model Number: 831 with model ARIMA in generation 6 of 10\n",
      "Model Number: 832 with model MultivariateRegression in generation 6 of 10\n"
     ]
    },
    {
     "name": "stderr",
     "output_type": "stream",
     "text": [
      "c:\\Python310\\lib\\site-packages\\sklearn\\neural_network\\_multilayer_perceptron.py:549: ConvergenceWarning: lbfgs failed to converge (status=1):\n",
      "STOP: TOTAL NO. of ITERATIONS REACHED LIMIT.\n",
      "\n",
      "Increase the number of iterations (max_iter) or scale the data as shown in:\n",
      "    https://scikit-learn.org/stable/modules/preprocessing.html\n",
      "  self.n_iter_ = _check_optimize_result(\"lbfgs\", opt_res, self.max_iter)\n"
     ]
    },
    {
     "name": "stdout",
     "output_type": "stream",
     "text": [
      "Model Number: 833 with model ARIMA in generation 6 of 10\n",
      "Model Number: 834 with model LastValueNaive in generation 6 of 10\n",
      "Model Number: 835 with model UnivariateRegression in generation 6 of 10\n",
      "Model Number: 836 with model ETS in generation 6 of 10\n",
      "Model Number: 837 with model ARIMA in generation 6 of 10\n",
      "Model Number: 838 with model NVAR in generation 6 of 10\n",
      "Model Number: 839 with model SectionalMotif in generation 6 of 10\n",
      "Model Number: 840 with model ARDL in generation 6 of 10\n",
      "Model Number: 841 with model Theta in generation 6 of 10\n",
      "Model Number: 842 with model UnivariateMotif in generation 6 of 10\n",
      "Model Number: 843 with model AverageValueNaive in generation 6 of 10\n",
      "Model Number: 844 with model ARDL in generation 6 of 10\n",
      "Model Number: 845 with model NVAR in generation 6 of 10\n",
      "Model Number: 846 with model UnivariateMotif in generation 6 of 10\n",
      "Template Eval Error: Exception('Transformer Detrend failed on fit') in model 846: UnivariateMotif\n",
      "Model Number: 847 with model MetricMotif in generation 6 of 10\n",
      "Model Number: 848 with model Theta in generation 6 of 10\n",
      "Model Number: 849 with model LastValueNaive in generation 6 of 10\n",
      "Model Number: 850 with model DatepartRegression in generation 6 of 10\n",
      "Model Number: 851 with model MetricMotif in generation 6 of 10\n",
      "Model Number: 852 with model MultivariateMotif in generation 6 of 10\n",
      "Model Number: 853 with model LastValueNaive in generation 6 of 10\n",
      "Model Number: 854 with model WindowRegression in generation 6 of 10\n",
      "Template Eval Error: ValueError(\"regression_type='User' but no future_regressor passed\") in model 854: WindowRegression\n",
      "Model Number: 855 with model GLM in generation 6 of 10\n",
      "Model Number: 856 with model NVAR in generation 6 of 10\n",
      "Model Number: 857 with model Theta in generation 6 of 10\n",
      "Model Number: 858 with model Theta in generation 6 of 10\n",
      "Model Number: 859 with model ConstantNaive in generation 6 of 10\n",
      "Template Eval Error: ValueError(\"Model returned NaN due to a preprocessing transformer {'fillna': 'ffill', 'transformations': {'0': 'ClipOutliers', '1': 'Detrend', '2': 'AlignLastValue'}, 'transformation_params': {'0': {'method': 'clip', 'std_threshold': 3, 'fillna': None}, '1': {'model': 'Linear', 'phi': 1, 'window': None, 'transform_dict': {'fillna': None, 'transformations': {'0': 'EWMAFilter'}, 'transformation_params': {'0': {'span': 7}}}}, '2': {'rows': 1, 'lag': 1, 'method': 'multiplicative', 'strength': 1.0, 'first_value_only': False}}}. fail_on_forecast_nan=True\") in model 859: ConstantNaive\n",
      "Model Number: 860 with model NVAR in generation 6 of 10\n",
      "Model Number: 861 with model WindowRegression in generation 6 of 10\n",
      "Model Number: 862 with model ARIMA in generation 6 of 10\n",
      "Model Number: 863 with model UnivariateRegression in generation 6 of 10\n",
      "Model Number: 864 with model AverageValueNaive in generation 6 of 10\n",
      "Model Number: 865 with model GLS in generation 6 of 10\n",
      "Model Number: 866 with model GLM in generation 6 of 10\n",
      "Model Number: 867 with model UnivariateMotif in generation 6 of 10\n",
      "Model Number: 868 with model GLM in generation 6 of 10\n",
      "Template Eval Error: ValueError('NaN, inf or invalid value detected in weights, estimation infeasible.') in model 868: GLM\n",
      "Model Number: 869 with model MultivariateRegression in generation 6 of 10\n"
     ]
    },
    {
     "name": "stderr",
     "output_type": "stream",
     "text": [
      "c:\\Python310\\lib\\site-packages\\statsmodels\\genmod\\families\\links.py:516: RuntimeWarning: overflow encountered in exp\n",
      "  return np.exp(z)\n",
      "c:\\Python310\\lib\\site-packages\\statsmodels\\genmod\\families\\family.py:426: RuntimeWarning: divide by zero encountered in divide\n",
      "  endog_mu = self._clean(endog / mu)\n",
      "c:\\Python310\\lib\\site-packages\\statsmodels\\genmod\\families\\family.py:132: RuntimeWarning: invalid value encountered in multiply\n",
      "  return 1. / (self.link.deriv(mu)**2 * self.variance(mu))\n",
      "c:\\Python310\\lib\\site-packages\\statsmodels\\genmod\\families\\family.py:132: RuntimeWarning: divide by zero encountered in divide\n",
      "  return 1. / (self.link.deriv(mu)**2 * self.variance(mu))\n",
      "c:\\Python310\\lib\\site-packages\\statsmodels\\genmod\\generalized_linear_model.py:1211: RuntimeWarning: invalid value encountered in multiply\n",
      "  wlsendog = (lin_pred + self.family.link.deriv(mu) * (self.endog-mu)\n",
      "[Parallel(n_jobs=-2)]: Using backend ThreadingBackend with 3 concurrent workers.\n",
      "[Parallel(n_jobs=-2)]: Done  44 tasks      | elapsed:    0.0s\n",
      "[Parallel(n_jobs=-2)]: Done 194 tasks      | elapsed:    0.6s\n",
      "[Parallel(n_jobs=-2)]: Done 300 out of 300 | elapsed:    1.0s finished\n",
      "[Parallel(n_jobs=3)]: Using backend ThreadingBackend with 3 concurrent workers.\n",
      "[Parallel(n_jobs=3)]: Done  44 tasks      | elapsed:    0.0s\n",
      "[Parallel(n_jobs=3)]: Done 194 tasks      | elapsed:    0.0s\n",
      "[Parallel(n_jobs=3)]: Done 300 out of 300 | elapsed:    0.1s finished\n",
      "[Parallel(n_jobs=3)]: Using backend ThreadingBackend with 3 concurrent workers.\n",
      "[Parallel(n_jobs=3)]: Done  44 tasks      | elapsed:    0.1s\n",
      "[Parallel(n_jobs=3)]: Done 194 tasks      | elapsed:    0.2s\n",
      "[Parallel(n_jobs=3)]: Done 300 out of 300 | elapsed:    0.2s finished\n",
      "[Parallel(n_jobs=3)]: Using backend ThreadingBackend with 3 concurrent workers.\n",
      "[Parallel(n_jobs=3)]: Done  44 tasks      | elapsed:    0.0s\n",
      "[Parallel(n_jobs=3)]: Done 194 tasks      | elapsed:    0.0s\n",
      "[Parallel(n_jobs=3)]: Done 300 out of 300 | elapsed:    0.0s finished\n",
      "[Parallel(n_jobs=3)]: Using backend ThreadingBackend with 3 concurrent workers.\n",
      "[Parallel(n_jobs=3)]: Done  44 tasks      | elapsed:    0.0s\n",
      "[Parallel(n_jobs=3)]: Done 194 tasks      | elapsed:    0.0s\n",
      "[Parallel(n_jobs=3)]: Done 300 out of 300 | elapsed:    0.0s finished\n",
      "[Parallel(n_jobs=3)]: Using backend ThreadingBackend with 3 concurrent workers.\n",
      "[Parallel(n_jobs=3)]: Done  44 tasks      | elapsed:    0.0s\n",
      "[Parallel(n_jobs=3)]: Done 194 tasks      | elapsed:    0.0s\n",
      "[Parallel(n_jobs=3)]: Done 300 out of 300 | elapsed:    0.0s finished\n",
      "[Parallel(n_jobs=3)]: Using backend ThreadingBackend with 3 concurrent workers.\n",
      "[Parallel(n_jobs=3)]: Done  44 tasks      | elapsed:    0.0s\n",
      "[Parallel(n_jobs=3)]: Done 194 tasks      | elapsed:    0.0s\n",
      "[Parallel(n_jobs=3)]: Done 300 out of 300 | elapsed:    0.0s finished\n",
      "[Parallel(n_jobs=3)]: Using backend ThreadingBackend with 3 concurrent workers.\n",
      "[Parallel(n_jobs=3)]: Done  44 tasks      | elapsed:    0.0s\n",
      "[Parallel(n_jobs=3)]: Done 194 tasks      | elapsed:    0.0s\n",
      "[Parallel(n_jobs=3)]: Done 300 out of 300 | elapsed:    0.0s finished\n",
      "[Parallel(n_jobs=3)]: Using backend ThreadingBackend with 3 concurrent workers.\n",
      "[Parallel(n_jobs=3)]: Done  44 tasks      | elapsed:    0.0s\n",
      "[Parallel(n_jobs=3)]: Done 194 tasks      | elapsed:    0.0s\n",
      "[Parallel(n_jobs=3)]: Done 300 out of 300 | elapsed:    0.0s finished\n",
      "[Parallel(n_jobs=3)]: Using backend ThreadingBackend with 3 concurrent workers.\n",
      "[Parallel(n_jobs=3)]: Done  44 tasks      | elapsed:    0.0s\n",
      "[Parallel(n_jobs=3)]: Done 194 tasks      | elapsed:    0.0s\n",
      "[Parallel(n_jobs=3)]: Done 300 out of 300 | elapsed:    0.0s finished\n",
      "[Parallel(n_jobs=3)]: Using backend ThreadingBackend with 3 concurrent workers.\n",
      "[Parallel(n_jobs=3)]: Done  44 tasks      | elapsed:    0.0s\n",
      "[Parallel(n_jobs=3)]: Done 194 tasks      | elapsed:    0.0s\n",
      "[Parallel(n_jobs=3)]: Done 300 out of 300 | elapsed:    0.0s finished\n",
      "[Parallel(n_jobs=3)]: Using backend ThreadingBackend with 3 concurrent workers.\n",
      "[Parallel(n_jobs=3)]: Done  44 tasks      | elapsed:    0.0s\n",
      "[Parallel(n_jobs=3)]: Done 194 tasks      | elapsed:    0.0s\n",
      "[Parallel(n_jobs=3)]: Done 300 out of 300 | elapsed:    0.0s finished\n",
      "[Parallel(n_jobs=3)]: Using backend ThreadingBackend with 3 concurrent workers.\n",
      "[Parallel(n_jobs=3)]: Done  44 tasks      | elapsed:    0.0s\n",
      "[Parallel(n_jobs=3)]: Done 194 tasks      | elapsed:    0.0s\n",
      "[Parallel(n_jobs=3)]: Done 300 out of 300 | elapsed:    0.0s finished\n"
     ]
    },
    {
     "name": "stdout",
     "output_type": "stream",
     "text": [
      "Model Number: 870 with model UnobservedComponents in generation 6 of 10\n",
      "Model Number: 871 with model DatepartRegression in generation 6 of 10\n"
     ]
    },
    {
     "name": "stderr",
     "output_type": "stream",
     "text": [
      "[Parallel(n_jobs=-2)]: Using backend ThreadingBackend with 3 concurrent workers.\n",
      "[Parallel(n_jobs=-2)]: Done  44 tasks      | elapsed:    0.0s\n",
      "[Parallel(n_jobs=-2)]: Done 194 tasks      | elapsed:    0.5s\n",
      "[Parallel(n_jobs=-2)]: Done 444 tasks      | elapsed:    1.2s\n",
      "[Parallel(n_jobs=-2)]: Done 794 tasks      | elapsed:    2.1s\n",
      "[Parallel(n_jobs=-2)]: Done 1000 out of 1000 | elapsed:    2.8s finished\n",
      "[Parallel(n_jobs=3)]: Using backend ThreadingBackend with 3 concurrent workers.\n",
      "[Parallel(n_jobs=3)]: Done  44 tasks      | elapsed:    0.0s\n",
      "[Parallel(n_jobs=3)]: Done 194 tasks      | elapsed:    0.0s\n",
      "[Parallel(n_jobs=3)]: Done 444 tasks      | elapsed:    0.1s\n",
      "[Parallel(n_jobs=3)]: Done 794 tasks      | elapsed:    0.2s\n",
      "[Parallel(n_jobs=3)]: Done 1000 out of 1000 | elapsed:    0.3s finished\n"
     ]
    },
    {
     "name": "stdout",
     "output_type": "stream",
     "text": [
      "Model Number: 872 with model MultivariateMotif in generation 6 of 10\n",
      "Model Number: 873 with model SectionalMotif in generation 6 of 10\n",
      "Model Number: 874 with model WindowRegression in generation 6 of 10\n"
     ]
    },
    {
     "name": "stderr",
     "output_type": "stream",
     "text": [
      "c:\\Python310\\lib\\site-packages\\sklearn\\neural_network\\_multilayer_perceptron.py:549: ConvergenceWarning: lbfgs failed to converge (status=1):\n",
      "STOP: TOTAL NO. of ITERATIONS REACHED LIMIT.\n",
      "\n",
      "Increase the number of iterations (max_iter) or scale the data as shown in:\n",
      "    https://scikit-learn.org/stable/modules/preprocessing.html\n",
      "  self.n_iter_ = _check_optimize_result(\"lbfgs\", opt_res, self.max_iter)\n"
     ]
    },
    {
     "name": "stdout",
     "output_type": "stream",
     "text": [
      "Model Number: 875 with model Theta in generation 6 of 10\n",
      "Model Number: 876 with model SeasonalNaive in generation 6 of 10\n",
      "Model Number: 877 with model UnivariateMotif in generation 6 of 10\n",
      "Model Number: 878 with model ARIMA in generation 6 of 10\n",
      "Model Number: 879 with model MultivariateMotif in generation 6 of 10\n",
      "Model Number: 880 with model GLM in generation 6 of 10\n",
      "Template Eval Error: Exception('Transformer Detrend failed on fit') in model 880: GLM\n",
      "Model Number: 881 with model GLM in generation 6 of 10\n",
      "Model Number: 882 with model ARDL in generation 6 of 10\n",
      "Model Number: 883 with model MultivariateMotif in generation 6 of 10\n",
      "Model Number: 884 with model Theta in generation 6 of 10\n",
      "Model Number: 885 with model UnivariateMotif in generation 6 of 10\n",
      "Model Number: 886 with model MetricMotif in generation 6 of 10\n",
      "Model Number: 887 with model GLM in generation 6 of 10\n",
      "Model Number: 888 with model NVAR in generation 6 of 10\n",
      "New Generation: 7 of 10\n",
      "Model Number: 889 with model LastValueNaive in generation 7 of 10\n",
      "Model Number: 890 with model MetricMotif in generation 7 of 10\n",
      "Model Number: 891 with model GLM in generation 7 of 10\n",
      "Model Number: 892 with model SectionalMotif in generation 7 of 10\n",
      "Model Number: 893 with model FBProphet in generation 7 of 10\n"
     ]
    },
    {
     "name": "stderr",
     "output_type": "stream",
     "text": [
      "23:02:16 - cmdstanpy - INFO - Chain [1] start processing\n",
      "23:02:16 - cmdstanpy - INFO - Chain [1] done processing\n"
     ]
    },
    {
     "name": "stdout",
     "output_type": "stream",
     "text": [
      "Model Number: 894 with model AverageValueNaive in generation 7 of 10\n",
      "Model Number: 895 with model MultivariateMotif in generation 7 of 10\n",
      "Template Eval Error: Exception('Transformer BTCD failed on fit') in model 895: MultivariateMotif\n",
      "Model Number: 896 with model ARIMA in generation 7 of 10\n",
      "Model Number: 897 with model GLS in generation 7 of 10\n",
      "Model Number: 898 with model ARIMA in generation 7 of 10\n",
      "Template Eval Error: Exception('Transformer Cointegration failed on fit') in model 898: ARIMA\n",
      "Model Number: 899 with model UnivariateMotif in generation 7 of 10\n",
      "Model Number: 900 with model NVAR in generation 7 of 10\n",
      "Model Number: 901 with model DatepartRegression in generation 7 of 10\n"
     ]
    },
    {
     "name": "stderr",
     "output_type": "stream",
     "text": [
      "[Parallel(n_jobs=-2)]: Using backend ThreadingBackend with 3 concurrent workers.\n",
      "[Parallel(n_jobs=-2)]: Done  44 tasks      | elapsed:    0.0s\n",
      "[Parallel(n_jobs=-2)]: Done 194 tasks      | elapsed:    0.2s\n",
      "[Parallel(n_jobs=-2)]: Done 444 tasks      | elapsed:    0.6s\n",
      "[Parallel(n_jobs=-2)]: Done 794 tasks      | elapsed:    1.2s\n",
      "[Parallel(n_jobs=-2)]: Done 1000 out of 1000 | elapsed:    1.5s finished\n",
      "[Parallel(n_jobs=3)]: Using backend ThreadingBackend with 3 concurrent workers.\n",
      "[Parallel(n_jobs=3)]: Done  44 tasks      | elapsed:    0.0s\n",
      "[Parallel(n_jobs=3)]: Done 194 tasks      | elapsed:    0.0s\n",
      "[Parallel(n_jobs=3)]: Done 444 tasks      | elapsed:    0.0s\n",
      "[Parallel(n_jobs=3)]: Done 794 tasks      | elapsed:    0.1s\n"
     ]
    },
    {
     "name": "stdout",
     "output_type": "stream",
     "text": [
      "Model Number: 902 with model LastValueNaive in generation 7 of 10\n"
     ]
    },
    {
     "name": "stderr",
     "output_type": "stream",
     "text": [
      "[Parallel(n_jobs=3)]: Done 1000 out of 1000 | elapsed:    0.1s finished\n"
     ]
    },
    {
     "name": "stdout",
     "output_type": "stream",
     "text": [
      "Model Number: 903 with model WindowRegression in generation 7 of 10\n",
      "Model Number: 904 with model ARIMA in generation 7 of 10\n",
      "Model Number: 905 with model UnivariateMotif in generation 7 of 10\n",
      "Model Number: 906 with model MultivariateMotif in generation 7 of 10\n",
      "Model Number: 907 with model ARIMA in generation 7 of 10\n",
      "Model Number: 908 with model SectionalMotif in generation 7 of 10\n",
      "Model Number: 909 with model AverageValueNaive in generation 7 of 10\n",
      "Model Number: 910 with model UnobservedComponents in generation 7 of 10\n",
      "Model Number: 911 with model MultivariateRegression in generation 7 of 10\n"
     ]
    },
    {
     "name": "stderr",
     "output_type": "stream",
     "text": [
      "[Parallel(n_jobs=-2)]: Using backend ThreadingBackend with 3 concurrent workers.\n",
      "[Parallel(n_jobs=-2)]: Done  44 tasks      | elapsed:    0.0s\n",
      "[Parallel(n_jobs=-2)]: Done 194 tasks      | elapsed:    0.2s\n",
      "[Parallel(n_jobs=-2)]: Done 200 out of 200 | elapsed:    0.2s finished\n",
      "[Parallel(n_jobs=3)]: Using backend ThreadingBackend with 3 concurrent workers.\n",
      "[Parallel(n_jobs=3)]: Done  44 tasks      | elapsed:    0.0s\n",
      "[Parallel(n_jobs=3)]: Done 194 tasks      | elapsed:    0.0s\n",
      "[Parallel(n_jobs=3)]: Done 200 out of 200 | elapsed:    0.0s finished\n",
      "[Parallel(n_jobs=3)]: Using backend ThreadingBackend with 3 concurrent workers.\n",
      "[Parallel(n_jobs=3)]: Done  44 tasks      | elapsed:    0.0s\n",
      "[Parallel(n_jobs=3)]: Done 194 tasks      | elapsed:    0.0s\n",
      "[Parallel(n_jobs=3)]: Done 200 out of 200 | elapsed:    0.0s finished\n",
      "[Parallel(n_jobs=3)]: Using backend ThreadingBackend with 3 concurrent workers.\n",
      "[Parallel(n_jobs=3)]: Done  44 tasks      | elapsed:    0.0s\n",
      "[Parallel(n_jobs=3)]: Done 194 tasks      | elapsed:    0.0s\n",
      "[Parallel(n_jobs=3)]: Done 200 out of 200 | elapsed:    0.0s finished\n",
      "[Parallel(n_jobs=3)]: Using backend ThreadingBackend with 3 concurrent workers.\n",
      "[Parallel(n_jobs=3)]: Done  44 tasks      | elapsed:    0.0s\n",
      "[Parallel(n_jobs=3)]: Done 194 tasks      | elapsed:    0.0s\n",
      "[Parallel(n_jobs=3)]: Done 200 out of 200 | elapsed:    0.0s finished\n",
      "[Parallel(n_jobs=3)]: Using backend ThreadingBackend with 3 concurrent workers.\n",
      "[Parallel(n_jobs=3)]: Done  44 tasks      | elapsed:    0.0s\n",
      "[Parallel(n_jobs=3)]: Done 194 tasks      | elapsed:    0.0s\n",
      "[Parallel(n_jobs=3)]: Done 200 out of 200 | elapsed:    0.0s finished\n",
      "[Parallel(n_jobs=3)]: Using backend ThreadingBackend with 3 concurrent workers.\n",
      "[Parallel(n_jobs=3)]: Done  44 tasks      | elapsed:    0.0s\n",
      "[Parallel(n_jobs=3)]: Done 194 tasks      | elapsed:    0.0s\n",
      "[Parallel(n_jobs=3)]: Done 200 out of 200 | elapsed:    0.0s finished\n",
      "[Parallel(n_jobs=3)]: Using backend ThreadingBackend with 3 concurrent workers.\n",
      "[Parallel(n_jobs=3)]: Done  44 tasks      | elapsed:    0.0s\n",
      "[Parallel(n_jobs=3)]: Done 194 tasks      | elapsed:    0.0s\n",
      "[Parallel(n_jobs=3)]: Done 200 out of 200 | elapsed:    0.0s finished\n",
      "[Parallel(n_jobs=3)]: Using backend ThreadingBackend with 3 concurrent workers.\n",
      "[Parallel(n_jobs=3)]: Done  44 tasks      | elapsed:    0.0s\n",
      "[Parallel(n_jobs=3)]: Done 194 tasks      | elapsed:    0.0s\n",
      "[Parallel(n_jobs=3)]: Done 200 out of 200 | elapsed:    0.0s finished\n",
      "[Parallel(n_jobs=3)]: Using backend ThreadingBackend with 3 concurrent workers.\n",
      "[Parallel(n_jobs=3)]: Done  44 tasks      | elapsed:    0.0s\n",
      "[Parallel(n_jobs=3)]: Done 194 tasks      | elapsed:    0.0s\n",
      "[Parallel(n_jobs=3)]: Done 200 out of 200 | elapsed:    0.0s finished\n",
      "[Parallel(n_jobs=3)]: Using backend ThreadingBackend with 3 concurrent workers.\n",
      "[Parallel(n_jobs=3)]: Done  44 tasks      | elapsed:    0.0s\n",
      "[Parallel(n_jobs=3)]: Done 194 tasks      | elapsed:    0.0s\n",
      "[Parallel(n_jobs=3)]: Done 200 out of 200 | elapsed:    0.0s finished\n",
      "[Parallel(n_jobs=3)]: Using backend ThreadingBackend with 3 concurrent workers.\n",
      "[Parallel(n_jobs=3)]: Done  44 tasks      | elapsed:    0.0s\n",
      "[Parallel(n_jobs=3)]: Done 194 tasks      | elapsed:    0.0s\n",
      "[Parallel(n_jobs=3)]: Done 200 out of 200 | elapsed:    0.0s finished\n",
      "[Parallel(n_jobs=3)]: Using backend ThreadingBackend with 3 concurrent workers.\n",
      "[Parallel(n_jobs=3)]: Done  44 tasks      | elapsed:    0.0s\n",
      "[Parallel(n_jobs=3)]: Done 194 tasks      | elapsed:    0.0s\n"
     ]
    },
    {
     "name": "stdout",
     "output_type": "stream",
     "text": [
      "Model Number: 912 with model MetricMotif in generation 7 of 10\n"
     ]
    },
    {
     "name": "stderr",
     "output_type": "stream",
     "text": [
      "[Parallel(n_jobs=3)]: Done 200 out of 200 | elapsed:    0.0s finished\n"
     ]
    },
    {
     "name": "stdout",
     "output_type": "stream",
     "text": [
      "Model Number: 913 with model SeasonalNaive in generation 7 of 10\n",
      "Model Number: 914 with model MultivariateMotif in generation 7 of 10\n",
      "Model Number: 915 with model UnivariateRegression in generation 7 of 10\n",
      "Model Number: 916 with model GLM in generation 7 of 10\n"
     ]
    },
    {
     "name": "stderr",
     "output_type": "stream",
     "text": [
      "c:\\Python310\\lib\\site-packages\\autots\\tools\\probabilistic.py:67: RuntimeWarning: invalid value encountered in divide\n",
      "  (prior_mu / prior_sigma**2) + ((n * data_mu) / prior_sigma**2)\n",
      "c:\\Python310\\lib\\site-packages\\autots\\tools\\probabilistic.py:68: RuntimeWarning: divide by zero encountered in divide\n",
      "  ) / ((1 / prior_sigma**2) + (n / prior_sigma**2))\n"
     ]
    },
    {
     "name": "stdout",
     "output_type": "stream",
     "text": [
      "Model Number: 917 with model DatepartRegression in generation 7 of 10\n",
      "Template Eval Error: ImportError('Tensorflow not available, install with pip install tensorflow.') in model 917: DatepartRegression\n",
      "Model Number: 918 with model MetricMotif in generation 7 of 10\n",
      "Model Number: 919 with model Theta in generation 7 of 10\n",
      "Model Number: 920 with model ConstantNaive in generation 7 of 10\n",
      "Model Number: 921 with model WindowRegression in generation 7 of 10\n",
      "Model Number: 922 with model ARIMA in generation 7 of 10\n",
      "Model Number: 923 with model MultivariateMotif in generation 7 of 10\n",
      "Model Number: 924 with model MultivariateMotif in generation 7 of 10\n",
      "Model Number: 925 with model UnivariateMotif in generation 7 of 10\n",
      "Model Number: 926 with model Theta in generation 7 of 10\n",
      "Model Number: 927 with model ARDL in generation 7 of 10\n",
      "Model Number: 928 with model ETS in generation 7 of 10\n",
      "Model Number: 929 with model MetricMotif in generation 7 of 10\n",
      "Model Number: 930 with model ETS in generation 7 of 10\n",
      "Model Number: 931 with model MultivariateMotif in generation 7 of 10\n",
      "Model Number: 932 with model Theta in generation 7 of 10\n",
      "Model Number: 933 with model NVAR in generation 7 of 10\n",
      "Model Number: 934 with model ARIMA in generation 7 of 10\n",
      "Model Number: 935 with model GLM in generation 7 of 10\n",
      "Model Number: 936 with model WindowRegression in generation 7 of 10\n",
      "Model Number: 937 with model ETS in generation 7 of 10\n",
      "Model Number: 938 with model UnivariateMotif in generation 7 of 10\n"
     ]
    },
    {
     "name": "stderr",
     "output_type": "stream",
     "text": [
      "c:\\Python310\\lib\\site-packages\\sklearn\\linear_model\\_coordinate_descent.py:2441: ConvergenceWarning: Objective did not converge. You might want to increase the number of iterations. Duality gap: 72075.96470325332, tolerance: 976.3412930693073\n",
      "  ) = cd_fast.enet_coordinate_descent_multi_task(\n"
     ]
    },
    {
     "name": "stdout",
     "output_type": "stream",
     "text": [
      "Model Number: 939 with model UnobservedComponents in generation 7 of 10\n",
      "Model Number: 940 with model MultivariateMotif in generation 7 of 10\n",
      "Model Number: 941 with model ConstantNaive in generation 7 of 10\n",
      "Template Eval Error: ValueError(\"Model returned NaN due to a preprocessing transformer {'fillna': 'KNNImputer', 'transformations': {'0': 'SeasonalDifference', '1': 'EWMAFilter', '2': 'AlignLastValue', '3': 'AlignLastValue', '4': 'ClipOutliers'}, 'transformation_params': {'0': {'lag_1': 7, 'method': 'Mean'}, '1': {'span': 28}, '2': {'rows': 4, 'lag': 2, 'method': 'additive', 'strength': 0.2, 'first_value_only': False}, '3': {'rows': 1, 'lag': 1, 'method': 'multiplicative', 'strength': 0.2, 'first_value_only': False}, '4': {'method': 'remove', 'std_threshold': 2, 'fillna': 'mean'}}}. fail_on_forecast_nan=True\") in model 941: ConstantNaive\n",
      "Model Number: 942 with model GLM in generation 7 of 10\n",
      "Template Eval Error: ValueError('NaN, inf or invalid value detected in weights, estimation infeasible.') in model 942: GLM\n",
      "Model Number: 943 with model ARDL in generation 7 of 10\n",
      "Template Eval Error: Exception('Transformer Cointegration failed on fit') in model 943: ARDL\n",
      "Model Number: 944 with model WindowRegression in generation 7 of 10\n",
      "Template Eval Error: ValueError(\"regression_type='User' but no future_regressor passed\") in model 944: WindowRegression\n",
      "Model Number: 945 with model MultivariateRegression in generation 7 of 10\n"
     ]
    },
    {
     "name": "stderr",
     "output_type": "stream",
     "text": [
      "c:\\Python310\\lib\\site-packages\\statsmodels\\genmod\\families\\links.py:516: RuntimeWarning: overflow encountered in exp\n",
      "  return np.exp(z)\n",
      "c:\\Python310\\lib\\site-packages\\statsmodels\\genmod\\families\\family.py:426: RuntimeWarning: divide by zero encountered in divide\n",
      "  endog_mu = self._clean(endog / mu)\n",
      "c:\\Python310\\lib\\site-packages\\statsmodels\\genmod\\families\\family.py:132: RuntimeWarning: invalid value encountered in multiply\n",
      "  return 1. / (self.link.deriv(mu)**2 * self.variance(mu))\n",
      "c:\\Python310\\lib\\site-packages\\statsmodels\\genmod\\families\\family.py:132: RuntimeWarning: divide by zero encountered in divide\n",
      "  return 1. / (self.link.deriv(mu)**2 * self.variance(mu))\n",
      "c:\\Python310\\lib\\site-packages\\statsmodels\\genmod\\generalized_linear_model.py:1211: RuntimeWarning: invalid value encountered in multiply\n",
      "  wlsendog = (lin_pred + self.family.link.deriv(mu) * (self.endog-mu)\n",
      "[Parallel(n_jobs=-2)]: Using backend ThreadingBackend with 3 concurrent workers.\n",
      "[Parallel(n_jobs=-2)]: Done  44 tasks      | elapsed:    0.0s\n",
      "[Parallel(n_jobs=-2)]: Done 194 tasks      | elapsed:    0.3s\n",
      "[Parallel(n_jobs=-2)]: Done 200 out of 200 | elapsed:    0.3s finished\n",
      "[Parallel(n_jobs=3)]: Using backend ThreadingBackend with 3 concurrent workers.\n",
      "[Parallel(n_jobs=3)]: Done  44 tasks      | elapsed:    0.0s\n",
      "[Parallel(n_jobs=3)]: Done 194 tasks      | elapsed:    0.0s\n",
      "[Parallel(n_jobs=3)]: Done 200 out of 200 | elapsed:    0.0s finished\n",
      "[Parallel(n_jobs=3)]: Using backend ThreadingBackend with 3 concurrent workers.\n",
      "[Parallel(n_jobs=3)]: Done  44 tasks      | elapsed:    0.0s\n",
      "[Parallel(n_jobs=3)]: Done 194 tasks      | elapsed:    0.0s\n",
      "[Parallel(n_jobs=3)]: Done 200 out of 200 | elapsed:    0.0s finished\n",
      "[Parallel(n_jobs=3)]: Using backend ThreadingBackend with 3 concurrent workers.\n",
      "[Parallel(n_jobs=3)]: Done  44 tasks      | elapsed:    0.0s\n",
      "[Parallel(n_jobs=3)]: Done 194 tasks      | elapsed:    0.0s\n",
      "[Parallel(n_jobs=3)]: Done 200 out of 200 | elapsed:    0.0s finished\n",
      "[Parallel(n_jobs=3)]: Using backend ThreadingBackend with 3 concurrent workers.\n",
      "[Parallel(n_jobs=3)]: Done  44 tasks      | elapsed:    0.0s\n",
      "[Parallel(n_jobs=3)]: Done 194 tasks      | elapsed:    0.0s\n",
      "[Parallel(n_jobs=3)]: Done 200 out of 200 | elapsed:    0.0s finished\n",
      "[Parallel(n_jobs=3)]: Using backend ThreadingBackend with 3 concurrent workers.\n",
      "[Parallel(n_jobs=3)]: Done  44 tasks      | elapsed:    0.0s\n",
      "[Parallel(n_jobs=3)]: Done 194 tasks      | elapsed:    0.0s\n",
      "[Parallel(n_jobs=3)]: Done 200 out of 200 | elapsed:    0.0s finished\n",
      "[Parallel(n_jobs=3)]: Using backend ThreadingBackend with 3 concurrent workers.\n",
      "[Parallel(n_jobs=3)]: Done  44 tasks      | elapsed:    0.0s\n",
      "[Parallel(n_jobs=3)]: Done 194 tasks      | elapsed:    0.0s\n",
      "[Parallel(n_jobs=3)]: Done 200 out of 200 | elapsed:    0.0s finished\n",
      "[Parallel(n_jobs=3)]: Using backend ThreadingBackend with 3 concurrent workers.\n",
      "[Parallel(n_jobs=3)]: Done  44 tasks      | elapsed:    0.0s\n",
      "[Parallel(n_jobs=3)]: Done 194 tasks      | elapsed:    0.0s\n",
      "[Parallel(n_jobs=3)]: Done 200 out of 200 | elapsed:    0.0s finished\n",
      "[Parallel(n_jobs=3)]: Using backend ThreadingBackend with 3 concurrent workers.\n",
      "[Parallel(n_jobs=3)]: Done  44 tasks      | elapsed:    0.0s\n",
      "[Parallel(n_jobs=3)]: Done 194 tasks      | elapsed:    0.0s\n",
      "[Parallel(n_jobs=3)]: Done 200 out of 200 | elapsed:    0.0s finished\n",
      "[Parallel(n_jobs=3)]: Using backend ThreadingBackend with 3 concurrent workers.\n",
      "[Parallel(n_jobs=3)]: Done  44 tasks      | elapsed:    0.0s\n",
      "[Parallel(n_jobs=3)]: Done 194 tasks      | elapsed:    0.0s\n",
      "[Parallel(n_jobs=3)]: Done 200 out of 200 | elapsed:    0.0s finished\n",
      "[Parallel(n_jobs=3)]: Using backend ThreadingBackend with 3 concurrent workers.\n",
      "[Parallel(n_jobs=3)]: Done  44 tasks      | elapsed:    0.0s\n",
      "[Parallel(n_jobs=3)]: Done 194 tasks      | elapsed:    0.0s\n",
      "[Parallel(n_jobs=3)]: Done 200 out of 200 | elapsed:    0.0s finished\n",
      "[Parallel(n_jobs=3)]: Using backend ThreadingBackend with 3 concurrent workers.\n",
      "[Parallel(n_jobs=3)]: Done  44 tasks      | elapsed:    0.0s\n",
      "[Parallel(n_jobs=3)]: Done 194 tasks      | elapsed:    0.0s\n",
      "[Parallel(n_jobs=3)]: Done 200 out of 200 | elapsed:    0.0s finished\n",
      "[Parallel(n_jobs=3)]: Using backend ThreadingBackend with 3 concurrent workers.\n",
      "[Parallel(n_jobs=3)]: Done  44 tasks      | elapsed:    0.0s\n",
      "[Parallel(n_jobs=3)]: Done 194 tasks      | elapsed:    0.0s\n",
      "[Parallel(n_jobs=3)]: Done 200 out of 200 | elapsed:    0.0s finished\n"
     ]
    },
    {
     "name": "stdout",
     "output_type": "stream",
     "text": [
      "Model Number: 946 with model DatepartRegression in generation 7 of 10\n",
      "Template Eval Error: ValueError(\"regression_type='User' but no future_regressor passed\") in model 946: DatepartRegression\n",
      "Model Number: 947 with model UnivariateMotif in generation 7 of 10\n",
      "Model Number: 948 with model LastValueNaive in generation 7 of 10\n",
      "Model Number: 949 with model DatepartRegression in generation 7 of 10\n",
      "Template Eval Error: ValueError(\"regression_type='User' but no future_regressor passed\") in model 949: DatepartRegression\n",
      "Model Number: 950 with model MultivariateMotif in generation 7 of 10\n",
      "Model Number: 951 with model UnivariateRegression in generation 7 of 10\n",
      "No anomalies detected.\n",
      "Template Eval Error: Exception('Transformer Cointegration failed on fit') in model 951: UnivariateRegression\n",
      "Model Number: 952 with model UnobservedComponents in generation 7 of 10\n",
      "Model Number: 953 with model GLS in generation 7 of 10\n",
      "Model Number: 954 with model NVAR in generation 7 of 10\n",
      "Model Number: 955 with model ARIMA in generation 7 of 10\n",
      "Model Number: 956 with model UnivariateRegression in generation 7 of 10\n",
      "Model Number: 957 with model UnivariateMotif in generation 7 of 10\n",
      "Model Number: 958 with model MultivariateRegression in generation 7 of 10"
     ]
    },
    {
     "name": "stderr",
     "output_type": "stream",
     "text": [
      "c:\\Python310\\lib\\site-packages\\sklearn\\linear_model\\_ridge.py:157: LinAlgWarning: Ill-conditioned matrix (rcond=1.07105e-24): result may not be accurate.\n",
      "  return linalg.solve(A, Xy, sym_pos=True, overwrite_a=True).T\n"
     ]
    },
    {
     "name": "stdout",
     "output_type": "stream",
     "text": [
      "\n",
      "Template Eval Error: Exception('Transformer BTCD failed on fit') in model 958: MultivariateRegression\n",
      "Model Number: 959 with model UnivariateRegression in generation 7 of 10\n",
      "Model Number: 960 with model GLM in generation 7 of 10\n"
     ]
    },
    {
     "name": "stderr",
     "output_type": "stream",
     "text": [
      "c:\\Python310\\lib\\site-packages\\sklearn\\linear_model\\_ridge.py:157: LinAlgWarning: Ill-conditioned matrix (rcond=1.07002e-24): result may not be accurate.\n",
      "  return linalg.solve(A, Xy, sym_pos=True, overwrite_a=True).T\n",
      "c:\\Python310\\lib\\site-packages\\statsmodels\\genmod\\families\\family.py:1346: RuntimeWarning: divide by zero encountered in log\n",
      "  resid_dev -= endog_alpha * np.log(endog_alpha / mu_alpha)\n",
      "c:\\Python310\\lib\\site-packages\\statsmodels\\genmod\\families\\family.py:1346: RuntimeWarning: invalid value encountered in multiply\n",
      "  resid_dev -= endog_alpha * np.log(endog_alpha / mu_alpha)\n"
     ]
    },
    {
     "name": "stdout",
     "output_type": "stream",
     "text": [
      "Template Eval Error: ValueError('The first guess on the deviance function returned a nan.  This could be a boundary  problem and should be reported.') in model 960: GLM\n",
      "Model Number: 961 with model MultivariateMotif in generation 7 of 10\n",
      "Model Number: 962 with model MultivariateRegression in generation 7 of 10\n",
      "Template Eval Error: Exception('Transformer Cointegration failed on fit') in model 962: MultivariateRegression\n",
      "Model Number: 963 with model ARIMA in generation 7 of 10\n",
      "Model Number: 964 with model ETS in generation 7 of 10\n",
      "Model Number: 965 with model WindowRegression in generation 7 of 10\n",
      "Model Number: 966 with model NVAR in generation 7 of 10\n",
      "Model Number: 967 with model WindowRegression in generation 7 of 10\n"
     ]
    },
    {
     "name": "stderr",
     "output_type": "stream",
     "text": [
      "c:\\Python310\\lib\\site-packages\\sklearn\\svm\\_base.py:1206: ConvergenceWarning: Liblinear failed to converge, increase the number of iterations.\n",
      "  warnings.warn(\n"
     ]
    },
    {
     "name": "stdout",
     "output_type": "stream",
     "text": [
      "Model Number: 968 with model SeasonalNaive in generation 7 of 10\n",
      "Template Eval Error: Exception('Transformer Cointegration failed on fit') in model 968: SeasonalNaive\n",
      "Model Number: 969 with model MetricMotif in generation 7 of 10\n",
      "Model Number: 970 with model LastValueNaive in generation 7 of 10\n",
      "Model Number: 971 with model ARIMA in generation 7 of 10\n",
      "Model Number: 972 with model GLS in generation 7 of 10\n",
      "Model Number: 973 with model MetricMotif in generation 7 of 10\n",
      "Model Number: 974 with model WindowRegression in generation 7 of 10\n",
      "Model Number: 975 with model Theta in generation 7 of 10\n",
      "Model Number: 976 with model Theta in generation 7 of 10\n",
      "Model Number: 977 with model MultivariateRegression in generation 7 of 10\n"
     ]
    },
    {
     "name": "stderr",
     "output_type": "stream",
     "text": [
      "[Parallel(n_jobs=-2)]: Using backend ThreadingBackend with 3 concurrent workers.\n",
      "[Parallel(n_jobs=-2)]: Done  44 tasks      | elapsed:    0.0s\n",
      "[Parallel(n_jobs=-2)]: Done 194 tasks      | elapsed:    0.3s\n",
      "[Parallel(n_jobs=-2)]: Done 200 out of 200 | elapsed:    0.3s finished\n",
      "[Parallel(n_jobs=3)]: Using backend ThreadingBackend with 3 concurrent workers.\n",
      "[Parallel(n_jobs=3)]: Done  44 tasks      | elapsed:    0.0s\n",
      "[Parallel(n_jobs=3)]: Done 194 tasks      | elapsed:    0.0s\n",
      "[Parallel(n_jobs=3)]: Done 200 out of 200 | elapsed:    0.0s finished\n",
      "[Parallel(n_jobs=3)]: Using backend ThreadingBackend with 3 concurrent workers.\n",
      "[Parallel(n_jobs=3)]: Done  44 tasks      | elapsed:    0.0s\n",
      "[Parallel(n_jobs=3)]: Done 194 tasks      | elapsed:    0.0s\n",
      "[Parallel(n_jobs=3)]: Done 200 out of 200 | elapsed:    0.0s finished\n",
      "[Parallel(n_jobs=3)]: Using backend ThreadingBackend with 3 concurrent workers.\n",
      "[Parallel(n_jobs=3)]: Done  44 tasks      | elapsed:    0.0s\n",
      "[Parallel(n_jobs=3)]: Done 194 tasks      | elapsed:    0.0s\n",
      "[Parallel(n_jobs=3)]: Done 200 out of 200 | elapsed:    0.0s finished\n",
      "[Parallel(n_jobs=3)]: Using backend ThreadingBackend with 3 concurrent workers.\n",
      "[Parallel(n_jobs=3)]: Done  44 tasks      | elapsed:    0.0s\n",
      "[Parallel(n_jobs=3)]: Done 194 tasks      | elapsed:    0.0s\n",
      "[Parallel(n_jobs=3)]: Done 200 out of 200 | elapsed:    0.0s finished\n",
      "[Parallel(n_jobs=3)]: Using backend ThreadingBackend with 3 concurrent workers.\n",
      "[Parallel(n_jobs=3)]: Done  44 tasks      | elapsed:    0.0s\n",
      "[Parallel(n_jobs=3)]: Done 194 tasks      | elapsed:    0.0s\n",
      "[Parallel(n_jobs=3)]: Done 200 out of 200 | elapsed:    0.0s finished\n",
      "[Parallel(n_jobs=3)]: Using backend ThreadingBackend with 3 concurrent workers.\n",
      "[Parallel(n_jobs=3)]: Done  44 tasks      | elapsed:    0.0s\n",
      "[Parallel(n_jobs=3)]: Done 194 tasks      | elapsed:    0.0s\n",
      "[Parallel(n_jobs=3)]: Done 200 out of 200 | elapsed:    0.0s finished\n",
      "[Parallel(n_jobs=3)]: Using backend ThreadingBackend with 3 concurrent workers.\n",
      "[Parallel(n_jobs=3)]: Done  44 tasks      | elapsed:    0.0s\n",
      "[Parallel(n_jobs=3)]: Done 194 tasks      | elapsed:    0.0s\n",
      "[Parallel(n_jobs=3)]: Done 200 out of 200 | elapsed:    0.0s finished\n",
      "[Parallel(n_jobs=3)]: Using backend ThreadingBackend with 3 concurrent workers.\n",
      "[Parallel(n_jobs=3)]: Done  44 tasks      | elapsed:    0.0s\n",
      "[Parallel(n_jobs=3)]: Done 194 tasks      | elapsed:    0.0s\n",
      "[Parallel(n_jobs=3)]: Done 200 out of 200 | elapsed:    0.0s finished\n",
      "[Parallel(n_jobs=3)]: Using backend ThreadingBackend with 3 concurrent workers.\n",
      "[Parallel(n_jobs=3)]: Done  44 tasks      | elapsed:    0.0s\n",
      "[Parallel(n_jobs=3)]: Done 194 tasks      | elapsed:    0.0s\n",
      "[Parallel(n_jobs=3)]: Done 200 out of 200 | elapsed:    0.0s finished\n",
      "[Parallel(n_jobs=3)]: Using backend ThreadingBackend with 3 concurrent workers.\n",
      "[Parallel(n_jobs=3)]: Done  44 tasks      | elapsed:    0.0s\n",
      "[Parallel(n_jobs=3)]: Done 194 tasks      | elapsed:    0.0s\n",
      "[Parallel(n_jobs=3)]: Done 200 out of 200 | elapsed:    0.0s finished\n",
      "[Parallel(n_jobs=3)]: Using backend ThreadingBackend with 3 concurrent workers.\n",
      "[Parallel(n_jobs=3)]: Done  44 tasks      | elapsed:    0.0s\n",
      "[Parallel(n_jobs=3)]: Done 194 tasks      | elapsed:    0.0s\n",
      "[Parallel(n_jobs=3)]: Done 200 out of 200 | elapsed:    0.0s finished\n",
      "[Parallel(n_jobs=3)]: Using backend ThreadingBackend with 3 concurrent workers.\n",
      "[Parallel(n_jobs=3)]: Done  44 tasks      | elapsed:    0.0s\n",
      "[Parallel(n_jobs=3)]: Done 194 tasks      | elapsed:    0.0s\n",
      "[Parallel(n_jobs=3)]: Done 200 out of 200 | elapsed:    0.0s finished\n"
     ]
    },
    {
     "name": "stdout",
     "output_type": "stream",
     "text": [
      "Model Number: 978 with model AverageValueNaive in generation 7 of 10\n",
      "Template Eval Error: Exception('Transformer BTCD failed on fit') in model 978: AverageValueNaive\n",
      "Model Number: 979 with model UnivariateMotif in generation 7 of 10\n",
      "Model Number: 980 with model ETS in generation 7 of 10\n",
      "Model Number: 981 with model AverageValueNaive in generation 7 of 10\n",
      "Model Number: 982 with model MultivariateMotif in generation 7 of 10\n",
      "Model Number: 983 with model SeasonalNaive in generation 7 of 10\n",
      "Model Number: 984 with model UnobservedComponents in generation 7 of 10\n",
      "Model Number: 985 with model ETS in generation 7 of 10\n",
      "ETS error ValueError('Can only dampen the trend component')\n",
      "ETS failed on Thousands of Passengers with ValueError('Can only dampen the trend component')\n",
      "Model Number: 986 with model SectionalMotif in generation 7 of 10\n",
      "Model Number: 987 with model WindowRegression in generation 7 of 10\n",
      "Template Eval Error: ValueError(\"regression_type='User' but no future_regressor passed\") in model 987: WindowRegression\n",
      "Model Number: 988 with model DatepartRegression in generation 7 of 10\n",
      "New Generation: 8 of 10\n",
      "Model Number: 989 with model MetricMotif in generation 8 of 10\n",
      "Model Number: 990 with model FBProphet in generation 8 of 10\n"
     ]
    },
    {
     "name": "stderr",
     "output_type": "stream",
     "text": [
      "23:03:39 - cmdstanpy - INFO - Chain [1] start processing\n",
      "23:03:39 - cmdstanpy - INFO - Chain [1] done processing\n"
     ]
    },
    {
     "name": "stdout",
     "output_type": "stream",
     "text": [
      "Model Number: 991 with model GLS in generation 8 of 10\n",
      "Model Number: 992 with model GLM in generation 8 of 10\n",
      "Model Number: 993 with model DatepartRegression in generation 8 of 10\n"
     ]
    },
    {
     "name": "stderr",
     "output_type": "stream",
     "text": [
      "[Parallel(n_jobs=-2)]: Using backend ThreadingBackend with 3 concurrent workers.\n",
      "[Parallel(n_jobs=-2)]: Done  44 tasks      | elapsed:    0.0s\n",
      "[Parallel(n_jobs=-2)]: Done 194 tasks      | elapsed:    0.3s\n",
      "[Parallel(n_jobs=-2)]: Done 444 tasks      | elapsed:    0.7s\n",
      "[Parallel(n_jobs=-2)]: Done 794 tasks      | elapsed:    1.3s\n",
      "[Parallel(n_jobs=-2)]: Done 1000 out of 1000 | elapsed:    1.7s finished\n",
      "[Parallel(n_jobs=3)]: Using backend ThreadingBackend with 3 concurrent workers.\n",
      "[Parallel(n_jobs=3)]: Done  44 tasks      | elapsed:    0.0s\n",
      "[Parallel(n_jobs=3)]: Done 194 tasks      | elapsed:    0.0s\n",
      "[Parallel(n_jobs=3)]: Done 444 tasks      | elapsed:    0.0s\n",
      "[Parallel(n_jobs=3)]: Done 794 tasks      | elapsed:    0.1s\n"
     ]
    },
    {
     "name": "stdout",
     "output_type": "stream",
     "text": [
      "Model Number: 994 with model ETS in generation 8 of 10\n"
     ]
    },
    {
     "name": "stderr",
     "output_type": "stream",
     "text": [
      "[Parallel(n_jobs=3)]: Done 1000 out of 1000 | elapsed:    0.1s finished\n"
     ]
    },
    {
     "name": "stdout",
     "output_type": "stream",
     "text": [
      "Model Number: 995 with model WindowRegression in generation 8 of 10\n",
      "Model Number: 996 with model WindowRegression in generation 8 of 10\n",
      "Template Eval Error: ValueError('Some value(s) of y are out of the valid range for family PoissonDistribution') in model 996: WindowRegression\n",
      "Model Number: 997 with model GLM in generation 8 of 10\n",
      "Model Number: 998 with model LastValueNaive in generation 8 of 10\n",
      "Model Number: 999 with model WindowRegression in generation 8 of 10\n",
      "Model Number: 1000 with model DatepartRegression in generation 8 of 10\n"
     ]
    },
    {
     "name": "stderr",
     "output_type": "stream",
     "text": [
      "c:\\Python310\\lib\\site-packages\\sklearn\\svm\\_base.py:1206: ConvergenceWarning: Liblinear failed to converge, increase the number of iterations.\n",
      "  warnings.warn(\n"
     ]
    },
    {
     "name": "stdout",
     "output_type": "stream",
     "text": [
      "Model Number: 1001 with model MetricMotif in generation 8 of 10\n",
      "Template Eval Error: Exception('Transformer BTCD failed on fit') in model 1001: MetricMotif\n",
      "Model Number: 1002 with model MultivariateRegression in generation 8 of 10\n"
     ]
    },
    {
     "name": "stderr",
     "output_type": "stream",
     "text": [
      "[Parallel(n_jobs=-2)]: Using backend ThreadingBackend with 3 concurrent workers.\n",
      "[Parallel(n_jobs=-2)]: Done  44 tasks      | elapsed:    0.0s\n",
      "[Parallel(n_jobs=-2)]: Done 194 tasks      | elapsed:    0.5s\n",
      "[Parallel(n_jobs=-2)]: Done 200 out of 200 | elapsed:    0.5s finished\n",
      "[Parallel(n_jobs=3)]: Using backend ThreadingBackend with 3 concurrent workers.\n",
      "[Parallel(n_jobs=3)]: Done  44 tasks      | elapsed:    0.0s\n",
      "[Parallel(n_jobs=3)]: Done 194 tasks      | elapsed:    0.0s\n",
      "[Parallel(n_jobs=3)]: Done 200 out of 200 | elapsed:    0.0s finished\n",
      "[Parallel(n_jobs=3)]: Using backend ThreadingBackend with 3 concurrent workers.\n",
      "[Parallel(n_jobs=3)]: Done  44 tasks      | elapsed:    0.0s\n",
      "[Parallel(n_jobs=3)]: Done 194 tasks      | elapsed:    0.0s\n",
      "[Parallel(n_jobs=3)]: Done 200 out of 200 | elapsed:    0.0s finished\n",
      "[Parallel(n_jobs=3)]: Using backend ThreadingBackend with 3 concurrent workers.\n",
      "[Parallel(n_jobs=3)]: Done  44 tasks      | elapsed:    0.0s\n",
      "[Parallel(n_jobs=3)]: Done 194 tasks      | elapsed:    0.0s\n",
      "[Parallel(n_jobs=3)]: Done 200 out of 200 | elapsed:    0.0s finished\n",
      "[Parallel(n_jobs=3)]: Using backend ThreadingBackend with 3 concurrent workers.\n",
      "[Parallel(n_jobs=3)]: Done  44 tasks      | elapsed:    0.0s\n",
      "[Parallel(n_jobs=3)]: Done 194 tasks      | elapsed:    0.0s\n",
      "[Parallel(n_jobs=3)]: Done 200 out of 200 | elapsed:    0.0s finished\n",
      "[Parallel(n_jobs=3)]: Using backend ThreadingBackend with 3 concurrent workers.\n",
      "[Parallel(n_jobs=3)]: Done  44 tasks      | elapsed:    0.0s\n",
      "[Parallel(n_jobs=3)]: Done 194 tasks      | elapsed:    0.0s\n",
      "[Parallel(n_jobs=3)]: Done 200 out of 200 | elapsed:    0.0s finished\n",
      "[Parallel(n_jobs=3)]: Using backend ThreadingBackend with 3 concurrent workers.\n",
      "[Parallel(n_jobs=3)]: Done  44 tasks      | elapsed:    0.0s\n",
      "[Parallel(n_jobs=3)]: Done 194 tasks      | elapsed:    0.0s\n",
      "[Parallel(n_jobs=3)]: Done 200 out of 200 | elapsed:    0.0s finished\n",
      "[Parallel(n_jobs=3)]: Using backend ThreadingBackend with 3 concurrent workers.\n",
      "[Parallel(n_jobs=3)]: Done  44 tasks      | elapsed:    0.0s\n",
      "[Parallel(n_jobs=3)]: Done 194 tasks      | elapsed:    0.0s\n",
      "[Parallel(n_jobs=3)]: Done 200 out of 200 | elapsed:    0.0s finished\n",
      "[Parallel(n_jobs=3)]: Using backend ThreadingBackend with 3 concurrent workers.\n",
      "[Parallel(n_jobs=3)]: Done  44 tasks      | elapsed:    0.0s\n",
      "[Parallel(n_jobs=3)]: Done 194 tasks      | elapsed:    0.0s\n",
      "[Parallel(n_jobs=3)]: Done 200 out of 200 | elapsed:    0.0s finished\n",
      "[Parallel(n_jobs=3)]: Using backend ThreadingBackend with 3 concurrent workers.\n",
      "[Parallel(n_jobs=3)]: Done  44 tasks      | elapsed:    0.0s\n",
      "[Parallel(n_jobs=3)]: Done 194 tasks      | elapsed:    0.0s\n",
      "[Parallel(n_jobs=3)]: Done 200 out of 200 | elapsed:    0.0s finished\n",
      "[Parallel(n_jobs=3)]: Using backend ThreadingBackend with 3 concurrent workers.\n",
      "[Parallel(n_jobs=3)]: Done  44 tasks      | elapsed:    0.0s\n",
      "[Parallel(n_jobs=3)]: Done 194 tasks      | elapsed:    0.0s\n",
      "[Parallel(n_jobs=3)]: Done 200 out of 200 | elapsed:    0.0s finished\n",
      "[Parallel(n_jobs=3)]: Using backend ThreadingBackend with 3 concurrent workers.\n",
      "[Parallel(n_jobs=3)]: Done  44 tasks      | elapsed:    0.0s\n",
      "[Parallel(n_jobs=3)]: Done 194 tasks      | elapsed:    0.0s\n",
      "[Parallel(n_jobs=3)]: Done 200 out of 200 | elapsed:    0.0s finished\n",
      "[Parallel(n_jobs=3)]: Using backend ThreadingBackend with 3 concurrent workers.\n",
      "[Parallel(n_jobs=3)]: Done  44 tasks      | elapsed:    0.0s\n",
      "[Parallel(n_jobs=3)]: Done 194 tasks      | elapsed:    0.0s\n",
      "[Parallel(n_jobs=3)]: Done 200 out of 200 | elapsed:    0.0s finished\n"
     ]
    },
    {
     "name": "stdout",
     "output_type": "stream",
     "text": [
      "Model Number: 1003 with model Theta in generation 8 of 10\n",
      "Model Number: 1004 with model MultivariateMotif in generation 8 of 10\n",
      "Model Number: 1005 with model UnivariateRegression in generation 8 of 10\n",
      "Model Number: 1006 with model MultivariateMotif in generation 8 of 10\n"
     ]
    },
    {
     "name": "stderr",
     "output_type": "stream",
     "text": [
      "c:\\Python310\\lib\\site-packages\\sklearn\\linear_model\\_coordinate_descent.py:2441: ConvergenceWarning: Objective did not converge. You might want to increase the number of iterations. Duality gap: 2469.8516908613965, tolerance: 1099.304509945461\n",
      "  ) = cd_fast.enet_coordinate_descent_multi_task(\n"
     ]
    },
    {
     "name": "stdout",
     "output_type": "stream",
     "text": [
      "Model Number: 1007 with model UnivariateMotif in generation 8 of 10\n",
      "Model Number: 1008 with model WindowRegression in generation 8 of 10\n",
      "Template Eval Error: ValueError(\"regression_type='User' but no future_regressor passed\") in model 1008: WindowRegression\n",
      "Model Number: 1009 with model WindowRegression in generation 8 of 10\n",
      "Model Number: 1010 with model WindowRegression in generation 8 of 10\n",
      "Template Eval Error: ValueError(\"regression_type='User' but no future_regressor passed\") in model 1010: WindowRegression\n",
      "Model Number: 1011 with model ARIMA in generation 8 of 10\n",
      "Template Eval Error: ValueError(\"regression_type='User' but future_regressor not supplied\") in model 1011: ARIMA\n",
      "Model Number: 1012 with model SeasonalNaive in generation 8 of 10\n",
      "Model Number: 1013 with model Theta in generation 8 of 10\n",
      "Model Number: 1014 with model ETS in generation 8 of 10\n",
      "Model Number: 1015 with model WindowRegression in generation 8 of 10\n",
      "Model Number: 1016 with model GLM in generation 8 of 10\n",
      "Model Number: 1017 with model MultivariateMotif in generation 8 of 10\n"
     ]
    },
    {
     "name": "stderr",
     "output_type": "stream",
     "text": [
      "c:\\Python310\\lib\\site-packages\\statsmodels\\genmod\\families\\links.py:187: RuntimeWarning: overflow encountered in exp\n",
      "  t = np.exp(-z)\n"
     ]
    },
    {
     "name": "stdout",
     "output_type": "stream",
     "text": [
      "Model Number: 1018 with model Theta in generation 8 of 10\n",
      "Model Number: 1019 with model MultivariateRegression in generation 8 of 10\n",
      "Template Eval Error: LinAlgError('SVD did not converge') in model 1019: MultivariateRegression\n",
      "Model Number: 1020 with model UnobservedComponents in generation 8 of 10\n",
      "Model Number: 1021 with model LastValueNaive in generation 8 of 10\n"
     ]
    },
    {
     "name": "stderr",
     "output_type": "stream",
     "text": [
      "c:\\Python310\\lib\\site-packages\\sklearn\\neighbors\\_regression.py:470: UserWarning: One or more samples have no neighbors within specified radius; predicting NaN.\n",
      "  warnings.warn(empty_warning_msg)\n"
     ]
    },
    {
     "name": "stdout",
     "output_type": "stream",
     "text": [
      "Model Number: 1022 with model GLM in generation 8 of 10\n",
      "Model Number: 1023 with model UnivariateRegression in generation 8 of 10\n",
      "Model Number: 1024 with model ARIMA in generation 8 of 10\n",
      "Model Number: 1025 with model SectionalMotif in generation 8 of 10\n",
      "Template Eval Error: ValueError(\"regression_type=='User' but no future_regressor supplied\") in model 1025: SectionalMotif\n",
      "Model Number: 1026 with model Theta in generation 8 of 10\n",
      "Model Number: 1027 with model UnivariateMotif in generation 8 of 10\n",
      "Model Number: 1028 with model GLM in generation 8 of 10\n",
      "Template Eval Error: ValueError('NaN, inf or invalid value detected in weights, estimation infeasible.') in model 1028: GLM\n",
      "Model Number: 1029 with model SectionalMotif in generation 8 of 10\n",
      "Model Number: 1030 with model DatepartRegression in generation 8 of 10\n"
     ]
    },
    {
     "name": "stderr",
     "output_type": "stream",
     "text": [
      "c:\\Python310\\lib\\site-packages\\statsmodels\\genmod\\families\\family.py:1342: RuntimeWarning: divide by zero encountered in divide\n",
      "  endog_mu = self._clean(endog / mu)\n",
      "c:\\Python310\\lib\\site-packages\\statsmodels\\genmod\\families\\family.py:1342: RuntimeWarning: overflow encountered in divide\n",
      "  endog_mu = self._clean(endog / mu)\n",
      "c:\\Python310\\lib\\site-packages\\statsmodels\\genmod\\families\\family.py:1346: RuntimeWarning: invalid value encountered in log\n",
      "  resid_dev -= endog_alpha * np.log(endog_alpha / mu_alpha)\n",
      "c:\\Python310\\lib\\site-packages\\statsmodels\\genmod\\families\\links.py:516: RuntimeWarning: overflow encountered in exp\n",
      "  return np.exp(z)\n",
      "c:\\Python310\\lib\\site-packages\\statsmodels\\genmod\\families\\family.py:1346: RuntimeWarning: divide by zero encountered in log\n",
      "  resid_dev -= endog_alpha * np.log(endog_alpha / mu_alpha)\n",
      "c:\\Python310\\lib\\site-packages\\statsmodels\\genmod\\families\\family.py:132: RuntimeWarning: invalid value encountered in multiply\n",
      "  return 1. / (self.link.deriv(mu)**2 * self.variance(mu))\n",
      "c:\\Python310\\lib\\site-packages\\statsmodels\\genmod\\generalized_linear_model.py:1211: RuntimeWarning: invalid value encountered in multiply\n",
      "  wlsendog = (lin_pred + self.family.link.deriv(mu) * (self.endog-mu)\n"
     ]
    },
    {
     "name": "stdout",
     "output_type": "stream",
     "text": [
      "Model Number: 1031 with model MetricMotif in generation 8 of 10\n",
      "Model Number: 1032 with model MultivariateRegression in generation 8 of 10\n"
     ]
    },
    {
     "name": "stderr",
     "output_type": "stream",
     "text": [
      "[Parallel(n_jobs=-2)]: Using backend ThreadingBackend with 3 concurrent workers.\n",
      "[Parallel(n_jobs=-2)]: Done  44 tasks      | elapsed:    0.1s\n",
      "[Parallel(n_jobs=-2)]: Done 194 tasks      | elapsed:    0.4s\n",
      "[Parallel(n_jobs=-2)]: Done 200 out of 200 | elapsed:    0.4s finished\n",
      "[Parallel(n_jobs=3)]: Using backend ThreadingBackend with 3 concurrent workers.\n",
      "[Parallel(n_jobs=3)]: Done  44 tasks      | elapsed:    0.0s\n",
      "[Parallel(n_jobs=3)]: Done 194 tasks      | elapsed:    0.0s\n",
      "[Parallel(n_jobs=3)]: Done 200 out of 200 | elapsed:    0.0s finished\n",
      "[Parallel(n_jobs=3)]: Using backend ThreadingBackend with 3 concurrent workers.\n",
      "[Parallel(n_jobs=3)]: Done  44 tasks      | elapsed:    0.0s\n",
      "[Parallel(n_jobs=3)]: Done 194 tasks      | elapsed:    0.0s\n",
      "[Parallel(n_jobs=3)]: Done 200 out of 200 | elapsed:    0.0s finished\n",
      "[Parallel(n_jobs=3)]: Using backend ThreadingBackend with 3 concurrent workers.\n",
      "[Parallel(n_jobs=3)]: Done  44 tasks      | elapsed:    0.0s\n",
      "[Parallel(n_jobs=3)]: Done 194 tasks      | elapsed:    0.0s\n",
      "[Parallel(n_jobs=3)]: Done 200 out of 200 | elapsed:    0.0s finished\n",
      "[Parallel(n_jobs=3)]: Using backend ThreadingBackend with 3 concurrent workers.\n",
      "[Parallel(n_jobs=3)]: Done  44 tasks      | elapsed:    0.0s\n",
      "[Parallel(n_jobs=3)]: Done 194 tasks      | elapsed:    0.0s\n",
      "[Parallel(n_jobs=3)]: Done 200 out of 200 | elapsed:    0.0s finished\n",
      "[Parallel(n_jobs=3)]: Using backend ThreadingBackend with 3 concurrent workers.\n",
      "[Parallel(n_jobs=3)]: Done  44 tasks      | elapsed:    0.0s\n",
      "[Parallel(n_jobs=3)]: Done 194 tasks      | elapsed:    0.0s\n",
      "[Parallel(n_jobs=3)]: Done 200 out of 200 | elapsed:    0.0s finished\n",
      "[Parallel(n_jobs=3)]: Using backend ThreadingBackend with 3 concurrent workers.\n",
      "[Parallel(n_jobs=3)]: Done  44 tasks      | elapsed:    0.0s\n",
      "[Parallel(n_jobs=3)]: Done 194 tasks      | elapsed:    0.0s\n",
      "[Parallel(n_jobs=3)]: Done 200 out of 200 | elapsed:    0.0s finished\n",
      "[Parallel(n_jobs=3)]: Using backend ThreadingBackend with 3 concurrent workers.\n",
      "[Parallel(n_jobs=3)]: Done  44 tasks      | elapsed:    0.0s\n",
      "[Parallel(n_jobs=3)]: Done 194 tasks      | elapsed:    0.0s\n",
      "[Parallel(n_jobs=3)]: Done 200 out of 200 | elapsed:    0.0s finished\n",
      "[Parallel(n_jobs=3)]: Using backend ThreadingBackend with 3 concurrent workers.\n",
      "[Parallel(n_jobs=3)]: Done  44 tasks      | elapsed:    0.0s\n",
      "[Parallel(n_jobs=3)]: Done 194 tasks      | elapsed:    0.0s\n",
      "[Parallel(n_jobs=3)]: Done 200 out of 200 | elapsed:    0.0s finished\n",
      "[Parallel(n_jobs=3)]: Using backend ThreadingBackend with 3 concurrent workers.\n",
      "[Parallel(n_jobs=3)]: Done  44 tasks      | elapsed:    0.0s\n",
      "[Parallel(n_jobs=3)]: Done 194 tasks      | elapsed:    0.0s\n",
      "[Parallel(n_jobs=3)]: Done 200 out of 200 | elapsed:    0.0s finished\n",
      "[Parallel(n_jobs=3)]: Using backend ThreadingBackend with 3 concurrent workers.\n",
      "[Parallel(n_jobs=3)]: Done  44 tasks      | elapsed:    0.0s\n",
      "[Parallel(n_jobs=3)]: Done 194 tasks      | elapsed:    0.0s\n",
      "[Parallel(n_jobs=3)]: Done 200 out of 200 | elapsed:    0.0s finished\n",
      "[Parallel(n_jobs=3)]: Using backend ThreadingBackend with 3 concurrent workers.\n",
      "[Parallel(n_jobs=3)]: Done  44 tasks      | elapsed:    0.0s\n",
      "[Parallel(n_jobs=3)]: Done 194 tasks      | elapsed:    0.0s\n"
     ]
    },
    {
     "name": "stdout",
     "output_type": "stream",
     "text": [
      "Model Number: 1033 with model SeasonalNaive in generation 8 of 10\n"
     ]
    },
    {
     "name": "stderr",
     "output_type": "stream",
     "text": [
      "[Parallel(n_jobs=3)]: Done 200 out of 200 | elapsed:    0.0s finished\n",
      "[Parallel(n_jobs=3)]: Using backend ThreadingBackend with 3 concurrent workers.\n",
      "[Parallel(n_jobs=3)]: Done  44 tasks      | elapsed:    0.0s\n",
      "[Parallel(n_jobs=3)]: Done 194 tasks      | elapsed:    0.0s\n",
      "[Parallel(n_jobs=3)]: Done 200 out of 200 | elapsed:    0.0s finished\n",
      "c:\\Python310\\lib\\site-packages\\autots\\tools\\probabilistic.py:67: RuntimeWarning: invalid value encountered in divide\n",
      "  (prior_mu / prior_sigma**2) + ((n * data_mu) / prior_sigma**2)\n",
      "c:\\Python310\\lib\\site-packages\\autots\\tools\\probabilistic.py:68: RuntimeWarning: divide by zero encountered in divide\n",
      "  ) / ((1 / prior_sigma**2) + (n / prior_sigma**2))\n"
     ]
    },
    {
     "name": "stdout",
     "output_type": "stream",
     "text": [
      "Model Number: 1034 with model MultivariateMotif in generation 8 of 10\n",
      "Model Number: 1035 with model MultivariateRegression in generation 8 of 10\n",
      "Model Number: 1036 with model MultivariateRegression in generation 8 of 10\n",
      "Template Eval Error: ImportError('Tensorflow not available, install with pip install tensorflow.') in model 1036: MultivariateRegression\n",
      "Model Number: 1037 with model UnivariateRegression in generation 8 of 10\n"
     ]
    },
    {
     "name": "stderr",
     "output_type": "stream",
     "text": [
      "c:\\Python310\\lib\\site-packages\\sklearn\\linear_model\\_ridge.py:157: LinAlgWarning: Ill-conditioned matrix (rcond=1.07077e-24): result may not be accurate.\n",
      "  return linalg.solve(A, Xy, sym_pos=True, overwrite_a=True).T\n"
     ]
    },
    {
     "name": "stdout",
     "output_type": "stream",
     "text": [
      "Model Number: 1038 with model UnivariateRegression in generation 8 of 10\n",
      "Model Number: 1039 with model UnivariateMotif in generation 8 of 10\n",
      "Model Number: 1040 with model MetricMotif in generation 8 of 10\n",
      "Model Number: 1041 with model MetricMotif in generation 8 of 10\n",
      "Model Number: 1042 with model Theta in generation 8 of 10\n",
      "Model Number: 1043 with model NVAR in generation 8 of 10\n",
      "Model Number: 1044 with model ARIMA in generation 8 of 10\n",
      "Model Number: 1045 with model DatepartRegression in generation 8 of 10\n"
     ]
    },
    {
     "name": "stderr",
     "output_type": "stream",
     "text": [
      "[Parallel(n_jobs=-2)]: Using backend ThreadingBackend with 3 concurrent workers.\n",
      "[Parallel(n_jobs=-2)]: Done  44 tasks      | elapsed:    0.0s\n",
      "[Parallel(n_jobs=-2)]: Done 194 tasks      | elapsed:    0.3s\n",
      "[Parallel(n_jobs=-2)]: Done 444 tasks      | elapsed:    0.9s\n",
      "[Parallel(n_jobs=-2)]: Done 794 tasks      | elapsed:    1.5s\n",
      "[Parallel(n_jobs=-2)]: Done 1000 out of 1000 | elapsed:    1.9s finished\n",
      "[Parallel(n_jobs=3)]: Using backend ThreadingBackend with 3 concurrent workers.\n",
      "[Parallel(n_jobs=3)]: Done  44 tasks      | elapsed:    0.0s\n",
      "[Parallel(n_jobs=3)]: Done 194 tasks      | elapsed:    0.0s\n",
      "[Parallel(n_jobs=3)]: Done 444 tasks      | elapsed:    0.0s\n",
      "[Parallel(n_jobs=3)]: Done 794 tasks      | elapsed:    0.2s\n",
      "[Parallel(n_jobs=3)]: Done 1000 out of 1000 | elapsed:    0.2s finished\n"
     ]
    },
    {
     "name": "stdout",
     "output_type": "stream",
     "text": [
      "Model Number: 1046 with model UnivariateMotif in generation 8 of 10\n",
      "Model Number: 1047 with model ARIMA in generation 8 of 10\n",
      "No anomalies detected.\n",
      "Model Number: 1048 with model MultivariateMotif in generation 8 of 10\n",
      "Model Number: 1049 with model UnobservedComponents in generation 8 of 10\n",
      "Model Number: 1050 with model WindowRegression in generation 8 of 10\n",
      "Template Eval Error: ValueError(\"regression_type='User' but no future_regressor passed\") in model 1050: WindowRegression\n",
      "Model Number: 1051 with model MetricMotif in generation 8 of 10\n",
      "Model Number: 1052 with model ETS in generation 8 of 10\n",
      "Model Number: 1053 with model UnivariateRegression in generation 8 of 10\n",
      "Model Number: 1054 with model SectionalMotif in generation 8 of 10\n",
      "Model Number: 1055 with model AverageValueNaive in generation 8 of 10\n",
      "Model Number: 1056 with model MetricMotif in generation 8 of 10\n",
      "Model Number: 1057 with model GLM in generation 8 of 10\n",
      "Model Number: 1058 with model MetricMotif in generation 8 of 10\n",
      "Model Number: 1059 with model UnivariateMotif in generation 8 of 10\n",
      "Model Number: 1060 with model NVAR in generation 8 of 10\n",
      "Model Number: 1061 with model UnivariateMotif in generation 8 of 10\n",
      "Model Number: 1062 with model Theta in generation 8 of 10\n",
      "Model Number: 1063 with model SeasonalNaive in generation 8 of 10\n",
      "Template Eval Error: Exception('Transformer Cointegration failed on fit') in model 1063: SeasonalNaive\n",
      "Model Number: 1064 with model WindowRegression in generation 8 of 10\n",
      "Model Number: 1065 with model UnivariateRegression in generation 8 of 10\n",
      "Model Number: 1066 with model ARIMA in generation 8 of 10\n"
     ]
    },
    {
     "name": "stderr",
     "output_type": "stream",
     "text": [
      "c:\\Python310\\lib\\site-packages\\sklearn\\linear_model\\_ridge.py:157: LinAlgWarning: Ill-conditioned matrix (rcond=1.07024e-24): result may not be accurate.\n",
      "  return linalg.solve(A, Xy, sym_pos=True, overwrite_a=True).T\n"
     ]
    },
    {
     "name": "stdout",
     "output_type": "stream",
     "text": [
      "Model Number: 1067 with model Theta in generation 8 of 10\n",
      "Model Number: 1068 with model UnivariateMotif in generation 8 of 10\n",
      "Model Number: 1069 with model AverageValueNaive in generation 8 of 10\n",
      "Model Number: 1070 with model GLM in generation 8 of 10\n",
      "Template Eval Error: ValueError('The first guess on the deviance function returned a nan.  This could be a boundary  problem and should be reported.') in model 1070: GLM\n",
      "Model Number: 1071 with model UnivariateRegression in generation 8 of 10\n",
      "Template Eval Error: ValueError(\"regression_type='User' but not future_regressor supplied.\") in model 1071: UnivariateRegression\n",
      "Model Number: 1072 with model ARIMA in generation 8 of 10\n"
     ]
    },
    {
     "name": "stderr",
     "output_type": "stream",
     "text": [
      "c:\\Python310\\lib\\site-packages\\statsmodels\\genmod\\families\\family.py:1346: RuntimeWarning: invalid value encountered in log\n",
      "  resid_dev -= endog_alpha * np.log(endog_alpha / mu_alpha)\n"
     ]
    },
    {
     "name": "stdout",
     "output_type": "stream",
     "text": [
      "Model Number: 1073 with model ARIMA in generation 8 of 10\n",
      "Template Eval Error: ValueError(\"regression_type='User' but future_regressor not supplied\") in model 1073: ARIMA\n",
      "Model Number: 1074 with model MultivariateMotif in generation 8 of 10\n",
      "Model Number: 1075 with model GLM in generation 8 of 10\n",
      "Model Number: 1076 with model GLM in generation 8 of 10\n",
      "Model Number: 1077 with model MetricMotif in generation 8 of 10\n",
      "Model Number: 1078 with model Theta in generation 8 of 10\n",
      "Model Number: 1079 with model UnobservedComponents in generation 8 of 10\n",
      "Model Number: 1080 with model WindowRegression in generation 8 of 10\n",
      "Template Eval Error: ValueError(\"regression_type='User' but no future_regressor passed\") in model 1080: WindowRegression\n",
      "Model Number: 1081 with model UnivariateMotif in generation 8 of 10\n",
      "Model Number: 1082 with model ARIMA in generation 8 of 10\n",
      "Model Number: 1083 with model SeasonalNaive in generation 8 of 10\n",
      "Model Number: 1084 with model UnobservedComponents in generation 8 of 10\n",
      "Model Number: 1085 with model Theta in generation 8 of 10\n",
      "Model Number: 1086 with model SectionalMotif in generation 8 of 10\n",
      "Model Number: 1087 with model UnivariateRegression in generation 8 of 10\n",
      "Model Number: 1088 with model MetricMotif in generation 8 of 10\n"
     ]
    },
    {
     "name": "stderr",
     "output_type": "stream",
     "text": [
      "c:\\Python310\\lib\\site-packages\\sklearn\\linear_model\\_ridge.py:157: LinAlgWarning: Ill-conditioned matrix (rcond=1.07054e-24): result may not be accurate.\n",
      "  return linalg.solve(A, Xy, sym_pos=True, overwrite_a=True).T\n"
     ]
    },
    {
     "name": "stdout",
     "output_type": "stream",
     "text": [
      "New Generation: 9 of 10\n",
      "Model Number: 1089 with model MultivariateRegression in generation 9 of 10\n"
     ]
    },
    {
     "name": "stderr",
     "output_type": "stream",
     "text": [
      "[Parallel(n_jobs=-2)]: Using backend ThreadingBackend with 3 concurrent workers.\n",
      "[Parallel(n_jobs=-2)]: Done  44 tasks      | elapsed:    0.0s\n",
      "[Parallel(n_jobs=-2)]: Done 194 tasks      | elapsed:    0.3s\n",
      "[Parallel(n_jobs=-2)]: Done 200 out of 200 | elapsed:    0.3s finished\n",
      "[Parallel(n_jobs=3)]: Using backend ThreadingBackend with 3 concurrent workers.\n",
      "[Parallel(n_jobs=3)]: Done  44 tasks      | elapsed:    0.0s\n",
      "[Parallel(n_jobs=3)]: Done 194 tasks      | elapsed:    0.0s\n",
      "[Parallel(n_jobs=3)]: Done 200 out of 200 | elapsed:    0.0s finished\n",
      "[Parallel(n_jobs=3)]: Using backend ThreadingBackend with 3 concurrent workers.\n",
      "[Parallel(n_jobs=3)]: Done  44 tasks      | elapsed:    0.0s\n",
      "[Parallel(n_jobs=3)]: Done 194 tasks      | elapsed:    0.0s\n",
      "[Parallel(n_jobs=3)]: Done 200 out of 200 | elapsed:    0.0s finished\n",
      "[Parallel(n_jobs=3)]: Using backend ThreadingBackend with 3 concurrent workers.\n",
      "[Parallel(n_jobs=3)]: Done  44 tasks      | elapsed:    0.0s\n",
      "[Parallel(n_jobs=3)]: Done 194 tasks      | elapsed:    0.0s\n",
      "[Parallel(n_jobs=3)]: Done 200 out of 200 | elapsed:    0.0s finished\n",
      "[Parallel(n_jobs=3)]: Using backend ThreadingBackend with 3 concurrent workers.\n",
      "[Parallel(n_jobs=3)]: Done  44 tasks      | elapsed:    0.0s\n",
      "[Parallel(n_jobs=3)]: Done 194 tasks      | elapsed:    0.0s\n",
      "[Parallel(n_jobs=3)]: Done 200 out of 200 | elapsed:    0.0s finished\n",
      "[Parallel(n_jobs=3)]: Using backend ThreadingBackend with 3 concurrent workers.\n",
      "[Parallel(n_jobs=3)]: Done  44 tasks      | elapsed:    0.0s\n",
      "[Parallel(n_jobs=3)]: Done 194 tasks      | elapsed:    0.0s\n",
      "[Parallel(n_jobs=3)]: Done 200 out of 200 | elapsed:    0.0s finished\n",
      "[Parallel(n_jobs=3)]: Using backend ThreadingBackend with 3 concurrent workers.\n",
      "[Parallel(n_jobs=3)]: Done  44 tasks      | elapsed:    0.0s\n",
      "[Parallel(n_jobs=3)]: Done 194 tasks      | elapsed:    0.0s\n",
      "[Parallel(n_jobs=3)]: Done 200 out of 200 | elapsed:    0.0s finished\n",
      "[Parallel(n_jobs=3)]: Using backend ThreadingBackend with 3 concurrent workers.\n",
      "[Parallel(n_jobs=3)]: Done  44 tasks      | elapsed:    0.0s\n",
      "[Parallel(n_jobs=3)]: Done 194 tasks      | elapsed:    0.0s\n",
      "[Parallel(n_jobs=3)]: Done 200 out of 200 | elapsed:    0.0s finished\n",
      "[Parallel(n_jobs=3)]: Using backend ThreadingBackend with 3 concurrent workers.\n",
      "[Parallel(n_jobs=3)]: Done  44 tasks      | elapsed:    0.0s\n",
      "[Parallel(n_jobs=3)]: Done 194 tasks      | elapsed:    0.0s\n",
      "[Parallel(n_jobs=3)]: Done 200 out of 200 | elapsed:    0.0s finished\n",
      "[Parallel(n_jobs=3)]: Using backend ThreadingBackend with 3 concurrent workers.\n",
      "[Parallel(n_jobs=3)]: Done  44 tasks      | elapsed:    0.0s\n",
      "[Parallel(n_jobs=3)]: Done 194 tasks      | elapsed:    0.0s\n",
      "[Parallel(n_jobs=3)]: Done 200 out of 200 | elapsed:    0.0s finished\n",
      "[Parallel(n_jobs=3)]: Using backend ThreadingBackend with 3 concurrent workers.\n",
      "[Parallel(n_jobs=3)]: Done  44 tasks      | elapsed:    0.0s\n",
      "[Parallel(n_jobs=3)]: Done 194 tasks      | elapsed:    0.0s\n",
      "[Parallel(n_jobs=3)]: Done 200 out of 200 | elapsed:    0.0s finished\n",
      "[Parallel(n_jobs=3)]: Using backend ThreadingBackend with 3 concurrent workers.\n",
      "[Parallel(n_jobs=3)]: Done  44 tasks      | elapsed:    0.0s\n",
      "[Parallel(n_jobs=3)]: Done 194 tasks      | elapsed:    0.0s\n",
      "[Parallel(n_jobs=3)]: Done 200 out of 200 | elapsed:    0.0s finished\n",
      "[Parallel(n_jobs=3)]: Using backend ThreadingBackend with 3 concurrent workers.\n",
      "[Parallel(n_jobs=3)]: Done  44 tasks      | elapsed:    0.0s\n",
      "[Parallel(n_jobs=3)]: Done 194 tasks      | elapsed:    0.0s\n",
      "[Parallel(n_jobs=3)]: Done 200 out of 200 | elapsed:    0.0s finished\n"
     ]
    },
    {
     "name": "stdout",
     "output_type": "stream",
     "text": [
      "Model Number: 1090 with model WindowRegression in generation 9 of 10\n",
      "Template Eval Error: ValueError(\"regression_type='User' but no future_regressor passed\") in model 1090: WindowRegression\n",
      "Model Number: 1091 with model WindowRegression in generation 9 of 10\n",
      "Model Number: 1092 with model MetricMotif in generation 9 of 10\n",
      "Model Number: 1093 with model MultivariateMotif in generation 9 of 10\n",
      "Model Number: 1094 with model SeasonalNaive in generation 9 of 10\n",
      "Model Number: 1095 with model WindowRegression in generation 9 of 10\n"
     ]
    },
    {
     "name": "stderr",
     "output_type": "stream",
     "text": [
      "c:\\Python310\\lib\\site-packages\\sklearn\\experimental\\enable_hist_gradient_boosting.py:16: UserWarning: Since version 1.0, it is not needed to import enable_hist_gradient_boosting anymore. HistGradientBoostingClassifier and HistGradientBoostingRegressor are now stable and can be normally imported from sklearn.ensemble.\n",
      "  warnings.warn(\n"
     ]
    },
    {
     "name": "stdout",
     "output_type": "stream",
     "text": [
      "Model Number: 1096 with model MetricMotif in generation 9 of 10\n",
      "No anomalies detected.\n",
      "Model Number: 1097 with model ARIMA in generation 9 of 10\n",
      "Model Number: 1098 with model UnivariateMotif in generation 9 of 10\n",
      "Model Number: 1099 with model MetricMotif in generation 9 of 10\n",
      "Model Number: 1100 with model ARIMA in generation 9 of 10\n",
      "Model Number: 1101 with model NVAR in generation 9 of 10\n",
      "Model Number: 1102 with model WindowRegression in generation 9 of 10\n",
      "Model Number: 1103 with model SectionalMotif in generation 9 of 10\n",
      "Model Number: 1104 with model WindowRegression in generation 9 of 10\n",
      "Model Number: 1105 with model Theta in generation 9 of 10\n",
      "Model Number: 1106 with model ARIMA in generation 9 of 10\n",
      "Model Number: 1107 with model GLM in generation 9 of 10\n",
      "Model Number: 1108 with model ARIMA in generation 9 of 10\n",
      "Model Number: 1109 with model ARIMA in generation 9 of 10\n",
      "Model Number: 1110 with model MetricMotif in generation 9 of 10\n",
      "Model Number: 1111 with model MultivariateRegression in generation 9 of 10\n",
      "Model Number: 1112 with model SeasonalNaive in generation 9 of 10\n",
      "Model Number: 1113 with model WindowRegression in generation 9 of 10\n",
      "Model Number: 1114 with model LastValueNaive in generation 9 of 10\n",
      "Model Number: 1115 with model ETS in generation 9 of 10\n"
     ]
    },
    {
     "name": "stderr",
     "output_type": "stream",
     "text": [
      "c:\\Python310\\lib\\site-packages\\sklearn\\linear_model\\_coordinate_descent.py:2441: ConvergenceWarning: Objective did not converge. You might want to increase the number of iterations. Duality gap: 5529.702993140338, tolerance: 175.97373455425438\n",
      "  ) = cd_fast.enet_coordinate_descent_multi_task(\n"
     ]
    },
    {
     "name": "stdout",
     "output_type": "stream",
     "text": [
      "Model Number: 1116 with model DatepartRegression in generation 9 of 10\n",
      "Model Number: 1117 with model AverageValueNaive in generation 9 of 10\n",
      "Model Number: 1118 with model Theta in generation 9 of 10\n",
      "Model Number: 1119 with model UnivariateRegression in generation 9 of 10\n",
      "Model Number: 1120 with model WindowRegression in generation 9 of 10\n"
     ]
    },
    {
     "name": "stderr",
     "output_type": "stream",
     "text": [
      "c:\\Python310\\lib\\site-packages\\sklearn\\linear_model\\_ridge.py:157: LinAlgWarning: Ill-conditioned matrix (rcond=1.06948e-24): result may not be accurate.\n",
      "  return linalg.solve(A, Xy, sym_pos=True, overwrite_a=True).T\n"
     ]
    },
    {
     "name": "stdout",
     "output_type": "stream",
     "text": [
      "Model Number: 1121 with model NVAR in generation 9 of 10\n",
      "Model Number: 1122 with model MultivariateMotif in generation 9 of 10\n",
      "Model Number: 1123 with model NVAR in generation 9 of 10\n",
      "Model Number: 1124 with model UnobservedComponents in generation 9 of 10\n",
      "Template Eval Error: LinAlgError('Singular matrix') in model 1124: UnobservedComponents\n",
      "Model Number: 1125 with model Theta in generation 9 of 10\n",
      "Model Number: 1126 with model MetricMotif in generation 9 of 10\n",
      "Model Number: 1127 with model UnivariateMotif in generation 9 of 10\n",
      "Model Number: 1128 with model MetricMotif in generation 9 of 10\n",
      "Model Number: 1129 with model MultivariateMotif in generation 9 of 10\n",
      "Model Number: 1130 with model ARIMA in generation 9 of 10\n",
      "Model Number: 1131 with model MetricMotif in generation 9 of 10\n",
      "Model Number: 1132 with model ARDL in generation 9 of 10\n",
      "Model Number: 1133 with model GLM in generation 9 of 10\n",
      "Template Eval Error: ValueError('The first guess on the deviance function returned a nan.  This could be a boundary  problem and should be reported.') in model 1133: GLM\n",
      "Model Number: 1134 with model SeasonalNaive in generation 9 of 10\n",
      "Model Number: 1135 with model UnivariateMotif in generation 9 of 10\n",
      "Model Number: 1136 with model UnivariateMotif in generation 9 of 10\n"
     ]
    },
    {
     "name": "stderr",
     "output_type": "stream",
     "text": [
      "c:\\Python310\\lib\\site-packages\\statsmodels\\genmod\\families\\family.py:1346: RuntimeWarning: invalid value encountered in log\n",
      "  resid_dev -= endog_alpha * np.log(endog_alpha / mu_alpha)\n"
     ]
    },
    {
     "name": "stdout",
     "output_type": "stream",
     "text": [
      "Model Number: 1137 with model DatepartRegression in generation 9 of 10\n",
      "Model Number: 1138 with model SectionalMotif in generation 9 of 10\n",
      "Model Number: 1139 with model GLM in generation 9 of 10\n",
      "Template Eval Error: ValueError('NaN, inf or invalid value detected in weights, estimation infeasible.') in model 1139: GLM\n",
      "Model Number: 1140 with model ARDL in generation 9 of 10\n",
      "Model Number: 1141 with model UnivariateMotif in generation 9 of 10\n",
      "Model Number: 1142 with model MultivariateRegression in generation 9 of 10\n"
     ]
    },
    {
     "name": "stderr",
     "output_type": "stream",
     "text": [
      "c:\\Python310\\lib\\site-packages\\statsmodels\\genmod\\families\\family.py:1342: RuntimeWarning: divide by zero encountered in divide\n",
      "  endog_mu = self._clean(endog / mu)\n",
      "c:\\Python310\\lib\\site-packages\\statsmodels\\genmod\\families\\family.py:1342: RuntimeWarning: overflow encountered in divide\n",
      "  endog_mu = self._clean(endog / mu)\n",
      "c:\\Python310\\lib\\site-packages\\statsmodels\\genmod\\families\\family.py:1346: RuntimeWarning: invalid value encountered in log\n",
      "  resid_dev -= endog_alpha * np.log(endog_alpha / mu_alpha)\n",
      "c:\\Python310\\lib\\site-packages\\statsmodels\\genmod\\families\\varfuncs.py:265: RuntimeWarning: overflow encountered in square\n",
      "  return p + self.alpha*p**2\n",
      "c:\\Python310\\lib\\site-packages\\statsmodels\\genmod\\families\\family.py:132: RuntimeWarning: invalid value encountered in multiply\n",
      "  return 1. / (self.link.deriv(mu)**2 * self.variance(mu))\n"
     ]
    },
    {
     "name": "stdout",
     "output_type": "stream",
     "text": [
      "Model Number: 1143 with model AverageValueNaive in generation 9 of 10\n",
      "Model Number: 1144 with model WindowRegression in generation 9 of 10\n",
      "Model Number: 1145 with model FBProphet in generation 9 of 10\n"
     ]
    },
    {
     "name": "stderr",
     "output_type": "stream",
     "text": [
      "23:05:33 - cmdstanpy - INFO - Chain [1] start processing\n",
      "23:05:33 - cmdstanpy - INFO - Chain [1] done processing\n"
     ]
    },
    {
     "name": "stdout",
     "output_type": "stream",
     "text": [
      "Model Number: 1146 with model MetricMotif in generation 9 of 10\n",
      "Model Number: 1147 with model MetricMotif in generation 9 of 10\n",
      "Model Number: 1148 with model ARIMA in generation 9 of 10\n",
      "Model Number: 1149 with model SeasonalNaive in generation 9 of 10\n",
      "Model Number: 1150 with model MetricMotif in generation 9 of 10\n",
      "Model Number: 1151 with model DatepartRegression in generation 9 of 10\n",
      "Template Eval Error: ImportError('Tensorflow not available, install with pip install tensorflow.') in model 1151: DatepartRegression\n",
      "Model Number: 1152 with model UnivariateRegression in generation 9 of 10\n",
      "Model Number: 1153 with model SeasonalNaive in generation 9 of 10\n"
     ]
    },
    {
     "name": "stderr",
     "output_type": "stream",
     "text": [
      "c:\\Python310\\lib\\site-packages\\sklearn\\linear_model\\_ridge.py:157: LinAlgWarning: Ill-conditioned matrix (rcond=1.06953e-24): result may not be accurate.\n",
      "  return linalg.solve(A, Xy, sym_pos=True, overwrite_a=True).T\n"
     ]
    },
    {
     "name": "stdout",
     "output_type": "stream",
     "text": [
      "Model Number: 1154 with model UnivariateRegression in generation 9 of 10\n",
      "Template Eval Error: ValueError(\"regression_type='User' but not future_regressor supplied.\") in model 1154: UnivariateRegression\n",
      "Model Number: 1155 with model UnivariateRegression in generation 9 of 10\n",
      "Model Number: 1156 with model ARIMA in generation 9 of 10\n",
      "Model Number: 1157 with model GLM in generation 9 of 10\n",
      "Model Number: 1158 with model MultivariateMotif in generation 9 of 10\n",
      "Model Number: 1159 with model MetricMotif in generation 9 of 10\n",
      "Model Number: 1160 with model WindowRegression in generation 9 of 10\n",
      "Model Number: 1161 with model Theta in generation 9 of 10\n"
     ]
    },
    {
     "name": "stderr",
     "output_type": "stream",
     "text": [
      "c:\\Python310\\lib\\site-packages\\sklearn\\linear_model\\_coordinate_descent.py:2441: ConvergenceWarning: Objective did not converge. You might want to increase the number of iterations. Duality gap: 8749.756752904455, tolerance: 779.4598793607638\n",
      "  ) = cd_fast.enet_coordinate_descent_multi_task(\n"
     ]
    },
    {
     "name": "stdout",
     "output_type": "stream",
     "text": [
      "Model Number: 1162 with model SeasonalNaive in generation 9 of 10\n",
      "Model Number: 1163 with model Theta in generation 9 of 10\n",
      "Model Number: 1164 with model Theta in generation 9 of 10\n",
      "Model Number: 1165 with model ARDL in generation 9 of 10\n",
      "Model Number: 1166 with model Theta in generation 9 of 10\n",
      "Model Number: 1167 with model SectionalMotif in generation 9 of 10\n",
      "Model Number: 1168 with model SectionalMotif in generation 9 of 10\n",
      "Model Number: 1169 with model MultivariateMotif in generation 9 of 10\n",
      "Model Number: 1170 with model SectionalMotif in generation 9 of 10\n",
      "Model Number: 1171 with model SeasonalNaive in generation 9 of 10\n",
      "Model Number: 1172 with model MetricMotif in generation 9 of 10\n",
      "Model Number: 1173 with model GLS in generation 9 of 10\n",
      "Model Number: 1174 with model UnivariateMotif in generation 9 of 10\n",
      "Model Number: 1175 with model WindowRegression in generation 9 of 10\n",
      "Model Number: 1176 with model GLM in generation 9 of 10\n",
      "Template Eval Error: ValueError('NaN, inf or invalid value detected in weights, estimation infeasible.') in model 1176: GLM\n",
      "Model Number: 1177 with model Theta in generation 9 of 10"
     ]
    },
    {
     "name": "stderr",
     "output_type": "stream",
     "text": [
      "c:\\Python310\\lib\\site-packages\\sklearn\\svm\\_base.py:1206: ConvergenceWarning: Liblinear failed to converge, increase the number of iterations.\n",
      "  warnings.warn(\n",
      "c:\\Python310\\lib\\site-packages\\statsmodels\\genmod\\families\\family.py:1346: RuntimeWarning: invalid value encountered in log\n",
      "  resid_dev -= endog_alpha * np.log(endog_alpha / mu_alpha)\n",
      "c:\\Python310\\lib\\site-packages\\statsmodels\\genmod\\families\\family.py:1342: RuntimeWarning: divide by zero encountered in divide\n",
      "  endog_mu = self._clean(endog / mu)\n",
      "c:\\Python310\\lib\\site-packages\\statsmodels\\genmod\\families\\links.py:516: RuntimeWarning: overflow encountered in exp\n",
      "  return np.exp(z)\n",
      "c:\\Python310\\lib\\site-packages\\statsmodels\\genmod\\families\\family.py:1346: RuntimeWarning: divide by zero encountered in log\n",
      "  resid_dev -= endog_alpha * np.log(endog_alpha / mu_alpha)\n",
      "c:\\Python310\\lib\\site-packages\\numpy\\core\\fromnumeric.py:86: RuntimeWarning: invalid value encountered in reduce\n",
      "  return ufunc.reduce(obj, axis, dtype, out, **passkwargs)\n",
      "c:\\Python310\\lib\\site-packages\\statsmodels\\genmod\\families\\family.py:132: RuntimeWarning: invalid value encountered in multiply\n",
      "  return 1. / (self.link.deriv(mu)**2 * self.variance(mu))\n",
      "c:\\Python310\\lib\\site-packages\\statsmodels\\genmod\\generalized_linear_model.py:1211: RuntimeWarning: invalid value encountered in multiply\n",
      "  wlsendog = (lin_pred + self.family.link.deriv(mu) * (self.endog-mu)\n"
     ]
    },
    {
     "name": "stdout",
     "output_type": "stream",
     "text": [
      "\n",
      "Model Number: 1178 with model UnivariateRegression in generation 9 of 10\n",
      "Model Number: 1179 with model ConstantNaive in generation 9 of 10\n",
      "Model Number: 1180 with model ARDL in generation 9 of 10\n"
     ]
    },
    {
     "name": "stderr",
     "output_type": "stream",
     "text": [
      "c:\\Python310\\lib\\site-packages\\sklearn\\linear_model\\_ridge.py:157: LinAlgWarning: Ill-conditioned matrix (rcond=1.06984e-24): result may not be accurate.\n",
      "  return linalg.solve(A, Xy, sym_pos=True, overwrite_a=True).T\n"
     ]
    },
    {
     "name": "stdout",
     "output_type": "stream",
     "text": [
      "Model Number: 1181 with model MultivariateMotif in generation 9 of 10\n",
      "Model Number: 1182 with model DatepartRegression in generation 9 of 10\n",
      "Model Number: 1183 with model UnobservedComponents in generation 9 of 10\n",
      "Model Number: 1184 with model MetricMotif in generation 9 of 10\n",
      "Model Number: 1185 with model ARDL in generation 9 of 10\n",
      "Model Number: 1186 with model GLS in generation 9 of 10\n",
      "Model Number: 1187 with model GLM in generation 9 of 10\n",
      "Model Number: 1188 with model LastValueNaive in generation 9 of 10\n",
      "New Generation: 10 of 10\n",
      "Model Number: 1189 with model WindowRegression in generation 10 of 10\n",
      "Model Number: 1190 with model MultivariateMotif in generation 10 of 10\n",
      "Model Number: 1191 with model MultivariateMotif in generation 10 of 10\n",
      "Model Number: 1192 with model MultivariateRegression in generation 10 of 10\n",
      "Template Eval Error: ValueError(\"Input contains NaN, infinity or a value too large for dtype('float64').\") in model 1192: MultivariateRegression\n",
      "Model Number: 1193 with model NVAR in generation 10 of 10\n",
      "Model Number: 1194 with model MultivariateMotif in generation 10 of 10\n",
      "Model Number: 1195 with model UnivariateMotif in generation 10 of 10\n",
      "Model Number: 1196 with model ARIMA in generation 10 of 10\n",
      "Model Number: 1197 with model ARIMA in generation 10 of 10\n",
      "Model Number: 1198 with model UnivariateMotif in generation 10 of 10\n",
      "Model Number: 1199 with model DatepartRegression in generation 10 of 10\n",
      "Model Number: 1200 with model MetricMotif in generation 10 of 10\n",
      "Model Number: 1201 with model WindowRegression in generation 10 of 10\n",
      "Model Number: 1202 with model UnivariateMotif in generation 10 of 10\n",
      "Model Number: 1203 with model SectionalMotif in generation 10 of 10\n",
      "Model Number: 1204 with model SeasonalNaive in generation 10 of 10\n",
      "Model Number: 1205 with model SectionalMotif in generation 10 of 10\n",
      "Model Number: 1206 with model UnivariateMotif in generation 10 of 10\n",
      "Model Number: 1207 with model Theta in generation 10 of 10\n",
      "Model Number: 1208 with model GLM in generation 10 of 10\n",
      "Model Number: 1209 with model UnivariateRegression in generation 10 of 10\n",
      "Template Eval Error: ValueError(\"regression_type='User' but not future_regressor supplied.\") in model 1209: UnivariateRegression\n",
      "Model Number: 1210 with model ARIMA in generation 10 of 10\n",
      "Model Number: 1211 with model GLM in generation 10 of 10\n",
      "Template Eval Error: ValueError('regression_type=user and no future_regressor passed') in model 1211: GLM\n",
      "Model Number: 1212 with model GLM in generation 10 of 10\n",
      "Model Number: 1213 with model Theta in generation 10 of 10\n",
      "Model Number: 1214 with model MultivariateRegression in generation 10 of 10\n",
      "Template Eval Error: ValueError('Some value(s) of y are out of the valid range for family PoissonDistribution') in model 1214: MultivariateRegression\n",
      "Model Number: 1215 with model NVAR in generation 10 of 10\n",
      "Model Number: 1216 with model MultivariateMotif in generation 10 of 10\n",
      "Model Number: 1217 with model MultivariateRegression in generation 10 of 10\n"
     ]
    },
    {
     "name": "stderr",
     "output_type": "stream",
     "text": [
      "[Parallel(n_jobs=-2)]: Using backend ThreadingBackend with 3 concurrent workers.\n",
      "[Parallel(n_jobs=-2)]: Done  44 tasks      | elapsed:    0.0s\n",
      "[Parallel(n_jobs=-2)]: Done 194 tasks      | elapsed:    0.3s\n",
      "[Parallel(n_jobs=-2)]: Done 200 out of 200 | elapsed:    0.3s finished\n",
      "[Parallel(n_jobs=3)]: Using backend ThreadingBackend with 3 concurrent workers.\n",
      "[Parallel(n_jobs=3)]: Done  44 tasks      | elapsed:    0.0s\n",
      "[Parallel(n_jobs=3)]: Done 194 tasks      | elapsed:    0.0s\n",
      "[Parallel(n_jobs=3)]: Done 200 out of 200 | elapsed:    0.0s finished\n",
      "[Parallel(n_jobs=3)]: Using backend ThreadingBackend with 3 concurrent workers.\n",
      "[Parallel(n_jobs=3)]: Done  44 tasks      | elapsed:    0.0s\n",
      "[Parallel(n_jobs=3)]: Done 194 tasks      | elapsed:    0.0s\n",
      "[Parallel(n_jobs=3)]: Done 200 out of 200 | elapsed:    0.0s finished\n",
      "[Parallel(n_jobs=3)]: Using backend ThreadingBackend with 3 concurrent workers.\n",
      "[Parallel(n_jobs=3)]: Done  44 tasks      | elapsed:    0.0s\n",
      "[Parallel(n_jobs=3)]: Done 194 tasks      | elapsed:    0.0s\n",
      "[Parallel(n_jobs=3)]: Done 200 out of 200 | elapsed:    0.0s finished\n",
      "[Parallel(n_jobs=3)]: Using backend ThreadingBackend with 3 concurrent workers.\n",
      "[Parallel(n_jobs=3)]: Done  44 tasks      | elapsed:    0.0s\n",
      "[Parallel(n_jobs=3)]: Done 194 tasks      | elapsed:    0.0s\n",
      "[Parallel(n_jobs=3)]: Done 200 out of 200 | elapsed:    0.0s finished\n",
      "[Parallel(n_jobs=3)]: Using backend ThreadingBackend with 3 concurrent workers.\n",
      "[Parallel(n_jobs=3)]: Done  44 tasks      | elapsed:    0.0s\n",
      "[Parallel(n_jobs=3)]: Done 194 tasks      | elapsed:    0.0s\n",
      "[Parallel(n_jobs=3)]: Done 200 out of 200 | elapsed:    0.0s finished\n",
      "[Parallel(n_jobs=3)]: Using backend ThreadingBackend with 3 concurrent workers.\n",
      "[Parallel(n_jobs=3)]: Done  44 tasks      | elapsed:    0.0s\n",
      "[Parallel(n_jobs=3)]: Done 194 tasks      | elapsed:    0.0s\n",
      "[Parallel(n_jobs=3)]: Done 200 out of 200 | elapsed:    0.0s finished\n",
      "[Parallel(n_jobs=3)]: Using backend ThreadingBackend with 3 concurrent workers.\n",
      "[Parallel(n_jobs=3)]: Done  44 tasks      | elapsed:    0.0s\n",
      "[Parallel(n_jobs=3)]: Done 194 tasks      | elapsed:    0.0s\n",
      "[Parallel(n_jobs=3)]: Done 200 out of 200 | elapsed:    0.0s finished\n",
      "[Parallel(n_jobs=3)]: Using backend ThreadingBackend with 3 concurrent workers.\n",
      "[Parallel(n_jobs=3)]: Done  44 tasks      | elapsed:    0.0s\n",
      "[Parallel(n_jobs=3)]: Done 194 tasks      | elapsed:    0.0s\n",
      "[Parallel(n_jobs=3)]: Done 200 out of 200 | elapsed:    0.0s finished\n",
      "[Parallel(n_jobs=3)]: Using backend ThreadingBackend with 3 concurrent workers.\n",
      "[Parallel(n_jobs=3)]: Done  44 tasks      | elapsed:    0.0s\n",
      "[Parallel(n_jobs=3)]: Done 194 tasks      | elapsed:    0.0s\n",
      "[Parallel(n_jobs=3)]: Done 200 out of 200 | elapsed:    0.0s finished\n",
      "[Parallel(n_jobs=3)]: Using backend ThreadingBackend with 3 concurrent workers.\n",
      "[Parallel(n_jobs=3)]: Done  44 tasks      | elapsed:    0.0s\n",
      "[Parallel(n_jobs=3)]: Done 194 tasks      | elapsed:    0.0s\n",
      "[Parallel(n_jobs=3)]: Done 200 out of 200 | elapsed:    0.0s finished\n",
      "[Parallel(n_jobs=3)]: Using backend ThreadingBackend with 3 concurrent workers.\n",
      "[Parallel(n_jobs=3)]: Done  44 tasks      | elapsed:    0.0s\n",
      "[Parallel(n_jobs=3)]: Done 194 tasks      | elapsed:    0.0s\n"
     ]
    },
    {
     "name": "stdout",
     "output_type": "stream",
     "text": [
      "Model Number: 1218 with model MetricMotif in generation 10 of 10\n"
     ]
    },
    {
     "name": "stderr",
     "output_type": "stream",
     "text": [
      "[Parallel(n_jobs=3)]: Done 200 out of 200 | elapsed:    0.0s finished\n",
      "[Parallel(n_jobs=3)]: Using backend ThreadingBackend with 3 concurrent workers.\n",
      "[Parallel(n_jobs=3)]: Done  44 tasks      | elapsed:    0.0s\n",
      "[Parallel(n_jobs=3)]: Done 194 tasks      | elapsed:    0.0s\n",
      "[Parallel(n_jobs=3)]: Done 200 out of 200 | elapsed:    0.0s finished\n"
     ]
    },
    {
     "name": "stdout",
     "output_type": "stream",
     "text": [
      "Model Number: 1219 with model UnivariateRegression in generation 10 of 10\n",
      "Model Number: 1220 with model SectionalMotif in generation 10 of 10\n",
      "Template Eval Error: Exception('Transformer Cointegration failed on fit') in model 1220: SectionalMotif\n",
      "Model Number: 1221 with model MultivariateMotif in generation 10 of 10\n",
      "Model Number: 1222 with model MetricMotif in generation 10 of 10\n",
      "Model Number: 1223 with model NVAR in generation 10 of 10\n",
      "Template Eval Error: Exception('Transformer Detrend failed on fit') in model 1223: NVAR\n",
      "Model Number: 1224 with model UnivariateMotif in generation 10 of 10\n",
      "Model Number: 1225 with model ETS in generation 10 of 10\n",
      "Model Number: 1226 with model MultivariateRegression in generation 10 of 10\n",
      "Template Eval Error: LinAlgError('Matrix is not positive definite') in model 1226: MultivariateRegression\n",
      "Model Number: 1227 with model MetricMotif in generation 10 of 10\n",
      "Model Number: 1228 with model MultivariateRegression in generation 10 of 10\n"
     ]
    },
    {
     "name": "stderr",
     "output_type": "stream",
     "text": [
      "[Parallel(n_jobs=-2)]: Using backend ThreadingBackend with 3 concurrent workers.\n",
      "[Parallel(n_jobs=-2)]: Done  44 tasks      | elapsed:    0.0s\n",
      "[Parallel(n_jobs=-2)]: Done 194 tasks      | elapsed:    0.3s\n",
      "[Parallel(n_jobs=-2)]: Done 200 out of 200 | elapsed:    0.3s finished\n",
      "[Parallel(n_jobs=3)]: Using backend ThreadingBackend with 3 concurrent workers.\n",
      "[Parallel(n_jobs=3)]: Done  44 tasks      | elapsed:    0.0s\n",
      "[Parallel(n_jobs=3)]: Done 194 tasks      | elapsed:    0.0s\n",
      "[Parallel(n_jobs=3)]: Done 200 out of 200 | elapsed:    0.0s finished\n",
      "[Parallel(n_jobs=3)]: Using backend ThreadingBackend with 3 concurrent workers.\n",
      "[Parallel(n_jobs=3)]: Done  44 tasks      | elapsed:    0.0s\n",
      "[Parallel(n_jobs=3)]: Done 194 tasks      | elapsed:    0.0s\n",
      "[Parallel(n_jobs=3)]: Done 200 out of 200 | elapsed:    0.0s finished\n",
      "[Parallel(n_jobs=3)]: Using backend ThreadingBackend with 3 concurrent workers.\n",
      "[Parallel(n_jobs=3)]: Done  44 tasks      | elapsed:    0.0s\n",
      "[Parallel(n_jobs=3)]: Done 194 tasks      | elapsed:    0.0s\n",
      "[Parallel(n_jobs=3)]: Done 200 out of 200 | elapsed:    0.0s finished\n",
      "[Parallel(n_jobs=3)]: Using backend ThreadingBackend with 3 concurrent workers.\n",
      "[Parallel(n_jobs=3)]: Done  44 tasks      | elapsed:    0.0s\n",
      "[Parallel(n_jobs=3)]: Done 194 tasks      | elapsed:    0.0s\n",
      "[Parallel(n_jobs=3)]: Done 200 out of 200 | elapsed:    0.0s finished\n",
      "[Parallel(n_jobs=3)]: Using backend ThreadingBackend with 3 concurrent workers.\n",
      "[Parallel(n_jobs=3)]: Done  44 tasks      | elapsed:    0.0s\n",
      "[Parallel(n_jobs=3)]: Done 194 tasks      | elapsed:    0.0s\n",
      "[Parallel(n_jobs=3)]: Done 200 out of 200 | elapsed:    0.0s finished\n",
      "[Parallel(n_jobs=3)]: Using backend ThreadingBackend with 3 concurrent workers.\n",
      "[Parallel(n_jobs=3)]: Done  44 tasks      | elapsed:    0.0s\n",
      "[Parallel(n_jobs=3)]: Done 194 tasks      | elapsed:    0.0s\n",
      "[Parallel(n_jobs=3)]: Done 200 out of 200 | elapsed:    0.0s finished\n",
      "[Parallel(n_jobs=3)]: Using backend ThreadingBackend with 3 concurrent workers.\n",
      "[Parallel(n_jobs=3)]: Done  44 tasks      | elapsed:    0.0s\n",
      "[Parallel(n_jobs=3)]: Done 194 tasks      | elapsed:    0.0s\n",
      "[Parallel(n_jobs=3)]: Done 200 out of 200 | elapsed:    0.0s finished\n",
      "[Parallel(n_jobs=3)]: Using backend ThreadingBackend with 3 concurrent workers.\n",
      "[Parallel(n_jobs=3)]: Done  44 tasks      | elapsed:    0.0s\n",
      "[Parallel(n_jobs=3)]: Done 194 tasks      | elapsed:    0.0s\n",
      "[Parallel(n_jobs=3)]: Done 200 out of 200 | elapsed:    0.0s finished\n",
      "[Parallel(n_jobs=3)]: Using backend ThreadingBackend with 3 concurrent workers.\n",
      "[Parallel(n_jobs=3)]: Done  44 tasks      | elapsed:    0.0s\n",
      "[Parallel(n_jobs=3)]: Done 194 tasks      | elapsed:    0.0s\n",
      "[Parallel(n_jobs=3)]: Done 200 out of 200 | elapsed:    0.0s finished\n",
      "[Parallel(n_jobs=3)]: Using backend ThreadingBackend with 3 concurrent workers.\n",
      "[Parallel(n_jobs=3)]: Done  44 tasks      | elapsed:    0.0s\n",
      "[Parallel(n_jobs=3)]: Done 194 tasks      | elapsed:    0.0s\n",
      "[Parallel(n_jobs=3)]: Done 200 out of 200 | elapsed:    0.0s finished\n",
      "[Parallel(n_jobs=3)]: Using backend ThreadingBackend with 3 concurrent workers.\n",
      "[Parallel(n_jobs=3)]: Done  44 tasks      | elapsed:    0.0s\n",
      "[Parallel(n_jobs=3)]: Done 194 tasks      | elapsed:    0.0s\n"
     ]
    },
    {
     "name": "stdout",
     "output_type": "stream",
     "text": [
      "Model Number: 1229 with model MultivariateMotif in generation 10 of 10\n"
     ]
    },
    {
     "name": "stderr",
     "output_type": "stream",
     "text": [
      "[Parallel(n_jobs=3)]: Done 200 out of 200 | elapsed:    0.0s finished\n",
      "[Parallel(n_jobs=3)]: Using backend ThreadingBackend with 3 concurrent workers.\n",
      "[Parallel(n_jobs=3)]: Done  44 tasks      | elapsed:    0.0s\n",
      "[Parallel(n_jobs=3)]: Done 194 tasks      | elapsed:    0.0s\n",
      "[Parallel(n_jobs=3)]: Done 200 out of 200 | elapsed:    0.0s finished\n"
     ]
    },
    {
     "name": "stdout",
     "output_type": "stream",
     "text": [
      "Model Number: 1230 with model MetricMotif in generation 10 of 10\n",
      "Model Number: 1231 with model ARIMA in generation 10 of 10\n",
      "Model Number: 1232 with model Theta in generation 10 of 10\n",
      "Model Number: 1233 with model MetricMotif in generation 10 of 10\n",
      "Model Number: 1234 with model UnivariateRegression in generation 10 of 10\n",
      "Model Number: 1235 with model WindowRegression in generation 10 of 10\n",
      "Model Number: 1236 with model MetricMotif in generation 10 of 10\n",
      "Model Number: 1237 with model UnivariateMotif in generation 10 of 10\n",
      "Model Number: 1238 with model ARIMA in generation 10 of 10\n",
      "Model Number: 1239 with model Theta in generation 10 of 10\n",
      "Model Number: 1240 with model UnobservedComponents in generation 10 of 10\n",
      "Model Number: 1241 with model DatepartRegression in generation 10 of 10\n"
     ]
    },
    {
     "name": "stderr",
     "output_type": "stream",
     "text": [
      "[Parallel(n_jobs=-2)]: Using backend ThreadingBackend with 3 concurrent workers.\n",
      "[Parallel(n_jobs=-2)]: Done  44 tasks      | elapsed:    0.0s\n",
      "[Parallel(n_jobs=-2)]: Done 194 tasks      | elapsed:    0.2s\n",
      "[Parallel(n_jobs=-2)]: Done 444 tasks      | elapsed:    0.7s\n",
      "[Parallel(n_jobs=-2)]: Done 794 tasks      | elapsed:    1.3s\n",
      "[Parallel(n_jobs=-2)]: Done 1000 out of 1000 | elapsed:    1.6s finished\n",
      "[Parallel(n_jobs=3)]: Using backend ThreadingBackend with 3 concurrent workers.\n",
      "[Parallel(n_jobs=3)]: Done  44 tasks      | elapsed:    0.0s\n",
      "[Parallel(n_jobs=3)]: Done 194 tasks      | elapsed:    0.0s\n",
      "[Parallel(n_jobs=3)]: Done 444 tasks      | elapsed:    0.0s\n",
      "[Parallel(n_jobs=3)]: Done 794 tasks      | elapsed:    0.1s\n"
     ]
    },
    {
     "name": "stdout",
     "output_type": "stream",
     "text": [
      "Model Number: 1242 with model WindowRegression in generation 10 of 10\n"
     ]
    },
    {
     "name": "stderr",
     "output_type": "stream",
     "text": [
      "[Parallel(n_jobs=3)]: Done 1000 out of 1000 | elapsed:    0.1s finished\n"
     ]
    },
    {
     "name": "stdout",
     "output_type": "stream",
     "text": [
      "Model Number: 1243 with model Theta in generation 10 of 10\n",
      "Model Number: 1244 with model MetricMotif in generation 10 of 10\n",
      "Model Number: 1245 with model WindowRegression in generation 10 of 10\n"
     ]
    },
    {
     "name": "stderr",
     "output_type": "stream",
     "text": [
      "c:\\Python310\\lib\\site-packages\\sklearn\\neural_network\\_multilayer_perceptron.py:549: ConvergenceWarning: lbfgs failed to converge (status=1):\n",
      "STOP: TOTAL NO. of ITERATIONS REACHED LIMIT.\n",
      "\n",
      "Increase the number of iterations (max_iter) or scale the data as shown in:\n",
      "    https://scikit-learn.org/stable/modules/preprocessing.html\n",
      "  self.n_iter_ = _check_optimize_result(\"lbfgs\", opt_res, self.max_iter)\n"
     ]
    },
    {
     "name": "stdout",
     "output_type": "stream",
     "text": [
      "Model Number: 1246 with model ARIMA in generation 10 of 10\n",
      "Model Number: 1247 with model MultivariateMotif in generation 10 of 10\n",
      "Model Number: 1248 with model WindowRegression in generation 10 of 10\n",
      "Model Number: 1249 with model DatepartRegression in generation 10 of 10\n",
      "Model Number: 1250 with model WindowRegression in generation 10 of 10\n"
     ]
    },
    {
     "name": "stderr",
     "output_type": "stream",
     "text": [
      "c:\\Python310\\lib\\site-packages\\sklearn\\neural_network\\_multilayer_perceptron.py:549: ConvergenceWarning: lbfgs failed to converge (status=1):\n",
      "STOP: TOTAL NO. of ITERATIONS REACHED LIMIT.\n",
      "\n",
      "Increase the number of iterations (max_iter) or scale the data as shown in:\n",
      "    https://scikit-learn.org/stable/modules/preprocessing.html\n",
      "  self.n_iter_ = _check_optimize_result(\"lbfgs\", opt_res, self.max_iter)\n"
     ]
    },
    {
     "name": "stdout",
     "output_type": "stream",
     "text": [
      "Model Number: 1251 with model Theta in generation 10 of 10\n",
      "Model Number: 1252 with model UnivariateRegression in generation 10 of 10\n",
      "Model Number: 1253 with model MultivariateMotif in generation 10 of 10\n"
     ]
    },
    {
     "name": "stderr",
     "output_type": "stream",
     "text": [
      "c:\\Python310\\lib\\site-packages\\sklearn\\linear_model\\_ridge.py:157: LinAlgWarning: Ill-conditioned matrix (rcond=1.07023e-24): result may not be accurate.\n",
      "  return linalg.solve(A, Xy, sym_pos=True, overwrite_a=True).T\n"
     ]
    },
    {
     "name": "stdout",
     "output_type": "stream",
     "text": [
      "Model Number: 1254 with model WindowRegression in generation 10 of 10\n",
      "Model Number: 1255 with model DatepartRegression in generation 10 of 10\n"
     ]
    },
    {
     "name": "stderr",
     "output_type": "stream",
     "text": [
      "[Parallel(n_jobs=-2)]: Using backend ThreadingBackend with 3 concurrent workers.\n",
      "[Parallel(n_jobs=-2)]: Done  44 tasks      | elapsed:    0.0s\n",
      "[Parallel(n_jobs=-2)]: Done 100 out of 100 | elapsed:    0.1s finished\n",
      "[Parallel(n_jobs=3)]: Using backend ThreadingBackend with 3 concurrent workers.\n",
      "[Parallel(n_jobs=3)]: Done  44 tasks      | elapsed:    0.0s\n",
      "[Parallel(n_jobs=3)]: Done 100 out of 100 | elapsed:    0.0s finished\n"
     ]
    },
    {
     "name": "stdout",
     "output_type": "stream",
     "text": [
      "Model Number: 1256 with model WindowRegression in generation 10 of 10\n",
      "Template Eval Error: ValueError(\"regression_type='User' but no future_regressor passed\") in model 1256: WindowRegression\n",
      "Model Number: 1257 with model MetricMotif in generation 10 of 10\n",
      "Model Number: 1258 with model MultivariateMotif in generation 10 of 10\n",
      "Model Number: 1259 with model MultivariateRegression in generation 10 of 10\n",
      "Model Number: 1260 with model ETS in generation 10 of 10\n",
      "Model Number: 1261 with model WindowRegression in generation 10 of 10\n",
      "Model Number: 1262 with model UnivariateMotif in generation 10 of 10\n",
      "Model Number: 1263 with model Theta in generation 10 of 10\n",
      "Model Number: 1264 with model Ensemble in generation 11 of Ensembles\n"
     ]
    },
    {
     "name": "stderr",
     "output_type": "stream",
     "text": [
      "c:\\Python310\\lib\\site-packages\\autots\\evaluator\\auto_model.py:939: FutureWarning: iteritems is deprecated and will be removed in a future version. Use .items instead.\n",
      "  for index, value in models_to_iterate.iteritems():\n"
     ]
    },
    {
     "name": "stdout",
     "output_type": "stream",
     "text": [
      "Model Number: 1265 with model Ensemble in generation 11 of Ensembles\n"
     ]
    },
    {
     "name": "stderr",
     "output_type": "stream",
     "text": [
      "c:\\Python310\\lib\\site-packages\\autots\\evaluator\\auto_model.py:939: FutureWarning: iteritems is deprecated and will be removed in a future version. Use .items instead.\n",
      "  for index, value in models_to_iterate.iteritems():\n"
     ]
    },
    {
     "name": "stdout",
     "output_type": "stream",
     "text": [
      "Model Number: 1266 with model Ensemble in generation 11 of Ensembles\n"
     ]
    },
    {
     "name": "stderr",
     "output_type": "stream",
     "text": [
      "c:\\Python310\\lib\\site-packages\\autots\\evaluator\\auto_model.py:939: FutureWarning: iteritems is deprecated and will be removed in a future version. Use .items instead.\n",
      "  for index, value in models_to_iterate.iteritems():\n",
      "c:\\Python310\\lib\\site-packages\\sklearn\\linear_model\\_ridge.py:157: LinAlgWarning: Ill-conditioned matrix (rcond=1.07054e-24): result may not be accurate.\n",
      "  return linalg.solve(A, Xy, sym_pos=True, overwrite_a=True).T\n"
     ]
    },
    {
     "name": "stdout",
     "output_type": "stream",
     "text": [
      "Model Number: 1267 with model Ensemble in generation 11 of Ensembles\n"
     ]
    },
    {
     "name": "stderr",
     "output_type": "stream",
     "text": [
      "c:\\Python310\\lib\\site-packages\\autots\\evaluator\\auto_model.py:939: FutureWarning: iteritems is deprecated and will be removed in a future version. Use .items instead.\n",
      "  for index, value in models_to_iterate.iteritems():\n",
      "c:\\Python310\\lib\\site-packages\\sklearn\\linear_model\\_ridge.py:157: LinAlgWarning: Ill-conditioned matrix (rcond=1.07054e-24): result may not be accurate.\n",
      "  return linalg.solve(A, Xy, sym_pos=True, overwrite_a=True).T\n"
     ]
    },
    {
     "name": "stdout",
     "output_type": "stream",
     "text": [
      "Model Number: 1268 with model Ensemble in generation 11 of Ensembles\n"
     ]
    },
    {
     "name": "stderr",
     "output_type": "stream",
     "text": [
      "c:\\Python310\\lib\\site-packages\\autots\\evaluator\\auto_model.py:939: FutureWarning: iteritems is deprecated and will be removed in a future version. Use .items instead.\n",
      "  for index, value in models_to_iterate.iteritems():\n",
      "c:\\Python310\\lib\\site-packages\\sklearn\\svm\\_base.py:1206: ConvergenceWarning: Liblinear failed to converge, increase the number of iterations.\n",
      "  warnings.warn(\n",
      "c:\\Python310\\lib\\site-packages\\autots\\evaluator\\auto_model.py:939: FutureWarning: iteritems is deprecated and will be removed in a future version. Use .items instead.\n",
      "  for index, value in models_to_iterate.iteritems():\n"
     ]
    },
    {
     "name": "stdout",
     "output_type": "stream",
     "text": [
      "Model Number: 1269 with model Ensemble in generation 11 of Ensembles\n"
     ]
    },
    {
     "name": "stderr",
     "output_type": "stream",
     "text": [
      "c:\\Python310\\lib\\site-packages\\sklearn\\svm\\_base.py:1206: ConvergenceWarning: Liblinear failed to converge, increase the number of iterations.\n",
      "  warnings.warn(\n",
      "c:\\Python310\\lib\\site-packages\\autots\\evaluator\\auto_model.py:939: FutureWarning: iteritems is deprecated and will be removed in a future version. Use .items instead.\n",
      "  for index, value in models_to_iterate.iteritems():\n"
     ]
    },
    {
     "name": "stdout",
     "output_type": "stream",
     "text": [
      "Model Number: 1270 with model Ensemble in generation 11 of Ensembles\n",
      "Model Number: 1271 with model Ensemble in generation 11 of Ensembles\n"
     ]
    },
    {
     "name": "stderr",
     "output_type": "stream",
     "text": [
      "c:\\Python310\\lib\\site-packages\\sklearn\\svm\\_base.py:1206: ConvergenceWarning: Liblinear failed to converge, increase the number of iterations.\n",
      "  warnings.warn(\n",
      "c:\\Python310\\lib\\site-packages\\autots\\evaluator\\auto_model.py:939: FutureWarning: iteritems is deprecated and will be removed in a future version. Use .items instead.\n",
      "  for index, value in models_to_iterate.iteritems():\n",
      "c:\\Python310\\lib\\site-packages\\sklearn\\svm\\_base.py:1206: ConvergenceWarning: Liblinear failed to converge, increase the number of iterations.\n",
      "  warnings.warn(\n"
     ]
    },
    {
     "name": "stdout",
     "output_type": "stream",
     "text": [
      "Validation Round: 1\n",
      "Model Number: 1 of 190 with model Ensemble for Validation 1\n"
     ]
    },
    {
     "name": "stderr",
     "output_type": "stream",
     "text": [
      "c:\\Python310\\lib\\site-packages\\autots\\evaluator\\auto_model.py:939: FutureWarning: iteritems is deprecated and will be removed in a future version. Use .items instead.\n",
      "  for index, value in models_to_iterate.iteritems():\n",
      "c:\\Python310\\lib\\site-packages\\sklearn\\svm\\_base.py:1206: ConvergenceWarning: Liblinear failed to converge, increase the number of iterations.\n",
      "  warnings.warn(\n"
     ]
    },
    {
     "name": "stdout",
     "output_type": "stream",
     "text": [
      "📈 1 - Ensemble with avg smape 4.12: \n",
      "Model Number: 2 of 190 with model ARIMA for Validation 1\n",
      "2 - ARIMA with avg smape 9.95: \n",
      "Model Number: 3 of 190 with model ARIMA for Validation 1\n",
      "3 - ARIMA with avg smape 9.95: \n",
      "Model Number: 4 of 190 with model Ensemble for Validation 1\n"
     ]
    },
    {
     "name": "stderr",
     "output_type": "stream",
     "text": [
      "c:\\Python310\\lib\\site-packages\\autots\\evaluator\\auto_model.py:939: FutureWarning: iteritems is deprecated and will be removed in a future version. Use .items instead.\n",
      "  for index, value in models_to_iterate.iteritems():\n"
     ]
    },
    {
     "name": "stdout",
     "output_type": "stream",
     "text": [
      "4 - Ensemble with avg smape 10.38: \n",
      "Model Number: 5 of 190 with model Ensemble for Validation 1\n"
     ]
    },
    {
     "name": "stderr",
     "output_type": "stream",
     "text": [
      "c:\\Python310\\lib\\site-packages\\autots\\evaluator\\auto_model.py:939: FutureWarning: iteritems is deprecated and will be removed in a future version. Use .items instead.\n",
      "  for index, value in models_to_iterate.iteritems():\n",
      "c:\\Python310\\lib\\site-packages\\sklearn\\svm\\_base.py:1206: ConvergenceWarning: Liblinear failed to converge, increase the number of iterations.\n",
      "  warnings.warn(\n",
      "c:\\Python310\\lib\\site-packages\\autots\\evaluator\\auto_model.py:939: FutureWarning: iteritems is deprecated and will be removed in a future version. Use .items instead.\n",
      "  for index, value in models_to_iterate.iteritems():\n"
     ]
    },
    {
     "name": "stdout",
     "output_type": "stream",
     "text": [
      "5 - Ensemble with avg smape 8.26: \n",
      "Model Number: 6 of 190 with model Ensemble for Validation 1\n",
      "6 - Ensemble with avg smape 10.01: \n",
      "Model Number: 7 of 190 with model ARIMA for Validation 1\n",
      "7 - ARIMA with avg smape 11.27: \n",
      "Model Number: 8 of 190 with model ARIMA for Validation 1\n",
      "8 - ARIMA with avg smape 11.27: \n",
      "Model Number: 9 of 190 with model ARIMA for Validation 1\n",
      "9 - ARIMA with avg smape 9.41: \n",
      "Model Number: 10 of 190 with model ARIMA for Validation 1\n",
      "10 - ARIMA with avg smape 11.13: \n",
      "Model Number: 11 of 190 with model ARIMA for Validation 1\n",
      "11 - ARIMA with avg smape 11.13: \n",
      "Model Number: 12 of 190 with model ARIMA for Validation 1\n",
      "12 - ARIMA with avg smape 11.13: \n",
      "Model Number: 13 of 190 with model Ensemble for Validation 1\n"
     ]
    },
    {
     "name": "stderr",
     "output_type": "stream",
     "text": [
      "c:\\Python310\\lib\\site-packages\\autots\\evaluator\\auto_model.py:939: FutureWarning: iteritems is deprecated and will be removed in a future version. Use .items instead.\n",
      "  for index, value in models_to_iterate.iteritems():\n",
      "c:\\Python310\\lib\\site-packages\\sklearn\\svm\\_base.py:1206: ConvergenceWarning: Liblinear failed to converge, increase the number of iterations.\n",
      "  warnings.warn(\n"
     ]
    },
    {
     "name": "stdout",
     "output_type": "stream",
     "text": [
      "13 - Ensemble with avg smape 4.18: \n",
      "Model Number: 14 of 190 with model ARIMA for Validation 1\n",
      "14 - ARIMA with avg smape 11.84: \n",
      "Model Number: 15 of 190 with model Ensemble for Validation 1\n"
     ]
    },
    {
     "name": "stderr",
     "output_type": "stream",
     "text": [
      "c:\\Python310\\lib\\site-packages\\autots\\evaluator\\auto_model.py:939: FutureWarning: iteritems is deprecated and will be removed in a future version. Use .items instead.\n",
      "  for index, value in models_to_iterate.iteritems():\n"
     ]
    },
    {
     "name": "stdout",
     "output_type": "stream",
     "text": [
      "📈 15 - Ensemble with avg smape 3.99: \n",
      "Model Number: 16 of 190 with model MetricMotif for Validation 1\n"
     ]
    },
    {
     "name": "stderr",
     "output_type": "stream",
     "text": [
      "c:\\Python310\\lib\\site-packages\\sklearn\\svm\\_base.py:1206: ConvergenceWarning: Liblinear failed to converge, increase the number of iterations.\n",
      "  warnings.warn(\n"
     ]
    },
    {
     "name": "stdout",
     "output_type": "stream",
     "text": [
      "16 - MetricMotif with avg smape 4.47: \n",
      "Model Number: 17 of 190 with model WindowRegression for Validation 1\n",
      "17 - WindowRegression with avg smape 6.18: \n",
      "Model Number: 18 of 190 with model Ensemble for Validation 1\n"
     ]
    },
    {
     "name": "stderr",
     "output_type": "stream",
     "text": [
      "c:\\Python310\\lib\\site-packages\\sklearn\\svm\\_base.py:1206: ConvergenceWarning: Liblinear failed to converge, increase the number of iterations.\n",
      "  warnings.warn(\n",
      "c:\\Python310\\lib\\site-packages\\autots\\evaluator\\auto_model.py:939: FutureWarning: iteritems is deprecated and will be removed in a future version. Use .items instead.\n",
      "  for index, value in models_to_iterate.iteritems():\n",
      "c:\\Python310\\lib\\site-packages\\sklearn\\linear_model\\_ridge.py:157: LinAlgWarning: Ill-conditioned matrix (rcond=1.1899e-24): result may not be accurate.\n",
      "  return linalg.solve(A, Xy, sym_pos=True, overwrite_a=True).T\n"
     ]
    },
    {
     "name": "stdout",
     "output_type": "stream",
     "text": [
      "18 - Ensemble with avg smape 4.85: \n",
      "Model Number: 19 of 190 with model MultivariateMotif for Validation 1\n",
      "19 - MultivariateMotif with avg smape 10.04: \n",
      "Model Number: 20 of 190 with model WindowRegression for Validation 1\n",
      "20 - WindowRegression with avg smape 6.32: \n",
      "Model Number: 21 of 190 with model MultivariateMotif for Validation 1\n",
      "21 - MultivariateMotif with avg smape 9.84: \n",
      "Model Number: 22 of 190 with model MultivariateMotif for Validation 1\n",
      "22 - MultivariateMotif with avg smape 9.26: \n",
      "Model Number: 23 of 190 with model MultivariateMotif for Validation 1\n",
      "23 - MultivariateMotif with avg smape 9.26: \n",
      "Model Number: 24 of 190 with model MultivariateMotif for Validation 1\n",
      "24 - MultivariateMotif with avg smape 9.26: \n",
      "Model Number: 25 of 190 with model UnivariateMotif for Validation 1\n",
      "25 - UnivariateMotif with avg smape 6.79: \n",
      "Model Number: 26 of 190 with model MetricMotif for Validation 1\n",
      "26 - MetricMotif with avg smape 7.1: \n",
      "Model Number: 27 of 190 with model MultivariateMotif for Validation 1\n",
      "27 - MultivariateMotif with avg smape 9.94: \n",
      "Model Number: 28 of 190 with model WindowRegression for Validation 1\n"
     ]
    },
    {
     "name": "stderr",
     "output_type": "stream",
     "text": [
      "c:\\Python310\\lib\\site-packages\\sklearn\\linear_model\\_coordinate_descent.py:2441: ConvergenceWarning: Objective did not converge. You might want to increase the number of iterations. Duality gap: 4105.002683295686, tolerance: 127.54885116063198\n",
      "  ) = cd_fast.enet_coordinate_descent_multi_task(\n",
      "c:\\Python310\\lib\\site-packages\\autots\\evaluator\\auto_model.py:939: FutureWarning: iteritems is deprecated and will be removed in a future version. Use .items instead.\n",
      "  for index, value in models_to_iterate.iteritems():\n"
     ]
    },
    {
     "name": "stdout",
     "output_type": "stream",
     "text": [
      "28 - WindowRegression with avg smape 5.94: \n",
      "Model Number: 29 of 190 with model Ensemble for Validation 1\n"
     ]
    },
    {
     "name": "stderr",
     "output_type": "stream",
     "text": [
      "c:\\Python310\\lib\\site-packages\\sklearn\\linear_model\\_ridge.py:157: LinAlgWarning: Ill-conditioned matrix (rcond=1.1899e-24): result may not be accurate.\n",
      "  return linalg.solve(A, Xy, sym_pos=True, overwrite_a=True).T\n"
     ]
    },
    {
     "name": "stdout",
     "output_type": "stream",
     "text": [
      "29 - Ensemble with avg smape 7.72: \n",
      "Model Number: 30 of 190 with model MetricMotif for Validation 1\n",
      "30 - MetricMotif with avg smape 11.37: \n",
      "Model Number: 31 of 190 with model WindowRegression for Validation 1\n",
      "31 - WindowRegression with avg smape 4.64: \n",
      "Model Number: 32 of 190 with model MetricMotif for Validation 1\n",
      "32 - MetricMotif with avg smape 7.27: \n",
      "Model Number: 33 of 190 with model MetricMotif for Validation 1\n",
      "33 - MetricMotif with avg smape 10.16: \n",
      "Model Number: 34 of 190 with model MetricMotif for Validation 1\n",
      "34 - MetricMotif with avg smape 11.37: \n",
      "Model Number: 35 of 190 with model MetricMotif for Validation 1\n",
      "35 - MetricMotif with avg smape 10.94: \n",
      "Model Number: 36 of 190 with model WindowRegression for Validation 1\n",
      "36 - WindowRegression with avg smape 6.72: \n",
      "Model Number: 37 of 190 with model WindowRegression for Validation 1\n"
     ]
    },
    {
     "name": "stderr",
     "output_type": "stream",
     "text": [
      "c:\\Python310\\lib\\site-packages\\sklearn\\neural_network\\_multilayer_perceptron.py:549: ConvergenceWarning: lbfgs failed to converge (status=1):\n",
      "STOP: TOTAL NO. of ITERATIONS REACHED LIMIT.\n",
      "\n",
      "Increase the number of iterations (max_iter) or scale the data as shown in:\n",
      "    https://scikit-learn.org/stable/modules/preprocessing.html\n",
      "  self.n_iter_ = _check_optimize_result(\"lbfgs\", opt_res, self.max_iter)\n"
     ]
    },
    {
     "name": "stdout",
     "output_type": "stream",
     "text": [
      "37 - WindowRegression with avg smape 5.96: \n",
      "Model Number: 38 of 190 with model WindowRegression for Validation 1\n",
      "38 - WindowRegression with avg smape 5.96: \n",
      "Model Number: 39 of 190 with model MetricMotif for Validation 1\n",
      "39 - MetricMotif with avg smape 10.3: \n",
      "Model Number: 40 of 190 with model UnivariateRegression for Validation 1\n"
     ]
    },
    {
     "name": "stderr",
     "output_type": "stream",
     "text": [
      "c:\\Python310\\lib\\site-packages\\sklearn\\neural_network\\_multilayer_perceptron.py:549: ConvergenceWarning: lbfgs failed to converge (status=1):\n",
      "STOP: TOTAL NO. of ITERATIONS REACHED LIMIT.\n",
      "\n",
      "Increase the number of iterations (max_iter) or scale the data as shown in:\n",
      "    https://scikit-learn.org/stable/modules/preprocessing.html\n",
      "  self.n_iter_ = _check_optimize_result(\"lbfgs\", opt_res, self.max_iter)\n",
      "c:\\Python310\\lib\\site-packages\\sklearn\\linear_model\\_ridge.py:157: LinAlgWarning: Ill-conditioned matrix (rcond=1.1899e-24): result may not be accurate.\n",
      "  return linalg.solve(A, Xy, sym_pos=True, overwrite_a=True).T\n"
     ]
    },
    {
     "name": "stdout",
     "output_type": "stream",
     "text": [
      "40 - UnivariateRegression with avg smape 5.51: \n",
      "Model Number: 41 of 190 with model MetricMotif for Validation 1\n",
      "41 - MetricMotif with avg smape 9.87: \n",
      "Model Number: 42 of 190 with model WindowRegression for Validation 1\n",
      "42 - WindowRegression with avg smape 4.19: \n",
      "Model Number: 43 of 190 with model WindowRegression for Validation 1\n",
      "43 - WindowRegression with avg smape 4.19: \n",
      "Model Number: 44 of 190 with model MultivariateMotif for Validation 1\n",
      "44 - MultivariateMotif with avg smape 11.94: \n",
      "Model Number: 45 of 190 with model NVAR for Validation 1\n",
      "45 - NVAR with avg smape 5.22: \n",
      "Model Number: 46 of 190 with model NVAR for Validation 1\n",
      "46 - NVAR with avg smape 5.22: \n",
      "Model Number: 47 of 190 with model Theta for Validation 1\n",
      "47 - Theta with avg smape 10.43: \n",
      "Model Number: 48 of 190 with model UnivariateMotif for Validation 1\n",
      "48 - UnivariateMotif with avg smape 9.66: \n",
      "Model Number: 49 of 190 with model UnivariateMotif for Validation 1\n",
      "49 - UnivariateMotif with avg smape 5.37: \n",
      "Model Number: 50 of 190 with model UnivariateMotif for Validation 1\n",
      "50 - UnivariateMotif with avg smape 5.37: \n",
      "Model Number: 51 of 190 with model UnivariateMotif for Validation 1\n",
      "51 - UnivariateMotif with avg smape 5.37: \n",
      "Model Number: 52 of 190 with model Theta for Validation 1\n",
      "52 - Theta with avg smape 10.68: \n",
      "Model Number: 53 of 190 with model UnivariateMotif for Validation 1\n",
      "53 - UnivariateMotif with avg smape 6.02: \n",
      "Model Number: 54 of 190 with model Theta for Validation 1\n",
      "54 - Theta with avg smape 9.73: \n",
      "Model Number: 55 of 190 with model Theta for Validation 1\n",
      "55 - Theta with avg smape 9.73: \n",
      "Model Number: 56 of 190 with model GLM for Validation 1\n",
      "📈 56 - GLM with avg smape 3.18: \n",
      "Model Number: 57 of 190 with model GLM for Validation 1\n",
      "57 - GLM with avg smape 3.18: \n",
      "Model Number: 58 of 190 with model GLM for Validation 1\n",
      "58 - GLM with avg smape 3.18: \n",
      "Model Number: 59 of 190 with model UnivariateMotif for Validation 1\n",
      "59 - UnivariateMotif with avg smape 9.75: \n",
      "Model Number: 60 of 190 with model UnivariateMotif for Validation 1\n",
      "60 - UnivariateMotif with avg smape 9.75: \n",
      "Model Number: 61 of 190 with model UnivariateMotif for Validation 1\n",
      "61 - UnivariateMotif with avg smape 5.61: \n",
      "Model Number: 62 of 190 with model MultivariateMotif for Validation 1\n",
      "62 - MultivariateMotif with avg smape 4.53: \n",
      "Model Number: 63 of 190 with model MultivariateMotif for Validation 1\n",
      "63 - MultivariateMotif with avg smape 9.26: \n",
      "Model Number: 64 of 190 with model DatepartRegression for Validation 1\n",
      "64 - DatepartRegression with avg smape 5.08: \n",
      "Model Number: 65 of 190 with model NVAR for Validation 1\n",
      "65 - NVAR with avg smape 21.35: \n",
      "Model Number: 66 of 190 with model Theta for Validation 1\n",
      "66 - Theta with avg smape 11.5: \n",
      "Model Number: 67 of 190 with model Theta for Validation 1\n",
      "67 - Theta with avg smape 11.5: \n",
      "Model Number: 68 of 190 with model Theta for Validation 1\n",
      "68 - Theta with avg smape 11.5: \n",
      "Model Number: 69 of 190 with model Theta for Validation 1\n",
      "69 - Theta with avg smape 10.69: \n",
      "Model Number: 70 of 190 with model Theta for Validation 1\n",
      "70 - Theta with avg smape 10.59: \n",
      "Model Number: 71 of 190 with model UnivariateRegression for Validation 1\n",
      "71 - UnivariateRegression with avg smape 6.89: \n",
      "Model Number: 72 of 190 with model GLM for Validation 1\n"
     ]
    },
    {
     "name": "stderr",
     "output_type": "stream",
     "text": [
      "c:\\Python310\\lib\\site-packages\\sklearn\\linear_model\\_ridge.py:157: LinAlgWarning: Ill-conditioned matrix (rcond=1.18908e-24): result may not be accurate.\n",
      "  return linalg.solve(A, Xy, sym_pos=True, overwrite_a=True).T\n"
     ]
    },
    {
     "name": "stdout",
     "output_type": "stream",
     "text": [
      "72 - GLM with avg smape 7.76: \n",
      "Model Number: 73 of 190 with model UnivariateRegression for Validation 1\n",
      "73 - UnivariateRegression with avg smape 6.31: \n",
      "Model Number: 74 of 190 with model UnivariateRegression for Validation 1\n",
      "74 - UnivariateRegression with avg smape 5.38: "
     ]
    },
    {
     "name": "stderr",
     "output_type": "stream",
     "text": [
      "c:\\Python310\\lib\\site-packages\\sklearn\\linear_model\\_ridge.py:157: LinAlgWarning: Ill-conditioned matrix (rcond=1.18873e-24): result may not be accurate.\n",
      "  return linalg.solve(A, Xy, sym_pos=True, overwrite_a=True).T\n",
      "c:\\Python310\\lib\\site-packages\\sklearn\\linear_model\\_ridge.py:157: LinAlgWarning: Ill-conditioned matrix (rcond=1.18875e-24): result may not be accurate.\n",
      "  return linalg.solve(A, Xy, sym_pos=True, overwrite_a=True).T\n"
     ]
    },
    {
     "name": "stdout",
     "output_type": "stream",
     "text": [
      "\n",
      "Model Number: 75 of 190 with model UnivariateRegression for Validation 1\n",
      "75 - UnivariateRegression with avg smape 5.57: \n",
      "Model Number: 76 of 190 with model MultivariateRegression for Validation 1\n"
     ]
    },
    {
     "name": "stderr",
     "output_type": "stream",
     "text": [
      "[Parallel(n_jobs=-2)]: Using backend ThreadingBackend with 3 concurrent workers.\n",
      "[Parallel(n_jobs=-2)]: Done  44 tasks      | elapsed:    0.0s\n",
      "[Parallel(n_jobs=-2)]: Done 194 tasks      | elapsed:    0.3s\n",
      "[Parallel(n_jobs=-2)]: Done 200 out of 200 | elapsed:    0.3s finished\n",
      "[Parallel(n_jobs=3)]: Using backend ThreadingBackend with 3 concurrent workers.\n",
      "[Parallel(n_jobs=3)]: Done  44 tasks      | elapsed:    0.0s\n",
      "[Parallel(n_jobs=3)]: Done 194 tasks      | elapsed:    0.0s\n",
      "[Parallel(n_jobs=3)]: Done 200 out of 200 | elapsed:    0.0s finished\n",
      "[Parallel(n_jobs=3)]: Using backend ThreadingBackend with 3 concurrent workers.\n",
      "[Parallel(n_jobs=3)]: Done  44 tasks      | elapsed:    0.0s\n",
      "[Parallel(n_jobs=3)]: Done 194 tasks      | elapsed:    0.0s\n",
      "[Parallel(n_jobs=3)]: Done 200 out of 200 | elapsed:    0.0s finished\n",
      "[Parallel(n_jobs=3)]: Using backend ThreadingBackend with 3 concurrent workers.\n",
      "[Parallel(n_jobs=3)]: Done  44 tasks      | elapsed:    0.0s\n",
      "[Parallel(n_jobs=3)]: Done 194 tasks      | elapsed:    0.0s\n",
      "[Parallel(n_jobs=3)]: Done 200 out of 200 | elapsed:    0.0s finished\n",
      "[Parallel(n_jobs=3)]: Using backend ThreadingBackend with 3 concurrent workers.\n",
      "[Parallel(n_jobs=3)]: Done  44 tasks      | elapsed:    0.0s\n",
      "[Parallel(n_jobs=3)]: Done 194 tasks      | elapsed:    0.0s\n",
      "[Parallel(n_jobs=3)]: Done 200 out of 200 | elapsed:    0.0s finished\n",
      "[Parallel(n_jobs=3)]: Using backend ThreadingBackend with 3 concurrent workers.\n",
      "[Parallel(n_jobs=3)]: Done  44 tasks      | elapsed:    0.0s\n",
      "[Parallel(n_jobs=3)]: Done 194 tasks      | elapsed:    0.0s\n",
      "[Parallel(n_jobs=3)]: Done 200 out of 200 | elapsed:    0.0s finished\n",
      "[Parallel(n_jobs=3)]: Using backend ThreadingBackend with 3 concurrent workers.\n",
      "[Parallel(n_jobs=3)]: Done  44 tasks      | elapsed:    0.0s\n",
      "[Parallel(n_jobs=3)]: Done 194 tasks      | elapsed:    0.0s\n",
      "[Parallel(n_jobs=3)]: Done 200 out of 200 | elapsed:    0.0s finished\n",
      "[Parallel(n_jobs=3)]: Using backend ThreadingBackend with 3 concurrent workers.\n",
      "[Parallel(n_jobs=3)]: Done  44 tasks      | elapsed:    0.0s\n",
      "[Parallel(n_jobs=3)]: Done 194 tasks      | elapsed:    0.0s\n",
      "[Parallel(n_jobs=3)]: Done 200 out of 200 | elapsed:    0.0s finished\n",
      "[Parallel(n_jobs=3)]: Using backend ThreadingBackend with 3 concurrent workers.\n",
      "[Parallel(n_jobs=3)]: Done  44 tasks      | elapsed:    0.0s\n",
      "[Parallel(n_jobs=3)]: Done 194 tasks      | elapsed:    0.0s\n",
      "[Parallel(n_jobs=3)]: Done 200 out of 200 | elapsed:    0.0s finished\n",
      "[Parallel(n_jobs=3)]: Using backend ThreadingBackend with 3 concurrent workers.\n",
      "[Parallel(n_jobs=3)]: Done  44 tasks      | elapsed:    0.0s\n",
      "[Parallel(n_jobs=3)]: Done 194 tasks      | elapsed:    0.0s\n",
      "[Parallel(n_jobs=3)]: Done 200 out of 200 | elapsed:    0.0s finished\n",
      "[Parallel(n_jobs=3)]: Using backend ThreadingBackend with 3 concurrent workers.\n",
      "[Parallel(n_jobs=3)]: Done  44 tasks      | elapsed:    0.0s\n",
      "[Parallel(n_jobs=3)]: Done 194 tasks      | elapsed:    0.0s\n",
      "[Parallel(n_jobs=3)]: Done 200 out of 200 | elapsed:    0.0s finished\n",
      "[Parallel(n_jobs=3)]: Using backend ThreadingBackend with 3 concurrent workers.\n",
      "[Parallel(n_jobs=3)]: Done  44 tasks      | elapsed:    0.0s\n",
      "[Parallel(n_jobs=3)]: Done 194 tasks      | elapsed:    0.0s\n",
      "[Parallel(n_jobs=3)]: Done 200 out of 200 | elapsed:    0.0s finished\n",
      "[Parallel(n_jobs=3)]: Using backend ThreadingBackend with 3 concurrent workers.\n",
      "[Parallel(n_jobs=3)]: Done  44 tasks      | elapsed:    0.0s\n",
      "[Parallel(n_jobs=3)]: Done 194 tasks      | elapsed:    0.0s\n",
      "[Parallel(n_jobs=3)]: Done 200 out of 200 | elapsed:    0.0s finished\n"
     ]
    },
    {
     "name": "stdout",
     "output_type": "stream",
     "text": [
      "76 - MultivariateRegression with avg smape 11.91: \n",
      "Model Number: 77 of 190 with model MultivariateRegression for Validation 1\n",
      "77 - MultivariateRegression with avg smape 17.88: \n",
      "Model Number: 78 of 190 with model UnivariateRegression for Validation 1\n",
      "78 - UnivariateRegression with avg smape 6.09: \n",
      "Model Number: 79 of 190 with model UnivariateRegression for Validation 1\n"
     ]
    },
    {
     "name": "stderr",
     "output_type": "stream",
     "text": [
      "c:\\Python310\\lib\\site-packages\\sklearn\\linear_model\\_ridge.py:157: LinAlgWarning: Ill-conditioned matrix (rcond=1.18942e-24): result may not be accurate.\n",
      "  return linalg.solve(A, Xy, sym_pos=True, overwrite_a=True).T\n",
      "c:\\Python310\\lib\\site-packages\\sklearn\\linear_model\\_ridge.py:157: LinAlgWarning: Ill-conditioned matrix (rcond=1.18941e-24): result may not be accurate.\n",
      "  return linalg.solve(A, Xy, sym_pos=True, overwrite_a=True).T\n"
     ]
    },
    {
     "name": "stdout",
     "output_type": "stream",
     "text": [
      "79 - UnivariateRegression with avg smape 5.98: \n",
      "Model Number: 80 of 190 with model SectionalMotif for Validation 1\n",
      "80 - SectionalMotif with avg smape 8.75: \n",
      "Model Number: 81 of 190 with model SectionalMotif for Validation 1\n",
      "81 - SectionalMotif with avg smape 9.58: \n",
      "Model Number: 82 of 190 with model NVAR for Validation 1\n",
      "82 - NVAR with avg smape 17.15: \n",
      "Model Number: 83 of 190 with model NVAR for Validation 1\n",
      "83 - NVAR with avg smape 17.15: \n",
      "Model Number: 84 of 190 with model NVAR for Validation 1\n",
      "84 - NVAR with avg smape 17.3: \n",
      "Model Number: 85 of 190 with model MultivariateRegression for Validation 1\n",
      "85 - MultivariateRegression with avg smape 22.66: \n",
      "Model Number: 86 of 190 with model GLM for Validation 1\n",
      "86 - GLM with avg smape 6.41: \n",
      "Model Number: 87 of 190 with model UnivariateRegression for Validation 1\n",
      "87 - UnivariateRegression with avg smape 7.79: \n",
      "Model Number: 88 of 190 with model GLM for Validation 1\n"
     ]
    },
    {
     "name": "stderr",
     "output_type": "stream",
     "text": [
      "c:\\Python310\\lib\\site-packages\\sklearn\\linear_model\\_ridge.py:157: LinAlgWarning: Ill-conditioned matrix (rcond=1.18918e-24): result may not be accurate.\n",
      "  return linalg.solve(A, Xy, sym_pos=True, overwrite_a=True).T\n"
     ]
    },
    {
     "name": "stdout",
     "output_type": "stream",
     "text": [
      "88 - GLM with avg smape 6.53: \n",
      "Model Number: 89 of 190 with model GLM for Validation 1\n",
      "89 - GLM with avg smape 6.53: \n",
      "Model Number: 90 of 190 with model DatepartRegression for Validation 1\n",
      "90 - DatepartRegression with avg smape 6.19: \n",
      "Model Number: 91 of 190 with model GLM for Validation 1\n",
      "91 - GLM with avg smape 7.14: \n",
      "Model Number: 92 of 190 with model UnivariateRegression for Validation 1\n",
      "92 - UnivariateRegression with avg smape 5.13: \n",
      "Model Number: 93 of 190 with model DatepartRegression for Validation 1\n"
     ]
    },
    {
     "name": "stderr",
     "output_type": "stream",
     "text": [
      "[Parallel(n_jobs=-2)]: Using backend ThreadingBackend with 3 concurrent workers.\n",
      "[Parallel(n_jobs=-2)]: Done  44 tasks      | elapsed:    0.0s\n",
      "[Parallel(n_jobs=-2)]: Done 100 out of 100 | elapsed:    0.1s finished\n"
     ]
    },
    {
     "name": "stdout",
     "output_type": "stream",
     "text": [
      "93 - DatepartRegression with avg smape 4.92: \n",
      "Model Number: 94 of 190 with model GLM for Validation 1\n"
     ]
    },
    {
     "name": "stderr",
     "output_type": "stream",
     "text": [
      "[Parallel(n_jobs=3)]: Using backend ThreadingBackend with 3 concurrent workers.\n",
      "[Parallel(n_jobs=3)]: Done  44 tasks      | elapsed:    0.0s\n",
      "[Parallel(n_jobs=3)]: Done 100 out of 100 | elapsed:    0.0s finished\n"
     ]
    },
    {
     "name": "stdout",
     "output_type": "stream",
     "text": [
      "94 - GLM with avg smape 7.6: \n",
      "Model Number: 95 of 190 with model SeasonalNaive for Validation 1\n",
      "95 - SeasonalNaive with avg smape 15.31: \n",
      "Model Number: 96 of 190 with model DatepartRegression for Validation 1\n"
     ]
    },
    {
     "name": "stderr",
     "output_type": "stream",
     "text": [
      "[Parallel(n_jobs=-2)]: Using backend ThreadingBackend with 3 concurrent workers.\n",
      "[Parallel(n_jobs=-2)]: Done  44 tasks      | elapsed:    0.0s\n",
      "[Parallel(n_jobs=-2)]: Done 194 tasks      | elapsed:    0.2s\n",
      "[Parallel(n_jobs=-2)]: Done 444 tasks      | elapsed:    0.7s\n",
      "[Parallel(n_jobs=-2)]: Done 794 tasks      | elapsed:    1.3s\n",
      "[Parallel(n_jobs=-2)]: Done 1000 out of 1000 | elapsed:    1.7s finished\n",
      "[Parallel(n_jobs=3)]: Using backend ThreadingBackend with 3 concurrent workers.\n",
      "[Parallel(n_jobs=3)]: Done  44 tasks      | elapsed:    0.0s\n",
      "[Parallel(n_jobs=3)]: Done 194 tasks      | elapsed:    0.0s\n",
      "[Parallel(n_jobs=3)]: Done 444 tasks      | elapsed:    0.0s\n",
      "[Parallel(n_jobs=3)]: Done 794 tasks      | elapsed:    0.1s\n",
      "[Parallel(n_jobs=3)]: Done 1000 out of 1000 | elapsed:    0.1s finished\n"
     ]
    },
    {
     "name": "stdout",
     "output_type": "stream",
     "text": [
      "96 - DatepartRegression with avg smape 7.22: \n",
      "Model Number: 97 of 190 with model DatepartRegression for Validation 1\n"
     ]
    },
    {
     "name": "stderr",
     "output_type": "stream",
     "text": [
      "[Parallel(n_jobs=-2)]: Using backend ThreadingBackend with 3 concurrent workers.\n",
      "[Parallel(n_jobs=-2)]: Done  44 tasks      | elapsed:    0.0s\n",
      "[Parallel(n_jobs=-2)]: Done 194 tasks      | elapsed:    0.2s\n",
      "[Parallel(n_jobs=-2)]: Done 444 tasks      | elapsed:    0.7s\n",
      "[Parallel(n_jobs=-2)]: Done 794 tasks      | elapsed:    1.3s\n",
      "[Parallel(n_jobs=-2)]: Done 1000 out of 1000 | elapsed:    1.6s finished\n",
      "[Parallel(n_jobs=3)]: Using backend ThreadingBackend with 3 concurrent workers.\n",
      "[Parallel(n_jobs=3)]: Done  44 tasks      | elapsed:    0.0s\n",
      "[Parallel(n_jobs=3)]: Done 194 tasks      | elapsed:    0.0s\n",
      "[Parallel(n_jobs=3)]: Done 444 tasks      | elapsed:    0.0s\n",
      "[Parallel(n_jobs=3)]: Done 794 tasks      | elapsed:    0.1s\n"
     ]
    },
    {
     "name": "stdout",
     "output_type": "stream",
     "text": [
      "97 - DatepartRegression with avg smape 7.21: \n",
      "Model Number: 98 of 190 with model SectionalMotif for Validation 1\n",
      "98 - SectionalMotif with avg smape 11.19: \n",
      "Model Number: 99 of 190 with model SectionalMotif for Validation 1\n"
     ]
    },
    {
     "name": "stderr",
     "output_type": "stream",
     "text": [
      "[Parallel(n_jobs=3)]: Done 1000 out of 1000 | elapsed:    0.1s finished\n"
     ]
    },
    {
     "name": "stdout",
     "output_type": "stream",
     "text": [
      "99 - SectionalMotif with avg smape 10.87: \n",
      "Model Number: 100 of 190 with model MultivariateRegression for Validation 1\n",
      "100 - MultivariateRegression with avg smape 17.09: \n",
      "Model Number: 101 of 190 with model NVAR for Validation 1\n",
      "101 - NVAR with avg smape 13.55: \n",
      "Model Number: 102 of 190 with model NVAR for Validation 1\n",
      "102 - NVAR with avg smape 13.55: \n",
      "Model Number: 103 of 190 with model DatepartRegression for Validation 1\n",
      "103 - DatepartRegression with avg smape 6.8: \n",
      "Model Number: 104 of 190 with model SeasonalNaive for Validation 1\n",
      "104 - SeasonalNaive with avg smape 8.79: \n",
      "Model Number: 105 of 190 with model MultivariateRegression for Validation 1\n"
     ]
    },
    {
     "name": "stderr",
     "output_type": "stream",
     "text": [
      "[Parallel(n_jobs=-2)]: Using backend ThreadingBackend with 3 concurrent workers.\n",
      "[Parallel(n_jobs=-2)]: Done  44 tasks      | elapsed:    0.0s\n",
      "[Parallel(n_jobs=-2)]: Done 194 tasks      | elapsed:    0.3s\n",
      "[Parallel(n_jobs=-2)]: Done 200 out of 200 | elapsed:    0.3s finished\n",
      "[Parallel(n_jobs=3)]: Using backend ThreadingBackend with 3 concurrent workers.\n",
      "[Parallel(n_jobs=3)]: Done  44 tasks      | elapsed:    0.0s\n",
      "[Parallel(n_jobs=3)]: Done 194 tasks      | elapsed:    0.0s\n",
      "[Parallel(n_jobs=3)]: Done 200 out of 200 | elapsed:    0.0s finished\n",
      "[Parallel(n_jobs=3)]: Using backend ThreadingBackend with 3 concurrent workers.\n",
      "[Parallel(n_jobs=3)]: Done  44 tasks      | elapsed:    0.0s\n",
      "[Parallel(n_jobs=3)]: Done 194 tasks      | elapsed:    0.0s\n",
      "[Parallel(n_jobs=3)]: Done 200 out of 200 | elapsed:    0.0s finished\n",
      "[Parallel(n_jobs=3)]: Using backend ThreadingBackend with 3 concurrent workers.\n",
      "[Parallel(n_jobs=3)]: Done  44 tasks      | elapsed:    0.0s\n",
      "[Parallel(n_jobs=3)]: Done 194 tasks      | elapsed:    0.0s\n",
      "[Parallel(n_jobs=3)]: Done 200 out of 200 | elapsed:    0.0s finished\n",
      "[Parallel(n_jobs=3)]: Using backend ThreadingBackend with 3 concurrent workers.\n",
      "[Parallel(n_jobs=3)]: Done  44 tasks      | elapsed:    0.0s\n",
      "[Parallel(n_jobs=3)]: Done 194 tasks      | elapsed:    0.0s\n",
      "[Parallel(n_jobs=3)]: Done 200 out of 200 | elapsed:    0.0s finished\n",
      "[Parallel(n_jobs=3)]: Using backend ThreadingBackend with 3 concurrent workers.\n",
      "[Parallel(n_jobs=3)]: Done  44 tasks      | elapsed:    0.0s\n",
      "[Parallel(n_jobs=3)]: Done 194 tasks      | elapsed:    0.0s\n",
      "[Parallel(n_jobs=3)]: Done 200 out of 200 | elapsed:    0.0s finished\n",
      "[Parallel(n_jobs=3)]: Using backend ThreadingBackend with 3 concurrent workers.\n",
      "[Parallel(n_jobs=3)]: Done  44 tasks      | elapsed:    0.0s\n",
      "[Parallel(n_jobs=3)]: Done 194 tasks      | elapsed:    0.0s\n",
      "[Parallel(n_jobs=3)]: Done 200 out of 200 | elapsed:    0.0s finished\n",
      "[Parallel(n_jobs=3)]: Using backend ThreadingBackend with 3 concurrent workers.\n",
      "[Parallel(n_jobs=3)]: Done  44 tasks      | elapsed:    0.0s\n",
      "[Parallel(n_jobs=3)]: Done 194 tasks      | elapsed:    0.0s\n",
      "[Parallel(n_jobs=3)]: Done 200 out of 200 | elapsed:    0.0s finished\n",
      "[Parallel(n_jobs=3)]: Using backend ThreadingBackend with 3 concurrent workers.\n",
      "[Parallel(n_jobs=3)]: Done  44 tasks      | elapsed:    0.0s\n",
      "[Parallel(n_jobs=3)]: Done 194 tasks      | elapsed:    0.0s\n",
      "[Parallel(n_jobs=3)]: Done 200 out of 200 | elapsed:    0.0s finished\n",
      "[Parallel(n_jobs=3)]: Using backend ThreadingBackend with 3 concurrent workers.\n",
      "[Parallel(n_jobs=3)]: Done  44 tasks      | elapsed:    0.0s\n",
      "[Parallel(n_jobs=3)]: Done 194 tasks      | elapsed:    0.0s\n",
      "[Parallel(n_jobs=3)]: Done 200 out of 200 | elapsed:    0.0s finished\n",
      "[Parallel(n_jobs=3)]: Using backend ThreadingBackend with 3 concurrent workers.\n",
      "[Parallel(n_jobs=3)]: Done  44 tasks      | elapsed:    0.0s\n",
      "[Parallel(n_jobs=3)]: Done 194 tasks      | elapsed:    0.0s\n",
      "[Parallel(n_jobs=3)]: Done 200 out of 200 | elapsed:    0.0s finished\n",
      "[Parallel(n_jobs=3)]: Using backend ThreadingBackend with 3 concurrent workers.\n",
      "[Parallel(n_jobs=3)]: Done  44 tasks      | elapsed:    0.0s\n",
      "[Parallel(n_jobs=3)]: Done 194 tasks      | elapsed:    0.0s\n",
      "[Parallel(n_jobs=3)]: Done 200 out of 200 | elapsed:    0.0s finished\n",
      "[Parallel(n_jobs=3)]: Using backend ThreadingBackend with 3 concurrent workers.\n",
      "[Parallel(n_jobs=3)]: Done  44 tasks      | elapsed:    0.0s\n",
      "[Parallel(n_jobs=3)]: Done 194 tasks      | elapsed:    0.0s\n",
      "[Parallel(n_jobs=3)]: Done 200 out of 200 | elapsed:    0.0s finished\n"
     ]
    },
    {
     "name": "stdout",
     "output_type": "stream",
     "text": [
      "105 - MultivariateRegression with avg smape 12.99: \n",
      "Model Number: 106 of 190 with model ETS for Validation 1\n",
      "106 - ETS with avg smape 7.78: \n",
      "Model Number: 107 of 190 with model SeasonalNaive for Validation 1\n",
      "107 - SeasonalNaive with avg smape 8.79: \n",
      "Model Number: 108 of 190 with model SectionalMotif for Validation 1\n",
      "108 - SectionalMotif with avg smape 13.85: \n",
      "Model Number: 109 of 190 with model DatepartRegression for Validation 1\n",
      "109 - DatepartRegression with avg smape 8.1: \n",
      "Model Number: 110 of 190 with model SeasonalNaive for Validation 1\n",
      "110 - SeasonalNaive with avg smape 17.46: \n",
      "Model Number: 111 of 190 with model SectionalMotif for Validation 1\n",
      "111 - SectionalMotif with avg smape 12.27: \n",
      "Model Number: 112 of 190 with model ETS for Validation 1\n",
      "112 - ETS with avg smape 13.69: \n",
      "Model Number: 113 of 190 with model SectionalMotif for Validation 1\n",
      "113 - SectionalMotif with avg smape 10.36: \n",
      "Model Number: 114 of 190 with model DatepartRegression for Validation 1\n",
      "114 - DatepartRegression with avg smape 8.4: \n",
      "Model Number: 115 of 190 with model SectionalMotif for Validation 1\n",
      "115 - SectionalMotif with avg smape 13.42: \n",
      "Model Number: 116 of 190 with model MultivariateRegression for Validation 1\n"
     ]
    },
    {
     "name": "stderr",
     "output_type": "stream",
     "text": [
      "[Parallel(n_jobs=-2)]: Using backend ThreadingBackend with 3 concurrent workers.\n",
      "[Parallel(n_jobs=-2)]: Done  44 tasks      | elapsed:    0.0s\n",
      "[Parallel(n_jobs=-2)]: Done 194 tasks      | elapsed:    0.4s\n",
      "[Parallel(n_jobs=-2)]: Done 200 out of 200 | elapsed:    0.4s finished\n",
      "[Parallel(n_jobs=3)]: Using backend ThreadingBackend with 3 concurrent workers.\n",
      "[Parallel(n_jobs=3)]: Done  44 tasks      | elapsed:    0.0s\n",
      "[Parallel(n_jobs=3)]: Done 194 tasks      | elapsed:    0.0s\n",
      "[Parallel(n_jobs=3)]: Done 200 out of 200 | elapsed:    0.0s finished\n",
      "[Parallel(n_jobs=3)]: Using backend ThreadingBackend with 3 concurrent workers.\n",
      "[Parallel(n_jobs=3)]: Done  44 tasks      | elapsed:    0.0s\n",
      "[Parallel(n_jobs=3)]: Done 194 tasks      | elapsed:    0.0s\n",
      "[Parallel(n_jobs=3)]: Done 200 out of 200 | elapsed:    0.0s finished\n",
      "[Parallel(n_jobs=3)]: Using backend ThreadingBackend with 3 concurrent workers.\n",
      "[Parallel(n_jobs=3)]: Done  44 tasks      | elapsed:    0.0s\n",
      "[Parallel(n_jobs=3)]: Done 194 tasks      | elapsed:    0.0s\n",
      "[Parallel(n_jobs=3)]: Done 200 out of 200 | elapsed:    0.0s finished\n",
      "[Parallel(n_jobs=3)]: Using backend ThreadingBackend with 3 concurrent workers.\n",
      "[Parallel(n_jobs=3)]: Done  44 tasks      | elapsed:    0.0s\n",
      "[Parallel(n_jobs=3)]: Done 194 tasks      | elapsed:    0.0s\n",
      "[Parallel(n_jobs=3)]: Done 200 out of 200 | elapsed:    0.0s finished\n",
      "[Parallel(n_jobs=3)]: Using backend ThreadingBackend with 3 concurrent workers.\n",
      "[Parallel(n_jobs=3)]: Done  44 tasks      | elapsed:    0.0s\n",
      "[Parallel(n_jobs=3)]: Done 194 tasks      | elapsed:    0.0s\n",
      "[Parallel(n_jobs=3)]: Done 200 out of 200 | elapsed:    0.0s finished\n",
      "[Parallel(n_jobs=3)]: Using backend ThreadingBackend with 3 concurrent workers.\n",
      "[Parallel(n_jobs=3)]: Done  44 tasks      | elapsed:    0.0s\n",
      "[Parallel(n_jobs=3)]: Done 194 tasks      | elapsed:    0.0s\n",
      "[Parallel(n_jobs=3)]: Done 200 out of 200 | elapsed:    0.0s finished\n",
      "[Parallel(n_jobs=3)]: Using backend ThreadingBackend with 3 concurrent workers.\n",
      "[Parallel(n_jobs=3)]: Done  44 tasks      | elapsed:    0.0s\n",
      "[Parallel(n_jobs=3)]: Done 194 tasks      | elapsed:    0.0s\n",
      "[Parallel(n_jobs=3)]: Done 200 out of 200 | elapsed:    0.0s finished\n",
      "[Parallel(n_jobs=3)]: Using backend ThreadingBackend with 3 concurrent workers.\n",
      "[Parallel(n_jobs=3)]: Done  44 tasks      | elapsed:    0.0s\n",
      "[Parallel(n_jobs=3)]: Done 194 tasks      | elapsed:    0.0s\n",
      "[Parallel(n_jobs=3)]: Done 200 out of 200 | elapsed:    0.0s finished\n",
      "[Parallel(n_jobs=3)]: Using backend ThreadingBackend with 3 concurrent workers.\n",
      "[Parallel(n_jobs=3)]: Done  44 tasks      | elapsed:    0.0s\n",
      "[Parallel(n_jobs=3)]: Done 194 tasks      | elapsed:    0.0s\n",
      "[Parallel(n_jobs=3)]: Done 200 out of 200 | elapsed:    0.0s finished\n",
      "[Parallel(n_jobs=3)]: Using backend ThreadingBackend with 3 concurrent workers.\n",
      "[Parallel(n_jobs=3)]: Done  44 tasks      | elapsed:    0.0s\n",
      "[Parallel(n_jobs=3)]: Done 194 tasks      | elapsed:    0.0s\n",
      "[Parallel(n_jobs=3)]: Done 200 out of 200 | elapsed:    0.0s finished\n",
      "[Parallel(n_jobs=3)]: Using backend ThreadingBackend with 3 concurrent workers.\n",
      "[Parallel(n_jobs=3)]: Done  44 tasks      | elapsed:    0.0s\n",
      "[Parallel(n_jobs=3)]: Done 194 tasks      | elapsed:    0.0s\n",
      "[Parallel(n_jobs=3)]: Done 200 out of 200 | elapsed:    0.0s finished\n",
      "[Parallel(n_jobs=3)]: Using backend ThreadingBackend with 3 concurrent workers.\n",
      "[Parallel(n_jobs=3)]: Done  44 tasks      | elapsed:    0.0s\n",
      "[Parallel(n_jobs=3)]: Done 194 tasks      | elapsed:    0.0s\n",
      "[Parallel(n_jobs=3)]: Done 200 out of 200 | elapsed:    0.0s finished\n"
     ]
    },
    {
     "name": "stdout",
     "output_type": "stream",
     "text": [
      "116 - MultivariateRegression with avg smape 12.56: \n",
      "Model Number: 117 of 190 with model SeasonalNaive for Validation 1\n",
      "117 - SeasonalNaive with avg smape 15.94: \n",
      "Model Number: 118 of 190 with model NVAR for Validation 1\n",
      "118 - NVAR with avg smape 14.44: \n",
      "Model Number: 119 of 190 with model SeasonalNaive for Validation 1\n",
      "119 - SeasonalNaive with avg smape 9.26: \n",
      "Model Number: 120 of 190 with model SeasonalNaive for Validation 1\n",
      "120 - SeasonalNaive with avg smape 18.05: \n",
      "Model Number: 121 of 190 with model MultivariateRegression for Validation 1\n",
      "121 - MultivariateRegression with avg smape 21.22: \n",
      "Model Number: 122 of 190 with model ETS for Validation 1\n",
      "ETS error ValueError('endog must be strictly positive when usingmultiplicative trend or seasonal components.')\n",
      "ETS failed on Thousands of Passengers with ValueError('endog must be strictly positive when usingmultiplicative trend or seasonal components.')\n",
      "122 - ETS with avg smape 6.39: \n",
      "Model Number: 123 of 190 with model ARDL for Validation 1\n",
      "123 - ARDL with avg smape 10.32: \n",
      "Model Number: 124 of 190 with model ARDL for Validation 1\n",
      "124 - ARDL with avg smape 12.55: \n",
      "Model Number: 125 of 190 with model ARDL for Validation 1\n",
      "125 - ARDL with avg smape 10.82: \n",
      "Model Number: 126 of 190 with model AverageValueNaive for Validation 1\n",
      "126 - AverageValueNaive with avg smape 12.8: \n",
      "Model Number: 127 of 190 with model AverageValueNaive for Validation 1\n",
      "127 - AverageValueNaive with avg smape 12.8: \n",
      "Model Number: 128 of 190 with model ETS for Validation 1\n",
      "128 - ETS with avg smape 16.53: \n",
      "Model Number: 129 of 190 with model DatepartRegression for Validation 1\n",
      "129 - DatepartRegression with avg smape 10.05: \n",
      "Model Number: 130 of 190 with model SeasonalNaive for Validation 1\n",
      "130 - SeasonalNaive with avg smape 12.35: \n",
      "Model Number: 131 of 190 with model SeasonalNaive for Validation 1\n",
      "131 - SeasonalNaive with avg smape 17.88: \n",
      "Model Number: 132 of 190 with model ETS for Validation 1\n",
      "132 - ETS with avg smape 18.71: \n",
      "Model Number: 133 of 190 with model ETS for Validation 1\n",
      "133 - ETS with avg smape 18.71: \n",
      "Model Number: 134 of 190 with model ETS for Validation 1\n",
      "134 - ETS with avg smape 18.71: \n",
      "Model Number: 135 of 190 with model ETS for Validation 1\n",
      "135 - ETS with avg smape 18.71: \n",
      "Model Number: 136 of 190 with model MultivariateRegression for Validation 1\n"
     ]
    },
    {
     "name": "stderr",
     "output_type": "stream",
     "text": [
      "[Parallel(n_jobs=-2)]: Using backend ThreadingBackend with 3 concurrent workers.\n",
      "[Parallel(n_jobs=-2)]: Done  44 tasks      | elapsed:    0.0s\n",
      "[Parallel(n_jobs=-2)]: Done 194 tasks      | elapsed:    0.4s\n",
      "[Parallel(n_jobs=-2)]: Done 200 out of 200 | elapsed:    0.4s finished\n",
      "[Parallel(n_jobs=3)]: Using backend ThreadingBackend with 3 concurrent workers.\n",
      "[Parallel(n_jobs=3)]: Done  44 tasks      | elapsed:    0.0s\n",
      "[Parallel(n_jobs=3)]: Done 194 tasks      | elapsed:    0.0s\n",
      "[Parallel(n_jobs=3)]: Done 200 out of 200 | elapsed:    0.0s finished\n",
      "[Parallel(n_jobs=3)]: Using backend ThreadingBackend with 3 concurrent workers.\n",
      "[Parallel(n_jobs=3)]: Done  44 tasks      | elapsed:    0.0s\n",
      "[Parallel(n_jobs=3)]: Done 194 tasks      | elapsed:    0.0s\n",
      "[Parallel(n_jobs=3)]: Done 200 out of 200 | elapsed:    0.0s finished\n",
      "[Parallel(n_jobs=3)]: Using backend ThreadingBackend with 3 concurrent workers.\n",
      "[Parallel(n_jobs=3)]: Done  44 tasks      | elapsed:    0.0s\n",
      "[Parallel(n_jobs=3)]: Done 194 tasks      | elapsed:    0.0s\n",
      "[Parallel(n_jobs=3)]: Done 200 out of 200 | elapsed:    0.0s finished\n",
      "[Parallel(n_jobs=3)]: Using backend ThreadingBackend with 3 concurrent workers.\n",
      "[Parallel(n_jobs=3)]: Done  44 tasks      | elapsed:    0.0s\n",
      "[Parallel(n_jobs=3)]: Done 194 tasks      | elapsed:    0.0s\n",
      "[Parallel(n_jobs=3)]: Done 200 out of 200 | elapsed:    0.0s finished\n",
      "[Parallel(n_jobs=3)]: Using backend ThreadingBackend with 3 concurrent workers.\n",
      "[Parallel(n_jobs=3)]: Done  44 tasks      | elapsed:    0.0s\n",
      "[Parallel(n_jobs=3)]: Done 194 tasks      | elapsed:    0.0s\n",
      "[Parallel(n_jobs=3)]: Done 200 out of 200 | elapsed:    0.0s finished\n",
      "[Parallel(n_jobs=3)]: Using backend ThreadingBackend with 3 concurrent workers.\n",
      "[Parallel(n_jobs=3)]: Done  44 tasks      | elapsed:    0.0s\n",
      "[Parallel(n_jobs=3)]: Done 194 tasks      | elapsed:    0.0s\n",
      "[Parallel(n_jobs=3)]: Done 200 out of 200 | elapsed:    0.0s finished\n",
      "[Parallel(n_jobs=3)]: Using backend ThreadingBackend with 3 concurrent workers.\n",
      "[Parallel(n_jobs=3)]: Done  44 tasks      | elapsed:    0.0s\n",
      "[Parallel(n_jobs=3)]: Done 194 tasks      | elapsed:    0.0s\n",
      "[Parallel(n_jobs=3)]: Done 200 out of 200 | elapsed:    0.0s finished\n",
      "[Parallel(n_jobs=3)]: Using backend ThreadingBackend with 3 concurrent workers.\n",
      "[Parallel(n_jobs=3)]: Done  44 tasks      | elapsed:    0.0s\n",
      "[Parallel(n_jobs=3)]: Done 194 tasks      | elapsed:    0.0s\n",
      "[Parallel(n_jobs=3)]: Done 200 out of 200 | elapsed:    0.0s finished\n",
      "[Parallel(n_jobs=3)]: Using backend ThreadingBackend with 3 concurrent workers.\n",
      "[Parallel(n_jobs=3)]: Done  44 tasks      | elapsed:    0.0s\n",
      "[Parallel(n_jobs=3)]: Done 194 tasks      | elapsed:    0.0s\n",
      "[Parallel(n_jobs=3)]: Done 200 out of 200 | elapsed:    0.0s finished\n",
      "[Parallel(n_jobs=3)]: Using backend ThreadingBackend with 3 concurrent workers.\n",
      "[Parallel(n_jobs=3)]: Done  44 tasks      | elapsed:    0.0s\n",
      "[Parallel(n_jobs=3)]: Done 194 tasks      | elapsed:    0.0s\n",
      "[Parallel(n_jobs=3)]: Done 200 out of 200 | elapsed:    0.0s finished\n",
      "[Parallel(n_jobs=3)]: Using backend ThreadingBackend with 3 concurrent workers.\n",
      "[Parallel(n_jobs=3)]: Done  44 tasks      | elapsed:    0.0s\n",
      "[Parallel(n_jobs=3)]: Done 194 tasks      | elapsed:    0.0s\n",
      "[Parallel(n_jobs=3)]: Done 200 out of 200 | elapsed:    0.0s finished\n",
      "[Parallel(n_jobs=3)]: Using backend ThreadingBackend with 3 concurrent workers.\n",
      "[Parallel(n_jobs=3)]: Done  44 tasks      | elapsed:    0.0s\n",
      "[Parallel(n_jobs=3)]: Done 194 tasks      | elapsed:    0.0s\n",
      "[Parallel(n_jobs=3)]: Done 200 out of 200 | elapsed:    0.0s finished\n"
     ]
    },
    {
     "name": "stdout",
     "output_type": "stream",
     "text": [
      "136 - MultivariateRegression with avg smape 13.95: \n",
      "Model Number: 137 of 190 with model MultivariateRegression for Validation 1\n"
     ]
    },
    {
     "name": "stderr",
     "output_type": "stream",
     "text": [
      "[Parallel(n_jobs=-2)]: Using backend ThreadingBackend with 3 concurrent workers.\n",
      "[Parallel(n_jobs=-2)]: Done  44 tasks      | elapsed:    0.0s\n",
      "[Parallel(n_jobs=-2)]: Done 194 tasks      | elapsed:    0.3s\n",
      "[Parallel(n_jobs=-2)]: Done 200 out of 200 | elapsed:    0.3s finished\n",
      "[Parallel(n_jobs=3)]: Using backend ThreadingBackend with 3 concurrent workers.\n",
      "[Parallel(n_jobs=3)]: Done  44 tasks      | elapsed:    0.0s\n",
      "[Parallel(n_jobs=3)]: Done 194 tasks      | elapsed:    0.0s\n",
      "[Parallel(n_jobs=3)]: Done 200 out of 200 | elapsed:    0.0s finished\n",
      "[Parallel(n_jobs=3)]: Using backend ThreadingBackend with 3 concurrent workers.\n",
      "[Parallel(n_jobs=3)]: Done  44 tasks      | elapsed:    0.0s\n",
      "[Parallel(n_jobs=3)]: Done 194 tasks      | elapsed:    0.0s\n",
      "[Parallel(n_jobs=3)]: Done 200 out of 200 | elapsed:    0.0s finished\n",
      "[Parallel(n_jobs=3)]: Using backend ThreadingBackend with 3 concurrent workers.\n",
      "[Parallel(n_jobs=3)]: Done  44 tasks      | elapsed:    0.0s\n",
      "[Parallel(n_jobs=3)]: Done 194 tasks      | elapsed:    0.0s\n",
      "[Parallel(n_jobs=3)]: Done 200 out of 200 | elapsed:    0.0s finished\n",
      "[Parallel(n_jobs=3)]: Using backend ThreadingBackend with 3 concurrent workers.\n",
      "[Parallel(n_jobs=3)]: Done  44 tasks      | elapsed:    0.0s\n",
      "[Parallel(n_jobs=3)]: Done 194 tasks      | elapsed:    0.0s\n",
      "[Parallel(n_jobs=3)]: Done 200 out of 200 | elapsed:    0.0s finished\n",
      "[Parallel(n_jobs=3)]: Using backend ThreadingBackend with 3 concurrent workers.\n",
      "[Parallel(n_jobs=3)]: Done  44 tasks      | elapsed:    0.0s\n",
      "[Parallel(n_jobs=3)]: Done 194 tasks      | elapsed:    0.0s\n",
      "[Parallel(n_jobs=3)]: Done 200 out of 200 | elapsed:    0.0s finished\n",
      "[Parallel(n_jobs=3)]: Using backend ThreadingBackend with 3 concurrent workers.\n",
      "[Parallel(n_jobs=3)]: Done  44 tasks      | elapsed:    0.0s\n",
      "[Parallel(n_jobs=3)]: Done 194 tasks      | elapsed:    0.0s\n",
      "[Parallel(n_jobs=3)]: Done 200 out of 200 | elapsed:    0.0s finished\n",
      "[Parallel(n_jobs=3)]: Using backend ThreadingBackend with 3 concurrent workers.\n",
      "[Parallel(n_jobs=3)]: Done  44 tasks      | elapsed:    0.0s\n",
      "[Parallel(n_jobs=3)]: Done 194 tasks      | elapsed:    0.0s\n",
      "[Parallel(n_jobs=3)]: Done 200 out of 200 | elapsed:    0.0s finished\n",
      "[Parallel(n_jobs=3)]: Using backend ThreadingBackend with 3 concurrent workers.\n",
      "[Parallel(n_jobs=3)]: Done  44 tasks      | elapsed:    0.0s\n",
      "[Parallel(n_jobs=3)]: Done 194 tasks      | elapsed:    0.0s\n",
      "[Parallel(n_jobs=3)]: Done 200 out of 200 | elapsed:    0.0s finished\n",
      "[Parallel(n_jobs=3)]: Using backend ThreadingBackend with 3 concurrent workers.\n",
      "[Parallel(n_jobs=3)]: Done  44 tasks      | elapsed:    0.0s\n",
      "[Parallel(n_jobs=3)]: Done 194 tasks      | elapsed:    0.0s\n",
      "[Parallel(n_jobs=3)]: Done 200 out of 200 | elapsed:    0.0s finished\n",
      "[Parallel(n_jobs=3)]: Using backend ThreadingBackend with 3 concurrent workers.\n",
      "[Parallel(n_jobs=3)]: Done  44 tasks      | elapsed:    0.0s\n",
      "[Parallel(n_jobs=3)]: Done 194 tasks      | elapsed:    0.0s\n",
      "[Parallel(n_jobs=3)]: Done 200 out of 200 | elapsed:    0.0s finished\n",
      "[Parallel(n_jobs=3)]: Using backend ThreadingBackend with 3 concurrent workers.\n",
      "[Parallel(n_jobs=3)]: Done  44 tasks      | elapsed:    0.0s\n",
      "[Parallel(n_jobs=3)]: Done 194 tasks      | elapsed:    0.0s\n"
     ]
    },
    {
     "name": "stdout",
     "output_type": "stream",
     "text": [
      "137 - MultivariateRegression with avg smape 12.4: \n",
      "Model Number: 138 of 190 with model SectionalMotif for Validation 1\n"
     ]
    },
    {
     "name": "stderr",
     "output_type": "stream",
     "text": [
      "[Parallel(n_jobs=3)]: Done 200 out of 200 | elapsed:    0.0s finished\n",
      "[Parallel(n_jobs=3)]: Using backend ThreadingBackend with 3 concurrent workers.\n",
      "[Parallel(n_jobs=3)]: Done  44 tasks      | elapsed:    0.0s\n",
      "[Parallel(n_jobs=3)]: Done 194 tasks      | elapsed:    0.0s\n",
      "[Parallel(n_jobs=3)]: Done 200 out of 200 | elapsed:    0.0s finished\n"
     ]
    },
    {
     "name": "stdout",
     "output_type": "stream",
     "text": [
      "138 - SectionalMotif with avg smape 11.3: \n",
      "Model Number: 139 of 190 with model UnobservedComponents for Validation 1\n",
      "139 - UnobservedComponents with avg smape 16.5: \n",
      "Model Number: 140 of 190 with model AverageValueNaive for Validation 1\n",
      "140 - AverageValueNaive with avg smape 11.5: \n",
      "Model Number: 141 of 190 with model AverageValueNaive for Validation 1\n",
      "141 - AverageValueNaive with avg smape 11.5: \n",
      "Model Number: 142 of 190 with model ARDL for Validation 1\n",
      "142 - ARDL with avg smape 11.09: \n",
      "Model Number: 143 of 190 with model ETS for Validation 1\n",
      "143 - ETS with avg smape 18.1: \n",
      "Model Number: 144 of 190 with model AverageValueNaive for Validation 1\n",
      "144 - AverageValueNaive with avg smape 11.5: \n",
      "Model Number: 145 of 190 with model UnobservedComponents for Validation 1\n",
      "145 - UnobservedComponents with avg smape 11.46: \n",
      "Model Number: 146 of 190 with model UnobservedComponents for Validation 1\n",
      "146 - UnobservedComponents with avg smape 11.46: \n",
      "Model Number: 147 of 190 with model AverageValueNaive for Validation 1\n",
      "147 - AverageValueNaive with avg smape 12.46: \n",
      "Model Number: 148 of 190 with model UnobservedComponents for Validation 1\n",
      "148 - UnobservedComponents with avg smape 11.43: \n",
      "Model Number: 149 of 190 with model UnobservedComponents for Validation 1\n",
      "149 - UnobservedComponents with avg smape 11.43: \n",
      "Model Number: 150 of 190 with model ARDL for Validation 1\n",
      "150 - ARDL with avg smape 11.56: \n",
      "Model Number: 151 of 190 with model ARDL for Validation 1\n",
      "151 - ARDL with avg smape 11.55: \n",
      "Model Number: 152 of 190 with model GLS for Validation 1\n",
      "152 - GLS with avg smape 11.44: \n",
      "Model Number: 153 of 190 with model ARDL for Validation 1\n",
      "153 - ARDL with avg smape 11.59: \n",
      "Model Number: 154 of 190 with model UnobservedComponents for Validation 1\n",
      "154 - UnobservedComponents with avg smape 11.46: \n",
      "Model Number: 155 of 190 with model UnobservedComponents for Validation 1\n",
      "155 - UnobservedComponents with avg smape 11.46: \n",
      "Model Number: 156 of 190 with model UnobservedComponents for Validation 1\n",
      "156 - UnobservedComponents with avg smape 11.18: \n",
      "Model Number: 157 of 190 with model UnobservedComponents for Validation 1\n",
      "157 - UnobservedComponents with avg smape 20.17: \n",
      "Model Number: 158 of 190 with model LastValueNaive for Validation 1\n",
      "158 - LastValueNaive with avg smape 13.37: \n",
      "Model Number: 159 of 190 with model FBProphet for Validation 1\n"
     ]
    },
    {
     "name": "stderr",
     "output_type": "stream",
     "text": [
      "23:12:23 - cmdstanpy - INFO - Chain [1] start processing\n",
      "23:12:23 - cmdstanpy - INFO - Chain [1] done processing\n"
     ]
    },
    {
     "name": "stdout",
     "output_type": "stream",
     "text": [
      "159 - FBProphet with avg smape 11.82: \n",
      "Model Number: 160 of 190 with model LastValueNaive for Validation 1\n",
      "160 - LastValueNaive with avg smape 13.37: \n",
      "Model Number: 161 of 190 with model LastValueNaive for Validation 1\n",
      "161 - LastValueNaive with avg smape 13.37: \n",
      "Model Number: 162 of 190 with model LastValueNaive for Validation 1\n",
      "162 - LastValueNaive with avg smape 13.37: \n",
      "Model Number: 163 of 190 with model AverageValueNaive for Validation 1\n",
      "163 - AverageValueNaive with avg smape 11.44: \n",
      "Model Number: 164 of 190 with model ARDL for Validation 1\n",
      "164 - ARDL with avg smape 12.5: \n",
      "Model Number: 165 of 190 with model LastValueNaive for Validation 1\n",
      "165 - LastValueNaive with avg smape 13.77: \n",
      "Model Number: 166 of 190 with model AverageValueNaive for Validation 1\n",
      "166 - AverageValueNaive with avg smape 11.44: \n",
      "Model Number: 167 of 190 with model GLS for Validation 1\n"
     ]
    },
    {
     "name": "stderr",
     "output_type": "stream",
     "text": [
      "c:\\Python310\\lib\\site-packages\\sklearn\\neural_network\\_multilayer_perceptron.py:692: ConvergenceWarning: Stochastic Optimizer: Maximum iterations (1000) reached and the optimization hasn't converged yet.\n",
      "  warnings.warn(\n"
     ]
    },
    {
     "name": "stdout",
     "output_type": "stream",
     "text": [
      "167 - GLS with avg smape 15.42: \n",
      "Model Number: 168 of 190 with model FBProphet for Validation 1\n"
     ]
    },
    {
     "name": "stderr",
     "output_type": "stream",
     "text": [
      "23:12:26 - cmdstanpy - INFO - Chain [1] start processing\n",
      "23:12:26 - cmdstanpy - INFO - Chain [1] done processing\n"
     ]
    },
    {
     "name": "stdout",
     "output_type": "stream",
     "text": [
      "168 - FBProphet with avg smape 11.65: \n",
      "Model Number: 169 of 190 with model AverageValueNaive for Validation 1\n",
      "169 - AverageValueNaive with avg smape 11.67: \n",
      "Model Number: 170 of 190 with model ARDL for Validation 1\n",
      "170 - ARDL with avg smape 12.66: \n",
      "Model Number: 171 of 190 with model LastValueNaive for Validation 1\n",
      "171 - LastValueNaive with avg smape 14.45: \n",
      "Model Number: 172 of 190 with model GLS for Validation 1\n",
      "172 - GLS with avg smape 18.7: \n",
      "Model Number: 173 of 190 with model LastValueNaive for Validation 1\n",
      "173 - LastValueNaive with avg smape 15.35: \n",
      "Model Number: 174 of 190 with model LastValueNaive for Validation 1\n",
      "174 - LastValueNaive with avg smape 18.13: \n",
      "Model Number: 175 of 190 with model ConstantNaive for Validation 1\n",
      "175 - ConstantNaive with avg smape 11.44: \n",
      "Model Number: 176 of 190 with model FBProphet for Validation 1\n"
     ]
    },
    {
     "name": "stderr",
     "output_type": "stream",
     "text": [
      "23:12:28 - cmdstanpy - INFO - Chain [1] start processing\n",
      "23:12:28 - cmdstanpy - INFO - Chain [1] done processing\n"
     ]
    },
    {
     "name": "stdout",
     "output_type": "stream",
     "text": [
      "176 - FBProphet with avg smape 18.91: \n",
      "Model Number: 177 of 190 with model ConstantNaive for Validation 1\n",
      "177 - ConstantNaive with avg smape 11.44: \n",
      "Model Number: 178 of 190 with model LastValueNaive for Validation 1\n",
      "178 - LastValueNaive with avg smape 19.23: \n",
      "Model Number: 179 of 190 with model FBProphet for Validation 1\n"
     ]
    },
    {
     "name": "stderr",
     "output_type": "stream",
     "text": [
      "23:12:29 - cmdstanpy - INFO - Chain [1] start processing\n",
      "23:12:29 - cmdstanpy - INFO - Chain [1] done processing\n"
     ]
    },
    {
     "name": "stdout",
     "output_type": "stream",
     "text": [
      "179 - FBProphet with avg smape 14.28: \n",
      "Model Number: 180 of 190 with model FBProphet for Validation 1\n"
     ]
    },
    {
     "name": "stderr",
     "output_type": "stream",
     "text": [
      "23:12:30 - cmdstanpy - INFO - Chain [1] start processing\n",
      "23:12:31 - cmdstanpy - INFO - Chain [1] done processing\n"
     ]
    },
    {
     "name": "stdout",
     "output_type": "stream",
     "text": [
      "180 - FBProphet with avg smape 14.29: \n",
      "Model Number: 181 of 190 with model ConstantNaive for Validation 1\n",
      "181 - ConstantNaive with avg smape 12.12: \n",
      "Model Number: 182 of 190 with model GLS for Validation 1\n",
      "182 - GLS with avg smape 19.49: \n",
      "Model Number: 183 of 190 with model GLS for Validation 1\n",
      "183 - GLS with avg smape 27.5: \n",
      "Model Number: 184 of 190 with model FBProphet for Validation 1\n"
     ]
    },
    {
     "name": "stderr",
     "output_type": "stream",
     "text": [
      "23:12:32 - cmdstanpy - INFO - Chain [1] start processing\n",
      "23:12:32 - cmdstanpy - INFO - Chain [1] done processing\n"
     ]
    },
    {
     "name": "stdout",
     "output_type": "stream",
     "text": [
      "184 - FBProphet with avg smape 12.85: \n",
      "Model Number: 185 of 190 with model GLS for Validation 1\n",
      "185 - GLS with avg smape 20.15: \n",
      "Model Number: 186 of 190 with model FBProphet for Validation 1\n",
      "No anomalies detected.\n"
     ]
    },
    {
     "name": "stderr",
     "output_type": "stream",
     "text": [
      "23:12:34 - cmdstanpy - INFO - Chain [1] start processing\n",
      "23:12:34 - cmdstanpy - INFO - Chain [1] done processing\n"
     ]
    },
    {
     "name": "stdout",
     "output_type": "stream",
     "text": [
      "186 - FBProphet with avg smape 22.74: \n",
      "Model Number: 187 of 190 with model GLS for Validation 1\n",
      "187 - GLS with avg smape 21.62: \n",
      "Model Number: 188 of 190 with model GLS for Validation 1\n",
      "188 - GLS with avg smape 20.62: \n",
      "Model Number: 189 of 190 with model FBProphet for Validation 1\n"
     ]
    },
    {
     "name": "stderr",
     "output_type": "stream",
     "text": [
      "23:12:35 - cmdstanpy - INFO - Chain [1] start processing\n",
      "23:12:35 - cmdstanpy - INFO - Chain [1] done processing\n"
     ]
    },
    {
     "name": "stdout",
     "output_type": "stream",
     "text": [
      "189 - FBProphet with avg smape 14.87: \n",
      "Model Number: 190 of 190 with model FBProphet for Validation 1\n"
     ]
    },
    {
     "name": "stderr",
     "output_type": "stream",
     "text": [
      "23:12:36 - cmdstanpy - INFO - Chain [1] start processing\n",
      "23:12:36 - cmdstanpy - INFO - Chain [1] done processing\n"
     ]
    },
    {
     "name": "stdout",
     "output_type": "stream",
     "text": [
      "190 - FBProphet with avg smape 14.87: \n",
      "Validation Round: 2\n",
      "Model Number: 1 of 190 with model Ensemble for Validation 2\n"
     ]
    },
    {
     "name": "stderr",
     "output_type": "stream",
     "text": [
      "c:\\Python310\\lib\\site-packages\\autots\\evaluator\\auto_model.py:939: FutureWarning: iteritems is deprecated and will be removed in a future version. Use .items instead.\n",
      "  for index, value in models_to_iterate.iteritems():\n",
      "c:\\Python310\\lib\\site-packages\\sklearn\\svm\\_base.py:1206: ConvergenceWarning: Liblinear failed to converge, increase the number of iterations.\n",
      "  warnings.warn(\n"
     ]
    },
    {
     "name": "stdout",
     "output_type": "stream",
     "text": [
      "📈 1 - Ensemble with avg smape 7.82: \n",
      "Model Number: 2 of 190 with model ARIMA for Validation 2\n",
      "📈 2 - ARIMA with avg smape 6.54: \n",
      "Model Number: 3 of 190 with model ARIMA for Validation 2\n",
      "3 - ARIMA with avg smape 6.54: \n",
      "Model Number: 4 of 190 with model Ensemble for Validation 2\n"
     ]
    },
    {
     "name": "stderr",
     "output_type": "stream",
     "text": [
      "c:\\Python310\\lib\\site-packages\\autots\\evaluator\\auto_model.py:939: FutureWarning: iteritems is deprecated and will be removed in a future version. Use .items instead.\n",
      "  for index, value in models_to_iterate.iteritems():\n"
     ]
    },
    {
     "name": "stdout",
     "output_type": "stream",
     "text": [
      "📈 4 - Ensemble with avg smape 5.91: \n",
      "Model Number: 5 of 190 with model Ensemble for Validation 2\n"
     ]
    },
    {
     "name": "stderr",
     "output_type": "stream",
     "text": [
      "c:\\Python310\\lib\\site-packages\\autots\\evaluator\\auto_model.py:939: FutureWarning: iteritems is deprecated and will be removed in a future version. Use .items instead.\n",
      "  for index, value in models_to_iterate.iteritems():\n",
      "c:\\Python310\\lib\\site-packages\\sklearn\\svm\\_base.py:1206: ConvergenceWarning: Liblinear failed to converge, increase the number of iterations.\n",
      "  warnings.warn(\n",
      "c:\\Python310\\lib\\site-packages\\autots\\evaluator\\auto_model.py:939: FutureWarning: iteritems is deprecated and will be removed in a future version. Use .items instead.\n",
      "  for index, value in models_to_iterate.iteritems():\n"
     ]
    },
    {
     "name": "stdout",
     "output_type": "stream",
     "text": [
      "5 - Ensemble with avg smape 6.64: \n",
      "Model Number: 6 of 190 with model Ensemble for Validation 2\n",
      "6 - Ensemble with avg smape 6.4: \n",
      "Model Number: 7 of 190 with model ARIMA for Validation 2\n",
      "📈 7 - ARIMA with avg smape 4.77: \n",
      "Model Number: 8 of 190 with model ARIMA for Validation 2\n",
      "8 - ARIMA with avg smape 4.77: \n",
      "Model Number: 9 of 190 with model ARIMA for Validation 2\n",
      "9 - ARIMA with avg smape 6.46: \n",
      "Model Number: 10 of 190 with model ARIMA for Validation 2\n",
      "📈 10 - ARIMA with avg smape 4.54: \n",
      "Model Number: 11 of 190 with model ARIMA for Validation 2\n",
      "11 - ARIMA with avg smape 4.54: \n",
      "Model Number: 12 of 190 with model ARIMA for Validation 2\n",
      "12 - ARIMA with avg smape 4.54: \n",
      "Model Number: 13 of 190 with model Ensemble for Validation 2\n"
     ]
    },
    {
     "name": "stderr",
     "output_type": "stream",
     "text": [
      "c:\\Python310\\lib\\site-packages\\autots\\evaluator\\auto_model.py:939: FutureWarning: iteritems is deprecated and will be removed in a future version. Use .items instead.\n",
      "  for index, value in models_to_iterate.iteritems():\n",
      "c:\\Python310\\lib\\site-packages\\sklearn\\svm\\_base.py:1206: ConvergenceWarning: Liblinear failed to converge, increase the number of iterations.\n",
      "  warnings.warn(\n"
     ]
    },
    {
     "name": "stdout",
     "output_type": "stream",
     "text": [
      "13 - Ensemble with avg smape 7.67: \n",
      "Model Number: 14 of 190 with model ARIMA for Validation 2\n",
      "📈 14 - ARIMA with avg smape 4.03: \n",
      "Model Number: 15 of 190 with model Ensemble for Validation 2\n"
     ]
    },
    {
     "name": "stderr",
     "output_type": "stream",
     "text": [
      "c:\\Python310\\lib\\site-packages\\autots\\evaluator\\auto_model.py:939: FutureWarning: iteritems is deprecated and will be removed in a future version. Use .items instead.\n",
      "  for index, value in models_to_iterate.iteritems():\n"
     ]
    },
    {
     "name": "stdout",
     "output_type": "stream",
     "text": [
      "15 - Ensemble with avg smape 7.73: \n",
      "Model Number: 16 of 190 with model MetricMotif for Validation 2\n"
     ]
    },
    {
     "name": "stderr",
     "output_type": "stream",
     "text": [
      "c:\\Python310\\lib\\site-packages\\sklearn\\svm\\_base.py:1206: ConvergenceWarning: Liblinear failed to converge, increase the number of iterations.\n",
      "  warnings.warn(\n"
     ]
    },
    {
     "name": "stdout",
     "output_type": "stream",
     "text": [
      "16 - MetricMotif with avg smape 9.77: \n",
      "Model Number: 17 of 190 with model WindowRegression for Validation 2\n",
      "17 - WindowRegression with avg smape 7.46: \n",
      "Model Number: 18 of 190 with model Ensemble for Validation 2\n"
     ]
    },
    {
     "name": "stderr",
     "output_type": "stream",
     "text": [
      "c:\\Python310\\lib\\site-packages\\sklearn\\svm\\_base.py:1206: ConvergenceWarning: Liblinear failed to converge, increase the number of iterations.\n",
      "  warnings.warn(\n",
      "c:\\Python310\\lib\\site-packages\\autots\\evaluator\\auto_model.py:939: FutureWarning: iteritems is deprecated and will be removed in a future version. Use .items instead.\n",
      "  for index, value in models_to_iterate.iteritems():\n",
      "c:\\Python310\\lib\\site-packages\\sklearn\\linear_model\\_ridge.py:157: LinAlgWarning: Ill-conditioned matrix (rcond=1.33902e-24): result may not be accurate.\n",
      "  return linalg.solve(A, Xy, sym_pos=True, overwrite_a=True).T\n"
     ]
    },
    {
     "name": "stdout",
     "output_type": "stream",
     "text": [
      "18 - Ensemble with avg smape 10.36: \n",
      "Model Number: 19 of 190 with model MultivariateMotif for Validation 2\n",
      "19 - MultivariateMotif with avg smape 4.69: \n",
      "Model Number: 20 of 190 with model WindowRegression for Validation 2\n",
      "20 - WindowRegression with avg smape 7.73: \n",
      "Model Number: 21 of 190 with model MultivariateMotif for Validation 2\n",
      "21 - MultivariateMotif with avg smape 4.04: \n",
      "Model Number: 22 of 190 with model MultivariateMotif for Validation 2\n",
      "22 - MultivariateMotif with avg smape 4.49: \n",
      "Model Number: 23 of 190 with model MultivariateMotif for Validation 2\n",
      "23 - MultivariateMotif with avg smape 4.49: \n",
      "Model Number: 24 of 190 with model MultivariateMotif for Validation 2\n",
      "24 - MultivariateMotif with avg smape 4.49: \n",
      "Model Number: 25 of 190 with model UnivariateMotif for Validation 2\n",
      "25 - UnivariateMotif with avg smape 6.42: \n",
      "Model Number: 26 of 190 with model MetricMotif for Validation 2\n",
      "26 - MetricMotif with avg smape 4.62: \n",
      "Model Number: 27 of 190 with model MultivariateMotif for Validation 2\n",
      "27 - MultivariateMotif with avg smape 4.98: \n",
      "Model Number: 28 of 190 with model WindowRegression for Validation 2\n",
      "28 - WindowRegression with avg smape 8.38: \n",
      "Model Number: 29 of 190 with model Ensemble for Validation 2\n"
     ]
    },
    {
     "name": "stderr",
     "output_type": "stream",
     "text": [
      "c:\\Python310\\lib\\site-packages\\sklearn\\linear_model\\_coordinate_descent.py:2441: ConvergenceWarning: Objective did not converge. You might want to increase the number of iterations. Duality gap: 366.46136980649317, tolerance: 86.77087322595706\n",
      "  ) = cd_fast.enet_coordinate_descent_multi_task(\n",
      "c:\\Python310\\lib\\site-packages\\autots\\evaluator\\auto_model.py:939: FutureWarning: iteritems is deprecated and will be removed in a future version. Use .items instead.\n",
      "  for index, value in models_to_iterate.iteritems():\n",
      "c:\\Python310\\lib\\site-packages\\sklearn\\linear_model\\_ridge.py:157: LinAlgWarning: Ill-conditioned matrix (rcond=1.33902e-24): result may not be accurate.\n",
      "  return linalg.solve(A, Xy, sym_pos=True, overwrite_a=True).T\n"
     ]
    },
    {
     "name": "stdout",
     "output_type": "stream",
     "text": [
      "29 - Ensemble with avg smape 7.12: \n",
      "Model Number: 30 of 190 with model MetricMotif for Validation 2\n",
      "30 - MetricMotif with avg smape 9.36: \n",
      "Model Number: 31 of 190 with model WindowRegression for Validation 2\n",
      "31 - WindowRegression with avg smape 8.96: \n",
      "Model Number: 32 of 190 with model MetricMotif for Validation 2\n",
      "32 - MetricMotif with avg smape 11.16: \n",
      "Model Number: 33 of 190 with model MetricMotif for Validation 2\n",
      "33 - MetricMotif with avg smape 9.68: \n",
      "Model Number: 34 of 190 with model MetricMotif for Validation 2\n",
      "34 - MetricMotif with avg smape 9.36: \n",
      "Model Number: 35 of 190 with model MetricMotif for Validation 2\n",
      "35 - MetricMotif with avg smape 9.98: \n",
      "Model Number: 36 of 190 with model WindowRegression for Validation 2\n",
      "36 - WindowRegression with avg smape 19.35: \n",
      "Model Number: 37 of 190 with model WindowRegression for Validation 2\n"
     ]
    },
    {
     "name": "stderr",
     "output_type": "stream",
     "text": [
      "c:\\Python310\\lib\\site-packages\\sklearn\\neural_network\\_multilayer_perceptron.py:549: ConvergenceWarning: lbfgs failed to converge (status=1):\n",
      "STOP: TOTAL NO. of ITERATIONS REACHED LIMIT.\n",
      "\n",
      "Increase the number of iterations (max_iter) or scale the data as shown in:\n",
      "    https://scikit-learn.org/stable/modules/preprocessing.html\n",
      "  self.n_iter_ = _check_optimize_result(\"lbfgs\", opt_res, self.max_iter)\n"
     ]
    },
    {
     "name": "stdout",
     "output_type": "stream",
     "text": [
      "37 - WindowRegression with avg smape 10.72: \n",
      "Model Number: 38 of 190 with model WindowRegression for Validation 2\n",
      "38 - WindowRegression with avg smape 10.72: \n",
      "Model Number: 39 of 190 with model MetricMotif for Validation 2\n",
      "39 - MetricMotif with avg smape 10.45: \n",
      "Model Number: 40 of 190 with model UnivariateRegression for Validation 2\n"
     ]
    },
    {
     "name": "stderr",
     "output_type": "stream",
     "text": [
      "c:\\Python310\\lib\\site-packages\\sklearn\\neural_network\\_multilayer_perceptron.py:549: ConvergenceWarning: lbfgs failed to converge (status=1):\n",
      "STOP: TOTAL NO. of ITERATIONS REACHED LIMIT.\n",
      "\n",
      "Increase the number of iterations (max_iter) or scale the data as shown in:\n",
      "    https://scikit-learn.org/stable/modules/preprocessing.html\n",
      "  self.n_iter_ = _check_optimize_result(\"lbfgs\", opt_res, self.max_iter)\n",
      "c:\\Python310\\lib\\site-packages\\sklearn\\linear_model\\_ridge.py:157: LinAlgWarning: Ill-conditioned matrix (rcond=1.33902e-24): result may not be accurate.\n",
      "  return linalg.solve(A, Xy, sym_pos=True, overwrite_a=True).T\n"
     ]
    },
    {
     "name": "stdout",
     "output_type": "stream",
     "text": [
      "40 - UnivariateRegression with avg smape 17.1: \n",
      "Model Number: 41 of 190 with model MetricMotif for Validation 2\n",
      "41 - MetricMotif with avg smape 11.07: \n",
      "Model Number: 42 of 190 with model WindowRegression for Validation 2\n",
      "42 - WindowRegression with avg smape 9.97: \n",
      "Model Number: 43 of 190 with model WindowRegression for Validation 2\n",
      "43 - WindowRegression with avg smape 9.97: \n",
      "Model Number: 44 of 190 with model MultivariateMotif for Validation 2\n",
      "44 - MultivariateMotif with avg smape 4.69: \n",
      "Model Number: 45 of 190 with model NVAR for Validation 2\n",
      "45 - NVAR with avg smape 9.89: \n",
      "Model Number: 46 of 190 with model NVAR for Validation 2\n",
      "46 - NVAR with avg smape 9.89: \n",
      "Model Number: 47 of 190 with model Theta for Validation 2\n",
      "47 - Theta with avg smape 4.15: \n",
      "Model Number: 48 of 190 with model UnivariateMotif for Validation 2\n",
      "48 - UnivariateMotif with avg smape 5.07: \n",
      "Model Number: 49 of 190 with model UnivariateMotif for Validation 2\n",
      "49 - UnivariateMotif with avg smape 7.7: \n",
      "Model Number: 50 of 190 with model UnivariateMotif for Validation 2\n",
      "50 - UnivariateMotif with avg smape 8.64: \n",
      "Model Number: 51 of 190 with model UnivariateMotif for Validation 2\n",
      "51 - UnivariateMotif with avg smape 8.64: \n",
      "Model Number: 52 of 190 with model Theta for Validation 2\n",
      "52 - Theta with avg smape 4.09: \n",
      "Model Number: 53 of 190 with model UnivariateMotif for Validation 2\n",
      "53 - UnivariateMotif with avg smape 8.69: \n",
      "Model Number: 54 of 190 with model Theta for Validation 2\n",
      "54 - Theta with avg smape 4.53: \n",
      "Model Number: 55 of 190 with model Theta for Validation 2\n",
      "55 - Theta with avg smape 4.53: \n",
      "Model Number: 56 of 190 with model GLM for Validation 2\n",
      "📈 56 - GLM with avg smape 2.3: \n",
      "Model Number: 57 of 190 with model GLM for Validation 2\n",
      "57 - GLM with avg smape 2.3: \n",
      "Model Number: 58 of 190 with model GLM for Validation 2\n",
      "58 - GLM with avg smape 2.3: \n",
      "Model Number: 59 of 190 with model UnivariateMotif for Validation 2\n",
      "59 - UnivariateMotif with avg smape 5.33: \n",
      "Model Number: 60 of 190 with model UnivariateMotif for Validation 2\n",
      "60 - UnivariateMotif with avg smape 5.33: \n",
      "Model Number: 61 of 190 with model UnivariateMotif for Validation 2\n",
      "61 - UnivariateMotif with avg smape 9.27: \n",
      "Model Number: 62 of 190 with model MultivariateMotif for Validation 2\n",
      "62 - MultivariateMotif with avg smape 10.52: \n",
      "Model Number: 63 of 190 with model MultivariateMotif for Validation 2\n",
      "63 - MultivariateMotif with avg smape 4.49: \n",
      "Model Number: 64 of 190 with model DatepartRegression for Validation 2\n",
      "64 - DatepartRegression with avg smape 10.68: \n",
      "Model Number: 65 of 190 with model NVAR for Validation 2\n",
      "65 - NVAR with avg smape 3.05: \n",
      "Model Number: 66 of 190 with model Theta for Validation 2\n",
      "66 - Theta with avg smape 4.08: \n",
      "Model Number: 67 of 190 with model Theta for Validation 2\n",
      "67 - Theta with avg smape 4.08: \n",
      "Model Number: 68 of 190 with model Theta for Validation 2\n",
      "68 - Theta with avg smape 4.08: \n",
      "Model Number: 69 of 190 with model Theta for Validation 2\n",
      "69 - Theta with avg smape 4.57: \n",
      "Model Number: 70 of 190 with model Theta for Validation 2\n",
      "70 - Theta with avg smape 4.38: \n",
      "Model Number: 71 of 190 with model UnivariateRegression for Validation 2\n",
      "71 - UnivariateRegression with avg smape 11.37: \n",
      "Model Number: 72 of 190 with model GLM for Validation 2\n"
     ]
    },
    {
     "name": "stderr",
     "output_type": "stream",
     "text": [
      "c:\\Python310\\lib\\site-packages\\sklearn\\linear_model\\_ridge.py:157: LinAlgWarning: Ill-conditioned matrix (rcond=1.33828e-24): result may not be accurate.\n",
      "  return linalg.solve(A, Xy, sym_pos=True, overwrite_a=True).T\n"
     ]
    },
    {
     "name": "stdout",
     "output_type": "stream",
     "text": [
      "72 - GLM with avg smape 4.96: \n",
      "Model Number: 73 of 190 with model UnivariateRegression for Validation 2\n",
      "73 - UnivariateRegression with avg smape 9.81: \n",
      "Model Number: 74 of 190 with model UnivariateRegression for Validation 2\n",
      "74 - UnivariateRegression with avg smape 6.49: \n",
      "Model Number: 75 of 190 with model UnivariateRegression for Validation 2"
     ]
    },
    {
     "name": "stderr",
     "output_type": "stream",
     "text": [
      "c:\\Python310\\lib\\site-packages\\sklearn\\linear_model\\_ridge.py:157: LinAlgWarning: Ill-conditioned matrix (rcond=1.3377e-24): result may not be accurate.\n",
      "  return linalg.solve(A, Xy, sym_pos=True, overwrite_a=True).T\n",
      "c:\\Python310\\lib\\site-packages\\sklearn\\linear_model\\_ridge.py:157: LinAlgWarning: Ill-conditioned matrix (rcond=1.33773e-24): result may not be accurate.\n",
      "  return linalg.solve(A, Xy, sym_pos=True, overwrite_a=True).T\n"
     ]
    },
    {
     "name": "stdout",
     "output_type": "stream",
     "text": [
      "\n",
      "75 - UnivariateRegression with avg smape 6.46: \n",
      "Model Number: 76 of 190 with model MultivariateRegression for Validation 2\n"
     ]
    },
    {
     "name": "stderr",
     "output_type": "stream",
     "text": [
      "[Parallel(n_jobs=-2)]: Using backend ThreadingBackend with 3 concurrent workers.\n",
      "[Parallel(n_jobs=-2)]: Done  44 tasks      | elapsed:    0.0s\n",
      "[Parallel(n_jobs=-2)]: Done 194 tasks      | elapsed:    0.3s\n",
      "[Parallel(n_jobs=-2)]: Done 200 out of 200 | elapsed:    0.3s finished\n",
      "[Parallel(n_jobs=3)]: Using backend ThreadingBackend with 3 concurrent workers.\n",
      "[Parallel(n_jobs=3)]: Done  44 tasks      | elapsed:    0.0s\n",
      "[Parallel(n_jobs=3)]: Done 194 tasks      | elapsed:    0.0s\n",
      "[Parallel(n_jobs=3)]: Done 200 out of 200 | elapsed:    0.0s finished\n",
      "[Parallel(n_jobs=3)]: Using backend ThreadingBackend with 3 concurrent workers.\n",
      "[Parallel(n_jobs=3)]: Done  44 tasks      | elapsed:    0.0s\n",
      "[Parallel(n_jobs=3)]: Done 194 tasks      | elapsed:    0.0s\n",
      "[Parallel(n_jobs=3)]: Done 200 out of 200 | elapsed:    0.0s finished\n",
      "[Parallel(n_jobs=3)]: Using backend ThreadingBackend with 3 concurrent workers.\n",
      "[Parallel(n_jobs=3)]: Done  44 tasks      | elapsed:    0.1s\n",
      "[Parallel(n_jobs=3)]: Done 194 tasks      | elapsed:    0.1s\n",
      "[Parallel(n_jobs=3)]: Done 200 out of 200 | elapsed:    0.1s finished\n",
      "[Parallel(n_jobs=3)]: Using backend ThreadingBackend with 3 concurrent workers.\n",
      "[Parallel(n_jobs=3)]: Done  44 tasks      | elapsed:    0.0s\n",
      "[Parallel(n_jobs=3)]: Done 194 tasks      | elapsed:    0.0s\n",
      "[Parallel(n_jobs=3)]: Done 200 out of 200 | elapsed:    0.0s finished\n",
      "[Parallel(n_jobs=3)]: Using backend ThreadingBackend with 3 concurrent workers.\n",
      "[Parallel(n_jobs=3)]: Done  44 tasks      | elapsed:    0.0s\n",
      "[Parallel(n_jobs=3)]: Done 194 tasks      | elapsed:    0.0s\n",
      "[Parallel(n_jobs=3)]: Done 200 out of 200 | elapsed:    0.0s finished\n",
      "[Parallel(n_jobs=3)]: Using backend ThreadingBackend with 3 concurrent workers.\n",
      "[Parallel(n_jobs=3)]: Done  44 tasks      | elapsed:    0.0s\n",
      "[Parallel(n_jobs=3)]: Done 194 tasks      | elapsed:    0.0s\n",
      "[Parallel(n_jobs=3)]: Done 200 out of 200 | elapsed:    0.0s finished\n",
      "[Parallel(n_jobs=3)]: Using backend ThreadingBackend with 3 concurrent workers.\n",
      "[Parallel(n_jobs=3)]: Done  44 tasks      | elapsed:    0.0s\n",
      "[Parallel(n_jobs=3)]: Done 194 tasks      | elapsed:    0.0s\n",
      "[Parallel(n_jobs=3)]: Done 200 out of 200 | elapsed:    0.0s finished\n",
      "[Parallel(n_jobs=3)]: Using backend ThreadingBackend with 3 concurrent workers.\n",
      "[Parallel(n_jobs=3)]: Done  44 tasks      | elapsed:    0.0s\n",
      "[Parallel(n_jobs=3)]: Done 194 tasks      | elapsed:    0.0s\n",
      "[Parallel(n_jobs=3)]: Done 200 out of 200 | elapsed:    0.0s finished\n",
      "[Parallel(n_jobs=3)]: Using backend ThreadingBackend with 3 concurrent workers.\n",
      "[Parallel(n_jobs=3)]: Done  44 tasks      | elapsed:    0.0s\n",
      "[Parallel(n_jobs=3)]: Done 194 tasks      | elapsed:    0.0s\n",
      "[Parallel(n_jobs=3)]: Done 200 out of 200 | elapsed:    0.0s finished\n",
      "[Parallel(n_jobs=3)]: Using backend ThreadingBackend with 3 concurrent workers.\n",
      "[Parallel(n_jobs=3)]: Done  44 tasks      | elapsed:    0.0s\n",
      "[Parallel(n_jobs=3)]: Done 194 tasks      | elapsed:    0.0s\n",
      "[Parallel(n_jobs=3)]: Done 200 out of 200 | elapsed:    0.0s finished\n",
      "[Parallel(n_jobs=3)]: Using backend ThreadingBackend with 3 concurrent workers.\n",
      "[Parallel(n_jobs=3)]: Done  44 tasks      | elapsed:    0.0s\n",
      "[Parallel(n_jobs=3)]: Done 194 tasks      | elapsed:    0.0s\n",
      "[Parallel(n_jobs=3)]: Done 200 out of 200 | elapsed:    0.0s finished\n",
      "[Parallel(n_jobs=3)]: Using backend ThreadingBackend with 3 concurrent workers.\n",
      "[Parallel(n_jobs=3)]: Done  44 tasks      | elapsed:    0.0s\n",
      "[Parallel(n_jobs=3)]: Done 194 tasks      | elapsed:    0.0s\n",
      "[Parallel(n_jobs=3)]: Done 200 out of 200 | elapsed:    0.0s finished\n"
     ]
    },
    {
     "name": "stdout",
     "output_type": "stream",
     "text": [
      "76 - MultivariateRegression with avg smape 10.53: \n",
      "Model Number: 77 of 190 with model MultivariateRegression for Validation 2\n",
      "77 - MultivariateRegression with avg smape 6.83: \n",
      "Model Number: 78 of 190 with model UnivariateRegression for Validation 2\n"
     ]
    },
    {
     "name": "stderr",
     "output_type": "stream",
     "text": [
      "c:\\Python310\\lib\\site-packages\\sklearn\\linear_model\\_ridge.py:157: LinAlgWarning: Ill-conditioned matrix (rcond=1.33836e-24): result may not be accurate.\n",
      "  return linalg.solve(A, Xy, sym_pos=True, overwrite_a=True).T\n",
      "c:\\Python310\\lib\\site-packages\\sklearn\\linear_model\\_ridge.py:157: LinAlgWarning: Ill-conditioned matrix (rcond=1.33834e-24): result may not be accurate.\n",
      "  return linalg.solve(A, Xy, sym_pos=True, overwrite_a=True).T\n"
     ]
    },
    {
     "name": "stdout",
     "output_type": "stream",
     "text": [
      "78 - UnivariateRegression with avg smape 8.86: \n",
      "Model Number: 79 of 190 with model UnivariateRegression for Validation 2\n",
      "79 - UnivariateRegression with avg smape 8.78: \n",
      "Model Number: 80 of 190 with model SectionalMotif for Validation 2\n",
      "80 - SectionalMotif with avg smape 6.02: \n",
      "Model Number: 81 of 190 with model SectionalMotif for Validation 2\n",
      "81 - SectionalMotif with avg smape 5.7: \n",
      "Model Number: 82 of 190 with model NVAR for Validation 2\n",
      "82 - NVAR with avg smape 2.79: \n",
      "Model Number: 83 of 190 with model NVAR for Validation 2\n",
      "83 - NVAR with avg smape 2.79: \n",
      "Model Number: 84 of 190 with model NVAR for Validation 2\n",
      "84 - NVAR with avg smape 2.91: \n",
      "Model Number: 85 of 190 with model MultivariateRegression for Validation 2\n",
      "85 - MultivariateRegression with avg smape 4.47: \n",
      "Model Number: 86 of 190 with model GLM for Validation 2\n",
      "86 - GLM with avg smape 11.26: \n",
      "Model Number: 87 of 190 with model UnivariateRegression for Validation 2\n",
      "87 - UnivariateRegression with avg smape 11.54: \n",
      "Model Number: 88 of 190 with model GLM for Validation 2\n"
     ]
    },
    {
     "name": "stderr",
     "output_type": "stream",
     "text": [
      "c:\\Python310\\lib\\site-packages\\sklearn\\linear_model\\_ridge.py:157: LinAlgWarning: Ill-conditioned matrix (rcond=1.33839e-24): result may not be accurate.\n",
      "  return linalg.solve(A, Xy, sym_pos=True, overwrite_a=True).T\n"
     ]
    },
    {
     "name": "stdout",
     "output_type": "stream",
     "text": [
      "88 - GLM with avg smape 11.26: \n",
      "Model Number: 89 of 190 with model GLM for Validation 2\n",
      "89 - GLM with avg smape 11.26: \n",
      "Model Number: 90 of 190 with model DatepartRegression for Validation 2\n",
      "90 - DatepartRegression with avg smape 7.46: \n",
      "Model Number: 91 of 190 with model GLM for Validation 2\n",
      "91 - GLM with avg smape 5.83: \n",
      "Model Number: 92 of 190 with model UnivariateRegression for Validation 2\n",
      "92 - UnivariateRegression with avg smape 5.6: \n",
      "Model Number: 93 of 190 with model DatepartRegression for Validation 2\n"
     ]
    },
    {
     "name": "stderr",
     "output_type": "stream",
     "text": [
      "[Parallel(n_jobs=-2)]: Using backend ThreadingBackend with 3 concurrent workers.\n",
      "[Parallel(n_jobs=-2)]: Done  44 tasks      | elapsed:    0.0s\n",
      "[Parallel(n_jobs=-2)]: Done 100 out of 100 | elapsed:    0.1s finished\n"
     ]
    },
    {
     "name": "stdout",
     "output_type": "stream",
     "text": [
      "93 - DatepartRegression with avg smape 16.28: \n",
      "Model Number: 94 of 190 with model GLM for Validation 2\n"
     ]
    },
    {
     "name": "stderr",
     "output_type": "stream",
     "text": [
      "[Parallel(n_jobs=3)]: Using backend ThreadingBackend with 3 concurrent workers.\n",
      "[Parallel(n_jobs=3)]: Done  44 tasks      | elapsed:    0.0s\n",
      "[Parallel(n_jobs=3)]: Done 100 out of 100 | elapsed:    0.0s finished\n"
     ]
    },
    {
     "name": "stdout",
     "output_type": "stream",
     "text": [
      "94 - GLM with avg smape 11.07: \n",
      "Model Number: 95 of 190 with model SeasonalNaive for Validation 2\n",
      "95 - SeasonalNaive with avg smape 5.86: \n",
      "Model Number: 96 of 190 with model DatepartRegression for Validation 2\n"
     ]
    },
    {
     "name": "stderr",
     "output_type": "stream",
     "text": [
      "[Parallel(n_jobs=-2)]: Using backend ThreadingBackend with 3 concurrent workers.\n",
      "[Parallel(n_jobs=-2)]: Done  44 tasks      | elapsed:    0.0s\n",
      "[Parallel(n_jobs=-2)]: Done 194 tasks      | elapsed:    0.2s\n",
      "[Parallel(n_jobs=-2)]: Done 444 tasks      | elapsed:    0.7s\n",
      "[Parallel(n_jobs=-2)]: Done 794 tasks      | elapsed:    1.3s\n",
      "[Parallel(n_jobs=-2)]: Done 1000 out of 1000 | elapsed:    1.6s finished\n",
      "[Parallel(n_jobs=3)]: Using backend ThreadingBackend with 3 concurrent workers.\n",
      "[Parallel(n_jobs=3)]: Done  44 tasks      | elapsed:    0.0s\n",
      "[Parallel(n_jobs=3)]: Done 194 tasks      | elapsed:    0.0s\n",
      "[Parallel(n_jobs=3)]: Done 444 tasks      | elapsed:    0.0s\n",
      "[Parallel(n_jobs=3)]: Done 794 tasks      | elapsed:    0.1s\n",
      "[Parallel(n_jobs=3)]: Done 1000 out of 1000 | elapsed:    0.1s finished\n"
     ]
    },
    {
     "name": "stdout",
     "output_type": "stream",
     "text": [
      "96 - DatepartRegression with avg smape 7.03: \n",
      "Model Number: 97 of 190 with model DatepartRegression for Validation 2\n"
     ]
    },
    {
     "name": "stderr",
     "output_type": "stream",
     "text": [
      "[Parallel(n_jobs=-2)]: Using backend ThreadingBackend with 3 concurrent workers.\n",
      "[Parallel(n_jobs=-2)]: Done  44 tasks      | elapsed:    0.0s\n",
      "[Parallel(n_jobs=-2)]: Done 194 tasks      | elapsed:    0.2s\n",
      "[Parallel(n_jobs=-2)]: Done 444 tasks      | elapsed:    0.7s\n",
      "[Parallel(n_jobs=-2)]: Done 794 tasks      | elapsed:    1.3s\n",
      "[Parallel(n_jobs=-2)]: Done 1000 out of 1000 | elapsed:    1.7s finished\n",
      "[Parallel(n_jobs=3)]: Using backend ThreadingBackend with 3 concurrent workers.\n",
      "[Parallel(n_jobs=3)]: Done  44 tasks      | elapsed:    0.0s\n",
      "[Parallel(n_jobs=3)]: Done 194 tasks      | elapsed:    0.0s\n",
      "[Parallel(n_jobs=3)]: Done 444 tasks      | elapsed:    0.0s\n",
      "[Parallel(n_jobs=3)]: Done 794 tasks      | elapsed:    0.1s\n"
     ]
    },
    {
     "name": "stdout",
     "output_type": "stream",
     "text": [
      "97 - DatepartRegression with avg smape 7.04: \n",
      "Model Number: 98 of 190 with model SectionalMotif for Validation 2\n",
      "98 - SectionalMotif with avg smape 7.14: \n",
      "Model Number: 99 of 190 with model SectionalMotif for Validation 2\n"
     ]
    },
    {
     "name": "stderr",
     "output_type": "stream",
     "text": [
      "[Parallel(n_jobs=3)]: Done 1000 out of 1000 | elapsed:    0.1s finished\n"
     ]
    },
    {
     "name": "stdout",
     "output_type": "stream",
     "text": [
      "99 - SectionalMotif with avg smape 6.94: \n",
      "Model Number: 100 of 190 with model MultivariateRegression for Validation 2\n",
      "100 - MultivariateRegression with avg smape 28.41: \n",
      "Model Number: 101 of 190 with model NVAR for Validation 2\n",
      "101 - NVAR with avg smape 4.08: \n",
      "Model Number: 102 of 190 with model NVAR for Validation 2\n",
      "102 - NVAR with avg smape 4.08: \n",
      "Model Number: 103 of 190 with model DatepartRegression for Validation 2\n",
      "103 - DatepartRegression with avg smape 7.44: \n",
      "Model Number: 104 of 190 with model SeasonalNaive for Validation 2\n",
      "104 - SeasonalNaive with avg smape 7.24: \n",
      "Model Number: 105 of 190 with model MultivariateRegression for Validation 2\n"
     ]
    },
    {
     "name": "stderr",
     "output_type": "stream",
     "text": [
      "[Parallel(n_jobs=-2)]: Using backend ThreadingBackend with 3 concurrent workers.\n",
      "[Parallel(n_jobs=-2)]: Done  44 tasks      | elapsed:    0.0s\n",
      "[Parallel(n_jobs=-2)]: Done 194 tasks      | elapsed:    0.3s\n",
      "[Parallel(n_jobs=-2)]: Done 200 out of 200 | elapsed:    0.3s finished\n",
      "[Parallel(n_jobs=3)]: Using backend ThreadingBackend with 3 concurrent workers.\n",
      "[Parallel(n_jobs=3)]: Done  44 tasks      | elapsed:    0.0s\n",
      "[Parallel(n_jobs=3)]: Done 194 tasks      | elapsed:    0.0s\n",
      "[Parallel(n_jobs=3)]: Done 200 out of 200 | elapsed:    0.0s finished\n",
      "[Parallel(n_jobs=3)]: Using backend ThreadingBackend with 3 concurrent workers.\n",
      "[Parallel(n_jobs=3)]: Done  44 tasks      | elapsed:    0.0s\n",
      "[Parallel(n_jobs=3)]: Done 194 tasks      | elapsed:    0.0s\n",
      "[Parallel(n_jobs=3)]: Done 200 out of 200 | elapsed:    0.0s finished\n",
      "[Parallel(n_jobs=3)]: Using backend ThreadingBackend with 3 concurrent workers.\n",
      "[Parallel(n_jobs=3)]: Done  44 tasks      | elapsed:    0.0s\n",
      "[Parallel(n_jobs=3)]: Done 194 tasks      | elapsed:    0.0s\n",
      "[Parallel(n_jobs=3)]: Done 200 out of 200 | elapsed:    0.0s finished\n",
      "[Parallel(n_jobs=3)]: Using backend ThreadingBackend with 3 concurrent workers.\n",
      "[Parallel(n_jobs=3)]: Done  44 tasks      | elapsed:    0.0s\n",
      "[Parallel(n_jobs=3)]: Done 194 tasks      | elapsed:    0.0s\n",
      "[Parallel(n_jobs=3)]: Done 200 out of 200 | elapsed:    0.0s finished\n",
      "[Parallel(n_jobs=3)]: Using backend ThreadingBackend with 3 concurrent workers.\n",
      "[Parallel(n_jobs=3)]: Done  44 tasks      | elapsed:    0.0s\n",
      "[Parallel(n_jobs=3)]: Done 194 tasks      | elapsed:    0.0s\n",
      "[Parallel(n_jobs=3)]: Done 200 out of 200 | elapsed:    0.0s finished\n",
      "[Parallel(n_jobs=3)]: Using backend ThreadingBackend with 3 concurrent workers.\n",
      "[Parallel(n_jobs=3)]: Done  44 tasks      | elapsed:    0.0s\n",
      "[Parallel(n_jobs=3)]: Done 194 tasks      | elapsed:    0.0s\n",
      "[Parallel(n_jobs=3)]: Done 200 out of 200 | elapsed:    0.0s finished\n",
      "[Parallel(n_jobs=3)]: Using backend ThreadingBackend with 3 concurrent workers.\n",
      "[Parallel(n_jobs=3)]: Done  44 tasks      | elapsed:    0.0s\n",
      "[Parallel(n_jobs=3)]: Done 194 tasks      | elapsed:    0.0s\n",
      "[Parallel(n_jobs=3)]: Done 200 out of 200 | elapsed:    0.0s finished\n",
      "[Parallel(n_jobs=3)]: Using backend ThreadingBackend with 3 concurrent workers.\n",
      "[Parallel(n_jobs=3)]: Done  44 tasks      | elapsed:    0.0s\n",
      "[Parallel(n_jobs=3)]: Done 194 tasks      | elapsed:    0.0s\n",
      "[Parallel(n_jobs=3)]: Done 200 out of 200 | elapsed:    0.0s finished\n",
      "[Parallel(n_jobs=3)]: Using backend ThreadingBackend with 3 concurrent workers.\n",
      "[Parallel(n_jobs=3)]: Done  44 tasks      | elapsed:    0.0s\n",
      "[Parallel(n_jobs=3)]: Done 194 tasks      | elapsed:    0.0s\n",
      "[Parallel(n_jobs=3)]: Done 200 out of 200 | elapsed:    0.0s finished\n",
      "[Parallel(n_jobs=3)]: Using backend ThreadingBackend with 3 concurrent workers.\n",
      "[Parallel(n_jobs=3)]: Done  44 tasks      | elapsed:    0.0s\n",
      "[Parallel(n_jobs=3)]: Done 194 tasks      | elapsed:    0.0s\n",
      "[Parallel(n_jobs=3)]: Done 200 out of 200 | elapsed:    0.0s finished\n",
      "[Parallel(n_jobs=3)]: Using backend ThreadingBackend with 3 concurrent workers.\n",
      "[Parallel(n_jobs=3)]: Done  44 tasks      | elapsed:    0.0s\n",
      "[Parallel(n_jobs=3)]: Done 194 tasks      | elapsed:    0.0s\n",
      "[Parallel(n_jobs=3)]: Done 200 out of 200 | elapsed:    0.0s finished\n",
      "[Parallel(n_jobs=3)]: Using backend ThreadingBackend with 3 concurrent workers.\n",
      "[Parallel(n_jobs=3)]: Done  44 tasks      | elapsed:    0.0s\n",
      "[Parallel(n_jobs=3)]: Done 194 tasks      | elapsed:    0.0s\n",
      "[Parallel(n_jobs=3)]: Done 200 out of 200 | elapsed:    0.0s finished\n"
     ]
    },
    {
     "name": "stdout",
     "output_type": "stream",
     "text": [
      "105 - MultivariateRegression with avg smape 12.97: \n",
      "Model Number: 106 of 190 with model ETS for Validation 2\n",
      "106 - ETS with avg smape 5.92: \n",
      "Model Number: 107 of 190 with model SeasonalNaive for Validation 2\n",
      "107 - SeasonalNaive with avg smape 7.24: \n",
      "Model Number: 108 of 190 with model SectionalMotif for Validation 2\n",
      "108 - SectionalMotif with avg smape 8.04: \n",
      "Model Number: 109 of 190 with model DatepartRegression for Validation 2\n",
      "109 - DatepartRegression with avg smape 13.42: \n",
      "Model Number: 110 of 190 with model SeasonalNaive for Validation 2\n",
      "110 - SeasonalNaive with avg smape 3.58: \n",
      "Model Number: 111 of 190 with model SectionalMotif for Validation 2\n",
      "111 - SectionalMotif with avg smape 7.96: \n",
      "Model Number: 112 of 190 with model ETS for Validation 2\n",
      "112 - ETS with avg smape 5.95: \n",
      "Model Number: 113 of 190 with model SectionalMotif for Validation 2\n",
      "113 - SectionalMotif with avg smape 6.68: \n",
      "Model Number: 114 of 190 with model DatepartRegression for Validation 2\n",
      "114 - DatepartRegression with avg smape 10.32: \n",
      "Model Number: 115 of 190 with model SectionalMotif for Validation 2\n",
      "115 - SectionalMotif with avg smape 8.12: \n",
      "Model Number: 116 of 190 with model MultivariateRegression for Validation 2\n"
     ]
    },
    {
     "name": "stderr",
     "output_type": "stream",
     "text": [
      "[Parallel(n_jobs=-2)]: Using backend ThreadingBackend with 3 concurrent workers.\n",
      "[Parallel(n_jobs=-2)]: Done  44 tasks      | elapsed:    0.0s\n",
      "[Parallel(n_jobs=-2)]: Done 194 tasks      | elapsed:    0.3s\n",
      "[Parallel(n_jobs=-2)]: Done 200 out of 200 | elapsed:    0.3s finished\n",
      "[Parallel(n_jobs=3)]: Using backend ThreadingBackend with 3 concurrent workers.\n",
      "[Parallel(n_jobs=3)]: Done  44 tasks      | elapsed:    0.0s\n",
      "[Parallel(n_jobs=3)]: Done 194 tasks      | elapsed:    0.0s\n",
      "[Parallel(n_jobs=3)]: Done 200 out of 200 | elapsed:    0.0s finished\n",
      "[Parallel(n_jobs=3)]: Using backend ThreadingBackend with 3 concurrent workers.\n",
      "[Parallel(n_jobs=3)]: Done  44 tasks      | elapsed:    0.0s\n",
      "[Parallel(n_jobs=3)]: Done 194 tasks      | elapsed:    0.0s\n",
      "[Parallel(n_jobs=3)]: Done 200 out of 200 | elapsed:    0.0s finished\n",
      "[Parallel(n_jobs=3)]: Using backend ThreadingBackend with 3 concurrent workers.\n",
      "[Parallel(n_jobs=3)]: Done  44 tasks      | elapsed:    0.0s\n",
      "[Parallel(n_jobs=3)]: Done 194 tasks      | elapsed:    0.0s\n",
      "[Parallel(n_jobs=3)]: Done 200 out of 200 | elapsed:    0.0s finished\n",
      "[Parallel(n_jobs=3)]: Using backend ThreadingBackend with 3 concurrent workers.\n",
      "[Parallel(n_jobs=3)]: Done  44 tasks      | elapsed:    0.0s\n",
      "[Parallel(n_jobs=3)]: Done 194 tasks      | elapsed:    0.0s\n",
      "[Parallel(n_jobs=3)]: Done 200 out of 200 | elapsed:    0.0s finished\n",
      "[Parallel(n_jobs=3)]: Using backend ThreadingBackend with 3 concurrent workers.\n",
      "[Parallel(n_jobs=3)]: Done  44 tasks      | elapsed:    0.0s\n",
      "[Parallel(n_jobs=3)]: Done 194 tasks      | elapsed:    0.0s\n",
      "[Parallel(n_jobs=3)]: Done 200 out of 200 | elapsed:    0.0s finished\n",
      "[Parallel(n_jobs=3)]: Using backend ThreadingBackend with 3 concurrent workers.\n",
      "[Parallel(n_jobs=3)]: Done  44 tasks      | elapsed:    0.0s\n",
      "[Parallel(n_jobs=3)]: Done 194 tasks      | elapsed:    0.0s\n",
      "[Parallel(n_jobs=3)]: Done 200 out of 200 | elapsed:    0.0s finished\n",
      "[Parallel(n_jobs=3)]: Using backend ThreadingBackend with 3 concurrent workers.\n",
      "[Parallel(n_jobs=3)]: Done  44 tasks      | elapsed:    0.0s\n",
      "[Parallel(n_jobs=3)]: Done 194 tasks      | elapsed:    0.0s\n",
      "[Parallel(n_jobs=3)]: Done 200 out of 200 | elapsed:    0.0s finished\n",
      "[Parallel(n_jobs=3)]: Using backend ThreadingBackend with 3 concurrent workers.\n",
      "[Parallel(n_jobs=3)]: Done  44 tasks      | elapsed:    0.0s\n",
      "[Parallel(n_jobs=3)]: Done 194 tasks      | elapsed:    0.0s\n",
      "[Parallel(n_jobs=3)]: Done 200 out of 200 | elapsed:    0.0s finished\n",
      "[Parallel(n_jobs=3)]: Using backend ThreadingBackend with 3 concurrent workers.\n",
      "[Parallel(n_jobs=3)]: Done  44 tasks      | elapsed:    0.0s\n",
      "[Parallel(n_jobs=3)]: Done 194 tasks      | elapsed:    0.0s\n",
      "[Parallel(n_jobs=3)]: Done 200 out of 200 | elapsed:    0.0s finished\n",
      "[Parallel(n_jobs=3)]: Using backend ThreadingBackend with 3 concurrent workers.\n",
      "[Parallel(n_jobs=3)]: Done  44 tasks      | elapsed:    0.0s\n",
      "[Parallel(n_jobs=3)]: Done 194 tasks      | elapsed:    0.0s\n",
      "[Parallel(n_jobs=3)]: Done 200 out of 200 | elapsed:    0.0s finished\n",
      "[Parallel(n_jobs=3)]: Using backend ThreadingBackend with 3 concurrent workers.\n",
      "[Parallel(n_jobs=3)]: Done  44 tasks      | elapsed:    0.0s\n",
      "[Parallel(n_jobs=3)]: Done 194 tasks      | elapsed:    0.0s\n",
      "[Parallel(n_jobs=3)]: Done 200 out of 200 | elapsed:    0.0s finished\n",
      "[Parallel(n_jobs=3)]: Using backend ThreadingBackend with 3 concurrent workers.\n",
      "[Parallel(n_jobs=3)]: Done  44 tasks      | elapsed:    0.0s\n"
     ]
    },
    {
     "name": "stdout",
     "output_type": "stream",
     "text": [
      "116 - MultivariateRegression with avg smape 7.15: \n",
      "Model Number: 117 of 190 with model SeasonalNaive for Validation 2\n"
     ]
    },
    {
     "name": "stderr",
     "output_type": "stream",
     "text": [
      "[Parallel(n_jobs=3)]: Done 194 tasks      | elapsed:    0.0s\n",
      "[Parallel(n_jobs=3)]: Done 200 out of 200 | elapsed:    0.0s finished\n"
     ]
    },
    {
     "name": "stdout",
     "output_type": "stream",
     "text": [
      "117 - SeasonalNaive with avg smape 8.12: \n",
      "Model Number: 118 of 190 with model NVAR for Validation 2\n",
      "118 - NVAR with avg smape 7.2: \n",
      "Model Number: 119 of 190 with model SeasonalNaive for Validation 2\n",
      "119 - SeasonalNaive with avg smape 10.12: \n",
      "Model Number: 120 of 190 with model SeasonalNaive for Validation 2\n",
      "120 - SeasonalNaive with avg smape 5.65: \n",
      "Model Number: 121 of 190 with model MultivariateRegression for Validation 2\n",
      "121 - MultivariateRegression with avg smape 8.08: \n",
      "Model Number: 122 of 190 with model ETS for Validation 2\n",
      "ETS error ValueError('endog must be strictly positive when usingmultiplicative trend or seasonal components.')\n",
      "ETS failed on Thousands of Passengers with ValueError('endog must be strictly positive when usingmultiplicative trend or seasonal components.')\n",
      "122 - ETS with avg smape 6.28: \n",
      "Model Number: 123 of 190 with model ARDL for Validation 2\n",
      "123 - ARDL with avg smape 11.1: \n",
      "Model Number: 124 of 190 with model ARDL for Validation 2\n",
      "124 - ARDL with avg smape 14.9: \n",
      "Model Number: 125 of 190 with model ARDL for Validation 2\n",
      "125 - ARDL with avg smape 12.69: \n",
      "Model Number: 126 of 190 with model AverageValueNaive for Validation 2\n",
      "126 - AverageValueNaive with avg smape 13.23: \n",
      "Model Number: 127 of 190 with model AverageValueNaive for Validation 2\n",
      "127 - AverageValueNaive with avg smape 13.23: \n",
      "Model Number: 128 of 190 with model ETS for Validation 2\n",
      "128 - ETS with avg smape 7.61: \n",
      "Model Number: 129 of 190 with model DatepartRegression for Validation 2\n",
      "129 - DatepartRegression with avg smape 10.98: \n",
      "Model Number: 130 of 190 with model SeasonalNaive for Validation 2\n",
      "130 - SeasonalNaive with avg smape 6.11: \n",
      "Model Number: 131 of 190 with model SeasonalNaive for Validation 2\n",
      "131 - SeasonalNaive with avg smape 6.41: \n",
      "Model Number: 132 of 190 with model ETS for Validation 2\n",
      "132 - ETS with avg smape 8.11: \n",
      "Model Number: 133 of 190 with model ETS for Validation 2\n",
      "133 - ETS with avg smape 8.11: \n",
      "Model Number: 134 of 190 with model ETS for Validation 2\n",
      "134 - ETS with avg smape 8.11: \n",
      "Model Number: 135 of 190 with model ETS for Validation 2\n",
      "135 - ETS with avg smape 8.11: \n",
      "Model Number: 136 of 190 with model MultivariateRegression for Validation 2\n"
     ]
    },
    {
     "name": "stderr",
     "output_type": "stream",
     "text": [
      "[Parallel(n_jobs=-2)]: Using backend ThreadingBackend with 3 concurrent workers.\n",
      "[Parallel(n_jobs=-2)]: Done  44 tasks      | elapsed:    0.0s\n",
      "[Parallel(n_jobs=-2)]: Done 194 tasks      | elapsed:    0.2s\n",
      "[Parallel(n_jobs=-2)]: Done 200 out of 200 | elapsed:    0.3s finished\n",
      "[Parallel(n_jobs=3)]: Using backend ThreadingBackend with 3 concurrent workers.\n",
      "[Parallel(n_jobs=3)]: Done  44 tasks      | elapsed:    0.0s\n",
      "[Parallel(n_jobs=3)]: Done 194 tasks      | elapsed:    0.0s\n",
      "[Parallel(n_jobs=3)]: Done 200 out of 200 | elapsed:    0.0s finished\n",
      "[Parallel(n_jobs=3)]: Using backend ThreadingBackend with 3 concurrent workers.\n",
      "[Parallel(n_jobs=3)]: Done  44 tasks      | elapsed:    0.0s\n",
      "[Parallel(n_jobs=3)]: Done 194 tasks      | elapsed:    0.0s\n",
      "[Parallel(n_jobs=3)]: Done 200 out of 200 | elapsed:    0.0s finished\n",
      "[Parallel(n_jobs=3)]: Using backend ThreadingBackend with 3 concurrent workers.\n",
      "[Parallel(n_jobs=3)]: Done  44 tasks      | elapsed:    0.0s\n",
      "[Parallel(n_jobs=3)]: Done 194 tasks      | elapsed:    0.0s\n",
      "[Parallel(n_jobs=3)]: Done 200 out of 200 | elapsed:    0.0s finished\n",
      "[Parallel(n_jobs=3)]: Using backend ThreadingBackend with 3 concurrent workers.\n",
      "[Parallel(n_jobs=3)]: Done  44 tasks      | elapsed:    0.0s\n",
      "[Parallel(n_jobs=3)]: Done 194 tasks      | elapsed:    0.0s\n",
      "[Parallel(n_jobs=3)]: Done 200 out of 200 | elapsed:    0.0s finished\n",
      "[Parallel(n_jobs=3)]: Using backend ThreadingBackend with 3 concurrent workers.\n",
      "[Parallel(n_jobs=3)]: Done  44 tasks      | elapsed:    0.0s\n",
      "[Parallel(n_jobs=3)]: Done 194 tasks      | elapsed:    0.0s\n",
      "[Parallel(n_jobs=3)]: Done 200 out of 200 | elapsed:    0.0s finished\n",
      "[Parallel(n_jobs=3)]: Using backend ThreadingBackend with 3 concurrent workers.\n",
      "[Parallel(n_jobs=3)]: Done  44 tasks      | elapsed:    0.0s\n",
      "[Parallel(n_jobs=3)]: Done 194 tasks      | elapsed:    0.0s\n",
      "[Parallel(n_jobs=3)]: Done 200 out of 200 | elapsed:    0.0s finished\n",
      "[Parallel(n_jobs=3)]: Using backend ThreadingBackend with 3 concurrent workers.\n",
      "[Parallel(n_jobs=3)]: Done  44 tasks      | elapsed:    0.0s\n",
      "[Parallel(n_jobs=3)]: Done 194 tasks      | elapsed:    0.0s\n",
      "[Parallel(n_jobs=3)]: Done 200 out of 200 | elapsed:    0.0s finished\n",
      "[Parallel(n_jobs=3)]: Using backend ThreadingBackend with 3 concurrent workers.\n",
      "[Parallel(n_jobs=3)]: Done  44 tasks      | elapsed:    0.0s\n",
      "[Parallel(n_jobs=3)]: Done 194 tasks      | elapsed:    0.0s\n",
      "[Parallel(n_jobs=3)]: Done 200 out of 200 | elapsed:    0.0s finished\n",
      "[Parallel(n_jobs=3)]: Using backend ThreadingBackend with 3 concurrent workers.\n",
      "[Parallel(n_jobs=3)]: Done  44 tasks      | elapsed:    0.0s\n",
      "[Parallel(n_jobs=3)]: Done 194 tasks      | elapsed:    0.0s\n",
      "[Parallel(n_jobs=3)]: Done 200 out of 200 | elapsed:    0.0s finished\n",
      "[Parallel(n_jobs=3)]: Using backend ThreadingBackend with 3 concurrent workers.\n",
      "[Parallel(n_jobs=3)]: Done  44 tasks      | elapsed:    0.0s\n",
      "[Parallel(n_jobs=3)]: Done 194 tasks      | elapsed:    0.0s\n",
      "[Parallel(n_jobs=3)]: Done 200 out of 200 | elapsed:    0.0s finished\n",
      "[Parallel(n_jobs=3)]: Using backend ThreadingBackend with 3 concurrent workers.\n",
      "[Parallel(n_jobs=3)]: Done  44 tasks      | elapsed:    0.0s\n",
      "[Parallel(n_jobs=3)]: Done 194 tasks      | elapsed:    0.0s\n",
      "[Parallel(n_jobs=3)]: Done 200 out of 200 | elapsed:    0.0s finished\n",
      "[Parallel(n_jobs=3)]: Using backend ThreadingBackend with 3 concurrent workers.\n",
      "[Parallel(n_jobs=3)]: Done  44 tasks      | elapsed:    0.0s\n",
      "[Parallel(n_jobs=3)]: Done 194 tasks      | elapsed:    0.0s\n",
      "[Parallel(n_jobs=3)]: Done 200 out of 200 | elapsed:    0.0s finished\n"
     ]
    },
    {
     "name": "stdout",
     "output_type": "stream",
     "text": [
      "136 - MultivariateRegression with avg smape 6.37: \n",
      "Model Number: 137 of 190 with model MultivariateRegression for Validation 2\n"
     ]
    },
    {
     "name": "stderr",
     "output_type": "stream",
     "text": [
      "[Parallel(n_jobs=-2)]: Using backend ThreadingBackend with 3 concurrent workers.\n",
      "[Parallel(n_jobs=-2)]: Done  44 tasks      | elapsed:    0.0s\n",
      "[Parallel(n_jobs=-2)]: Done 194 tasks      | elapsed:    0.3s\n",
      "[Parallel(n_jobs=-2)]: Done 200 out of 200 | elapsed:    0.3s finished\n",
      "[Parallel(n_jobs=3)]: Using backend ThreadingBackend with 3 concurrent workers.\n",
      "[Parallel(n_jobs=3)]: Done  44 tasks      | elapsed:    0.0s\n",
      "[Parallel(n_jobs=3)]: Done 194 tasks      | elapsed:    0.0s\n",
      "[Parallel(n_jobs=3)]: Done 200 out of 200 | elapsed:    0.0s finished\n",
      "[Parallel(n_jobs=3)]: Using backend ThreadingBackend with 3 concurrent workers.\n",
      "[Parallel(n_jobs=3)]: Done  44 tasks      | elapsed:    0.0s\n",
      "[Parallel(n_jobs=3)]: Done 194 tasks      | elapsed:    0.0s\n",
      "[Parallel(n_jobs=3)]: Done 200 out of 200 | elapsed:    0.0s finished\n",
      "[Parallel(n_jobs=3)]: Using backend ThreadingBackend with 3 concurrent workers.\n",
      "[Parallel(n_jobs=3)]: Done  44 tasks      | elapsed:    0.0s\n",
      "[Parallel(n_jobs=3)]: Done 194 tasks      | elapsed:    0.0s\n",
      "[Parallel(n_jobs=3)]: Done 200 out of 200 | elapsed:    0.0s finished\n",
      "[Parallel(n_jobs=3)]: Using backend ThreadingBackend with 3 concurrent workers.\n",
      "[Parallel(n_jobs=3)]: Done  44 tasks      | elapsed:    0.0s\n",
      "[Parallel(n_jobs=3)]: Done 194 tasks      | elapsed:    0.0s\n",
      "[Parallel(n_jobs=3)]: Done 200 out of 200 | elapsed:    0.0s finished\n",
      "[Parallel(n_jobs=3)]: Using backend ThreadingBackend with 3 concurrent workers.\n",
      "[Parallel(n_jobs=3)]: Done  44 tasks      | elapsed:    0.0s\n",
      "[Parallel(n_jobs=3)]: Done 194 tasks      | elapsed:    0.0s\n",
      "[Parallel(n_jobs=3)]: Done 200 out of 200 | elapsed:    0.0s finished\n",
      "[Parallel(n_jobs=3)]: Using backend ThreadingBackend with 3 concurrent workers.\n",
      "[Parallel(n_jobs=3)]: Done  44 tasks      | elapsed:    0.0s\n",
      "[Parallel(n_jobs=3)]: Done 194 tasks      | elapsed:    0.0s\n",
      "[Parallel(n_jobs=3)]: Done 200 out of 200 | elapsed:    0.0s finished\n",
      "[Parallel(n_jobs=3)]: Using backend ThreadingBackend with 3 concurrent workers.\n",
      "[Parallel(n_jobs=3)]: Done  44 tasks      | elapsed:    0.0s\n",
      "[Parallel(n_jobs=3)]: Done 194 tasks      | elapsed:    0.0s\n",
      "[Parallel(n_jobs=3)]: Done 200 out of 200 | elapsed:    0.0s finished\n",
      "[Parallel(n_jobs=3)]: Using backend ThreadingBackend with 3 concurrent workers.\n",
      "[Parallel(n_jobs=3)]: Done  44 tasks      | elapsed:    0.0s\n",
      "[Parallel(n_jobs=3)]: Done 194 tasks      | elapsed:    0.0s\n",
      "[Parallel(n_jobs=3)]: Done 200 out of 200 | elapsed:    0.0s finished\n",
      "[Parallel(n_jobs=3)]: Using backend ThreadingBackend with 3 concurrent workers.\n",
      "[Parallel(n_jobs=3)]: Done  44 tasks      | elapsed:    0.0s\n",
      "[Parallel(n_jobs=3)]: Done 194 tasks      | elapsed:    0.0s\n",
      "[Parallel(n_jobs=3)]: Done 200 out of 200 | elapsed:    0.0s finished\n",
      "[Parallel(n_jobs=3)]: Using backend ThreadingBackend with 3 concurrent workers.\n",
      "[Parallel(n_jobs=3)]: Done  44 tasks      | elapsed:    0.0s\n",
      "[Parallel(n_jobs=3)]: Done 194 tasks      | elapsed:    0.0s\n",
      "[Parallel(n_jobs=3)]: Done 200 out of 200 | elapsed:    0.0s finished\n",
      "[Parallel(n_jobs=3)]: Using backend ThreadingBackend with 3 concurrent workers.\n",
      "[Parallel(n_jobs=3)]: Done  44 tasks      | elapsed:    0.0s\n",
      "[Parallel(n_jobs=3)]: Done 194 tasks      | elapsed:    0.0s\n"
     ]
    },
    {
     "name": "stdout",
     "output_type": "stream",
     "text": [
      "137 - MultivariateRegression with avg smape 7.07: \n",
      "Model Number: 138 of 190 with model SectionalMotif for Validation 2\n"
     ]
    },
    {
     "name": "stderr",
     "output_type": "stream",
     "text": [
      "[Parallel(n_jobs=3)]: Done 200 out of 200 | elapsed:    0.0s finished\n",
      "[Parallel(n_jobs=3)]: Using backend ThreadingBackend with 3 concurrent workers.\n",
      "[Parallel(n_jobs=3)]: Done  44 tasks      | elapsed:    0.0s\n",
      "[Parallel(n_jobs=3)]: Done 194 tasks      | elapsed:    0.0s\n",
      "[Parallel(n_jobs=3)]: Done 200 out of 200 | elapsed:    0.0s finished\n"
     ]
    },
    {
     "name": "stdout",
     "output_type": "stream",
     "text": [
      "138 - SectionalMotif with avg smape 11.92: \n",
      "Model Number: 139 of 190 with model UnobservedComponents for Validation 2\n",
      "139 - UnobservedComponents with avg smape 13.44: \n",
      "Model Number: 140 of 190 with model AverageValueNaive for Validation 2\n",
      "140 - AverageValueNaive with avg smape 15.24: \n",
      "Model Number: 141 of 190 with model AverageValueNaive for Validation 2\n",
      "141 - AverageValueNaive with avg smape 15.24: \n",
      "Model Number: 142 of 190 with model ARDL for Validation 2\n",
      "142 - ARDL with avg smape 11.14: \n",
      "Model Number: 143 of 190 with model ETS for Validation 2\n",
      "143 - ETS with avg smape 8.75: \n",
      "Model Number: 144 of 190 with model AverageValueNaive for Validation 2\n",
      "144 - AverageValueNaive with avg smape 15.24: \n",
      "Model Number: 145 of 190 with model UnobservedComponents for Validation 2\n",
      "145 - UnobservedComponents with avg smape 13.17: \n",
      "Model Number: 146 of 190 with model UnobservedComponents for Validation 2\n",
      "146 - UnobservedComponents with avg smape 13.17: \n",
      "Model Number: 147 of 190 with model AverageValueNaive for Validation 2\n",
      "147 - AverageValueNaive with avg smape 9.96: \n",
      "Model Number: 148 of 190 with model UnobservedComponents for Validation 2\n",
      "148 - UnobservedComponents with avg smape 12.67: \n",
      "Model Number: 149 of 190 with model UnobservedComponents for Validation 2\n",
      "149 - UnobservedComponents with avg smape 12.67: \n",
      "Model Number: 150 of 190 with model ARDL for Validation 2\n",
      "150 - ARDL with avg smape 11.35: \n",
      "Model Number: 151 of 190 with model ARDL for Validation 2\n",
      "151 - ARDL with avg smape 11.34: \n",
      "Model Number: 152 of 190 with model GLS for Validation 2\n",
      "152 - GLS with avg smape 12.78: \n",
      "Model Number: 153 of 190 with model ARDL for Validation 2\n",
      "153 - ARDL with avg smape 11.27: \n",
      "Model Number: 154 of 190 with model UnobservedComponents for Validation 2\n",
      "154 - UnobservedComponents with avg smape 11.98: \n",
      "Model Number: 155 of 190 with model UnobservedComponents for Validation 2\n",
      "155 - UnobservedComponents with avg smape 11.98: \n",
      "Model Number: 156 of 190 with model UnobservedComponents for Validation 2\n",
      "156 - UnobservedComponents with avg smape 12.66: \n",
      "Model Number: 157 of 190 with model UnobservedComponents for Validation 2\n",
      "157 - UnobservedComponents with avg smape 12.38: \n",
      "Model Number: 158 of 190 with model LastValueNaive for Validation 2\n",
      "158 - LastValueNaive with avg smape 13.29: \n",
      "Model Number: 159 of 190 with model FBProphet for Validation 2\n"
     ]
    },
    {
     "name": "stderr",
     "output_type": "stream",
     "text": [
      "23:15:57 - cmdstanpy - INFO - Chain [1] start processing\n",
      "23:15:57 - cmdstanpy - INFO - Chain [1] done processing\n"
     ]
    },
    {
     "name": "stdout",
     "output_type": "stream",
     "text": [
      "159 - FBProphet with avg smape 18.44: \n",
      "Model Number: 160 of 190 with model LastValueNaive for Validation 2\n",
      "160 - LastValueNaive with avg smape 13.29: \n",
      "Model Number: 161 of 190 with model LastValueNaive for Validation 2\n",
      "161 - LastValueNaive with avg smape 13.29: \n",
      "Model Number: 162 of 190 with model LastValueNaive for Validation 2\n",
      "162 - LastValueNaive with avg smape 13.29: \n",
      "Model Number: 163 of 190 with model AverageValueNaive for Validation 2\n",
      "163 - AverageValueNaive with avg smape 14.62: \n",
      "Model Number: 164 of 190 with model ARDL for Validation 2\n",
      "164 - ARDL with avg smape 13.38: \n",
      "Model Number: 165 of 190 with model LastValueNaive for Validation 2\n",
      "165 - LastValueNaive with avg smape 18.31: \n",
      "Model Number: 166 of 190 with model AverageValueNaive for Validation 2\n",
      "166 - AverageValueNaive with avg smape 13.96: \n",
      "Model Number: 167 of 190 with model GLS for Validation 2\n"
     ]
    },
    {
     "name": "stderr",
     "output_type": "stream",
     "text": [
      "c:\\Python310\\lib\\site-packages\\sklearn\\neural_network\\_multilayer_perceptron.py:692: ConvergenceWarning: Stochastic Optimizer: Maximum iterations (1000) reached and the optimization hasn't converged yet.\n",
      "  warnings.warn(\n"
     ]
    },
    {
     "name": "stdout",
     "output_type": "stream",
     "text": [
      "167 - GLS with avg smape 11.72: \n",
      "Model Number: 168 of 190 with model FBProphet for Validation 2\n"
     ]
    },
    {
     "name": "stderr",
     "output_type": "stream",
     "text": [
      "23:16:01 - cmdstanpy - INFO - Chain [1] start processing\n",
      "23:16:01 - cmdstanpy - INFO - Chain [1] done processing\n"
     ]
    },
    {
     "name": "stdout",
     "output_type": "stream",
     "text": [
      "168 - FBProphet with avg smape 18.41: \n",
      "Model Number: 169 of 190 with model AverageValueNaive for Validation 2\n",
      "169 - AverageValueNaive with avg smape 15.33: \n",
      "Model Number: 170 of 190 with model ARDL for Validation 2\n",
      "170 - ARDL with avg smape 11.75: \n",
      "Model Number: 171 of 190 with model LastValueNaive for Validation 2\n",
      "171 - LastValueNaive with avg smape 12.95: \n",
      "Model Number: 172 of 190 with model GLS for Validation 2\n",
      "172 - GLS with avg smape 12.16: \n",
      "Model Number: 173 of 190 with model LastValueNaive for Validation 2\n",
      "173 - LastValueNaive with avg smape 21.37: \n",
      "Model Number: 174 of 190 with model LastValueNaive for Validation 2\n",
      "174 - LastValueNaive with avg smape 11.89: \n",
      "Model Number: 175 of 190 with model ConstantNaive for Validation 2\n",
      "175 - ConstantNaive with avg smape 12.5: \n",
      "Model Number: 176 of 190 with model FBProphet for Validation 2\n"
     ]
    },
    {
     "name": "stderr",
     "output_type": "stream",
     "text": [
      "23:16:03 - cmdstanpy - INFO - Chain [1] start processing\n",
      "23:16:03 - cmdstanpy - INFO - Chain [1] done processing\n"
     ]
    },
    {
     "name": "stdout",
     "output_type": "stream",
     "text": [
      "176 - FBProphet with avg smape 15.35: \n",
      "Model Number: 177 of 190 with model ConstantNaive for Validation 2\n",
      "177 - ConstantNaive with avg smape 11.9: \n",
      "Model Number: 178 of 190 with model LastValueNaive for Validation 2\n",
      "178 - LastValueNaive with avg smape 12.41: \n",
      "Model Number: 179 of 190 with model FBProphet for Validation 2\n"
     ]
    },
    {
     "name": "stderr",
     "output_type": "stream",
     "text": [
      "23:16:04 - cmdstanpy - INFO - Chain [1] start processing\n",
      "23:16:04 - cmdstanpy - INFO - Chain [1] done processing\n"
     ]
    },
    {
     "name": "stdout",
     "output_type": "stream",
     "text": [
      "179 - FBProphet with avg smape 12.12: \n",
      "Model Number: 180 of 190 with model FBProphet for Validation 2\n"
     ]
    },
    {
     "name": "stderr",
     "output_type": "stream",
     "text": [
      "23:16:05 - cmdstanpy - INFO - Chain [1] start processing\n",
      "23:16:06 - cmdstanpy - INFO - Chain [1] done processing\n"
     ]
    },
    {
     "name": "stdout",
     "output_type": "stream",
     "text": [
      "180 - FBProphet with avg smape 9.69: \n",
      "Model Number: 181 of 190 with model ConstantNaive for Validation 2\n",
      "181 - ConstantNaive with avg smape 13.53: \n",
      "Model Number: 182 of 190 with model GLS for Validation 2\n",
      "182 - GLS with avg smape 12.27: \n",
      "Model Number: 183 of 190 with model GLS for Validation 2\n",
      "183 - GLS with avg smape 15.57: \n",
      "Model Number: 184 of 190 with model FBProphet for Validation 2\n"
     ]
    },
    {
     "name": "stderr",
     "output_type": "stream",
     "text": [
      "23:16:07 - cmdstanpy - INFO - Chain [1] start processing\n",
      "23:16:07 - cmdstanpy - INFO - Chain [1] done processing\n"
     ]
    },
    {
     "name": "stdout",
     "output_type": "stream",
     "text": [
      "184 - FBProphet with avg smape 15.2: \n",
      "Model Number: 185 of 190 with model GLS for Validation 2\n",
      "185 - GLS with avg smape 12.44: \n",
      "Model Number: 186 of 190 with model FBProphet for Validation 2\n",
      "No anomalies detected.\n"
     ]
    },
    {
     "name": "stderr",
     "output_type": "stream",
     "text": [
      "23:16:08 - cmdstanpy - INFO - Chain [1] start processing\n",
      "23:16:08 - cmdstanpy - INFO - Chain [1] done processing\n"
     ]
    },
    {
     "name": "stdout",
     "output_type": "stream",
     "text": [
      "186 - FBProphet with avg smape 19.63: \n",
      "Model Number: 187 of 190 with model GLS for Validation 2\n",
      "187 - GLS with avg smape 13.49: \n",
      "Model Number: 188 of 190 with model GLS for Validation 2\n",
      "188 - GLS with avg smape 12.65: \n",
      "Model Number: 189 of 190 with model FBProphet for Validation 2\n"
     ]
    },
    {
     "name": "stderr",
     "output_type": "stream",
     "text": [
      "23:16:10 - cmdstanpy - INFO - Chain [1] start processing\n",
      "23:16:10 - cmdstanpy - INFO - Chain [1] done processing\n"
     ]
    },
    {
     "name": "stdout",
     "output_type": "stream",
     "text": [
      "189 - FBProphet with avg smape 13.73: \n",
      "Model Number: 190 of 190 with model FBProphet for Validation 2\n"
     ]
    },
    {
     "name": "stderr",
     "output_type": "stream",
     "text": [
      "23:16:11 - cmdstanpy - INFO - Chain [1] start processing\n",
      "23:16:11 - cmdstanpy - INFO - Chain [1] done processing\n"
     ]
    },
    {
     "name": "stdout",
     "output_type": "stream",
     "text": [
      "190 - FBProphet with avg smape 13.73: \n",
      "Validation Round: 3\n",
      "Model Number: 1 of 190 with model Ensemble for Validation 3\n"
     ]
    },
    {
     "name": "stderr",
     "output_type": "stream",
     "text": [
      "c:\\Python310\\lib\\site-packages\\autots\\evaluator\\auto_model.py:939: FutureWarning: iteritems is deprecated and will be removed in a future version. Use .items instead.\n",
      "  for index, value in models_to_iterate.iteritems():\n",
      "c:\\Python310\\lib\\site-packages\\sklearn\\svm\\_base.py:1206: ConvergenceWarning: Liblinear failed to converge, increase the number of iterations.\n",
      "  warnings.warn(\n"
     ]
    },
    {
     "name": "stdout",
     "output_type": "stream",
     "text": [
      "📈 1 - Ensemble with avg smape 2.59: \n",
      "Model Number: 2 of 190 with model ARIMA for Validation 3\n",
      "2 - ARIMA with avg smape 3.11: \n",
      "Model Number: 3 of 190 with model ARIMA for Validation 3\n",
      "3 - ARIMA with avg smape 3.11: \n",
      "Model Number: 4 of 190 with model Ensemble for Validation 3\n"
     ]
    },
    {
     "name": "stderr",
     "output_type": "stream",
     "text": [
      "c:\\Python310\\lib\\site-packages\\autots\\evaluator\\auto_model.py:939: FutureWarning: iteritems is deprecated and will be removed in a future version. Use .items instead.\n",
      "  for index, value in models_to_iterate.iteritems():\n"
     ]
    },
    {
     "name": "stdout",
     "output_type": "stream",
     "text": [
      "4 - Ensemble with avg smape 3.32: \n",
      "Model Number: 5 of 190 with model Ensemble for Validation 3\n"
     ]
    },
    {
     "name": "stderr",
     "output_type": "stream",
     "text": [
      "c:\\Python310\\lib\\site-packages\\autots\\evaluator\\auto_model.py:939: FutureWarning: iteritems is deprecated and will be removed in a future version. Use .items instead.\n",
      "  for index, value in models_to_iterate.iteritems():\n",
      "c:\\Python310\\lib\\site-packages\\sklearn\\svm\\_base.py:1206: ConvergenceWarning: Liblinear failed to converge, increase the number of iterations.\n",
      "  warnings.warn(\n",
      "c:\\Python310\\lib\\site-packages\\autots\\evaluator\\auto_model.py:939: FutureWarning: iteritems is deprecated and will be removed in a future version. Use .items instead.\n",
      "  for index, value in models_to_iterate.iteritems():\n"
     ]
    },
    {
     "name": "stdout",
     "output_type": "stream",
     "text": [
      "📈 5 - Ensemble with avg smape 2.03: \n",
      "Model Number: 6 of 190 with model Ensemble for Validation 3\n",
      "6 - Ensemble with avg smape 3.08: \n",
      "Model Number: 7 of 190 with model ARIMA for Validation 3\n",
      "7 - ARIMA with avg smape 4.11: \n",
      "Model Number: 8 of 190 with model ARIMA for Validation 3\n",
      "8 - ARIMA with avg smape 4.11: \n",
      "Model Number: 9 of 190 with model ARIMA for Validation 3\n",
      "9 - ARIMA with avg smape 3.06: \n",
      "Model Number: 10 of 190 with model ARIMA for Validation 3\n",
      "10 - ARIMA with avg smape 4.2: \n",
      "Model Number: 11 of 190 with model ARIMA for Validation 3\n",
      "11 - ARIMA with avg smape 4.2: \n",
      "Model Number: 12 of 190 with model ARIMA for Validation 3\n",
      "12 - ARIMA with avg smape 4.2: \n",
      "Model Number: 13 of 190 with model Ensemble for Validation 3\n"
     ]
    },
    {
     "name": "stderr",
     "output_type": "stream",
     "text": [
      "c:\\Python310\\lib\\site-packages\\autots\\evaluator\\auto_model.py:939: FutureWarning: iteritems is deprecated and will be removed in a future version. Use .items instead.\n",
      "  for index, value in models_to_iterate.iteritems():\n",
      "c:\\Python310\\lib\\site-packages\\sklearn\\svm\\_base.py:1206: ConvergenceWarning: Liblinear failed to converge, increase the number of iterations.\n",
      "  warnings.warn(\n"
     ]
    },
    {
     "name": "stdout",
     "output_type": "stream",
     "text": [
      "13 - Ensemble with avg smape 2.46: \n",
      "Model Number: 14 of 190 with model ARIMA for Validation 3\n",
      "14 - ARIMA with avg smape 4.66: \n",
      "Model Number: 15 of 190 with model Ensemble for Validation 3\n"
     ]
    },
    {
     "name": "stderr",
     "output_type": "stream",
     "text": [
      "c:\\Python310\\lib\\site-packages\\autots\\evaluator\\auto_model.py:939: FutureWarning: iteritems is deprecated and will be removed in a future version. Use .items instead.\n",
      "  for index, value in models_to_iterate.iteritems():\n"
     ]
    },
    {
     "name": "stdout",
     "output_type": "stream",
     "text": [
      "15 - Ensemble with avg smape 2.58: \n",
      "Model Number: 16 of 190 with model MetricMotif for Validation 3\n"
     ]
    },
    {
     "name": "stderr",
     "output_type": "stream",
     "text": [
      "c:\\Python310\\lib\\site-packages\\sklearn\\svm\\_base.py:1206: ConvergenceWarning: Liblinear failed to converge, increase the number of iterations.\n",
      "  warnings.warn(\n"
     ]
    },
    {
     "name": "stdout",
     "output_type": "stream",
     "text": [
      "16 - MetricMotif with avg smape 2.96: \n",
      "Model Number: 17 of 190 with model WindowRegression for Validation 3\n"
     ]
    },
    {
     "name": "stderr",
     "output_type": "stream",
     "text": [
      "c:\\Python310\\lib\\site-packages\\sklearn\\svm\\_base.py:1206: ConvergenceWarning: Liblinear failed to converge, increase the number of iterations.\n",
      "  warnings.warn(\n"
     ]
    },
    {
     "name": "stdout",
     "output_type": "stream",
     "text": [
      "17 - WindowRegression with avg smape 2.72: \n",
      "Model Number: 18 of 190 with model Ensemble for Validation 3\n"
     ]
    },
    {
     "name": "stderr",
     "output_type": "stream",
     "text": [
      "c:\\Python310\\lib\\site-packages\\autots\\evaluator\\auto_model.py:939: FutureWarning: iteritems is deprecated and will be removed in a future version. Use .items instead.\n",
      "  for index, value in models_to_iterate.iteritems():\n",
      "c:\\Python310\\lib\\site-packages\\sklearn\\linear_model\\_ridge.py:157: LinAlgWarning: Ill-conditioned matrix (rcond=1.5314e-24): result may not be accurate.\n",
      "  return linalg.solve(A, Xy, sym_pos=True, overwrite_a=True).T\n"
     ]
    },
    {
     "name": "stdout",
     "output_type": "stream",
     "text": [
      "📈 18 - Ensemble with avg smape 1.71: \n",
      "Model Number: 19 of 190 with model MultivariateMotif for Validation 3\n",
      "19 - MultivariateMotif with avg smape 4.18: \n",
      "Model Number: 20 of 190 with model WindowRegression for Validation 3\n",
      "20 - WindowRegression with avg smape 2.65: \n",
      "Model Number: 21 of 190 with model MultivariateMotif for Validation 3\n",
      "21 - MultivariateMotif with avg smape 4.59: \n",
      "Model Number: 22 of 190 with model MultivariateMotif for Validation 3\n",
      "22 - MultivariateMotif with avg smape 4.05: \n",
      "Model Number: 23 of 190 with model MultivariateMotif for Validation 3\n",
      "23 - MultivariateMotif with avg smape 4.05: \n",
      "Model Number: 24 of 190 with model MultivariateMotif for Validation 3\n",
      "24 - MultivariateMotif with avg smape 4.05: \n",
      "Model Number: 25 of 190 with model UnivariateMotif for Validation 3\n",
      "25 - UnivariateMotif with avg smape 2.16: \n",
      "Model Number: 26 of 190 with model MetricMotif for Validation 3\n",
      "26 - MetricMotif with avg smape 2.75: \n",
      "Model Number: 27 of 190 with model MultivariateMotif for Validation 3\n",
      "27 - MultivariateMotif with avg smape 5.09: \n",
      "Model Number: 28 of 190 with model WindowRegression for Validation 3\n"
     ]
    },
    {
     "name": "stderr",
     "output_type": "stream",
     "text": [
      "c:\\Python310\\lib\\site-packages\\sklearn\\linear_model\\_coordinate_descent.py:2441: ConvergenceWarning: Objective did not converge. You might want to increase the number of iterations. Duality gap: 88.46972488928441, tolerance: 58.216918112890376\n",
      "  ) = cd_fast.enet_coordinate_descent_multi_task(\n",
      "c:\\Python310\\lib\\site-packages\\autots\\evaluator\\auto_model.py:939: FutureWarning: iteritems is deprecated and will be removed in a future version. Use .items instead.\n",
      "  for index, value in models_to_iterate.iteritems():\n",
      "c:\\Python310\\lib\\site-packages\\sklearn\\linear_model\\_ridge.py:157: LinAlgWarning: Ill-conditioned matrix (rcond=1.5314e-24): result may not be accurate.\n",
      "  return linalg.solve(A, Xy, sym_pos=True, overwrite_a=True).T\n"
     ]
    },
    {
     "name": "stdout",
     "output_type": "stream",
     "text": [
      "28 - WindowRegression with avg smape 4.23: \n",
      "Model Number: 29 of 190 with model Ensemble for Validation 3\n",
      "29 - Ensemble with avg smape 2.79: \n",
      "Model Number: 30 of 190 with model MetricMotif for Validation 3\n",
      "30 - MetricMotif with avg smape 7.05: \n",
      "Model Number: 31 of 190 with model WindowRegression for Validation 3\n",
      "31 - WindowRegression with avg smape 1.8: \n",
      "Model Number: 32 of 190 with model MetricMotif for Validation 3\n",
      "32 - MetricMotif with avg smape 8.34: \n",
      "Model Number: 33 of 190 with model MetricMotif for Validation 3\n",
      "33 - MetricMotif with avg smape 7.35: \n",
      "Model Number: 34 of 190 with model MetricMotif for Validation 3\n",
      "34 - MetricMotif with avg smape 7.05: \n",
      "Model Number: 35 of 190 with model MetricMotif for Validation 3\n",
      "35 - MetricMotif with avg smape 8.44: \n",
      "Model Number: 36 of 190 with model WindowRegression for Validation 3\n",
      "36 - WindowRegression with avg smape 16.69: \n",
      "Model Number: 37 of 190 with model WindowRegression for Validation 3\n"
     ]
    },
    {
     "name": "stderr",
     "output_type": "stream",
     "text": [
      "c:\\Python310\\lib\\site-packages\\sklearn\\neural_network\\_multilayer_perceptron.py:549: ConvergenceWarning: lbfgs failed to converge (status=1):\n",
      "STOP: TOTAL NO. of ITERATIONS REACHED LIMIT.\n",
      "\n",
      "Increase the number of iterations (max_iter) or scale the data as shown in:\n",
      "    https://scikit-learn.org/stable/modules/preprocessing.html\n",
      "  self.n_iter_ = _check_optimize_result(\"lbfgs\", opt_res, self.max_iter)\n"
     ]
    },
    {
     "name": "stdout",
     "output_type": "stream",
     "text": [
      "37 - WindowRegression with avg smape 7.28: \n",
      "Model Number: 38 of 190 with model WindowRegression for Validation 3\n",
      "38 - WindowRegression with avg smape 7.28: \n",
      "Model Number: 39 of 190 with model MetricMotif for Validation 3\n",
      "39 - MetricMotif with avg smape 7.66: \n",
      "Model Number: 40 of 190 with model UnivariateRegression for Validation 3\n"
     ]
    },
    {
     "name": "stderr",
     "output_type": "stream",
     "text": [
      "c:\\Python310\\lib\\site-packages\\sklearn\\neural_network\\_multilayer_perceptron.py:549: ConvergenceWarning: lbfgs failed to converge (status=1):\n",
      "STOP: TOTAL NO. of ITERATIONS REACHED LIMIT.\n",
      "\n",
      "Increase the number of iterations (max_iter) or scale the data as shown in:\n",
      "    https://scikit-learn.org/stable/modules/preprocessing.html\n",
      "  self.n_iter_ = _check_optimize_result(\"lbfgs\", opt_res, self.max_iter)\n",
      "c:\\Python310\\lib\\site-packages\\sklearn\\linear_model\\_ridge.py:157: LinAlgWarning: Ill-conditioned matrix (rcond=1.5314e-24): result may not be accurate.\n",
      "  return linalg.solve(A, Xy, sym_pos=True, overwrite_a=True).T\n"
     ]
    },
    {
     "name": "stdout",
     "output_type": "stream",
     "text": [
      "40 - UnivariateRegression with avg smape 3.21: \n",
      "Model Number: 41 of 190 with model MetricMotif for Validation 3\n",
      "41 - MetricMotif with avg smape 9.04: \n",
      "Model Number: 42 of 190 with model WindowRegression for Validation 3\n",
      "42 - WindowRegression with avg smape 5.69: \n",
      "Model Number: 43 of 190 with model WindowRegression for Validation 3\n",
      "43 - WindowRegression with avg smape 5.69: \n",
      "Model Number: 44 of 190 with model MultivariateMotif for Validation 3\n",
      "44 - MultivariateMotif with avg smape 6.1: \n",
      "Model Number: 45 of 190 with model NVAR for Validation 3\n",
      "45 - NVAR with avg smape 4.58: \n",
      "Model Number: 46 of 190 with model NVAR for Validation 3\n",
      "46 - NVAR with avg smape 4.58: \n",
      "Model Number: 47 of 190 with model Theta for Validation 3\n",
      "47 - Theta with avg smape 5.61: \n",
      "Model Number: 48 of 190 with model UnivariateMotif for Validation 3\n",
      "48 - UnivariateMotif with avg smape 5.66: \n",
      "Model Number: 49 of 190 with model UnivariateMotif for Validation 3\n",
      "49 - UnivariateMotif with avg smape 5.18: \n",
      "Model Number: 50 of 190 with model UnivariateMotif for Validation 3\n",
      "50 - UnivariateMotif with avg smape 5.33: \n",
      "Model Number: 51 of 190 with model UnivariateMotif for Validation 3\n",
      "51 - UnivariateMotif with avg smape 5.33: \n",
      "Model Number: 52 of 190 with model Theta for Validation 3\n",
      "52 - Theta with avg smape 5.89: \n",
      "Model Number: 53 of 190 with model UnivariateMotif for Validation 3\n",
      "53 - UnivariateMotif with avg smape 6.25: \n",
      "Model Number: 54 of 190 with model Theta for Validation 3\n",
      "54 - Theta with avg smape 5.83: \n",
      "Model Number: 55 of 190 with model Theta for Validation 3\n",
      "55 - Theta with avg smape 5.83: \n",
      "Model Number: 56 of 190 with model GLM for Validation 3\n",
      "56 - GLM with avg smape 14.66: \n",
      "Model Number: 57 of 190 with model GLM for Validation 3\n",
      "57 - GLM with avg smape 14.66: \n",
      "Model Number: 58 of 190 with model GLM for Validation 3\n",
      "58 - GLM with avg smape 14.66: \n",
      "Model Number: 59 of 190 with model UnivariateMotif for Validation 3\n",
      "59 - UnivariateMotif with avg smape 6.41: \n",
      "Model Number: 60 of 190 with model UnivariateMotif for Validation 3\n",
      "60 - UnivariateMotif with avg smape 6.41: \n",
      "Model Number: 61 of 190 with model UnivariateMotif for Validation 3\n",
      "61 - UnivariateMotif with avg smape 6.19: \n",
      "Model Number: 62 of 190 with model MultivariateMotif for Validation 3\n",
      "62 - MultivariateMotif with avg smape 9.84: \n",
      "Model Number: 63 of 190 with model MultivariateMotif for Validation 3\n",
      "63 - MultivariateMotif with avg smape 3.89: \n",
      "Model Number: 64 of 190 with model DatepartRegression for Validation 3\n",
      "64 - DatepartRegression with avg smape 5.72: \n",
      "Model Number: 65 of 190 with model NVAR for Validation 3\n",
      "65 - NVAR with avg smape 13.0: \n",
      "Model Number: 66 of 190 with model Theta for Validation 3\n",
      "66 - Theta with avg smape 6.83: \n",
      "Model Number: 67 of 190 with model Theta for Validation 3\n",
      "67 - Theta with avg smape 6.83: \n",
      "Model Number: 68 of 190 with model Theta for Validation 3\n",
      "68 - Theta with avg smape 6.83: \n",
      "Model Number: 69 of 190 with model Theta for Validation 3\n",
      "69 - Theta with avg smape 5.38: \n",
      "Model Number: 70 of 190 with model Theta for Validation 3\n",
      "70 - Theta with avg smape 6.81: \n",
      "Model Number: 71 of 190 with model UnivariateRegression for Validation 3\n",
      "71 - UnivariateRegression with avg smape 4.01: \n",
      "Model Number: 72 of 190 with model GLM for Validation 3\n"
     ]
    },
    {
     "name": "stderr",
     "output_type": "stream",
     "text": [
      "c:\\Python310\\lib\\site-packages\\sklearn\\linear_model\\_ridge.py:157: LinAlgWarning: Ill-conditioned matrix (rcond=1.53061e-24): result may not be accurate.\n",
      "  return linalg.solve(A, Xy, sym_pos=True, overwrite_a=True).T\n"
     ]
    },
    {
     "name": "stdout",
     "output_type": "stream",
     "text": [
      "72 - GLM with avg smape 3.86: \n",
      "Model Number: 73 of 190 with model UnivariateRegression for Validation 3\n",
      "73 - UnivariateRegression with avg smape 4.23: \n",
      "Model Number: 74 of 190 with model UnivariateRegression for Validation 3\n"
     ]
    },
    {
     "name": "stderr",
     "output_type": "stream",
     "text": [
      "c:\\Python310\\lib\\site-packages\\sklearn\\linear_model\\_ridge.py:157: LinAlgWarning: Ill-conditioned matrix (rcond=1.52935e-24): result may not be accurate.\n",
      "  return linalg.solve(A, Xy, sym_pos=True, overwrite_a=True).T\n",
      "c:\\Python310\\lib\\site-packages\\sklearn\\linear_model\\_ridge.py:157: LinAlgWarning: Ill-conditioned matrix (rcond=1.52937e-24): result may not be accurate.\n",
      "  return linalg.solve(A, Xy, sym_pos=True, overwrite_a=True).T\n"
     ]
    },
    {
     "name": "stdout",
     "output_type": "stream",
     "text": [
      "74 - UnivariateRegression with avg smape 3.71: \n",
      "Model Number: 75 of 190 with model UnivariateRegression for Validation 3\n",
      "75 - UnivariateRegression with avg smape 3.98: \n",
      "Model Number: 76 of 190 with model MultivariateRegression for Validation 3\n"
     ]
    },
    {
     "name": "stderr",
     "output_type": "stream",
     "text": [
      "[Parallel(n_jobs=-2)]: Using backend ThreadingBackend with 3 concurrent workers.\n",
      "[Parallel(n_jobs=-2)]: Done  44 tasks      | elapsed:    0.0s\n",
      "[Parallel(n_jobs=-2)]: Done 194 tasks      | elapsed:    0.3s\n",
      "[Parallel(n_jobs=-2)]: Done 200 out of 200 | elapsed:    0.3s finished\n",
      "[Parallel(n_jobs=3)]: Using backend ThreadingBackend with 3 concurrent workers.\n",
      "[Parallel(n_jobs=3)]: Done  44 tasks      | elapsed:    0.0s\n",
      "[Parallel(n_jobs=3)]: Done 194 tasks      | elapsed:    0.0s\n",
      "[Parallel(n_jobs=3)]: Done 200 out of 200 | elapsed:    0.0s finished\n",
      "[Parallel(n_jobs=3)]: Using backend ThreadingBackend with 3 concurrent workers.\n",
      "[Parallel(n_jobs=3)]: Done  44 tasks      | elapsed:    0.0s\n",
      "[Parallel(n_jobs=3)]: Done 194 tasks      | elapsed:    0.0s\n",
      "[Parallel(n_jobs=3)]: Done 200 out of 200 | elapsed:    0.0s finished\n",
      "[Parallel(n_jobs=3)]: Using backend ThreadingBackend with 3 concurrent workers.\n",
      "[Parallel(n_jobs=3)]: Done  44 tasks      | elapsed:    0.0s\n",
      "[Parallel(n_jobs=3)]: Done 194 tasks      | elapsed:    0.0s\n",
      "[Parallel(n_jobs=3)]: Done 200 out of 200 | elapsed:    0.0s finished\n",
      "[Parallel(n_jobs=3)]: Using backend ThreadingBackend with 3 concurrent workers.\n",
      "[Parallel(n_jobs=3)]: Done  44 tasks      | elapsed:    0.0s\n",
      "[Parallel(n_jobs=3)]: Done 194 tasks      | elapsed:    0.0s\n",
      "[Parallel(n_jobs=3)]: Done 200 out of 200 | elapsed:    0.0s finished\n",
      "[Parallel(n_jobs=3)]: Using backend ThreadingBackend with 3 concurrent workers.\n",
      "[Parallel(n_jobs=3)]: Done  44 tasks      | elapsed:    0.0s\n",
      "[Parallel(n_jobs=3)]: Done 194 tasks      | elapsed:    0.0s\n",
      "[Parallel(n_jobs=3)]: Done 200 out of 200 | elapsed:    0.0s finished\n",
      "[Parallel(n_jobs=3)]: Using backend ThreadingBackend with 3 concurrent workers.\n",
      "[Parallel(n_jobs=3)]: Done  44 tasks      | elapsed:    0.0s\n",
      "[Parallel(n_jobs=3)]: Done 194 tasks      | elapsed:    0.0s\n",
      "[Parallel(n_jobs=3)]: Done 200 out of 200 | elapsed:    0.0s finished\n",
      "[Parallel(n_jobs=3)]: Using backend ThreadingBackend with 3 concurrent workers.\n",
      "[Parallel(n_jobs=3)]: Done  44 tasks      | elapsed:    0.0s\n",
      "[Parallel(n_jobs=3)]: Done 194 tasks      | elapsed:    0.1s\n",
      "[Parallel(n_jobs=3)]: Done 200 out of 200 | elapsed:    0.1s finished\n",
      "[Parallel(n_jobs=3)]: Using backend ThreadingBackend with 3 concurrent workers.\n",
      "[Parallel(n_jobs=3)]: Done  44 tasks      | elapsed:    0.0s\n",
      "[Parallel(n_jobs=3)]: Done 194 tasks      | elapsed:    0.0s\n",
      "[Parallel(n_jobs=3)]: Done 200 out of 200 | elapsed:    0.0s finished\n",
      "[Parallel(n_jobs=3)]: Using backend ThreadingBackend with 3 concurrent workers.\n",
      "[Parallel(n_jobs=3)]: Done  44 tasks      | elapsed:    0.0s\n",
      "[Parallel(n_jobs=3)]: Done 194 tasks      | elapsed:    0.0s\n",
      "[Parallel(n_jobs=3)]: Done 200 out of 200 | elapsed:    0.0s finished\n",
      "[Parallel(n_jobs=3)]: Using backend ThreadingBackend with 3 concurrent workers.\n",
      "[Parallel(n_jobs=3)]: Done  44 tasks      | elapsed:    0.0s\n",
      "[Parallel(n_jobs=3)]: Done 194 tasks      | elapsed:    0.0s\n",
      "[Parallel(n_jobs=3)]: Done 200 out of 200 | elapsed:    0.0s finished\n",
      "[Parallel(n_jobs=3)]: Using backend ThreadingBackend with 3 concurrent workers.\n",
      "[Parallel(n_jobs=3)]: Done  44 tasks      | elapsed:    0.0s\n",
      "[Parallel(n_jobs=3)]: Done 194 tasks      | elapsed:    0.0s\n",
      "[Parallel(n_jobs=3)]: Done 200 out of 200 | elapsed:    0.0s finished\n",
      "[Parallel(n_jobs=3)]: Using backend ThreadingBackend with 3 concurrent workers.\n",
      "[Parallel(n_jobs=3)]: Done  44 tasks      | elapsed:    0.0s\n",
      "[Parallel(n_jobs=3)]: Done 194 tasks      | elapsed:    0.0s\n",
      "[Parallel(n_jobs=3)]: Done 200 out of 200 | elapsed:    0.0s finished\n"
     ]
    },
    {
     "name": "stdout",
     "output_type": "stream",
     "text": [
      "76 - MultivariateRegression with avg smape 15.33: \n",
      "Model Number: 77 of 190 with model MultivariateRegression for Validation 3\n",
      "77 - MultivariateRegression with avg smape 11.98: \n",
      "Model Number: 78 of 190 with model UnivariateRegression for Validation 3\n",
      "78 - UnivariateRegression with avg smape 4.39: \n",
      "Model Number: 79 of 190 with model UnivariateRegression for Validation 3\n"
     ]
    },
    {
     "name": "stderr",
     "output_type": "stream",
     "text": [
      "c:\\Python310\\lib\\site-packages\\sklearn\\linear_model\\_ridge.py:157: LinAlgWarning: Ill-conditioned matrix (rcond=1.53008e-24): result may not be accurate.\n",
      "  return linalg.solve(A, Xy, sym_pos=True, overwrite_a=True).T\n",
      "c:\\Python310\\lib\\site-packages\\sklearn\\linear_model\\_ridge.py:157: LinAlgWarning: Ill-conditioned matrix (rcond=1.53005e-24): result may not be accurate.\n",
      "  return linalg.solve(A, Xy, sym_pos=True, overwrite_a=True).T\n"
     ]
    },
    {
     "name": "stdout",
     "output_type": "stream",
     "text": [
      "79 - UnivariateRegression with avg smape 4.14: \n",
      "Model Number: 80 of 190 with model SectionalMotif for Validation 3\n",
      "80 - SectionalMotif with avg smape 5.35: \n",
      "Model Number: 81 of 190 with model SectionalMotif for Validation 3\n",
      "81 - SectionalMotif with avg smape 6.27: \n",
      "Model Number: 82 of 190 with model NVAR for Validation 3\n",
      "82 - NVAR with avg smape 16.32: \n",
      "Model Number: 83 of 190 with model NVAR for Validation 3\n",
      "83 - NVAR with avg smape 16.32: \n",
      "Model Number: 84 of 190 with model NVAR for Validation 3\n",
      "84 - NVAR with avg smape 16.7: \n",
      "Model Number: 85 of 190 with model MultivariateRegression for Validation 3\n",
      "85 - MultivariateRegression with avg smape 8.06: \n",
      "Model Number: 86 of 190 with model GLM for Validation 3\n",
      "86 - GLM with avg smape 6.38: \n",
      "Model Number: 87 of 190 with model UnivariateRegression for Validation 3\n",
      "87 - UnivariateRegression with avg smape 5.99: \n",
      "Model Number: 88 of 190 with model GLM for Validation 3\n"
     ]
    },
    {
     "name": "stderr",
     "output_type": "stream",
     "text": [
      "c:\\Python310\\lib\\site-packages\\sklearn\\linear_model\\_ridge.py:157: LinAlgWarning: Ill-conditioned matrix (rcond=1.5308e-24): result may not be accurate.\n",
      "  return linalg.solve(A, Xy, sym_pos=True, overwrite_a=True).T\n"
     ]
    },
    {
     "name": "stdout",
     "output_type": "stream",
     "text": [
      "88 - GLM with avg smape 6.38: \n",
      "Model Number: 89 of 190 with model GLM for Validation 3\n",
      "89 - GLM with avg smape 6.38: \n",
      "Model Number: 90 of 190 with model DatepartRegression for Validation 3\n",
      "90 - DatepartRegression with avg smape 7.19: \n",
      "Model Number: 91 of 190 with model GLM for Validation 3\n",
      "91 - GLM with avg smape 17.8: \n",
      "Model Number: 92 of 190 with model UnivariateRegression for Validation 3\n",
      "92 - UnivariateRegression with avg smape 9.69: \n",
      "Model Number: 93 of 190 with model DatepartRegression for Validation 3\n"
     ]
    },
    {
     "name": "stderr",
     "output_type": "stream",
     "text": [
      "[Parallel(n_jobs=-2)]: Using backend ThreadingBackend with 3 concurrent workers.\n",
      "[Parallel(n_jobs=-2)]: Done  44 tasks      | elapsed:    0.0s\n",
      "[Parallel(n_jobs=-2)]: Done 100 out of 100 | elapsed:    0.1s finished\n",
      "[Parallel(n_jobs=3)]: Using backend ThreadingBackend with 3 concurrent workers.\n",
      "[Parallel(n_jobs=3)]: Done  44 tasks      | elapsed:    0.0s\n",
      "[Parallel(n_jobs=3)]: Done 100 out of 100 | elapsed:    0.0s finished\n"
     ]
    },
    {
     "name": "stdout",
     "output_type": "stream",
     "text": [
      "93 - DatepartRegression with avg smape 7.81: \n",
      "Model Number: 94 of 190 with model GLM for Validation 3\n",
      "94 - GLM with avg smape 3.4: \n",
      "Model Number: 95 of 190 with model SeasonalNaive for Validation 3\n",
      "95 - SeasonalNaive with avg smape 5.92: \n",
      "Model Number: 96 of 190 with model DatepartRegression for Validation 3\n"
     ]
    },
    {
     "name": "stderr",
     "output_type": "stream",
     "text": [
      "[Parallel(n_jobs=-2)]: Using backend ThreadingBackend with 3 concurrent workers.\n",
      "[Parallel(n_jobs=-2)]: Done  44 tasks      | elapsed:    0.0s\n",
      "[Parallel(n_jobs=-2)]: Done 194 tasks      | elapsed:    0.2s\n",
      "[Parallel(n_jobs=-2)]: Done 444 tasks      | elapsed:    0.7s\n",
      "[Parallel(n_jobs=-2)]: Done 794 tasks      | elapsed:    1.3s\n",
      "[Parallel(n_jobs=-2)]: Done 1000 out of 1000 | elapsed:    1.7s finished\n",
      "[Parallel(n_jobs=3)]: Using backend ThreadingBackend with 3 concurrent workers.\n",
      "[Parallel(n_jobs=3)]: Done  44 tasks      | elapsed:    0.0s\n",
      "[Parallel(n_jobs=3)]: Done 194 tasks      | elapsed:    0.0s\n",
      "[Parallel(n_jobs=3)]: Done 444 tasks      | elapsed:    0.0s\n",
      "[Parallel(n_jobs=3)]: Done 794 tasks      | elapsed:    0.1s\n",
      "[Parallel(n_jobs=3)]: Done 1000 out of 1000 | elapsed:    0.1s finished\n"
     ]
    },
    {
     "name": "stdout",
     "output_type": "stream",
     "text": [
      "96 - DatepartRegression with avg smape 7.46: \n",
      "Model Number: 97 of 190 with model DatepartRegression for Validation 3\n"
     ]
    },
    {
     "name": "stderr",
     "output_type": "stream",
     "text": [
      "[Parallel(n_jobs=-2)]: Using backend ThreadingBackend with 3 concurrent workers.\n",
      "[Parallel(n_jobs=-2)]: Done  44 tasks      | elapsed:    0.0s\n",
      "[Parallel(n_jobs=-2)]: Done 194 tasks      | elapsed:    0.2s\n",
      "[Parallel(n_jobs=-2)]: Done 444 tasks      | elapsed:    0.7s\n",
      "[Parallel(n_jobs=-2)]: Done 794 tasks      | elapsed:    1.4s\n",
      "[Parallel(n_jobs=-2)]: Done 1000 out of 1000 | elapsed:    1.7s finished\n",
      "[Parallel(n_jobs=3)]: Using backend ThreadingBackend with 3 concurrent workers.\n",
      "[Parallel(n_jobs=3)]: Done  44 tasks      | elapsed:    0.0s\n",
      "[Parallel(n_jobs=3)]: Done 194 tasks      | elapsed:    0.0s\n",
      "[Parallel(n_jobs=3)]: Done 444 tasks      | elapsed:    0.0s\n",
      "[Parallel(n_jobs=3)]: Done 794 tasks      | elapsed:    0.1s\n"
     ]
    },
    {
     "name": "stdout",
     "output_type": "stream",
     "text": [
      "97 - DatepartRegression with avg smape 7.45: \n",
      "Model Number: 98 of 190 with model SectionalMotif for Validation 3\n",
      "98 - SectionalMotif with avg smape 8.51: \n",
      "Model Number: 99 of 190 with model SectionalMotif for Validation 3\n"
     ]
    },
    {
     "name": "stderr",
     "output_type": "stream",
     "text": [
      "[Parallel(n_jobs=3)]: Done 1000 out of 1000 | elapsed:    0.1s finished\n"
     ]
    },
    {
     "name": "stdout",
     "output_type": "stream",
     "text": [
      "99 - SectionalMotif with avg smape 7.52: \n",
      "Model Number: 100 of 190 with model MultivariateRegression for Validation 3\n",
      "100 - MultivariateRegression with avg smape 19.08: \n",
      "Model Number: 101 of 190 with model NVAR for Validation 3\n",
      "101 - NVAR with avg smape 11.45: \n",
      "Model Number: 102 of 190 with model NVAR for Validation 3\n",
      "102 - NVAR with avg smape 11.45: \n",
      "Model Number: 103 of 190 with model DatepartRegression for Validation 3\n",
      "103 - DatepartRegression with avg smape 7.72: \n",
      "Model Number: 104 of 190 with model SeasonalNaive for Validation 3\n",
      "104 - SeasonalNaive with avg smape 5.13: \n",
      "Model Number: 105 of 190 with model MultivariateRegression for Validation 3\n"
     ]
    },
    {
     "name": "stderr",
     "output_type": "stream",
     "text": [
      "[Parallel(n_jobs=-2)]: Using backend ThreadingBackend with 3 concurrent workers.\n",
      "[Parallel(n_jobs=-2)]: Done  44 tasks      | elapsed:    0.0s\n",
      "[Parallel(n_jobs=-2)]: Done 194 tasks      | elapsed:    0.3s\n",
      "[Parallel(n_jobs=-2)]: Done 200 out of 200 | elapsed:    0.3s finished\n",
      "[Parallel(n_jobs=3)]: Using backend ThreadingBackend with 3 concurrent workers.\n",
      "[Parallel(n_jobs=3)]: Done  44 tasks      | elapsed:    0.0s\n",
      "[Parallel(n_jobs=3)]: Done 194 tasks      | elapsed:    0.0s\n",
      "[Parallel(n_jobs=3)]: Done 200 out of 200 | elapsed:    0.0s finished\n",
      "[Parallel(n_jobs=3)]: Using backend ThreadingBackend with 3 concurrent workers.\n",
      "[Parallel(n_jobs=3)]: Done  44 tasks      | elapsed:    0.0s\n",
      "[Parallel(n_jobs=3)]: Done 194 tasks      | elapsed:    0.0s\n",
      "[Parallel(n_jobs=3)]: Done 200 out of 200 | elapsed:    0.0s finished\n",
      "[Parallel(n_jobs=3)]: Using backend ThreadingBackend with 3 concurrent workers.\n",
      "[Parallel(n_jobs=3)]: Done  44 tasks      | elapsed:    0.0s\n",
      "[Parallel(n_jobs=3)]: Done 194 tasks      | elapsed:    0.0s\n",
      "[Parallel(n_jobs=3)]: Done 200 out of 200 | elapsed:    0.0s finished\n",
      "[Parallel(n_jobs=3)]: Using backend ThreadingBackend with 3 concurrent workers.\n",
      "[Parallel(n_jobs=3)]: Done  44 tasks      | elapsed:    0.0s\n",
      "[Parallel(n_jobs=3)]: Done 194 tasks      | elapsed:    0.0s\n",
      "[Parallel(n_jobs=3)]: Done 200 out of 200 | elapsed:    0.0s finished\n",
      "[Parallel(n_jobs=3)]: Using backend ThreadingBackend with 3 concurrent workers.\n",
      "[Parallel(n_jobs=3)]: Done  44 tasks      | elapsed:    0.0s\n",
      "[Parallel(n_jobs=3)]: Done 194 tasks      | elapsed:    0.0s\n",
      "[Parallel(n_jobs=3)]: Done 200 out of 200 | elapsed:    0.0s finished\n",
      "[Parallel(n_jobs=3)]: Using backend ThreadingBackend with 3 concurrent workers.\n",
      "[Parallel(n_jobs=3)]: Done  44 tasks      | elapsed:    0.0s\n",
      "[Parallel(n_jobs=3)]: Done 194 tasks      | elapsed:    0.0s\n",
      "[Parallel(n_jobs=3)]: Done 200 out of 200 | elapsed:    0.0s finished\n",
      "[Parallel(n_jobs=3)]: Using backend ThreadingBackend with 3 concurrent workers.\n",
      "[Parallel(n_jobs=3)]: Done  44 tasks      | elapsed:    0.0s\n",
      "[Parallel(n_jobs=3)]: Done 194 tasks      | elapsed:    0.0s\n",
      "[Parallel(n_jobs=3)]: Done 200 out of 200 | elapsed:    0.0s finished\n",
      "[Parallel(n_jobs=3)]: Using backend ThreadingBackend with 3 concurrent workers.\n",
      "[Parallel(n_jobs=3)]: Done  44 tasks      | elapsed:    0.0s\n",
      "[Parallel(n_jobs=3)]: Done 194 tasks      | elapsed:    0.0s\n",
      "[Parallel(n_jobs=3)]: Done 200 out of 200 | elapsed:    0.0s finished\n",
      "[Parallel(n_jobs=3)]: Using backend ThreadingBackend with 3 concurrent workers.\n",
      "[Parallel(n_jobs=3)]: Done  44 tasks      | elapsed:    0.0s\n",
      "[Parallel(n_jobs=3)]: Done 194 tasks      | elapsed:    0.0s\n",
      "[Parallel(n_jobs=3)]: Done 200 out of 200 | elapsed:    0.0s finished\n",
      "[Parallel(n_jobs=3)]: Using backend ThreadingBackend with 3 concurrent workers.\n",
      "[Parallel(n_jobs=3)]: Done  44 tasks      | elapsed:    0.0s\n",
      "[Parallel(n_jobs=3)]: Done 194 tasks      | elapsed:    0.0s\n",
      "[Parallel(n_jobs=3)]: Done 200 out of 200 | elapsed:    0.0s finished\n",
      "[Parallel(n_jobs=3)]: Using backend ThreadingBackend with 3 concurrent workers.\n",
      "[Parallel(n_jobs=3)]: Done  44 tasks      | elapsed:    0.0s\n",
      "[Parallel(n_jobs=3)]: Done 194 tasks      | elapsed:    0.0s\n",
      "[Parallel(n_jobs=3)]: Done 200 out of 200 | elapsed:    0.0s finished\n",
      "[Parallel(n_jobs=3)]: Using backend ThreadingBackend with 3 concurrent workers.\n",
      "[Parallel(n_jobs=3)]: Done  44 tasks      | elapsed:    0.1s\n",
      "[Parallel(n_jobs=3)]: Done 194 tasks      | elapsed:    0.1s\n",
      "[Parallel(n_jobs=3)]: Done 200 out of 200 | elapsed:    0.1s finished\n"
     ]
    },
    {
     "name": "stdout",
     "output_type": "stream",
     "text": [
      "105 - MultivariateRegression with avg smape 22.91: \n",
      "Model Number: 106 of 190 with model ETS for Validation 3\n",
      "106 - ETS with avg smape 5.62: \n",
      "Model Number: 107 of 190 with model SeasonalNaive for Validation 3\n",
      "107 - SeasonalNaive with avg smape 5.13: \n",
      "Model Number: 108 of 190 with model SectionalMotif for Validation 3\n",
      "108 - SectionalMotif with avg smape 7.19: \n",
      "Model Number: 109 of 190 with model DatepartRegression for Validation 3\n",
      "109 - DatepartRegression with avg smape 12.34: \n",
      "Model Number: 110 of 190 with model SeasonalNaive for Validation 3\n",
      "110 - SeasonalNaive with avg smape 8.25: \n",
      "Model Number: 111 of 190 with model SectionalMotif for Validation 3\n",
      "111 - SectionalMotif with avg smape 7.89: \n",
      "Model Number: 112 of 190 with model ETS for Validation 3\n",
      "112 - ETS with avg smape 8.66: \n",
      "Model Number: 113 of 190 with model SectionalMotif for Validation 3\n",
      "113 - SectionalMotif with avg smape 9.45: \n",
      "Model Number: 114 of 190 with model DatepartRegression for Validation 3\n",
      "114 - DatepartRegression with avg smape 12.21: \n",
      "Model Number: 115 of 190 with model SectionalMotif for Validation 3\n",
      "115 - SectionalMotif with avg smape 7.9: \n",
      "Model Number: 116 of 190 with model MultivariateRegression for Validation 3\n"
     ]
    },
    {
     "name": "stderr",
     "output_type": "stream",
     "text": [
      "[Parallel(n_jobs=-2)]: Using backend ThreadingBackend with 3 concurrent workers.\n",
      "[Parallel(n_jobs=-2)]: Done  44 tasks      | elapsed:    0.0s\n",
      "[Parallel(n_jobs=-2)]: Done 194 tasks      | elapsed:    0.2s\n",
      "[Parallel(n_jobs=-2)]: Done 200 out of 200 | elapsed:    0.3s finished\n",
      "[Parallel(n_jobs=3)]: Using backend ThreadingBackend with 3 concurrent workers.\n",
      "[Parallel(n_jobs=3)]: Done  44 tasks      | elapsed:    0.0s\n",
      "[Parallel(n_jobs=3)]: Done 194 tasks      | elapsed:    0.0s\n",
      "[Parallel(n_jobs=3)]: Done 200 out of 200 | elapsed:    0.0s finished\n",
      "[Parallel(n_jobs=3)]: Using backend ThreadingBackend with 3 concurrent workers.\n",
      "[Parallel(n_jobs=3)]: Done  44 tasks      | elapsed:    0.0s\n",
      "[Parallel(n_jobs=3)]: Done 194 tasks      | elapsed:    0.0s\n",
      "[Parallel(n_jobs=3)]: Done 200 out of 200 | elapsed:    0.0s finished\n",
      "[Parallel(n_jobs=3)]: Using backend ThreadingBackend with 3 concurrent workers.\n",
      "[Parallel(n_jobs=3)]: Done  44 tasks      | elapsed:    0.0s\n",
      "[Parallel(n_jobs=3)]: Done 194 tasks      | elapsed:    0.0s\n",
      "[Parallel(n_jobs=3)]: Done 200 out of 200 | elapsed:    0.0s finished\n",
      "[Parallel(n_jobs=3)]: Using backend ThreadingBackend with 3 concurrent workers.\n",
      "[Parallel(n_jobs=3)]: Done  44 tasks      | elapsed:    0.0s\n",
      "[Parallel(n_jobs=3)]: Done 194 tasks      | elapsed:    0.0s\n",
      "[Parallel(n_jobs=3)]: Done 200 out of 200 | elapsed:    0.0s finished\n",
      "[Parallel(n_jobs=3)]: Using backend ThreadingBackend with 3 concurrent workers.\n",
      "[Parallel(n_jobs=3)]: Done  44 tasks      | elapsed:    0.0s\n",
      "[Parallel(n_jobs=3)]: Done 194 tasks      | elapsed:    0.0s\n",
      "[Parallel(n_jobs=3)]: Done 200 out of 200 | elapsed:    0.0s finished\n",
      "[Parallel(n_jobs=3)]: Using backend ThreadingBackend with 3 concurrent workers.\n",
      "[Parallel(n_jobs=3)]: Done  44 tasks      | elapsed:    0.0s\n",
      "[Parallel(n_jobs=3)]: Done 194 tasks      | elapsed:    0.0s\n",
      "[Parallel(n_jobs=3)]: Done 200 out of 200 | elapsed:    0.0s finished\n",
      "[Parallel(n_jobs=3)]: Using backend ThreadingBackend with 3 concurrent workers.\n",
      "[Parallel(n_jobs=3)]: Done  44 tasks      | elapsed:    0.0s\n",
      "[Parallel(n_jobs=3)]: Done 194 tasks      | elapsed:    0.0s\n",
      "[Parallel(n_jobs=3)]: Done 200 out of 200 | elapsed:    0.0s finished\n",
      "[Parallel(n_jobs=3)]: Using backend ThreadingBackend with 3 concurrent workers.\n",
      "[Parallel(n_jobs=3)]: Done  44 tasks      | elapsed:    0.0s\n",
      "[Parallel(n_jobs=3)]: Done 194 tasks      | elapsed:    0.0s\n",
      "[Parallel(n_jobs=3)]: Done 200 out of 200 | elapsed:    0.0s finished\n",
      "[Parallel(n_jobs=3)]: Using backend ThreadingBackend with 3 concurrent workers.\n",
      "[Parallel(n_jobs=3)]: Done  44 tasks      | elapsed:    0.0s\n",
      "[Parallel(n_jobs=3)]: Done 194 tasks      | elapsed:    0.0s\n",
      "[Parallel(n_jobs=3)]: Done 200 out of 200 | elapsed:    0.0s finished\n",
      "[Parallel(n_jobs=3)]: Using backend ThreadingBackend with 3 concurrent workers.\n",
      "[Parallel(n_jobs=3)]: Done  44 tasks      | elapsed:    0.0s\n",
      "[Parallel(n_jobs=3)]: Done 194 tasks      | elapsed:    0.0s\n",
      "[Parallel(n_jobs=3)]: Done 200 out of 200 | elapsed:    0.0s finished\n",
      "[Parallel(n_jobs=3)]: Using backend ThreadingBackend with 3 concurrent workers.\n",
      "[Parallel(n_jobs=3)]: Done  44 tasks      | elapsed:    0.0s\n",
      "[Parallel(n_jobs=3)]: Done 194 tasks      | elapsed:    0.0s\n",
      "[Parallel(n_jobs=3)]: Done 200 out of 200 | elapsed:    0.0s finished\n",
      "[Parallel(n_jobs=3)]: Using backend ThreadingBackend with 3 concurrent workers.\n",
      "[Parallel(n_jobs=3)]: Done  44 tasks      | elapsed:    0.0s\n",
      "[Parallel(n_jobs=3)]: Done 194 tasks      | elapsed:    0.0s\n",
      "[Parallel(n_jobs=3)]: Done 200 out of 200 | elapsed:    0.0s finished\n"
     ]
    },
    {
     "name": "stdout",
     "output_type": "stream",
     "text": [
      "116 - MultivariateRegression with avg smape 10.52: \n",
      "Model Number: 117 of 190 with model SeasonalNaive for Validation 3\n",
      "117 - SeasonalNaive with avg smape 5.69: \n",
      "Model Number: 118 of 190 with model NVAR for Validation 3\n",
      "118 - NVAR with avg smape 12.79: \n",
      "Model Number: 119 of 190 with model SeasonalNaive for Validation 3\n",
      "119 - SeasonalNaive with avg smape 10.51: \n",
      "Model Number: 120 of 190 with model SeasonalNaive for Validation 3\n",
      "120 - SeasonalNaive with avg smape 8.46: \n",
      "Model Number: 121 of 190 with model MultivariateRegression for Validation 3\n",
      "121 - MultivariateRegression with avg smape 11.73: \n",
      "Model Number: 122 of 190 with model ETS for Validation 3\n",
      "ETS error ValueError('endog must be strictly positive when usingmultiplicative trend or seasonal components.')\n",
      "ETS failed on Thousands of Passengers with ValueError('endog must be strictly positive when usingmultiplicative trend or seasonal components.')\n",
      "122 - ETS with avg smape 4.91: \n",
      "Model Number: 123 of 190 with model ARDL for Validation 3\n",
      "123 - ARDL with avg smape 11.11: \n",
      "Model Number: 124 of 190 with model ARDL for Validation 3\n",
      "124 - ARDL with avg smape 13.44: \n",
      "Model Number: 125 of 190 with model ARDL for Validation 3\n",
      "125 - ARDL with avg smape 10.69: \n",
      "Model Number: 126 of 190 with model AverageValueNaive for Validation 3\n",
      "126 - AverageValueNaive with avg smape 13.18: \n",
      "Model Number: 127 of 190 with model AverageValueNaive for Validation 3\n",
      "127 - AverageValueNaive with avg smape 13.18: \n",
      "Model Number: 128 of 190 with model ETS for Validation 3\n",
      "128 - ETS with avg smape 12.16: \n",
      "Model Number: 129 of 190 with model DatepartRegression for Validation 3\n",
      "129 - DatepartRegression with avg smape 10.88: \n",
      "Model Number: 130 of 190 with model SeasonalNaive for Validation 3\n",
      "130 - SeasonalNaive with avg smape 7.56: \n",
      "Model Number: 131 of 190 with model SeasonalNaive for Validation 3\n",
      "131 - SeasonalNaive with avg smape 6.77: \n",
      "Model Number: 132 of 190 with model ETS for Validation 3\n",
      "132 - ETS with avg smape 14.66: \n",
      "Model Number: 133 of 190 with model ETS for Validation 3\n",
      "133 - ETS with avg smape 14.66: \n",
      "Model Number: 134 of 190 with model ETS for Validation 3\n",
      "134 - ETS with avg smape 14.66: \n",
      "Model Number: 135 of 190 with model ETS for Validation 3\n",
      "135 - ETS with avg smape 14.66: \n",
      "Model Number: 136 of 190 with model MultivariateRegression for Validation 3\n"
     ]
    },
    {
     "name": "stderr",
     "output_type": "stream",
     "text": [
      "[Parallel(n_jobs=-2)]: Using backend ThreadingBackend with 3 concurrent workers.\n",
      "[Parallel(n_jobs=-2)]: Done  44 tasks      | elapsed:    0.0s\n",
      "[Parallel(n_jobs=-2)]: Done 194 tasks      | elapsed:    0.3s\n",
      "[Parallel(n_jobs=-2)]: Done 200 out of 200 | elapsed:    0.3s finished\n",
      "[Parallel(n_jobs=3)]: Using backend ThreadingBackend with 3 concurrent workers.\n",
      "[Parallel(n_jobs=3)]: Done  44 tasks      | elapsed:    0.0s\n",
      "[Parallel(n_jobs=3)]: Done 194 tasks      | elapsed:    0.0s\n",
      "[Parallel(n_jobs=3)]: Done 200 out of 200 | elapsed:    0.0s finished\n",
      "[Parallel(n_jobs=3)]: Using backend ThreadingBackend with 3 concurrent workers.\n",
      "[Parallel(n_jobs=3)]: Done  44 tasks      | elapsed:    0.0s\n",
      "[Parallel(n_jobs=3)]: Done 194 tasks      | elapsed:    0.0s\n",
      "[Parallel(n_jobs=3)]: Done 200 out of 200 | elapsed:    0.0s finished\n",
      "[Parallel(n_jobs=3)]: Using backend ThreadingBackend with 3 concurrent workers.\n",
      "[Parallel(n_jobs=3)]: Done  44 tasks      | elapsed:    0.0s\n",
      "[Parallel(n_jobs=3)]: Done 194 tasks      | elapsed:    0.0s\n",
      "[Parallel(n_jobs=3)]: Done 200 out of 200 | elapsed:    0.0s finished\n",
      "[Parallel(n_jobs=3)]: Using backend ThreadingBackend with 3 concurrent workers.\n",
      "[Parallel(n_jobs=3)]: Done  44 tasks      | elapsed:    0.0s\n",
      "[Parallel(n_jobs=3)]: Done 194 tasks      | elapsed:    0.0s\n",
      "[Parallel(n_jobs=3)]: Done 200 out of 200 | elapsed:    0.0s finished\n",
      "[Parallel(n_jobs=3)]: Using backend ThreadingBackend with 3 concurrent workers.\n",
      "[Parallel(n_jobs=3)]: Done  44 tasks      | elapsed:    0.0s\n",
      "[Parallel(n_jobs=3)]: Done 194 tasks      | elapsed:    0.0s\n",
      "[Parallel(n_jobs=3)]: Done 200 out of 200 | elapsed:    0.0s finished\n",
      "[Parallel(n_jobs=3)]: Using backend ThreadingBackend with 3 concurrent workers.\n",
      "[Parallel(n_jobs=3)]: Done  44 tasks      | elapsed:    0.0s\n",
      "[Parallel(n_jobs=3)]: Done 194 tasks      | elapsed:    0.0s\n",
      "[Parallel(n_jobs=3)]: Done 200 out of 200 | elapsed:    0.0s finished\n",
      "[Parallel(n_jobs=3)]: Using backend ThreadingBackend with 3 concurrent workers.\n",
      "[Parallel(n_jobs=3)]: Done  44 tasks      | elapsed:    0.0s\n",
      "[Parallel(n_jobs=3)]: Done 194 tasks      | elapsed:    0.0s\n",
      "[Parallel(n_jobs=3)]: Done 200 out of 200 | elapsed:    0.0s finished\n",
      "[Parallel(n_jobs=3)]: Using backend ThreadingBackend with 3 concurrent workers.\n",
      "[Parallel(n_jobs=3)]: Done  44 tasks      | elapsed:    0.0s\n",
      "[Parallel(n_jobs=3)]: Done 194 tasks      | elapsed:    0.0s\n",
      "[Parallel(n_jobs=3)]: Done 200 out of 200 | elapsed:    0.0s finished\n",
      "[Parallel(n_jobs=3)]: Using backend ThreadingBackend with 3 concurrent workers.\n",
      "[Parallel(n_jobs=3)]: Done  44 tasks      | elapsed:    0.0s\n",
      "[Parallel(n_jobs=3)]: Done 194 tasks      | elapsed:    0.0s\n",
      "[Parallel(n_jobs=3)]: Done 200 out of 200 | elapsed:    0.0s finished\n",
      "[Parallel(n_jobs=3)]: Using backend ThreadingBackend with 3 concurrent workers.\n",
      "[Parallel(n_jobs=3)]: Done  44 tasks      | elapsed:    0.0s\n",
      "[Parallel(n_jobs=3)]: Done 194 tasks      | elapsed:    0.0s\n",
      "[Parallel(n_jobs=3)]: Done 200 out of 200 | elapsed:    0.0s finished\n",
      "[Parallel(n_jobs=3)]: Using backend ThreadingBackend with 3 concurrent workers.\n",
      "[Parallel(n_jobs=3)]: Done  44 tasks      | elapsed:    0.0s\n",
      "[Parallel(n_jobs=3)]: Done 194 tasks      | elapsed:    0.0s\n",
      "[Parallel(n_jobs=3)]: Done 200 out of 200 | elapsed:    0.0s finished\n",
      "[Parallel(n_jobs=3)]: Using backend ThreadingBackend with 3 concurrent workers.\n",
      "[Parallel(n_jobs=3)]: Done  44 tasks      | elapsed:    0.0s\n",
      "[Parallel(n_jobs=3)]: Done 194 tasks      | elapsed:    0.0s\n",
      "[Parallel(n_jobs=3)]: Done 200 out of 200 | elapsed:    0.0s finished\n"
     ]
    },
    {
     "name": "stdout",
     "output_type": "stream",
     "text": [
      "136 - MultivariateRegression with avg smape 12.39: \n",
      "Model Number: 137 of 190 with model MultivariateRegression for Validation 3\n"
     ]
    },
    {
     "name": "stderr",
     "output_type": "stream",
     "text": [
      "[Parallel(n_jobs=-2)]: Using backend ThreadingBackend with 3 concurrent workers.\n",
      "[Parallel(n_jobs=-2)]: Done  44 tasks      | elapsed:    0.0s\n",
      "[Parallel(n_jobs=-2)]: Done 194 tasks      | elapsed:    0.3s\n",
      "[Parallel(n_jobs=-2)]: Done 200 out of 200 | elapsed:    0.3s finished\n",
      "[Parallel(n_jobs=3)]: Using backend ThreadingBackend with 3 concurrent workers.\n",
      "[Parallel(n_jobs=3)]: Done  44 tasks      | elapsed:    0.0s\n",
      "[Parallel(n_jobs=3)]: Done 194 tasks      | elapsed:    0.0s\n",
      "[Parallel(n_jobs=3)]: Done 200 out of 200 | elapsed:    0.0s finished\n",
      "[Parallel(n_jobs=3)]: Using backend ThreadingBackend with 3 concurrent workers.\n",
      "[Parallel(n_jobs=3)]: Done  44 tasks      | elapsed:    0.0s\n",
      "[Parallel(n_jobs=3)]: Done 194 tasks      | elapsed:    0.0s\n",
      "[Parallel(n_jobs=3)]: Done 200 out of 200 | elapsed:    0.0s finished\n",
      "[Parallel(n_jobs=3)]: Using backend ThreadingBackend with 3 concurrent workers.\n",
      "[Parallel(n_jobs=3)]: Done  44 tasks      | elapsed:    0.0s\n",
      "[Parallel(n_jobs=3)]: Done 194 tasks      | elapsed:    0.0s\n",
      "[Parallel(n_jobs=3)]: Done 200 out of 200 | elapsed:    0.0s finished\n",
      "[Parallel(n_jobs=3)]: Using backend ThreadingBackend with 3 concurrent workers.\n",
      "[Parallel(n_jobs=3)]: Done  44 tasks      | elapsed:    0.0s\n",
      "[Parallel(n_jobs=3)]: Done 194 tasks      | elapsed:    0.0s\n",
      "[Parallel(n_jobs=3)]: Done 200 out of 200 | elapsed:    0.0s finished\n",
      "[Parallel(n_jobs=3)]: Using backend ThreadingBackend with 3 concurrent workers.\n",
      "[Parallel(n_jobs=3)]: Done  44 tasks      | elapsed:    0.0s\n",
      "[Parallel(n_jobs=3)]: Done 194 tasks      | elapsed:    0.0s\n",
      "[Parallel(n_jobs=3)]: Done 200 out of 200 | elapsed:    0.0s finished\n",
      "[Parallel(n_jobs=3)]: Using backend ThreadingBackend with 3 concurrent workers.\n",
      "[Parallel(n_jobs=3)]: Done  44 tasks      | elapsed:    0.0s\n",
      "[Parallel(n_jobs=3)]: Done 194 tasks      | elapsed:    0.0s\n",
      "[Parallel(n_jobs=3)]: Done 200 out of 200 | elapsed:    0.0s finished\n",
      "[Parallel(n_jobs=3)]: Using backend ThreadingBackend with 3 concurrent workers.\n",
      "[Parallel(n_jobs=3)]: Done  44 tasks      | elapsed:    0.0s\n",
      "[Parallel(n_jobs=3)]: Done 194 tasks      | elapsed:    0.0s\n",
      "[Parallel(n_jobs=3)]: Done 200 out of 200 | elapsed:    0.0s finished\n",
      "[Parallel(n_jobs=3)]: Using backend ThreadingBackend with 3 concurrent workers.\n",
      "[Parallel(n_jobs=3)]: Done  44 tasks      | elapsed:    0.0s\n",
      "[Parallel(n_jobs=3)]: Done 194 tasks      | elapsed:    0.0s\n",
      "[Parallel(n_jobs=3)]: Done 200 out of 200 | elapsed:    0.0s finished\n",
      "[Parallel(n_jobs=3)]: Using backend ThreadingBackend with 3 concurrent workers.\n",
      "[Parallel(n_jobs=3)]: Done  44 tasks      | elapsed:    0.0s\n",
      "[Parallel(n_jobs=3)]: Done 194 tasks      | elapsed:    0.0s\n",
      "[Parallel(n_jobs=3)]: Done 200 out of 200 | elapsed:    0.0s finished\n",
      "[Parallel(n_jobs=3)]: Using backend ThreadingBackend with 3 concurrent workers.\n",
      "[Parallel(n_jobs=3)]: Done  44 tasks      | elapsed:    0.0s\n",
      "[Parallel(n_jobs=3)]: Done 194 tasks      | elapsed:    0.0s\n",
      "[Parallel(n_jobs=3)]: Done 200 out of 200 | elapsed:    0.0s finished\n",
      "[Parallel(n_jobs=3)]: Using backend ThreadingBackend with 3 concurrent workers.\n",
      "[Parallel(n_jobs=3)]: Done  44 tasks      | elapsed:    0.0s\n",
      "[Parallel(n_jobs=3)]: Done 194 tasks      | elapsed:    0.0s\n",
      "[Parallel(n_jobs=3)]: Done 200 out of 200 | elapsed:    0.0s finished\n",
      "[Parallel(n_jobs=3)]: Using backend ThreadingBackend with 3 concurrent workers.\n"
     ]
    },
    {
     "name": "stdout",
     "output_type": "stream",
     "text": [
      "137 - MultivariateRegression with avg smape 11.28: \n",
      "Model Number: 138 of 190 with model SectionalMotif for Validation 3\n"
     ]
    },
    {
     "name": "stderr",
     "output_type": "stream",
     "text": [
      "[Parallel(n_jobs=3)]: Done  44 tasks      | elapsed:    0.0s\n",
      "[Parallel(n_jobs=3)]: Done 194 tasks      | elapsed:    0.0s\n",
      "[Parallel(n_jobs=3)]: Done 200 out of 200 | elapsed:    0.0s finished\n"
     ]
    },
    {
     "name": "stdout",
     "output_type": "stream",
     "text": [
      "138 - SectionalMotif with avg smape 15.12: \n",
      "Model Number: 139 of 190 with model UnobservedComponents for Validation 3\n",
      "139 - UnobservedComponents with avg smape 11.43: \n",
      "Model Number: 140 of 190 with model AverageValueNaive for Validation 3\n",
      "140 - AverageValueNaive with avg smape 11.49: \n",
      "Model Number: 141 of 190 with model AverageValueNaive for Validation 3\n",
      "141 - AverageValueNaive with avg smape 11.49: \n",
      "Model Number: 142 of 190 with model ARDL for Validation 3\n",
      "142 - ARDL with avg smape 11.81: \n",
      "Model Number: 143 of 190 with model ETS for Validation 3\n",
      "143 - ETS with avg smape 15.35: \n",
      "Model Number: 144 of 190 with model AverageValueNaive for Validation 3\n",
      "144 - AverageValueNaive with avg smape 11.49: \n",
      "Model Number: 145 of 190 with model UnobservedComponents for Validation 3\n",
      "145 - UnobservedComponents with avg smape 12.32: \n",
      "Model Number: 146 of 190 with model UnobservedComponents for Validation 3\n",
      "146 - UnobservedComponents with avg smape 12.32: \n",
      "Model Number: 147 of 190 with model AverageValueNaive for Validation 3\n",
      "No anomalies detected.\n",
      "147 - AverageValueNaive with avg smape 22.84: \n",
      "Model Number: 148 of 190 with model UnobservedComponents for Validation 3\n",
      "148 - UnobservedComponents with avg smape 12.37: \n",
      "Model Number: 149 of 190 with model UnobservedComponents for Validation 3\n",
      "149 - UnobservedComponents with avg smape 12.37: \n",
      "Model Number: 150 of 190 with model ARDL for Validation 3\n",
      "150 - ARDL with avg smape 12.49: \n",
      "Model Number: 151 of 190 with model ARDL for Validation 3\n",
      "151 - ARDL with avg smape 12.48: \n",
      "Model Number: 152 of 190 with model GLS for Validation 3\n",
      "152 - GLS with avg smape 12.27: \n",
      "Model Number: 153 of 190 with model ARDL for Validation 3\n",
      "153 - ARDL with avg smape 12.58: \n",
      "Model Number: 154 of 190 with model UnobservedComponents for Validation 3\n",
      "154 - UnobservedComponents with avg smape 13.01: \n",
      "Model Number: 155 of 190 with model UnobservedComponents for Validation 3\n",
      "155 - UnobservedComponents with avg smape 13.01: \n",
      "Model Number: 156 of 190 with model UnobservedComponents for Validation 3\n",
      "156 - UnobservedComponents with avg smape 12.33: \n",
      "Model Number: 157 of 190 with model UnobservedComponents for Validation 3\n",
      "157 - UnobservedComponents with avg smape 17.24: \n",
      "Model Number: 158 of 190 with model LastValueNaive for Validation 3\n",
      "158 - LastValueNaive with avg smape 12.1: \n",
      "Model Number: 159 of 190 with model FBProphet for Validation 3\n"
     ]
    },
    {
     "name": "stderr",
     "output_type": "stream",
     "text": [
      "23:19:55 - cmdstanpy - INFO - Chain [1] start processing\n",
      "23:19:56 - cmdstanpy - INFO - Chain [1] done processing\n"
     ]
    },
    {
     "name": "stdout",
     "output_type": "stream",
     "text": [
      "159 - FBProphet with avg smape 17.54: \n",
      "Model Number: 160 of 190 with model LastValueNaive for Validation 3\n",
      "160 - LastValueNaive with avg smape 12.1: \n",
      "Model Number: 161 of 190 with model LastValueNaive for Validation 3\n",
      "161 - LastValueNaive with avg smape 12.1: \n",
      "Model Number: 162 of 190 with model LastValueNaive for Validation 3\n",
      "162 - LastValueNaive with avg smape 12.1: \n",
      "Model Number: 163 of 190 with model AverageValueNaive for Validation 3\n",
      "163 - AverageValueNaive with avg smape 11.59: \n",
      "Model Number: 164 of 190 with model ARDL for Validation 3\n",
      "164 - ARDL with avg smape 12.98: \n",
      "Model Number: 165 of 190 with model LastValueNaive for Validation 3\n",
      "165 - LastValueNaive with avg smape 13.5: \n",
      "Model Number: 166 of 190 with model AverageValueNaive for Validation 3\n",
      "166 - AverageValueNaive with avg smape 11.81: \n",
      "Model Number: 167 of 190 with model GLS for Validation 3\n"
     ]
    },
    {
     "name": "stderr",
     "output_type": "stream",
     "text": [
      "c:\\Python310\\lib\\site-packages\\sklearn\\neural_network\\_multilayer_perceptron.py:692: ConvergenceWarning: Stochastic Optimizer: Maximum iterations (1000) reached and the optimization hasn't converged yet.\n",
      "  warnings.warn(\n"
     ]
    },
    {
     "name": "stdout",
     "output_type": "stream",
     "text": [
      "167 - GLS with avg smape 13.81: \n",
      "Model Number: 168 of 190 with model FBProphet for Validation 3\n"
     ]
    },
    {
     "name": "stderr",
     "output_type": "stream",
     "text": [
      "23:19:59 - cmdstanpy - INFO - Chain [1] start processing\n",
      "23:20:00 - cmdstanpy - INFO - Chain [1] done processing\n"
     ]
    },
    {
     "name": "stdout",
     "output_type": "stream",
     "text": [
      "168 - FBProphet with avg smape 17.53: \n",
      "Model Number: 169 of 190 with model AverageValueNaive for Validation 3\n",
      "169 - AverageValueNaive with avg smape 11.65: \n",
      "Model Number: 170 of 190 with model ARDL for Validation 3\n",
      "170 - ARDL with avg smape 14.62: \n",
      "Model Number: 171 of 190 with model LastValueNaive for Validation 3\n",
      "171 - LastValueNaive with avg smape 12.89: \n",
      "Model Number: 172 of 190 with model GLS for Validation 3\n",
      "172 - GLS with avg smape 15.01: \n",
      "Model Number: 173 of 190 with model LastValueNaive for Validation 3\n",
      "173 - LastValueNaive with avg smape 15.47: \n",
      "Model Number: 174 of 190 with model LastValueNaive for Validation 3\n",
      "174 - LastValueNaive with avg smape 14.52: \n",
      "Model Number: 175 of 190 with model ConstantNaive for Validation 3\n",
      "175 - ConstantNaive with avg smape 12.52: \n",
      "Model Number: 176 of 190 with model FBProphet for Validation 3\n"
     ]
    },
    {
     "name": "stderr",
     "output_type": "stream",
     "text": [
      "23:20:03 - cmdstanpy - INFO - Chain [1] start processing\n",
      "23:20:04 - cmdstanpy - INFO - Chain [1] done processing\n"
     ]
    },
    {
     "name": "stdout",
     "output_type": "stream",
     "text": [
      "176 - FBProphet with avg smape 39.64: \n",
      "Model Number: 177 of 190 with model ConstantNaive for Validation 3\n",
      "177 - ConstantNaive with avg smape 13.13: \n",
      "Model Number: 178 of 190 with model LastValueNaive for Validation 3\n",
      "178 - LastValueNaive with avg smape 17.2: \n",
      "Model Number: 179 of 190 with model FBProphet for Validation 3\n"
     ]
    },
    {
     "name": "stderr",
     "output_type": "stream",
     "text": [
      "23:20:06 - cmdstanpy - INFO - Chain [1] start processing\n",
      "23:20:06 - cmdstanpy - INFO - Chain [1] done processing\n"
     ]
    },
    {
     "name": "stdout",
     "output_type": "stream",
     "text": [
      "179 - FBProphet with avg smape 15.38: \n",
      "Model Number: 180 of 190 with model FBProphet for Validation 3\n"
     ]
    },
    {
     "name": "stderr",
     "output_type": "stream",
     "text": [
      "23:20:07 - cmdstanpy - INFO - Chain [1] start processing\n",
      "23:20:08 - cmdstanpy - INFO - Chain [1] done processing\n"
     ]
    },
    {
     "name": "stdout",
     "output_type": "stream",
     "text": [
      "180 - FBProphet with avg smape 14.47: \n",
      "Model Number: 181 of 190 with model ConstantNaive for Validation 3\n",
      "181 - ConstantNaive with avg smape 12.22: \n",
      "Model Number: 182 of 190 with model GLS for Validation 3\n",
      "182 - GLS with avg smape 15.21: \n",
      "Model Number: 183 of 190 with model GLS for Validation 3\n",
      "183 - GLS with avg smape 19.4: \n",
      "Model Number: 184 of 190 with model FBProphet for Validation 3\n"
     ]
    },
    {
     "name": "stderr",
     "output_type": "stream",
     "text": [
      "23:20:10 - cmdstanpy - INFO - Chain [1] start processing\n",
      "23:20:11 - cmdstanpy - INFO - Chain [1] done processing\n"
     ]
    },
    {
     "name": "stdout",
     "output_type": "stream",
     "text": [
      "184 - FBProphet with avg smape 38.09: \n",
      "Model Number: 185 of 190 with model GLS for Validation 3\n",
      "185 - GLS with avg smape 15.56: \n",
      "Model Number: 186 of 190 with model FBProphet for Validation 3\n",
      "No anomalies detected.\n"
     ]
    },
    {
     "name": "stderr",
     "output_type": "stream",
     "text": [
      "23:20:12 - cmdstanpy - INFO - Chain [1] start processing\n",
      "23:20:13 - cmdstanpy - INFO - Chain [1] done processing\n"
     ]
    },
    {
     "name": "stdout",
     "output_type": "stream",
     "text": [
      "186 - FBProphet with avg smape 35.72: \n",
      "Model Number: 187 of 190 with model GLS for Validation 3\n",
      "187 - GLS with avg smape 18.58: \n",
      "Model Number: 188 of 190 with model GLS for Validation 3\n",
      "188 - GLS with avg smape 16.08: \n",
      "Model Number: 189 of 190 with model FBProphet for Validation 3\n"
     ]
    },
    {
     "name": "stderr",
     "output_type": "stream",
     "text": [
      "23:20:14 - cmdstanpy - INFO - Chain [1] start processing\n",
      "23:20:16 - cmdstanpy - INFO - Chain [1] done processing\n"
     ]
    },
    {
     "name": "stdout",
     "output_type": "stream",
     "text": [
      "189 - FBProphet with avg smape 96.81: \n",
      "Model Number: 190 of 190 with model FBProphet for Validation 3\n"
     ]
    },
    {
     "name": "stderr",
     "output_type": "stream",
     "text": [
      "23:20:17 - cmdstanpy - INFO - Chain [1] start processing\n",
      "23:20:20 - cmdstanpy - INFO - Chain [1] done processing\n"
     ]
    },
    {
     "name": "stdout",
     "output_type": "stream",
     "text": [
      "190 - FBProphet with avg smape 96.81: \n"
     ]
    },
    {
     "name": "stderr",
     "output_type": "stream",
     "text": [
      "c:\\Python310\\lib\\site-packages\\autots\\evaluator\\auto_model.py:939: FutureWarning: iteritems is deprecated and will be removed in a future version. Use .items instead.\n",
      "  for index, value in models_to_iterate.iteritems():\n",
      "c:\\Python310\\lib\\site-packages\\sklearn\\svm\\_base.py:1206: ConvergenceWarning: Liblinear failed to converge, increase the number of iterations.\n",
      "  warnings.warn(\n"
     ]
    }
   ],
   "source": [
    "model = AutoTS(forecast_length=12, frequency='infer', ensemble='simple')\n",
    "model = model.fit(df, date_col='Month', value_col='Thousands of Passengers', id_col=None)\n",
    "prediction = model.predict()"
   ]
  },
  {
   "cell_type": "code",
   "execution_count": 11,
   "metadata": {},
   "outputs": [
    {
     "name": "stdout",
     "output_type": "stream",
     "text": [
      "            Thousands of Passengers\n",
      "1961-01-01               432.140857\n",
      "1961-02-01               423.019339\n",
      "1961-03-01               465.278884\n",
      "1961-04-01               488.811321\n",
      "1961-05-01               507.964996\n",
      "1961-06-01               568.764695\n",
      "1961-07-01               653.587039\n",
      "1961-08-01               636.566538\n",
      "1961-09-01               560.472789\n",
      "1961-10-01               504.326098\n",
      "1961-11-01               444.827584\n",
      "1961-12-01               476.146196\n"
     ]
    }
   ],
   "source": [
    "forecast = prediction.forecast\n",
    "print(forecast)"
   ]
  },
  {
   "cell_type": "code",
   "execution_count": 13,
   "metadata": {},
   "outputs": [
    {
     "data": {
      "text/html": [
       "<div>\n",
       "<style scoped>\n",
       "    .dataframe tbody tr th:only-of-type {\n",
       "        vertical-align: middle;\n",
       "    }\n",
       "\n",
       "    .dataframe tbody tr th {\n",
       "        vertical-align: top;\n",
       "    }\n",
       "\n",
       "    .dataframe thead th {\n",
       "        text-align: right;\n",
       "    }\n",
       "</style>\n",
       "<table border=\"1\" class=\"dataframe\">\n",
       "  <thead>\n",
       "    <tr style=\"text-align: right;\">\n",
       "      <th></th>\n",
       "      <th>Month</th>\n",
       "      <th>Thousands of Passengers</th>\n",
       "    </tr>\n",
       "  </thead>\n",
       "  <tbody>\n",
       "    <tr>\n",
       "      <th>0</th>\n",
       "      <td>1949-01-01</td>\n",
       "      <td>112.0</td>\n",
       "    </tr>\n",
       "    <tr>\n",
       "      <th>1</th>\n",
       "      <td>1949-02-01</td>\n",
       "      <td>118.0</td>\n",
       "    </tr>\n",
       "    <tr>\n",
       "      <th>2</th>\n",
       "      <td>1949-03-01</td>\n",
       "      <td>132.0</td>\n",
       "    </tr>\n",
       "    <tr>\n",
       "      <th>3</th>\n",
       "      <td>1949-04-01</td>\n",
       "      <td>129.0</td>\n",
       "    </tr>\n",
       "    <tr>\n",
       "      <th>4</th>\n",
       "      <td>1949-05-01</td>\n",
       "      <td>121.0</td>\n",
       "    </tr>\n",
       "    <tr>\n",
       "      <th>...</th>\n",
       "      <td>...</td>\n",
       "      <td>...</td>\n",
       "    </tr>\n",
       "    <tr>\n",
       "      <th>139</th>\n",
       "      <td>1960-08-01</td>\n",
       "      <td>606.0</td>\n",
       "    </tr>\n",
       "    <tr>\n",
       "      <th>140</th>\n",
       "      <td>1960-09-01</td>\n",
       "      <td>508.0</td>\n",
       "    </tr>\n",
       "    <tr>\n",
       "      <th>141</th>\n",
       "      <td>1960-10-01</td>\n",
       "      <td>461.0</td>\n",
       "    </tr>\n",
       "    <tr>\n",
       "      <th>142</th>\n",
       "      <td>1960-11-01</td>\n",
       "      <td>390.0</td>\n",
       "    </tr>\n",
       "    <tr>\n",
       "      <th>143</th>\n",
       "      <td>1960-12-01</td>\n",
       "      <td>432.0</td>\n",
       "    </tr>\n",
       "  </tbody>\n",
       "</table>\n",
       "<p>144 rows × 2 columns</p>\n",
       "</div>"
      ],
      "text/plain": [
       "         Month  Thousands of Passengers\n",
       "0   1949-01-01                    112.0\n",
       "1   1949-02-01                    118.0\n",
       "2   1949-03-01                    132.0\n",
       "3   1949-04-01                    129.0\n",
       "4   1949-05-01                    121.0\n",
       "..         ...                      ...\n",
       "139 1960-08-01                    606.0\n",
       "140 1960-09-01                    508.0\n",
       "141 1960-10-01                    461.0\n",
       "142 1960-11-01                    390.0\n",
       "143 1960-12-01                    432.0\n",
       "\n",
       "[144 rows x 2 columns]"
      ]
     },
     "execution_count": 13,
     "metadata": {},
     "output_type": "execute_result"
    }
   ],
   "source": [
    "df"
   ]
  },
  {
   "cell_type": "code",
   "execution_count": 12,
   "metadata": {},
   "outputs": [
    {
     "data": {
      "text/plain": [
       "<AxesSubplot:>"
      ]
     },
     "execution_count": 12,
     "metadata": {},
     "output_type": "execute_result"
    },
    {
     "data": {
      "image/png": "[encoded data removed]",
      "text/plain": [
       "<Figure size 432x288 with 1 Axes>"
      ]
     },
     "metadata": {
      "needs_background": "light"
     },
     "output_type": "display_data"
    }
   ],
   "source": [
    "forecast.plot()"
   ]
  },
  {
   "cell_type": "code",
   "execution_count": null,
   "metadata": {},
   "outputs": [],
   "source": []
  }
 ],
 "metadata": {
  "kernelspec": {
   "display_name": "Python 3",
   "language": "python",
   "name": "python3"
  },
  "language_info": {
   "codemirror_mode": {
    "name": "ipython",
    "version": 3
   },
   "file_extension": ".py",
   "mimetype": "text/x-python",
   "name": "python",
   "nbconvert_exporter": "python",
   "pygments_lexer": "ipython3",
   "version": "3.10.0"
  },
  "orig_nbformat": 4,
  "vscode": {
   "interpreter": {
    "hash": "369f2c481f4da34e4445cda3fffd2e751bd1c4d706f27375911949ba6bb62e1c"
   }
  }
 },
 "nbformat": 4,
 "nbformat_minor": 2
}
